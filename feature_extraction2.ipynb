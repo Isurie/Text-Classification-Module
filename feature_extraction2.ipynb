{
  "nbformat": 4,
  "nbformat_minor": 0,
  "metadata": {
    "colab": {
      "name": "feature extraction2.ipynb",
      "provenance": [],
      "collapsed_sections": []
    },
    "kernelspec": {
      "display_name": "Python 3",
      "name": "python3"
    },
    "language_info": {
      "name": "python"
    }
  },
  "cells": [
    {
      "cell_type": "code",
      "metadata": {
        "id": "5aWWx6MaOY4B"
      },
      "source": [
        "pip install sinling"
      ],
      "execution_count": null,
      "outputs": []
    },
    {
      "cell_type": "code",
      "metadata": {
        "id": "ePq8Lmd3QJJY"
      },
      "source": [
        "from sklearn import model_selection, preprocessing, linear_model, naive_bayes, metrics, svm\n",
        "from sklearn.feature_extraction.text import TfidfVectorizer, CountVectorizer\n",
        "from sklearn import decomposition, ensemble\n",
        "\n",
        "import pandas, xgboost, numpy, textblob, string\n",
        "from keras.preprocessing import text, sequence\n",
        "from keras import layers, models, optimizers\n",
        "\n",
        "import nltk\n",
        "nltk.download('punkt')\n",
        "nltk.download('averaged_perceptron_tagger')"
      ],
      "execution_count": null,
      "outputs": []
    },
    {
      "cell_type": "code",
      "metadata": {
        "id": "2AA0ea6X7RkC"
      },
      "source": [
        "import pandas as pd\n",
        "import numpy as np\n",
        "import torch\n",
        "import re\n",
        "import tqdm\n",
        "from matplotlib._path import (affine_transform, count_bboxes_overlapping_bbox,\n",
        "     update_path_extents)\n",
        "\n",
        "from gensim.models import Word2Vec\n",
        "from nltk import word_tokenize, pos_tag, pos_tag_sents\n",
        "\n",
        "from sklearn.model_selection import train_test_split\n",
        "\n",
        "import matplotlib.pyplot as plt\n",
        "from sklearn.neighbors import KNeighborsClassifier"
      ],
      "execution_count": null,
      "outputs": []
    },
    {
      "cell_type": "code",
      "metadata": {
        "colab": {
          "resources": {
            "http://localhost:8080/nbextensions/google.colab/files.js": {
              "data": "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",
              "ok": true,
              "headers": [
                [
                  "content-type",
                  "application/javascript"
                ]
              ],
              "status": 200,
              "status_text": ""
            }
          },
          "base_uri": "https://localhost:8080/",
          "height": 73
        },
        "id": "fzrZPvChRUVe",
        "outputId": "2a7bf47e-8501-4ff2-dbe8-099c9f2eed7e"
      },
      "source": [
        "from google.colab import files\n",
        "uploaded = files.upload()"
      ],
      "execution_count": null,
      "outputs": [
        {
          "output_type": "display_data",
          "data": {
            "text/html": [
              "\n",
              "     <input type=\"file\" id=\"files-0a5a66af-264b-4c79-ba4e-74a22e4ca671\" name=\"files[]\" multiple disabled\n",
              "        style=\"border:none\" />\n",
              "     <output id=\"result-0a5a66af-264b-4c79-ba4e-74a22e4ca671\">\n",
              "      Upload widget is only available when the cell has been executed in the\n",
              "      current browser session. Please rerun this cell to enable.\n",
              "      </output>\n",
              "      <script src=\"/nbextensions/google.colab/files.js\"></script> "
            ],
            "text/plain": [
              "<IPython.core.display.HTML object>"
            ]
          },
          "metadata": {
            "tags": []
          }
        },
        {
          "output_type": "stream",
          "text": [
            "Saving cleaned data-2.csv to cleaned data-2.csv\n"
          ],
          "name": "stdout"
        }
      ]
    },
    {
      "cell_type": "code",
      "metadata": {
        "colab": {
          "base_uri": "https://localhost:8080/"
        },
        "id": "SvkshPtJENru",
        "outputId": "daea7096-6701-4f28-baf4-48d66fd9d1ec"
      },
      "source": [
        "df = pandas.read_csv('testdata-domains-balanced.csv')\n",
        "print(df.head(11))"
      ],
      "execution_count": null,
      "outputs": [
        {
          "output_type": "stream",
          "text": [
            "                                                                                                                                                                                                            Text  ...                                                                                                                     Filtered_sentence\n",
            "0                                                                                          SriLankanPolitics පෙනි පෙනී සිදුවන විකිණිම සහ මිලට ගැනීම හමුවේ හුරේ දාන මොඩ ඡන්ද දායකයන් දුටුවිට  අහෝ අප සිරබත් කෑවේ…  ...                                     ෂ්‍රී ලංකන් දේෂපාලන පෙ පෙන සිදුව විකිනි මිල ගැනී හම හුර දාන මොඩ චන් දායක දුටුවි අහෝ අප සිරබ කෑවේ…\n",
            "1                                                                                                              lanka C news  රනිල් අගමැති කරන්න යෝජනාවක් පාර්ලිමේන්තුවට  වැනිදා ඡන්ද විමසීමක් දෙමල සන්ධානයත් පක   ...                                                                      රනිල අගමැ කර යෝජනාව පාර්ලිමේන්තුව වැනිද චන් විමසීම දෙම සන්ධාන පක\n",
            "2                                                                                                                                             Jvp එක උගුරට හොරා බෙහෙත් බොනවjvp කරන්න ඕන ඒව රන්ජන් තනියම ගේම ගහනව  ...                                                                                      එක උගුර හොර බෙහෙ බොනව කර ඔන එව රන්ජ තනිය ගේම ගහන\n",
            "3                                                                                Gotabaya Rajapaksa ජනාධිපතිතුමණි ඔබතුමා රටක් පාලනය කරන්න තියා ගමේ මරණාධාර සමිතියේ සභාපතිකමටවත් සුදුසු නෑ කියලා ඔප්පු කරලා ඉවරයි  ...                                                    ජනාධිපතිතුමනි ඔබතුම රට පාලන කර ති ගමේ මරනාධාර සමිති සබාපතිකමට සුදුස කිය ඔප් කර ඉවර\n",
            "4   Gayani Manjula Wedage දන්න තරමින් අක්කා දේශපාලකයන්ට කඩේ යන එක එකාගේ හොර අඹුවක් නෙවෙයි මෙහෙම පේජ් කරන මිනිස්සුන්ට අපහාස කරන අය වෙනුවෙන් ගන්න පුළුවන් හොදම පියවර ගන්න අක්කේ මොකද මේක පුංචි අපහාසයක් නම් නෙවෙයි  ...     ද තර අක් දේෂපාලකයන් කඩේ එක එක හොර අබුව නෙවෙ මෙහෙ පේජ කරන මිනිස්සුන් අපහාස කරන අය ග පුලු හොද පියවර ග අක් මොක මේක පුංචි අපහාසය නෙවෙ\n",
            "5                                                                                                                                                                       😂 වැඩකොලනඅපේවිලුවා 😂මව්බිමටහෙමින්කෙලිනා😂  ...                                                                                                 😂 වැඩකොලනඅපේවිල 😂මව්බිමටහෙමින්කෙලිනා😂\n",
            "6                                                                                                                      BBC News සිංහල  ශ්‍රී ලංකාවේ දේශපාලන අර්බුදය සති හයක් ඉක්මවා ගිය අර්බුදයේ සුවිශේෂ අවස්ථා   ...                                                                           සිංහ ලංක දේෂපාල අර්බුද සති හය ඉක්ම ගිය අර්බුද සුවිෂේෂ අවස්ථ\n",
            "7                                                                                                                   BBC News සිංහල  ශ්‍රී ලංකාවේ දේශපාලන අර්බුදය විසඳීමට ජනපති දුන් සහතික කාලය තව දිනකින් අවසන්   ...                                                                                 සිංහ ලංක දේෂපාල අර්බුද විසදීම ජනප ද සහතික කාල දින අවස\n",
            "8                                                                                     BBC News සිංහල  ශ්‍රී ලංකාවේ දේශපාලන අර්බුදය ජනපති මෛත්‍රීපාල සිරිසේනගේ මානසික සෞඛ්‍යය ගැන අභියාචනාධිකරණයට පෙත්සමක් https…  ...                                                    සිංහ ලංක දේෂපාල අර්බුද ජනප මෛත්‍රීපා සිරිසේන මානසික සෞක්‍ය අබියාචනාධිකරනය පෙත්සම …\n",
            "9                                                                                           BBC News සිංහල  ශ්‍රී ලංකාවේ දේශපාලන අර්බුදය ජනපති මෛත්‍රීපාල සිරිසේනගේ මානසික සෞඛ්‍යය ගැන අභියාචනාධිකරණයට පෙත්සමක්   ...                                                      සිංහ ලංක දේෂපාල අර්බුද ජනප මෛත්‍රීපා සිරිසේන මානසික සෞක්‍ය අබියාචනාධිකරනය පෙත්සම\n",
            "10                                                                                                                සහරානුත් සැහැල්ලු ගුවන් යානාවලින් අත්හදා බැලීම් කළා 🤣🤣🤣 ආරක්ෂාව කියන දේ බලන්න ඕන ඔක්කොටම කලින්  ...                                                                සහරානු සැහැල්ල ගු යානා අත්හද බැල කලා 🤣🤣🤣 අරක්ෂා කිය දේ බල ඔන ඔක්කොට කල\n",
            "\n",
            "[11 rows x 3 columns]\n"
          ],
          "name": "stdout"
        }
      ]
    },
    {
      "cell_type": "code",
      "metadata": {
        "colab": {
          "base_uri": "https://localhost:8080/"
        },
        "id": "ElKdJT0wEWCB",
        "outputId": "86bd3a34-590e-4375-b7bd-48a744a9ed31"
      },
      "source": [
        "df.groupby('Class')['Text'].nunique()"
      ],
      "execution_count": null,
      "outputs": [
        {
          "output_type": "execute_result",
          "data": {
            "text/plain": [
              "Class\n",
              "Neutral      150\n",
              "Political    146\n",
              "Racist       149\n",
              "Religion     150\n",
              "Sexism       149\n",
              "sports       150\n",
              "Name: Text, dtype: int64"
            ]
          },
          "metadata": {
            "tags": []
          },
          "execution_count": 61
        }
      ]
    },
    {
      "cell_type": "code",
      "metadata": {
        "id": "WlE8tAggGCVF"
      },
      "source": [
        "def clean_data(dataframe):\n",
        "    # Drop duplicate rows\n",
        "    dataframe.drop_duplicates(subset='Text', inplace=True)\n",
        "\n",
        "clean_data(df)\n",
        "df.to_csv('testdata-domains.csv')"
      ],
      "execution_count": null,
      "outputs": []
    },
    {
      "cell_type": "markdown",
      "metadata": {
        "id": "7bwaNV3QSkre"
      },
      "source": [
        "**1. Dataset preparation**"
      ]
    },
    {
      "cell_type": "code",
      "metadata": {
        "colab": {
          "base_uri": "https://localhost:8080/"
        },
        "id": "b_jOr0lg9p8G",
        "outputId": "eb141c85-8b4f-432e-e827-6ac0cd0d8829"
      },
      "source": [
        "df = pandas.read_csv('cleaned data-2.csv')\n",
        "print(df.head(11))\n"
      ],
      "execution_count": null,
      "outputs": [
        {
          "output_type": "stream",
          "text": [
            "    Id  ...                                  Filtered_sentence\n",
            "0    0  ...  දින එකාබද්ධ විපක්ෂ මාධ්‍ ලේක රේනුක පෙරේර මහත න...\n",
            "1    1  ...  මා එක්සත් ජාතික පක්ෂ එකාබද්ධ විපක්ෂ පවති කිසි ...\n",
            "2    2  ...               කිම තර කොහේද විද ගල උරන මා මිතුර පරය\n",
            "3    3  ...               එහෙ කොහොම උනේ 😂😂 පරය අපි අය කරල නේ 😂\n",
            "4    4  ...   විමල ගොන වගෙ  එකෙ මෑරෙ හද පරය රටට වෑඩ කර යකො හොර\n",
            "5    5  ...  ලැජ්ජ ස⁣හෝදර විදිහ දැක්කා ඔබ කුලල්කෑ වාසි ග තම...\n",
            "6    6  ...  ලැජ්ජ ස⁣හෝදර විදිහ දැක්කා ඔබ කුලල්කෑ වාසි ග තම...\n",
            "7    7  ...  මං තම්බි වගේ පෙන්නෙ😏 මං බ්‍රහස්පතින්ද ගෙදර එන්...\n",
            "8    8  ...  ඉටි බං උතුර ඉල්ලනසෙට එක නැගෙනහිරපඉල්ල තම්බි සෙ...\n",
            "9    9  ...  පේනවාන තම්බි කවද ඉ උන් වාසි පැත්ත එහෙ ඉදගෙ උ ෂ...\n",
            "10  10  ...  ඉතිහාස ඉදිරි මෙ හෙලිදරවුව කිරීම අවකාෂ ද අප ප්‍...\n",
            "\n",
            "[11 rows x 4 columns]\n"
          ],
          "name": "stdout"
        }
      ]
    },
    {
      "cell_type": "code",
      "metadata": {
        "colab": {
          "base_uri": "https://localhost:8080/"
        },
        "id": "tM5GwNreSDTM",
        "outputId": "f07aae78-c679-47ca-c26a-51a89515596c"
      },
      "source": [
        "trainDF = pandas.read_csv('cleaned data-2.csv')\n",
        "print(trainDF['Filtered_sentence'].head(11))\n",
        "trainDF['Filtered_sentence']=trainDF['Filtered_sentence'].values.astype('U')\n",
        "\n",
        "# split the dataset into training and validation datasets \n",
        "train_x, valid_x, train_y, valid_y = model_selection.train_test_split(trainDF['Filtered_sentence'], trainDF['Class'])\n",
        "\n",
        "# label encode the target variable \n",
        "encoder = preprocessing.LabelEncoder()\n",
        "train_y = encoder.fit_transform(train_y)\n",
        "valid_y = encoder.fit_transform(valid_y)"
      ],
      "execution_count": null,
      "outputs": [
        {
          "output_type": "stream",
          "text": [
            "0     දින එකාබද්ධ විපක්ෂ මාධ්‍ ලේක රේනුක පෙරේර මහත න...\n",
            "1     මා එක්සත් ජාතික පක්ෂ එකාබද්ධ විපක්ෂ පවති කිසි ...\n",
            "2                  කිම තර කොහේද විද ගල උරන මා මිතුර පරය\n",
            "3                  එහෙ කොහොම උනේ 😂😂 පරය අපි අය කරල නේ 😂\n",
            "4      විමල ගොන වගෙ  එකෙ මෑරෙ හද පරය රටට වෑඩ කර යකො හොර\n",
            "5     ලැජ්ජ ස⁣හෝදර විදිහ දැක්කා ඔබ කුලල්කෑ වාසි ග තම...\n",
            "6     ලැජ්ජ ස⁣හෝදර විදිහ දැක්කා ඔබ කුලල්කෑ වාසි ග තම...\n",
            "7     මං තම්බි වගේ පෙන්නෙ😏 මං බ්‍රහස්පතින්ද ගෙදර එන්...\n",
            "8     ඉටි බං උතුර ඉල්ලනසෙට එක නැගෙනහිරපඉල්ල තම්බි සෙ...\n",
            "9     පේනවාන තම්බි කවද ඉ උන් වාසි පැත්ත එහෙ ඉදගෙ උ ෂ...\n",
            "10    ඉතිහාස ඉදිරි මෙ හෙලිදරවුව කිරීම අවකාෂ ද අප ප්‍...\n",
            "Name: Filtered_sentence, dtype: object\n"
          ],
          "name": "stdout"
        }
      ]
    },
    {
      "cell_type": "code",
      "metadata": {
        "colab": {
          "base_uri": "https://localhost:8080/"
        },
        "id": "Rcra9xn2nJn4",
        "outputId": "a316ce74-694b-4da1-f16a-134ae7ee39cf"
      },
      "source": [
        "train_x.nunique()"
      ],
      "execution_count": null,
      "outputs": [
        {
          "output_type": "execute_result",
          "data": {
            "text/plain": [
              "1242"
            ]
          },
          "metadata": {
            "tags": []
          },
          "execution_count": 12
        }
      ]
    },
    {
      "cell_type": "markdown",
      "metadata": {
        "id": "jwj4xWScSZG7"
      },
      "source": [
        "**2. Feature Engineering**"
      ]
    },
    {
      "cell_type": "markdown",
      "metadata": {
        "id": "z2GKBdOeSsA2"
      },
      "source": [
        "2.1 Count Vectors as features"
      ]
    },
    {
      "cell_type": "code",
      "metadata": {
        "id": "xyC7cbVXSoX5"
      },
      "source": [
        "# create a count vectorizer object \n",
        "count_vect = CountVectorizer(analyzer='word', token_pattern=r'\\w{1,}')\n",
        "count_vect.fit(trainDF['Filtered_sentence'])\n",
        "\n",
        "# transform the training and validation data using count vectorizer object\n",
        "xtrain_count =  count_vect.transform(train_x)\n",
        "xvalid_count =  count_vect.transform(valid_x)"
      ],
      "execution_count": null,
      "outputs": []
    },
    {
      "cell_type": "code",
      "metadata": {
        "colab": {
          "base_uri": "https://localhost:8080/"
        },
        "id": "jcJlGm1gPTGW",
        "outputId": "7381e934-b3f7-4044-fbc8-2e1231df4087"
      },
      "source": [
        "# Printing the identified Unique words along with their indices\n",
        "print(\"Vocabulary: \", count_vect.vocabulary_)\n",
        "  \n",
        "# Encode the Document\n",
        "vector = count_vect.transform(trainDF['Filtered_sentence'])\n"
      ],
      "execution_count": null,
      "outputs": [
        {
          "output_type": "stream",
          "text": [
            "Vocabulary:  {'ද': 654, 'න': 713, 'එක': 265, 'බද': 864, 'ධ': 703, 'ව': 1155, 'පක': 788, 'ෂ': 1230, 'ම': 900, 'ල': 1105, 'ක': 358, 'ර': 1032, 'ප': 787, 'මහත': 958, 'දනය': 667, 'අද': 37, 'අම': 66, 'රස': 1095, 'හ': 1323, 'කල': 434, 'ස': 1251, 'කච': 365, 'ච': 511, 'සත': 1264, 'ජ': 519, 'ත': 604, 'පවත': 838, 'චන': 515, 'දයක': 677, 'ඉද': 181, 'තර': 627, 'ගල': 479, 'උරන': 254, 'පරය': 828, 'එහ': 320, 'උන': 234, 'අප': 53, 'අය': 75, 'කරල': 431, 'මල': 946, 'ග': 454, 'වග': 1162, 'හද': 1340, 'රටට': 1054, 'ඩ': 574, 'කර': 409, 'යක': 975, 'දර': 679, 'ඔබ': 339, 'ලල': 1145, 'තම': 623, 'බ': 850, 'වහබ': 1228, 'රහස': 1102, 'පත': 801, 'එන': 294, 'එතක': 288, 'අඩව': 25, 'අල': 95, 'අවනම': 104, 'ඉට': 176, 'උත': 230, 'ඉල': 197, 'ලනස': 1132, 'ට': 552, 'නහ': 783, 'රපඉල': 1070, 'රප': 1069, 'රන': 1066, 'පර': 819, 'නව': 766, 'කවද': 442, 'ඉ': 172, 'ඉදග': 183, 'උ': 216, 'ෂර': 1246, 'ය': 970, 'ථ': 650, 'වර': 1200, 'කරගන': 413, 'ගට': 458, 'රට': 1051, 'බහ': 898, 'ඉත': 180, 'දරව': 683, 'අවක': 98, 'පස': 843, 'ඇත': 144, 'ඉස': 211, 'තව': 639, 'එ': 261, 'පල': 829, 'බල': 877, 'ගන': 466, 'අවජ': 99, 'තක': 606, 'අඩ': 22, 'කට': 368, 'වහග': 1225, 'අර': 84, 'වයසක': 1199, 'කඩ': 376, 'ඔසද': 355, 'ෆ': 1374, 'සර': 1293, 'උඩතලව': 225, 'දන': 666, 'චර': 518, 'තය': 625, 'හලය': 1367, 'ඉලම': 200, 'කයට': 408, 'ලය': 1140, 'මරක': 941, 'කරන': 419, 'කප': 396, 'ටකර': 554, 'ටට': 556, 'බරය': 875, 'නගහන': 731, 'අපර': 61, 'රල': 1085, 'ඉන': 187, 'ටර': 565, 'මය': 937, 'රහ': 1099, 'හර': 1360, 'වන': 1182, 'ඔල': 350, 'ෆය': 1378, 'එකක': 268, 'දවස': 690, 'ජයස': 544, 'සද': 1265, 'පඩය': 799, 'කඑක': 359, 'ඉබල': 191, 'වද': 1175, 'ගහන': 501, 'හම': 1355, 'ගහප': 504, 'සමහර': 1287, 'සව': 1310, 'හල': 1365, 'කන': 387, 'ෂප': 1239, 'ලන': 1129, 'අහ': 124, 'රබ': 1072, 'ඔප': 338, 'කය': 407, 'අව': 97, 'එකට': 271, 'ලස': 1151, 'මම': 933, 'අක': 3, 'රම': 1075, 'එස': 318, 'රෂ': 1094, 'උබල': 247, 'බන': 866, 'අහල': 132, 'ජම': 537, 'අන': 46, 'මග': 908, 'ගත': 460, 'සල': 1305, 'එව': 313, 'ගස': 492, 'වත': 1174, 'කමට': 403, 'ඔ': 321, 'නර': 760, 'යනව': 994, 'ලප': 1133, 'තන': 617, 'හතරප': 1337, 'එකප': 276, 'තවප': 642, 'යවල': 1020, 'ඇර': 163, 'ෂද': 1236, 'ෂයකට': 1244, 'ෂයට': 1245, 'එකත': 272, 'නරබ': 763, 'ෂයක': 1243, 'ගච': 457, 'නස': 782, 'අදරය': 42, 'අදරන': 41, 'සට': 1260, 'සගය': 1258, 'පරද': 822, 'ගහ': 494, 'නම': 749, 'සහ': 1316, 'දරය': 682, 'ලහ': 1153, 'කව': 440, 'අගසව': 16, 'තබ': 622, 'යඋබ': 973, 'අගම': 10, 'ඇදල': 151, 'ඔන': 333, 'වල': 1207, 'උර': 253, 'ටප': 560, 'උබ': 245, 'සබ': 1277, 'යවනක': 1017, 'කම': 402, 'අහන': 128, 'එද': 292, 'ගය': 474, 'සම': 1279, 'ජය': 538, 'මතය': 924, 'මහ': 954, 'අවද': 101, 'ඇව': 166, 'නනව': 742, 'අතල': 34, 'පව': 836, 'අදහස': 44, 'මට': 912, 'දග': 657, 'උබට': 246, 'නවත': 773, 'පලය': 833, 'ගර': 476, 'ඉවස': 209, 'රධ': 1065, 'ටල': 567, 'ඔය': 346, 'හඩ': 1329, 'පෂ': 842, 'ෂය': 1242, 'ලකය': 1110, 'අවෂ': 109, 'උද': 231, 'ජනත': 525, 'තකට': 607, 'පට': 794, 'ටන': 559, 'මතක': 920, 'මත': 919, 'ගලප': 484, 'යල': 1010, 'වලට': 1209, 'එකග': 269, 'සහය': 1321, 'ලබ': 1134, 'ඔනස': 337, 'ලඩ': 1123, 'ලර': 1143, 'යන': 989, 'එය': 305, 'ලගන': 1116, 'වකයන': 1161, 'ලද': 1125, 'කරදර': 416, 'මඩ': 917, 'උට': 221, 'අරක': 85, 'ෂක': 1231, 'ටය': 563, 'නගර': 729, 'මච': 910, 'වයස': 1198, 'පබ': 811, 'ගහග': 495, 'ලබන': 1135, 'වසර': 1221, 'යම': 999, 'පය': 817, 'ඔබට': 340, 'සන': 1271, 'එජ': 282, 'ධර': 711, 'ඇහ': 170, 'මප': 932, 'ජනප': 526, 'ලග': 1113, 'කද': 385, 'ඔව': 351, 'දරක': 680, 'නවම': 777, 'සරල': 1298, 'තමන': 624, 'මව': 950, 'ඉග': 174, 'නග': 726, 'අපහ': 62, 'සය': 1289, 'උස': 259, 'මරන': 943, 'ඉෂ': 210, 'ධන': 707, 'අච': 17, 'රග': 1041, 'කනවල': 394, 'පන': 806, 'හය': 1357, 'ඉක': 173, 'අවස': 110, 'අබ': 64, 'කරනය': 420, 'සහත': 1319, 'මෆ': 969, 'අධ': 45, 'අ': 1, 'අතඅ': 30, 'උප': 236, 'ජන': 523, 'හහ': 1372, 'නවන': 776, 'යද': 988, 'දක': 656, 'බය': 870, 'අනත': 47, 'කක': 360, 'යස': 1024, 'ඩන': 586, 'බස': 896, 'ඇපල': 155, 'ඩඩ': 583, 'වට': 1168, 'බර': 872, 'මර': 940, 'නකන': 722, 'ඔස': 354, 'අවධ': 102, 'ජර': 545, 'යය': 1007, 'ගරසරප': 478, 'රපට': 1071, 'පහල': 849, 'කරග': 411, 'එල': 308, 'ඉරනමඩ': 195, 'පලකය': 830, 'කත': 382, 'සමහරව': 1288, 'ලක': 1108, 'ඩය': 591, 'ඩකර': 578, 'බව': 894, 'පයක': 818, 'නය': 755, 'අපට': 56, 'ඩනග': 587, 'නද': 739, 'උයන': 252, 'යට': 983, 'නක': 721, 'රත': 1057, 'මකර': 906, 'ඩයල': 594, 'මන': 927, 'පරම': 827, 'පහ': 844, 'හයක': 1358, 'හත': 1333, 'රය': 1081, 'ඇ': 135, 'කරනව': 421, 'ටරය': 566, 'වලහ': 1216, 'තනව': 619, 'ඇන': 152, 'ලඥය': 1121, 'දට': 660, 'ඇතඔව': 146, 'ඇතඔ': 145, 'පමන': 814, 'මහනත': 961, 'අත': 29, 'අමත': 67, 'දය': 675, 'නන': 741, 'දරවර': 684, 'රසය': 1097, 'ජනකව': 524, 'අෂ': 113, 'යව': 1014, 'ෂබ': 1241, 'කටක': 369, 'ඉවත': 203, 'ධය': 710, 'වරන': 1204, 'ඉලක': 198, 'වය': 1194, 'වරනය': 1205, 'මද': 925, 'ඩක': 576, 'කවදහර': 443, 'ඉබ': 190, 'ෂන': 1237, 'දහසක': 701, 'ගග': 455, 'රටවට': 1056, 'දහ': 696, 'ලයකද': 1142, 'අරගලය': 90, 'සටන': 1261, 'යවස': 1022, 'රජ': 1046, 'අරගල': 89, 'අතට': 32, 'වප': 1189, 'රව': 1086, 'දල': 685, 'මකට': 903, 'අතව': 35, 'බටහ': 857, 'ගඩ': 459, 'රමය': 1078, 'හලයග': 1368, 'ඉවර': 204, 'නට': 732, 'උග': 219, 'ඇස': 167, 'එනක': 295, 'සරහට': 1304, 'යකඩ': 977, 'ඉර': 194, 'ඇදග': 150, 'කබ': 400, 'යයන': 1008, 'බදව': 865, 'අයත': 79, 'බඩ': 858, 'පද': 804, 'ටසමහර': 570, 'රද': 1062, 'රමස': 1080, 'රක': 1033, 'ජව': 548, 'කස': 450, 'රහය': 1101, 'එප': 299, 'ටසහ': 571, 'නඑප': 720, 'දවසසත': 692, 'ඔක': 322, 'නත': 737, 'තල': 638, 'එමදඔ': 304, 'එනම': 296, 'පවට': 837, 'නයට': 758, 'හවස': 1370, 'පලම': 832, 'ඥ': 551, 'උපද': 239, 'ජයග': 539, 'රනය': 1067, 'පලව': 834, 'නඩ': 735, 'ලවව': 1150, 'අස': 115, 'චය': 517, 'ලම': 1137, 'යහන': 1027, 'ඩරල': 597, 'ඉවරකර': 205, 'ඉය': 193, 'ඉපද': 188, 'කරත': 414, 'ඉසව': 212, 'වක': 1157, 'එනව': 297, 'වටරව': 1170, 'බත': 863, 'ථක': 651, 'ගම': 470, 'කග': 363, 'ඉඩ': 178, 'මස': 952, 'හදල': 1346, 'එකන': 275, 'කබය': 401, 'අමතක': 68, 'නවස': 781, 'එකම': 277, 'එකස': 280, 'උම': 249, 'අදර': 40, 'වරද': 1203, 'වටහ': 1172, 'එත': 287, 'දවසක': 691, 'ඇතක': 147, 'නවට': 772, 'වලක': 1208, 'ලත': 1124, 'අකව': 6, 'කනව': 392, 'මක': 902, 'හදවත': 1349, 'ඔට': 329, 'බලම': 888, 'සරහ': 1303, 'යනක': 990, 'ෂකය': 1232, 'පතන': 802, 'ලගද': 1115, 'ඔග': 327, 'අරග': 87, 'ඇමර': 160, 'රටකට': 1053, 'කකන': 361, 'පරක': 820, 'දඩය': 662, 'ඔහ': 356, 'වනරක': 1187, 'තයක': 626, 'අනවසර': 52, 'හදනවන': 1345, 'නගන': 728, 'රවල': 1092, 'හනයක': 1352, 'ඉදක': 182, 'ඩබල': 590, 'උබලග': 248, 'ටහ': 572, 'දද': 665, 'යවන': 1016, 'ලකන': 1109, 'මරල': 945, 'හහහ': 1373, 'ලව': 1147, 'අයතන': 80, 'කවල': 448, 'අඩම': 23, 'මහස': 968, 'බලක': 878, 'අග': 8, 'ජගතය': 521, 'වමන': 1192, 'තද': 616, 'ගතය': 462, 'ජයව': 543, 'අකම': 5, 'හස': 1371, 'උඩ': 222, 'මලකඩ': 947, 'එලක': 309, 'ගහල': 508, 'පරන': 824, 'ඔකන': 325, 'ඇනල': 153, 'සමන': 1282, 'එර': 307, 'මටස': 915, 'මහරග': 965, 'ගද': 465, 'වහ': 1224, 'අරන': 92, 'ඉවරන': 206, 'දනවල': 669, 'මමන': 936, 'කථ': 383, 'යනවන': 995, 'ඩට': 582, 'වහල': 1229, 'නමට': 751, 'සමර': 1283, 'අකස': 7, 'සරන': 1295, 'බබ': 867, 'ඇද': 149, 'බලන': 883, 'පපර': 810, 'පප': 809, 'තවම': 643, 'එඩ': 285, 'හතරපහ': 1338, 'එවන': 316, 'ඇක': 137, 'කරනවඅන': 422, 'ෆල': 1380, 'වස': 1219, 'අනන': 48, 'කරද': 415, 'ෆර': 1379, 'රවනත': 1089, 'රවර': 1091, 'සඩන': 1263, 'ඩව': 599, 'අහග': 126, 'යර': 1009, 'ඇඩ': 143, 'වටය': 1169, 'එජන': 283, 'අලව': 96, 'මලග': 948, 'ෆස': 1382, 'එච': 281, 'ඇල': 165, 'කහ': 452, 'රගන': 1043, 'ඔබන': 342, 'අසව': 121, 'අවහ': 112, 'දහස': 700, 'සග': 1257, 'රවට': 1087, 'අඅඅ': 2, 'ෆන': 1377, 'හතම': 1334, 'වඩ': 1173, 'ඉම': 192, 'ගමන': 472, 'දම': 674, 'කරගත': 412, 'ටව': 568, 'ගහගත': 496, 'ගහත': 499, 'තකර': 609, 'කහට': 453, 'මහන': 959, 'නගරය': 730, 'සක': 1252, 'අතහ': 36, 'හකක': 1325, 'බක': 851, 'ලවයස': 1149, 'ඇග': 138, 'වදද': 1177, 'මරද': 942, 'ඇයට': 162, 'උගන': 220, 'පහක': 845, 'ඉලග': 199, 'අයට': 78, 'යප': 997, 'වලද': 1212, 'ඔර': 349, 'නල': 764, 'ගව': 490, 'එනවල': 298, 'උපර': 242, 'ලගට': 1114, 'අයම': 83, 'කරය': 429, 'ඩග': 580, 'ගහම': 506, 'තරහ': 637, 'යහල': 1031, 'වදක': 1176, 'සසර': 1315, 'උදම': 232, 'කටය': 373, 'අසන': 116, 'හදන': 1342, 'හඩන': 1330, 'තරමට': 634, 'වගක': 1163, 'අඬ': 26, 'තනට': 618, 'නප': 745, 'යග': 982, 'හඬවන': 1332, 'තවමන': 644, 'සස': 1313, 'ගලය': 485, 'උපව': 243, 'දත': 664, 'අමන': 72, 'ඇෆ': 171, 'ගප': 469, 'උවමන': 257, 'ලමය': 1139, 'රගප': 1044, 'මහල': 966, 'සරස': 1301, 'හරහ': 1364, 'කමබක': 405, 'හදව': 1348, 'හතරද': 1336, 'කඩල': 381, 'යබහ': 998, 'අගව': 15, 'තට': 611, 'වදය': 1179, 'දලද': 686, 'ගලව': 486, 'නතර': 738, 'ජනපත': 527, 'බලත': 880, 'කරනස': 425, 'බරපත': 874, 'උදව': 233, 'ඇප': 154, 'අහක': 125, 'දහය': 698, 'ජනපද': 528, 'ගවල': 491, 'උපත': 238, 'දසත': 695, 'ඇමත': 159, 'ඇච': 141, 'දගල': 659, 'ටත': 558, 'යනවම': 996, 'ඉදල': 186, 'බට': 856, 'හදට': 1341, 'ඔයල': 348, 'ඉව': 202, 'ඉහ': 213, 'දබ': 672, 'තරග': 630, 'කටවහ': 375, 'උඩය': 227, 'තරඅහසඋඩ': 628, 'බලප': 885, 'එම': 301, 'පදන': 805, 'යවනවන': 1018, 'අවට': 100, 'වලටල': 1211, 'රතල': 1059, 'පඩර': 800, 'උල': 255, 'කවකට': 441, 'උඩග': 223, 'නවද': 774, 'එතන': 290, 'ධවන': 712, 'සකලමන': 1255, 'ඇබර': 157, 'නකම': 723, 'හතර': 1335, 'අනවෂ': 51, 'ධක': 704, 'අහස': 134, 'බඩට': 860, 'රමන': 1077, 'තරයක': 636, 'අහනව': 130, 'කමන': 404, 'ලකයන': 1111, 'කටර': 374, 'අඬන': 27, 'බඩග': 859, 'බලව': 891, 'එබ': 300, 'ගලවග': 487, 'ටස': 569, 'ෂකවර': 1233, 'සරද': 1294, 'ඩපත': 589, 'මතකන': 921, 'නහරක': 786, 'උඔ': 217, 'නකල': 725, 'එවග': 314, 'සලකන': 1307, 'සලක': 1306, 'නවයටස': 778, 'නටල': 734, 'කනවක': 393, 'ගහට': 498, 'කඩන': 379, 'කඩත': 377, 'යලක': 1011, 'ඔෆ': 357, 'නවඑක': 769, 'නවක': 770, 'රකප': 1038, 'අගය': 13, 'ඔතන': 332, 'එලව': 311, 'පලප': 831, 'බලපල': 887, 'නමක': 750, 'නගත': 727, 'බලල': 890, 'ගහනව': 502, 'වලල': 1214, 'ඇට': 142, 'ගහනවල': 503, 'ෂල': 1247, 'කනක': 388, 'හතරව': 1339, 'කවර': 445, 'ෆට': 1376, 'අහනක': 129, 'යෂ': 1023, 'බයය': 871, 'පවස': 841, 'මහව': 967, 'ගගට': 456, 'කපන': 397, 'නවඑ': 768, 'පහරද': 848, 'ජපක': 534, 'යනද': 991, 'ඇගට': 139, 'යමය': 1004, 'ගහලල': 509, 'සමග': 1280, 'අමතකව': 70, 'ලට': 1122, 'වයන': 1196, 'යහ': 1026, 'රසවත': 1098, 'ගලහ': 489, 'ටහර': 573, 'එවට': 315, 'රනව': 1068, 'උපන': 240, 'සප': 1274, 'නටන': 733, 'ඩගමක': 581, 'nan': 0, 'අරම': 93, 'වජ': 1167, 'යවර': 1019, 'වචන': 1165, 'ජයම': 541, 'යටමස': 985, 'කරදරය': 417, 'ජනවර': 532, 'මයන': 939, 'ඉවරව': 208, 'නයක': 756, 'අසහන': 123, 'සකල': 1254, 'නඑතක': 719, 'යටලමත': 986, 'ලධ': 1128, 'එදන': 293, 'ලමක': 1138, 'උඩලමත': 228, 'මනද': 928, 'උඩව': 229, 'ගහව': 510, 'දඔව': 655, 'මහඑදන': 955, 'යත': 987, 'සනය': 1273, 'ထ': 1383, 'යකවර': 981, 'ඔනර': 336, 'මගන': 909, 'උපය': 241, 'රයක': 1082, 'රෆ': 1103, 'මහජ': 957, 'අනයන': 50, 'හට': 1328, 'දවත': 688, 'පහත': 846, 'පකරන': 792, 'නවකය': 771, 'බරක': 873, 'හමම': 1356, 'ඇඇ': 136, 'ගලග': 481, 'නවර': 779, 'යටත': 984, 'යනයක': 993, 'ඉහල': 215, 'උපහ': 244, 'අගන': 9, 'අඬව': 28, 'රවය': 1090, 'හදනන': 1343, 'නඉක': 715, 'හන': 1350, 'තත': 615, 'හක': 1324, 'වලහන': 1217, 'සවය': 1311, 'අබයන': 65, 'ගසන': 493, 'වසරක': 1222, 'වරට': 1202, 'එට': 284, 'හච': 1327, 'අහර': 131, 'ඉටපස': 177, 'කසකස': 451, 'පකයන': 790, 'වටලප': 1171, 'කඩය': 380, 'රසට': 1096, 'ගයක': 475, 'කරම': 428, 'ගනන': 467, 'සයජ': 1292, 'කලබ': 437, 'මරම': 944, 'පරප': 825, 'ඔකට': 324, 'ටඩ': 557, 'මනර': 929, 'දරන': 681, 'ලහර': 1154, 'සවස': 1312, 'ජප': 533, 'අතර': 33, 'ගලන': 483, 'නරක': 761, 'ඩද': 585, 'උමත': 250, 'එතර': 291, 'එකය': 278, 'මමත': 934, 'චපල': 516, 'බග': 855, 'පරතර': 821, 'බලහන': 893, 'කනට': 390, 'ගහය': 507, 'වඅරක': 1156, 'නඋ': 717, 'නහක': 784, 'අසම': 117, 'හනය': 1351, 'ඉගනග': 175, 'වචනයය': 1166, 'බකට': 852, 'අමනව': 73, 'එමට': 302, 'ඩස': 600, 'අට': 19, 'එමද': 303, 'දපන': 671, 'ලලක': 1146, 'අපත': 57, 'අපහස': 63, 'හයස': 1359, 'ඇම': 158, 'රරත': 1084, 'තකත': 608, 'කරදරයක': 418, 'අරහ': 94, 'රකර': 1040, 'පඩ': 797, 'නහය': 785, 'ඔනම': 335, 'ගලක': 480, 'තටම': 612, 'වධය': 1181, 'වධක': 1180, 'අෂක': 114, 'එලද': 310, 'අසරන': 119, 'තරම': 633, 'ලගව': 1119, 'බලනක': 884, 'මටම': 914, 'එකඑ': 266, 'එසය': 319, 'වබ': 1190, 'රවන': 1088, 'නනවන': 743, 'ෂෂ': 1249, 'යලන': 1012, 'මතකය': 922, 'සදහ': 1270, 'එඑක': 264, 'පජ': 793, 'බබලව': 868, 'තඩ': 614, 'ටම': 561, 'නධර': 740, 'අපජ': 55, 'ධත': 706, 'තවත': 641, 'ඉදගන': 184, 'පම': 813, 'පටන': 795, 'වහන': 1226, 'යවෂ': 1021, 'උපක': 237, 'සරය': 1296, 'වමර': 1193, 'උඩට': 224, 'සරසව': 1302, 'සබරග': 1278, 'වයබ': 1197, 'රථය': 1061, 'රථ': 1060, 'අපය': 60, 'බලය': 889, 'කරව': 432, 'සපත': 1275, 'මඉන': 901, 'සමත': 1281, 'රකඑප': 1034, 'තකහන': 610, 'ඩප': 588, 'ඩඅබයත': 575, 'වනව': 1188, 'මහනගර': 960, 'රකත': 1035, 'අවම': 106, 'රටම': 1055, 'පටල': 796, 'මහමග': 963, 'ඉරහද': 196, 'ලගප': 1117, 'බසය': 897, 'වසන': 1220, 'තප': 620, 'ජල': 547, 'ලසන': 1152, 'යකත': 978, 'දව': 687, 'නයග': 757, 'රවස': 1093, 'දහසය': 702, 'සහජ': 1318, 'අගමක': 11, 'යකට': 976, 'ඩර': 596, 'නඉද': 716, 'ඔච': 328, 'දප': 670, 'හප': 1353, 'ෂවර': 1248, 'පකය': 789, 'වලව': 1215, 'ගලද': 482, 'බම': 869, 'සරව': 1300, 'ඔත': 331, 'පඩම': 798, 'උව': 256, 'සදම': 1268, 'එකගත': 270, 'හඬ': 1331, 'යකය': 979, 'උඔව': 218, 'කරනවල': 424, 'අහවරය': 133, 'ඩකරන': 579, 'මහම': 962, 'කපනව': 398, 'හරක': 1361, 'දයඑල': 676, 'වනනක': 1185, 'නවල': 780, 'ඔකම': 326, 'ඔඩ': 330, 'රගත': 1042, 'යමනක': 1002, 'රමක': 1076, 'ඉලල': 201, 'පවල': 840, 'එතකල': 289, 'කවමද': 444, 'අරගත': 88, 'මසය': 953, 'මහර': 964, 'ඍජ': 260, 'කෂ': 449, 'උය': 251, 'ඉදන': 185, 'නබ': 748, 'මතටත': 923, 'තටමත': 613, 'කටන': 371, 'කටප': 372, 'මඩකලප': 918, 'ඇය': 161, 'නවදබ': 775, 'වරක': 1201, 'යහප': 1028, 'නලව': 765, 'තවට': 640, 'රජක': 1047, 'තරක': 629, 'සකම': 1253, 'පනප': 808, 'ඇරල': 164, 'ලගම': 1118, 'සමරනකල': 1284, 'තහව': 649, 'සයක': 1290, 'වනය': 1186, 'ඔකග': 323, 'සදක': 1266, 'තහ': 646, 'උඩද': 226, 'අපතයන': 58, 'වයක': 1195, 'කරකර': 410, 'බරර': 876, 'අවබ': 105, 'එයට': 306, 'දස': 694, 'අපක': 54, 'අනබ': 49, 'බවනයත': 895, 'වරය': 1206, 'අදයම': 39, 'අරකකකඅප': 86, 'ටගර': 555, 'ධකර': 705, 'හබර': 1354, 'ලයක': 1141, 'ෆක': 1375, 'වලපල': 1213, 'මකල': 907, 'බලපන': 886, 'දවල': 689, 'කජ': 367, 'එකදවස': 274, 'වකට': 1158, 'වලටත': 1210, 'දනව': 668, 'සයග': 1291, 'නනවස': 744, 'කරහ': 433, 'කචල': 366, 'චත': 514, 'හග': 1326, 'රෆය': 1104, 'වගනග': 1164, 'නඅඩම': 714, 'යලල': 1013, 'ටක': 553, 'සසය': 1314, 'වහප': 1227, 'ලදර': 1126, 'පලස': 835, 'හලයන': 1369, 'කලග': 436, 'මකබ': 905, 'යමප': 1003, 'රජග': 1048, 'යනය': 992, 'බහර': 899, 'රජමහ': 1049, 'ඩයන': 592, 'ජනව': 530, 'අසහ': 122, 'රදව': 1064, 'කකර': 362, 'ඩයස': 595, 'ගනනක': 468, 'ධනස': 708, 'අමර': 74, 'ගහගන': 497, 'පනත': 807, 'ජරත': 546, 'අවනත': 103, 'වව': 1218, 'කදව': 386, 'බලධ': 882, 'රජය': 1050, 'ලනයමතක': 1131, 'ගමට': 471, 'රකය': 1039, 'යඇන': 972, 'කපනවම': 399, 'බකඩ': 853, 'පකර': 791, 'හලක': 1366, 'වදප': 1178, 'හරප': 1363, 'සමල': 1285, 'ඇගම': 140, 'එවර': 317, 'වනද': 1183, 'රතන': 1058, 'ඉහත': 214, 'රදල': 1063, 'දබද': 673, 'නපහ': 747, 'සමස': 1286, 'රයන': 1083, 'කරප': 426, 'බකර': 854, 'තරය': 635, 'එකඑක': 267, 'යමක': 1000, 'සදග': 1267, 'සරයල': 1297, 'තහන': 648, 'ගතහ': 464, 'මලල': 949, 'තරගයක': 632, 'ඔබව': 343, 'කටකත': 370, 'කරනවමන': 423, 'බලද': 881, 'ඔවරය': 353, 'ගහපන': 505, 'ඩකය': 577, 'සහබ': 1320, 'අටක': 20, 'මකද': 904, 'ඔවර': 352, 'බඩතඩ': 861, 'අටල': 21, 'මටන': 913, 'මනස': 930, 'ඉවරය': 207, 'හදනව': 1344, 'යඔහ': 974, 'ජනය': 529, 'ථය': 652, 'සනත': 1272, 'නමප': 752, 'මචන': 911, 'ෆව': 1381, 'ඇබ': 156, 'උනන': 235, 'බලග': 879, 'ගහද': 500, 'දෂක': 693, 'ඩයම': 593, 'අයඅ': 76, 'කනත': 391, 'ලඅප': 1106, 'රබලන': 1073, 'කරපන': 427, 'ධම': 709, 'මවත': 951, 'ජස': 550, 'අසය': 118, 'දහයග': 699, 'එඋ': 262, 'සටහ': 1262, 'කනස': 395, 'මනහර': 931, 'රකථන': 1037, 'ඔනබ': 334, 'අතගග': 31, 'දඬ': 663, 'ගතව': 463, 'ජෂ': 549, 'ඩහ': 603, 'සකස': 1256, 'ජනවන': 531, 'නමස': 753, 'දගත': 658, 'ඉපදව': 189, 'අගරදග': 14, 'කවරන': 446, 'ටමසර': 562, 'දටම': 661, 'ජපන': 535, 'ජපස': 536, 'සජ': 1259, 'ගලවන': 488, 'සලස': 1309, 'ලකර': 1112, 'සලම': 1308, 'කවරනයක': 447, 'නවඅම': 767, 'ඩසටහ': 601, 'ඔබවහන': 344, 'යහමග': 1030, 'කගන': 364, 'අයතනය': 81, 'ඩසටහන': 602, 'සපල': 1276, 'වම': 1191, 'ඇසට': 168, 'එකද': 273, 'දහම': 697, 'පමනමය': 816, 'තපමනක': 621, 'නඩත': 736, 'බලහත': 892, 'අසරනයන': 120, 'ෂනය': 1238, 'නපත': 746, 'ජක': 520, 'නයධර': 759, 'තඅන': 605, 'චඑක': 512, 'වනදන': 1184, 'යකර': 980, 'මමද': 935, 'ගරත': 477, 'යවත': 1015, 'තහද': 647, 'පමනක': 815, 'යසඉස': 1025, 'ඔම': 345, 'නමහහ': 754, 'අයද': 82, 'පරදම': 823, 'ෂත': 1235, 'ඔබත': 341, 'ෂපලන': 1240, 'කමල': 406, 'සහර': 1322, 'පබය': 812, 'අඩර': 24, 'පහතර': 847, 'වසල': 1223, 'ඇසල': 169, 'සහචරය': 1317, 'කරයග': 430, 'යඅග': 971, 'අහගන': 127, 'හදලව': 1347, 'නකර': 724, 'ඔයධර': 347, 'මයඅන': 938, 'ගමනයකරනහ': 473, 'ලනඅප': 1130, 'මටහ': 916, 'පරබල': 826, 'අගමජ': 12, 'රකථ': 1036, 'නරත': 762, 'අරට': 91, 'යහම': 1029, 'ඉඩම': 179, 'සරලව': 1299, 'ඇතච': 148, 'වකද': 1159, 'ථව': 653, 'ටයර': 564, 'එඬ': 286, 'කඩද': 378, 'ලච': 1120, 'ලවත': 1148, 'අපනයන': 59, 'එකල': 279, 'ඩල': 598, 'අදහ': 43, 'තවයක': 645, 'කලය': 438, 'නඑ': 718, 'එලවල': 312, 'මහග': 956, 'බඩප': 862, 'රටක': 1052, 'අජ': 18, 'ලඔබ': 1107, 'කනග': 389, 'අමතකන': 69, 'අයග': 77, 'ජයගන': 540, 'යමසමග': 1006, 'මධ': 926, 'තරගය': 631, 'යමකට': 1001, 'රහන': 1100, 'යමෂ': 1005, 'සදර': 1269, 'ජයල': 542, 'උෂ': 258, 'ලරත': 1144, 'අදට': 38, 'ගතද': 461, 'පථය': 803, 'දයට': 678, 'කලක': 435, 'ජධ': 522, 'අවල': 108, 'හරන': 1362, 'අවසර': 111, 'කලහ': 439, 'ලබමහන': 1136, 'රචන': 1045, 'ඩත': 584, 'පවර': 839, 'එඑ': 263, 'අවරන': 107, 'අමතර': 71, 'ෂටර': 1234, 'කථන': 384, 'රමරත': 1079, 'ෂෆ': 1250, 'අකන': 4, 'වකය': 1160, 'චක': 513, 'රබව': 1074, 'ලදස': 1127}\n"
          ],
          "name": "stdout"
        }
      ]
    },
    {
      "cell_type": "markdown",
      "metadata": {
        "id": "mjEW7NwbSyB7"
      },
      "source": [
        "2.2 TF-IDF Vectors as features"
      ]
    },
    {
      "cell_type": "code",
      "metadata": {
        "colab": {
          "base_uri": "https://localhost:8080/"
        },
        "id": "M3smMvTRSzAC",
        "outputId": "97d2af5c-26d1-48a8-ab9a-3496c1121567"
      },
      "source": [
        "# word level tf-idf\n",
        "tfidf_vect = TfidfVectorizer(analyzer='word', token_pattern=r'\\w{1,}', max_features=5000)\n",
        "tfidf_vect.fit(trainDF['Filtered_sentence'])\n",
        "xtrain_tfidf =  tfidf_vect.transform(train_x)\n",
        "xvalid_tfidf =  tfidf_vect.transform(valid_x)\n",
        "\n",
        "# ngram level tf-idf \n",
        "tfidf_vect_ngram = TfidfVectorizer(analyzer='word', token_pattern=r'\\w{1,}', ngram_range=(2,3), max_features=5000)\n",
        "tfidf_vect_ngram.fit(trainDF['Filtered_sentence'])\n",
        "xtrain_tfidf_ngram =  tfidf_vect_ngram.transform(train_x)\n",
        "xvalid_tfidf_ngram =  tfidf_vect_ngram.transform(valid_x)\n",
        "\n",
        "# characters level tf-idf\n",
        "tfidf_vect_ngram_chars = TfidfVectorizer(analyzer='char', token_pattern=r'\\w{1,}', ngram_range=(2,3), max_features=5000)\n",
        "tfidf_vect_ngram_chars.fit(trainDF['Filtered_sentence'])\n",
        "xtrain_tfidf_ngram_chars =  tfidf_vect_ngram_chars.transform(train_x) \n",
        "xvalid_tfidf_ngram_chars =  tfidf_vect_ngram_chars.transform(valid_x) "
      ],
      "execution_count": null,
      "outputs": [
        {
          "output_type": "stream",
          "text": [
            "/usr/local/lib/python3.7/dist-packages/sklearn/feature_extraction/text.py:524: UserWarning: The parameter 'token_pattern' will not be used since 'analyzer' != 'word'\n",
            "  warnings.warn(\"The parameter 'token_pattern' will not be used\"\n"
          ],
          "name": "stderr"
        }
      ]
    },
    {
      "cell_type": "code",
      "metadata": {
        "colab": {
          "base_uri": "https://localhost:8080/"
        },
        "id": "yZehbIp4c04G",
        "outputId": "d20bf96a-d1e2-4e74-df02-acd4fccb35a2"
      },
      "source": [
        "print(\"word level tf-idf_Vocabulary: \", tfidf_vect.vocabulary_)\n",
        "print(\"ngram level tf-idf_Vocabulary: \", tfidf_vect_ngram.vocabulary_)\n",
        "print(\"characters level tf-idf_Vocabulary: \", tfidf_vect_ngram_chars.vocabulary_)"
      ],
      "execution_count": null,
      "outputs": [
        {
          "output_type": "stream",
          "text": [
            "word level tf-idf_Vocabulary:  {'ද': 654, 'න': 713, 'එක': 265, 'බද': 864, 'ධ': 703, 'ව': 1155, 'පක': 788, 'ෂ': 1230, 'ම': 900, 'ල': 1105, 'ක': 358, 'ර': 1032, 'ප': 787, 'මහත': 958, 'දනය': 667, 'අද': 37, 'අම': 66, 'රස': 1095, 'හ': 1323, 'කල': 434, 'ස': 1251, 'කච': 365, 'ච': 511, 'සත': 1264, 'ජ': 519, 'ත': 604, 'පවත': 838, 'චන': 515, 'දයක': 677, 'ඉද': 181, 'තර': 627, 'ගල': 479, 'උරන': 254, 'පරය': 828, 'එහ': 320, 'උන': 234, 'අප': 53, 'අය': 75, 'කරල': 431, 'මල': 946, 'ග': 454, 'වග': 1162, 'හද': 1340, 'රටට': 1054, 'ඩ': 574, 'කර': 409, 'යක': 975, 'දර': 679, 'ඔබ': 339, 'ලල': 1145, 'තම': 623, 'බ': 850, 'වහබ': 1228, 'රහස': 1102, 'පත': 801, 'එන': 294, 'එතක': 288, 'අඩව': 25, 'අල': 95, 'අවනම': 104, 'ඉට': 176, 'උත': 230, 'ඉල': 197, 'ලනස': 1132, 'ට': 552, 'නහ': 783, 'රපඉල': 1070, 'රප': 1069, 'රන': 1066, 'පර': 819, 'නව': 766, 'කවද': 442, 'ඉ': 172, 'ඉදග': 183, 'උ': 216, 'ෂර': 1246, 'ය': 970, 'ථ': 650, 'වර': 1200, 'කරගන': 413, 'ගට': 458, 'රට': 1051, 'බහ': 898, 'ඉත': 180, 'දරව': 683, 'අවක': 98, 'පස': 843, 'ඇත': 144, 'ඉස': 211, 'තව': 639, 'එ': 261, 'පල': 829, 'බල': 877, 'ගන': 466, 'අවජ': 99, 'තක': 606, 'අඩ': 22, 'කට': 368, 'වහග': 1225, 'අර': 84, 'වයසක': 1199, 'කඩ': 376, 'ඔසද': 355, 'ෆ': 1374, 'සර': 1293, 'උඩතලව': 225, 'දන': 666, 'චර': 518, 'තය': 625, 'හලය': 1367, 'ඉලම': 200, 'කයට': 408, 'ලය': 1140, 'මරක': 941, 'කරන': 419, 'කප': 396, 'ටකර': 554, 'ටට': 556, 'බරය': 875, 'නගහන': 731, 'අපර': 61, 'රල': 1085, 'ඉන': 187, 'ටර': 565, 'මය': 937, 'රහ': 1099, 'හර': 1360, 'වන': 1182, 'ඔල': 350, 'ෆය': 1378, 'එකක': 268, 'දවස': 690, 'ජයස': 544, 'සද': 1265, 'පඩය': 799, 'කඑක': 359, 'ඉබල': 191, 'වද': 1175, 'ගහන': 501, 'හම': 1355, 'ගහප': 504, 'සමහර': 1287, 'සව': 1310, 'හල': 1365, 'කන': 387, 'ෂප': 1239, 'ලන': 1129, 'අහ': 124, 'රබ': 1072, 'ඔප': 338, 'කය': 407, 'අව': 97, 'එකට': 271, 'ලස': 1151, 'මම': 933, 'අක': 3, 'රම': 1075, 'එස': 318, 'රෂ': 1094, 'උබල': 247, 'බන': 866, 'අහල': 132, 'ජම': 537, 'අන': 46, 'මග': 908, 'ගත': 460, 'සල': 1305, 'එව': 313, 'ගස': 492, 'වත': 1174, 'කමට': 403, 'ඔ': 321, 'නර': 760, 'යනව': 994, 'ලප': 1133, 'තන': 617, 'හතරප': 1337, 'එකප': 276, 'තවප': 642, 'යවල': 1020, 'ඇර': 163, 'ෂද': 1236, 'ෂයකට': 1244, 'ෂයට': 1245, 'එකත': 272, 'නරබ': 763, 'ෂයක': 1243, 'ගච': 457, 'නස': 782, 'අදරය': 42, 'අදරන': 41, 'සට': 1260, 'සගය': 1258, 'පරද': 822, 'ගහ': 494, 'නම': 749, 'සහ': 1316, 'දරය': 682, 'ලහ': 1153, 'කව': 440, 'අගසව': 16, 'තබ': 622, 'යඋබ': 973, 'අගම': 10, 'ඇදල': 151, 'ඔන': 333, 'වල': 1207, 'උර': 253, 'ටප': 560, 'උබ': 245, 'සබ': 1277, 'යවනක': 1017, 'කම': 402, 'අහන': 128, 'එද': 292, 'ගය': 474, 'සම': 1279, 'ජය': 538, 'මතය': 924, 'මහ': 954, 'අවද': 101, 'ඇව': 166, 'නනව': 742, 'අතල': 34, 'පව': 836, 'අදහස': 44, 'මට': 912, 'දග': 657, 'උබට': 246, 'නවත': 773, 'පලය': 833, 'ගර': 476, 'ඉවස': 209, 'රධ': 1065, 'ටල': 567, 'ඔය': 346, 'හඩ': 1329, 'පෂ': 842, 'ෂය': 1242, 'ලකය': 1110, 'අවෂ': 109, 'උද': 231, 'ජනත': 525, 'තකට': 607, 'පට': 794, 'ටන': 559, 'මතක': 920, 'මත': 919, 'ගලප': 484, 'යල': 1010, 'වලට': 1209, 'එකග': 269, 'සහය': 1321, 'ලබ': 1134, 'ඔනස': 337, 'ලඩ': 1123, 'ලර': 1143, 'යන': 989, 'එය': 305, 'ලගන': 1116, 'වකයන': 1161, 'ලද': 1125, 'කරදර': 416, 'මඩ': 917, 'උට': 221, 'අරක': 85, 'ෂක': 1231, 'ටය': 563, 'නගර': 729, 'මච': 910, 'වයස': 1198, 'පබ': 811, 'ගහග': 495, 'ලබන': 1135, 'වසර': 1221, 'යම': 999, 'පය': 817, 'ඔබට': 340, 'සන': 1271, 'එජ': 282, 'ධර': 711, 'ඇහ': 170, 'මප': 932, 'ජනප': 526, 'ලග': 1113, 'කද': 385, 'ඔව': 351, 'දරක': 680, 'නවම': 777, 'සරල': 1298, 'තමන': 624, 'මව': 950, 'ඉග': 174, 'නග': 726, 'අපහ': 62, 'සය': 1289, 'උස': 259, 'මරන': 943, 'ඉෂ': 210, 'ධන': 707, 'අච': 17, 'රග': 1041, 'කනවල': 394, 'පන': 806, 'හය': 1357, 'ඉක': 173, 'අවස': 110, 'අබ': 64, 'කරනය': 420, 'සහත': 1319, 'මෆ': 969, 'අධ': 45, 'අ': 1, 'අතඅ': 30, 'උප': 236, 'ජන': 523, 'හහ': 1372, 'නවන': 776, 'යද': 988, 'දක': 656, 'බය': 870, 'අනත': 47, 'කක': 360, 'යස': 1024, 'ඩන': 586, 'බස': 896, 'ඇපල': 155, 'ඩඩ': 583, 'වට': 1168, 'බර': 872, 'මර': 940, 'නකන': 722, 'ඔස': 354, 'අවධ': 102, 'ජර': 545, 'යය': 1007, 'ගරසරප': 478, 'රපට': 1071, 'පහල': 849, 'කරග': 411, 'එල': 308, 'ඉරනමඩ': 195, 'පලකය': 830, 'කත': 382, 'සමහරව': 1288, 'ලක': 1108, 'ඩය': 591, 'ඩකර': 578, 'බව': 894, 'පයක': 818, 'නය': 755, 'අපට': 56, 'ඩනග': 587, 'නද': 739, 'උයන': 252, 'යට': 983, 'නක': 721, 'රත': 1057, 'මකර': 906, 'ඩයල': 594, 'මන': 927, 'පරම': 827, 'පහ': 844, 'හයක': 1358, 'හත': 1333, 'රය': 1081, 'ඇ': 135, 'කරනව': 421, 'ටරය': 566, 'වලහ': 1216, 'තනව': 619, 'ඇන': 152, 'ලඥය': 1121, 'දට': 660, 'ඇතඔව': 146, 'ඇතඔ': 145, 'පමන': 814, 'මහනත': 961, 'අත': 29, 'අමත': 67, 'දය': 675, 'නන': 741, 'දරවර': 684, 'රසය': 1097, 'ජනකව': 524, 'අෂ': 113, 'යව': 1014, 'ෂබ': 1241, 'කටක': 369, 'ඉවත': 203, 'ධය': 710, 'වරන': 1204, 'ඉලක': 198, 'වය': 1194, 'වරනය': 1205, 'මද': 925, 'ඩක': 576, 'කවදහර': 443, 'ඉබ': 190, 'ෂන': 1237, 'දහසක': 701, 'ගග': 455, 'රටවට': 1056, 'දහ': 696, 'ලයකද': 1142, 'අරගලය': 90, 'සටන': 1261, 'යවස': 1022, 'රජ': 1046, 'අරගල': 89, 'අතට': 32, 'වප': 1189, 'රව': 1086, 'දල': 685, 'මකට': 903, 'අතව': 35, 'බටහ': 857, 'ගඩ': 459, 'රමය': 1078, 'හලයග': 1368, 'ඉවර': 204, 'නට': 732, 'උග': 219, 'ඇස': 167, 'එනක': 295, 'සරහට': 1304, 'යකඩ': 977, 'ඉර': 194, 'ඇදග': 150, 'කබ': 400, 'යයන': 1008, 'බදව': 865, 'අයත': 79, 'බඩ': 858, 'පද': 804, 'ටසමහර': 570, 'රද': 1062, 'රමස': 1080, 'රක': 1033, 'ජව': 548, 'කස': 450, 'රහය': 1101, 'එප': 299, 'ටසහ': 571, 'නඑප': 720, 'දවසසත': 692, 'ඔක': 322, 'නත': 737, 'තල': 638, 'එමදඔ': 304, 'එනම': 296, 'පවට': 837, 'නයට': 758, 'හවස': 1370, 'පලම': 832, 'ඥ': 551, 'උපද': 239, 'ජයග': 539, 'රනය': 1067, 'පලව': 834, 'නඩ': 735, 'ලවව': 1150, 'අස': 115, 'චය': 517, 'ලම': 1137, 'යහන': 1027, 'ඩරල': 597, 'ඉවරකර': 205, 'ඉය': 193, 'ඉපද': 188, 'කරත': 414, 'ඉසව': 212, 'වක': 1157, 'එනව': 297, 'වටරව': 1170, 'බත': 863, 'ථක': 651, 'ගම': 470, 'කග': 363, 'ඉඩ': 178, 'මස': 952, 'හදල': 1346, 'එකන': 275, 'කබය': 401, 'අමතක': 68, 'නවස': 781, 'එකම': 277, 'එකස': 280, 'උම': 249, 'අදර': 40, 'වරද': 1203, 'වටහ': 1172, 'එත': 287, 'දවසක': 691, 'ඇතක': 147, 'නවට': 772, 'වලක': 1208, 'ලත': 1124, 'අකව': 6, 'කනව': 392, 'මක': 902, 'හදවත': 1349, 'ඔට': 329, 'බලම': 888, 'සරහ': 1303, 'යනක': 990, 'ෂකය': 1232, 'පතන': 802, 'ලගද': 1115, 'ඔග': 327, 'අරග': 87, 'ඇමර': 160, 'රටකට': 1053, 'කකන': 361, 'පරක': 820, 'දඩය': 662, 'ඔහ': 356, 'වනරක': 1187, 'තයක': 626, 'අනවසර': 52, 'හදනවන': 1345, 'නගන': 728, 'රවල': 1092, 'හනයක': 1352, 'ඉදක': 182, 'ඩබල': 590, 'උබලග': 248, 'ටහ': 572, 'දද': 665, 'යවන': 1016, 'ලකන': 1109, 'මරල': 945, 'හහහ': 1373, 'ලව': 1147, 'අයතන': 80, 'කවල': 448, 'අඩම': 23, 'මහස': 968, 'බලක': 878, 'අග': 8, 'ජගතය': 521, 'වමන': 1192, 'තද': 616, 'ගතය': 462, 'ජයව': 543, 'අකම': 5, 'හස': 1371, 'උඩ': 222, 'මලකඩ': 947, 'එලක': 309, 'ගහල': 508, 'පරන': 824, 'ඔකන': 325, 'ඇනල': 153, 'සමන': 1282, 'එර': 307, 'මටස': 915, 'මහරග': 965, 'ගද': 465, 'වහ': 1224, 'අරන': 92, 'ඉවරන': 206, 'දනවල': 669, 'මමන': 936, 'කථ': 383, 'යනවන': 995, 'ඩට': 582, 'වහල': 1229, 'නමට': 751, 'සමර': 1283, 'අකස': 7, 'සරන': 1295, 'බබ': 867, 'ඇද': 149, 'බලන': 883, 'පපර': 810, 'පප': 809, 'තවම': 643, 'එඩ': 285, 'හතරපහ': 1338, 'එවන': 316, 'ඇක': 137, 'කරනවඅන': 422, 'ෆල': 1380, 'වස': 1219, 'අනන': 48, 'කරද': 415, 'ෆර': 1379, 'රවනත': 1089, 'රවර': 1091, 'සඩන': 1263, 'ඩව': 599, 'අහග': 126, 'යර': 1009, 'ඇඩ': 143, 'වටය': 1169, 'එජන': 283, 'අලව': 96, 'මලග': 948, 'ෆස': 1382, 'එච': 281, 'ඇල': 165, 'කහ': 452, 'රගන': 1043, 'ඔබන': 342, 'අසව': 121, 'අවහ': 112, 'දහස': 700, 'සග': 1257, 'රවට': 1087, 'අඅඅ': 2, 'ෆන': 1377, 'හතම': 1334, 'වඩ': 1173, 'ඉම': 192, 'ගමන': 472, 'දම': 674, 'කරගත': 412, 'ටව': 568, 'ගහගත': 496, 'ගහත': 499, 'තකර': 609, 'කහට': 453, 'මහන': 959, 'නගරය': 730, 'සක': 1252, 'අතහ': 36, 'හකක': 1325, 'බක': 851, 'ලවයස': 1149, 'ඇග': 138, 'වදද': 1177, 'මරද': 942, 'ඇයට': 162, 'උගන': 220, 'පහක': 845, 'ඉලග': 199, 'අයට': 78, 'යප': 997, 'වලද': 1212, 'ඔර': 349, 'නල': 764, 'ගව': 490, 'එනවල': 298, 'උපර': 242, 'ලගට': 1114, 'අයම': 83, 'කරය': 429, 'ඩග': 580, 'ගහම': 506, 'තරහ': 637, 'යහල': 1031, 'වදක': 1176, 'සසර': 1315, 'උදම': 232, 'කටය': 373, 'අසන': 116, 'හදන': 1342, 'හඩන': 1330, 'තරමට': 634, 'වගක': 1163, 'අඬ': 26, 'තනට': 618, 'නප': 745, 'යග': 982, 'හඬවන': 1332, 'තවමන': 644, 'සස': 1313, 'ගලය': 485, 'උපව': 243, 'දත': 664, 'අමන': 72, 'ඇෆ': 171, 'ගප': 469, 'උවමන': 257, 'ලමය': 1139, 'රගප': 1044, 'මහල': 966, 'සරස': 1301, 'හරහ': 1364, 'කමබක': 405, 'හදව': 1348, 'හතරද': 1336, 'කඩල': 381, 'යබහ': 998, 'අගව': 15, 'තට': 611, 'වදය': 1179, 'දලද': 686, 'ගලව': 486, 'නතර': 738, 'ජනපත': 527, 'බලත': 880, 'කරනස': 425, 'බරපත': 874, 'උදව': 233, 'ඇප': 154, 'අහක': 125, 'දහය': 698, 'ජනපද': 528, 'ගවල': 491, 'උපත': 238, 'දසත': 695, 'ඇමත': 159, 'ඇච': 141, 'දගල': 659, 'ටත': 558, 'යනවම': 996, 'ඉදල': 186, 'බට': 856, 'හදට': 1341, 'ඔයල': 348, 'ඉව': 202, 'ඉහ': 213, 'දබ': 672, 'තරග': 630, 'කටවහ': 375, 'උඩය': 227, 'තරඅහසඋඩ': 628, 'බලප': 885, 'එම': 301, 'පදන': 805, 'යවනවන': 1018, 'අවට': 100, 'වලටල': 1211, 'රතල': 1059, 'පඩර': 800, 'උල': 255, 'කවකට': 441, 'උඩග': 223, 'නවද': 774, 'එතන': 290, 'ධවන': 712, 'සකලමන': 1255, 'ඇබර': 157, 'නකම': 723, 'හතර': 1335, 'අනවෂ': 51, 'ධක': 704, 'අහස': 134, 'බඩට': 860, 'රමන': 1077, 'තරයක': 636, 'අහනව': 130, 'කමන': 404, 'ලකයන': 1111, 'කටර': 374, 'අඬන': 27, 'බඩග': 859, 'බලව': 891, 'එබ': 300, 'ගලවග': 487, 'ටස': 569, 'ෂකවර': 1233, 'සරද': 1294, 'ඩපත': 589, 'මතකන': 921, 'නහරක': 786, 'උඔ': 217, 'නකල': 725, 'එවග': 314, 'සලකන': 1307, 'සලක': 1306, 'නවයටස': 778, 'නටල': 734, 'කනවක': 393, 'ගහට': 498, 'කඩන': 379, 'කඩත': 377, 'යලක': 1011, 'ඔෆ': 357, 'නවඑක': 769, 'නවක': 770, 'රකප': 1038, 'අගය': 13, 'ඔතන': 332, 'එලව': 311, 'පලප': 831, 'බලපල': 887, 'නමක': 750, 'නගත': 727, 'බලල': 890, 'ගහනව': 502, 'වලල': 1214, 'ඇට': 142, 'ගහනවල': 503, 'ෂල': 1247, 'කනක': 388, 'හතරව': 1339, 'කවර': 445, 'ෆට': 1376, 'අහනක': 129, 'යෂ': 1023, 'බයය': 871, 'පවස': 841, 'මහව': 967, 'ගගට': 456, 'කපන': 397, 'නවඑ': 768, 'පහරද': 848, 'ජපක': 534, 'යනද': 991, 'ඇගට': 139, 'යමය': 1004, 'ගහලල': 509, 'සමග': 1280, 'අමතකව': 70, 'ලට': 1122, 'වයන': 1196, 'යහ': 1026, 'රසවත': 1098, 'ගලහ': 489, 'ටහර': 573, 'එවට': 315, 'රනව': 1068, 'උපන': 240, 'සප': 1274, 'නටන': 733, 'ඩගමක': 581, 'nan': 0, 'අරම': 93, 'වජ': 1167, 'යවර': 1019, 'වචන': 1165, 'ජයම': 541, 'යටමස': 985, 'කරදරය': 417, 'ජනවර': 532, 'මයන': 939, 'ඉවරව': 208, 'නයක': 756, 'අසහන': 123, 'සකල': 1254, 'නඑතක': 719, 'යටලමත': 986, 'ලධ': 1128, 'එදන': 293, 'ලමක': 1138, 'උඩලමත': 228, 'මනද': 928, 'උඩව': 229, 'ගහව': 510, 'දඔව': 655, 'මහඑදන': 955, 'යත': 987, 'සනය': 1273, 'ထ': 1383, 'යකවර': 981, 'ඔනර': 336, 'මගන': 909, 'උපය': 241, 'රයක': 1082, 'රෆ': 1103, 'මහජ': 957, 'අනයන': 50, 'හට': 1328, 'දවත': 688, 'පහත': 846, 'පකරන': 792, 'නවකය': 771, 'බරක': 873, 'හමම': 1356, 'ඇඇ': 136, 'ගලග': 481, 'නවර': 779, 'යටත': 984, 'යනයක': 993, 'ඉහල': 215, 'උපහ': 244, 'අගන': 9, 'අඬව': 28, 'රවය': 1090, 'හදනන': 1343, 'නඉක': 715, 'හන': 1350, 'තත': 615, 'හක': 1324, 'වලහන': 1217, 'සවය': 1311, 'අබයන': 65, 'ගසන': 493, 'වසරක': 1222, 'වරට': 1202, 'එට': 284, 'හච': 1327, 'අහර': 131, 'ඉටපස': 177, 'කසකස': 451, 'පකයන': 790, 'වටලප': 1171, 'කඩය': 380, 'රසට': 1096, 'ගයක': 475, 'කරම': 428, 'ගනන': 467, 'සයජ': 1292, 'කලබ': 437, 'මරම': 944, 'පරප': 825, 'ඔකට': 324, 'ටඩ': 557, 'මනර': 929, 'දරන': 681, 'ලහර': 1154, 'සවස': 1312, 'ජප': 533, 'අතර': 33, 'ගලන': 483, 'නරක': 761, 'ඩද': 585, 'උමත': 250, 'එතර': 291, 'එකය': 278, 'මමත': 934, 'චපල': 516, 'බග': 855, 'පරතර': 821, 'බලහන': 893, 'කනට': 390, 'ගහය': 507, 'වඅරක': 1156, 'නඋ': 717, 'නහක': 784, 'අසම': 117, 'හනය': 1351, 'ඉගනග': 175, 'වචනයය': 1166, 'බකට': 852, 'අමනව': 73, 'එමට': 302, 'ඩස': 600, 'අට': 19, 'එමද': 303, 'දපන': 671, 'ලලක': 1146, 'අපත': 57, 'අපහස': 63, 'හයස': 1359, 'ඇම': 158, 'රරත': 1084, 'තකත': 608, 'කරදරයක': 418, 'අරහ': 94, 'රකර': 1040, 'පඩ': 797, 'නහය': 785, 'ඔනම': 335, 'ගලක': 480, 'තටම': 612, 'වධය': 1181, 'වධක': 1180, 'අෂක': 114, 'එලද': 310, 'අසරන': 119, 'තරම': 633, 'ලගව': 1119, 'බලනක': 884, 'මටම': 914, 'එකඑ': 266, 'එසය': 319, 'වබ': 1190, 'රවන': 1088, 'නනවන': 743, 'ෂෂ': 1249, 'යලන': 1012, 'මතකය': 922, 'සදහ': 1270, 'එඑක': 264, 'පජ': 793, 'බබලව': 868, 'තඩ': 614, 'ටම': 561, 'නධර': 740, 'අපජ': 55, 'ධත': 706, 'තවත': 641, 'ඉදගන': 184, 'පම': 813, 'පටන': 795, 'වහන': 1226, 'යවෂ': 1021, 'උපක': 237, 'සරය': 1296, 'වමර': 1193, 'උඩට': 224, 'සරසව': 1302, 'සබරග': 1278, 'වයබ': 1197, 'රථය': 1061, 'රථ': 1060, 'අපය': 60, 'බලය': 889, 'කරව': 432, 'සපත': 1275, 'මඉන': 901, 'සමත': 1281, 'රකඑප': 1034, 'තකහන': 610, 'ඩප': 588, 'ඩඅබයත': 575, 'වනව': 1188, 'මහනගර': 960, 'රකත': 1035, 'අවම': 106, 'රටම': 1055, 'පටල': 796, 'මහමග': 963, 'ඉරහද': 196, 'ලගප': 1117, 'බසය': 897, 'වසන': 1220, 'තප': 620, 'ජල': 547, 'ලසන': 1152, 'යකත': 978, 'දව': 687, 'නයග': 757, 'රවස': 1093, 'දහසය': 702, 'සහජ': 1318, 'අගමක': 11, 'යකට': 976, 'ඩර': 596, 'නඉද': 716, 'ඔච': 328, 'දප': 670, 'හප': 1353, 'ෂවර': 1248, 'පකය': 789, 'වලව': 1215, 'ගලද': 482, 'බම': 869, 'සරව': 1300, 'ඔත': 331, 'පඩම': 798, 'උව': 256, 'සදම': 1268, 'එකගත': 270, 'හඬ': 1331, 'යකය': 979, 'උඔව': 218, 'කරනවල': 424, 'අහවරය': 133, 'ඩකරන': 579, 'මහම': 962, 'කපනව': 398, 'හරක': 1361, 'දයඑල': 676, 'වනනක': 1185, 'නවල': 780, 'ඔකම': 326, 'ඔඩ': 330, 'රගත': 1042, 'යමනක': 1002, 'රමක': 1076, 'ඉලල': 201, 'පවල': 840, 'එතකල': 289, 'කවමද': 444, 'අරගත': 88, 'මසය': 953, 'මහර': 964, 'ඍජ': 260, 'කෂ': 449, 'උය': 251, 'ඉදන': 185, 'නබ': 748, 'මතටත': 923, 'තටමත': 613, 'කටන': 371, 'කටප': 372, 'මඩකලප': 918, 'ඇය': 161, 'නවදබ': 775, 'වරක': 1201, 'යහප': 1028, 'නලව': 765, 'තවට': 640, 'රජක': 1047, 'තරක': 629, 'සකම': 1253, 'පනප': 808, 'ඇරල': 164, 'ලගම': 1118, 'සමරනකල': 1284, 'තහව': 649, 'සයක': 1290, 'වනය': 1186, 'ඔකග': 323, 'සදක': 1266, 'තහ': 646, 'උඩද': 226, 'අපතයන': 58, 'වයක': 1195, 'කරකර': 410, 'බරර': 876, 'අවබ': 105, 'එයට': 306, 'දස': 694, 'අපක': 54, 'අනබ': 49, 'බවනයත': 895, 'වරය': 1206, 'අදයම': 39, 'අරකකකඅප': 86, 'ටගර': 555, 'ධකර': 705, 'හබර': 1354, 'ලයක': 1141, 'ෆක': 1375, 'වලපල': 1213, 'මකල': 907, 'බලපන': 886, 'දවල': 689, 'කජ': 367, 'එකදවස': 274, 'වකට': 1158, 'වලටත': 1210, 'දනව': 668, 'සයග': 1291, 'නනවස': 744, 'කරහ': 433, 'කචල': 366, 'චත': 514, 'හග': 1326, 'රෆය': 1104, 'වගනග': 1164, 'නඅඩම': 714, 'යලල': 1013, 'ටක': 553, 'සසය': 1314, 'වහප': 1227, 'ලදර': 1126, 'පලස': 835, 'හලයන': 1369, 'කලග': 436, 'මකබ': 905, 'යමප': 1003, 'රජග': 1048, 'යනය': 992, 'බහර': 899, 'රජමහ': 1049, 'ඩයන': 592, 'ජනව': 530, 'අසහ': 122, 'රදව': 1064, 'කකර': 362, 'ඩයස': 595, 'ගනනක': 468, 'ධනස': 708, 'අමර': 74, 'ගහගන': 497, 'පනත': 807, 'ජරත': 546, 'අවනත': 103, 'වව': 1218, 'කදව': 386, 'බලධ': 882, 'රජය': 1050, 'ලනයමතක': 1131, 'ගමට': 471, 'රකය': 1039, 'යඇන': 972, 'කපනවම': 399, 'බකඩ': 853, 'පකර': 791, 'හලක': 1366, 'වදප': 1178, 'හරප': 1363, 'සමල': 1285, 'ඇගම': 140, 'එවර': 317, 'වනද': 1183, 'රතන': 1058, 'ඉහත': 214, 'රදල': 1063, 'දබද': 673, 'නපහ': 747, 'සමස': 1286, 'රයන': 1083, 'කරප': 426, 'බකර': 854, 'තරය': 635, 'එකඑක': 267, 'යමක': 1000, 'සදග': 1267, 'සරයල': 1297, 'තහන': 648, 'ගතහ': 464, 'මලල': 949, 'තරගයක': 632, 'ඔබව': 343, 'කටකත': 370, 'කරනවමන': 423, 'බලද': 881, 'ඔවරය': 353, 'ගහපන': 505, 'ඩකය': 577, 'සහබ': 1320, 'අටක': 20, 'මකද': 904, 'ඔවර': 352, 'බඩතඩ': 861, 'අටල': 21, 'මටන': 913, 'මනස': 930, 'ඉවරය': 207, 'හදනව': 1344, 'යඔහ': 974, 'ජනය': 529, 'ථය': 652, 'සනත': 1272, 'නමප': 752, 'මචන': 911, 'ෆව': 1381, 'ඇබ': 156, 'උනන': 235, 'බලග': 879, 'ගහද': 500, 'දෂක': 693, 'ඩයම': 593, 'අයඅ': 76, 'කනත': 391, 'ලඅප': 1106, 'රබලන': 1073, 'කරපන': 427, 'ධම': 709, 'මවත': 951, 'ජස': 550, 'අසය': 118, 'දහයග': 699, 'එඋ': 262, 'සටහ': 1262, 'කනස': 395, 'මනහර': 931, 'රකථන': 1037, 'ඔනබ': 334, 'අතගග': 31, 'දඬ': 663, 'ගතව': 463, 'ජෂ': 549, 'ඩහ': 603, 'සකස': 1256, 'ජනවන': 531, 'නමස': 753, 'දගත': 658, 'ඉපදව': 189, 'අගරදග': 14, 'කවරන': 446, 'ටමසර': 562, 'දටම': 661, 'ජපන': 535, 'ජපස': 536, 'සජ': 1259, 'ගලවන': 488, 'සලස': 1309, 'ලකර': 1112, 'සලම': 1308, 'කවරනයක': 447, 'නවඅම': 767, 'ඩසටහ': 601, 'ඔබවහන': 344, 'යහමග': 1030, 'කගන': 364, 'අයතනය': 81, 'ඩසටහන': 602, 'සපල': 1276, 'වම': 1191, 'ඇසට': 168, 'එකද': 273, 'දහම': 697, 'පමනමය': 816, 'තපමනක': 621, 'නඩත': 736, 'බලහත': 892, 'අසරනයන': 120, 'ෂනය': 1238, 'නපත': 746, 'ජක': 520, 'නයධර': 759, 'තඅන': 605, 'චඑක': 512, 'වනදන': 1184, 'යකර': 980, 'මමද': 935, 'ගරත': 477, 'යවත': 1015, 'තහද': 647, 'පමනක': 815, 'යසඉස': 1025, 'ඔම': 345, 'නමහහ': 754, 'අයද': 82, 'පරදම': 823, 'ෂත': 1235, 'ඔබත': 341, 'ෂපලන': 1240, 'කමල': 406, 'සහර': 1322, 'පබය': 812, 'අඩර': 24, 'පහතර': 847, 'වසල': 1223, 'ඇසල': 169, 'සහචරය': 1317, 'කරයග': 430, 'යඅග': 971, 'අහගන': 127, 'හදලව': 1347, 'නකර': 724, 'ඔයධර': 347, 'මයඅන': 938, 'ගමනයකරනහ': 473, 'ලනඅප': 1130, 'මටහ': 916, 'පරබල': 826, 'අගමජ': 12, 'රකථ': 1036, 'නරත': 762, 'අරට': 91, 'යහම': 1029, 'ඉඩම': 179, 'සරලව': 1299, 'ඇතච': 148, 'වකද': 1159, 'ථව': 653, 'ටයර': 564, 'එඬ': 286, 'කඩද': 378, 'ලච': 1120, 'ලවත': 1148, 'අපනයන': 59, 'එකල': 279, 'ඩල': 598, 'අදහ': 43, 'තවයක': 645, 'කලය': 438, 'නඑ': 718, 'එලවල': 312, 'මහග': 956, 'බඩප': 862, 'රටක': 1052, 'අජ': 18, 'ලඔබ': 1107, 'කනග': 389, 'අමතකන': 69, 'අයග': 77, 'ජයගන': 540, 'යමසමග': 1006, 'මධ': 926, 'තරගය': 631, 'යමකට': 1001, 'රහන': 1100, 'යමෂ': 1005, 'සදර': 1269, 'ජයල': 542, 'උෂ': 258, 'ලරත': 1144, 'අදට': 38, 'ගතද': 461, 'පථය': 803, 'දයට': 678, 'කලක': 435, 'ජධ': 522, 'අවල': 108, 'හරන': 1362, 'අවසර': 111, 'කලහ': 439, 'ලබමහන': 1136, 'රචන': 1045, 'ඩත': 584, 'පවර': 839, 'එඑ': 263, 'අවරන': 107, 'අමතර': 71, 'ෂටර': 1234, 'කථන': 384, 'රමරත': 1079, 'ෂෆ': 1250, 'අකන': 4, 'වකය': 1160, 'චක': 513, 'රබව': 1074, 'ලදස': 1127}\n",
            "ngram level tf-idf_Vocabulary:  {'ද න': 1904, 'න එක': 2134, 'එක බද': 437, 'බද ධ': 2918, 'ධ ව': 2097, 'ව පක': 4246, 'පක ෂ': 2735, 'ෂ ම': 4462, 'ම ධ': 3106, 'ධ ල': 2095, 'ල ක': 3819, 'ක ර': 760, 'ර න': 3617, 'න ක': 2151, 'ක ප': 687, 'ප ර': 2652, 'ර ර': 3665, 'ර මහත': 3655, 'මහත න': 3299, 'න ව': 2421, 'අද ල': 40, 'ල අම': 3795, 'අම ව': 139, 'ව රස': 4291, 'රස හ': 3783, 'හ කල': 4811, 'කල ම': 994, 'ධ ස': 2100, 'ස කච': 4532, 'කච ච': 873, 'ච ව': 1291, 'ද න එක': 1906, 'න එක බද': 2137, 'එක බද ධ': 438, 'බද ධ ව': 2919, 'ධ ව පක': 2098, 'ව පක ෂ': 4247, 'ධ ල ක': 2096, 'ල ක ර': 3835, 'ක ර න': 773, 'ර න ක': 3618, 'න ක ප': 2157, 'ක ප ර': 692, 'ප ර ර': 2664, 'න ව දනය': 2433, 'අම ව රස': 140, 'ව රස හ': 4292, 'කල ම ධ': 996, 'ම ධ ස': 3108, 'ධ ස කච': 2101, 'ස කච ච': 4533, 'ම එක': 2989, 'එක සත': 450, 'සත ජ': 4741, 'ජ ත': 1311, 'ත ක': 1561, 'ක පක': 696, 'ෂ එක': 4443, 'ක ස': 833, 'ස පක': 4615, 'ෂ චන': 4451, 'ඉද ර': 265, 'ර ප': 3628, 'ප ව': 2714, 'ව ක': 4121, 'ක න': 675, 'ෂ ව': 4478, 'ම එක සත': 2992, 'එක සත ජ': 451, 'සත ජ ත': 4742, 'ජ ත ක': 1312, 'ත ක පක': 1566, 'ක පක ෂ': 697, 'පක ෂ එක': 2736, 'ස පක ෂ': 4616, 'පක ෂ චන': 2738, 'ඉද ර ප': 267, 'ර ප ව': 3637, 'ව ක න': 4122, 'ක ම': 705, 'ම තර': 3094, 'තර ක': 1784, 'ක හ': 849, 'හ ද': 4855, 'ද ව': 1991, 'ව ද': 4190, 'ද ගල': 1869, 'ම ම': 3148, 'ම ත': 3083, 'ත ර': 1678, 'ක හ ද': 855, 'හ ද ව': 4863, 'ද ව ද': 1996, 'ම ම ත': 3150, 'ම ත ර': 3091, 'එහ ක': 511, 'හ ම': 4887, 'ම උන': 2987, 'අප අය': 79, 'අය කරල': 144, 'ක හ ම': 858, 'ව මල': 4270, 'මල ග': 3279, 'ග න': 1096, 'න වග': 2449, 'එක ම': 440, 'ම ර': 3165, 'ව ඩ': 4162, 'ඩ කර': 1478, 'හ ර': 4903, 'ව ඩ කර': 4165, 'ල ජ': 3875, 'ජ ජ': 1309, 'ජ ස': 1330, 'ස හ': 4717, 'හ දර': 4867, 'දර ව': 2063, 'ද හ': 2034, 'ද ක': 1836, 'ක ක': 607, 'ක ඔබ': 605, 'ඔබ ක': 535, 'ක ව': 808, 'ව ස': 4330, 'ස ග': 4543, 'ග තම': 1085, 'තම බ': 1764, 'බ වහබ': 2894, 'වහබ ව': 4440, 'ද ද': 1885, 'ද මල': 1958, 'මල බ': 3283, 'බ ද': 2821, 'ද ම': 1948, 'ම ව': 3187, 'ල ජ ජ': 3876, 'ව ද හ': 4206, 'ද හ ද': 2037, 'හ ද ක': 4857, 'ද ක ක': 1838, 'ක ව ස': 823, 'ව ස ග': 4333, 'ස ග තම': 4545, 'ග තම බ': 1086, 'තම බ වහබ': 1773, 'බ වහබ ව': 2895, 'වහබ ව ද': 4441, 'ව ද ද': 4196, 'බ ද ම': 2826, 'ද ම ව': 1954, 'ම ව ද': 3191, 'බ වග': 2891, 'වග ප': 4366, 'ප න': 2628, 'න න': 2293, 'න ම': 2348, 'ම බ': 3143, 'පත න': 2746, 'න ද': 2259, 'ද ග': 1855, 'ග දර': 1092, 'එන න': 478, 'එතක ස': 470, 'ස ක': 4519, 'ර ද': 3598, 'අල ල': 184, 'ල ත': 3890, 'ත බ': 1627, 'බ බ': 2843, 'ප න න': 2631, 'න න ම': 2312, 'න ද ග': 2267, 'ස ක ර': 4525, 'ක ර ද': 772, 'ර ද හ': 3615, 'ල ත බ': 3892, 'ත බ බ': 1631, 'උත ර': 318, 'ර ඉල': 3530, 'ට එක': 1369, 'එක න': 428, 'න ග': 2175, 'ග නහ': 1124, 'ල තම': 3899, 'බ ස': 2898, 'ස ට': 4553, 'අය ක': 143, 'බ ල': 2872, 'ල බ': 3934, 'බ රන': 2871, 'රන ල': 3753, 'ල පර': 3933, 'පර ද': 2759, 'න හ': 2495, 'න ග නහ': 2183, 'ල තම බ': 3900, 'බ ස ට': 2899, 'ස ට එක': 4555, 'බ ල බ': 2881, 'ද න හ': 1923, 'නව න': 2555, 'න තම': 2253, 'බ කවද': 2806, 'ඉ උන': 235, 'උන ව': 352, 'ස ප': 4605, 'ප ත': 2614, 'ත ත': 1586, 'උ බ': 304, 'බ ව': 2886, 'ස ථ': 4572, 'උ ට': 301, 'බහ තර': 2977, 'න තම බ': 2254, 'ව ස ප': 4337, 'ස ප ත': 4608, 'ප ත ත': 2616, 'ඉත හ': 259, 'හ ස': 4922, 'ස ඉද': 4504, 'ර ම': 3646, 'ම හ': 3211, 'හ ල': 4911, 'අවක ෂ': 197, 'ෂ ද': 4455, 'ද අප': 1810, 'අප ප': 102, 'ප රන': 2679, 'රන ම': 3751, 'ම ප': 3133, 'ප ද': 2622, 'ද කල': 1853, 'කල ය': 999, 'ය ත': 3363, 'ත පස': 1626, 'පස ග': 2778, 'ග ය': 1152, 'ය ක': 3331, 'ක ල': 787, 'ල රට': 3972, 'රට ඇත': 3724, 'ඇත ව': 224, 'ඉත හ ස': 260, 'ස ඉද ර': 4505, 'ඉද ර ම': 268, 'ර ම හ': 3653, 'ම හ ල': 3220, 'ව ක ර': 4125, 'ක ර ම': 776, 'ද අප ප': 1811, 'රන ම ප': 3752, 'ම ප ද': 3136, 'කල ය ත': 1000, 'පස ග ය': 2779, 'ග ය ක': 1155, 'ය ක ල': 3336, 'ල රට ඇත': 3973, 'ඉස ල': 295, 'ල ම': 3945, 'ත රස': 1700, 'රස තව': 3777, 'තව ද': 1801, 'ද එහ': 1834, 'ඉස ල ම': 296, 'ල ම ත': 3948, 'ම ත රස': 3092, 'ත රස තව': 1702, 'රස තව ද': 3778, 'පල පල': 2770, 'බ හ': 2903, 'හ තම': 4853, 'තම ව': 1777, 'බල ග': 2945, 'ග හ': 1209, 'හ ට': 4819, 'ට අප': 1358, 'අප අප': 78, 'අප රට': 111, 'බල ගන': 2951, 'ගන න': 1230, 'තම බ හ': 1774, 'බල ග හ': 2949, 'ග හ ට': 1210, 'හ ට අප': 4820, 'ට අල': 1363, 'ල හ': 4047, 'හ හ': 4927, 'ර ග': 3559, 'න අය': 2115, 'ෂ ප': 4459, 'ප ල': 2693, 'ල ද': 3906, 'ද පර': 1942, 'ත හ': 1737, 'හ බ': 4883, 'ට අල ල': 1364, 'අල ල හ': 185, 'ර ග න': 3563, 'ෂ ප ල': 4460, 'හ ද හ': 4864, 'ද හ බ': 2038, 'ක ද': 661, 'ද යක': 1974, 'ඩ ප': 1499, 'ෆ ර': 4993, 'එක හ': 452, 'කරල ත': 979, 'එක ප': 432, 'ල ව': 4006, 'ග ස': 1201, 'ස ස': 4698, 'තම ල': 1776, 'හ ක': 4804, 'ක ය': 723, 'ත ත බ': 1594, 'ත බ ල': 1633, 'බ ල ව': 2884, 'හ ක ය': 4805, 'ස හලය': 4736, 'හලය ස': 4987, 'හ පක': 4882, 'ෂ න': 4457, 'න ත': 2228, 'ත ම': 1637, 'ම ද': 3095, 'බ ය': 2852, 'ය තම': 3370, 'ද තම': 1882, 'බ ප': 2839, 'ර ල': 3666, 'ම න': 3109, 'ත ඇත': 1541, 'ස හලය ස': 4737, 'ස හ පක': 4725, 'පක ෂ න': 2739, 'ෂ න ත': 4458, 'න ත ම': 2244, 'ත ම ද': 1642, 'තම බ ය': 1771, 'ය තම බ': 3371, 'ව ද තම': 4195, 'ද තම බ': 1883, 'තම බ ප': 1769, 'බ ප ර': 2842, 'ප ර ල': 2665, 'ර ල ම': 3669, 'ල ම න': 3949, 'ම න ත': 3114, 'න ත ඇත': 2230, 'ම ස': 3201, 'ස ල': 4658, 'ල ල': 3977, 'ල ලය': 4005, 'මරක ක': 3278, 'ක කරන': 622, 'ද ෂ': 2011, 'ෂ ර': 4470, 'ක ත': 653, 'ර කල': 3558, 'ල ප': 3923, 'ප ම': 2643, 'න ඇත': 2120, 'ස ව': 4672, 'ව එක': 4110, 'එක ක': 391, 'ය ව': 3433, 'ව න': 4216, 'ම ස ල': 3208, 'ස ල ල': 4665, 'ව ද ෂ': 4204, 'ෂ ර ල': 4471, 'ර ල ක': 3667, 'ල ක ත': 3828, 'ය ත ක': 3364, 'ත ක ල': 1570, 'ක ල ප': 797, 'ප ම න': 2644, 'ව එක ක': 4111, 'එක ක ය': 398, 'ක ය ව': 747, 'ය ව න': 3439, 'ව න ක': 4217, 'ර ව': 3673, 'න ඩ': 2216, 'ඩ කප': 1477, 'කප ග': 910, 'හ ප': 4879, 'ප ඩ': 2606, 'ඩ ඩ': 1489, 'ඩ ක': 1472, 'ව ව': 4306, 'න ප': 2322, 'ප කර': 2587, 'අපර ද': 117, 'ද ට': 1877, 'ක න ඩ': 678, 'න ඩ කප': 2220, 'ග හ ප': 1213, 'ප ඩ ඩ': 2610, 'ඩ ඩ ක': 1490, 'ක ව ව': 821, 'න ප කර': 2324, 'ඉන ටර': 271, 'ටර ව': 1463, 'ස ර': 4646, 'ර ස': 3692, 'ස එක': 4510, 'එක ද': 419, 'ද එක': 1830, 'රහ ම': 3784, 'න හර': 2517, 'හර න': 4965, 'ද ය': 1962, 'ය ල': 3425, 'ල වන': 4030, 'ඔල ම': 558, 'ප ප': 2637, 'ර ෆය': 3716, 'ෆය ල': 4999, 'ල එකක': 3813, 'එකක න': 455, 'න ඉත': 2124, 'ව ස ර': 4340, 'ස ර ස': 4654, 'ර ස එක': 3693, 'ස එක ද': 4513, 'එක ද එක': 420, 'රහ ම ස': 3785, 'ම ස ග': 3203, 'ස ග න': 4546, 'ග න හර': 1117, 'න හර න': 2519, 'න ද ය': 2277, 'ද ය ල': 1971, 'ය ල වන': 3431, 'ඔල ම ප': 559, 'ප ප ර': 2640, 'ප ර ෆය': 2669, 'ර ෆය ල': 3717, 'ර ය': 3656, 'ය සද': 3459, 'සද ද': 4746, 'පඩය ග': 2741, 'ග ග': 1058, 'ඉස සර': 298, 'සර ව': 4783, 'ව ල': 4293, 'ද වන': 2008, 'වන න': 4393, 'ය ට': 3359, 'හර හ': 4978, 'ද ස': 2020, 'ස වද': 4686, 'ක ගහන': 633, 'ය සද ද': 3460, 'ව ල ද': 4296, 'ක ය ක': 732, 'හම බ': 4946, 'සමහර න': 4777, 'න උන': 2131, 'හල ල': 4981, 'ල කන': 3847, 'කන ද': 906, 'ද ෂප': 2015, 'ෂප ලන': 4494, 'ලන ප': 4074, 'න ස': 2470, 'ස ද': 4574, 'ම ල': 3174, 'ල ග': 3854, 'න හම': 2514, 'ම ඩ': 3077, 'චන ද': 1293, 'යක ද': 3472, 'ට ව': 1440, 'ව අහ': 4098, 'අප ස': 113, 'ර ල කන': 3668, 'ල කන ද': 3849, 'කන ද ෂප': 907, 'ද ෂප ලන': 2019, 'ප ප න': 2638, 'ප න ස': 2634, 'න ස ද': 2476, 'ස ද ව': 4583, 'ද ව ව': 2003, 'ව ව ක': 4307, 'ක න ම': 682, 'න ම ල': 2358, 'ම ල ග': 3176, 'ල ග න': 3861, 'ග න හම': 1116, 'න හම හ': 2516, 'හ ර ද': 4905, 'ර ද න': 3608, 'ද න ම': 1915, 'න ම ඩ': 2351, 'ම ඩ චන': 3079, 'ම හම': 3224, 'හම ස': 4958, 'එක ව': 445, 'කර ප': 942, 'ඩ ස': 1524, 'ස ම': 4628, 'එක ත': 415, 'ප ට': 2596, 'ට අව': 1365, 'ලස ස': 4087, 'ල අව': 3800, 'මම හම': 3272, 'ස එක ව': 4515, 'ප ඩ ස': 2613, 'ඩ ස ම': 1525, 'ම එක ත': 2991, 'එක ත බ': 416, 'බ බ ප': 2845, 'බ ප ට': 2840, 'ලස ස ම': 4089, 'ස ම ස': 4633, 'ම ස ක': 3202, 'ස ක ක': 4520, 'ක ක ල': 617, 'ක ල ල': 799, 'ල ල අව': 3979, 'මම හම ස': 3273, 'ස බ': 4619, 'බ අව': 2787, 'බ ර': 2854, 'ල අක': 3787, 'ව සද': 4345, 'එස ව': 509, 'ව ය': 4273, 'ල න': 3912, 'ද ර': 1976, 'ර අව': 3524, 'අව ල': 190, 'ක ට': 638, 'ට ප': 1418, 'ප රෂ': 2685, 'රෂ න': 3771, 'ල බ ර': 3940, 'බ ර ම': 2864, 'ර ම ස': 3652, 'ල න ද': 3917, 'න ද ර': 2278, 'අව ල ක': 191, 'ල ක ක': 3822, 'ක ක ට': 609, 'ක ට ප': 644, 'ප රෂ න': 2686, 'බල ම': 2959, 'අම ත': 126, 'ද ජම': 1876, 'අන තව': 68, 'එක ස': 449, 'ගත ත': 1218, 'ත න': 1607, 'න අන': 2110, 'හ එක': 4802, 'අව ස': 194, 'ඩ ද': 1494, 'ද ල': 1986, 'ඉ ක': 238, 'සල ල': 4788, 'හ ග': 4812, 'ගස කන': 1264, 'ත ප': 1619, 'න වත': 2451, 'වත ම': 4381, 'අන තව ද': 69, 'ස ව ව': 4682, 'ව ව ල': 4316, 'අව ස ස': 196, 'ස ස ව': 4711, 'ව ඩ ද': 4170, 'ල ල හ': 3998, 'ත ප ද': 1623, 'ද ද න': 1889, 'න වත ම': 2453, 'කර ග': 928, 'හ තන': 4851, 'තන බ': 1751, 'බ ග': 2807, 'කඩ ග': 888, 'ත ව': 1704, 'ව පස': 4249, 'පස ස': 2781, 'බ එක': 2792, 'කඩ ත': 889, 'ර වන': 3684, 'වන ද': 4390, 'ද ගත': 1865, 'ත අන': 1537, 'අන ඩ': 62, 'එකප ර': 462, 'ර පල': 3640, 'පල ල': 2771, 'අද ර': 38, 'ර ත': 3590, 'ප හ': 2729, 'හ ත': 4833, 'ත ඉන': 1548, 'ඉන න': 277, 'න අම': 2113, 'අම අය': 124, 'ය උන': 3318, 'ම න ස': 3125, 'න ස ස': 2486, 'ස ස ක': 4702, 'ග න ත': 1102, 'න ත ව': 2248, 'ව පස ස': 4250, 'ද ගත ත': 1866, 'ර ප ට': 3630, 'අද ර ත': 39, 'ප හ ත': 2731, 'ත ඉන න': 1549, 'ක ල ක': 791, 'ල ක ය': 3833, 'ක ය උන': 726, 'බ බ හ': 2847, 'බ හ ද': 2906, 'ච එක': 1274, 'ද ධ': 1896, 'ධ ප': 2083, 'ප ජ': 2595, 'ල කල': 3853, 'කල එක': 983, 'එකත ව': 461, 'බ ද ධ': 2824, 'ද ධ ප': 1899, 'ල පත': 3931, 'පත ත': 2744, 'න ෂ': 2463, 'කල ප': 990, 'ද අර': 1815, 'අර බ': 169, 'න බ': 2338, 'ව ල පත': 4298, 'ල පත ත': 3932, 'ත ව න': 1709, 'ව න ෂ': 4227, 'ද අර බ': 1816, 'අර බ ය': 171, 'ය ව ක': 3434, 'ග න බ': 1107, 'හ ම එක': 4888, 'එක ව න': 446, 'ව න ම': 4224, 'නස ක': 2563, 'ව තම': 4186, 'බ ක': 2795, 'ද රට': 1984, 'එක කර': 403, 'කර ද': 937, 'ව ත': 4177, 'ත ය': 1654, 'ය ග': 3343, 'ග ම': 1143, 'ගහ ක': 1267, 'ය ම': 3405, 'ල සහ': 4046, 'ක ව න': 816, 'න ක ව': 2164, 'තම බ ක': 1765, 'බ ක ව': 2800, 'ක ව ක': 810, 'ව ක ව': 4128, 'එක කර ද': 404, 'කර ද ව': 939, 'ව ත ය': 4183, 'ත ය ග': 1659, 'ය ග ම': 3347, 'ක ය ම': 741, 'ය ම ස': 3414, 'ව ම': 4256, 'ල ස': 4038, 'හ ජ': 4816, 'න ජ': 2204, 'ව නස': 4233, 'ම ජ': 3063, 'ද අව': 1818, 'ස කව': 4542, 'අද ක': 31, 'තබ ග': 1754, 'ග ඉ': 1043, 'ව ම ස': 4264, 'ස ල ස': 4667, 'ස හ ජ': 4720, 'හ ජ ත': 4817, 'ජ ත ව': 1314, 'ත ව ක': 1705, 'න ජ ත': 2205, 'ජ ත ය': 1313, 'ත ය ව': 1670, 'ය ව නස': 3440, 'ත ව ද': 1707, 'ව ද අව': 4191, 'ද අව ස': 1819, 'හ ම ම': 4896, 'ම ම හ': 3156, 'න ඔන': 2146, 'ඔන න': 528, 'ද වල': 2010, 'වල උර': 4414, 'උබ ග': 360, 'ඔන න ද': 529, 'න කම': 2168, 'අහන න': 216, 'න එද': 2142, 'එද ප': 474, 'ව ෂ': 4326, 'බ න': 2833, 'න සම': 2492, 'සම ජ': 4760, 'ජ ම': 1322, 'ධ ය': 2091, 'ය වග': 3446, 'ක මහ': 722, 'මහ න': 3293, 'න මහත': 2369, 'මහත ත': 3298, 'ත එක': 1556, 'ස හල': 4734, 'හල න': 4980, 'ය අප': 3308, 'අප ත': 96, 'එද ප ර': 475, 'ත ව ෂ': 1716, 'ව ෂ ව': 4328, 'ල බ න': 3938, 'සම ජ ම': 4761, 'ම ධ ය': 3107, 'ප ත ර': 2620, 'මහ න මහත': 3295, 'න මහත ත': 2370, 'ත එක ක': 1557, 'එක ක න': 394, 'ක න හ': 684, 'න හ ස': 2510, 'ස හල න': 4735, 'ව ක ය': 4123, 'ක ය අප': 724, 'ද අල': 1817, 'අල ප': 183, 'ත ද': 1604, 'බල හ': 2965, 'හ න': 4868, 'ස වල': 4691, 'ව ට': 4151, 'ට එ': 1368, 'එ ප': 371, 'අතල එක': 28, 'එක අර': 377, 'බ හ ත': 2905, 'හ ත ත': 4838, 'ත ත ම': 1595, 'ත ම ර': 1645, 'ම ර න': 3170, 'ර න ද': 3622, 'න ද අල': 2261, 'ල හ ල': 4053, 'හ ල ක': 4912, 'ල ක ව': 3838, 'ල ප ර': 3927, 'ත ත ද': 1591, 'හ න ද': 4874, 'න ද ව': 2281, 'ද ව ස': 2005, 'ව ස ස': 4343, 'ද ය ක': 1964, 'ය ක ව': 3337, 'න උබ': 2132, 'ව දග': 4207, 'අන ක': 58, 'බ ම': 2848, 'අදහස ක': 51, 'නවත ව': 2561, 'ව ග': 4135, 'ග ර': 1167, 'ර ක': 3537, 'ද ත': 1879, 'ය අර': 3313, 'ය ගර': 3352, 'ගර කර': 1249, 'වත ව': 4383, 'ර ට': 3582, 'ට ක': 1376, 'ස න': 4589, 'තම බ න': 1768, 'ව ග ර': 4139, 'ක ප හ': 695, 'ප හ ද': 2732, 'ද ත ය': 1881, 'ග න න': 1104, 'න න ස': 2316, 'න ස හ': 2487, 'ස හ ස': 4731, 'ස ක ත': 4522, 'ක ත ය': 658, 'ප ර ට': 2655, 'ර ට ක': 3583, 'ට ක ස': 1385, 'ක ස න': 840, 'ස න ත': 4592, 'ට ක ල': 1383, 'ව තර': 4187, 'ඔන ක': 524, 'ය න': 3376, 'උන ද': 341, 'ක ඇත': 584, 'ව ප': 4237, 'ප රධ': 2678, 'ග ටල': 1069, 'ව හ': 4349, 'ව අන': 4093, 'ව ධ': 4214, 'කල ව': 1004, 'ම අය': 2981, 'වර න': 4406, 'හල ල ව': 4983, 'ඔන ක ය': 526, 'ක ය න': 738, 'න ග න': 2182, 'ග න උන': 1098, 'උන ද න': 342, 'ද න ද': 1912, 'න ද ල': 2279, 'ද ල ක': 1987, 'ව හ ත': 4351, 'හ ත ව': 4846, 'ද ස ව': 2027, 'ස ව ධ': 4676, 'එක ක ස': 401, 'ව ඩ ක': 4164, 'චන ද ද': 1294, 'ද න න': 1913, 'න න න': 2309, 'ඉත ල': 258, 'ක ඉ': 585, 'ර ගත': 3567, 'ත තම': 1602, 'ල එ': 3807, 'ච ස': 1292, 'ස වර': 4688, 'වර ධ': 4403, 'ර ගත ත': 3568, 'ස න ස': 4599, 'ස වර ධ': 4689, 'ග ල': 1178, 'ෂප ලකය': 4493, 'අවෂ ය': 199, 'ය ස': 3452, 'ය හ': 3462, 'හ අය': 4799, 'අය ස': 156, 'ද ග ල': 1861, 'ග ල ල': 1181, 'ල ල බ': 3991, 'බ ර න': 2862, 'ර න න': 3623, 'ස හ ද': 4723, 'ද ෂප ලකය': 2018, 'ය ස ද': 3453, 'ද ය හ': 1973, 'උද ස': 321, 'ස ය': 4636, 'ස ත': 4561, 'ත යක': 1674, 'ට ය': 1428, 'න ජනත': 2207, 'ජනත ව': 1344, 'ත ඉස': 1550, 'අර ප': 168, 'ක ම ප': 712, 'ම ප ර': 3138, 'ප ර ස': 2667, 'හ ට ය': 4828, 'ට ය ව': 1434, 'ය ව ම': 3441, 'ව ම න': 4260, 'ව ප ර': 4240, 'න ත ප': 2242, 'ත ප ර': 1624, 'බ ප ත': 2841, 'න අඩ': 2105, 'ම ක': 3005, 'ය ප': 3388, 'ට මග': 1427, 'අක ක': 5, 'ස ප න': 4609, 'බ ක ල': 2799, 'ය ම ක': 3406, 'ම ක ය': 3024, 'ක ය ප': 739, 'ප හ ට': 2730, 'හ ට මග': 4827, 'මත ක': 3243, 'ත ල': 1703, 'ස උන': 4509, 'උන අද': 323, 'අව ර': 188, 'ම ය': 3160, 'න ට': 2208, 'ට න': 1414, 'ව පත': 4248, 'ක හ ත': 854, 'ව න ස': 4228, 'ම ල ල': 3180, 'ල ල ක': 3982, 'න ස උන': 2471, 'අව ර ද': 189, 'ර ද ම': 3610, 'ම ය ග': 3162, 'ග ය ස': 1162, 'ය ල ද': 3428, 'ල ද න': 3909, 'ද න ට': 1910, 'න ස ව': 2485, 'ස ව පත': 4679, 'ඔන ව': 531, 'හ අක': 4797, 'අක ර': 6, 'ර හර': 3714, 'හර ය': 4971, 'ල ය': 3959, 'ය බ': 3401, 'ඔන ව ද': 532, 'හ ස හ': 4925, 'ස හ අක': 4718, 'ර න ස': 3626, 'න ස හල': 2489, 'න ද හ': 2283, 'ද හ ට': 2035, 'රට බ': 3732, 'ස යල': 4641, 'යල ක': 3501, 'මල ස': 3288, 'ස ධ': 4588, 'ධ න': 2082, 'බ ද ස': 2829, 'ක න ද': 680, 'න ද ස': 2282, 'ද මල ස': 1960, 'අන ව': 73, 'ව ර': 4281, 'බ කර': 2802, 'කර බ': 944, 'එක ඉ': 381, 'අන ව ර': 74, 'ව ර ය': 4285, 'හම බ කර': 4949, 'කල අද': 980, 'ල ස න': 4041, 'අම ග': 125, 'ග ව': 1184, 'ත යන': 1675, 'එය ග': 488, 'ම ට': 3067, 'ට ත': 1403, 'ග ව ත': 1187, 'ත ත ත': 1590, 'ස හ බ': 4726, 'හ බ ද': 4884, 'ල ජ ත': 3877, 'ත ක න': 1564, 'ර ජ': 3572, 'ව බ': 4251, 'ට ග': 1394, 'ග කර': 1056, 'කව ර': 1019, 'ට අරක': 1361, 'අරක ෂක': 177, 'ෂක ල': 4487, 'ක ටය': 647, 'ර හ': 3708, 'ධ පත': 2087, 'ට බ': 1421, 'ර ජ ම': 3575, 'ල ම ක': 3946, 'කව ර හර': 1021, 'හ ට අරක': 4821, 'ට අරක ෂක': 1362, 'අරක ෂක ල': 178, 'ෂක ල ක': 4488, 'බ ර හ': 2868, 'බ ක ය': 2798, 'ම හ හ': 3222, 'හ හ ත': 4928, 'හර ෂ': 4975, 'එතක ඔය': 469, 'ඔය එක': 546, 'ෂ එකට': 4446, 'එකට න': 457, 'ත රට': 1694, 'රට හ': 3736, 'පක ෂ එකට': 2737, 'න ත ත': 2238, 'වයස ක': 4398, 'ය ද': 3372, 'ද උබ': 1826, 'උබ හ': 363, 'න වයස': 2455, 'එක අන': 375, 'ක ය ද': 737, 'හද ස': 4940, 'උන එක': 328, 'පල ක': 2765, 'ව අය': 4096, 'අය ත': 148, 'ස ය උන': 4637, 'උන එක ක': 329, 'එක ක ල': 399, 'ක ල එ': 789, 'ක ව අය': 809, 'ත න ක': 1608, 'උන ස': 355, 'ස හ න': 4724, 'අර ද': 166, 'ල ස ට': 4039, 'ග ම ගහග': 1145, 'යන න': 3488, 'ම ගල': 3057, 'ත ස': 1728, 'බ උන': 2791, 'ගත ත ස': 1221, 'ය ත න': 3365, 'න හම බ': 2515, 'හම බ උන': 4947, 'වසර ද': 4434, 'ස නම': 4603, 'න යම': 2392, 'යම ත': 3497, 'ච ත': 1283, 'බල ගත': 2950, 'ද ස හ': 2029, 'ක ව ම': 818, 'න යම ත': 2393, 'සන ධ': 4749, 'ග ක': 1050, 'සන ධ න': 4750, 'ත ත ව': 1597, 'ත ව හ': 1718, 'ඩ ල': 1513, 'ඩ ල ක': 1514, 'ක යන': 751, 'න හද': 2512, 'හද න': 4936, 'ව ඔන': 4115, 'ය අම': 3310, 'අම මප': 136, 'ම ක ල': 3026, 'ක ක යන': 615, 'ක යන න': 752, 'න හද න': 2513, 'හද න ව': 4938, 'න ව ඔන': 2425, 'ය අම මප': 3311, 'ම ම න': 3151, 'ප ස': 2724, 'ට ස': 1453, 'ප ස ස': 2727, 'ස ස න': 4706, 'ස න ට': 4591, 'න ට ස': 2215, 'හ ස ව': 4924, 'ස ව ල': 4681, 'ල ය ද': 3961, 'ලග න': 4067, 'න වසර': 2460, 'ම කද': 3039, 'ස න ද': 4593, 'ඔව ඔව': 561, 'තම න': 1761, 'ඩ ව': 1515, 'දර ග': 2059, 'ය ඔය': 3329, 'ඔය ම': 552, 'තම න ව': 1762, 'න ව ඩ': 2429, 'ව ඩ ව': 4174, 'ඩ ව ක': 1516, 'ක ස ත': 838, 'ස ත ය': 4566, 'ත ය ක': 1658, 'ක ල ග': 793, 'ල ග දර': 3860, 'ග දර ග': 1093, 'දර ග ය': 2060, 'හම බ ව': 4953, 'හ ව': 4917, 'ය කරන': 3341, 'දන න': 2048, 'න රට': 2403, 'තමන ග': 1781, 'මව බ': 3291, 'බ ෂ': 2896, 'ස හ ව': 4730, 'හ ව ය': 4919, 'දන න න': 2049, 'න න එක': 2301, 'න එක ම': 2138, 'ම ක ද': 3019, 'ක ද ල': 667, 'ද ල ත': 1988, 'ල ත ය': 3894, 'ත ය න': 1663, 'ය න න': 3381, 'පල හ': 2775, 'ග ඩ': 1070, 'ක තර': 660, 'එ ම': 373, 'හ න ප': 4875, 'න ප ට': 2325, 'ප ට ය': 2602, 'ද ග ඩ': 1857, 'ග ඩ ද': 1071, 'ඩ ද ක': 1495, 'ඉන ද': 275, 'ගල ද': 1260, 'ද යන': 1975, 'ඉන ද ය': 276, 'ප ද ගල': 2624, 'ව ව හ': 4318, 'අච ච': 14, 'ස හම': 4732, 'ස හම බ': 4733, 'පන ද': 2753, 'ර ධ': 3616, 'ද ය ව': 1972, 'ය ව ව': 3444, 'ව ල ස': 4303, 'ස න ව': 4598, 'න ව ර': 2442, 'ව ර ධ': 4284, 'ෂප ල': 4491, 'ල අර': 3798, 'ද සත': 2030, 'ම ග': 3051, 'ෂ ෂ': 4481, 'අවස ථ': 201, 'ස හ ල': 4729, 'ල ක ද': 3829, 'ක ද ෂප': 669, 'ද ෂප ල': 2017, 'ෂප ල අර': 4492, 'ල අර බ': 3799, 'අර බ ද': 170, 'ම ග ය': 3055, 'ස ව ෂ': 4683, 'ව ෂ ෂ': 4329, 'ම නස': 3131, 'ය අබ': 3309, 'අබ ය': 121, 'චන ධ': 1296, 'ත සම': 1735, 'ත ර ප': 1685, 'ර ප ස': 3638, 'ප ස ර': 2726, 'ර ස න': 3696, 'ස න ම': 4597, 'ම නස ක': 3132, 'ක ස ක': 835, 'ස ක ය': 4524, 'ක ය අබ': 725, 'ප ත සම': 2621, 'න අවස': 2118, 'ක ල ද': 795, 'මෆ ය': 3302, 'ය අධ': 3306, 'අගම ත': 13, 'න ය': 2371, 'ය ච': 3353, 'අ ම': 2, 'ය ම න': 3409, 'ම න ය': 3121, 'න ය ච': 2373, 'ය ම ම': 3410, 'රස ස': 3781, 'ව කල': 4134, 'ම වත': 3198, 'වසර කට': 4432, 'කට පස': 881, 'ධ ර': 2092, 'ව මත': 4268, 'ය පත': 3398, 'රස ස ව': 3782, 'ර ප ම': 3632, 'ප ම වත': 2645, 'වසර කට පස': 4433, 'ජන ධ': 1336, 'මල ජ': 3280, 'න සන': 2491, 'ජ ය': 1323, 'ප බ': 2642, 'බ ධ': 2832, 'ල ක ස': 3841, 'ක ස ද': 839, 'ජන ධ ප': 1337, 'ද මල ජ': 1959, 'මල ජ ත': 3281, 'ව ද න': 4197, 'ධ ර ජ': 2093, 'ර ජ ය': 3576, 'ල ඩ': 3886, 'ට ද': 1408, 'ඩ ප ට': 1500, 'ප ට ද': 2599, 'ට ද ව': 1412, 'ල එක': 3809, 'එක ඉන': 382, 'ග පල': 1133, 'ම න ප': 3117, 'න ප ර': 2331, 'ප ර ප': 2660, 'ර ප ල': 3636, 'ප ල එක': 2694, 'ක ය ග': 733, 'අවස න': 203, 'න පල': 2335, 'ද ක ල': 1846, 'ද අම': 1813, 'ද ප': 1931, 'ද ප ත': 1934, 'ල හම': 4055, 'බ කරන': 2804, 'කරන න': 970, 'ව යද': 4278, 'ප ග': 2589, 'ල හම බ': 4056, 'හම බ කරන': 4951, 'බ කරන න': 2805, 'න ද ක': 2266, 'ද ක ව': 1847, 'කරන න ස': 973, 'න ස ප': 2478, 'ග න ද': 1103, 'ප වත': 2721, 'අම ප': 129, 'ද දක': 1894, 'හම බය': 4954, 'ත වද': 1721, 'රට ජ': 3727, 'අනත ර': 76, 'අම ප ර': 130, 'රට ජ ත': 3728, 'ර ස හ': 3703, 'මල ල': 3284, 'ත හම': 1742, 'එ බ': 372, 'එක ගහ': 412, 'ල ල ල': 3995, 'ල ත ත': 3891, 'බ හ ග': 2904, 'හ ග හ': 4815, 'ප ට එක': 2597, 'ය ඔන': 3328, 'ර වට': 3683, 'වට ක': 4375, 'ල ට': 3880, 'ට ට': 1398, 'ට ම': 1425, 'ම බර': 3147, 'ක මර': 721, 'ග ප': 1126, 'බ ර ක': 2857, 'ර ක ය': 3543, 'ක ය ඔන': 731, 'න බ ර': 2341, 'ස ස ර': 4710, 'ස ර වට': 4653, 'ල න ඩ': 3915, 'ග ප ල': 1131, 'ප ල වන': 2706, 'ට ර': 1436, 'අය ම': 154, 'න ගර': 2197, 'ල ය ල': 3962, 'ය ල ක': 3426, 'න ද න': 2272, 'ම ක න': 3020, 'සම ප': 4765, 'එය ල': 492, 'සම ප ර': 4766, 'ප ර න': 2659, 'ල එක ද': 3811, 'එක ද න': 424, 'ඉරනමඩ ව': 286, 'ය කත': 3339, 'ඇත ත': 219, 'ව ඩඩ': 4176, 'බ ද ද': 2823, 'ද ද ම': 1891, 'ද ම ම': 1951, 'ම ම ක': 3149, 'ත න ත': 1610, 'ධ ම': 2089, 'ඩ ඔන': 1471, 'ම ක ම': 3023, 'ක ස හ': 846, 'ද ධ ම': 1900, 'ම ක ව': 3028, 'ක ව ඩ': 812, 'ඔන ක න': 525, 'ක න ක': 676, 'න ක ට': 2154, 'අප බ': 105, 'බ ජ': 2812, 'ජ ක': 1303, 'ක අය': 580, 'ධ ග': 2079, 'අය ත ක': 149, 'ත ක ර': 1569, 'ක ර ව': 778, 'ද ධ ග': 1898, 'ද න ව': 1919, 'න ව න': 2434, 'ව න න': 4223, 'න න ප': 2310, 'න ප ල': 2332, 'ප ල න': 2698, 'ර එක': 3533, 'ද නය': 1927, 'ව වත': 4320, 'නය ග': 2544, 'ග ඩනග': 1079, 'හ ක ව': 4808, 'ම ල ක': 3175, 'ල ද ව': 3911, 'ද ව න': 1997, 'ව න ත': 4221, 'න ත ස': 2250, 'ත ස හ': 1732, 'ර ෆ': 3715, 'ර හම': 3713, 'ත ය ප': 1665, 'ය ප ර': 3394, 'සම ව': 4772, 'ද හර': 2042, 'ව නක': 4230, 'ද එ': 1829, 'ඔය ල': 554, 'ග ඩ ව': 1074, 'ඩ ව ද': 1517, 'බ ව න': 2889, 'අම ර': 137, 'හ ය': 4899, 'හ ය හ': 4902, 'ය හ ය': 3467, 'ම කත': 3038, 'කත ල': 897, 'උත තර': 316, 'ර මන': 3654, 'මන ක': 3251, 'ර කත': 3554, 'ව ච': 4145, 'ච ච': 1277, 'ධර ම': 2103, 'පරම පර': 2763, 'කත ල ක': 898, 'ද ධ ව': 1903, 'ව ද ම': 4199, 'ක ර කත': 765, 'ව ච ච': 4146, 'ක ක ක': 608, 'ක ක ර': 616, 'ර ම න': 3649, 'බස එක': 2975, 'එක ඩ': 414, 'ද අහ': 1820, 'ට චර': 1396, 'ත යනව': 1677, 'ය මන': 3417, 'ස කර': 4537, 'න ල': 2408, 'ල මට': 3954, 'මට ද': 3236, 'ය යන': 3422, 'යන ම': 3493, 'සල ල ත': 4791, 'ක ය මන': 743, 'න ක ය': 2159, 'ය න ව': 3385, 'ඩ ක ල': 1476, 'ල ක ල': 3837, 'ද ය යන': 1970, 'ල ක ප': 3831, 'ය ක ය': 3333, 'ක ය හ': 749, 'ය හ ත': 3464, 'හ ත න': 4840, 'ක යල': 754, 'යල ල': 3505, 'ය ල ස': 3432, 'ය ක න': 3332, 'ක ය බ': 740, 'ම ජනත': 3066, 'ල උන': 3805, 'උන ට': 338, 'ට හ': 1458, 'හ දට': 4865, 'ජනත ර': 1343, 'අර ම': 172, 'හ ම ද': 4893, 'ම ද ම': 3099, 'ස යල ල': 4643, 'ව න හ': 4229, 'න හ ද': 2502, 'අම ර ව': 138, 'ර ව ට': 3674, 'ල ය ක': 3960, 'ය ක ස': 3338, 'ස හ ම': 4727, 'හ ම න': 4894, 'ම අන': 2979, 'අත හ': 26, 'මග එක': 3226, 'ම කට': 3036, 'කට ට': 877, 'ස උත': 4508, 'කත ව': 899, 'ර බ': 3643, 'හ දන': 4866, 'හ ද ම': 4862, 'ද ම හ': 1956, 'එක ක ම': 397, 'ක ම හ': 716, 'ද ක ම': 1843, 'පස ස උත': 2782, 'ව ග හ': 4141, 'ග හ න': 1212, 'ප ර බ': 2661, 'ත ත හ': 1600, 'ම න න': 3116, 'න ර': 2394, 'ග රහ': 1177, 'අඩ ග': 15, 'ය මම': 3418, 'මම ප': 3268, 'ද සන': 2031, 'ෂ ක': 4447, 'ග ක ව': 1054, 'ක ව ය': 819, 'ව ය ම': 4275, 'ය ම ව': 3413, 'ම ව න': 3192, 'ද න ස': 1922, 'බ න ද': 2837, 'න ස න': 2477, 'න ව සහ': 2447, 'පල ප': 2769, 'ෂ බ': 4461, 'ක යව': 756, 'යව ම': 3512, 'ම ෂ': 3200, 'ස ද ස': 4584, 'ස ප ල': 4613, 'ප ල ව': 2705, 'ල ව ක': 4010, 'න ව යද': 2441, 'ග ට': 1063, 'කරල ක': 978, 'මට ම': 3238, 'අම ම': 131, 'ල තර': 3901, 'නය එක': 2543, 'සම බන': 4769, 'ක න ග': 677, 'න ග ට': 2178, 'ග ට ක': 1064, 'ට ක ප': 1380, 'ක ප ඩ': 690, 'ප ඩ ව': 2612, 'ඩ ව ල': 1519, 'ව ල ව': 4301, 'ල ව ව': 4021, 'ව ව ය': 4314, 'ම න ග': 3111, 'න ග හ': 2191, 'අම ම ක': 132, 'ක ත ත': 656, 'ත ත ක': 1588, 'න ක ද': 2155, 'ක ද ව': 668, 'ද ව ක': 1992, 'ස ස හ': 4713, 'හ න ග': 4871, 'න ග ක': 2176, 'ග ක න': 1051, 'න ම ස': 2360, 'නය ව': 2548, 'ගර ත': 1253, 'ව ඔබ': 4116, 'ඔබ න': 537, 'න කර': 2169, 'කර ගත': 930, 'ත වරන': 1723, 'න සය': 2494, 'ඔබ ස': 543, 'කත න': 896, 'තර ස': 1793, 'ජනත ම': 1342, 'නන ස': 2536, 'ව ද ය': 4200, 'ද ය ත': 1966, 'ය ත බ': 3366, 'කර ගත ත': 931, 'ගත ත ම': 1220, 'ත ම ත': 1641, 'ම ත වරන': 3093, 'ව ද ව': 4203, 'න ව ම': 2439, 'තර ස හ': 1794, 'ම ක ර': 3025, 'හ මද': 4898, 'ඉ බ': 244, 'ව ඩක': 4175, 'න එ': 2133, 'එ ද': 369, 'ද දර': 1895, 'දර ෂන': 2065, 'මත ප': 3244, 'කක ල': 872, 'ක ග': 624, 'බ ඇත': 2788, 'ඇත ල': 223, 'හ ට ව': 4830, 'ව බ ද': 4254, 'ත ම ස': 1647, 'ර කර': 3555, 'ද ඔන': 1835, 'ධ කර': 2078, 'හ අප': 4798, 'ම රට': 3173, 'රට ව': 3733, 'තර අප': 1783, 'ල ටර': 3883, 'ර ගන': 3569, 'න ය ද': 2376, 'ර බ ර': 3644, 'බ ම බ': 2849, 'ප ර ක': 2653, 'ර ක ට': 3540, 'ක ට ක': 640, 'ට ක හ': 1386, 'ක හ හ': 861, 'ව ස ල': 4341, 'ත ර ගන': 1681, 'නහ ර': 2568, 'ම වර': 3199, 'ය අය': 3312, 'ද කර': 1852, 'කර ව': 951, 'එය ප': 490, 'ප රජ': 2672, 'ධ ද': 2081, 'කන ඩ': 902, 'ඩ ය': 1507, 'ග නහ ර': 1125, 'ම න ම': 3119, 'න ම ත': 2352, 'ම ත ද': 3085, 'ත ද න': 1605, 'ද න ග': 1909, 'න ත ර': 2247, 'ත ර ක': 1679, 'ල කන ඩ': 3848, 'කන ඩ ය': 903, 'ක ස ව': 844, 'ර න ග': 3619, 'ර න ම': 3624, 'ක වට': 825, 'ගස ග': 1265, 'ට ය ල': 1433, 'ල ක වට': 3839, 'ය ව ල': 3443, 'ක ඉස': 593, 'ඉස ක': 293, 'ද ජ': 1872, 'පත ර': 2748, 'ම දල': 3105, 'ම න ෂ': 3124, 'න ෂ ර': 2468, 'ල ක ඉස': 3820, 'ඉස ක ල': 294, 'ද ජ ත': 1873, 'ර ව ම': 3679, 'ජ ප': 1318, 'ප රම': 2680, 'පර ජ': 2758, 'රම න': 3760, 'ස ජ': 4552, 'ජ ව': 1327, 'ඉත ර': 257, 'ව ඇත': 4099, 'ෆ ව': 4996, 'ද කත': 1851, 'කත කරන': 893, 'අන ර': 72, 'ජ ප රම': 1320, 'ප රම න': 2681, 'ත ක ස': 1572, 'ජ ව ප': 1329, 'කත කරන න': 894, 'ර ක ම': 3542, 'ක ම ර': 714, 'යද ද': 3480, 'න ච': 2201, 'ච ප': 1287, 'න බල': 2347, 'ක රට': 781, 'ව උන': 4107, 'උන ග': 336, 'ක ලන': 803, 'ව ඉවර': 4104, 'පර ද ක': 2760, 'ද ක ත': 1840, 'ක ත න': 657, 'න එක ක': 2136, 'ක ද ම': 666, 'ම හ ව': 3221, 'ම ව ස': 3197, 'ර ස ද': 3695, 'ස ද ධ': 4578, 'කට ක': 875, 'ක ඩ': 650, 'ල රහ': 3976, 'කද ල': 901, 'ක ගහ': 632, 'උන ක': 332, 'ව අම': 4095, 'ගහ ග': 1268, 'ප රව': 2683, 'රව ත': 3767, 'ඩ න': 1497, 'ඉද ක': 261, 'ස තර': 4571, 'තර ව': 1792, 'ත යන න': 1676, 'න ප ම': 2330, 'ම උන ක': 2988, 'උන ක ය': 333, 'ද ර ද': 1979, 'න න ල': 2314, 'න ල ක': 2409, 'ප රව ත': 2684, 'න ම ක': 2349, 'ද ස තර': 2023, 'ය සම': 3461, 'න වර': 2456, 'වර ප': 4409, 'පත ව': 2749, 'න අ': 2104, 'ප ලකය': 2709, 'ස හ ත': 4722, 'හ ත ය': 4844, 'ග ර ම': 1171, 'ව ග න': 4137, 'එක නවත': 430, 'නවත ත': 2559, 'බඩ ප': 2914, 'ස එකට': 4516, 'තම ක': 1757, 'එක නවත ත': 431, 'නවත ත බ': 2560, 'ම බ හ': 3146, 'ග ක ය': 1052, 'ක ය ස': 748, 'න න ව': 2315, 'න ව ත': 2430, 'ප ල හ': 2708, 'ල හ ද': 4050, 'න ක න': 2156, 'අප ම': 108, 'ක පව': 698, 'පව ල': 2776, 'පද ච': 2750, 'ච කර': 1276, 'ච න': 1285, 'ව රද': 4288, 'රද ෂ': 3745, 'ප ද ව': 2627, 'ප ව ල': 2718, 'ද අප ම': 1812, 'ල ම හ': 3953, 'ස හ ක': 4719, 'ක න ත': 679, 'න ක යන': 2160, 'යන න ව': 3491, 'න ව නස': 2435, 'ස පල': 4617, 'ය ජන': 3356, 'රන ල ව': 3755, 'ෂ ව ස': 4480, 'ව ස පල': 4338, 'ස පල ක': 4618, 'පල ක ර': 2766, 'ක ර ය': 777, 'ර ය ජන': 3658, 'ල නට': 3921, 'නට පල': 2531, 'පල ත': 2767, 'න ගත': 2192, 'ගත ල': 1224, 'ස ච': 4550, 'ච රක': 1289, 'රක කර': 3718, 'කර ම': 945, 'ට දවස': 1413, 'බ ද ල': 2828, 'ද ල න': 1990, 'ල න ල': 3918, 'න ල ප': 2412, 'ල ප ල': 3930, 'ප ල නට': 2699, 'ල නට පල': 3922, 'නට පල ත': 2532, 'පල ත න': 2768, 'ත න ගත': 1609, 'න ගත ල': 2193, 'ගත ල ක': 1225, 'ක ස ච': 836, 'ස ච රක': 4551, 'ච රක කර': 1290, 'රක කර ම': 3719, 'කර ම න': 946, 'න ත හ': 2252, 'ත හ ට': 1738, 'හ ට දවස': 4824, 'ජව ප': 1355, 'ල ෂ': 4036, 'රන ල සහ': 3756, 'ල ෂ ර': 4037, 'ද බ': 1945, 'කස ට': 1026, 'බ ල ද': 2879, 'ද බ ර': 1946, 'ඉල ල': 288, 'න මට': 2364, 'ස ඉල': 4506, 'ල ද ය': 3910, 'ය ද න': 3374, 'සහ ද': 4794, 'ද එප': 1832, 'එප ම': 483, 'න ඉල': 2127, 'ල රන': 3974, 'ල ටසහ': 3884, 'න නඑප': 2318, 'ත ර ද': 1683, 'ල රන ල': 3975, 'ල ටසහ යද': 3885, 'ක හර': 863, 'න එප': 2143, 'ම ක හර': 3031, 'ම ක ඉ': 3007, 'ක ඉ උන': 586, 'ග ව ග': 1185, 'ත ඉ': 1546, 'ඉ හ': 250, 'ද හද': 2041, 'මම ද': 3265, 'ක ඉන': 587, 'ද ක න': 1841, 'ක ද හද': 671, 'මම ද ක': 3266, 'න ක ඉන': 2152, 'මන ත': 3253, 'වර ජන': 4401, 'ජන ව': 1340, 'ව අද': 4092, 'අද ද': 32, 'ව ජන': 4150, 'ර ස ව': 3701, 'ස ව ප': 4678, 'මන ත ර': 3254, 'ල ව ෂ': 4022, 'ය ජන ව': 3358, 'අද ද න': 33, 'ද න ය': 1917, 'න ය ජන': 2374, 'මග නම': 3229, 'නම ම': 2540, 'නත තල': 2534, 'තල ස': 1800, 'ම ක ට': 3016, 'ක ට ද': 642, 'ක ච': 634, 'ච චර': 1279, 'ක ච චර': 635, 'ම ර හ': 3172, 'ර හ ද': 3710, 'ප න ද': 2630, 'න ද බ': 2274, 'ස රස': 4657, 'ව දය': 4209, 'ස ව දය': 4675, 'බය හ': 2932, 'ලබ ග': 4075, 'ග ඔන': 1049, 'අතල ද': 30, 'නඩ ව': 2533, 'හ ද න': 4860, 'ද න ත': 1911, 'න ත ඥ': 2236, 'ව ස ව': 4342, 'පන ත': 2752, 'අස ස': 206, 'ධ රන': 2094, 'රන ව': 3757, 'ලබ ද': 4076, 'ත ව ප': 1711, 'ද ප ල': 1938, 'ප ල බ': 2701, 'ප ල ස': 2707, 'බව ප': 2974, 'ර බල': 3645, 'ර ප ර': 3635, 'ද රන': 1985, 'ත ග': 1578, 'ව ල ක': 4294, 'ක ත ග': 655, 'ග ව ස': 1193, 'ව ස හ': 4344, 'ස හ ට': 4721, 'ද අය': 1814, 'අය න': 150, 'න ඇහ': 2121, 'නක ක': 2523, 'වග ව': 4370, 'ප රස': 2689, 'රස ද': 3779, 'ර ම ත': 3648, 'ත ක ව': 1571, 'ක ව ත': 813, 'ම න ක': 3110, 'යන න ක': 3489, 'ප රස ද': 2690, 'රස ද ධ': 3780, 'ද ධ ය': 1901, 'කරත ත': 961, 'ග බ': 1135, 'එල ල': 498, 'ල අද': 3789, 'අද දවස': 34, 'ත ක ක': 1562, 'ක ග බ': 626, 'ග බ ල': 1140, 'බ ල ල': 2883, 'අද හ': 44, 'දවස ඔබ': 2066, 'එනව න': 480, 'ල ප ට': 3925, 'ක බ': 700, 'ප ක': 2576, 'ක බ ද': 702, 'ද ද ස': 1893, 'ද ස ස': 2028, 'න ම න': 2353, 'ම න බ': 3118, 'ර ථක': 3597, 'ස ර ථක': 4649, 'රට ස': 3734, 'ට එකට': 1373, 'ග ද': 1088, 'ය ල බ': 3429, 'ර ද ග': 3604, 'ද ග න': 1859, 'ය බල': 3404, 'බල ඉග': 2938, 'ම හ ත': 3216, 'හ ත ක': 4835, 'ත උන': 1552, 'ල ක න': 3830, 'ඇත ත ම': 221, 'ත ම න': 1643, 'ම න ද': 3115, 'න ද ඔන': 2265, 'ව ඔය': 4120, 'ඔය ක': 547, 'ස ෂ': 4694, 'ෂ එක ද': 4445, 'ත අත': 1535, 'අත ත': 21, 'ඉඩ ද': 256, 'ම බ ද': 3144, 'ද ක ර': 1845, 'ව දවස': 4213, 'ස කල': 4540, 'ස කල ප': 4541, 'ධ ප ත': 2085, 'ප ත ම': 2619, 'කන න': 908, 'ස ව ස': 4684, 'ව ස ක': 4331, 'ය ම හ': 3415, 'ම හ ද': 3218, 'බද ද': 2917, 'ද අද': 1808, 'ද ස ම': 2026, 'මට ක': 3234, 'ඩ ම': 1505, 'ග පස': 1134, 'ඩ ම න': 1506, 'න ග ග': 2177, 'හ ය ද': 4901, 'සම ද': 4764, 'හ ය ග': 4900, 'ය ග බ': 3346, 'ග බ ර': 1139, 'තර ය': 1791, 'ක අත': 576, 'උස ස': 365, 'ල ට ක': 3881, 'ම හද': 3223, 'හද ස ස': 4942, 'ස ස ය': 4709, 'ය ගන': 3351, 'ම එක හ': 2993, 'ල හල': 4057, 'ර උත': 3531, 'තර ද': 1786, 'ප ව ත': 2717, 'ව ත ත': 4179, 'උත තර ද': 317, 'ද ව ල': 2002, 'ල ව න': 4014, 'ර වල': 3687, 'අප ය': 109, 'ය ඉස': 3316, 'සර ස': 4785, 'පක ස': 2740, 'පස පස': 2780, 'එක ගත': 409, 'ම න ව': 3123, 'න ව ද': 2432, 'ම ල ම': 3179, 'ල ම ව': 3952, 'ද ප ට': 1933, 'එක ගත ත': 410, 'එ ක': 368, 'ක ස එක': 834, 'ල අගම': 3788, 'අදර ස': 50, 'ස වප': 4687, 'ඉවර ව': 292, 'රන ල අගම': 3754, 'ය ස ර': 3455, 'ස ල ක': 4659, 'ග එප': 1048, 'බ එත': 2793, 'දවසක න': 2070, 'න දවස': 2289, 'උබට ම': 364, 'ව චන': 4148, 'ද පක': 1940, 'ක ෂ': 827, 'ද පක ෂ': 1941, 'ල ක ෂ': 3840, 'ක ෂ ර': 831, 'ඔව න': 564, 'ව නව': 4232, 'එ එක': 366, 'ය ඇත': 3315, 'වග ද': 4364, 'එහ න': 513, 'අකව න': 9, 'එකට ප': 458, 'ව න ඩ': 4220, 'අකව න ට': 10, 'යන ත': 3486, 'සන ත': 4748, 'එව න': 503, 'අත ද': 22, 'හ එව': 4803, 'එක ග': 405, 'ග බල': 1142, 'න ක ක': 2153, 'ක ක ම': 613, 'ක ම ස': 715, 'අත ද ක': 23, 'න ක ර': 2161, 'න ම හ': 2361, 'ල වන න': 4031, 'න ඩ ස': 2224, 'එද ද': 471, 'ක අන': 578, 'ඔක ක': 520, 'ගම ක': 1240, 'ස ස ප': 4707, 'ස ප ර': 4611, 'ග න ට': 1101, 'න ට ක': 2211, 'ට ක ද': 1379, 'ක ද ක': 662, 'ද ක ට': 1839, 'ග න ව': 1112, 'ව ම ක': 4259, 'ම ක ප': 3021, 'ක ප ල': 694, 'ට ක ව': 1384, 'ක ව තර': 814, 'ග අහ': 1041, 'අහ ව': 212, 'ල බල': 3944, 'ගහ හ': 1270, 'හ තක': 4850, 'ල බද': 3943, 'කර ගන': 932, 'ර ව ද': 3677, 'න ය ල': 2381, 'ක ක ය': 614, 'ක ය ල': 746, 'හ ත හ': 4848, 'ය න ප': 3382, 'ප ර ද': 2658, 'ගන න බ': 1232, 'ද නව': 1930, 'නව අප': 2553, 'බලම ක': 2972, 'ඉස සරහ': 300, 'ප එක': 2575, 'ග න ක': 1099, 'න ඩ ප': 2222, 'ද න ක': 1907, 'ප ට ප': 2601, 'ගම ම': 1243, 'ල එප': 3816, 'එප යක': 484, 'යක අප': 3470, 'ව අව': 4097, 'පර ස': 2761, 'ස සම': 4715, 'සම ග': 4759, 'කර අප': 916, 'ම ක ත': 3017, 'එන න ක': 479, 'ව ව න': 4312, 'සහ දර': 4795, 'අල ත': 182, 'ගම ස': 1244, 'බන ද': 2924, 'ල ලන': 4001, 'බල ප': 2953, 'ද ප ර': 1937, 'ස ද න': 4579, 'න ව ස': 2445, 'ර ද අප': 3599, 'න ස බ': 2479, 'ව ස තර': 4334, 'ල ලන ග': 4003, 'බල ප ර': 2954, 'ප ර ත': 2656, 'ර ත ත': 3591, 'සත ය': 4745, 'ද ජන': 1874, 'හර එක': 4960, 'එක හර': 454, 'හර ත': 4963, 'ත රත': 1695, 'රත ර': 3741, 'ක ඉල': 591, 'ඇමර ක': 228, 'ව එහ': 4114, 'එහ ම': 517, 'ක එක': 598, 'ක වල': 826, 'වල ග': 4417, 'ල ක ම': 3832, 'ක ම ක': 706, 'ද ජන ධ': 1875, 'ත රත ර': 1696, 'ක ඉල ල': 592, 'ත ර ත': 1682, 'ර ත ර': 3592, 'ත ර න': 1684, 'න න අය': 2295, 'ප න ව': 2633, 'න ව එක': 2424, 'එක ක එක': 392, 'එක හ ම': 453, 'ප ද ක': 2623, 'එහ ප': 515, 'රෂ නය': 3772, 'නය න': 2545, 'ට වලට': 1451, 'අප ද': 98, 'රට ද': 3730, 'ඩ එක': 1469, 'ඔන ද': 527, 'ඩ ච': 1486, 'ජ කර': 1306, 'කර ක': 924, 'එක එ': 384, 'ප රෂ නය': 2687, 'න හ න': 2503, 'න ග ම': 2185, 'ල ග ව': 3863, 'අප ද න': 99, 'එහ ප ල': 516, 'ප ල ල': 2704, 'ල ල ග': 3986, 'ග ව න': 1188, 'ත ව ල': 1714, 'ල ව ද': 4013, 'ස ක හ': 4530, 'කර ක ය': 925, 'ය ම ල': 3412, 'ර තම': 3594, 'ක තම': 659, 'නග ග': 2527, 'න ඔක': 2145, 'රය න': 3762, 'ව අප': 4094, 'අය ය': 155, 'ය එය': 3323, 'එය ද': 489, 'ක රය': 784, 'ක ල න': 796, 'ක ස ස': 845, 'ස ස ත': 4703, 'ස ත ප': 4564, 'ප ර ය': 2663, 'ය ග ක': 3344, 'ම ක ක': 3013, 'ස හ ර': 4728, 'හ ර හ': 4909, 'න ත ග': 2235, 'ලස ස ක': 4088, 'ස ක ල': 4526, 'ල ල න': 3989, 'ඔය වග': 556, 'න ඔහ': 2150, 'ඔහ ග': 570, 'ත ගත': 1582, 'ඇහ ව': 233, 'න ත ද': 2240, 'ද ව ග': 1993, 'ග බ බ': 1138, 'ත ත ය': 1596, 'ත ය ම': 1666, 'ස ස ද': 4705, 'ග න ප': 1105, 'ප ල ප': 2700, 'හ ඩ': 4832, 'ලය ට': 4083, 'සර කර': 4782, 'මග ප': 3230, 'ත ඉද': 1547, 'ය එන': 3321, 'ද වර': 2009, 'ද බල': 1947, 'ත වර': 1722, 'මල ප': 3282, 'ප ෂ': 2723, 'ග ස බ': 1205, 'ඉස සර කර': 299, 'ඉද ර ය': 269, 'බල ග ප': 2947, 'එක එක': 385, 'ත ව ස': 1717, 'එක එක ක': 386, 'එක ක හ': 402, 'ක හ ක': 851, 'කර ය': 948, 'ව මස': 4272, 'න පක': 2333, 'ත ව ව': 1715, 'ව න ද': 4222, 'ත අක': 1534, 'කල ස': 1005, 'ෂ ට': 4452, 'ප ර ව': 2666, 'ග අතල': 1031, 'එක ගන': 411, 'ගන ප': 1234, 'ප ව ස': 2719, 'ත ග ප': 1581, 'ග ප ට': 1128, 'ප ට න': 2600, 'ට න ද': 1416, 'න ද ඉද': 2262, 'ගන ද': 1228, 'ස එක ක': 4511, 'අත අඩ': 19, 'ව ගන': 4143, 'බල ක': 2942, 'අත අඩ ග': 20, 'අඩ ග ව': 16, 'හ ග ප': 4813, 'එක ර': 441, 'ද උස': 1827, 'බල ග ය': 2948, 'ග ය ව': 1161, 'ය ව ස': 3445, 'න න ග': 2305, 'සල ල ද': 4792, 'ර ද උස': 3601, 'ද උස ස': 1828, 'න හ හ': 2511, 'ඩ ර': 1512, 'ෂ කර': 4448, 'ර ජ ත': 3574, 'ව ම ව': 4263, 'ග ත': 1081, 'ත ත ග': 1589, 'න ක බ': 2158, 'ක බ ර': 703, 'ර හ ත': 3709, 'හ ත ම': 4843, 'යවන න': 3514, 'ක ලකන': 802, 'ඔන ප': 530, 'ඔක න': 521, 'ක ගන': 628, 'ගන ස': 1237, 'න ව ක': 2427, 'න න ඔන': 2302, 'උන ග ග': 337, 'ග ග න': 1059, 'ස ව ද': 4674, 'උන හ': 356, 'න මම': 2365, 'ත ග ද': 1579, 'ග ද න': 1089, 'ද න උන': 1905, 'ද එක ක': 1831, 'ට කර': 1391, 'ය එව': 3325, 'එව ප': 504, 'දන ඔය': 2047, 'ඔය ව': 555, 'ග න ග': 1100, 'න ග බ': 2184, 'ග බ න': 1137, 'න ට එක': 2210, 'ක ය එව': 729, 'ල අප': 3794, 'ල ල අප': 3978, 'ල සම': 4045, 'ම ලද': 3185, 'හම බ ක': 4948, 'ක ල ව': 801, 'ස බ ප': 4622, 'ප ත ක': 2615, 'අප ව': 112, 'බය ග': 2927, 'ග හ ව': 1215, 'බර ම': 2935, 'ජ කය': 1305, 'අඩම බරය': 18, 'ම හ තක': 3217, 'ස ම ජ': 4630, 'ම ජ කය': 3065, 'ය ග න': 3345, 'ග න ස': 1114, 'හ ත ස': 4847, 'න ර ද': 2400, 'ර ද ද': 3606, 'අබ ම': 119, 'න අප': 2111, 'ස රක': 4656, 'අබ ම න': 120, 'ර උන': 3532, 'කර ඔන': 923, 'ත කර': 1575, 'කර ස': 952, 'ම පත': 3141, 'ස ද හ': 4585, 'හ ස ත': 4923, 'ඩ කල': 1482, 'ය කල': 3342, 'කල අම': 982, 'ත තක': 1601, 'ප ත තක': 2617, 'කරන ට': 968, 'ලය ප': 4085, 'හ ප ව': 4881, 'ක දන': 672, 'ක දන න': 673, 'දන න ම': 2050, 'න ම ව': 2359, 'න මග': 2362, 'ග ය න': 1157, 'කල ග': 987, 'ද ගන': 1867, 'ට එක ද': 1371, 'ද ගන න': 1868, 'එකට ව': 459, 'ස ද ක': 4575, 'තම ස': 1778, 'මත ව': 3245, 'ඔහ ම': 573, 'ට ම ක': 1426, 'ය හ ම': 3466, 'ව ප ල': 4242, 'ල ස ය': 4043, 'ල ස ත': 4040, 'ස ත බ': 4565, 'ත බ ර': 1632, 'ක ය තම': 736, 'ස ක න': 4523, 'ස ස එක': 4701, 'ක ම ත': 709, 'ප ල ග': 2696, 'ග ය හ': 1163, 'ක උන': 596, 'ක ර හ': 780, 'ය ව ත': 3436, 'ත ය ඔන': 1657, 'බර ඩ': 2934, 'හ ව ව': 4920, 'ව ව පස': 4313, 'ස න න': 4595, 'න න ය': 2313, 'න ය න': 2377, 'උන ම': 349, 'ක ලය': 806, 'ලය කර': 4082, 'ම ක ලය': 3027, 'බන ඩ': 2922, 'ඩ උන': 1467, 'එක අප': 376, 'අප ප ක': 103, 'න දග': 2285, 'හ ට ට': 4823, 'න න ඇ': 2296, 'ප යල': 2649, 'යල හ': 3508, 'ර ප යල': 3634, 'ල ස ප': 4042, 'ම න හ': 3126, 'න හ ක': 2498, 'බස ස': 2976, 'ඩ එකට': 1470, 'රස ත': 3776, 'ස ත ත': 4562, 'ත රස ත': 1701, 'ම බ ර': 3145, 'බ ර ප': 2863, 'ලස සන': 4090, 'හ බ ම': 4886, 'බ ම ස': 2850, 'ස ප ට': 4607, 'ඔය ද': 549, 'ගල ක': 1257, 'න ඔය': 2148, 'ස ක ට': 4521, 'ක ට ට': 641, 'න ඩ ක': 2219, 'න ත න': 2241, 'ල හ ර': 4052, 'ල අන': 3792, 'ල අන ඩ': 3793, 'අන ඩ ව': 64, 'ඩ ව න': 1518, 'න ස ල': 2484, 'ල හ බ': 4051, 'ට රල': 1438, 'දර ගන': 2061, 'ප ට රල': 2603, 'ම කක': 3032, 'කක ම': 871, 'ම කඩ': 3037, 'ත වග': 1720, 'රල ගහ': 3766, 'ගහ ඔන': 1266, 'ම කක ම': 3035, 'ඔන ව ල': 533, 'ක රන': 782, 'රන න': 3749, 'ත රන': 1697, 'කර ඉන': 918, 'ම එක ක': 2990, 'එක ක ප': 395, 'න න ත': 2307, 'ම ප ඩ': 3134, 'අහ ම': 211, 'අය ප': 151, 'න හ ග': 2500, 'ස ය න': 4638, 'ය න ක': 3378, 'ග ස න': 1204, 'න ස එක': 2472, 'ස එක ත': 4512, 'එක ත ය': 417, 'ය එප': 3322, 'එප ක': 481, 'ප නවන': 2636, 'එප ක ය': 482, 'ක හ ප': 857, 'ල ව ර': 4018, 'න ට ව': 2214, 'ට ව ට': 1443, 'ස ර ව': 4652, 'කරන එක': 966, 'ය අදර': 3305, 'අදර ව': 49, 'ග ය ප': 1158, 'මද ව': 3250, 'දක න': 2044, 'දක න න': 2045, 'ව දන': 4208, 'එව ම': 505, 'ව ත ර': 4184, 'ත ර ම': 1686, 'ර ම ව': 3651, 'ව ක යන': 4124, 'බ ර ස': 2867, 'කර ත': 933, 'එල ප': 495, 'වර ක': 4399, 'සන න': 4751, 'ට ය න': 1432, 'ය න ත': 3379, 'ගහන ග': 1272, 'ද ය ප': 1968, 'ය ප න': 3392, 'උබ ම': 362, 'න ගල': 2199, 'ප ස ට': 2725, 'ස ට එකට': 4556, 'අප එය': 84, 'උඩ ද': 310, 'එක බ': 435, 'ක ක ව': 618, 'එක බ ර': 436, 'ම කල': 3048, 'ප කල': 2588, 'කල පන': 992, 'ට ප න': 1420, 'න ව තර': 2431, 'ත අප': 1538, 'වන ක': 4387, 'න ෆ': 2522, 'හර ග': 4962, 'න බඩ': 2345, 'බඩ ව': 2915, 'හ ක ර': 4806, 'ක ර එක': 761, 'එක න ත': 429, 'ක ව ග': 811, 'හර ද': 4964, 'කක ක': 868, 'තම ඔය': 1756, 'ල කර': 3850, 'ච ට': 1282, 'ම ටප': 3074, 'බ බ ක': 2844, 'ක ල කර': 792, 'ට න ග': 1415, 'ර ක න': 3541, 'පස ස ග': 2783, 'න ම ය': 2356, 'ක යනවන': 753, 'න ස ත': 2475, 'ස ත ර': 4567, 'ත ර ව': 1690, 'ව ද ක': 4193, 'බ ර ය': 2865, 'ක අප': 579, 'ස යක': 4640, 'ක සල': 847, 'ල වලට': 4035, 'අප ප ර': 104, 'ප ර ම': 2662, 'සල ල වලට': 4793, 'ඔව ම': 567, 'ක එකත': 600, 'ව උඩ': 4106, 'බල බ': 2956, 'බ ට': 2813, 'ක බල': 704, 'ම ද ක': 3096, 'ක ර ට': 767, 'ක එක ක': 599, 'එක ක එකත': 393, 'ක එකත ව': 601, 'බල බ ට': 2957, 'ට ට ක': 1400, 'ඉ එක': 236, 'ය ය': 3419, 'ය අන': 3307, 'උ ම': 305, 'අද න': 35, 'ක ය ය': 745, 'ක ල අද': 788, 'ය ඔක': 3327, 'වහල ල': 4442, 'කඩ එක': 887, 'ර ව ව': 3682, 'ව ව ද': 4311, 'හ ල ස': 4915, 'ග ලප': 1182, 'ක ත ක': 654, 'ත ක ම': 1567, 'ප රත': 2674, 'ක ඔක': 604, 'බල බල': 2958, 'බල ඉ': 2937, 'ඉ ම': 245, 'ර ද ල': 3612, 'ද ල ද': 1989, 'ල ද ක': 3907, 'ම ක ඔක': 3012, 'ඉ ම න': 246, 'ව ඩ න': 4171, 'ඩ න ත': 1498, 'ව ද එක': 4192, 'හ ත ර': 4845, 'න දන': 2286, 'ද සරන': 2033, 'එක ල': 444, 'ත ය ල': 1669, 'ල ඩ ඩ': 3889, 'න බ ද': 2339, 'බ ද සරන': 2830, 'ම ක එක': 3010, 'න ක හ': 2166, 'ක හ ට': 853, 'හ ට බ': 4826, 'ට බ ල': 1424, 'ල ල ය': 3994, 'කර ත ය': 935, 'න ක ස': 2165, 'ඉපද න': 281, 'ඉපද න න': 282, 'ඔය ම ක': 553, 'ත උබ': 1553, 'උබ ක': 359, 'න අද': 2108, 'ර ඉ': 3528, 'බලන න': 2969, 'හ ත ග': 4836, 'අන ස': 75, 'අන ත': 65, 'ත තර': 1603, 'ම ටර': 3075, 'ම ටර ව': 3076, 'ය ව ඩ': 3435, 'හම ම': 4956, 'රස එක': 3775, 'එක එව': 390, 'ස ම න': 4631, 'අද ම': 37, 'ෆ ට': 4990, 'ල ල ට': 3987, 'මතක න': 3248, 'ර කරන': 3557, 'වට න': 4377, 'වට න ක': 4378, 'ල ප ක': 3924, 'වත ර': 4382, 'ෆ ල': 4994, 'න ගන': 2194, 'හ එ': 4801, 'ක ම න': 711, 'ද න ර': 1918, 'න ර ධ': 2401, 'ම හ එ': 3212, 'කව යක': 1018, 'මග ක': 3227, 'ට ඩ': 1402, 'ඩ ග': 1483, 'ල හ ට': 4048, 'කර න': 940, 'කර න ස': 941, 'න ස ර': 2483, 'සමහර ක': 4775, 'න චර': 2202, 'චර ත': 1297, 'ග අන': 1035, 'ග අය': 1040, 'න උඩ': 2130, 'අඩ ව': 17, 'න චර ත': 2203, 'ව න ග': 4218, 'න ග ඩ': 2179, 'ග අන ත': 1036, 'අන ත ම': 66, 'ක ද ග': 663, 'ස න ග': 4590, 'ග ම ක': 1144, 'ම ක බ': 3022, 'ම ව ට': 3189, 'ව ට ව': 4158, 'බ ගය': 2810, 'තම ම': 1775, 'පත ප': 2747, 'ඔප කර': 534, 'වට ට': 4376, 'ව බ ගය': 4253, 'ත ක හ': 1573, 'ය ත ව': 3369, 'කවද හර': 1024, 'කරද ද': 962, 'ද එය': 1833, 'කර අන': 915, 'කර හ': 956, 'ල කත': 3845, 'න කව': 2174, 'කව ක': 1014, 'ව එප': 4112, 'ස ම ව': 4632, 'ම ව ල': 3196, 'ල කත කරන': 3846, 'කව ක ය': 1015, 'ල වක': 4025, 'වක හ': 4357, 'ය හර': 3468, 'ග ජ': 1062, 'ජ බ': 1321, 'ම ච': 3059, 'උන අප': 324, 'අප ක': 89, 'ව ල වක': 4302, 'ල වක හ': 4026, 'වක හ ත': 4358, 'ව ඩ ප': 4172, 'න න ක': 2303, 'ය හර හ': 3469, 'න ප න': 2329, 'ම ච චර': 3061, 'ක ල ම': 798, 'ක ද න': 664, 'න මල': 2367, 'එකට අප': 456, 'අප එව': 85, 'අර ව': 174, 'ව ඉත': 4101, 'ද කට': 1850, 'සම බ': 4767, 'ද ක ස': 1848, 'ක ස ට': 837, 'ස ට ව': 4559, 'ව ව ඩ': 4309, 'අර ව ඩ': 175, 'බ ව ත': 2887, 'ය ම ත': 3407, 'මට හ': 3241, 'ඉ ග': 239, 'ල එන': 3815, 'ක මන': 719, 'ග එක': 1046, 'එක ට': 413, 'ට කඩ': 1389, 'ඩ බ': 1504, 'ය එක': 3319, 'ඉ ග ර': 240, 'ග ර ස': 1173, 'ර ස ප': 3697, 'ට ස ම': 1457, 'ක ල එක': 790, 'ල එක ක': 3810, 'න ක ල': 2162, 'ඩ ප ල': 1502, 'ක ය එක': 727, 'ක ඔය': 606, 'හ වල': 4921, 'හ ලව': 4916, 'ඉන ව': 280, 'ට ෂ': 1452, 'ය අව': 3314, 'අව ක': 186, 'ප ඩ ම': 2611, 'ව ඩ එක': 4163, 'න ම ට': 2350, 'එක ද ක': 421, 'ද ක ය': 1844, 'අව ක ම': 187, 'ම ඩ න': 3080, 'ම ඉ': 2985, 'එච චර': 463, 'ත ඇල': 1544, 'ඇල ල': 229, 'වග උන': 4359, 'අර න': 167, 'ල ල ස': 3997, 'ට ව ප': 1447, 'ව ප ස': 4244, 'ට ද ක': 1409, 'හ ව න': 4918, 'න න හ': 2317, 'න හ ත': 2501, 'ඉද ප': 264, 'එක තම': 418, 'මග ව': 3232, 'වලට ග': 4426, 'ෆ එක': 4989, 'කත කර': 892, 'කර ල': 950, 'න ඉස': 2128, 'අෂ ර': 204, 'හ ප ර': 4880, 'ත ව ඩ': 1706, 'න ඉස සර': 2129, 'ත හර': 1743, 'හර ප': 4966, 'ඉ න': 242, 'එය ම': 491, 'එ න': 370, 'න දහස': 2291, 'ව එ': 4109, 'ත හද': 1740, 'හද ග': 4931, 'ග ඉන': 1044, 'හ ත ඉ': 4834, 'න ස ක': 2473, 'එක ක ව': 400, 'න හ ම': 2506, 'හ ම ක': 4889, 'හ ත හද': 4849, 'ත හද ග': 1741, 'වග ම': 4369, 'ම අව': 2983, 'ස ත න': 4563, 'ත න ද': 1611, 'ද න වග': 1920, 'න වග ව': 2450, 'හ ග ම': 4814, 'ව ටර': 4160, 'කව න': 1016, 'ට කන': 1390, 'ඩ ෂ': 1523, 'ර ඩ': 3585, 'ට ව ටර': 1444, 'කව න ට': 1017, 'ව ට ස': 4159, 'ෆ ම': 4992, 'ල ෆ': 4059, 'වග න': 4365, 'ව මට': 4267, 'ක ෆ': 866, 'එක බල': 439, 'ග උන': 1045, 'අර ග': 161, 'ම ග ට': 3052, 'ග ට ට': 1065, 'ක ඉස සර': 594, 'ග න ම': 1108, 'ම ත ය': 3090, 'ත ය එක': 1656, 'ක ක න': 611, 'ෆ ල එක': 4995, 'ක අව': 583, 'කට ව': 885, 'ස ෆ': 4738, 'අය බ': 152, 'ත ෆ': 1744, 'ප ඩ ක': 2608, 'ව ක ල': 4127, 'ද ෆ': 2043, 'වල ක': 4415, 'පහ ව': 2784, 'න බන': 2346, 'සමහර එව': 4774, 'ප ලව': 2713, 'හර ම': 4969, 'අමතක න': 141, 'කරග බ': 958, 'වල ක ල': 4416, 'හර ම න': 4970, 'කරග බ ර': 959, 'බ ර ව': 2866, 'ර ව න': 3678, 'එත එක': 467, 'ස දම': 4587, 'දම ග': 2054, 'ෂක ත': 4486, 'ව ට එක': 4152, 'ට ස ද': 1455, 'ද ග ක': 1856, 'න ව හ': 2448, 'ව හ ල': 4355, 'හ ල ව': 4914, 'ල ව එත': 4008, 'දම ග න': 2055, 'ර ය ල': 3662, 'ල බ ක': 3935, 'න තර': 2257, 'අප උන': 80, 'ද ඉන': 1823, 'න දර': 2288, 'ලන ඩ': 4073, 'එක වග': 448, 'ල ම ච': 3947, 'ම ච එක': 3060, 'බ ග න': 2808, 'බල ප ල': 2955, 'ධ ක': 2077, 'ස එහ': 4517, 'ෂ ය': 4465, 'ය ර': 3423, 'කරගත ත': 960, 'ත ඩ': 1585, 'ඩ අප': 1464, 'ය එල': 3324, 'ඩ වක': 1521, 'ත අද': 1536, 'අප ත ත': 97, 'ත ක ය': 1568, 'ම ද ය': 3100, 'ද ය ය': 1969, 'ර කට': 3548, 'බල එක': 2940, 'ඩ ත': 1491, 'ත කල': 1577, 'කල න': 989, 'ට කට': 1388, 'කට අර': 874, 'ම එකම': 2994, 'ක ර කට': 764, 'ක ග ඩ': 625, 'ම ල ව': 3181, 'ක න ප': 681, 'ල න ව': 3919, 'එද න': 473, 'ය ඩ': 3362, 'ට අය': 1360, 'ද හ ම': 2039, 'හ ම ට': 4891, 'ම ට අය': 3068, 'එක ග න': 407, 'එකත කර': 460, 'ග රව': 1175, 'රව න': 3768, 'තර ප': 1788, 'ප ඩ උන': 2607, 'උන ට ක': 339, 'මල ල ම': 3285, 'ය ස ල': 3456, 'ල ල කර': 3983, 'ග රව න': 1176, 'න ඩ එක': 2217, 'ව තර ප': 4188, 'පර ක': 2756, 'ග ඇත': 1042, 'කප ප': 911, 'පර ක ෂ': 2757, 'ල ග ඇත': 3855, 'ස ද කල': 4576, 'මන ස': 3260, 'ර කර ගත': 3556, 'නම ක': 2537, 'කල ක': 984, 'ය මට': 3416, 'මට බ': 3237, 'යන ක': 3483, 'ට කක': 1387, 'න ත කල': 2234, 'කල ක ය': 985, 'ක ය මට': 742, 'බ න ක': 2834, 'ත ය ත': 1661, 'යන ක ය': 3484, 'උන එහ': 330, 'ගන අප': 1227, 'අප හ': 115, 'බල ග ඉන': 2946, 'ක ව ප': 817, 'අප හ ම': 116, 'ම ද ර': 3101, 'ද ර වන': 1982, 'යන න ස': 3492, 'ස ද ද': 4577, 'න එත': 2140, 'න ද ද': 2271, 'ඉ ප': 243, 'ඩ හ': 1526, 'ට යන': 1435, 'ගර ක': 1248, 'උගන න': 306, 'ල ව ඩ': 4012, 'හ ට යන': 4829, 'න මර': 2366, 'අප බල': 107, 'ඉ ඔන': 237, 'ම න මර': 3120, 'ල ල එක': 3981, 'ල කරන': 3851, 'න එහ': 2144, 'ග ට ව': 1068, 'ල කරන න': 3852, 'ඉට පස': 254, 'ඉට පස ස': 255, 'මම ම': 3270, 'න අව': 2116, 'ය රට': 3424, 'න අව ර': 2117, 'ද ම ස': 1955, 'බලන න න': 2970, 'ස ක ව': 4527, 'ක ව ර': 820, 'ම නව': 3130, 'න යක': 2383, 'ක ල ලන': 800, 'ජ ව ත': 1328, 'ට හම': 1459, 'අරක ෂ': 176, 'ද ම ර': 1952, 'ෂ ව ද': 4479, 'ද ර ග': 1978, 'ර ග ව': 3565, 'ජය ව': 1351, 'ද ගට': 1864, 'න නව': 2321, 'නව ම': 2556, 'හ උන': 4800, 'අප ඔක': 86, 'අප ස ද': 114, 'ර ය ම': 3661, 'ය ම ර': 3411, 'අප ඔක ක': 87, 'ක ඩ ප': 651, 'ප ල ක': 2695, 'ල ක ට': 3826, 'ඔය ස': 557, 'එඩ ර': 464, 'ර පස': 3642, 'ර ඉන': 3529, 'ඉන ක': 270, 'ර හ ර': 3712, 'හ ර ය': 4907, 'ර ය ත': 3659, 'ම න ඩ': 3113, 'ද ඇත': 1821, 'මට ස': 3240, 'න ර ක': 2395, 'ර ක ව': 3546, 'ඇත ත ක': 220, 'ට ව ද': 1446, 'හ ත බ': 4842, 'බ ල කර': 2875, 'ග දවසක': 1095, 'දවස වල': 2069, 'ත ත ප': 1593, 'ප හද': 2734, 'ත ට': 1584, 'හ ත ට': 4837, 'ව ට ද': 4155, 'නග ක': 2526, 'න ඉන': 2126, 'ම ට බ': 3072, 'බ ල කරන': 2876, 'ල හ ත': 4049, 'එක දවසක': 427, 'ග තරහ': 1087, 'ත අර': 1540, 'ව බල': 4255, 'කරන ක': 967, 'උන ක ල': 335, 'න ප ඩ': 2326, 'අප න': 100, 'හම ව': 4957, 'ව හ න': 4353, 'හ න හ': 4878, 'ට උන': 1367, 'අය ට': 146, 'ය ටර': 3361, 'ම න ට': 3112, 'අය ට ය': 147, 'ට ය ටර': 1431, 'මම හ': 3271, 'ත ඇහ': 1545, 'ම ම ම': 3152, 'ර ව ල': 3681, 'ම ල න': 3178, 'න හ ය': 2507, 'කටය ත': 886, 'ධ අම': 2075, 'ය ෂ': 3451, 'ෂ හ': 4485, 'වර ධන': 4405, 'කල ප ස': 991, 'වර ධ අම': 4404, 'ධ අම ත': 2076, 'අම ත ය': 127, 'ත ය ෂ': 1671, 'ස වර ධන': 4690, 'ව ම ම': 4261, 'බ ර උන': 2855, 'හර උන': 4959, 'ක ඉන න': 588, 'න ම ම': 2355, 'ම න හර': 3127, 'න හර උන': 2518, 'එහ උන': 510, 'උන ල': 351, 'ඔව ද': 563, 'උන න': 343, 'ක එහ': 603, 'උන අය': 325, 'ම ක එහ': 3011, 'හද න න': 4937, 'න න බ': 2311, 'න බ න': 2340, 'ත කට': 1574, 'පත කර': 2743, 'අහ සක': 213, 'ජන ධ පත': 1338, 'බ එහ': 2794, 'උන බ': 348, 'එහ න ම': 514, 'උන තම': 340, 'තම අප': 1755, 'ම ස ට': 3204, 'ස ට උන': 4554, 'අර ජ': 162, 'ජ ඇල': 1299, 'ඇල ස': 230, 'ස යස': 4644, 'යස හද': 3515, 'ස අසන': 4501, 'අසන ප': 207, 'අර ජ ඇල': 163, 'ජ ඇල ස': 1300, 'ඇල ස යස': 231, 'ස යස හද': 4645, 'යස හද ස': 3516, 'හද ස අසන': 4941, 'ස අසන ප': 4502, 'අසන ප ව': 208, 'ප ව ඩ': 2716, 'ව ඩ ග': 4168, 'ඩ ග ද': 1484, 'ග ද ස': 1091, 'ද ස ක': 2021, 'පරන එක': 2762, 'හද ගත': 4933, 'හදන න': 4943, 'ම එහ': 2999, 'සත ත': 4744, 'ත දවසක': 1606, 'එක ද ල': 426, 'ල ය ව': 3963, 'ඔහ ක': 569, 'ඇව ද': 232, 'බ න ත': 2836, 'ත හ ත': 1739, 'ල බ ස': 3942, 'බ ස ත': 2900, 'ස ත ව': 4569, 'න න උන': 2300, 'ත අය': 1539, 'ඉක මන': 252, 'බ ත': 2816, 'බ හ ස': 2908, 'ක ගන න': 629, 'ඩ කරන': 1480, 'තන න': 1750, 'ව ඩ කරන': 4167, 'අය හම': 157, 'දවසක ම': 2071, 'ම යග': 3164, 'කන ව': 909, 'එව හ': 507, 'ව කර': 4132, 'එව හ ත': 508, 'ත ම ව': 1646, 'අ හ': 4, 'ම එල': 2997, 'ව මම': 4269, 'මම ක': 3262, 'කරන ද': 969, 'ම කර': 3044, 'උන ප': 345, 'ද ව ඩ': 1994, 'ප ව ච': 2715, 'ච ච කර': 1278, 'ස නස': 4604, 'හම බව': 4955, 'ක මත': 718, 'ට ව ම': 1448, 'උන ක යන': 334, 'ය ල ව': 3430, 'ල ව උන': 4007, 'ය ක යන': 3334, 'ප උන': 2574, 'ද වග': 2007, 'වග ස': 4371, 'ව ඉ': 4100, 'ස බල': 4627, 'ත ඔබ': 1559, 'ගහන න': 1273, 'ම ද ස': 3103, 'ද ස ද': 2024, 'අප ග': 92, 'ග ප ත': 1129, 'ර ව ය': 3680, 'ව ය ව': 4276, 'න අම ම': 2114, 'ජ එකට': 1302, 'එප ව': 485, 'ක ල ත': 794, 'ද ගලය': 1871, 'ප ද ගලය': 2625, 'ව ෂ ර': 4327, 'ක අර': 581, 'අර ක': 160, 'තම කවද': 1758, 'හර බ': 4968, 'ල ග ක': 3857, 'තම කවද හර': 1759, 'කවද හර බ': 1025, 'උන මම': 350, 'ක මග': 717, 'ව ඩ ම': 4173, 'ම ට ට': 3070, 'ක කල': 623, 'ට ල': 1439, 'යට ව': 3477, 'ම ල ස': 3182, 'ට එක එක': 1370, 'එක එක ප': 388, 'එක ප ර': 433, 'ට ය ක': 1429, 'ඇෆ ගන': 234, 'ථ න': 1805, 'ට ඔබ': 1375, 'ඔබ ම': 539, 'ස ථ න': 4573, 'බල හ ට': 2966, 'න ය ප': 2379, 'ස ගප': 4547, 'ගප ප': 1238, 'ය කර': 3340, 'ම එය': 2995, 'ලග ත': 4064, 'ර ෂ': 3689, 'ස ගප ප': 4548, 'ගප ප ර': 1239, 'ර ද ය': 3611, 'ද ය කර': 1965, 'න හ ව': 2509, 'ම හ ම': 3219, 'ත බ න': 1630, 'ර ෂ ර': 3691, 'ල ලම': 4004, 'ක නත': 685, 'ලමය න': 4081, 'වන ම': 4394, 'ම ර ව': 3171, 'ක නත තල': 686, 'ක ලබ': 804, 'එක ඇත': 379, 'ම ස ද': 3205, 'න ත ක': 2233, 'න හ එක': 2497, 'එක ඇත ත': 380, 'එහ ම ක': 518, 'ය ය ත': 3420, 'ව වග': 4319, 'ග පද': 1132, 'ල තන': 3898, 'තන ව': 1753, 'බ මට': 2851, 'එව අය': 500, 'ස ද ර': 4582, 'න බ හ': 2344, 'බ අප': 2786, 'ස ට ක': 4557, 'න ව ප': 2436, 'ව ප ව': 4243, 'ව ද ත': 4194, 'ද ත බ': 1880, 'ද ද ව': 1892, 'ක ස යල': 842, 'ග අගම': 1028, 'ය වට': 3448, 'අගම ක': 12, 'කර කල': 927, 'ග අගම ත': 1029, 'ගන න න': 1231, 'න න අප': 2294, 'හ ද ත': 4858, 'ත ය ර': 1668, 'ද හ හ': 2040, 'ස කරල': 4539, 'ට අ': 1356, 'අ ෂ': 3, 'ඔය ග': 548, 'යව හ': 3513, 'ම ග ප': 3053, 'ග ප ක': 1127, 'බ ල ය': 2882, 'න ට අ': 2209, 'ග න ල': 1111, 'ර අය': 3523, 'අත ර': 25, 'ර ඔය': 3536, 'දහස ක': 2072, 'රන ක': 3747, 'ග ය ල': 1160, 'ම ට ක': 3069, 'ට ක ය': 1381, 'ක ය ත': 735, 'ය ත ය': 3367, 'ත ය හ': 1673, 'හ ම ත': 4892, 'ත ස ස': 1731, 'න දහස ක': 2292, 'ය ක ර': 3335, 'ට බ ර': 1423, 'ප ටල': 2605, 'ව ල ල': 4300, 'අප ක ල': 91, 'ල එ න': 3808, 'ට ස න': 1456, 'ද ද ග': 1887, 'නස කර': 2564, 'ද අන': 1809, 'ල එහ': 3818, 'ව නස කර': 4234, 'ය ද ය': 3375, 'ද ය න': 1967, 'න ත තට': 2239, 'දර ප': 2062, 'බ ඩ': 2815, 'ඩ වල': 1522, 'ස අව': 4500, 'ත මට': 1649, 'හර ක': 4961, 'ත මම': 1653, 'ඔල ව': 560, 'හර ව': 4974, 'අව ල ත': 192, 'ක හර ක': 864, 'කවද ක': 1023, 'ග එන': 1047, 'ව මග': 4266, 'ග ලව': 1183, 'ධ ත': 2080, 'හ ත ප': 4841, 'හ ල ල': 4913, 'ල ල ව': 3996, 'ස ර ප': 4651, 'ර ප ද': 3631, 'ද ක හ': 1849, 'න කරන': 2171, 'කරන ව': 975, 'න දවසක': 2290, 'කර කර': 926, 'කම න': 912, 'කරන ව ඩ': 976, 'හර ප ර': 4967, 'ද ය උන': 1963, 'කර ද න': 938, 'ත ර ය': 1687, 'ර වර': 3686, 'ජ යය': 1324, 'ප රක': 2670, 'රක ෂය': 3721, 'ෂය පත': 4495, 'පත ක': 2742, 'පල සබ': 2774, 'එද ව': 477, 'ව ලක': 4304, 'හද බ': 4939, 'ර ජ යය': 3577, 'ප රක ෂය': 2671, 'රක ෂය පත': 3722, 'ත ය ස': 1672, 'අප ර': 110, 'කර තම': 936, 'තම ග': 1760, 'නත ව': 2535, 'ර ද ක': 3602, 'ග ප ද': 1130, 'උදව ව': 322, 'අ ප': 1, 'ව කරන': 4133, 'ව ලබ': 4305, 'ම ර කට': 3167, 'ර කට ට': 3550, 'ඉල ල ම': 289, 'සත ට': 4743, 'ඉ ව': 247, 'එව ක': 502, 'ල ව එහ': 4009, 'මට ක ය': 3235, 'ය ම ද': 3408, 'ට හර': 1460, 'ක ජ': 636, 'වග ක': 4360, 'අක ල': 8, 'වග හ': 4372, 'ව ට කර': 4154, 'වග ක ය': 4361, 'එය ක': 487, 'ප ය': 2646, 'ව නප': 4231, 'ර ප ය': 3633, 'ය හ ද': 3465, 'ක ව හ': 824, 'ස ලක': 4669, 'ලක ල': 4060, 'ස ල ම': 4663, 'ප ච': 2594, 'ම අර': 2982, 'ස බ ල': 4624, 'ව ස ම': 4339, 'ට කල': 1393, 'කල හ': 1011, 'ච ක': 1275, 'ට කරන': 1392, 'බ ල ග': 2877, 'ග ර ප': 1170, 'හ ටව': 4831, 'ඇමත ක': 227, 'අන ඩ ප': 63, 'ක ද හ': 670, 'ලග ත ය': 4065, 'ඩ උඩ': 1466, 'ඇච ච': 218, 'ක ට ව': 645, 'ට ව ඩ': 1445, 'ස ස ම': 4708, 'උඩ ය': 315, 'එද ප ස': 476, 'න සද': 2490, 'දන නව': 2051, 'උඩ බ': 314, 'ස ද ම': 4581, 'උඩ ත': 309, 'ස උඩ': 4507, 'ම ලය': 3186, 'න ඔව': 2149, 'බ ර එක': 2856, 'අව ල න': 193, 'ල න ත': 3916, 'ම ක කරන': 3014, 'ගල ත': 1258, 'ද උන': 1825, 'ල උඩ': 3804, 'න ස හදට': 2488, 'ල බ ම': 3939, 'ල ව ල': 4019, 'ද නග': 1925, 'ල බ ල': 3941, 'ඉර ග': 283, 'වල ත': 4418, 'බ ගත': 2809, 'ප ල ත': 2697, 'වල ත බ': 4419, 'යව ක': 3510, 'ල ග ඩ': 3859, 'කට ගහන': 876, 'ම ය ක': 3161, 'ර කට ගහන': 3549, 'ල ල ම': 3992, 'ල ම ම': 3951, 'ම ට ස': 3073, 'යල බ': 3504, 'බ න න': 2838, 'උඩ ග': 307, 'ල ල උඩ': 3980, 'උඩ ග ය': 308, 'ය ව ය': 3442, 'ය බ ල': 3403, 'තරග එක': 1795, 'ම ක උන': 3009, 'ත න ස': 1617, 'ක ස ප': 841, 'ස ප ප': 4610, 'අප ට': 95, 'ට අම': 1359, 'ඔහ තම': 571, 'තට ට': 1747, 'ම ක ග': 3015, 'උඩ ප': 313, 'ය ප ව': 3396, 'බ ට ක': 2814, 'ට ක ක': 1377, 'ඩ ෆ': 1528, 'ෆ න': 4991, 'න පස': 2336, 'ස මග': 4634, 'ග වත': 1195, 'ට ඉ': 1366, 'ත ඔය': 1560, 'ම එය ග': 2996, 'ග වත ර': 1196, 'ට ට ඉ': 1399, 'න ත ඔය': 2232, 'ම උඩ': 2986, 'ක අ': 574, 'ක යල ක': 755, 'කරග න': 957, 'ත උඩ': 1551, 'ත ත උඩ': 1587, 'ම ත ම': 3089, 'ත ම ක': 1639, 'මම බ': 3269, 'ය උඩ': 3317, 'ලක ව': 4061, 'කරන ලද': 974, 'න ව ය': 2440, 'බන න': 2926, 'ද ක එක': 1837, 'ල ට න': 3882, 'ය වග ප': 3447, 'ම දන': 3104, 'ලබ බ': 4078, 'ට ගහ': 1395, 'හර ලස': 4972, 'නක ල': 2524, 'ග බඩ': 1141, 'යය න': 3499, 'න දක': 2284, 'හර ලස සන': 4973, 'ප න ග': 2629, 'ග හ ත': 1211, 'ත එ': 1554, 'ද නල': 1929, 'ප ට ට': 2598, 'අම ම හ': 135, 'ව ට න': 4156, 'යන න ම': 3490, 'අම න': 128, 'ග ය ම': 1159, 'ල මන': 3955, 'කර ඇත': 917, 'ඇත තට': 222, 'අමතක ව': 142, 'ක හර හ': 865, 'හර හ ත': 4979, 'ව ත බ': 4182, 'කද කර': 900, 'බලන නක': 2971, 'අම ම ප': 133, 'ම ප ත': 3135, 'ත ර ල': 1689, 'ම කද කර': 3040, 'තම හ': 1779, 'අධ ක': 52, 'ඔන උන': 522, 'ම ස යල': 3206, 'රන න ද': 3750, 'මට හ ත': 3242, 'අධ ක ව': 54, 'ග ර ය': 1172, 'ල ලග': 4000, 'ල අය': 3797, 'ව ගත': 4142, 'ග අම': 1038, 'ර ම ක': 3647, 'ම ත ත': 3084, 'ඉන න න': 278, 'ත ම උන': 1638, 'ග අම ම': 1039, 'කව ර න': 1020, 'ගය ෂ': 1246, 'ඩ ක න': 1473, 'උඩ ද න': 311, 'ත ත න': 1592, 'ත න හ': 1618, 'න හ බ': 2505, 'වල ය': 4423, 'ව උබ': 4108, 'ක ය මම': 744, 'මම ක ව': 3263, 'ත ත ස': 1599, 'න ව උබ': 2423, 'ල ඉද': 3803, 'යක ප': 3473, 'ඉස ස': 297, 'ක ෂන': 832, 'අක රමන': 7, 'ර අක': 3518, 'ර අප': 3521, 'ල ව ප': 4016, 'ත ස ත': 1729, 'අප ක ම': 90, 'ද නම': 1926, 'හදවත න': 4944, 'ව ව ර': 4315, 'ව ර ද': 4283, 'කල හ ත': 1013, 'මන ස ස': 3261, 'රට ප': 3731, 'ක උඩ': 595, 'න තමන': 2255, 'එර හ': 493, 'හ ජනත': 4818, 'න ද ප': 2273, 'සල ල ක': 4790, 'කරන න න': 972, 'න තමන ග': 2256, 'ද ස ත': 2022, 'ල ග හ': 3864, 'ලග ද': 4066, 'ලය ත': 4084, 'ල මල': 3956, 'මල ව': 3286, 'න න ට': 2306, 'න න ඉස': 2299, 'ව ද ල': 4202, 'ත න ල': 1615, 'න ල න': 2411, 'ක ර ත': 771, 'ක ක ඩ': 610, 'ෆ ස': 4997, 'වල ව': 4424, 'කල ජ': 988, 'ජ කල': 1307, 'වන ස': 4397, 'ලග ප': 4068, 'ර ගම': 3570, 'ත ජ': 1583, 'ජ න': 1316, 'කක ඉන': 867, 'ස කරන': 4538, 'ව ල ත': 4295, 'ම ක තම': 3018, 'ය ත ර': 3368, 'හ ද උන': 4856, 'ජ න ය': 1317, 'න ය ම': 2380, 'ම කක ක': 3033, 'බ ර ත': 2860, 'බ ච': 2811, 'න රත': 2404, 'ර ජන': 3578, 'ජන ල': 1339, 'ත ප ඩ': 1621, 'ඩ ක ර': 1475, 'ල ක ඩ': 3827, 'ක ඩ ව': 652, 'න රත ර': 2405, 'ක ම ද': 710, 'ම ද න': 3098, 'න න ද': 2308, 'බලව ග': 2973, 'ග අප': 1037, 'අප එක': 81, 'න නන': 2320, 'ප ගත': 2590, 'බ ද න': 2825, 'ප න නන': 2632, 'බල ත': 2952, 'ම අදර': 2978, 'අදර න': 47, 'ක ටස': 649, 'හ ර බල': 4906, 'ම ඇත': 2984, 'ය අද': 3304, 'අද ස': 43, 'හ කර': 4810, 'හ ම ග': 4890, 'ව න ව': 4226, 'ස ග ත': 4544, 'උඩ න': 312, 'වත ස': 4384, 'න අදර': 2109, 'අදර ප': 48, 'බල ක ඩපත': 2943, 'ද ක ප': 1842, 'ද ර ක': 1977, 'ස ප හ': 4614, 'ටර ක': 1461, 'කට ල': 883, 'ල ගය': 3869, 'වල ප': 4421, 'රම ක': 3759, 'ව ටර ක': 4161, 'ටර ක ර': 1462, 'ර කට ල': 3552, 'කට ල ගය': 884, 'ල ගය ෂ': 3870, 'ගය ෂ ර': 1247, 'ට එක ම': 1372, 'ව ට ප': 4157, 'ය ප ප': 3393, 'ම ක ඉල': 3008, 'ක අල': 582, 'ව කට': 4130, 'බ ක ක': 2796, 'ග ත ය': 1083, 'ය න ද': 3380, 'ය ප ට': 3390, 'ක ර ප': 774, 'ගල ප': 1262, 'ට ත ය': 1404, 'න ග ය': 2186, 'හ ක හ': 4809, 'ව හ ට': 4350, 'අන ගත': 59, 'ගත ක': 1217, 'ක හ ව': 860, 'ඩ ගත': 1485, 'ප ඩ ගත': 2609, 'න ත බ': 2243, 'ක හ ය': 859, 'න ත ය': 2246, 'ද ද ක': 1886, 'ද ඉස': 1824, 'ග දර ත': 1094, 'අනන ත': 77, 'රද ව': 3744, 'ස ඉ': 4503, 'ස කත': 4534, 'හද ගන': 4934, 'ව රද ව': 4289, 'ස ස ඉ': 4700, 'හද ගන න': 4935, 'අත න': 24, 'ට ද න': 1410, 'උන උන': 327, 'බල ල': 2961, 'ල හද': 4054, 'ඔහ න': 572, 'න ය ව': 2382, 'ගත ය': 1222, 'ගත ය ත': 1223, 'හ හර': 4929, 'ක හ හර': 862, 'ක ට ස': 646, 'ව ක හ': 4129, 'ත ය ය': 1667, 'ස සන': 4714, 'ව න ට': 4219, 'ය නව': 3387, 'නව ක': 2554, 'ත ය නව': 1664, 'වග ප ඩ': 4367, 'ම ව එක': 3188, 'ම හර': 3225, 'ය ව තර': 3437, 'න ද ගන': 2268, 'ග ට න': 1066, 'න වත ර': 2454, 'බල කර': 2944, 'ස ව න': 4677, 'ක ප ක': 688, 'බ ල ප': 2880, 'ප ක හ': 2585, 'ම චර': 3062, 'ක ර ස': 779, 'ර ස ය': 3700, 'ග ම ත': 1147, 'ඔව ක': 562, 'ක හ උන': 850, 'දවස ග': 2067, 'ල ව නක': 4015, 'ය ට ව': 3360, 'ෂ එක ක': 4444, 'එක ක බ': 396, 'ම ත න': 3086, 'ත ග න': 1580, 'ව කන': 4131, 'ඩ කරග': 1479, 'ර ව ත': 3676, 'ව ඩ කරග': 4166, 'අබ බ': 118, 'ර ය ප': 3660, 'ය ප ල': 3395, 'ම ව ත': 3190, 'ල අම ත': 3796, 'ද මට': 1957, 'ම ස ර': 3207, 'ල ර': 3967, 'ල ර ප': 3971, 'න ට ද': 2212, 'ඔව හ': 568, 'නක ව': 2525, 'ද ද ත': 1888, 'ය න එක': 3377, 'ස ගම': 4549, 'න ඉද': 2125, 'ඉද ද': 263, 'ම පස': 3142, 'එ එක ද': 367, 'එක ද ත': 423, 'හ ත ද': 4839, 'ගන නව': 1233, 'ක ට න': 643, 'මග ජ': 3228, 'ද හ ත': 2036, 'ත මන': 1651, 'මන ද': 3256, 'න ඩ ව': 2223, 'ව ට ක': 4153, 'ක ක හ': 619, 'දවස ත': 2068, 'ගහ බ': 1269, 'බ ද ග': 2822, 'ද ග ම': 1860, 'ග ම ද': 1148, 'න ව ල': 2443, 'ම ක හ': 3030, 'ය න බ': 3383, 'න අතල': 2107, 'ය න ම': 3384, 'න ත අප': 2229, 'න කල': 2172, 'ල ගන': 3867, 'ක ම කල': 708, 'කල ස ද': 1006, 'ස ද ප': 4580, 'ද න කල': 1908, 'න කල ස': 2173, 'සමහර උන': 4773, 'ස ෂල': 4696, 'ෂල ම': 4496, 'උන ඉ': 326, 'ර සක': 3704, 'ග ස ෂල': 1208, 'ස ෂල ම': 4697, 'ෂල ම ඩ': 4497, 'ම ඩ හ': 3082, 'ස ර ද': 4650, 'ක හ ග': 852, 'ට ස ට': 1454, 'ප ර සක': 2668, 'ද කල හ': 1854, 'ක ඉර': 589, 'ඉර ජ': 284, 'ජ ග': 1308, 'අන එව': 57, 'න ග ස': 2190, 'ග ස ද': 1203, 'එක ද ග': 422, 'කම ප': 914, 'න ඔබ': 2147, 'න න කම': 2304, 'ර ථ': 3596, 'ව ජ': 4149, 'වල ම': 4422, 'ද ධ ර': 1902, 'කල බල': 993, 'ව එය': 4113, 'ග න ය': 1109, 'න ය ක': 2372, 'ර සත': 3705, 'ර සත ට': 3706, 'ව ග ය': 4138, 'ය ස ස': 3457, 'ම කරල': 3047, 'අන ට': 61, 'න ඩය': 2227, 'ල ක යන': 3834, 'න ව ව': 2444, 'ර ජපක': 3580, 'ජපක ෂ': 1347, 'ල ගහන': 3874, 'ය එහ': 3326, 'ර ද ධ': 3607, 'ර ජපක ෂ': 3581, 'ල ල ප': 3990, 'ල ප රෂ': 3929, 'ක ය එහ': 730, 'එහ ක ය': 512, 'බල ඉද': 2939, 'දක ව': 2046, 'ම ක ස': 3029, 'ද ප ක': 1932, 'න සමහර': 2493, 'කර එව': 922, 'එව ල': 506, 'බ ල ක': 2874, 'න ෂ ප': 2467, 'ල ල කරන': 3984, 'ත ර ගත': 1680, 'න ෂ කර': 2465, 'කර උන': 919, 'ච ද': 1284, 'න ස ම': 2480, 'ස ම ක': 4629, 'එව උන': 501, 'ඩ ද ර': 1496, 'ද ම න': 1950, 'ඩ හ ත': 1527, 'ව රල': 4290, 'කම න ට': 913, 'ද ග හ': 1863, 'ග හ ම': 1214, 'න ව ග': 2428, 'ර ලන': 3671, 'ෂ ර ලන': 4472, 'ර ලන ප': 3672, 'ර ස ම': 3699, 'චන ද ර': 1295, 'න අහ': 2119, 'රත ත': 3740, 'ඩ ය න': 1508, 'ක එල': 602, 'ත සමහර': 1736, 'වල න': 4420, 'ක යහ': 758, 'යහ ක': 3517, 'නස ව': 2567, 'ත වල': 1725, 'න ත සමහර': 2251, 'ක යහ ක': 759, 'ව නස ව': 4236, 'ත ත වල': 1598, 'කට ප': 880, 'රත ක': 3738, 'ගන ෂ': 1236, 'ව ව ත': 4310, 'ව ත ව': 4185, 'ව හ ද': 4352, 'ප රත ක': 2675, 'න ඉට': 2122, 'සහය ගය': 4796, 'ර යය': 3664, 'එත ම': 468, 'ල ඉ': 3802, 'ෂ ග': 4450, 'රනව ර': 3758, 'ක යවන': 757, 'ග ස ම': 1206, 'ත ර ර': 1688, 'කරන න ක': 971, 'ය ව ද': 3438, 'ය ප ත': 3391, 'ව ප ජ': 4239, 'උපන ද': 358, 'ද නය ව': 1928, 'කට බ': 882, 'සප ට': 4755, 'සප ට කර': 4756, 'ත ක ට': 1563, 'ල වල': 4033, 'වල හ': 4425, 'ම ය ව': 3163, 'ල ම බ': 3950, 'ට ක ට': 1378, 'ර ඇත': 3527, 'ද ඉ': 1822, 'අරම බ': 179, 'ගර වජ': 1254, 'වජ ර': 4373, 'ර අබ': 3522, 'ප වස': 2722, 'ම ප ල': 3139, 'ගර වජ ර': 1255, 'වජ ර අබ': 4374, 'ගන ව': 1235, 'වග ට': 4362, 'ඔය ප': 550, 'න ල ය': 2414, 'ඔය ප ල': 551, 'අදර කරන': 46, 'සන ව': 4752, 'ග නක': 1118, 'ස බ ර': 4623, 'ප කට': 2586, 'න ව අප': 2422, 'ප ගල': 2591, 'ර ස බ': 3698, 'ස බ ත': 4621, 'බ ත ප': 2817, 'ත ප ගල': 1620, 'ප ගල ද': 2593, 'ගල ද නය': 1261, 'ද ග ව': 1862, 'ක උර': 597, 'කර එක': 920, 'බක ත': 2909, 'න ලක': 2416, 'බක ත ක': 2910, 'ර ද ව': 3613, 'ර යන': 3663, 'ර ක ර': 3544, 'ක ර ඩ': 768, 'ගර කරන': 1250, 'ක ර ක': 763, 'සප ත': 4757, 'න හ ර': 2508, 'හ ර ක': 4904, 'ත ම ප': 1644, 'පන ව': 2754, 'මහ න ර': 3296, 'න ර ජපක': 2399, 'ජපක ෂ ම': 1348, 'ෂ ම ත': 4463, 'ත ව නස': 1710, 'තය ප': 1782, 'ල ව ස': 4023, 'ගල උත': 1256, 'උත සව': 320, 'බ ත ය': 2819, 'ප ගල උත': 2592, 'හ න ය': 4876, 'න ල බ': 2413, 'වරන ක': 4411, 'බඩ ග': 2913, 'න ලධ': 2417, 'ලධ ර': 4070, 'ර වස': 3688, 'ල ගල': 3871, 'ලක ෂ': 4062, 'ත වරන ක': 1724, 'වරන ක ට': 4412, 'ට ට ස': 1401, 'ට බ ම': 1422, 'න ලධ ර': 2418, 'ම ල ගල': 3177, 'ල ගල ත': 3872, 'ගල ත බ': 1259, 'ත බ ව': 1634, 'බ ව යද': 2890, 'ලක ෂ ය': 4063, 'යද ර': 3481, 'යල ලක': 3506, 'ප ල ම': 2703, 'ව යද ර': 4279, 'යද ර ප': 3482, 'ප යල ලක': 2650, 'යල ලක ෂ': 3507, 'න ද ම': 2275, 'ල ව ට': 4011, 'ඉද ක ර': 262, 'ර ම ල': 3650, 'බ ස ල': 2901, 'ස ල ර': 4664, 'ල ර ජ': 3968, 'ර ජ ක': 3573, 'ක ෂ ම': 829, 'බ උ': 2789, 'උ ද': 302, 'ස බ උ': 4620, 'බ උ ද': 2790, 'උ ද නය': 303, 'ම මතක': 3157, 'ග හස': 1216, 'හස ත': 4988, 'න ත එ': 2231, 'ත එ එක': 1555, 'එක ග ව': 408, 'ග ව ය': 1190, 'නම බ': 2538, 'ව සන': 4346, 'සන වන': 4753, 'වන ත': 4389, 'ට ජ': 1397, 'නම බ ද': 2539, 'ය ය ල': 3421, 'ව සන වන': 4347, 'සන වන ත': 4754, 'ස බ ස': 4626, 'බ ස හ': 2902, 'න ර ග': 2396, 'ර ග ස': 3566, 'ග ස ව': 1207, 'ව ල බ': 4299, 'ස ත ස': 4570, 'ද ප හ': 1939, 'ජ ස ප': 1332, 'වත ත': 4379, 'කර එප': 921, 'ව ර ව': 4286, 'න වත ත': 2452, 'ද නක': 1924, 'ය ජ': 3355, 'ඩ ය ස': 1510, 'ල බ ග': 3936, 'ග ද ය': 1090, 'කර ස ට': 953, 'මම ග': 3264, 'ඉන ම': 279, 'ඔබ ජ': 536, 'ය සත': 3458, 'ජ ස ස': 1333, 'ඉද ර ක': 266, 'ග යද': 1165, 'මය ක': 3274, 'බද ග': 2916, 'ව ඔබට': 4118, 'ඔබට ස': 544, 'ක ර කල': 766, 'ව ඔබට ස': 4119, 'ඔබට ස ත': 545, 'ල ග ය': 3862, 'ද ව ප': 1998, 'ත න න': 1612, 'ල ර ද': 3970, 'න බ ස': 2343, 'ස න හ': 4600, 'ප ප ප': 2639, 'බ අඩව': 2785, 'ර ත ව': 3593, 'ව බ අඩව': 4252, 'ස ෂ ර': 4695, 'ෂ ස': 4483, 'බන ධ': 2925, 'ෂ ස ත': 4484, 'සම බන ධ': 4770, 'ත මග': 1648, 'ග ඩ ම': 1073, 'ව ස ද': 4335, 'අප න ද': 101, 'න ද ත': 2270, 'ට න න': 1417, 'ව ග ඩ': 4136, 'ග නවර': 1122, 'නවර ධ': 2562, 'ත රය': 1698, 'ර ග ර': 3564, 'ර ස වර': 3702, 'ද න ෂ': 1921, 'ග නවර ධ': 1123, 'ධ ම ත': 2090, 'ලබ ද ම': 4077, 'ත ස ව': 1730, 'යම ද': 3498, 'ප රය': 2682, 'ද ෂ ප': 2012, 'ක ගර': 630, 'ගර ග': 1251, 'අල ක': 180, 'ජර ජ': 1353, 'අගන වර': 11, 'ට අද': 1357, 'ඩ ඉන': 1465, 'ඉන ඩ': 272, 'න ඩන': 2225, 'න ගර ක': 2198, 'ල ක ගර': 3824, 'ක ගර ග': 631, 'ගර ග ට': 1252, 'ග ට බ': 1067, 'බ ර ජපක': 2859, 'ම ත නගර': 3087, 'අල ක ර': 181, 'ව ය ප': 4274, 'ය ප ස': 3397, 'බ හ ව': 2907, 'න ද එද': 2264, 'ඩ ප න': 1501, 'න ඩන ස': 2226, 'ක අද': 577, 'ක යක': 750, 'ට ව ක': 1442, 'කල කර': 986, 'චර ව': 1298, 'ච චර ව': 1280, 'න න ඉට': 2298, 'න ඉට පස': 2123, 'ජනත න': 1341, 'ප ලන': 2711, 'රට ජනත': 3729, 'අන ම': 70, 'රට ස යල': 3735, 'ත න ම': 1614, 'තත ව': 1748, 'ව යන': 4280, 'යන ස': 3495, 'ත බ ද': 1629, 'ද ව යන': 2000, 'ත ව ම': 1712, 'බ ර ද': 2861, 'කව ස': 1022, 'ස අප': 4498, 'යල ද': 3502, 'ජ එක': 1301, 'දර ෂ': 2064, 'ස යල ද': 4642, 'යල ද න': 3503, 'අබ යන': 122, 'යන තර': 3487, 'ව ත ප': 4181, 'අබ යන තර': 123, 'ත ම ග': 1640, 'ම ග ල': 3056, 'ව ල ප': 4297, 'ව දර': 4212, 'ම හ ක': 3213, 'න ම ප': 2354, 'ම ප ව': 3140, 'ම ත ප': 3088, 'ථ ව': 1807, 'අවස ථ ව': 202, 'ව ප හ': 4245, 'හ ට ක': 4822, 'ල න ක': 3913, 'ක දවස': 674, 'ම ම ර': 3153, 'ත ය ගන': 1660, 'හම ද': 4945, 'ගත ව': 1226, 'ම ලග': 3184, 'වන ව': 4395, 'ප පරය': 2641, 'ද ප පරය': 1936, 'බ තම': 2820, 'බ වන': 2892, 'වන ඩ': 4388, 'ව ස කර': 4332, 'අය බ වන': 153, 'බ වන ඩ': 2893, 'බ ක ම': 2797, 'ව වන': 4321, 'ක ව වන': 822, 'පරය ම': 2764, 'ත ව ර': 1713, 'ඩ ට': 1488, 'ක ස ල': 843, 'ස ල ග': 4660, 'ර තම බ': 3595, 'ක කර': 621, 'හ තන න': 4852, 'ව ම ල': 4262, 'බ කඩ': 2801, 'ෂ කරන': 4449, 'තම බ කඩ': 1766, 'ග අතල එක': 1032, 'ර න ඩ': 3620, 'ට තම': 1405, 'ට තම බ': 1407, 'න හ කඩ': 2499, 'කඩ වල': 891, 'න හ උන': 2496, 'ස නග': 4602, 'නග ප': 2528, 'උන ඔන': 331, 'න ප ත': 2327, 'ග ව ර': 1191, 'හ තම බ': 4854, 'තර න': 1787, 'මර ද': 3276, 'න හ ප': 2504, 'න එක එක': 2135, 'ල ඇත': 3801, 'ව වහ': 4323, 'න ය ත': 2375, 'ග බ ග': 1136, 'ම ඔය': 3003, 'ය වල': 3450, 'ක ග ය': 627, 'ත ප ත': 1622, 'ල ගම': 3868, 'ග අක': 1027, 'තර ම': 1790, 'වර තම': 4402, 'ග වන': 1197, 'ත බ ක': 1628, 'ව ව ස': 4317, 'ව ග ල': 4140, 'ග ල ක': 1179, 'න ග ත': 2180, 'ම ම ස': 3155, 'ග න හ': 1115, 'ව ස න': 4336, 'ර ක ග': 3539, 'තම බ ට': 1767, 'ගම පහ': 1242, 'යක ව': 3474, 'ෂ ල': 4476, 'ර අද': 3519, 'කරන ස': 977, 'තම ප': 1763, 'ෂ ල ක': 4477, 'අද ල න': 41, 'ල ල ද': 3988, 'හ න ව': 4877, 'තර ප ර': 1789, 'ට ය ග': 1430, 'බල ඔන': 2941, 'ජ ඩ': 1310, 'වග බ': 4368, 'රට උන': 3725, 'පස ක': 2777, 'ක ය එප': 728, 'ල යක': 3964, 'යක ක': 3471, 'ඩ ක ය': 1474, 'ම ඩ ක': 3078, 'ඉ ත': 241, 'ල උබ': 3806, 'ර ග ක': 3560, 'එක එක ව': 389, 'ස ට ස': 4560, 'දන සල': 2053, 'නර ව': 2550, 'යව උන': 3509, 'ක ය ට': 734, 'බල ම ක': 2960, 'ල ව හ': 4024, 'කර ප ල': 943, 'ල තර ස': 3903, 'ඔව බන': 566, 'න ඩ න': 2221, 'ට වල': 1450, 'ව ඉන': 4102, 'ල න ට': 3914, 'ත න ප': 1613, 'ප ර ග': 2654, 'අප ජ': 94, 'තක ප': 1745, 'ද ධ ක': 1897, 'ඩ ය ප': 1509, 'ස ස අප': 4699, 'න ද එක': 2263, 'ද ම ක': 1949, 'එල ය': 496, 'අන ගමන': 60, 'ල ක එක': 3821, 'ත ය අම': 1655, 'ම අප': 2980, 'ස මර': 4635, 'න ස මර': 2481, 'එක අත': 374, 'වස ත': 4431, 'ඉල ක': 287, 'අතර ව': 27, 'ල තර මහත': 3902, 'ම ස ව': 3209, 'ල එක න': 3812, 'ර ක ල': 3545, 'ල ල මච': 3993, 'ඉන ඩස': 273, 'ඩස ට': 1532, 'රය ව': 3763, 'ඉවර අප': 290, 'ඩ පරන': 1503, 'එත අප': 465, 'අප එද': 82, 'ඉන ඩස ට': 274, 'ඩස ට ර': 1533, 'ර එක ප': 3534, 'එක ප ස': 434, 'ස ව ක': 4673, 'ව ක රය': 4126, 'ක රය ව': 786, 'රය ව ඉවර': 3764, 'ව ඉවර අප': 4105, 'ඉවර අප ග': 291, 'අප ග ඩ': 93, 'ග ඩ පරන': 1072, 'න එත අප': 2141, 'එත අප එද': 466, 'අප එද ද': 83, 'එද ද ම': 472, 'ක ම කක': 707, 'තර ට': 1785, 'ම ද ද': 3097, 'ද ද ප': 1890, 'ද ප න': 1935, 'ග න අප': 1097, 'ව ගම': 4144, 'උන හ ම': 357, 'හ ම ර': 4897, 'ම ර ද': 3169, 'සමහර ද': 4776, 'ත බල': 1636, 'ක ලය ත': 807, 'ම ර ග': 3168, 'ග ව පස': 1189, 'ම කල හ': 3050, 'ෆය නල': 4998, 'හ න ක': 4869, 'වලට බ': 4429, 'අදර කර': 45, 'ද ව ත': 1995, 'වද ද': 4385, 'යට ස': 3478, 'ක න ව': 683, 'න ව බල': 2438, 'එක ද ම': 425, 'ම ද ව': 3102, 'කක ද': 869, 'ම කක ද': 3034, 'කක ද ක': 870, 'නය ර': 2547, 'එක ව නස': 447, 'ර ක ස': 3547, 'එක අල': 378, 'න ත ට': 2237, 'ට ර න': 1437, 'එක උන': 383, 'ය ඔව': 3330, 'බලන උන': 2968, 'ර ව ඩ': 3675, 'ර වන ව': 3685, 'වන ව ල': 4396, 'ට ව එක': 1441, 'ද ග ද': 1858, 'ඔන එක': 523, 'ම ග ම': 3054, 'වන දන': 4391, 'දන ම': 2052, 'ග වලට': 1198, 'ඩ ව ව': 1520, 'වන දන ම': 4392, 'ව ද ස': 4205, 'නර ස': 2552, 'ම එහ ම': 3000, 'ස ල ව': 4666, 'ග කල': 1057, 'තන ය': 1752, 'ර ද කල': 3603, 'ක ටර': 648, 'නවක වදය': 2558, 'ය එත': 3320, 'ල ලක': 3999, 'ත ඔන': 1558, 'ව ඉන න': 4103, 'අය ග': 145, 'අද ව': 42, 'න අත': 2106, 'ස ලස': 4671, 'කල ර': 1001, 'මට ඇත': 3233, 'කල ර ද': 1002, 'න ජ ව': 2206, 'ල ස ස': 4044, 'ස ස ථ': 4704, 'ල ග එක': 3856, 'න යන': 2391, 'එල ව': 499, 'ග මම': 1151, 'ම ක අප': 3006, 'යම ක': 3496, 'ජ ක ට': 1304, 'ම හ ඩ': 3215, 'ඔ එක': 519, 'ම ඔහ': 3004, 'ලබ වර': 4079, 'වර නගර': 4407, 'නගර ල': 2529, 'කර සය': 954, 'සය ර': 4780, 'ග ඩක': 1075, 'ඩක ර': 1529, 'ර අවස': 3525, 'අවස කර': 200, 'ක ලබ වර': 805, 'ලබ වර නගර': 4080, 'වර නගර ල': 4408, 'නගර ල ස': 2530, 'නස කර සය': 2565, 'කර සය ර': 955, 'සය ර ග': 4781, 'ර ග ඩක': 3562, 'ග ඩක ර': 1076, 'ඩක ර අවස': 1530, 'ර අවස කර': 3526, 'රටට අදර': 3737, 'ග ඩය': 1080, 'මල ෂෂ': 3287, 'න මල ව': 2368, 'ව මල ෂෂ': 4271, 'ධ ප ග': 2084, 'ක මන ත': 720, 'මන ත රන': 3255, 'න ගහ': 2200, 'ල නගර': 3920, 'ප ට ස': 2604, 'ල කඩ': 3843, 'ම ව ප': 3194, 'ල යන': 3965, 'ව වර': 4322, 'ප යවර': 2651, 'ප ල බද': 2702, 'ර නගර': 3627, 'අහස යට': 217, 'ද ව ම': 1999, 'ල ප රව': 3928, 'අහක බල': 214, 'ග යන': 1166, 'අහක බල ග': 215, 'මට මතක': 3239, 'ය හ ට': 3463, 'හ ට ප': 4825, 'ප සල': 2728, 'ග නධර': 1119, 'ඉග න': 253, 'ග ර ද': 1169, 'ග ය හර': 1164, 'පද ධත': 2751, 'න එකට': 2139, 'ස ය ප': 4639, 'ග ම හ': 1150, 'ච ය': 1288, 'ර පය': 3639, 'ද න මට': 1916, 'ම ම ව': 3154, 'ඔබ ප': 538, 'ඔබ ව': 540, 'වහන ස': 4435, 'ග ෂ': 1199, 'ව ය හ': 4277, 'න ක ලබ': 2163, 'ග ෂ ර': 1200, 'න ෂ ක': 2464, 'ස අර': 4499, 'රල ක': 3765, 'න රන': 2406, 'ර ඔන': 3535, 'ර ට ස': 3584, 'ක ර ඔන': 762, 'සය ට': 4778, 'කඩ න': 890, 'ව ද ප': 4198, 'ද ගල ක': 1870, 'ද ව ර': 2001, 'රට ග': 3726, 'ද ස න': 2025, 'ස න දර': 4594, 'ක ව ද': 815, 'න ම ර': 2357, 'ල ක හ': 3842, 'න ද අප': 2260, 'තන ක': 1749, 'ස ව ම': 4680, 'ව ව ග': 4308, 'ප අම': 2571, 'ප අම ර': 2573, 'ප ය ද': 2647, 'හ රක': 4910, 'ද ෂන': 2014, 'උත ස': 319, 'හ න කර': 4870, 'ය ද ක': 3373, 'ක ක බ': 612, 'ට වග': 1449, 'මර ම': 3277, 'මද ර': 3249, 'ද න ප': 1914, 'ෂප ර': 4489, 'ර න ව': 3625, 'න ව බ': 2437, 'ද ෂප ර': 2016, 'ෂප ර ම': 4490, 'ග ක ර': 1053, 'ම ප න': 3137, 'සදහ කර': 4747, 'ම හ ග': 3214, 'හ ර ස': 4908, 'සපත ත': 4758, 'ග අත': 1030, 'ප ද ර': 2626, 'ද ර න': 1980, 'ය අ': 3303, 'න වහන': 2461, 'මහ ම': 3297, 'න වහන ස': 2462, 'අෂ ර ව': 205, 'ග ඩන': 1077, 'ඩන ග': 1531, 'ග ඩන ග': 1078, 'තක ම': 1746, 'ගය ප': 1245, 'ත ඇද': 1542, 'ඇද ප': 225, 'ප ලද': 2710, 'ලද ප': 4069, 'ල අධ': 3790, 'ක රම': 783, 'අර ථ': 164, 'ථ ක': 1803, 'ස බ ව': 4625, 'ව ච ද': 4147, 'ත ඇද ප': 1543, 'ඇද ප ලද': 226, 'න ද ලද': 2280, 'ල අධ ක': 3791, 'හ න ත': 4873, 'න ග ව': 2188, 'අර ථ ක': 165, 'ග ව ව': 1192, 'ද ම ල': 1953, 'කල ස ප': 1007, 'ස ලග': 4670, 'ස ර හ': 4655, 'ර හ ම': 3711, 'අහ එක': 209, 'ෂ ෂ ක': 4482, 'ක ම බ': 713, 'ප හ න': 2733, 'ත පර': 1625, 'මන න': 3257, 'මග යව': 3231, 'ලස ම': 4086, 'න මග යව': 2363, 'න අප එක': 2112, 'න දම': 2287, 'දම ම': 2056, 'හර ස': 4976, 'හර ස ට': 4977, 'ම ල හ': 3183, 'බය හ ත': 2933, 'ක ප රම': 693, 'න යකත': 2387, 'රව ර': 3769, 'යය ම': 3500, 'ල ත ම': 3893, 'ස ප කර': 4606, 'ප ක ද': 2579, 'ග වග': 1194, 'ප ක ර': 2583, 'ප ක ඉර': 2577, 'ක ඉර ග': 590, 'ග ම ච': 1146, 'වග ත': 4363, 'න ප ක': 2323, 'ය බ ද': 3402, 'ප ක න': 2580, 'ට ක ර': 1382, 'ප ක ප': 2581, 'ක ප න': 691, 'ම න ර': 3122, 'න ර ප': 2402, 'හ ක ල': 4807, 'න ග තම': 2181, 'අප බ ල': 106, 'බඩ ක': 2911, 'න ට ර': 2213, 'ප ත ප': 2618, 'ම කරන': 3045, 'ග ය උන': 1153, 'ග ය එක': 1154, 'ල යන න': 3966, 'ම කරන න': 3046, 'වත ප': 4380, 'ද ර ව': 1981, 'න යක ව': 2384, 'ග න පඩය': 1106, 'ග ග හ': 1060, 'ක ප ට': 689, 'න ල ව': 2415, 'ර ය ක': 3657, 'ක හ න': 856, 'න රස': 2407, 'මම න': 3267, 'ජන කර': 1335, 'බඩ ක ය': 2912, 'එප හ': 486, 'ඔව බ': 565, 'ව ත න': 4180, 'ම කම': 3043, 'ල ජන': 3878, 'ම ජ ක': 3064, 'න ල ජන': 2410, 'බල අප': 2936, 'ස ල ප': 4662, 'ල ප ය': 3926, 'ගහන උන': 1271, 'ව න ර': 4225, 'න ර ජ': 2398, 'හ ද ප': 4861, 'න යකය': 2389, 'ඉ ස': 248, 'ඉ ස ට': 249, 'ස සර': 4716, 'ර න ත': 3621, 'අහ ද': 210, 'වලට ම': 4430, 'ර ද ඉස': 3600, 'ව හද': 4356, 'හද එක': 4930, 'උන පස': 346, 'ත වලට': 1726, 'වලට ප': 4427, 'අතල ග': 29, 'න ෂ ස': 2469, 'උන පස ස': 347, 'එක එක ග': 387, 'එක ග ක': 406, 'ය ල ත': 3427, 'ල ත වලට': 3897, 'වලට ප ක': 4428, 'ව ම අප': 4257, 'ද පල': 1943, 'ල ගත': 3865, 'ර ද පල': 3609, 'ද පල ල': 1944, 'පල ල බ': 2772, 'ල ගත ත': 3866, 'ය ග ස': 3348, 'ව ප ක': 4238, 'බය ව': 2931, 'එල ය ග': 497, 'ස වග': 4685, 'ද සම': 2032, 'සම ජව': 4762, 'කරන උන': 964, 'ඩ කරන උන': 1481, 'කරන උන ට': 965, 'කර ග න': 929, 'ද ඩ': 1878, 'යව ද': 3511, 'ල ග ජම': 3858, 'කල සල': 1009, 'ට ප ක': 1419, 'ප අම ම': 2572, 'අම ම ර': 134, 'කල සල ල': 1010, 'බල ව': 2963, 'මර ක': 3275, 'බල ව ඩ': 2964, 'න වල': 2457, 'ප ක ක': 2578, 'වර ග': 4400, 'කරන අය': 963, 'බ ද හ': 2831, 'බ රගත': 2869, 'ක පස': 699, 'බල ල ක': 2962, 'අද ප': 36, 'ව හ ම': 4354, 'හ ම ප': 4895, 'අර ය': 173, 'යකඩ හ': 3475, 'න යකඩ': 2385, 'න යකඩ හ': 2386, 'ම ඔක': 3001, 'ම මස': 3159, 'ය ග හ': 3349, 'ක රය න': 785, 'මහ න ද': 3294, 'ත ය ද': 1662, 'ප වග': 2720, 'කල ලත': 1003, 'ර ද තම': 3605, 'ල ගහ': 3873, 'ය ප ක': 3389, 'කර රට': 949, 'තම හ ත': 1780, 'ම මම': 3158, 'බ ල ස': 2885, 'ක කන': 620, 'ට තම ක': 1406, 'ල ක කන': 3823, 'ය වද': 3449, 'ම ට ප': 3071, 'ප ක ම': 2582, 'ම ර ක': 3166, 'ත රය න': 1699, 'ගත ත එක': 1219, 'ය පන': 3399, 'අධ ය': 56, 'තව ද න': 1802, 'න යකය ක': 2390, 'ය පන ව': 3400, 'ල ක රට': 3836, 'යන ව': 3494, 'කට නර': 878, 'ධ අ': 2073, 'ස ර කට': 4647, 'ර කට නර': 3551, 'කට නර ව': 879, 'නර ව ද': 2551, 'ව ද ර': 4201, 'බ ර ජන': 2858, 'ර ජන ධ': 3579, 'ධ ප ම': 2086, 'ධ අ ෂ': 2074, 'හ න ගහ': 4872, 'න කන': 2167, 'ග කත': 1055, 'නර ත': 2549, 'ග ය ග': 1156, 'ග න රට': 1110, 'බ ය ග': 2853, 'යන ග': 3485, 'සම ම': 4771, 'න ප ද': 2328, 'රත ක ෂ': 3739, 'ක ෂ ප': 828, 'සය ට එක': 4779, 'අවබ ධ': 198, 'මන ෂ': 3258, 'ද ව හ': 2006, 'ස ෆය': 4739, 'අයතන ස': 158, 'ෂ යත': 4466, 'යත ව': 3479, 'ව ත කර': 4178, 'ත කර ද': 1576, 'ෂ යත ව': 4467, 'ත බ ෂ': 1635, 'ජ ල': 1326, 'නව ල': 2557, 'ග රත': 1174, 'ව ඩ ඩ': 4169, 'ම එව': 2998, 'ර ග ග': 3561, 'න ලම': 2419, 'න ලම ඔක': 2420, 'ඉ හ ත': 251, 'ලන කර': 4072, 'ප ලන කර': 2712, 'ර ල ල': 3670, 'ත ෂ': 1727, 'න වලට': 2458, 'හද ග න': 4932, 'ග න වලට': 1113, 'න වලට ම': 2459, 'ම ව ම': 3195, 'ගම ක ල': 1241, 'ප ක ස': 2584, 'ම කන': 3041, 'බ බ බ': 2846, 'ස ක ෂ': 4528, 'මස ජ': 3292, 'ජ ද': 1315, 'ල වර': 4032, 'ලන ක': 4071, 'ල ලන ක': 4002, 'ෂ ඩ': 4453, 'බද ර': 2920, 'ර ෂ ඩ': 3690, 'බද ර ද': 2921, 'තම බ ල': 1772, 'කල අප': 981, 'ප ර තම': 2657, 'බ රට': 2870, 'හම බ ල': 4952, 'නහ ර පල': 2569, 'ර පල ත': 3641, 'ල හල ල': 4058, 'ව රට': 4287, 'ක අඩ': 575, 'න න ඇත': 2297, 'ව ර ත': 4282, 'ල ත ව': 3896, 'ධ හම': 2102, 'ග අධ': 1033, 'අධ කරනය': 55, 'ග අධ කරනය': 1034, 'ප රහ': 2691, 'ය නය': 3386, 'ජනව ර': 1345, 'ප රද': 2676, 'රද න': 3743, 'ථ ප': 1806, 'ග ම න': 1149, 'ට එල': 1374, 'ක ට එල': 639, 'කර ත බ': 934, 'රදව ග': 3746, 'ස කකර': 4531, 'ග ස ට': 1202, 'ක ද නල': 665, 'අන තර': 67, 'ස ප රෂ': 4612, 'ජ ර': 1325, 'ර සරන': 3707, 'ත ර සරන': 1691, 'ප නර': 2635, 'ත වක': 1719, 'පනත යටත': 2755, 'ස ට ද': 4558, 'කල මහ': 997, 'කල මහ න': 998, 'තම බ ම': 1770, 'උන න න': 344, 'හල ල එප': 4982, 'ල එප ක': 3817, 'ග ච': 1061, 'ථ ත': 1804, 'බය මර': 2929, 'බය මර පල': 2930, 'ල කඩ හම': 3844, 'ම ඩ ය': 3081, 'කල ම ග': 995, 'කන තල': 905, 'ස කන': 4535, 'ප රද ෂ': 2677, 'න ව ඔබ': 2426, 'න ර ගම': 2397, 'ර ගම ක': 3571, 'ධ වර': 2099, 'වර ෂ': 4410, 'ර අන': 3520, 'ග ත බ': 1082, 'ග ර තම': 1168, 'න හලය': 2520, 'හලය අව': 4985, 'එක රව': 442, 'ස ල හල': 4668, 'හල ල හල': 4984, 'ය ස න': 3454, 'ස න හලය': 4601, 'න හලය අව': 2521, 'හලය අව ස': 4986, 'අව ස එක': 195, 'ස එක රව': 4514, 'එක රව ර': 443, 'රව ර ජ': 3770, 'න ග ෂ': 2189, 'ල ඩ ක': 3887, 'න බ ල': 2342, 'බ ල එක': 2873, 'න ග ලප': 2187, 'බ කරග': 2803, 'මහන ස': 3301, 'ය ගත': 3350, 'ල වට': 4029, 'කත කල': 895, 'උබ ග හ': 361, 'හම බ කරග': 4950, 'න ත ෂ': 2249, 'ජ හ': 1334, 'ර කට ව': 3553, 'න තරග': 2258, 'ෂ රත': 4474, 'මලල ක': 3289, 'ඩ තරග': 1492, 'තරග වල': 1797, 'වල අවස': 4413, 'මලල ක ර': 3290, 'ර ඩ තරග': 3587, 'ඩ තරග වල': 1493, 'තරග වල අවස': 1798, 'බන ත': 2923, 'ල වග': 4027, 'ව තර ව': 4189, 'න ඩ ඔන': 2218, 'ර ඩක': 3588, 'ඩ යම': 1511, 'ක ර ඩක': 769, 'කන ඩ යම': 904, 'ර ප කර': 3629, 'බලද ද': 2967, 'න ව සදහ': 2446, 'ර ඩකය': 3589, 'තරග වල ය': 1799, 'ක ර ඩකය': 770, 'ද තරග': 1884, 'තරග ද': 1796, 'හ ද තරග': 4859, 'ව ම හ': 4265, 'ස කන ඩ': 4536, 'ල ල කල': 3985, 'න පන': 2334, 'යකත ව': 3476, 'න යකත ව': 2388, 'ව ප රෂ': 4241, 'ල බ ත': 3937, 'ල ව ම': 4017, 'සර ව ස': 4784, 'රත ව': 3742, 'ල වල ත': 4034, 'බ ව ද': 2888, 'ල ත ර': 3895, 'ස දන': 4586, 'රහ ර': 3786, 'ප රහ ර': 2692, 'න ෂ ද': 2466, 'න ස ට': 2474, 'සල න': 4786, 'න පහල': 2337, 'රන ක සල': 3748, 'ක සල න': 848, 'සල න පහල': 4787, 'න ය නය': 2378, 'ස ඔබ': 4518, 'නස කල': 2566, 'ජ ස ඔබ': 1331, 'ව නස කල': 4235, 'කල හ ක': 1012, 'අ ක': 0, 'උන වහන': 353, 'වද ල': 4386, 'උන වහන ස': 354, 'ඔබ වහන': 541, 'රෂ ස': 3773, 'ර ස ත': 3694, 'ඔබ වහන ස': 542, 'ප රෂ ස': 2688, 'රෂ ස ව': 3774, 'ව වහන': 4324, 'ද ව වහන': 2004, 'ව වහන ස': 4325, 'ම ඔබ': 3002, 'ව ම ඔබ': 4258, 'ප ය න': 2648, 'ෂ මහත': 4464, 'ද මහත': 1961, 'ට ද ම': 1411, 'ස ල න': 4661, 'න ත මන': 2245, 'ත මන ත': 1652, 'ජපක ෂ මහත': 1349, 'න ද මහත': 2276, 'හ සන': 4926, 'න ස යල': 2482, 'ජ ප ප': 1319, 'ත රජ': 1692, 'රජ න': 3723, 'ගල ය': 1263, 'ස ත රජ': 4568, 'ත රජ න': 1693, 'ම ගල ය': 3058, 'ත මත': 1650, 'ෂ ත': 4454, 'ත සකස': 1733, 'සකස ව': 4740, 'ක බ ත': 701, 'බ ත මත': 2818, 'ත සකස ව': 1734, 'ෂ ද ධ': 4456, 'ස වහන': 4692, 'නමස ක': 2541, 'ස වහන ස': 4693, 'වහන ස ම': 4438, 'නමස ක ර': 2542, 'ස ස වහන': 4712, 'ම සම': 3210, 'ප අන': 2570, 'මතක තබ': 3246, 'ච ඥ': 1281, 'මතක තබ ග': 3247, 'ය ච ඥ': 3354, 'වහන ස ඔබ': 4436, 'අප ඔන': 88, 'ල ව ලබ': 4020, 'ව සම': 4348, 'වහන ස ර': 4439, 'ස ර ජ': 4648, 'ව ඔබ වහන': 4117, 'ම ව නස': 3193, 'ෂ යම': 4468, 'ෂ යම ද': 4469, 'ඉර ද': 285, 'ව අ': 4091, 'වහන ස ක': 4437, 'ර ද ෂ': 3614, 'ල ක ජ': 3825, 'ත න ව': 1616, 'කල සම': 1008, 'ල එකත': 3814, 'සල ල එකත': 4789, 'ම කල ක': 3049, 'ද රජ': 1983, 'සම බ ද': 4768, 'බ ද රජ': 2827, 'ග ව ගත': 1186, 'අන ම ද': 71, 'මහත ප': 3300, 'ල ර ජපක': 3969, 'නය ම': 2546, 'ම නමස': 3128, 'ම නමස ක': 3129, 'ක ර බ': 775, 'ධ පත ත': 2088, 'පත ත ම': 2745, 'ගන ද ව': 1229, 'ප රට': 2673, 'හ බ න': 4885, 'ල වග ක': 4028, 'න නකර': 2319, 'ර ක ක': 3538, 'ස න නකර': 4596, 'පල ව': 2773, 'ග නරත': 1120, 'න ගම': 2195, 'ජව ද': 1354, 'ග නරත න': 1121, 'න ගම පහ': 2196, 'සම ජව ද': 4763, 'ව ධ න': 4215, 'ච නය': 1286, 'ෂ රජය': 4473, 'රක ෂ': 3720, 'ජපක ෂ රජය': 1350, 'මන ෂ යත': 3259, 'න ද ජන': 2269, 'මන ඩල': 3252, 'බ න ඩ': 2835, 'බය නක': 2928, 'ක ෂ ය': 830, 'ය ජන ධ': 3357, 'එර හ ව': 494, 'අයද ම': 159, 'ල තරග': 3904, 'බ ල තරග': 2878, 'ල තරග වල': 3905, 'ස ක සල': 4529, 'ම කන ඩ': 3042, 'ජයග රහන': 1352, 'ල ද ද': 3908, 'ෂ රත ව': 4475, 'ග ල ඩ': 1180, 'ල ඩ ටය': 3888, 'ඩ උල': 1468, 'ර ඩ උල': 3586, 'ල මලල': 3957, 'ල මලල ක': 3958, 'ත ක ප': 1565, 'න කර ම': 2170, 'කර ම ස': 947, 'ඩ ජ': 1487, 'ද ෂ ල': 2013, 'ග තබ': 1084, 'ව දයට': 4210, 'දයට එර': 2057, 'බ ෂ ර': 2897, 'ත ව දයට': 1708, 'ව දයට එර': 4211, 'දයට එර හ': 2058, 'රම න ෂ': 3761, 'ක ජ ත': 637, 'ජනව ර ග': 1346, 'අධ ක ර': 53, 'ල ජන ධ': 3879}\n",
            "characters level tf-idf_Vocabulary:  {'දි': 1762, 'ින': 4186, 'න ': 1842, ' එ': 75, 'එක': 864, 'කා': 1080, 'ාබ': 3877, 'බද': 2226, 'ද්': 1735, '්ධ': 3662, 'ධ ': 1809, ' ව': 402, 'වි': 3119, 'ිප': 4200, 'පක': 2054, 'ක්': 1066, '්ෂ': 3749, 'ෂ ': 3173, ' ම': 311, 'මා': 2424, 'ාධ': 3856, 'ධ්': 1829, '්\\u200d': 3776, '\\u200d ': 4877, ' ල': 382, 'ලේ': 2980, 'ේක': 4645, 'ක ': 962, ' ර': 359, 'රේ': 2824, 'ේන': 4660, 'නු': 1994, 'ුක': 4379, ' ප': 260, 'පෙ': 2170, 'ෙර': 4595, 'ේර': 4670, 'ර ': 2638, 'මහ': 2408, 'හත': 3430, 'ත ': 1527, ' න': 238, 'නි': 1976, 'ිව': 4261, 'වේ': 3160, 'ේද': 4656, 'දන': 1704, 'නය': 1903, 'ය ': 2504, ' අ': 0, 'අද': 624, 'දා': 1741, 'ාල': 3905, 'ල ': 2835, 'අම': 655, 'මි': 2446, 'ි ': 4098, 'වී': 3135, 'ීර': 4340, 'රස': 2743, 'සි': 3345, 'ිං': 4127, 'ංහ': 597, 'හ ': 3396, ' ක': 103, 'කල': 1050, ' ස': 435, 'සා': 3324, 'ාක': 3814, 'කච': 998, 'ච්': 1291, '්ච': 3607, 'චා': 1293, 'ාව': 3915, 'දින': 1766, 'ින ': 4187, 'න එ': 1847, ' එක': 77, 'එකා': 875, 'කාබ': 1086, 'ාබද': 3879, 'බද්': 2228, 'ද්ධ': 1739, '්ධ ': 3663, 'ධ ව': 1818, ' වි': 420, 'විප': 3127, 'ිපක': 4202, 'පක්': 2057, 'ක්ෂ': 1075, '්ෂ ': 3750, 'ෂ ම': 3182, ' මා': 329, 'මාධ': 2429, 'ාධ්': 3858, 'ධ්\\u200d': 1830, '්\\u200d ': 3777, ' ලේ': 399, 'ලේක': 2982, 'ේක ': 4646, 'ක ර': 981, 'රේන': 2826, 'නුක': 1996, 'ුක ': 4380, 'ක ප': 977, ' පෙ': 281, 'පෙර': 2175, 'ේර ': 4671, 'ර ම': 2655, ' මහ': 328, 'මහත': 2410, 'හත ': 3431, 'ත න': 1541, ' නි': 252, 'නිව': 1986, 'වේද': 3163, 'ේදන': 4658, 'නය ': 1904, 'ය අ': 2505, ' අද': 9, 'අදා': 628, 'ාල ': 3906, 'ල අ': 2836, ' අම': 14, 'අමි': 659, 'මි ': 2447, 'ි ව': 4120, ' වී': 421, 'වීර': 3139, 'රසි': 2746, 'සිං': 3347, 'ිංහ': 4132, 'ංහ ': 598, 'හ ක': 3403, ' කල': 116, 'කල ': 1051, 'ල ම': 2851, '\\u200d ස': 4883, ' සා': 451, 'සාක': 3326, 'ාකච': 3816, 'කච්': 999, 'ච්ච': 1292, '්චා': 3610, 'ා ': 3782, '්ස': 3757, 'සත': 3264, 'ත්': 1585, '් ': 3560, ' ජ': 162, 'ජා': 1338, 'ාත': 3843, 'ති': 1610, 'ික': 4135, 'පව': 2097, 'වත': 3032, 'කි': 1104, 'ිස': 4276, ' ච': 153, 'චන': 1285, 'න්': 1932, '්ද': 3647, 'දය': 1713, 'යක': 2532, ' ඉ': 40, 'ඉද': 774, 'ිර': 4245, 'රි': 2788, 'ප ': 2035, 'වෙ': 3151, 'ෙ ': 4512, 'නැ': 1964, 'ැ ': 3945, 'ි…': 4290, 'මා ': 2425, 'ා එ': 3787, 'එක්': 874, 'ක්ස': 1076, '්සත': 3759, 'සත්': 3266, 'ත් ': 1586, '් ජ': 3570, ' ජා': 168, 'ජාත': 1340, 'ාති': 3848, 'තික': 1613, 'ික ': 4136, ' පක': 262, 'ෂ එ': 3175, 'ෂ ප': 3181, ' පව': 271, 'පවත': 2098, 'වති': 3035, 'ති ': 1611, 'ි ක': 4105, ' කි': 123, 'කිස': 1114, 'ිසි': 4282, 'සි ': 3346, 'ි ප': 4114, 'ෂ ච': 3178, ' චන': 154, 'චන්': 1287, 'න්ද': 1940, '්දය': 3652, 'දයක': 1715, 'යක ': 2533, 'ක ඉ': 965, ' ඉද': 48, 'ඉදි': 779, 'දිර': 1768, 'ිරි': 4250, 'රිප': 2794, 'ිප ': 4201, 'ප ව': 2049, ' වෙ': 424, 'වෙ ': 3152, 'ෙ ක': 4519, 'කි ': 1105, 'ි න': 4113, ' නැ': 250, 'නැ ': 1965, 'ැ එ': 3949, 'ෂ ව': 3185, 'ිම': 4217, 'ම ': 2328, ' ත': 193, 'තර': 1575, 'කො': 1142, 'ොහ': 4800, 'හේ': 3529, 'ද ': 1668, 'ිද': 4174, ' ග': 131, 'ගල': 1206, ' උ': 60, 'උර': 844, 'රන': 2709, 'ිත': 4164, 'තු': 1630, 'ුර': 4436, 'පර': 2080, 'රය': 2727, 'ිම ': 4218, 'ම ත': 2338, ' තර': 200, 'තර ': 1576, 'ර ක': 2645, ' කො': 129, 'කොහ': 1151, 'ේද ': 4657, 'ද ව': 1687, 'විද': 3124, 'ිද ': 4175, 'ද ග': 1676, ' ගල': 138, 'ගල ': 1207, 'ල උ': 2839, ' උර': 72, 'රන ': 2710, 'න ම': 1859, 'ා ම': 3798, ' මි': 332, 'මිත': 2449, 'ිතු': 4172, 'තුර': 1636, 'ුර ': 4437, 'ර ප': 2653, ' පර': 269, 'පරය': 2086, 'එහ': 918, 'හෙ': 3521, 'හො': 3532, 'ොම': 4767, 'උන': 829, 'නේ': 2016, 'ේ ': 4620, ' 😂': 516, '😂😂': 4961, '😂 ': 4952, 'අප': 641, 'පි': 2139, 'අය': 661, 'කර': 1039, 'රල': 2732, 'එහෙ': 921, 'හෙ ': 3522, 'ොහො': 4803, 'හොම': 3537, 'ොම ': 4768, 'ම උ': 2332, ' උන': 69, 'උනේ': 834, 'නේ ': 2017, 'ේ 😂': 4644, ' 😂😂': 520, '😂😂 ': 4962, '😂 ප': 4955, 'රය ': 2728, ' අප': 12, 'අපි': 648, 'පි ': 2140, 'ි අ': 4099, ' අය': 15, 'අය ': 662, 'ය ක': 2511, ' කර': 115, 'කරල': 1045, 'රල ': 2733, 'ල න': 2848, ' නේ': 257, 'මල': 2398, 'ගො': 1272, 'ොන': 4756, 'වග': 3020, 'ගෙ': 1262, 'කෙ': 1132, 'මෑ': 2445, 'ෑර': 4089, 'රෙ': 2819, ' හ': 463, 'හද': 3435, 'රට': 2687, 'ටට': 1389, 'ට ': 1361, 'වෑ': 3118, 'ඩ ': 1446, ' ය': 341, 'ො ': 4699, 'ොර': 4776, 'විම': 3128, 'ිමල': 4220, 'මල ': 2399, 'ල ග': 2843, ' ගො': 150, 'ොන ': 4757, 'න ව': 1863, ' වග': 405, 'වගෙ': 3023, 'ගෙ ': 1263, 'ෙ එ': 4517, 'එකෙ': 878, 'කෙ ': 1133, 'ෙ ම': 4530, ' මෑ': 331, 'රෙ ': 2820, 'ෙ හ': 4536, ' හද': 468, 'හද ': 3436, 'ද ප': 1681, 'ය ර': 2523, ' රට': 364, 'රටට': 2689, 'ටට ': 1390, 'ට ව': 1381, 'ඩ ක': 1452, 'කර ': 1040, 'ර ය': 2656, ' යක': 343, 'යකො': 2540, 'කො ': 1143, 'ො හ': 4716, ' හො': 482, 'හොර': 3539, 'ලැ': 2941, 'ැජ': 3979, 'ජ්': 1335, '්ජ': 3612, 'ජ ': 1307, 'හෝ': 3540, 'ෝද': 4838, 'දර': 1717, 'ිහ': 4285, ' ද': 215, 'දැ': 1753, 'ැක': 3966, '්ක': 3589, ' ඔ': 91, 'ඔබ': 941, 'බ ': 2196, 'කු': 1120, 'ුල': 4446, 'ලල': 2907, 'ල්': 2920, 'කෑ': 1099, 'ෑ ': 4069, 'වා': 3092, 'ාස': 3932, 'ග ': 1156, 'තම': 1568, 'ම්': 2417, '්බ': 3700, 'බි': 2288, 'වහ': 3081, 'හබ': 3449, 'බ්': 2259, '්ව': 3736, 'ාද': 3849, 'දී': 1772, 'ී ': 4292, 'දෙ': 1791, 'ෙම': 4584, ' බ': 285, 'බෙ': 2307, 'ෙද': 4560, 'දු': 1777, 'ුම': 4426, 'ලැජ': 2943, 'ැජ්': 3980, 'ජ්ජ': 1336, '්ජ ': 3613, 'ජ ස': 1315, 'හෝද': 3542, 'ෝදර': 4841, 'දර ': 1718, 'ර ව': 2659, 'ිදි': 4180, 'දිහ': 1771, 'ිහ ': 4286, 'හ ද': 3407, ' දැ': 227, 'දැක': 1756, 'ැක්': 3968, 'ක්ක': 1068, '්කා': 3595, 'කා ': 1081, 'ා ඔ': 3788, ' ඔබ': 97, 'ඔබ ': 942, 'බ ක': 2201, ' කු': 125, 'කුල': 1125, 'ල්ක': 2922, 'කෑ ': 1100, 'ෑ ව': 4077, ' වා': 418, 'වාස': 3104, 'ාසි': 3937, 'ි ග': 4106, ' ග ': 132, 'ග ත': 1165, ' තම': 199, 'තම්': 1571, 'ම්බ': 2420, '්බි': 3706, 'බි ': 2289, ' වහ': 416, 'වහබ': 3084, 'හබ්': 3450, 'බ්ව': 2262, '්වා': 3744, 'වාද': 3099, 'ාදී': 3853, 'දී ': 1773, 'ී ද': 4301, ' දෙ': 231, 'දෙම': 1797, 'ෙමල': 4586, 'ල බ': 2850, ' බෙ': 306, 'බෙද': 2310, 'ෙදු': 4566, 'දුම': 1782, 'ුම්': 4430, 'ම්ව': 2422, 'මං': 2350, 'ං ': 548, 'ගේ': 1268, 'ෙන': 4568, '්න': 3669, 'නෙ': 2006, '\\u200dර': 4892, 'රහ': 2747, 'හස': 3470, 'ස්': 3311, '්ප': 3689, 'පත': 2063, 'එන': 890, 'එත': 883, 'තක': 1554, 'රා': 2768, 'ොද': 4751, 'අඩ': 614, 'ඩව': 1494, 'ව්': 3086, 'ව ': 2994, 'අල': 679, '්ල': 3721, 'ිබ': 4210, 'අව': 683, 'වන': 3042, 'නම': 1899, 'මං ': 2351, 'ං ත': 556, 'වගේ': 3024, 'ගේ ': 1269, 'ේ ප': 4634, 'පෙන': 2173, 'ෙන්': 4575, 'න්න': 1942, '්නෙ': 3685, ' මං': 313, 'ං බ': 560, ' බ්': 298, 'බ්\\u200d': 2263, '්\\u200dර': 3779, '\\u200dරහ': 4908, 'රහස': 2749, 'හස්': 3472, 'ස්ප': 3318, '්පත': 3691, 'පති': 2066, 'තින': 1616, 'ින්': 4193, '්ද ': 3648, ' ගෙ': 148, 'ගෙද': 1265, 'ෙදර': 4562, 'ර එ': 2643, ' එන': 81, 'එන්': 893, 'එතක': 884, 'තකො': 1556, 'ො ස': 4715, ' සි': 454, 'සික': 3348, 'ිකු': 4146, 'කුර': 1124, 'ුරා': 4443, 'රාද': 2773, 'ාද ': 3850, 'ද හ': 1690, 'හොද': 3536, 'ොද ': 4752, 'ද අ': 1669, ' අඩ': 6, 'ව්ව': 3090, '්ව ': 3737, 'ව අ': 2995, ' අල': 17, 'අල්': 680, 'ල්ල': 2927, '්ල ': 3722, 'ල ත': 2846, ' ති': 207, 'තිබ': 1618, 'ිබ්': 4213, 'බ්බ': 2260, '්බ ': 3701, 'බ අ': 2197, ' අව': 18, 'නම්': 1902, 'ඉට': 767, 'ටි': 1424, 'බං': 2215, 'උත': 821, 'ඉල': 794, 'ලන': 2885, 'නස': 1926, 'සෙ': 3378, 'ෙට': 4550, 'ැග': 3972, 'නහ': 1930, 'හි': 3495, 'රප': 2717, 'යි': 2603, 'බැ': 2275, 'ැල': 4040, 'ිල': 4255, 'ෙහ': 4616, 'ටි ': 1425, 'ි බ': 4115, ' බං': 287, 'බං ': 2216, 'ං උ': 551, ' උත': 67, 'උතු': 824, 'ර ඉ': 2641, ' ඉල': 55, 'ඉල්': 795, '්ලන': 3726, 'සෙට': 3380, 'ෙට ': 4551, 'ට එ': 1366, 'එක ': 865, 'ක න': 976, 'නැග': 1966, 'ැගෙ': 3976, 'ගෙන': 1266, 'ෙනහ': 4574, 'නහි': 1931, 'හිර': 3505, 'ි ස': 4122, ' සෙ': 458, 'ක අ': 963, 'අයි': 666, 'ිං ': 4128, 'ං ක': 554, 'කොර': 1149, 'රප ': 2718, 'ප බ': 2046, ' බැ': 300, 'බැල': 2282, 'ැල ': 4041, 'ං ර': 563, ' රන': 368, 'රනි': 2716, 'නිල': 1985, 'ිල ': 4256, 'ල ප': 2849, 'පරා': 2087, 'ද න': 1680, ' නෙ': 256, 'නෙහ': 2015, 'පේ': 2176, 'නව': 1912, 'ාන': 3861, 'කව': 1057, 'වද': 3037, 'ඉ ': 748, 'පැ': 2127, 'ැත': 3992, '්ත': 3628, 'දග': 1697, 'උ ': 804, ' ෂ': 428, 'ිය': 4226, 'යා': 2587, 'බෝ': 2322, 'ෝව': 4859, '්ථ': 3642, 'ථා': 1662, 'වර': 3056, 'රග': 2675, 'ගන': 1188, ' ට': 176, 'ටා': 1420, 'ාග': 3820, 'ගට': 1182, 'ටේ': 1441, 'බහ': 2256, 'හු': 3511, 'ුත': 4396, 'පේන': 2179, 'ේනව': 4662, 'නවා': 1922, 'වාන': 3100, 'ාන ': 3862, 'න ත': 1854, ' කව': 117, 'කවද': 1058, 'වද ': 3038, 'ද ඉ': 1671, ' ඉ ': 41, 'ඉ උ': 750, 'උන්': 831, 'න් ': 1933, '් ව': 3581, ' පැ': 276, 'පැත': 2130, 'ැත්': 3994, 'ත්ත': 1589, '්ත ': 3629, 'ත එ': 1532, ' එහ': 89, 'ෙ ඉ': 4515, 'ඉදග': 776, 'දගෙ': 1700, 'ෙ උ': 4516, ' උ ': 61, 'රිය': 2796, 'ියා': 4239, 'යා ': 2588, 'ා උ': 3786, 'උ බ': 807, ' බෝ': 309, 'වී ': 3136, 'ී ස': 4309, ' ස්': 450, 'ස්ථ': 3316, '්ථා': 3645, 'ථාව': 1665, 'ාවර': 3921, 'වර ': 3057, 'කරග': 1041, 'රගන': 2678, 'ගන්': 1190, '් උ': 3564, 'ගට ': 1183, 'රටේ': 2690, 'ටේ ': 1442, 'ේ බ': 4635, ' බහ': 297, 'බහු': 2258, 'හුත': 3514, 'ුතර': 4398, 'ඉත': 771, 'හා': 3476, 'ස ': 3224, 'මෙ': 2475, 'ෙල': 4600, 'ලි': 2946, 'රව': 2734, 'වු': 3140, 'ුව': 4451, 'රී': 2800, 'ීම': 4336, 'වක': 3017, 'ාෂ': 3928, 'ප්': 2110, 'නා': 1950, 'ාම': 3881, 'පු': 2154, 'ුද': 4401, 'යු': 2616, 'ු ': 4353, 'පස': 2102, 'සු': 3364, 'ගි': 1241, ' ඇ': 24, 'ඇත': 719, 'වූ': 3147, 'ඉති': 773, 'තිහ': 1624, 'ිහා': 4287, 'හාස': 3481, 'ාස ': 3933, 'ස ඉ': 3226, 'රි ': 2789, 'ි ම': 4116, ' මෙ': 336, 'මෙ ': 2476, ' හෙ': 480, 'හෙල': 3527, 'ෙලි': 4604, 'ලිද': 2952, 'ිදර': 4176, 'රවු': 2738, 'වුව': 3145, 'ුව ': 4452, 'ව ක': 3001, 'කිර': 1111, 'ිරී': 4251, 'රීම': 2805, 'ීම ': 4337, 'ම අ': 2329, 'කාෂ': 1090, 'ාෂ ': 3929, 'ෂ ද': 3179, ' ද ': 216, 'අප ': 642, 'ප ප': 2045, ' ප්': 274, 'ප්\\u200d': 2115, '\\u200dරන': 4899, 'රනා': 2715, 'නාම': 1958, 'ාම ': 3882, 'ම ප': 2341, ' පු': 279, 'පුද': 2159, 'ුද ': 4402, 'ද ක': 1675, 'ල ය': 2852, ' යු': 355, 'යුත': 2619, 'ුතු': 4400, 'තු ': 1631, 'ු ප': 4367, ' පස': 272, 'පසු': 2105, 'සු ': 3365, 'ු ග': 4361, ' ගි': 145, 'ගිය': 1246, 'ිය ': 4227, ' කා': 120, 'කාල': 1088, 'ල ර': 2853, 'ේ ඇ': 4622, ' ඇත': 30, 'ඇති': 722, 'තිව': 1622, 'ඉස': 800, 'ලා': 2930, 'තව': 1581, 'තේ': 1645, 'රු': 2809, 'ඉස්': 801, 'ස්ල': 3320, '්ලා': 3729, ' ත්': 203, 'ත්\\u200d': 1595, '\\u200dරස': 4907, 'රස්': 2745, 'ස්ත': 3315, '්තව': 3635, 'තවා': 1583, 'ී එ': 4296, 'එහි': 920, 'හි ': 3496, 'ි ත': 4111, ' තේ': 211, 'තේර': 1647, 'ේරු': 4672, 'රු ': 2810, 'ු එ': 4358, 'පල': 2090, 'වැ': 3106, 'ැඩ': 3987, 'බල': 2244, 'ිට': 4156, 'පල ': 2091, ' පල': 270, 'ි හ': 4123, ' හු': 478, 'හු ': 3512, 'ු ත': 4364, 'තම ': 1569, 'ම ව': 2347, ' වැ': 419, 'වැඩ': 3109, 'ැඩ ': 3988, 'ඩ බ': 1460, ' බල': 295, 'බලා': 2251, 'ලාග': 2934, 'ාගෙ': 3828, ' හි': 476, 'හිට': 3499, 'ිට ': 4157, 'ට අ': 1362, 'අපේ': 651, 'පේ ': 2177, 'ේ ර': 4638, 'රට ': 2688, 'ට බ': 1376, 'ලා ': 2931, 'ා ග': 3790, ' ගන': 135, '්න ': 3670, 'න අ': 1843, 'ාතක': 3845, 'ඩෝ': 1524, 'ෝ ': 4806, 'කට': 1001, 'හග': 3423, 'ාහ': 3938, 'හ්': 3474, 'ගැ': 1231, 'ැන': 4003, 'යේ': 2630, 'ේෂ': 4679, 'පෝ': 2191, 'ෝල': 4854, 'අර': 670, 'වය': 3052, 'යස': 2581, 'සක': 3255, 'කඩ': 1006, 'ඩී': 1512, 'හැ': 3482, 'ැබ': 4015, 'අඩෝ': 618, 'ඩෝ ': 1525, 'ෝ ත': 4812, 'පර ': 2081, ' කට': 107, 'කට ': 1002, 'හගෙ': 3425, 'ලාහ': 2940, 'හ් ': 3475, '් හ': 3583, 'ොර ': 4777, 'ර ග': 2646, ' ගැ': 143, 'ගැන': 1234, 'ැනි': 4008, 'නි ': 1977, 'අයේ': 669, 'ේෂ ': 4680, ' පෝ': 284, 'පෝල': 2195, 'ෝල ': 4855, 'ල ද': 2847, ' දා': 226, 'දා ': 1742, 'ා ප': 3796, 'ර අ': 2639, ' අර': 16, 'අර ': 671, ' වය': 412, 'වයස': 3054, 'සක ': 3256, 'ක ක': 969, ' කඩ': 108, ' හැ': 475, 'හැබ': 3491, 'ැබැ': 4017, 'කෝ': 1152, 'ඔස': 957, 'සද': 3269, ' ඩ': 185, 'ීප': 4332, '්ෆ': 3773, 'ෆ්': 3547, 'ීස': 4350, 'සර': 3295, 'කාද': 1084, 'ද ය': 1684, 'යකෝ': 2541, 'කෝ ': 1153, 'ෝ ඔ': 4809, ' ඔස': 101, 'ීප්': 4334, '\\u200dරී': 4912, 'රීස': 2808, 'සර ': 3296, 'ිර ': 4246, 'බ ප': 2206, 'ලු': 2966, 'උඩ': 818, 'ඩත': 1480, 'තල': 1579, 'ලව': 2909, 'ැස': 4061, 'චර': 1288, 'තය': 1573, 'ලො': 2984, 'ත බ': 1543, 'ැලු': 4050, 'ලුව': 2972, 'ුවා': 4459, 'වා ': 3093, ' උඩ': 66, 'ලවි': 2912, 'වි ': 3120, 'ි ද': 4112, ' දන': 219, 'දන ': 1705, 'න ග': 1850, 'ගැස': 1236, 'ැස්': 4063, 'ස්ස': 3322, '්ස ': 3758, ' චර': 155, 'චරි': 1290, 'රිත': 2791, 'ිතය': 4167, 'තය ': 1574, 'ය ත': 2515, 'තමා': 1572, 'ා ල': 3801, ' ලො': 400, 'හා ': 3477, 'ා ක': 3789, 'කිය': 1110, 'හල': 3463, 'ලය': 2901, 'මු': 2461, 'ලම': 2897, 'පා': 2116, 'ාර': 3893, 'ර්': 2751, 'මේ': 2485, 'ේ…': 4688, 'ංහල': 599, 'හලය': 3465, 'ලයා': 2904, 'ා ස': 3804, 'හ ප': 3409, 'ෂ න': 3180, 'නැත': 1968, 'ැති': 3995, 'තිම': 1619, 'ිමු': 4224, 'මු ': 2462, 'ු ද': 4365, 'මලා': 2402, 'ා ඉ': 3785, 'ලම ': 2898, 'ඇත ': 720, 'ත ත': 1539, 'බිය': 2293, 'ා ත': 3793, 'ද ත': 1678, ' පා': 275, 'පාර': 2123, 'ාර්': 3901, 'ර්ල': 2764, '්ලි': 3731, 'ලිම': 2956, 'ිමේ': 4225, 'මේන': 2488, 'ේන්': 4663, 'න්ත': 1939, 'ත ඇ': 1529, 'ත ම': 1544, ' මේ': 337, 'ුස': 4467, 'ලෝ': 2989, 'ෝක': 4821, 'කය': 1034, 'යට': 2545, 'මර': 2391, 'රක': 2669, 'ෂ්': 3202, 'ලං': 2860, 'ංක': 568, 'ැම': 4023, 'සැ': 3334, 'ැව': 4051, 'වො': 3170, '්…': 3780, 'මුස': 2470, 'ුස්': 4470, 'ලි ': 2947, 'ි ල': 4119, ' ලෝ': 401, 'ලෝක': 2991, 'යට ': 2546, 'ට ප': 1375, ' පි': 277, 'පිල': 2148, 'ිලි': 4260, 'ලිල': 2958, 'ලය ': 2902, 'ය ව': 2525, ' වු': 422, 'වු ': 3141, 'ු ම': 4369, ' මර': 324, 'මරක': 2393, 'රක්': 2672, '්ක ': 3590, 'කරන': 1043, 'ද ෂ': 1688, ' ෂ්': 430, 'ෂ්\\u200d': 3207, 'රී ': 2801, 'ී ල': 4307, ' ලං': 383, 'ලංක': 2862, 'ංකා': 570, ' තු': 209, 'ුත ': 4397, 'ත ක': 1534, 'පැම': 2133, 'ැමි': 4030, 'මින': 2451, 'න ඇ': 1844, 'ත ස': 1549, ' සැ': 452, 'ො එ': 4704, 'වෙන': 3155, 'ෙන ': 4569, 'න ක': 1849, ' ක්': 119, 'ක්…': 1079, 'රැ': 2779, '්ඩ': 3623, 'කප': 1024, 'පො': 2180, 'ොඩ': 4741, 'ඩ්': 1497, 'ොට': 4735, 'ටක': 1387, 'බා': 2264, 'බර': 2240, 'නග': 1878, 'ගහ': 1216, 'හන': 3443, 'ෙප': 4580, 'රැව': 2784, 'ැවු': 4059, 'ු ක': 4360, 'කොන': 1147, 'ොන්': 4759, 'න්ඩ': 1938, '්ඩ ': 3624, ' කප': 113, 'කප ': 1025, 'ප ග': 2041, 'ගිහ': 1248, ' පො': 283, 'පොඩ': 2184, 'ොඩ්': 4745, 'ඩ්ඩ': 1498, 'කොට': 1145, 'කිව': 1113, 'ිව්': 4265, 'ව ප': 3007, 'ට ක': 1368, ' බා': 299, 'බරය': 2242, 'ය හ': 2528, 'හෙන': 3525, 'ෙනග': 4571, 'ගහන': 1219, 'හන්': 3445, 'නෙප': 2012, 'පැ ': 2128, 'ැ ක': 3951, 'අපර': 644, 'ඉන': 780, '්ට': 3616, 'ටර': 1402, 'සී': 3360, 'කේ': 1140, 'මය': 2388, 'හී': 3509, 'හර': 3459, 'ඔල': 949, 'රො': 2828, 'ොෆ': 4804, 'ෆය': 3544, 'කක': 992, 'මුර': 2467, 'ුරල': 4440, ' ඉන': 49, 'ඉන්': 781, 'න්ට': 1937, '්ටර': 3618, 'ටර්': 1404, 'ර්ව': 2765, '්වී': 3747, ' සී': 455, 'රිස': 2799, 'ිස ': 4277, 'ස එ': 3228, 'එකේ': 879, 'කේ ': 1141, 'ේ ද': 4632, 'දෙ ': 1792, 'ක ම': 979, ' මය': 323, 'යු ': 2617, 'ු ර': 4371, ' රහ': 371, 'ම්ස': 2423, 'ස ග': 3231, 'න හ': 1866, ' හර': 471, 'හරි': 3462, 'නේද': 2018, ' යා': 352, 'යාල': 2598, 'ාලු': 3912, 'ුවන': 4456, 'වන ': 3043, 'න ඔ': 1848, ' ඔල': 99, 'ඔලි': 950, 'ිම්': 4221, 'ම්ප': 2419, '්පි': 3696, '\\u200dරො': 4915, 'රොෆ': 2830, 'ොෆය': 4805, 'ෆයි': 3545, 'යිල': 2613, 'ල එ': 2840, 'එකක': 866, 'කක්': 994, 'න ඉ': 1845, ' ඉත': 47, 'තිං': 1612, 'දව': 1725, 'වස': 3075, 'ජය': 1326, 'සූ': 3376, 'ූර': 4498, 'පඩ': 2062, 'ඩය': 1489, 'කඑ': 991, 'ඉබ': 785, ' \\u200d': 493, '\\u200dෂ': 4916, 'දවස': 1728, 'වස ': 3076, 'ස ක': 3230, 'කරු': 1048, 'ු ජ': 4362, ' ජය': 165, 'ය ස': 2527, ' සද': 441, 'සද්': 3271, 'ද්ද': 1738, '්දෙ': 3660, 'ෙ ප': 4528, ' පඩ': 264, 'ඩය ': 1490, 'ය ග': 2512, 'ගි ': 1242, 'ි ඉ': 4101, ' ඉස': 58, '්සර': 3761, 'වෙල': 3158, 'ෙලා': 4603, 'ා ද': 3794, ' දු': 230, 'දුව': 1785, 'වන්': 3045, 'ය ට': 2514, ' ටි': 180, 'ටික': 1426, ' ඉබ': 51, 'බල ': 2245, 'ල හ': 2858, 'ද ස': 1689, ' සු': 456, 'සුව': 3374, 'ුවද': 4455, ' කෑ': 122, 'ෑ ග': 4072, ' ගහ': 140, 'හන ': 3444, ' \\u200dෂ': 494, '\\u200dෂ්': 4917, 'හම': 3451, 'හම්': 3453, 'හප': 3447, 'ය 😂': 2529, 'සම': 3283, 'ුන': 4409, 'සව': 3304, 'මෙහ': 2484, 'ෙහ ': 4617, 'හ ස': 3416, ' සම': 445, 'සමහ': 3287, 'මහර': 2412, 'රුන': 2813, 'ුන්': 4413, 'උනා': 832, 'නා ': 1951, '්දි': 3657, 'දි ': 1763, ' හල': 472, 'හලා': 3467, 'ලාල': 2937, 'කන': 1021, 'දේ': 1801, 'ෂප': 3195, 'නී': 1989, 'මො': 2493, 'ාය': 3888, 'ුට': 4389, 'ටු': 1433, 'අහ': 699, 'රබ': 2719, 'ෑව': 4092, 'කන්': 1023, '් ද': 3573, ' දේ': 232, 'දේෂ': 1804, 'ේෂප': 4681, 'ෂපා': 3197, 'පාල': 2124, 'ාලන': 3908, 'ලන ': 2886, 'න ප': 1857, 'පෙ ': 2171, 'න ස': 1865, 'සිද': 3351, 'ිදු': 4181, 'ව ව': 3013, 'වික': 3121, 'ිකි': 4145, 'කින': 1109, 'ිනි': 4196, 'මිල': 2454, 'ැනී': 4009, 'නී ': 1990, 'ී හ': 4310, ' හම': 469, 'හම ': 3452, 'ම හ': 2349, 'හුර': 3517, 'ර ද': 2651, 'දාන': 1745, ' මො': 339, 'ොඩ ': 4742, 'ඩ ච': 1454, 'දාය': 1747, 'ායක': 3890, 'ක ද': 975, 'ුටු': 4393, 'ටුව': 1437, 'ුවි': 4460, ' අහ': 21, 'අහෝ': 709, 'හෝ ': 3541, 'ෝ අ': 4807, 'ප ස': 2050, 'සිර': 3355, 'රබ ': 2720, 'ඔප': 939, 'ඩි': 1505, 'ය්': 2586, 'ලස': 2914, 'මම': 2386, 'ා හ': 3805, 'ක ඔ': 968, ' ඔප': 96, 'පිස': 2149, 'ේ ව': 4640, 'ොඩි': 4747, 'ඩි ': 1506, 'ෙමි': 4588, 'ි එ': 4103, 'ක ත': 974, 'පිට': 2143, '්ට ': 3617, 'අව ': 684, 'ව එ': 2999, 'එකට': 868, 'ට ල': 1380, ' ලස': 391, 'ලස්': 2916, 'ස ම': 3239, ' මු': 334, 'ස්ක': 3313, '්කි': 3596, ' කෙ': 127, 'කෙල': 1138, 'ෙල්': 4602, 'ව ම': 3009, ' මම': 322, 'මම ': 2387, 'ස ප': 3237, 'බු': 2299, 'අක': 603, 'රම': 2721, 'එස': 915, 'රෂ': 2740, ' …': 505, 'හිස': 3508, 'ිස්': 4280, 'ස්බ': 3319, '්බු': 3707, 'බු ': 2300, 'ු අ': 4354, 'අවා': 688, ' බු': 304, 'බුර': 2304, 'ුර්': 4442, 'ර් ': 2752, '් ම': 3577, ' අක': 3, 'අක්': 604, 'ක්\\u200d': 1078, '\\u200dරම': 4902, 'රම ': 2722, 'විස': 3134, 'ිසද': 4278, 'සදු': 3273, 'දු ': 1778, ' එස': 88, 'එස්': 916, 'ස් ': 3312, 'විය': 3129, 'ාලේ': 3914, '්ද්': 3654, 'ද්\\u200d': 1740, '\\u200dර ': 4893, 'ංක ': 569, 'ොටි': 4739, '\\u200dරෂ': 4906, 'රෂ්': 2742, 'ෂ්න': 3205, 'උබ': 838, 'මූ': 2472, 'ූ ': 4477, 'බන': 2230, '්හ': 3770, 'ජම': 1325, 'අන': 634, 'සෝ': 3392, 'මග': 2357, 'ගත': 1184, 'ීඩ': 4320, 'ොල': 4784, 'සල': 3300, 'ිග': 4148, 'ගා': 1225, 'එව': 910, 'ගස': 1213, 'තො': 1650, 'ොප': 4761, 'මෝ': 2499, 'ෝඩ': 4835, 'කම': 1029, 'මට': 2363, 'ඔ ': 924, 'නර': 1907, 'ඩේ': 1520, 'යන': 2554, 'උබල': 841, 'ැ බ': 3957, 'බලු': 2252, 'ලුම': 2971, 'මූ ': 2473, 'ූ අ': 4478, 'ිත්': 4169, '් බ': 3576, ' බන': 291, 'බන ': 2231, 'අහල': 704, 'හල ': 3464, ' තව': 201, '්හි': 3772, 'හිද': 3501, 'ද ජ': 1677, ' ජම': 164, ' අන': 11, 'අන්': 637, 'ක ස': 985, ' සෝ': 461, 'ා ව': 3802, 'ෙල ': 4601, ' උබ': 71, 'රිම': 2795, 'මග ': 2358, 'ග ග': 1163, ' ගත': 134, 'ගත්': 1186, 'ේ අ': 4621, 'නෙ ': 2007, 'ක ව': 983, 'ිකා': 4144, 'කාර': 1087, 'ාර ': 3894, 'අවු': 690, 'වුස': 3146, 'ස ව': 3243, 'ීඩි': 4324, 'දාල': 1749, 'ට ඉ': 1364, 'ඉ ක': 753, 'කොල': 1150, 'ොල්': 4789, 'ල ස': 2857, ' සල': 448, 'සල්': 3302, '්ල්': 3728, 'හිග': 3498, 'ිගා': 4151, 'කන ': 1022, ' එව': 87, 'එව ': 911, 'ව ග': 3002, ' ගස': 139, 'ගසා': 1215, ' තො': 213, 'තොප': 1654, 'ොපි': 4763, 'පිද': 2144, 'ද ද': 1679, 'දැන': 1757, 'ැනු': 4010, 'නුව': 2001, 'ුවත': 4454, 'වත්': 3034, ' මෝ': 340, 'මෝඩ': 2502, 'ෝඩ ': 4836, ' කම': 114, 'කමට': 1031, 'මට ': 2364, 'ට ඔ': 1367, ' ඔ ': 92, 'ගස්': 1214, 'ස්න': 3317, 'නරි': 1909, 'රින': 2793, '් ක': 3567, 'කඩේ': 1010, 'ඩේ ': 1521, 'ේ ය': 4637, ' යන': 346, 'යනව': 2557, 'ලප': 2889, 'තන': 1561, 'ඩු': 1513, 'වප': 3046, 'යව': 2577, 'වල': 3065, 'තා': 1596, 'ඇර': 733, 'නිස': 1987, 'ප් ': 2111, 'හ ත': 3406, ' තන': 197, 'තන්': 1563, 'ිග ': 4149, 'ග ක': 1162, 'කඩ ': 1007, 'ඩ ග': 1453, 'ගින': 1245, 'නිත': 1979, 'ිති': 4171, 'ව් ': 3087, '් ප': 3575, 'පස්': 2104, 'ස ත': 3234, 'ේ ත': 4631, 'තුන': 1634, 'න්හ': 1948, 'හතර': 3432, ' වන': 411, 'ත අ': 1528, '්ඩු': 3627, 'ඩු ': 1514, 'එකප': 872, 'කපා': 1026, 'පල්': 2094, 'පොට': 2183, 'ොට ': 4736, 'ට ය': 1378, ' යව': 350, 'වල ': 3066, 'ට ර': 1379, 'දාර': 1748, 'ර ත': 2650, 'හිත': 3500, 'ිතා': 4170, 'තා ': 1597, 'යි ': 2604, 'ය ඇ': 2506, ' ඇර': 34, 'ඇර ': 734, 'ල ක': 2842, 'ය උ': 2508, '් ත': 3572, 'බ හ': 2213, 'ෂය': 3198, 'පූ': 2166, 'ූජ': 4483, 'කත': 1011, 'චා ': 1294, '්ෂය': 3753, 'යකට': 2534, 'බුද': 2302, 'ුද්': 4404, 'ධ ප': 1814, ' පූ': 280, 'පූජ': 2167, 'ූජා': 4484, 'ජා ': 1339, 'එකත': 869, 'කත ': 1012, 'ත ව': 1548, 'ෙ න': 4527, 'ැ න': 3955, ' නර': 246, 'ැං': 3964, 'විල': 3131, 'ිල්': 4258, 'ල්ප': 2926, 'පත්': 2065, 'වින': 3126, 'ිනා': 4194, 'ෂ ක': 3176, 'පාද': 2122, 'අරා': 677, 'රාබ': 2776, 'ාබි': 3880, 'ක හ': 986, 'න බ': 1858, 'බැං': 2277, 'ැං ': 3965, 'ම එ': 2333, 'ක් ': 1067, ' ව ': 403, 'ව න': 3006, 'ැ ම': 3958, 'ා අ': 3783, ' 👊': 513, ' 😍': 526, '😍 ': 4969, 'සට': 3261, 'සග': 3259, 'ගය': 1201, 'රද': 2698, 'ේම': 4668, ' 🙏': 538, '🙏 ': 4984, 'සහ': 3307, 'නස ': 1927, ' නා': 249, '් අ': 3561, 'අදර': 626, 'දරය': 1719, ' 😍 ': 527, ' සට': 439, 'සට ': 3262, 'ට ස': 1382, ' සග': 438, 'ගය ': 1202, '්කර': 3593, ' දි': 228, 'දිව': 1769, 'ිවි': 4267, 'පරද': 2083, 'රදු': 2705, 'ව ත': 3004, 'තිය': 1620, ' ගේ': 149, 'ගේම': 1271, 'ේම ': 4669, 'ම ග': 2336, 'ගහ ': 1217, ' නම': 244, 'නම ': 1900, ' සහ': 449, 'සහෝ': 3310, 'ලහ': 2918, 'ුප': 4417, 'අග': 607, 'තබ': 1565, 'ිව ': 4262, 'හ ජ': 3405, 'ිවා': 4266, ' කෝ': 130, 'කෝල': 1155, 'ිටු': 4161, 'ටුප': 1435, 'ුපස': 4419, 'පස ': 2103, 'ස ස': 3244, 'සිට': 3349, 'ිටි': 4160, 'කවු': 1062, 'ු හ': 4375, 'න ජ': 1852, 'වැන': 3112, 'සීම': 3363, 'ම ජ': 2337, 'අවි': 689, 'අද ': 625, 'ම ම': 2343, 'ෙහෙ': 4619, 'ෙ අ': 4513, ' අග': 4, 'සව ': 3305, ' තබ': 198, 'තබා': 1567, 'බාග': 2266, 'ගම': 1194, 'ඇද': 724, 'දල': 1722, 'ඔන': 932, 'ටප': 1395, 'පං': 2052, 'සබ': 3281, 'නක': 1873, 'උබ ': 839, 'අගම': 609, 'ගම ': 1195, 'ම ඇ': 2330, ' ඇද': 31, 'දල ': 1723, ' ඔන': 95, 'ඔන ': 933, 'න න': 1856, ' වල': 414, 'වල්': 3070, 'ල් ': 2921, 'ර හ': 2662, 'පං ': 2053, 'උබෙ': 842, 'බෙ ': 2308, 'ෙ ග': 4520, 'ර ස': 2661, ' සබ': 444, 'සබා': 3282, 'බා ': 2265, 'යවන': 2579, 'එද': 887, 'ිෂ': 4271, 'ංග': 572, 'ාජ': 3830, '\\u200dය': 4884, 'යෙ': 2625, 'මත': 2367, 'ෙක': 4542, 'ැහ': 4065, 'නික': 1978, 'කම ': 1030, 'අහන': 703, ' එද': 80, 'එදා': 889, 'විෂ': 3133, 'ිෂ්': 4273, 'ෂ්ව': 3206, 'බංග': 2217, 'ය ප': 2519, '් ල': 3580, ' ලැ': 393, 'ලැබ': 2944, 'ැබු': 4020, 'බුන': 2303, 'ුන ': 4410, 'සමා': 3289, 'මාජ': 2427, 'ාජ ': 3831, 'ජ ම': 1313, '්\\u200dය': 3778, '\\u200dය ': 4885, 'ේ ස': 4641, 'යෙ ': 2626, 'තිර': 1621, ' මත': 319, 'ය ද': 2516, 'කෙක': 1134, 'ෙක්': 4544, 'මහි': 2413, 'හින': 3502, 'හත්': 3433, 'නැහ': 1971, 'ැහැ': 4067, 'හැ ': 3483, 'ැ ස': 3962, 'ලුන': 2970, 'වදි': 3041, 'මැ': 2436, 'ැර': 4034, 'ැද': 3997, 'ඇව': 738, 'නන': 1892, 'ෙය': 4591, 'එ ': 852, 'අත': 619, 'හැත': 3487, ' මැ': 330, 'මැර': 2443, 'ැර ': 4035, 'ර න': 2652, 'නැද': 1969, 'ැද්': 4000, 'ද් ': 1736, 'ාහ ': 3939, 'හ ල': 3414, 'කාව': 1089, 'ාව ': 3916, 'ව ඇ': 2996, ' ඇව': 36, 'ඇවි': 739, ' ලු': 397, 'ලු ': 2967, 'පුත': 2158, 'ුත්': 4399, 'ත ද': 1540, 'ා බ': 3797, 'වැස': 3117, 'වලා': 3071, 'දෙය': 1798, 'ෙයි': 4594, 'කුව': 1126, 'ුවෙ': 4462, ' එ ': 76, 'එ ප': 860, ' අත': 8, 'අතල': 622, 'තල ': 1580, 'පවු': 2101, 'අප්': 646, 'ප්ප': 2113, 'දහ': 1732, 'බට': 2220, 'කී': 1115, 'සං': 3248, 'ංස': 593, 'කෘ': 1130, 'ෘත': 4506, 'ගර': 1203, 'ජී': 1347, 'ීව': 4346, 'ටො': 1443, 'ොක': 4720, 'ඉව': 796, 'ලී': 2961, 'අදහ': 627, 'දහස': 1734, 'හස ': 3471, ' මට': 317, 'වැද': 3111, 'ැදග': 3999, 'දග ': 1698, 'ග න': 1167, 'ැ අ': 3946, 'අනි': 639, 'ක උ': 966, 'උබට': 840, 'බට ': 2221, 'බැ ': 2276, ' ම ': 312, ' කී': 124, 'කීම': 1117, 'ම න': 2340, ' නව': 247, 'නවත': 1915, 'ත්ව': 1593, 'ෙරි': 4598, 'රික': 2790, 'පිහ': 2150, 'ිහි': 4288, 'ිදා': 4179, 'දාග': 1744, 'බ ද': 2204, 'දේ ': 1802, 'ියෙ': 4242, 'පලය': 2092, 'ය එ': 2509, 'ැන ': 4004, ' සං': 436, 'සංස': 3254, 'ංස්': 596, '්කෘ': 3598, 'කෘත': 1131, 'ෘති': 4509, ' ගර': 137, 'ගරු': 1205, 'ුකර': 4381, 'ර ජ': 2648, ' ජී': 170, 'ජීව': 1350, '්වෙ': 3748, 'පොර': 2188, 'ර ට': 2649, ' ටො': 183, 'ොක්': 4726, 'ස න': 3236, 'ැත ': 3993, 'ත ඉ': 1530, ' ඉව': 56, 'ස ට': 3233, 'ක ල': 982, ' ලී': 396, 'රධ': 2707, 'ධා': 1831, 'ැට': 3981, 'ටල': 1405, 'ේත': 4653, 'ංව': 588, 'ිධ': 4184, 'ච ': 1280, 'ඔය': 945, 'නෑ': 1972, 'ෑම': 4087, 'ල ව': 2855, 'විත': 3123, 'ිතර': 4168, ' ක ': 104, 'ය න': 2518, ' නී': 253, 'ී ග': 4299, 'න උ': 1846, '්දැ': 3656, 'දැ ': 1754, 'ද ල': 1686, 'ක ඇ': 964, 'ිවු': 4268, '\\u200dරධ': 4898, 'රධා': 2708, 'ධා ': 1832, 'ගැට': 1233, 'ැටල': 3983, 'ව හ': 3015, ' හේ': 481, 'හේත': 3531, 'ේතු': 4655, 'තුව': 1638, 'සංව': 3252, 'ංවි': 590, 'විධ': 3125, 'ිධා': 4185, '්ච ': 3608, 'ච ක': 1282, 'කලා': 1053, 'ය ඔ': 2510, ' ඔය': 98, 'ඔය ': 946, 'ය ම': 2521, '්වර': 3741, 'වරු': 3063, '් ච': 3569, 'දෙන': 1795, ' නෑ': 251, 'නෑම': 1975, 'හඩ': 3429, 'ං ල': 564, 'ඉ හ': 760, ' හඩ': 466, 'රාග': 2770, 'ාගත': 3822, 'ස ල': 3242, ' ලා': 392, 'එ අ': 853, 'අහ ': 700, 'හ ඔ': 3402, 'ඔනේ': 938, 'සුන': 3368, 'ුනා': 4414, 'ංවර': 589, 'වර්': 3061, 'ර්ධ': 2759, 'ෙග': 4547, 'බේ': 2313, 'ලක': 2863, 'වෂ': 3073, 'සො': 3389, ' බේ': 307, 'බේර': 2315, 'ේරෙ': 4673, 'රෙන': 2822, 'ෂය ': 3199, 'ාලක': 3907, 'ලකය': 2866, 'කය ': 1035, 'අවෂ': 686, 'වෂ්': 3074, ' සො': 460, 'සො ': 3390, 'ො ද': 4708, 'දිය': 1767, 'උද': 825, 'ෙස': 4613, 'යැ': 2600, 'ජන': 1316, 'නත': 1885, 'ෑ ම': 4076, 'පිර': 2147, 'ස උ': 3227, ' උද': 68, 'දෙස': 1800, 'සා ': 3325, 'ා ය': 3799, ' යැ': 353, 'යැ ': 2601, 'සිත': 3350, 'ිත ': 4165, 'ත ය': 1545, 'හැට': 3486, 'ැටි': 3984, 'ටිය': 1428, 'ිමා': 4222, 'මාන': 2430, ' ජන': 163, 'ජනත': 1318, 'නතා': 1889, 'තාව': 1603, 'ත ප': 1542, ' තක': 195, 'ට ත': 1372, 'තක ': 1555, 'තේ ': 1646, 'ේ ඉ': 4623, 'ර උ': 2642, 'ෑල': 4090, 'පට': 2059, 'ට්': 1414, 'ටන': 1393, 'ාප': 3872, ' 😐': 530, '😐😐': 4972, 'කෑල': 1103, 'ෑල්': 4091, ' පට': 263, 'පට්': 2061, 'ට්ට': 1416, 'ටන ': 1394, ' මූ': 335, 'ූ ක': 4479, 'යාප': 2595, 'ුට ': 4390, 'ට ම': 1377, ' මග': 315, 'මගේ': 2360, 'මතක': 2369, 'ාඅ': 3811, 'ාට': 3836, 'මත්': 2370, 'ත්ක': 1588, 'ත ල': 1547, 'ලොක': 2986, 'ොක ': 4721, 'නාස': 1962, 'මුල': 2468, 'ුලු': 4450, 'ෙ ව': 4534, 'වුර': 3143, 'ුරු': 4445, 'රුද': 2812, 'ද ම': 1683, 'මිය': 2452, 'සිය': 3354, '්ලු': 3733, 'ුදෙ': 4408, 'ෙනා': 4576, 'නාට': 1954, 'ාට ': 3837, 'ට න': 1374, ' පත': 265, 'බෑ': 2285, 'නො': 2023, ' 😡': 534, 'ඔනි': 936, 'හ අ': 3397, 'අකු': 606, 'ලප ': 2890, ' බෑ': 301, 'බෑ ': 2286, 'ෑ අ': 4070, 'ය ල': 2524, ' ලි': 395, 'ලිය': 2957, 'ය බ': 2520, 'බැර': 2281, 'ැරි': 4037, ' නො': 258, 'නොද': 2027, 'යල': 2571, 'ේස': 4682, 'ලට': 2874, 'කග': 996, 'හය': 3455, 'ලබ': 2892, 'ෙද ': 4561, 'ියල': 4235, 'යල ': 2572, '්දේ': 3661, 'දේස': 1805, 'ේසි': 4685, 'වලට': 3068, 'ලට ': 2875, 'ද ර': 1685, 'ල ල': 2854, 'ලික': 2949, 'කිත': 1108, 'එකග': 867, 'කග ': 997, 'ග ව': 1174, 'ධාන': 1834, 'සහය': 3308, 'හය ': 3456, ' ලබ': 387, 'ලබා': 2896, '්ය': 3717, 'බී': 2296, 'ැප': 4012, 'වාර': 3102, 'ර්ය': 2763, '්ය ': 3718, 'ර බ': 2654, ' බී': 303, 'බී ': 2297, 'ී අ': 4293, 'ඉ ඔ': 752, 'සැප': 3337, 'බො': 2316, 'ඩො': 1523, 'ලර': 2906, ' බො': 308, 'බොල': 2320, 'ාය ': 3889, ' බද': 290, 'බදු': 2229, 'දුල': 1784, 'ලේස': 2983, 'එය': 899, 'ෙං': 4539, 'ලග': 2869, 'මී': 2457, 'ීට': 4318, 'අම්': 657, 'ම් ': 2418, '් ග': 3568, ' ගා': 142, 'ගාව': 1230, 'ියන': 4232, 'යන ': 2555, 'ං එ': 552, ' එය': 84, 'එයා': 901, 'යාග': 2591, 'ෙං ': 4540, 'ං ඉ': 550, '්ලග': 3724, 'ගනි': 1191, 'ං ම': 561, ' මී': 333, 'මීට': 2459, 'ීට ': 4319, ' තා': 204, 'තාත': 1598, 'ාත්': 3847, '්ති': 3638, 'බෞ': 2326, 'ෞද': 4870, 'සේ': 3384, 'ේව': 4676, 'ලද': 2879, 'හ බ': 3410, ' බෞ': 310, 'බෞද': 2327, 'ෞද්': 4871, 'ධ ස': 1819, ' සේ': 459, 'සේව': 3388, 'කයන': 1036, 'යන්': 2558, '් ස': 3582, 'සුල': 3373, 'ුල ': 4447, 'ල ජ': 2844, 'ාරි': 3902, 'කරද': 1042, 'රදර': 2700, ' ප ': 261, 'මඩ': 2365, 'රං': 2665, 'ංජ': 584, 'උට': 816, 'ෂක': 3190, 'ටය': 1398, 'ධි': 1837, 'මඩ ': 2366, 'ි ර': 4118, ' රං': 360, 'රංජ': 2668, 'ංජ ': 585, 'මාව': 2434, 'ව බ': 3008, 'ොලො': 4791, 'ලො ': 2985, 'ො ම': 4711, 'මේක': 2487, ' උට': 65, 'උට ': 817, 'ට ට': 1371, 'ැග ': 3973, 'අරක': 672, '්ෂක': 3751, 'ෂක ': 3191, 'ක ට': 972, ' ටය': 178, 'ටයි': 1400, 'රැ ': 2780, 'ැ හ': 3963, ' නග': 240, 'නගර': 1880, 'රාධ': 2774, 'ාධි': 3860, 'ධිප': 1840, 'ිපත': 4203, 'බුක': 2301, 'ුකි': 4383, 'හ හ': 3417, 'මච': 2361, 'චං': 1283, 'හර්': 3461, 'ර්ෂ': 2766, ' මච': 316, 'මචං': 2362, 'චං ': 1284, ' එත': 79, 'ත ර': 1546, 'ට හ': 1383, 'යං': 2530, 'යස ': 2582, 'ලයං': 2903, 'යං ': 2531, 'ං ය': 562, 'තැ': 1604, ' ❤': 508, '❤️': 4928, 'හදි': 3441, 'දිස': 1770, ' තැ': 205, 'තැන': 1606, 'ැන්': 4007, 'න්ක': 1934, ' ❤️': 509, 'ෑන': 4083, 'හ න': 3408, 'නෑන': 1974, '😂😂😂': 4963, '😂 ම': 4957, 'බ්ල': 2261, 'ලිස': 2960, 'බ ග': 2202, 'ගහග': 1218, 'ොං': 4717, ' 😑': 531, '😑 ': 4973, 'ොංග': 4719, 'ංගල': 576, 'බන්': 2232, '් ය': 3578, 'ීය': 4338, '😂🔫': 4960, 'ොටු': 4740, 'ටු ': 1434, 'ීය ': 4339, 'බ උ': 2199, 'ා 😂': 3807, ' 😂🔫': 519, 'යම': 2561, 'චි': 1296, 'පය': 2078, 'ලබන': 2894, ' වස': 415, 'වසර': 3078, 'සින': 3352, 'ිනම': 4189, 'ා න': 3795, 'කු ': 1121, 'ු ව': 4373, 'වීම': 3138, 'නිය': 1983, 'ියම': 4233, 'යමි': 2565, 'ත ච': 1536, ' චි': 157, 'චිත': 1298, '\\u200dරප': 4900, 'ප ක': 2040, 'හිප': 3503, 'ිපය': 4204, 'පය ': 2079, 'එ ඔ': 855, 'ඔබට': 943, 'ගත ': 1185, 'ත හ': 1550, 'සන': 3274, 'එජ': 881, ' ධ': 234, 'ධර': 1827, '්ම': 3709, ' සන': 442, 'සන්': 3276, 'න්ධ': 1941, '්ධා': 3667, ' එජ': 78, ' වූ': 423, 'වූ ': 3148, 'ූ හ': 4482, 'ේත ': 4654, ' ධර': 236, 'ධර්': 1828, 'ර්ම': 2762, '්මල': 3714, 'මලි': 2403, 'ලිං': 2948, 'ිංග': 4129, 'ංග ': 573, 'ඇහ': 742, 'ඩ ල': 1463, 'ොකු': 4728, 'ේ එ': 4625, ' ඇහ': 38, 'මප': 2384, 'ෝකෙ': 4824, 'හදු': 3442, 'දුන': 1780, 'න්ව': 1945, 'ව ඔ': 3000, 'ිකය': 4140, 'ම්ම': 2421, '්මප': 3712, 'මප ': 2385, 'ප ම': 2047, 'මොන': 2496, 'නප': 1896, 'ජනප': 1319, 'නප ': 1897, 'නැට': 1967, 'ැට ': 3982, 'ේව ': 4677, 'ව ල': 3012, 'දිග': 1765, 'ග ල': 1173, 'ග්': 1221, ' ලග': 385, 'ලග්': 2872, 'ග්න': 1223, 'ර ඔ': 2644, 'කද': 1018, 'මොක': 2495, 'ොකද': 4724, 'මත ': 2368, 'ත උ': 1531, 'උන ': 830, 'ඔව': 952, 'ාඩ': 3839, 'ොස': 4797, 'ලෙ': 2973, 'වම': 3049, 'ඔව්': 954, '් ඔ': 3566, ' ඔව': 100, 'රක ': 2670, 'හැද': 3488, 'ැද ': 3998, 'වාඩ': 3097, 'ාඩු': 3842, 'ඩුව': 1516, 'ොස ': 4798, 'ාලෙ': 3913, 'ලෙ ': 2974, 'බ ව': 2211, 'ෙනව': 4572, 'නවම': 1918, 'මන': 2378, '්ග': 3602, 'මව': 2404, 'ෂා': 3208, 'ඉග': 765, 'පහ': 2106, 'සය': 3291, 'හ ව': 3415, ' ව්': 417, 'ව්\\u200d': 3091, '\\u200dයා': 4891, 'යාක': 2590, 'ාකර': 3817, 'න ද': 1855, 'දන්': 1707, 'යෙන': 2629, 'න ර': 1861, 'තමන': 1570, 'මන්': 2380, 'න්ග': 1935, '්ග ': 3603, 'ග ම': 1170, ' මව': 326, 'බාෂ': 2273, 'ාෂා': 3931, 'ෂා ': 3209, ' ඉග': 44, 'ඉගෙ': 766, ' වර': 413, 'අපහ': 645, 'පහා': 2109, 'ාසය': 3935, 'හූ': 3519, 'ූන': 4493, 'ෙඩ': 4554, 'උස': 850, ' හූ': 479, 'ූන ': 4494, 'පැට': 2129, 'ි ය': 4117, ' ය ': 342, 'ගෙඩ': 1264, 'ෙඩි': 4556, 'දෙක': 1793, 'ෙක ': 4543, ' උස': 74, 'එ ම': 862, 'මරන': 2394, 'රන්': 2714, 'ඉෂ': 798, 'ධන': 1823, 'හ ඉ': 3399, ' ඉෂ': 57, 'ය ධ': 2517, ' ධන': 235, 'ධන ': 1824, 'ද්ග': 1737, '්ගල': 3605, 'ි උ': 4102, 'උත්': 823, 'කර්': 1046, 'විව': 3132, 'වාහ': 3105, 'අච': 611, 'අච්': 612, '්චි': 3611, 'චි ': 1297, 'සී ': 3361, 'රගෙ': 2682, ' කන': 112, 'නවල': 1920, 'නං': 1869, 'පන': 2071, 'රෝ': 2831, 'ෝධ': 4842, 'ධී': 1841, 'ජ ප': 1312, ' පන': 267, 'පන්': 2074, 'යැව': 2602, 'ැව ': 4052, 'ිලා': 4259, 'ලාස': 2939, 'ී ව': 4308, 'විර': 3130, 'ිරෝ': 4254, 'රෝධ': 2834, 'යිස': 2614, 'ඉක': 763, 'ෂේ': 3220, 'අර්': 676, 'ර්බ': 2761, ' සත': 440, 'සති': 3267, ' හය': 470, 'ය ඉ': 2507, ' ඉක': 43, 'ඉක්': 764, 'ක්ම': 1072, '්ම ': 3710, 'ිෂේ': 4275, 'ෂේෂ': 3222, 'ෂ අ': 3174, 'අවස': 687, 'වස්': 3079, 'මෛ': 2491, 'ෛත': 4691, 'සෞ': 3394, 'ෞක': 4868, 'අබ': 652, 'ාච': 3829, 'ෙත': 4557, ' මෛ': 338, 'මෛත': 2492, 'ෛත්': 4692, 'රීප': 2804, 'ීපා': 4335, 'පා ': 2117, 'ිසේ': 4284, 'සේන': 3386, 'ේන ': 4661, 'ානස': 3866, 'නසි': 1929, ' සෞ': 462, 'සෞක': 3395, 'ෞක්': 4869, ' අබ': 13, 'අබි': 654, 'යාච': 2592, 'නාධ': 1956, 'ධික': 1839, 'ිකර': 4141, 'රනය': 2712, 'ෙත්': 4559, 'ත්ස': 1594, 'සම ': 3284, 'දීම': 1776, 'ප ද': 2043, 'මෆ': 2415, 'ෆි': 3550, 'අධ': 631, 'අැ': 711, 'යො': 2632, 'ොච': 4732, 'මෆි': 2416, 'ෆිය': 3551, 'ලන්': 2887, 'අධි': 633, 'ප අ': 2036, 'ගමැ': 1198, 'මැත': 2440, 'ාප ': 3873, ' අැ': 23, 'අැම': 712, 'ැමත': 4025, 'මති': 2371, 'යාම': 2596, 'මැ ': 2437, 'ැම ': 4024, 'උප': 835, 'රාජ': 2771, ' රස': 370, '්සා': 3765, 'සාව': 3333, 'පෙම': 2174, 'ෙම්': 4587, '්වත': 3738, 'ස හ': 3245, ' උප': 70, 'ධාර': 1836, 'ිමත': 4219, 'ීන': 4328, 'ා ජ': 3791, 'ජනා': 1322, 'ෙ බ': 4529, 'බැහ': 2284, 'ැ ද': 3954, 'ීන්': 4331, ' රා': 372, 'ාජ්': 3834, 'ජ්\\u200d': 1337, 'ට ග': 1369, 'බාධ': 2268, 'ාධා': 3859, 'හහ': 3473, ' 🤪': 545, '🤪🤪': 4997, 'ො ය': 4712, ' ලෙ': 398, 'ලෙඩ': 2976, 'ෙඩ ': 4555, 'ඩ ප': 1459, 'ට ද': 1373, 'ගු': 1252, 'ෝන': 4844, 'මෝන': 2503, 'ෝන ': 4845, 'පුල': 2163, '්නව': 3677, 'නවන': 1917, 'ල 😂': 2859, 'වසා': 3080, 'සාන': 3329, 'මැද': 2441, 'දෙප': 1796, ' දර': 221, 'ෙ 😂': 4538, 'යද': 2551, ' 😊': 524, '්නා': 3680, 'දුක': 1779, 'ියද': 4231, 'යද ': 2552, 'ැප ': 4013, 'දක': 1693, 'බය': 2237, 'පුව': 2164, 'වත ': 3033, '්පා': 3694, 'ඩ හ': 1466, '්දක': 3649, 'දක ': 1694, ' ගු': 146, 'ගුල': 1258, 'ුලි': 4449, 'ය ය': 2522, 'ෝ හ': 4820, '්බය': 3704, 'බය ': 2238, 'ෙ ද': 4526, 'ාත ': 3844, ' වද': 410, 'ට ජ': 1370, 'අනත': 635, 'නතු': 1890, 'ලේ ': 2981, 'ේ ක': 4627, ' කක': 105, 'න ය': 1860, 'නෙත': 2009, 'දො': 1806, 'ඩන': 1483, 'බස': 2254, 'මාල': 2433, 'ාලි': 3911, 'ග ඇ': 1158, ' දො': 233, 'ොඩන': 4744, 'ඩන්': 1485, ' මල': 325, 'ු ල': 4372, 'ැල්': 4047, ' බස': 296, 'බස්': 2255, '් එ': 3565, 'එ බ': 861, 'ැ ග': 3952, 'ක ග': 970, 'හ එ': 3401, 'ු ඇ': 4355, 'රෑ': 2786, 'ඩඩ': 1479, 'වට': 3027, 'ලෑ': 2945, 'බොර': 2319, 'ඔනෙ': 937, 'ෑන්': 4085, 'ඩ එ': 1450, 'ිරා': 4249, 'රාව': 2778, 'ාවට': 3918, 'වට ': 3028, 'ොලි': 4790, 'ි ට': 4109, '්බර': 3705, 'බර්': 2243, 'ඩ ද': 1457, 'ෙනක': 4570, 'ාග ': 3821, 'ග ප': 1168, 'ේල': 4674, 'යෝ': 2633, 'ෝම': 4847, 'කැ': 1092, 'ොජ': 4734, 'ජර': 1329, 'යය': 2566, 'ස්ට': 3314, '්ට්': 3619, 'ට්\\u200d': 1419, '\\u200dරේ': 4914, 'ෝක ': 4822, 'ෝම ': 4848, 'ම ක': 2335, ' කැ': 121, 'කැන': 1095, 'ගර ': 1204, 'ර ර': 2657, ' රො': 380, 'ජර ': 1330, ' යය': 348, 'යයි': 2568, 'න…': 2034, 'සම්': 3288, '්පු': 3697, 'පුර': 2162, 'ර්න': 2760, 'පට ': 2060, ' පහ': 273, 'පහල': 2108, 'එ ක': 856, 'රග ': 2676, 'ග ය': 1171, '්න…': 3688, 'එල': 905, ' එල': 86, 'එල ': 906, 'ඉර': 790, 'ඩා': 1501, 'ප ඉ': 2037, ' ඉර': 54, 'ඉරන': 792, 'රනම': 2711, 'ඩ ව': 1464, 'වැ ': 3107, 'ැ ප': 3956, 'පැර': 2134, 'කඩා': 1008, 'ඩා ': 1502, ' බි': 302, 'බිද': 2290, 'දැම': 1758, 'ැම්': 4028, ' කත': 109, 'ඇත්': 721, 'වැව': 3116, 'ඩ්ල': 1499, 'ඔවු': 956, 'ු ස': 4374, 'රවි': 2737, 'මේ ': 2486, '්ලක': 3723, 'ලක්': 2867, 'ධ ම': 1816, 'ඩ ඔ': 1451, 'කෙන': 1136, 'ෙනෙ': 4579, 'නෙක': 2008, 'ෙකු': 4545, 'ඩක': 1470, 'බව': 2253, 'ොව': 4792, 'ජ ක': 1311, 'යිත': 2607, 'ැඩක': 3989, 'ඩකර': 1473, 'ධාග': 1833, 'ග බ': 1169, '් න': 3574, 'නොව': 2029, 'ොවෙ': 4795, 'ු න': 4366, 'ං ද': 557, ' දක': 217, 'යාව': 2599, 'ෙර ': 4596, 'ිනය': 4190, 'අපට': 643, 'හැක': 3484, 'ැකි': 3969, ' වත': 409, 'ත්ම': 1592, 'ම ල': 2346, 'තුල': 1637, 'දැව': 1759, 'ැවැ': 4057, 'ානය': 3864, 'ගොඩ': 1274, 'නග ': 1879, '\\u200dරැ': 4910, 'නද': 1891, 'රත': 2691, 'මක': 2354, 'ද උ': 1672, 'ැදෙ': 4002, 'ියට': 4230, ' රෑ': 374, 'රෑ ': 2787, 'නකො': 1877, 'ො ර': 4713, ' රත': 365, 'රතු': 2695, 'තුම': 1635, 'ුමක': 4428, 'කරා': 1047, 'රා ': 2769, 'ඔයා': 947, '😜😜': 4977, 'ොය': 4772, '😆😆': 4968, '🤣🤣': 4995, '👇👇': 4939, 'බොහ': 2321, 'හො ': 3533, 'ො අ': 4700, 'අමා': 658, 'මාර': 2432, 'ාරු': 3904, 'හොය': 3538, 'ොය ': 4773, ' ඩය': 186, '👇👇👇': 4940, 'තෝ': 1656, 'ෙච': 4548, 'කතෝ': 1016, 'තෝල': 1658, 'ෝලි': 4857, 'ව ද': 3005, 'ෂ් ': 3203, '්තර': 3633, ' රෝ': 381, 'වෙච': 3153, 'ෙච්': 4549, 'ම ස': 2348, ' කේ': 128, 'පරම': 2085, 'රම්': 2724, '්පර': 3692, 'පහ ': 2107, ' හත': 467, '්ර': 3720, 'ටී': 1430, 'ීච': 4317, 'ඇ ': 713, 'රයි': 2731, 'ිවර': 4263, 'බහි': 2257, 'ිද්': 4178, ' ටී': 181, 'ටීච': 1431, 'චර ': 1289, 'ඩ ස': 1465, 'නව ': 1913, ' මන': 321, '් ඇ': 3562, ' ඇ ': 25, 'ාඩ ': 3840, 'ක්ල': 1073, 'රනව': 2713, 'න ල': 1862, 'මේම': 2489, 'ම බ': 2342, 'ිතන': 4166, 'ව ය': 3010, 'යලා': 2574, 'ඇන': 727, 'දට': 1701, 'අ ': 600, 'පම': 2076, 'හැම': 3492, 'ම ද': 2339, 'දාම': 1746, 'ද ඇ': 1670, ' ඇන': 32, 'ඇන්': 728, 'යල්': 2573, 'ොදට': 4753, 'දට ': 1702, 'ට ඇ': 1363, 'වුන': 3142, ' රැ': 373, 'ැවට': 4053, 'වැට': 3108, 'මො ': 2494, ' අ ': 1, 'කරේ': 1049, 'රේ ': 2825, 'ේ ජ': 4629, 'ා ර': 3800, 'ී ප': 4303, ' පම': 268, 'පමන': 2077, 'මන ': 2379, 'හ ම': 3411, 'මහන': 2411, 'ං අ': 549, ' දව': 223, 'ස අ': 3225, 'අත ': 620, ' හෝ': 483, 'ෝද ': 4839, 'මගෙ': 2359, 'කැම': 1096, 'කට්': 1004, 'අමත': 656, 'ර ල': 2658, 'ැබෙ': 4021, 'කතා': 1014, 'ගැහ': 1237, 'හැන': 3489, 'දය ': 1714, 'ෝදන': 4840, '්නන': 3674, 'නන ': 1893, 'ිනෙ': 4199, 'නෙම': 2013, 'ෙමෙ': 4590, 'ඩං': 1468, 'ෙව': 4606, 'නිර': 1984, '්මා': 3716, 'රවර': 2736, 'ාව්': 3923, 'සංග': 3250, 'ංග්': 577, 'ග්\\u200d': 1224, 'රහ ': 2748, 'අඩං': 615, 'ඩංග': 1469, 'මෙව': 2483, 'සය ': 3292, 'කවි': 1061, 'බැන': 2280, '\\u200d න': 4880, 'ිසා': 4281, 'ෙ ස': 4535, 'ෂු': 3216, 'ුබ': 4423, 'අෂ': 692, 'වෘ': 3149, 'ෘෂ': 4510, 'පලා': 2095, 'ලාප': 2936, 'ඔබේ': 944, 'බේ ': 2314, 'ේ ල': 4639, '්නය': 3676, 'ය ෂ': 2526, ' ෂු': 433, 'ුබ ': 4424, ' අෂ': 19, 'බ ස': 2212, 'සුද': 3367, 'ුදු': 4407, 'දුස': 1787, 'ුස ': 4468, 'ලිව': 2959, 'ිවෙ': 4270, 'ියව': 4236, 'යව ': 2578, 'ෂ ල': 3184, 'මිෂ': 2455, 'ප ය': 2048, ' යෙ': 356, 'යෙද': 2628, 'ෙදෙ': 4567, 'බ ල': 2210, 'ප හ': 2051, ' වේ': 425, 'වේ ': 3161, 'ටක ': 1388, 'පැව': 2136, 'ාධ ': 3857, 'ැය': 4032, 'ධය': 1825, ' නං': 239, 'නංග': 1871, 'ලාව': 2938, 'වැය': 3113, 'ැය ': 4033, 'මුන': 2466, 'ැහ ': 4066, 'ංගි': 578, 'තරු': 1578, 'ුනය': 4411, '්බන': 3703, '්ධය': 3666, 'ධය ': 1826, 'ිඔ': 4134, 'තැබ': 1607, 'ැබ ': 4016, 'රුත': 2811, 'බ න': 2205, 'වරන': 3059, 'ි ජ': 4108, 'ාදි': 3852, 'සයි': 3293, 'සැබ': 3338, 'ැබෑ': 4018, 'ෑ ක': 4071, 'ොව ': 4793, 'මාත': 2428, 'ාතර': 3846, 'ාවය': 3920, 'වයි': 3055, 'යිම': 2611, 'ය ජ': 2513, 'නන්': 1895, 'මද': 2373, 'හං': 3419, 'ේට': 4651, 'ෂන': 3193, 'ීග': 4314, 'ටෙ': 1438, 'ගග': 1180, 'ැමද': 4026, 'මදා': 2375, 'මදේ': 2377, 'ේ හ': 4642, ' හං': 465, 'හංග': 3420, 'ග ඉ': 1159, 'ඉ බ': 756, 'ෑ හ': 4078, 'එ ද': 858, 'ේට ': 4652, 'දර්': 1720, '්ෂන': 3752, 'ෂන ': 3194, 'තාම': 1600, 'ගිර': 1247, 'මතු': 2372, 'ුපි': 4421, 'කකු': 995, 'ුල්': 4448, 'ැටෙ': 3986, 'ටෙ ': 1439, 'බ ඇ': 2198, 'ඇතු': 723, ' දහ': 225, 'ටව': 1407, 'ූප': 4495, '🇱🇰': 4936, 'තෙ': 1641, 'ෙ ඔ': 4518, 'නෙන': 2011, 'යුද': 2620, 'ධ ක': 1811, 'ොම්': 4769, 'ොහෙ': 4802, 'ෙ ර': 4532, 'ටර ': 1403, 'ෙ ත': 4525, ' තෙ': 210, 'තෙර': 1644, 'තී': 1625, 'රජ': 2683, 'තට': 1557, 'දහ ': 1733, 'ො ක': 4705, 'ාලය': 3909, 'ී ය': 4306, ' යල': 349, 'යලි': 2575, 'ධ අ': 1810, 'අරග': 673, 'රගල': 2680, 'ගලය': 1208, 'සුබ': 3370, 'බිම': 2292, 'නොම': 2028, 'ොමැ': 4770, 'ෙවර': 4608, 'තී ': 1626, 'නාග': 1953, 'ාගැ': 3827, '\\u200dයව': 4890, 'ථා ': 1663, 'එය ': 900, '\\u200dරජ': 4895, 'රජා': 2686, 'තාන': 1599, 'ාන්': 3867, '්ත්': 3636, '\\u200dරි': 4911, 'තට ': 1558, 'ධ ද': 1812, '්ඩා': 3625, 'ඩාය': 1503, 'සිව': 3357, 'ව උ': 2998, ' වො': 427, 'වොල': 3171, '්ස්': 3764, 'ස්ව': 3321, '්වැ': 3745, 'න ෂ': 1864, '්කෝ': 3601, 'ේ ග': 4628, 'ෝ ම': 4817, 'මෙත': 2479, 'තන ': 1562, 'ුරව': 4441, 'රව ': 2735, 'ලෝ ': 2990, 'ෝ ප': 4815, 'රුව': 2816, 'මුද': 2465, 'ුදල': 4403, 'මිස': 2456, 'කුම': 1123, 'ටහ': 1412, 'ෙරම': 4597, 'රමු': 2726, 'ඔව ': 953, 'ැසි': 4064, 'ජ ව': 1314, 'ද ඔ': 1674, 'මය ': 2389, 'අනු': 640, 'ුමා': 4431, 'යග': 2542, 'චී': 1299, 'චූ': 1302, 'ුහ': 4473, 'නට': 1881, ' යද': 345, 'යද්': 2553, 'යග ': 2543, 'ග ස': 1175, 'ෙනු': 4578, 'නු ': 1995, ' චී': 158, 'චීන': 1300, 'ග අ': 1157, 'ර ච': 2647, ' චූ': 160, 'ූ ප': 4480, 'ෙමු': 4589, 'මුහ': 2471, 'ුහ ': 4474, 'ොරු': 4781, 'ොලන': 4786, 'ලනි': 2888, 'ඉවර': 797, 'ැනට': 4006, 'නට ': 1882, 'මේව': 2490, '්ධි': 3668, 'ඩෙ': 1517, 'උග': 813, 'ඇස': 740, 'ෑග': 4080, 'හට': 3427, 'කැඩ': 1094, 'නක ': 1874, ' උග': 64, 'උගු': 815, 'ගුර': 1257, ' ඇස': 37, ' කද': 111, 'කදු': 1020, 'කෑග': 1101, 'ෑගහ': 4081, 'සරහ': 3298, 'හට ': 3428, 'ඩිය': 1510, 'ියක': 4228, 'යක්': 2538, 'ෙප ': 4581, 'ො උ': 4703, 'ම ය': 2344, 'යකඩ': 2535, 'පාග': 2118, 'ග ර': 1172, ' වට': 407, 'වටේ': 3030, 'හ ග': 3404, 'අඩු': 617, 'ඩුප': 1515, 'පාඩ': 2120, 'ඉර ': 791, ' ඩෙ': 189, 'ෙනි': 4577, 'නිම': 1982, ' සර': 447, 'සර්': 3299, 'ර්ට': 2755, 'ඇදග': 726, 'ඉද ': 775, 'දොස': 1807, 'ොස්': 4799, 'කබ': 1028, 'පී': 2151, 'අං': 601, 'ංෂ': 591, 'යත': 2548, 'උදා': 827, 'ාහි': 3942, 'යික': 2605, 'බාව': 2272, 'වය ': 3053, 'ජ අ': 1308, ' අධ': 10, 'අධ්': 632, '\\u200dයය': 4889, 'ෑනි': 4086, ' පී': 278, 'ීඩා': 4323, 'ඩාව': 1504, ' අං': 2, 'අංෂ': 602, 'දවා': 1730, 'වාග': 3096, 'අයත': 664, 'පරි': 2088, 'ිපා': 4206, 'යෝ ': 2634, 'බඩ': 2222, 'ගෑ': 1238, 'ෑස': 4094, 'ෑ 😂': 4079, ' 😂 ': 517, '😂 බ': 4956, ' බඩ': 289, 'බඩ ': 2223, '්බෙ': 3708, ' ගෑ': 144, 'ෑස ': 4095, 'කී ': 1116, 'බෙහ': 2312, 'නං ': 1870, 'ං න': 558, 'ං හ': 567, 'පද': 2067, 'ංච': 581, 'ටස': 1409, 'ෙලෙ': 4605, 'ලෙද': 2977, 'ෙදා': 4564, 'අපු': 649, 'පු ': 2155, 'වුල': 3144, ' පද': 266, 'පදි': 2069, 'ංචි': 583, 'කාන': 1085, '්තා': 3637, 'ාවන': 3919, 'හර ': 3460, 'ෙනස': 4573, 'ේ ම': 4636, 'වැර': 3114, 'ැරද': 4036, 'රදි': 2704, 'මස': 2405, 'ෝජ': 4828, 'ික්': 4143, 'හතා': 3434, ' යෝ': 358, 'යෝජ': 2636, 'ෝජන': 4830, 'ෝන්': 4846, 'න්ල': 1944, 'ප්ල': 2114, '්ලැ': 3730, 'සංච': 3251, 'ංචා': 582, 'චාර': 1295, 'ාරක': 3895, 'හෙට': 3524, 'ජව': 1332, 'සහා': 3309, ' ජව': 167, 'ජවි': 1334, 'කස': 1063, 'බිල': 2294, ' කස': 118, 'කස්': 1064, 'ෙය ': 4592, 'සේ ': 3385, 'එප': 894, 'නඑ': 1872, ' එප': 82, 'එපා': 896, 'ල්ට': 2924, '්නඑ': 3671, 'සස': 3306, 'ාට්': 3838, 'යය ': 2567, 'එපැ': 897, 'සත ': 3265, 'ත ග': 1535, 'ගෙව': 1267, 'ග 😂': 1177, 'ඔක': 925, 'ඔක ': 926, ' ත ': 194, 'ු ඉ': 4356, 'රැස': 2785, 'ැස ': 4062, 'පොද': 2186, 'ර්ජ': 2754, '්ජන': 3614, 'ජන ': 1317, 'නාව': 1961, 'ව ජ': 3003, 'ජන්': 1321, 'ගේන': 1270, 'කාට': 1083, ' නත': 243, 'නත්': 1888, '්තල': 3634, 'එම': 898, '්😂': 3781, 'පෝ ': 2192, 'ෝ එ': 4808, ' එම': 83, 'කොච': 1144, 'ොච්': 4733, '්චර': 3609, 'ැරෙ': 4039, 'ැදු': 4001, 'පින': 2145, 'ෑ බ': 4075, 'හව': 3468, ' හව': 473, 'හවස': 3469, 'ිරස': 4248, 'රස ': 2744, 'ස ද': 3235, 'ාදය': 3851, 'ලමු': 2900, 'ීත': 4325, 'නඩ': 1883, 'බයි': 2239, 'නීත': 1991, 'ීති': 4327, 'පදෙ': 2070, 'ෙස ': 4614, 'ග ඔ': 1161, 'ජයග': 1328, 'යග්': 2544, 'පලව': 2093, 'ලවෙ': 2913, 'සෙ ': 3379, ' නඩ': 242, 'නඩු': 1884, 'අස': 693, 'ලක ': 2864, 'ිප්': 4205, 'ලිබ': 2955, 'ිබ ': 4211, 'අස ': 694, 'සාධ': 3328, 'ාරන': 3898, 'ට් ': 1415, 'වේස': 3166, 'පොල': 2189, 'ලං ': 2861, 'යහ': 2584, ' ලම': 388, ' යහ': 351, 'ඩර': 1491, ' –': 495, '– ': 4920, ' – ': 496, 'ිසු': 4283, 'අත්': 623, 'තබ ': 1566, 'ි 😂': 4126, 'ිච': 4153, 'ඉය': 787, 'රකර': 2671, 'ඇහෙ': 745, ' ඉය': 53, 'ොනා': 4760, 'ියේ': 4243, 'ඉප': 783, 'ඉපද': 784, 'රත්': 2693, 'කාග': 1082, 'එල්': 908, 'ස ය': 3240, 'යනු': 2559, 'ිරව': 4247, ' බර': 294, 'බර ': 2241, 'අදි': 629, 'ි ඇ': 4100, 'ෙ ය': 4531, 'ස ඔ': 3229, 'බ එ': 2200, 'එනව': 892, 'ලිප': 2954, 'ුම ': 4427, 'බත': 2225, 'පිය': 2146, '්ටි': 3621, 'ක බ': 978, 'සාර': 3332, 'සිහ': 3359, ' නු': 254, 'නුබ': 1999, 'ථක': 1660, ' 🌺': 512, 'දෙව': 1799, 'ෙවෙ': 4611, 'ර්ථ': 2757, '්ථක': 3644, ' ගම': 136, 'ීක': 4312, 'තෑ': 1608, 'ීක්': 4313, 'සැන': 3336, 'ො ත': 4707, ' තෑ': 206, 'තෑග': 1609, 'ග්ග': 1222, 'ග ද': 1166, 'ගාන': 1228, 'ුක්': 4382, 'ක්ව': 1074, '්ම්': 3715, 'ල ඉ': 2838, 'මූන': 2474, 'අා': 710, ' අා': 22, 'බින': 2291, 'ිෂ ': 4272, 'බූ': 2306, 'ඉඩ': 769, 'තීත': 1627, 'ීත ': 4326, 'රැක': 2781, 'ම ඉ': 2331, ' ඉඩ': 46, 'ඉඩ ': 770, 'ෙව ': 4607, 'උනු': 833, 'නුස': 2003, 'ස ජ': 3232, 'ප ත': 2042, 'ුහු': 4475, 'හුක': 3513, '්නි': 3683, 'සැම': 3339, ' මස': 327, 'මස ': 2406, 'ස බ': 3238, 'ෙම ': 4585, 'හදල': 3438, 'එකන': 871, 'ොයා': 4774, 'කැර': 1097, 'ල ට': 2845, 'උස්': 851, '්සි': 3766, 'ගිට': 1244, 'ාගන': 3823, 'නවස': 1921, 'ිඅ': 4133, 'ොරැ': 4780, 'අපා': 647, 'පක ': 2055, 'සෙන': 3381, 'සුප': 3369, 'නැව': 1970, 'ේදි': 4659, 'එකම': 873, 'සැර': 3340, 'ත 😂': 1552, '් ඉ': 3563, 'වරද': 3058, 'රද ': 2699, 'ටහ ': 1413, 'ග එ': 1160, 'බො ': 2317, 'එත්': 886, 'වසක': 3077, 'ැ ව': 3961, 'ොනව': 4758, 'හිම': 3504, 'ිමි': 4223, 'ෙ ජ': 4522, 'වලක': 3067, 'ලකි': 2868, 'ි ෂ': 4121, 'ා \\u200d': 3806, 'ාඑ': 3813, 'ලත': 2876, 'වාඑ': 3095, 'එ එ': 854, 'නාඩ': 1955, 'ාඩි': 3841, 'ලත ': 2877, '්ක්': 3594, 'එවු': 914, 'ත්ද': 1590, 'ැක ': 3967, 'ෙකො': 4546, ' ඩි': 187, 'ඩිස': 1511, 'එද්': 888, 'ා ට': 3792, 'ි ඔ': 4104, ' ඔක': 93, 'ඔක්': 927, '්කො': 3600, 'ො ඉ': 4702, 'එවා': 913, 'ව්ල': 3089, 'ේබ': 4666, ' අස': 20, 'අස්': 697, ' හී': 477, 'හීන': 3510, 'ීන ': 4329, 'අහි': 707, 'මක ': 2355, ' බය': 293, 'යේ ': 2631, 'හදව': 3439, 'දවත': 1727, 'ලුක': 2968, 'ේබල': 4667, ' දල': 222, 'ු බ': 4368, 'ුපු': 4422, 'ඔට': 929, 'ා😂': 3944, 'ානව': 3865, '😂 අ': 4953, 'මුක': 2463, 'ිපි': 4207, 'ප එ': 2039, 'ඔන්': 934, 'ගමේ': 1200, ' නය': 245, 'අවේ': 691, 'යනක': 2556, 'ො ප': 4709, 'කම්': 1032, 'නොක': 2025, 'ොකර': 4725, 'ඔයි': 948, 'ාං': 3808, 'ූද': 4491, 'ගද': 1187, 'ොත': 4748, 'ලාං': 2932, 'ාංක': 3809, 'අලු': 682, 'ලුත': 2969, 'ැකී': 3970, ' සූ': 457, 'සූද': 3377, 'ූදා': 4492, 'ීස ': 4351, 'ාපො': 3876, 'ොරො': 4782, 'රොත': 2829, 'ොත්': 4750, 'ඇම': 729, 'මාග': 2426, 'ාගම': 3824, 'තොර': 1655, 'ොරත': 4779, ' ඇම': 33, 'ඇමර': 732, 'මරි': 2396, 'ාවෙ': 3926, 'හෙම': 3526, 'ොදු': 4755, 'අයු': 667, 'ක එ': 967, 'ම ර': 2345, 'ංගු': 580, 'ගී': 1249, 'ොග': 4729, 'චේ': 1304, 'ංගී': 579, '්කෙ': 3599, 'ෙ ල': 4533, 'ොග ': 4730, '්නහ': 3678, 'පරක': 2082, 'සැක': 3335, 'න්ජ': 1936, 'ේල ': 4675, 'ඔහ': 958, 'ෂි': 3212, ' ඔහ': 102, 'ඔහේ': 960, 'හේ ': 3530, 'ේ න': 4633, '්ෂි': 3755, 'ෝග': 4825, 'ේ😂': 4689, 'ං ඔ': 553, 'සිස': 3358, '\\u200dරා': 4909, 'යෝග': 2635, 'ගික': 1243, 'හැර': 3493, 'යිය': 2612, 'හදන': 3437, 'දනව': 1706, 'නේ😂': 2022, 'ාරය': 3900, 'ොබ': 4764, 'නෝ': 2031, 'ොබ්': 4766, 'ැනග': 4005, '්නෝ': 3687, 'නෝ ': 2032, 'ඔහො': 961, 'ො ග': 4706, 'ගෑන': 1240, 'ෑන ': 4084, 'ොල ': 4785, 'ේස ': 4683, '්ලය': 3727, 'ලයි': 2905, 'යිට': 2606, 'බ ම': 2208, 'එන ': 891, 'ාහන': 3940, 'නයක': 1905, ' හා': 474, 'ලීස': 2965, 'පැන': 2131, ' දී': 229, 'දීප': 1775, 'දකි': 1696, 'කිං': 1106, 'තො ': 1651, 'ො ව': 4714, 'වෙස': 3159, 'ද එ': 1673, '්ජා': 3615, 'ජාව': 1342, '්තු': 3639, 'නිද': 1980, 'කුස': 1127, 'ුසා': 4471, 'න්ෂ': 1946, 'පොන': 2187, 'පො ': 2181, 'ගො ': 1273, 'පාට': 2119, 'ගන ': 1189, 'ගනු': 1192, '්අ': 3586, ' —': 497, '— ': 4921, 'මර ': 2392, 'ත්අ': 1587, '්අඩ': 3587, 'ගුව': 1259, ' — ': 498, '— හ': 4922, 'හැග': 3485, 'ැගී': 3975, 'ගී ': 1250, 'ෙදි': 4565, 'නූ': 2005, 'ලගෙ': 2873, ' රෙ': 379, 'රෙද': 2821, 'ෙද්': 4563, 'නොහ': 2030, ' තෝ': 214, 'තෝ ': 1657, 'ෝ ද': 4813, ' ධා': 237, '\\u200d අ': 4878, 'දද': 1703, ' ෆ': 484, 'ෆේ': 3554, 'තොග': 1652, ' ග්': 141, 'රාම': 2777, ' බූ': 305, 'ූර ': 4499, '්සු': 3767, ' ෆේ': 490, 'ෆේ ': 3555, 'ලකන': 2865, 'ඔකු': 928, 'කුන': 1122, 'ග හ': 1176, 'ුටි': 4392, ' 😏': 529, 'ෝට': 4831, ' 😅': 521, '😅 ': 4966, 'බෑන': 2287, 'නෙව': 2014, ' රි': 375, 'ිපෝ': 4209, 'පෝට': 2193, 'ෝට ': 4832, 'එව්': 912, ' 😅 ': 522, 'ඩ 😂': 1467, 'ක ය': 980, '🙋🙋': 4983, 'ලාත': 2935, 'යතන': 2549, 'ලදි': 2881, '👑👑': 4941, 'ංගම': 575, 'ගම්': 1197, '👑👑👑': 4942, 'ැහු': 4068, 'හුව': 3518, '්සේ': 3769, 'ඩම': 1487, 'ජි': 1343, 'අඩම': 616, 'ඩම්': 1488, 'මොහ': 2498, 'හොත': 3535, 'සාම': 3331, 'ාමා': 3884, 'ාජි': 3835, 'ජික': 1345, 'ොත ': 4749, 'ො බ': 4710, '් ර': 3579, 'ද බ': 1682, 'ඩ ය': 1462, 'සුර': 3372, 'ුරක': 4439, 'රකි': 2674, 'ැඩි': 3991, 'ඩික': 1507, 'ිකල': 4142, '්තක': 3630, 'බොන': 2318, ' 😎': 528, '😘😘': 4976, 'හැප': 3490, 'ැපි': 4014, 'වෙඩ': 3154, ' ලය': 389, 'යිප': 2609, 'ෂුද': 3217, ' 🧐': 547, '්නෑ': 3682, 'නෑ ': 1973, 'යාන': 2594, 'ගු ': 1253, 'ුඩ': 4394, ' 🤣': 541, 'ගාල': 1229, 'ල ෂ': 2856, '😂 ස': 4958, 'සාද': 3327, 'ාදු': 3854, 'දීග': 1774, 'වමන': 3051, 'හාම': 3479, 'ීසි': 4352, 'ේස්': 4684, 'අනා': 638, 'ු උ': 4357, ' ඩේ': 190, 'ැව්': 4056, 'නින': 1981, 'ූට': 4485, ' 😜': 533, 'ූට ': 4486, 'ැ උ': 3948, 'ඩ උ': 1449, 'පුක': 2157, 'උඩ ': 819, 'ුවර': 4458, 'රුම': 2815, ' රු': 377, 'රුප': 2814, 'බනි': 2233, 'ලෙස': 2979, 'ටෑ': 1423, 'තුත': 1633, ' 😉': 523, 'එකි': 876, '්සන': 3760, 'සන ': 3275, 'දෙද': 1794, 'ගල්': 1210, 'ොට්': 4738, '්ටා': 3620, 'ටා ': 1421, 'ේ ඔ': 4626, 'ඩ න': 1458, '🤣 ': 4990, '😱😱': 4981, '🤣🤣🤣': 4996, '🤣 ස': 4991, 'නේෂ': 2020, 'ත්න': 1591, 'ගුට': 1254, ' 🤣 ': 542, '්දර': 3653, 'පෙට': 2172, 'ෙට්': 4552, '\\u200dරල': 4904, 'ගහල': 1220, 'පරන': 2084, 'කව්': 1060, ' 😒': 532, 'පව්': 2100, 'ොකක': 4722, 'පුප': 2161, 'ුප ': 4418, ' නට': 241, 'ධි ': 1838, 'ැ ඔ': 3950, ' තී': 208, 'තීර': 1629, 'ීරන': 4342, 'ං ප': 559, 'හ ඇ': 3398, 'අහ්': 706, 'කෙට': 1135, '්ටු': 3622, 'නල': 1910, 'නිහ': 1988, 'ො ඇ': 4701, 'නල ': 1911, 'සීන': 3362, 'න්ස': 1947, 'න 😂': 1867, 'ීල': 4343, ' ජර': 166, 'ජරා': 1331, 'කටේ': 1005, ' පේ': 282, 'ීල ': 4344, 'වෙර': 3157, 'න ට': 1853, ' ට්': 179, 'ට්ව': 1417, 'වීට': 3137, '😅😅': 4967, 'ඇහු': 744, 'වලි': 3072, 'ලිග': 2950, ' මද': 320, 'මදි': 2376, '්නැ': 3681, 'සෑ': 3342, 'ෑහ': 4096, ' සෑ': 453, 'සෑහ': 3344, 'ෑහෙ': 4097, 'දනා': 1708, 'එර': 903, 'ෝස': 4863, ' 🤨': 544, 'ෙව්': 4609, ' එර': 85, 'රංග': 2667, 'ෝස ': 4864, 'එලි': 909, 'අහු': 708, 'ට 😂': 1384, 'ටසි': 1411, 'මල්': 2401, ' ලව': 390, 'ලව්': 2911, 'න 😏': 1868, 'ගූ': 1260, ' ගූ': 147, 'ගූ ': 1261, 'උබේ': 843, 'න්ප': 1943, '්ප ': 3690, '🔫🔫': 4948, 'එ ව': 863, 'බාර': 2271, ' 🤣🤣': 543, 'කල්': 1052, 'කලේ': 1056, 'පනි': 2075, 'ිට්': 4159, 'බැද': 2279, 'නාල': 1960, '🤣 🤣': 4992, 'කථ': 1017, 'ම ඔ': 2334, 'න ච': 1851, 'චූට': 1303, 'ූටි': 4487, 'ියස': 4237, '්ඩි': 3626, 'ගෑ ': 1239, ' කථ': 110, 'මෙය': 2481, 'යි…': 2615, 'රීව': 2807, ' හ ': 464, 'ූස': 4504, '් ට': 3571, 'ඩට': 1477, 'ෝ බ': 4816, 'බෙට': 2309, 'ෙටි': 4553, 'ඩට ': 1478, 'ඉ එ': 751, 'උ ම': 808, 'වහල': 3085, 'හල්': 3466, 'ඩන ': 1484, 'ගැල': 1235, 'ැලප': 4045, 'ලපෙ': 2891, 'සමර': 3286, 'ක්ත': 1070, 'ාමී': 3886, '\\u200dරත': 4896, 'රති': 2694, 'ඉ ම': 757, 'ැතු': 3996, 'සරන': 3297, 'පොත': 2185, 'බබ': 2234, ' 🙊': 537, ' බබ': 292, 'බබා': 2235, ' ඉප': 50, 'අදු': 630, 'දුර': 1783, 'කැල': 1098, 'ෙ ඇ': 4514, 'බලන': 2246, ' 😭': 536, '🏻\\u200d': 4937, '\\u200d♂': 4918, '♂️': 4926, '🏻\\u200d♂': 4938, '\\u200d♂️': 4919, '️ ': 4931, 'පෑ': 2137, '️❤': 4932, '❤️❤': 4930, '️❤️': 4933, '❤️ ': 4929, 'තවම': 1582, 'වම ': 3050, 'එඩ': 882, 'ඩ්\\u200d': 1500, 'සිම': 3353, 'මෙන': 2480, 'ඇක': 714, 'ෆො': 3556, ' ඇක': 26, 'ඇක්': 715, ' ෆො': 491, 'ෆොට': 3557, 'මැන': 2442, '😂 එ': 4954, 'වටි': 3029, 'ටින': 1427, 'නාක': 1952, 'පික': 2142, 'වතු': 3036, 'ර ෆ': 2663, ' ෆි': 488, 'ී න': 4302, 'ෆල': 3546, 'ර ඇ': 2640, 'ල ඔ': 2841, 'හොට': 3534, 'ෝග ': 4826, 'සේර': 3387, 'ෙ ච': 4521, 'ොඩා': 4746, 'වැල': 3115, 'ලෙන': 2978, 'ධ ල': 1817, ' රජ': 363, 'රජ ': 2684, 'ාගය': 3825, 'ුනු': 4416, 'නුම': 2000, 'පත ': 2064, 'අනන': 636, 'න්\\u200d': 1949, 'ඔප්': 940, ' ටු': 182, 'හ උ': 3400, 'වදා': 3040, 'දාහ': 1752, 'ාහර': 3941, 'රද්': 2702, 'මුව': 2469, 'ඇහ ': 743, '\\u200c ': 4875, 'ිඩ': 4162, 'ජො': 1356, 'ාවක': 3917, 'වක ': 3018, 'ිතෙ': 4173, 'තෙ ': 1642, 'ි ඩ': 4110, 'ිඩ ': 4163, 'කීය': 1118, 'ග ජ': 1164, ' ජො': 173, 'ජොබ': 1357, 'ොබ ': 4765, 'මෙච': 2478, 'නාය': 1959, 'ලග ': 2870, '\\u200dරව': 4905, 'ව ඉ': 2997, 'ඉතා': 772, 'ඇද ': 725, 'ාවි': 3925, ' යි': 354, 'ුනි': 4415, 'ඉං': 761, 'යර': 2569, 'ඇඩ': 718, ' ඉං': 42, 'ඉංග': 762, 'ුට්': 4391, 'ට්ස': 1418, 'අහග': 702, 'ියර': 4234, 'යර ': 2570, ' ඇඩ': 29, 'ක ජ': 971, 'ලව ': 2910, 'ොලව': 4788, ' බ ': 286, 'ැරු': 4038, '්වි': 3746, 'විට': 3122, 'එච': 880, 'ඇල': 735, 'කහ': 1065, ' ඇල': 35, 'ඇල්': 736, 'ේ උ': 4624, 'අරු': 678, 'ොහ ': 4801, 'ටෝ': 1444, 'ෆෝ': 3558, ' ටෝ': 184, 'ෝක්': 4823, ' රග': 362, 'ාංෂ': 3810, 'ංෂ ': 592, 'ෙ ෆ': 4537, ' ෆෝ': 492, 'ෆෝ ': 3559, 'ධ න': 1813, 'වහ ': 3082, '්පෙ': 3699, 'එ න': 859, 'ිදහ': 4177, 'බාද': 2267, 'ඩ ම': 1461, 'හදා': 3440, 'ැවෙ': 4060, 'ොදැ': 4754, 'සග ': 3260, ' මක': 314, 'ගා ': 1226, ' රව': 369, 'ුමු': 4433, 'ිටර': 4158, 'ාමන': 3883, '\\u200d ක': 4879, 'ි ෆ': 4124, 'ෝ ක': 4810, 'ල්ඩ': 2925, 'ඩ ඉ': 1448, 'ෆැ': 3548, ' ෆැ': 487, 'ෆැම': 3549, 'ිගැ': 4152, 'නීම': 1993, 'ක ෆ': 987, 'ක ඩ': 973, 'ඩින': 1508, 'නර ': 1908, 'වඩ': 3031, 'ඉම': 786, '්ලෙ': 3734, 'ලෙක': 2975, 'එකී': 877, 'ස ෆ': 3246, 'ලින': 2953, ' වඩ': 408, ' ඉම': 52, 'අමු': 660, 'මුත': 2464, 'ත ෆ': 1551, ' ෆ්': 486, 'ලාක': 2933, 'ෝ ව': 4818, 'ගමන': 1196, 'බඩු': 2224, 'ු ට': 4363, 'දම': 1711, 'ෙ ට': 4523, 'හිල': 3506, '\\u200d ප': 4881, ' දම': 220, 'දමා': 1712, ' ෂක': 429, 'ෂක්': 3192, 'ැබේ': 4022, 'කං': 989, 'ැච': 3977, ' ලක': 384, 'බෙන': 2311, ' ගග': 133, 'ගග ': 1181, 'එහා': 919, 'ිකං': 4137, 'කං ': 990, 'නෙද': 2010, 'මැච': 2438, 'ැච ': 3978, 'ච එ': 1281, 'ාබ ': 3878, 'ෆු': 3552, 'කූ': 1128, 'ූඩ': 4488, 'ොයි': 4775, 'ර්ස': 2767, 'ෙයා': 4593, 'යාර': 2597, 'රගත': 2677, 'ටල ': 1406, ' ඩෝ': 192, ' ෆු': 489, 'ුඩ ': 4395, 'ඩ අ': 1447, ' කූ': 126, 'කූඩ': 1129, 'ුවක': 4453, 'ිකට': 4139, 'තැ ': 1605, 'කලි': 1054, 'සිල': 3356, 'දෑ': 1760, 'ිෆ': 4289, ' චා': 156, 'ඇස්': 741, 'ැමෝ': 4031, 'මෝට': 2501, 'ොකට': 4723, 'සෙල': 3382, 'ා…': 3943, 'හනු': 3446, '්ෂා': 3754, 'තහ': 1584, 'ය…': 2637, 'මනු': 2383, 'හක': 3421, 'බක': 2218, 'ෙත ': 4558, 'කක ': 993, ' බක': 288, 'ිකක': 4138, 'මරා': 2395, 'ාමු': 3887, '්නේ': 3686, 'ඇග': 716, 'යස්': 2583, ' ඇග': 27, 'ී ම': 4305, 'තීන': 1628, 'ඉ ප': 755, '්සල': 3762, 'ී උ': 4295, 'උගන': 814, 'ඉනි': 782, 'ැලි': 4049, 'උං': 809, 'ුං': 4376, ' උං': 62, 'ුං ': 4377, ' ඉට': 45, 'ඉට ': 768, 'හක ': 3422, 'මාස': 2435, 'ඉයෙ': 788, 'නෝන': 2033, 'අයට': 663, 'ෑට': 4082, ' 🤔': 539, 'වක්': 3019, 'ී ක': 4298, 'ීවි': 4349, 'ෝර': 4850, 'යප': 2560, 'ෝච': 4827, 'ෝරා': 4853, 'වලද': 3069, 'ලද ': 2880, 'ෂාව': 3211, 'ජය ': 1327, 'ර්ග': 2753, ' ඩු': 188, 'ුප්': 4420, 'ිකේ': 4147, 'ිජ': 4155, 'ිනල': 4191, 'හුම': 3516, 'ගව': 1212, 'ව ර': 3011, 'රැල': 2783, 'රං ': 2666, 'උපර': 837, 'ලගට': 2871, '්ලො': 3735, 'ොප ': 4762, 'යම ': 2562, 'කරය': 1044, 'ත ට': 1538, 'ඩග': 1475, ' 🤭': 546, 'මැට': 2439, 'ිබෝ': 4216, 'බෝල': 2325, 'නො ': 2024, '් 😂': 3585, 'ා ඇ': 3784, 'හමු': 3454, 'ියහ': 4238, ' 🖤': 514, '🖤🖤': 4949, 'ිනැ': 4195, 'ුය': 4434, 'ට උ': 1365, 'අයෙ': 668, 'ටුය': 1436, 'ුයි': 4435, 'හ 😂': 3418, ' යම': 347, 'රිව': 2798, 'යාත': 2593, 'කටය': 1003, 'ටයු': 1401, 'යාං': 2589, 'ෂ හ': 3187, '්ධන': 3665, 'ටය ': 1399, 'ටෝ ': 1445, 'ර 😂': 2664, 'ක 😂': 988, 'හ ය': 3412, 'ෑම ': 4088, 'නාහ': 1963, 'නාන': 1957, ' න්': 248, ' 😁': 515, 'තිප': 1617, 'හිං': 3497, 'ිංස': 4131, 'ංසක': 595, 'ජ ඇ': 1309, 'ඇලෝ': 737, 'ලෝස': 2993, 'ෝසි': 4865, 'අසන': 695, 'සනී': 3278, 'නීප': 1992, 'ීප ': 4333, 'ෙ ඩ': 4524, 'ඩෙං': 1519, 'ෙංග': 4541, 'ගුද': 1255, 'ුදැ': 4406, '😍😍': 4970, '😍😍😍': 4971, '😂👋': 4959, ' 😂👋': 518, 'ගක': 1179, 'වගක': 3022, 'ඬ ': 1526, ' අඬ': 7, 'හැල': 3494, 'තූ': 1639, 'ූත': 4489, 'ෝ ස': 4819, '්තූ': 3640, 'තූත': 1640, 'ූති': 4490, '්මන': 3711, 'බ ත': 2203, 'තිස': 1623, '😂🤣': 4964, 'ං ග': 555, 'ං ව': 565, 'ූල': 4502, 'ියග': 4229, 'සදා': 3272, 'දාක': 1743, 'ාකා': 3819, 'අපෙ': 650, 'ේ😂😂': 4690, 'ජී ': 1348, 'ද 😂': 1691, 'පාව': 2125, 'ිච්': 4154, 'ෆුල': 3553, 'ැමැ': 4029, 'ියි': 4240, 'යින': 2608, '්නම': 3675, 'ප උ': 2038, 'ංද': 586, 'ිංද': 4130, 'ංද ': 587, 'ව්න': 3088, '්න්': 3679, 'දෑස': 1761, 'ැ ය': 3959, 'යුව': 2624, 'වැත': 3110, 'ජි ': 1344, 'කිල': 1112, 'ගෝ': 1275, 'රූ': 2817, 'ලෝග': 2992, 'ඩිම': 1509, 'අලි': 681, '්කු': 3597, 'මනා': 2381, 'ඇෆ': 746, 'ඉරා': 793, 'ාක ': 3815, ' ඇෆ': 39, 'ඇෆ්': 747, '්ගන': 3604, 'ථාන': 1664, 'කයෙ': 1038, 'යෙක': 2627, 'ගප': 1193, 'ටං': 1386, 'උව': 849, '්පූ': 3698, 'පූර': 2168, 'ිබු': 4214, 'ලමය': 2899, 'මයි': 2390, 'පෑ ': 2138, 'ොලබ': 4787, 'ලබ ': 2893, 'සොද': 3391, 'ඉ අ': 749, 'ියු': 4241, 'යුර': 2623, 'නවි': 1924, 'තනි': 1564, 'ේ ට': 4630, 'ී ත': 4300, 'ිබෙ': 4215, 'මැල': 2444, '්දා': 3655, 'ී ඉ': 4294, 'බක්': 2219, 'ගමි': 1199, 'මික': 2448, 'ඩල': 1492, 'දව ': 1726, 'සල ': 3301, 'රදා': 2703, 'ඩල ': 1493, 'ේවි': 4678, 'තාර': 1601, '්සෙ': 3768, 'ව ස': 3014, 'ැවි': 4058, '්තට': 3631, ' 😌': 525, 'ෝඩි': 4837, '්නක': 3672, 'ඔලු': 951, 'වදය': 3039, ' ජි': 169, 'ජිව': 1346, 'දලද': 1724, 'ැනෙ': 4011, 'ෙප්': 4582, 'ගලව': 1209, 'ැලව': 4046, 'නතර': 1887, 'රාත': 2772, '්වය': 3740, 'නපත': 1898, '\\u200dරක': 4894, 'රකා': 2673, 'ාෂය': 3930, 'රේම': 2827, 'දාස': 1751, 'ිසර': 4279, 'ැලක': 4042, 'ෑ ප': 4074, 'මෙක': 2477, 'අසා': 698, 'මොල': 2497, 'නත ': 1886, 'උදව': 826, 'දව්': 1729, 'ල්ව': 2928, 'සතු': 3268, 'තුට': 1632, 'අහක': 701, 'ඉ ව': 758, 'මංද': 2353, 'චු': 1301, '්එ': 3588, ' චු': 159, 'වග ': 3021, '🧐🧐': 4998, 'කැට': 1093, '🧐🧐🧐': 4999, 'සැල': 3341, 'ජේ': 1354, 'දස': 1731, ' ජේ': 172, 'ජේස': 1355, 'ුවප': 4457, 'පුං': 2156, 'ුංච': 4378, ' දස': 224, ' සය': 446, 'යිබ': 2610, 'බුල': 2305, 'පෝර': 2194, 'ෝර්': 4852, 'ටව ': 1408, 'ඇමත': 731, 'ුෂ': 4464, 'ටත': 1391, ' දග': 218, 'දගල': 1699, 'ව😂': 3172, 'නව😂': 1925, 'ැ ර': 3960, 'ත ජ': 1537, 'ඔනෑ': 935, 'ෑව ': 4093, 'ඩ ත': 1456, '🤔🤔': 4987, ' 🤔🤔': 540, 'ඉදල': 777, 'ස ර': 3241, '😁 ': 4950, 'වාල': 3103, 'පැප': 2132, '🤣😂': 4993, 'ලිත': 2951, 'ඉහ': 802, ' ඉහ': 59, 'ුසි': 4472, 'වෙය': 3156, ' මඩ': 318, 'කාස': 1091, 'දබ': 1710, 'තරග': 1577, 'පී ': 2152, 'ට 🤭': 1385, 'උං ': 810, 'අහස': 705, 'රිද': 2792, ' ට ': 177, 'බලප': 2247, 'දෝ': 1808, 'ගං': 1178, 'ත ඔ': 1533, '😁😁': 4951, 'මිද': 2450, 'තිත': 1615, 'ි😂': 4291, ' ලද': 386, 'වනව': 3044, 'ලොන': 2987, 'උල': 847, 'ලබ්': 2895, 'කෝට': 1154, 'ොං ': 4718, ' උල': 73, 'ේජ': 4649, 'ඉයේ': 789, 'ේජ ': 4650, 'ඩගි': 1476, 'ෝහ': 4866, 'ෝහ ': 4867, 'ැටු': 3985, 'ුවී': 4461, 'මරු': 2397, 'නවද': 1916, 'ිනව': 4192, 'රිල': 2797, 'ල ඇ': 2837, 'එතන': 885, 'එ ත': 857, 'ේග': 4647, 'පරී': 2089, 'රීක': 2802, 'ැ ත': 3953, 'වේග': 3162, 'ේග ': 4648, ' සක': 437, 'ිනක': 4188, 'ොකි': 4727, 'ධක': 1820, 'ධක ': 1821, '්වන': 3739, 'ෝටි': 4834, 'ොමි': 4771, 'ාක්': 3818, 'යුන': 2621, 'රමන': 2723, 'අකා': 605, 'රැද': 2782, 'රයක': 2729, 'ුග': 4384, 'දුප': 1781, 'ුගි': 4387, 'ිනු': 4198, 'එරෙ': 904, 'රෙහ': 2823, 'ෙහි': 4618, 'තාල': 1602, 'කෙර': 1137, 'කලු': 1055, ' නෝ': 259, 'ජෙ': 1353, '්වල': 3742, ' ජෙ': 171, 'නේල': 2019, 'එයි': 902, 'කෑම': 1102, 'සුම': 3371, 'කෙස': 1139, 'සුග': 3366, 'ුග ': 4385, 'ොටස': 4737, 'ටස ': 1410, 'ගීත': 1251, 'කවර': 1059, 'ඩප': 1486, 'ැවත': 4054, 'ුරි': 4444, 'ලීග': 2963, 'ීගය': 4316, 'ාරම': 3899, 'මී ': 2458, '්දග': 3650, 'උඔ': 811, 'උඔ ': 812, 'නකල': 1875, 'ිරෙ': 4253, 'යලු': 2576, 'ෝලෙ': 4858, 'නුන': 1998, 'බල්': 2250, 'ක්ට': 1069, 'ටිස': 1429, 'දැං': 1755, 'නවක': 1914, 'ැගි': 3974, 'කපු': 1027, 'ුරං': 4438, 'ඩක ': 1471, 'බ බ': 2207, 'අගය': 610, 'වාත': 3098, 'ං ස': 566, 'ඔත': 930, ' ඔත': 94, 'ඔතන': 931, 'එලව': 907, 'නක්': 1876, 'බැස': 2283, 'ඩෙ ': 1518, 'ඉද්': 778, 'ේහ': 4687, 'නේහ': 2021, 'බලල': 2249, 'ලල ': 2908, 'ඇට': 717, ' ඇට': 28, 'කීව': 1119, 'ීව ': 4347, ' යට': 344, 'රමා': 2725, 'ර්ත': 2756, 'ෝෂ': 4861, 'ෂල': 3200, 'සෝෂ': 3393, 'ෝෂල': 4862, 'ෂල ': 3201, 'මීඩ': 2460, 'ඉ ස': 759, 'සක්': 3258, 'රවෙ': 2739, 'ොවි': 4794, 'ප න': 2044, 'ෂෝ': 3223, 'ථ ': 1659, 'හෙව': 3528, 'ියෝ': 4244, '්ථ ': 3643, '‘ ': 4923, ' ‘': 499, ' ‘ ': 500, 'පවස': 2099, 'පන ': 2072, 'ජප': 1323, 'ිරු': 4252, 'ාජප': 3832, 'ජපක': 1324, 'හ ර': 3413, 'කතු': 1015, '😭😭': 4979, '😭😭😭': 4980, 'ලී ': 2962, 'ලැක': 2942, '්නත': 3673, 'හුන': 3515, 'ාඉ': 3812, 'ෑ න': 4073, 'වාඉ': 3094, 'තිග': 1614, 'කමෙ': 1033, 'පොහ': 2190, 'රීල': 2806, 'ධාය': 1835, 'සමග': 3285, 'ඔහු': 959, 'ූ ව': 4481, '් ෆ': 3584, 'ෙස්': 4615, 'මෙල': 2482, 'ගුන': 1256, 'ිවෘ': 4269, 'වෘත': 3150, 'ෘත ': 4507, 'ා ෂ': 3803, ' රී': 376, 'හයෝ': 3458, 'ලසි': 2917, 'ෘ ': 4505, 'ුමි': 4432, 'ීර ': 4341, 'ජ එ': 1310, 'උපන': 836, 'සප': 3279, ' සප': 443, '🤔🤔🤔': 4988, 'මක්': 2356, 'පැල': 2135, 'සෙස': 3383, 'අරම': 674, 'යවර': 2580, 'ැවස': 4055, '😓😓': 4974, 'ංගන': 574, '😓😓😓': 4975, 'වච': 3025, ' වච': 406, 'වචන': 3026, 'චන ': 1286, 'ඉෂ්': 799, 'උදෑ': 828, 'ානක': 3863, 'බ ර': 2209, 'වේව': 3165, 'ටම': 1396, 'සප්': 3280, 'තෛ': 1648, 'ෛප': 4695, ' තෛ': 212, 'තෛප': 1649, 'ෛපො': 4696, 'පොං': 2182, 'ාමි': 3885, 'ජනව': 1320, 'නවර': 1919, 'උරු': 845, 'එසේ': 917, 'රීඩ': 2803, 'ගෞ': 1278, 'ෞර': 4872, 'ගෞර': 1279, 'ෞරව': 4873, ' රක': 361, 'ැකේ': 3971, 'ප්ත': 2112, 'ලොව': 2988, 'උ අ': 805, 'ිපො': 4208, '්සව': 3763, ' ගෞ': 152, 'ලධ': 2883, 'ිලධ': 4257, 'ලධා': 2884, 'ල්ග': 2923, 'ැබී': 4019, 'ෂ ය': 3183, 'මාම': 2431, 'දික': 1764, 'උ ද': 806, 'ැලන': 4044, 'වාම': 3101, '්මය': 3713, '🙏🙏': 4985, ' 🌸': 510, ' ☸': 506, 'ාසන': 3934, 'සනා': 3277, 'ේ 🌸': 4643, 'රෝග': 2833, ' 🌸 ': 511, ' ☸ ': 507, 'සමි': 3290, 'ෂ ග': 3177, 'ෝජ ': 4829, 'හජ': 3426, 'නුග': 1997, 'ානා': 3868, 'ිදේ': 4183, 'ෙබ': 4583, 'ායා': 3892, 'රූප': 2818, ' ගෝ': 151, 'ෝ න': 4814, 'යටත': 2547, 'ටත ': 1392, '\\u200dරය': 4903, 'දෘ': 1789, ' ඩො': 191, 'ායම': 3891, 'ඉහල': 803, 'දෘෂ': 1790, 'ෘෂ්': 4511, 'හාර': 3480, 'පෘ': 2169, '්\\u200c': 3774, 'ාගර': 3826, 'ගෝට': 1276, 'ෝටා': 4833, 'ටාබ': 1422, 'ාපෘ': 3875, 'සංක': 3249, 'බිහ': 2295, 'හිව': 3507, 'ජීර': 1349, 'ස්\\u200c': 3323, '්\\u200c ': 3775, '\\u200c ස': 4876, 'ක්\\u200c': 1077, 'තං': 1553, 'එ්': 922, 'යකි': 2539, 'ටීව': 1432, 'ැමර': 4027, ' එ්': 90, 'එ් ': 923, 'ස \\u200d': 3247, 'තත': 1559, 'ාවේ': 3927, 'වේල': 3164, 'තත්': 1560, 'ෙවි': 4610, 'පේජ': 2178, 'ර ෂ': 2660, 'ීලං': 4345, 'දූ': 1788, 'ලහන': 2919, 'අබ්': 653, '\\u200dයන': 4887, 'දරු': 1721, 'හෙක': 3523, 'මනි': 2382, 'ෂ්ට': 3204, '\\u200dරෙ': 4913, 'රත ': 2692, 'තෙන': 1643, 'ිෂා': 4274, 'ෂාල': 3210, 'සයු': 3294, 'බාප': 2270, 'සලා': 3303, 'යුබ': 2622, 'කොම': 1148, '්පැ': 3695, 'ෝව ': 4860, ' 😤': 535, 'ගැ ': 1232, 'බෝම': 2324, 'ෝම්': 4849, 'ු😂': 4476, 'සකස': 3257, 'කොත': 1146, 'ු ය': 4370, 'ගෝල': 1277, '්හ ': 3771, 'පකය': 2056, '🔫 ': 4947, 'වෛ': 3167, 'ෛර': 4697, ' වෛ': 426, 'වෛර': 3169, 'ෛර ': 4698, ' රූ': 378, '්දන': 3651, ' ෂි': 432, 'ුවේ': 4463, 'යුග': 2618, '්තම': 3632, 'කයි': 1037, 'දේව': 1803, 'නොග': 2026, 'ීවන': 4348, '්පහ': 3693, ' ෂා': 431, 'ාලා': 3910, 'ාවා': 3924, 'ඩද': 1481, 'අතර': 621, 'ෝර ': 4851, 'ජෝ': 1358, 'ේප': 4664, 'ේප ': 4665, 'ඉ ත': 754, 'ාස්': 3936, 'හයි': 3457, '\\u200b ': 4874, 'උරො': 846, 'ුගම': 4386, 'තොට': 1653, 'සෑම': 3343, 'නවැ': 1923, 'ඩස': 1495, 'අට': 613, ' අට': 5, 'දප': 1709, 'මද ': 2374, 'දක්': 1695, 'මිර': 2453, ' ෆය': 485, 'පාස': 2126, 'ඇම ': 730, 'සංෂ': 3253, 'ානු': 3870, 'ී බ': 4304, 'ක්ද': 1071, 'ර්ද': 2758, '්බක': 3702, 'ඔවා': 955, 'ඩේට': 1522, 'අරහ': 675, 'ිවල': 4264, 'ිදෙ': 4182, 'මෝ ': 2500, 'අසර': 696, 'ෘත්': 4508, 'ලස ': 2915, 'ටම ': 1397, 'ෆ ': 3543, 'වබ': 3047, 'යම්': 2563, 'ැ ඉ': 3947, 'වබෝ': 3048, 'බෝධ': 2323, 'ෝධ ': 4843, 'හාන': 3478, 'ානි': 3869, 'නයි': 1906, 'වරා': 3062, 'නස්': 1928, 'ොඩක': 4743, 'ඩකි': 1474, 'ගාත': 1227, 'ුමන': 4429, 'ල්\\u200d': 2929, 'ාරී': 3903, 'ුදා': 4405, 'ිබද': 4212, 'බද ': 2227, 'ෂි ': 3213, 'පිං': 2141, 'සදහ': 3270, 'පජ': 2058, '\\u200dරබ': 4901, 'ැලැ': 4048, 'ධත': 1822, 'පද්': 2068, '්ධත': 3664, 'ූපය': 4497, 'ලදී': 2882, 'නුහ': 2004, 'ු ඔ': 4359, '්වහ': 3743, 'වහන': 3083, 'බීත': 2298, 'නුෂ': 2002, 'ෂික': 3214, 'ෛද': 4693, 'වෛද': 3168, 'ෛද්': 4694, 'කඩි': 1009, 'රථ': 2696, 'ථය': 1661, ' රථ': 366, 'ගලි': 1211, 'රථ ': 2697, 'ංස ': 594, 'ිනී': 4197, 'බලය': 2248, 'ොරක': 4778, ' “': 501, '“ ': 4924, ' ”': 503, '” ': 4925, ' “ ': 502, 'ීනය': 4330, ' ” ': 504, 'දුෂ': 1786, 'ුෂන': 4465, ' තත': 196, ' යො': 357, 'ෂප්': 3196, 'ූර්': 4501, 'ෂ ස': 3186, 'වං': 3016, 'එප ': 895, '්ගි': 3606, 'පාත': 2121, '්තො': 3641, 'ථි': 1666, ' වං': 404, 'ැලද': 4043, 'ොගෙ': 4731, '්ථි': 3646, 'ථික': 1667, 'පලි': 2096, 'ෙෂ': 4612, 'ීඩ ': 4321, 'චෝ': 1305, ' චෝ': 161, 'චෝද': 1306, 'සුස': 3375, 'උඩු': 820, 'යකත': 2536, 'කත්': 1013, 'සාප': 3330, 'ෝල්': 4856, '😂🤣😂': 4965, '🤣😂🤣': 4994, 'මහ ': 2409, 'ි \\u200d': 4125, 'ූප ': 4496, '😡😡': 4978, 'බම': 2236, 'වරෙ': 3064, 'ීග ': 4315, '්නු': 3684, 'ි ච': 4107, 'යකය': 2537, ' උඔ': 63, 'හපා': 3448, 'වරය': 3060, 'ාජව': 3833, 'ජවා': 1333, 'නනක': 1894, 'ක ෂ': 984, 'හග ': 3424, '්ලී': 3732, 'ලීම': 2964, 'ාරග': 3896, 'බාන': 2269, 'ටෙස': 1440, 'ජු': 1351, 'ජු ': 1352, 'හූ ': 3520, 'රයා': 2730, 'ිගන': 4150, '්ලත': 3725, 'යහප': 2585, '😹😹': 4982, ' ලෑ': 394, '්කන': 3592, 'ාපන': 3874, ' තහ': 202, 'දං': 1692, ' නූ': 255, 'ුජ': 4388, 'ෝ ග': 4811, '්ෂේ': 3756, 'ෂේප': 3221, 'අවබ': 685, 'ුෂ්': 4466, 'යත්': 2550, 'ෂිය': 3215, 'මහේ': 2414, 'කජ': 1000, ' කජ': 106, 'එකද': 870, '්දු': 3659, '්දී': 3658, 'රෝ ': 2832, 'රාන': 2775, 'ුබා': 4425, '💪💪': 4945, '💪💪💪': 4946, 'රහා': 2750, 'අග ': 608, 'ූල ': 4503, ' රද': 367, 'රදව': 2701, 'පනත': 2073, ' ඥ': 174, 'ඥා': 1359, ' ඥා': 175, 'දාව': 1750, 'ානෙ': 3871, 'ෙරු': 4599, 'පුන': 2160, 'ුනර': 4412, 'ංකි': 571, 'කික': 1107, 'රජය': 2685, 'ලතෝ': 2878, '\\u200dරද': 4897, 'රදේ': 2706, 'මස්': 2407, 'ඥාන': 1360, '්යා': 3719, '\\u200d ම': 4882, '🙏🙏🙏': 4986, 'ෂූ': 3218, ' ෂූ': 434, 'ෂූර': 3219, 'ූරත': 4500, 'මලල': 2400, 'රගා': 2681, 'ාවල': 3922, 'රගය': 2679, 'ීඑ': 4311, 'පීඑ': 2153, 'ීඩක': 4322, '❤❤': 4927, 'ාදේ': 3855, 'පුහ': 2165, 'ඩකය': 1472, 'කද ': 1019, 'ාරට': 3897, 'ුසල': 4469, 'ඩදා': 1482, 'ඩ ජ': 1455, 'බාස': 2274, '්කට': 3591, 'සටහ': 3263, 'ේසු': 4686, 'ෂං': 3188, 'රෂං': 2741, 'ෂංස': 3189, 'ී ඔ': 4297, 'ොරෝ': 4783, 'ජාන': 1341, 'මංග': 2352, 'බැත': 2278, 'ධ බ': 1815, 'නමස': 1901, 'උත ': 822, 'ොවේ': 4796, 'ැඩස': 3990, 'ඩසට': 1496, '\\u200dයම': 4888, 'යමා': 2564, '\\u200dයත': 4886, '🤝🤝': 4989, '💜️': 4943, '️💜': 4934, '💜️💜': 4944, '️💜️': 4935, 'අයද': 665, 'උලෙ': 848, 'බ \\u200d': 2214, 'දයට': 1716}\n"
          ],
          "name": "stdout"
        }
      ]
    },
    {
      "cell_type": "code",
      "metadata": {
        "id": "Coee7NE4fUwv"
      },
      "source": [
        "print(xvalid_tfidf_ngram)"
      ],
      "execution_count": null,
      "outputs": []
    },
    {
      "cell_type": "markdown",
      "metadata": {
        "id": "5kE3NvLSsNBk"
      },
      "source": [
        "**3. Model Building**"
      ]
    },
    {
      "cell_type": "code",
      "metadata": {
        "id": "3M1278Lgt9MI"
      },
      "source": [
        "def train_model(classifier, feature_vector_train, label, feature_vector_valid, is_neural_net=False):\n",
        "    # fit the training dataset on the classifier\n",
        "    classifier.fit(feature_vector_train, label)\n",
        "    \n",
        "    # predict the labels on validation dataset\n",
        "    predictions = classifier.predict(feature_vector_valid)\n",
        "    \n",
        "    if is_neural_net:\n",
        "        predictions = predictions.argmax(axis=-1)\n",
        "    \n",
        "    return metrics.accuracy_score(predictions, valid_y)"
      ],
      "execution_count": null,
      "outputs": []
    },
    {
      "cell_type": "markdown",
      "metadata": {
        "id": "elUVtXp5sPMy"
      },
      "source": [
        "3.1 Multinominal Naive Bayes"
      ]
    },
    {
      "cell_type": "code",
      "metadata": {
        "colab": {
          "base_uri": "https://localhost:8080/"
        },
        "id": "EnfBcOgbsHkl",
        "outputId": "d52b8b10-299c-4383-d4a2-6b37c1727137"
      },
      "source": [
        "# Naive Bayes on Count Vectors\n",
        "accuracy = train_model(naive_bayes.MultinomialNB(), xtrain_count, train_y, xvalid_count)\n",
        "print(\"NB, Count Vectors: \", accuracy)\n",
        "\n",
        "# Naive Bayes on Word Level TF IDF Vectors\n",
        "accuracy = train_model(naive_bayes.MultinomialNB(), xtrain_tfidf, train_y, xvalid_tfidf)\n",
        "print (\"NB, WordLevel TF-IDF: \", accuracy)\n",
        "\n",
        "# Naive Bayes on Ngram Level TF IDF Vectors\n",
        "accuracy = train_model(naive_bayes.MultinomialNB(), xtrain_tfidf_ngram, train_y, xvalid_tfidf_ngram)\n",
        "print (\"NB, N-Gram Vectors: \", accuracy)\n",
        "\n",
        "# Naive Bayes on Character Level TF IDF Vectors\n",
        "accuracy = train_model(naive_bayes.MultinomialNB(), xtrain_tfidf_ngram_chars, train_y, xvalid_tfidf_ngram_chars)\n",
        "print (\"NB, CharLevel Vectors: \", accuracy)"
      ],
      "execution_count": null,
      "outputs": [
        {
          "output_type": "stream",
          "text": [
            "NB, Count Vectors:  0.7813333333333333\n",
            "NB, WordLevel TF-IDF:  0.792\n",
            "NB, N-Gram Vectors:  0.92\n",
            "NB, CharLevel Vectors:  0.88\n"
          ],
          "name": "stdout"
        }
      ]
    },
    {
      "cell_type": "markdown",
      "metadata": {
        "id": "m5gjaRYkSlxn"
      },
      "source": [
        ""
      ]
    },
    {
      "cell_type": "code",
      "metadata": {
        "colab": {
          "base_uri": "https://localhost:8080/"
        },
        "id": "_ddH2xbuSlXy",
        "outputId": "10e5ba37-fcd3-4c46-ec90-0b47f2c083b8"
      },
      "source": [
        "# Bernoulli Naive Bayes on Count Vectors\n",
        "accuracy = train_model(naive_bayes.BernoulliNB(), xtrain_count, train_y, xvalid_count)\n",
        "print(\"BernoulliNB, Count Vectors: \", accuracy)\n",
        "\n",
        "# Bernoulli Naive Bayes on Word Level TF IDF Vectors\n",
        "accuracy = train_model(naive_bayes.BernoulliNB(), xtrain_tfidf, train_y, xvalid_tfidf)\n",
        "print (\"BernoulliNB, WordLevel TF-IDF: \", accuracy)\n",
        "\n",
        "# Bernoulli Naive Bayes on Ngram Level TF IDF Vectors\n",
        "accuracy = train_model(naive_bayes.BernoulliNB(), xtrain_tfidf_ngram, train_y, xvalid_tfidf_ngram)\n",
        "print (\"BernoulliNB, N-Gram Vectors: \", accuracy)\n",
        "\n",
        "# Bernoulli Naive Bayes on Character Level TF IDF Vectors\n",
        "accuracy = train_model(naive_bayes.BernoulliNB(), xtrain_tfidf_ngram_chars, train_y, xvalid_tfidf_ngram_chars)\n",
        "print (\"BernoulliNB, CharLevel Vectors: \", accuracy)"
      ],
      "execution_count": null,
      "outputs": [
        {
          "output_type": "stream",
          "text": [
            "BernoulliNB, Count Vectors:  0.7413333333333333\n",
            "BernoulliNB, WordLevel TF-IDF:  0.7413333333333333\n",
            "BernoulliNB, N-Gram Vectors:  0.8186666666666667\n",
            "BernoulliNB, CharLevel Vectors:  0.848\n"
          ],
          "name": "stdout"
        }
      ]
    },
    {
      "cell_type": "markdown",
      "metadata": {
        "id": "xSj3lubIsV5i"
      },
      "source": [
        "### 3.2 Logistic Regression-Linear Classifier"
      ]
    },
    {
      "cell_type": "code",
      "metadata": {
        "colab": {
          "base_uri": "https://localhost:8080/"
        },
        "id": "bymgRgHosaCJ",
        "outputId": "367f95c5-c53f-4b72-b5ac-d4bcd1f556a9"
      },
      "source": [
        "# Linear Classifier on Count Vectors\n",
        "accuracy = train_model(linear_model.LogisticRegression(), xtrain_count, train_y, xvalid_count)\n",
        "print (\"LR, Count Vectors: \", accuracy)\n",
        "\n",
        "# Linear Classifier on Word Level TF IDF Vectors\n",
        "accuracy = train_model(linear_model.LogisticRegression(), xtrain_tfidf, train_y, xvalid_tfidf)\n",
        "print (\"LR, WordLevel TF-IDF: \", accuracy)\n",
        "\n",
        "# Linear Classifier on Ngram Level TF IDF Vectors\n",
        "accuracy = train_model(linear_model.LogisticRegression(), xtrain_tfidf_ngram, train_y, xvalid_tfidf_ngram)\n",
        "print (\"LR, N-Gram Vectors: \", accuracy)\n",
        "\n",
        "# Linear Classifier on Character Level TF IDF Vectors\n",
        "accuracy = train_model(linear_model.LogisticRegression(), xtrain_tfidf_ngram_chars, train_y, xvalid_tfidf_ngram_chars)\n",
        "print (\"LR, CharLevel Vectors: \", accuracy)"
      ],
      "execution_count": null,
      "outputs": [
        {
          "output_type": "stream",
          "text": [
            "/usr/local/lib/python3.7/dist-packages/sklearn/linear_model/_logistic.py:940: ConvergenceWarning: lbfgs failed to converge (status=1):\n",
            "STOP: TOTAL NO. of ITERATIONS REACHED LIMIT.\n",
            "\n",
            "Increase the number of iterations (max_iter) or scale the data as shown in:\n",
            "    https://scikit-learn.org/stable/modules/preprocessing.html\n",
            "Please also refer to the documentation for alternative solver options:\n",
            "    https://scikit-learn.org/stable/modules/linear_model.html#logistic-regression\n",
            "  extra_warning_msg=_LOGISTIC_SOLVER_CONVERGENCE_MSG)\n"
          ],
          "name": "stderr"
        },
        {
          "output_type": "stream",
          "text": [
            "LR, Count Vectors:  0.9013333333333333\n",
            "LR, WordLevel TF-IDF:  0.8213333333333334\n",
            "LR, N-Gram Vectors:  0.9573333333333334\n",
            "LR, CharLevel Vectors:  0.9306666666666666\n"
          ],
          "name": "stdout"
        }
      ]
    },
    {
      "cell_type": "markdown",
      "metadata": {
        "id": "4eEj0KlYsgnC"
      },
      "source": [
        "### 3.3 Support Vector Machine"
      ]
    },
    {
      "cell_type": "code",
      "metadata": {
        "colab": {
          "base_uri": "https://localhost:8080/"
        },
        "id": "mOrM8nVMsgIr",
        "outputId": "6ce834be-6f7a-4774-9da9-95218d451ad6"
      },
      "source": [
        "# SVM on Count Vectors\n",
        "accuracy = train_model(svm.SVC(), xtrain_count, train_y, xvalid_count)\n",
        "print (\"SVM, Count Vectors: \", accuracy)\n",
        "\n",
        "# SVM on Ngram Level TF IDF Vectors\n",
        "accuracy = train_model(svm.SVC(), xtrain_tfidf_ngram, train_y, xvalid_tfidf_ngram)\n",
        "print (\"SVM, Ngram Level TF IDF Vectors: \", accuracy)\n",
        "\n",
        "# SVM on Word Level TF IDF Vectors\n",
        "accuracy = train_model(svm.SVC(), xtrain_tfidf, train_y, xvalid_tfidf)\n",
        "print (\"SVM, Word Level TF IDF Vectors: \", accuracy)\n",
        "\n",
        "# SVM on Character Level TF IDF Vectors\n",
        "accuracy = train_model(svm.SVC(), xtrain_tfidf_ngram_chars, train_y, xvalid_tfidf_ngram_chars)\n",
        "print (\"SVM, Character Level TF IDF Vectors: \", accuracy)"
      ],
      "execution_count": null,
      "outputs": [
        {
          "output_type": "stream",
          "text": [
            "SVM, Count Vectors:  0.7413333333333333\n",
            "SVM, Ngram Level TF IDF Vectors:  0.968\n",
            "SVM, Word Level TF IDF Vectors:  0.9146666666666666\n",
            "SVM, Character Level TF IDF Vectors:  0.9653333333333334\n"
          ],
          "name": "stdout"
        }
      ]
    },
    {
      "cell_type": "markdown",
      "metadata": {
        "id": "dhErOdT_snQM"
      },
      "source": [
        "### 3.4 Random Forest - Bagging Model"
      ]
    },
    {
      "cell_type": "code",
      "metadata": {
        "colab": {
          "base_uri": "https://localhost:8080/"
        },
        "id": "lxAUA19Vslvi",
        "outputId": "28260dc9-6343-466a-f1fd-8d30c2734d4d"
      },
      "source": [
        "# RF on Count Vectors\n",
        "accuracy = train_model(ensemble.RandomForestClassifier(), xtrain_count, train_y, xvalid_count)\n",
        "print (\"RF, Count Vectors: \", accuracy)\n",
        "\n",
        "# RF on Word Level TF IDF Vectors\n",
        "accuracy = train_model(ensemble.RandomForestClassifier(), xtrain_tfidf, train_y, xvalid_tfidf)\n",
        "print (\"RF, WordLevel TF-IDF: \", accuracy)\n",
        "\n",
        "# RF on Ngram Level TF IDF Vectors\n",
        "accuracy = train_model(ensemble.RandomForestClassifier(), xtrain_tfidf_ngram, train_y, xvalid_tfidf_ngram)\n",
        "print (\"RF, gram Level TF-IDF: \", accuracy)\n",
        "\n",
        "# RF on Character Level TF IDF Vectors\n",
        "accuracy = train_model(ensemble.RandomForestClassifier(), xtrain_tfidf_ngram_chars, train_y, xvalid_tfidf_ngram_chars)\n",
        "print (\"RF, Character Level TF IDF: \", accuracy)"
      ],
      "execution_count": null,
      "outputs": [
        {
          "output_type": "stream",
          "text": [
            "RF, Count Vectors:  0.9466666666666667\n",
            "RF, WordLevel TF-IDF:  0.9466666666666667\n",
            "RF, gram Level TF-IDF:  0.9573333333333334\n",
            "RF, Character Level TF IDF:  0.9626666666666667\n"
          ],
          "name": "stdout"
        }
      ]
    },
    {
      "cell_type": "markdown",
      "metadata": {
        "id": "eeowin9Ajq0a"
      },
      "source": [
        "KNN"
      ]
    },
    {
      "cell_type": "code",
      "metadata": {
        "colab": {
          "base_uri": "https://localhost:8080/"
        },
        "id": "p2hITPfkjdUQ",
        "outputId": "41d9093b-6728-45f6-dda7-52e9ac043797"
      },
      "source": [
        "from sklearn.neighbors import KNeighborsClassifier\n",
        "# KNN on Count Vectors\n",
        "accuracy = train_model(KNeighborsClassifier(n_neighbors=17, p=5,metric='euclidean'), xtrain_count, train_y, xvalid_count)\n",
        "print (\"KNN, Count Vectors: \", accuracy)\n",
        "\n",
        "# KNN on Word Level TF IDF Vectors\n",
        "accuracy = train_model(KNeighborsClassifier(n_neighbors=17, p=5,metric='euclidean'), xtrain_tfidf, train_y, xvalid_tfidf)\n",
        "print (\"KNN, WordLevel TF-IDF: \", accuracy)\n",
        "\n",
        "# KNN on Ngram Level TF IDF Vectors\n",
        "accuracy = train_model(KNeighborsClassifier(n_neighbors=200, p=5,metric='euclidean'), xtrain_tfidf_ngram, train_y, xvalid_tfidf_ngram)\n",
        "print (\"KNN, Ngram Level TF-IDF: \", accuracy)\n",
        "\n",
        "# KNN on Character Level TF IDF Vectors\n",
        "accuracy = train_model(KNeighborsClassifier(n_neighbors=12, p=5,metric='euclidean'), xtrain_tfidf_ngram_chars, train_y, xvalid_tfidf_ngram_chars)\n",
        "print (\"KNN, Character Level TF IDF: \", accuracy)"
      ],
      "execution_count": null,
      "outputs": [
        {
          "output_type": "stream",
          "text": [
            "KNN, Count Vectors:  0.4746666666666667\n",
            "KNN, WordLevel TF-IDF:  0.624\n",
            "KNN, Ngram Level TF-IDF:  0.6506666666666666\n",
            "KNN, Character Level TF IDF:  0.7946666666666666\n"
          ],
          "name": "stdout"
        }
      ]
    },
    {
      "cell_type": "code",
      "metadata": {
        "id": "bG-txkF2M_3Q"
      },
      "source": [
        "def train_model(classifier, feature_vector_train, label, feature_vector_valid, is_neural_net=False):\n",
        "    # fit the training dataset on the classifier\n",
        "    classifier.fit(feature_vector_train, label)\n",
        "    \n",
        "    # predict the labels on validation dataset\n",
        "    predictions = classifier.predict(feature_vector_valid)\n",
        "    \n",
        "    if is_neural_net:\n",
        "        predictions = predictions.argmax(axis=-1)\n",
        "    \n",
        "    return metrics.accuracy_score(predictions, valid_y)"
      ],
      "execution_count": null,
      "outputs": []
    },
    {
      "cell_type": "code",
      "metadata": {
        "colab": {
          "base_uri": "https://localhost:8080/",
          "height": 350
        },
        "id": "9UhDrGZUi1xz",
        "outputId": "932bf22d-a8e0-48f4-8c53-b2868bc6e5ae"
      },
      "source": [
        "plt.rcParams[\"figure.figsize\"] = (6,5)\n",
        "\n",
        "knn = KNeighborsClassifier(n_neighbors=7)  \n",
        "knn = KNeighborsClassifier(n_neighbors=6)\n",
        "knn.fit(xtrain_count,train_y)\n",
        "\n",
        "no_neighbors = np.arange(1, 100)\n",
        "train_accuracy = np.empty(len(no_neighbors))\n",
        "test_accuracy = np.empty(len(no_neighbors))\n",
        "\n",
        "for i, k in enumerate(no_neighbors):\n",
        "    # We instantiate the classifier\n",
        "    knn = KNeighborsClassifier(n_neighbors=k)\n",
        "    # Fit the classifier to the training data\n",
        "    knn.fit(xtrain_count,train_y)\n",
        "    \n",
        "    # Compute accuracy on the training set\n",
        "    train_accuracy[i] = knn.score(xtrain_count,train_y)\n",
        "\n",
        "    # Compute accuracy on the testing set\n",
        "    test_accuracy[i] = knn.score(xtrain_count,train_y)\n",
        "\n",
        "plt.title('k-NN: Varying Number of Neighbors')\n",
        "plt.plot(no_neighbors, test_accuracy, label = 'Testing Accuracy')\n",
        "plt.plot(no_neighbors, train_accuracy, label = 'Training Accuracy')\n",
        "plt.legend()\n",
        "plt.xlabel('Number of Neighbors')\n",
        "plt.ylabel('Accuracy')\n",
        "plt.show()"
      ],
      "execution_count": null,
      "outputs": [
        {
          "output_type": "display_data",
          "data": {
            "image/png": "[encoded data removed]",
            "text/plain": [
              "<Figure size 432x360 with 1 Axes>"
            ]
          },
          "metadata": {
            "tags": [],
            "needs_background": "light"
          }
        }
      ]
    },
    {
      "cell_type": "code",
      "metadata": {
        "id": "OOdiE4bvyBke"
      },
      "source": [
        ""
      ],
      "execution_count": null,
      "outputs": []
    },
    {
      "cell_type": "markdown",
      "metadata": {
        "id": "ymRXeFbnS_1W"
      },
      "source": [
        "2.3 Text / NLP based features"
      ]
    },
    {
      "cell_type": "code",
      "metadata": {
        "id": "A3Tc93nwB3kX"
      },
      "source": [
        "# tokenization\n",
        "from sinling import SinhalaTokenizer as tokenizer,SinhalaStemmer as stemmer, POSTagger,preprocess, word_joiner,word_splitter\n",
        "from collections import Counter\n",
        "from itertools import chain\n",
        "df = pandas.read_csv('testdata-domains-balanced.csv')\n",
        "df['Text'] = df['Text'].apply(word_tokenize).tolist()\n",
        "\n",
        "# POS tagging\n",
        "tagger = POSTagger()\n",
        "df['Text'] = tagger.predict(df['Text'].tolist())\n",
        "df['Text'] = pd.Series(df['Text'].tolist())\n",
        "\n",
        "# Use collections.Counter and itertools.chain to flatten the list of list-> get the POS vocabulary\n",
        "tokens, tags = zip(*chain(*df['Text'].tolist()))\n",
        "possible_tags = sorted(set(tags))\n",
        "possible_tags_counter = Counter({p:0 for p in possible_tags})\n",
        "\n",
        "# Iterate through each tagged sentence and get the counts of POS\n",
        "df['Text'].apply(lambda x: Counter(list(zip(*x))[1]))\n",
        "df['pos_counts'] = df['Text'].apply(lambda x: Counter(list(zip(*x))[1]))\n",
        "df['pos_counts']\n",
        "\n",
        "# Add in the POS that don't appears in the sentence with 0 counts\n",
        "def add_pos_with_zero_counts(counter, keys_to_add):\n",
        "        for k in keys_to_add:\n",
        "            counter[k] = counter.get(k, 0)\n",
        "        return counter\n",
        "\n",
        "# Flatten the values into the list\n",
        "df['pos_counts'].apply(lambda x: add_pos_with_zero_counts(x, possible_tags))\n",
        "df['pos_counts_with_zero'] = df['pos_counts'].apply(lambda x: add_pos_with_zero_counts(x, possible_tags))\n",
        "\n",
        "df['pos_counts_with_zero'].apply(lambda x: [count for tag, count in sorted(x.most_common())])\n",
        "\n",
        "# Get the pos count vector \n",
        "df['sent_vector'] = df['pos_counts_with_zero'].apply(lambda x: [count for tag, count in sorted(x.most_common())])\n",
        "\n"
      ],
      "execution_count": null,
      "outputs": []
    },
    {
      "cell_type": "code",
      "metadata": {
        "id": "nmpxJdeVTBHT"
      },
      "source": [
        "df['char_count'] = trainDF['Text'].apply(len)\n",
        "df['word_count'] = trainDF['Text'].str.split().str.len()\n",
        "df['word_density'] = df['char_count'] / (df['word_count']+1)\n",
        "#trainDF['punctuation_count'] = trainDF['Filtered_sentence'].apply(lambda x: len(\"\".join(_ for _ in x if _ in string.punctuation))) \n",
        "#trainDF['title_word_count'] = trainDF['Filtered_sentence'].apply(lambda x: len([wrd for wrd in x.split() if wrd.istitle()]))\n",
        "#trainDF['upper_case_word_count'] = trainDF['Filtered_sentence'].apply(lambda x: len([wrd for wrd in x.split() if wrd.isupper()]))"
      ],
      "execution_count": null,
      "outputs": []
    },
    {
      "cell_type": "code",
      "metadata": {
        "colab": {
          "base_uri": "https://localhost:8080/",
          "height": 1000
        },
        "id": "gyM8AfSX9kGV",
        "outputId": "84efc73a-660d-4d6f-a34e-9c221e4a94b0"
      },
      "source": [
        "pd.set_option('display.max_colwidth', None)\n",
        "df"
      ],
      "execution_count": null,
      "outputs": [
        {
          "output_type": "execute_result",
          "data": {
            "text/html": [
              "<div>\n",
              "<style scoped>\n",
              "    .dataframe tbody tr th:only-of-type {\n",
              "        vertical-align: middle;\n",
              "    }\n",
              "\n",
              "    .dataframe tbody tr th {\n",
              "        vertical-align: top;\n",
              "    }\n",
              "\n",
              "    .dataframe thead th {\n",
              "        text-align: right;\n",
              "    }\n",
              "</style>\n",
              "<table border=\"1\" class=\"dataframe\">\n",
              "  <thead>\n",
              "    <tr style=\"text-align: right;\">\n",
              "      <th></th>\n",
              "      <th>Id</th>\n",
              "      <th>Text</th>\n",
              "      <th>Class</th>\n",
              "      <th>Filtered_sentence</th>\n",
              "      <th>pos_counts</th>\n",
              "      <th>pos_counts_with_zero</th>\n",
              "      <th>sent_vector</th>\n",
              "      <th>char_count</th>\n",
              "      <th>word_count</th>\n",
              "      <th>word_density</th>\n",
              "    </tr>\n",
              "  </thead>\n",
              "  <tbody>\n",
              "    <tr>\n",
              "      <th>0</th>\n",
              "      <td>0</td>\n",
              "      <td>[(දින, NNC), (ඒකාබද්ධ, JJ), (විපක්ෂයේ, NNC), (මාධ්‍ය, NNJ), (ලේකම්, NNC), (රේණුක, NNP), (පෙරේරා, NNP), (මහතාගේ, NNC), (නිවේදනයට, NNC), (අදාාලව, NNC), (අමිත්, JJ), (වීරසිංහ, NNC), (කල, VP), (මාධ්‍ය, NNJ), (සාකච්ඡාව…, NNC)]</td>\n",
              "      <td>Political</td>\n",
              "      <td>දින එකාබද්ධ විපක්ෂ මාධ්‍ ලේක රේනුක පෙරේර මහත නිවේදනය අදාාල අමි වීරසිංහ කල මාධ්‍ සාකච්චාව…</td>\n",
              "      <td>{'NNC': 8, 'JJ': 2, 'NNJ': 2, 'NNP': 2, 'VP': 1, 'ABB': 0, 'AUX': 0, 'CC': 0, 'CM': 0, 'DET': 0, 'FS': 0, 'JCV': 0, 'NCV': 0, 'NDT': 0, 'NIP': 0, 'NUM': 0, 'NVB': 0, 'POST': 0, 'PRP': 0, 'PUNC': 0, 'QBE': 0, 'QUE': 0, 'RB': 0, 'RP': 0, 'RRPCV': 0, 'UNK': 0, 'VFM': 0, 'VNF': 0, 'VNN': 0}</td>\n",
              "      <td>{'NNC': 8, 'JJ': 2, 'NNJ': 2, 'NNP': 2, 'VP': 1, 'ABB': 0, 'AUX': 0, 'CC': 0, 'CM': 0, 'DET': 0, 'FS': 0, 'JCV': 0, 'NCV': 0, 'NDT': 0, 'NIP': 0, 'NUM': 0, 'NVB': 0, 'POST': 0, 'PRP': 0, 'PUNC': 0, 'QBE': 0, 'QUE': 0, 'RB': 0, 'RP': 0, 'RRPCV': 0, 'UNK': 0, 'VFM': 0, 'VNF': 0, 'VNN': 0}</td>\n",
              "      <td>[0, 0, 0, 0, 0, 0, 0, 2, 0, 0, 0, 8, 2, 2, 0, 0, 0, 0, 0, 0, 0, 0, 0, 0, 0, 0, 0, 0, 1]</td>\n",
              "      <td>104</td>\n",
              "      <td>15</td>\n",
              "      <td>6.500000</td>\n",
              "    </tr>\n",
              "    <tr>\n",
              "      <th>1</th>\n",
              "      <td>1</td>\n",
              "      <td>[(මා, PRP), (UNP, NNC), (හෝ, CC), (ඒකාබද්ධ, JJ), (විපක්ෂය, NNC), (මගින්, POST), (හෝ, CC), (දැනට, RB), (පවතින, VP), (කිසිම, DET), (පක්ෂයකින්, NNC), (ඡන්දයකට, NNC), (ඉදිරිපත්, RRPCV), (වෙනවා, VP), (කියා, VNF), (නැ, NIP), (ඒකාබද්ධ, JJ), (විපක්ෂය, NNC), (වැනි, POST), (වි…, FS)]</td>\n",
              "      <td>Political</td>\n",
              "      <td>මා එක්සත් ජාතික පක්ෂ එකාබද්ධ විපක්ෂ පවති කිසි පක්ෂ චන්දයක ඉදිරිප වෙ කි නැ එකාබද්ධ විපක්ෂ වි…</td>\n",
              "      <td>{'PRP': 1, 'NNC': 5, 'CC': 2, 'JJ': 2, 'POST': 2, 'RB': 1, 'VP': 2, 'DET': 1, 'RRPCV': 1, 'VNF': 1, 'NIP': 1, 'FS': 1, 'ABB': 0, 'AUX': 0, 'CM': 0, 'JCV': 0, 'NCV': 0, 'NDT': 0, 'NNJ': 0, 'NNP': 0, 'NUM': 0, 'NVB': 0, 'PUNC': 0, 'QBE': 0, 'QUE': 0, 'RP': 0, 'UNK': 0, 'VFM': 0, 'VNN': 0}</td>\n",
              "      <td>{'PRP': 1, 'NNC': 5, 'CC': 2, 'JJ': 2, 'POST': 2, 'RB': 1, 'VP': 2, 'DET': 1, 'RRPCV': 1, 'VNF': 1, 'NIP': 1, 'FS': 1, 'ABB': 0, 'AUX': 0, 'CM': 0, 'JCV': 0, 'NCV': 0, 'NDT': 0, 'NNJ': 0, 'NNP': 0, 'NUM': 0, 'NVB': 0, 'PUNC': 0, 'QBE': 0, 'QUE': 0, 'RP': 0, 'UNK': 0, 'VFM': 0, 'VNN': 0}</td>\n",
              "      <td>[0, 0, 2, 0, 1, 1, 0, 2, 0, 0, 1, 5, 0, 0, 0, 0, 2, 1, 0, 0, 0, 1, 0, 1, 0, 0, 1, 0, 2]</td>\n",
              "      <td>117</td>\n",
              "      <td>20</td>\n",
              "      <td>5.571429</td>\n",
              "    </tr>\n",
              "    <tr>\n",
              "      <th>2</th>\n",
              "      <td>2</td>\n",
              "      <td>[(කිමද, NNC), (මේ, DET), (තරම්, POST), (කොහේදෝ, NNC), (ඇති, NIP), (විදපු, VP), (ගලක්, NNC), (හා, CC), (උරන, VP), (මා, PRP), (මිතුරු, NNC), (පරය, FS)]</td>\n",
              "      <td>Neutral</td>\n",
              "      <td>කිම තර කොහේද විද ගල උරන මා මිතුර පරය</td>\n",
              "      <td>{'NNC': 4, 'DET': 1, 'POST': 1, 'NIP': 1, 'VP': 2, 'CC': 1, 'PRP': 1, 'FS': 1, 'ABB': 0, 'AUX': 0, 'CM': 0, 'JCV': 0, 'JJ': 0, 'NCV': 0, 'NDT': 0, 'NNJ': 0, 'NNP': 0, 'NUM': 0, 'NVB': 0, 'PUNC': 0, 'QBE': 0, 'QUE': 0, 'RB': 0, 'RP': 0, 'RRPCV': 0, 'UNK': 0, 'VFM': 0, 'VNF': 0, 'VNN': 0}</td>\n",
              "      <td>{'NNC': 4, 'DET': 1, 'POST': 1, 'NIP': 1, 'VP': 2, 'CC': 1, 'PRP': 1, 'FS': 1, 'ABB': 0, 'AUX': 0, 'CM': 0, 'JCV': 0, 'JJ': 0, 'NCV': 0, 'NDT': 0, 'NNJ': 0, 'NNP': 0, 'NUM': 0, 'NVB': 0, 'PUNC': 0, 'QBE': 0, 'QUE': 0, 'RB': 0, 'RP': 0, 'RRPCV': 0, 'UNK': 0, 'VFM': 0, 'VNF': 0, 'VNN': 0}</td>\n",
              "      <td>[0, 0, 1, 0, 1, 1, 0, 0, 0, 0, 1, 4, 0, 0, 0, 0, 1, 1, 0, 0, 0, 0, 0, 0, 0, 0, 0, 0, 2]</td>\n",
              "      <td>57</td>\n",
              "      <td>12</td>\n",
              "      <td>4.384615</td>\n",
              "    </tr>\n",
              "    <tr>\n",
              "      <th>3</th>\n",
              "      <td>3</td>\n",
              "      <td>[(එහෙම, RB), (කොහොමද, NNC), (උනේ, VP), (😂😂, JJ), (පරය, NNC), (අපිව, PRP), (අයින්, NNP), (කරල, NNC), (නේ, VFM), (😂, FS)]</td>\n",
              "      <td>Neutral</td>\n",
              "      <td>එහෙ කොහොම උනේ 😂😂 පරය අපි අය කරල නේ 😂</td>\n",
              "      <td>{'RB': 1, 'NNC': 3, 'VP': 1, 'JJ': 1, 'PRP': 1, 'NNP': 1, 'VFM': 1, 'FS': 1, 'ABB': 0, 'AUX': 0, 'CC': 0, 'CM': 0, 'DET': 0, 'JCV': 0, 'NCV': 0, 'NDT': 0, 'NIP': 0, 'NNJ': 0, 'NUM': 0, 'NVB': 0, 'POST': 0, 'PUNC': 0, 'QBE': 0, 'QUE': 0, 'RP': 0, 'RRPCV': 0, 'UNK': 0, 'VNF': 0, 'VNN': 0}</td>\n",
              "      <td>{'RB': 1, 'NNC': 3, 'VP': 1, 'JJ': 1, 'PRP': 1, 'NNP': 1, 'VFM': 1, 'FS': 1, 'ABB': 0, 'AUX': 0, 'CC': 0, 'CM': 0, 'DET': 0, 'JCV': 0, 'NCV': 0, 'NDT': 0, 'NIP': 0, 'NNJ': 0, 'NUM': 0, 'NVB': 0, 'POST': 0, 'PUNC': 0, 'QBE': 0, 'QUE': 0, 'RP': 0, 'RRPCV': 0, 'UNK': 0, 'VNF': 0, 'VNN': 0}</td>\n",
              "      <td>[0, 0, 0, 0, 0, 1, 0, 1, 0, 0, 0, 3, 0, 1, 0, 0, 0, 1, 0, 0, 0, 1, 0, 0, 0, 1, 0, 0, 1]</td>\n",
              "      <td>47</td>\n",
              "      <td>10</td>\n",
              "      <td>4.272727</td>\n",
              "    </tr>\n",
              "    <tr>\n",
              "      <th>4</th>\n",
              "      <td>4</td>\n",
              "      <td>[(විමලයා, NNP), (ගොනෙක්, NNC), (වගෙ, RP), (stage, JJ), (එකෙ, NNC), (මෑරෙන්න, VNN), (හදනවා, VNF), (පරය, NNC), (රටට, NNC), (වෑඩක්, NNP), (කරපන්, NNP), (යකො, NNP), (හොරා, NNC)]</td>\n",
              "      <td>Political</td>\n",
              "      <td>විමල ගොන වගෙ  එකෙ මෑරෙ හද පරය රටට වෑඩ කර යකො හොර</td>\n",
              "      <td>{'NNP': 4, 'NNC': 5, 'RP': 1, 'JJ': 1, 'VNN': 1, 'VNF': 1, 'ABB': 0, 'AUX': 0, 'CC': 0, 'CM': 0, 'DET': 0, 'FS': 0, 'JCV': 0, 'NCV': 0, 'NDT': 0, 'NIP': 0, 'NNJ': 0, 'NUM': 0, 'NVB': 0, 'POST': 0, 'PRP': 0, 'PUNC': 0, 'QBE': 0, 'QUE': 0, 'RB': 0, 'RRPCV': 0, 'UNK': 0, 'VFM': 0, 'VP': 0}</td>\n",
              "      <td>{'NNP': 4, 'NNC': 5, 'RP': 1, 'JJ': 1, 'VNN': 1, 'VNF': 1, 'ABB': 0, 'AUX': 0, 'CC': 0, 'CM': 0, 'DET': 0, 'FS': 0, 'JCV': 0, 'NCV': 0, 'NDT': 0, 'NIP': 0, 'NNJ': 0, 'NUM': 0, 'NVB': 0, 'POST': 0, 'PRP': 0, 'PUNC': 0, 'QBE': 0, 'QUE': 0, 'RB': 0, 'RRPCV': 0, 'UNK': 0, 'VFM': 0, 'VP': 0}</td>\n",
              "      <td>[0, 0, 0, 0, 0, 0, 0, 1, 0, 0, 0, 5, 0, 4, 0, 0, 0, 0, 0, 0, 0, 0, 1, 0, 0, 0, 1, 1, 0]</td>\n",
              "      <td>70</td>\n",
              "      <td>13</td>\n",
              "      <td>5.000000</td>\n",
              "    </tr>\n",
              "    <tr>\n",
              "      <th>...</th>\n",
              "      <td>...</td>\n",
              "      <td>...</td>\n",
              "      <td>...</td>\n",
              "      <td>...</td>\n",
              "      <td>...</td>\n",
              "      <td>...</td>\n",
              "      <td>...</td>\n",
              "      <td>...</td>\n",
              "      <td>...</td>\n",
              "      <td>...</td>\n",
              "    </tr>\n",
              "    <tr>\n",
              "      <th>1674</th>\n",
              "      <td>1705</td>\n",
              "      <td>[(පීටීඒ, NNP), (සහ, CC), (අයිසීසීපීආර්, NNP), (පනත, NNC), (යටතේ, POST), (වැරදි, NNC), (ලෙස, POST), (ගොනු, NCV), (කර, VNF), (ඇති, NIP), (විමර්ශන, NNC), (හෝ, CC), (නඩු, NNJ), (ප්‍රමාද, NNC), (වීම, VNN), (පිළිබඳව, POST), (ඔබ, PRP), (සතුටු, NNC), (නොවන්නේ, VP), (නම්, POST), (කරුණාකර, NNC), (මුහීඩ්, NNP), (ජීරාන්, NNP), (මානව, JJ), (හිමිකම්, NNJ), (ක්‍රියාකාරික, NNC), (වෙත, POST), (දන්වන්න, VNN)]</td>\n",
              "      <td>Racist</td>\n",
              "      <td>පීටීඑ අයිසීසීපීඅර පනත යටත වැරදි ගො කර විමර්ෂ නඩු ප්‍රමා වීම ඔබ සතුට නොව කරුනාකර මුහීඩ ජීරා මාන හිමික ක්‍රියාකාරික දන්ව</td>\n",
              "      <td>{'NNP': 4, 'CC': 2, 'NNC': 7, 'POST': 5, 'NCV': 1, 'VNF': 1, 'NIP': 1, 'NNJ': 2, 'VNN': 2, 'PRP': 1, 'VP': 1, 'JJ': 1, 'ABB': 0, 'AUX': 0, 'CM': 0, 'DET': 0, 'FS': 0, 'JCV': 0, 'NDT': 0, 'NUM': 0, 'NVB': 0, 'PUNC': 0, 'QBE': 0, 'QUE': 0, 'RB': 0, 'RP': 0, 'RRPCV': 0, 'UNK': 0, 'VFM': 0}</td>\n",
              "      <td>{'NNP': 4, 'CC': 2, 'NNC': 7, 'POST': 5, 'NCV': 1, 'VNF': 1, 'NIP': 1, 'NNJ': 2, 'VNN': 2, 'PRP': 1, 'VP': 1, 'JJ': 1, 'ABB': 0, 'AUX': 0, 'CM': 0, 'DET': 0, 'FS': 0, 'JCV': 0, 'NDT': 0, 'NUM': 0, 'NVB': 0, 'PUNC': 0, 'QBE': 0, 'QUE': 0, 'RB': 0, 'RP': 0, 'RRPCV': 0, 'UNK': 0, 'VFM': 0}</td>\n",
              "      <td>[0, 0, 2, 0, 0, 0, 0, 1, 1, 0, 1, 7, 2, 4, 0, 0, 5, 1, 0, 0, 0, 0, 0, 0, 0, 0, 1, 2, 1]</td>\n",
              "      <td>168</td>\n",
              "      <td>28</td>\n",
              "      <td>5.793103</td>\n",
              "    </tr>\n",
              "    <tr>\n",
              "      <th>1675</th>\n",
              "      <td>1706</td>\n",
              "      <td>[(අරාබි, NNP), (රටවල්, NNC), (මුස්ලිම්, NNP), (නොවන, VP), (සඳහා, POST), (සුපිරි, JJ), (වෙළඳසැල්, NNC), (වල, CM), (තිබුණු, VP), (ඌරු, JJ), (මස්, NNC), (අවසර, VNF), (ඇත, NIP), (මනුෂ්‍යත්වයට, NNC), (ගරු, JCV), (කරන්න, VNN)]</td>\n",
              "      <td>Racist</td>\n",
              "      <td>අරාබි රට මුස්ලි නොව සුපිරි වෙලදසැල වල තිබ උරු මස් අවසර ඇත මනුෂ්‍යත්වය ගරු කර</td>\n",
              "      <td>{'NNP': 2, 'NNC': 4, 'VP': 2, 'POST': 1, 'JJ': 2, 'CM': 1, 'VNF': 1, 'NIP': 1, 'JCV': 1, 'VNN': 1, 'ABB': 0, 'AUX': 0, 'CC': 0, 'DET': 0, 'FS': 0, 'NCV': 0, 'NDT': 0, 'NNJ': 0, 'NUM': 0, 'NVB': 0, 'PRP': 0, 'PUNC': 0, 'QBE': 0, 'QUE': 0, 'RB': 0, 'RP': 0, 'RRPCV': 0, 'UNK': 0, 'VFM': 0}</td>\n",
              "      <td>{'NNP': 2, 'NNC': 4, 'VP': 2, 'POST': 1, 'JJ': 2, 'CM': 1, 'VNF': 1, 'NIP': 1, 'JCV': 1, 'VNN': 1, 'ABB': 0, 'AUX': 0, 'CC': 0, 'DET': 0, 'FS': 0, 'NCV': 0, 'NDT': 0, 'NNJ': 0, 'NUM': 0, 'NVB': 0, 'PRP': 0, 'PUNC': 0, 'QBE': 0, 'QUE': 0, 'RB': 0, 'RP': 0, 'RRPCV': 0, 'UNK': 0, 'VFM': 0}</td>\n",
              "      <td>[0, 0, 0, 1, 0, 0, 1, 2, 0, 0, 1, 4, 0, 2, 0, 0, 1, 0, 0, 0, 0, 0, 0, 0, 0, 0, 1, 1, 2]</td>\n",
              "      <td>95</td>\n",
              "      <td>16</td>\n",
              "      <td>5.588235</td>\n",
              "    </tr>\n",
              "    <tr>\n",
              "      <th>1676</th>\n",
              "      <td>1707</td>\n",
              "      <td>[(හැවිරිදි, POST), (මුස්ලිම්, NNP), (පිරිමි, JJ), (ළමයෙක්, NNC), (ඉස්ලාම්, NNP), (භීතිකාවේ, NNP), (ඉලක්කය, NNC), (බවට, POST), (පත්වූ, VP), (අතර, POST), (ගෝලීය, JJ), (විවෘත, JJ), (රජයේ, NNC), (සමුළු, NNJ), (අවස්ථාව, NNC), (සඳහා, POST), (ඔහුගේ, PRP), (නියෝජනය, NNC), (විනාශ, NCV), (විය, VP)]</td>\n",
              "      <td>Racist</td>\n",
              "      <td>හැවිරිදි මුස්ලි පිරි ලමය ඉස්ලා බීතික ඉලක්ක පත්ව ගෝල විවෘත රජ සමුල අවස්ථා ඔහු නියෝජන විනාෂ විය</td>\n",
              "      <td>{'POST': 4, 'NNP': 3, 'JJ': 3, 'NNC': 5, 'VP': 2, 'NNJ': 1, 'PRP': 1, 'NCV': 1, 'ABB': 0, 'AUX': 0, 'CC': 0, 'CM': 0, 'DET': 0, 'FS': 0, 'JCV': 0, 'NDT': 0, 'NIP': 0, 'NUM': 0, 'NVB': 0, 'PUNC': 0, 'QBE': 0, 'QUE': 0, 'RB': 0, 'RP': 0, 'RRPCV': 0, 'UNK': 0, 'VFM': 0, 'VNF': 0, 'VNN': 0}</td>\n",
              "      <td>{'POST': 4, 'NNP': 3, 'JJ': 3, 'NNC': 5, 'VP': 2, 'NNJ': 1, 'PRP': 1, 'NCV': 1, 'ABB': 0, 'AUX': 0, 'CC': 0, 'CM': 0, 'DET': 0, 'FS': 0, 'JCV': 0, 'NDT': 0, 'NIP': 0, 'NUM': 0, 'NVB': 0, 'PUNC': 0, 'QBE': 0, 'QUE': 0, 'RB': 0, 'RP': 0, 'RRPCV': 0, 'UNK': 0, 'VFM': 0, 'VNF': 0, 'VNN': 0}</td>\n",
              "      <td>[0, 0, 0, 0, 0, 0, 0, 3, 1, 0, 0, 5, 1, 3, 0, 0, 4, 1, 0, 0, 0, 0, 0, 0, 0, 0, 0, 0, 2]</td>\n",
              "      <td>130</td>\n",
              "      <td>20</td>\n",
              "      <td>6.190476</td>\n",
              "    </tr>\n",
              "    <tr>\n",
              "      <th>1677</th>\n",
              "      <td>1708</td>\n",
              "      <td>[(ශ්‍රී, NNP), (ලංකාවේ, NNP), (මුස්ලිම්, NNP), (ප්‍රජාව, NNC), (වෙත, POST), (එල්ල, NCV), (කරන, VP), (දේශපාලන, JJ), (හා, CC), (ආගමික, JJ), (පීඩනය, NNC), (සම්බන්ධයෙන්, POST), (යුරෝපා, NNP), (සංගමයේ, NNC), (ඒකාබද්ධ, JJ), (ප්‍රකාශය, NNC)]</td>\n",
              "      <td>Racist</td>\n",
              "      <td>ලංක මුස්ලි ප්‍රජා එල් කරන දේෂපාල අගමික පීඩන සම්බන්ධ යුරෝප සංගම එකාබද්ධ ප්‍රකාෂ</td>\n",
              "      <td>{'NNP': 4, 'NNC': 4, 'POST': 2, 'NCV': 1, 'VP': 1, 'JJ': 3, 'CC': 1, 'ABB': 0, 'AUX': 0, 'CM': 0, 'DET': 0, 'FS': 0, 'JCV': 0, 'NDT': 0, 'NIP': 0, 'NNJ': 0, 'NUM': 0, 'NVB': 0, 'PRP': 0, 'PUNC': 0, 'QBE': 0, 'QUE': 0, 'RB': 0, 'RP': 0, 'RRPCV': 0, 'UNK': 0, 'VFM': 0, 'VNF': 0, 'VNN': 0}</td>\n",
              "      <td>{'NNP': 4, 'NNC': 4, 'POST': 2, 'NCV': 1, 'VP': 1, 'JJ': 3, 'CC': 1, 'ABB': 0, 'AUX': 0, 'CM': 0, 'DET': 0, 'FS': 0, 'JCV': 0, 'NDT': 0, 'NIP': 0, 'NNJ': 0, 'NUM': 0, 'NVB': 0, 'PRP': 0, 'PUNC': 0, 'QBE': 0, 'QUE': 0, 'RB': 0, 'RP': 0, 'RRPCV': 0, 'UNK': 0, 'VFM': 0, 'VNF': 0, 'VNN': 0}</td>\n",
              "      <td>[0, 0, 1, 0, 0, 0, 0, 3, 1, 0, 0, 4, 0, 4, 0, 0, 2, 0, 0, 0, 0, 0, 0, 0, 0, 0, 0, 0, 1]</td>\n",
              "      <td>109</td>\n",
              "      <td>16</td>\n",
              "      <td>6.411765</td>\n",
              "    </tr>\n",
              "    <tr>\n",
              "      <th>1678</th>\n",
              "      <td>1709</td>\n",
              "      <td>[(රාජ්‍ය, JJ), (අංශයේ, NNC), (කාන්තා, JJ), (ඇඳුම්, NNC), (පැළඳුම්, NNJ), (සංග්‍රහය, NNC), (පිළිබඳ, POST), (දිනැති, JJ), (පබ්අඩ්, JJ), (චක්‍රලේඛ, NNC), (අංක, NNC), (පාලනය, NCV), (කරන, VP), (අගමැති, NNJ), (කාර්යාලයේ, NNC), (ලිපිය, NNC)]</td>\n",
              "      <td>Racist</td>\n",
              "      <td>රාජ්‍ අංෂ කාන්ත ඇද පැලද සංග්‍රහ දිනැ පබ්අඩ චක්‍රලේක අංක පාලන කරන අගමැ කාර්යාල ලි</td>\n",
              "      <td>{'JJ': 4, 'NNC': 7, 'NNJ': 2, 'POST': 1, 'NCV': 1, 'VP': 1, 'ABB': 0, 'AUX': 0, 'CC': 0, 'CM': 0, 'DET': 0, 'FS': 0, 'JCV': 0, 'NDT': 0, 'NIP': 0, 'NNP': 0, 'NUM': 0, 'NVB': 0, 'PRP': 0, 'PUNC': 0, 'QBE': 0, 'QUE': 0, 'RB': 0, 'RP': 0, 'RRPCV': 0, 'UNK': 0, 'VFM': 0, 'VNF': 0, 'VNN': 0}</td>\n",
              "      <td>{'JJ': 4, 'NNC': 7, 'NNJ': 2, 'POST': 1, 'NCV': 1, 'VP': 1, 'ABB': 0, 'AUX': 0, 'CC': 0, 'CM': 0, 'DET': 0, 'FS': 0, 'JCV': 0, 'NDT': 0, 'NIP': 0, 'NNP': 0, 'NUM': 0, 'NVB': 0, 'PRP': 0, 'PUNC': 0, 'QBE': 0, 'QUE': 0, 'RB': 0, 'RP': 0, 'RRPCV': 0, 'UNK': 0, 'VFM': 0, 'VNF': 0, 'VNN': 0}</td>\n",
              "      <td>[0, 0, 0, 0, 0, 0, 0, 4, 1, 0, 0, 7, 2, 0, 0, 0, 1, 0, 0, 0, 0, 0, 0, 0, 0, 0, 0, 0, 1]</td>\n",
              "      <td>111</td>\n",
              "      <td>16</td>\n",
              "      <td>6.529412</td>\n",
              "    </tr>\n",
              "  </tbody>\n",
              "</table>\n",
              "<p>1679 rows × 10 columns</p>\n",
              "</div>"
            ],
            "text/plain": [
              "        Id  ... word_density\n",
              "0        0  ...     6.500000\n",
              "1        1  ...     5.571429\n",
              "2        2  ...     4.384615\n",
              "3        3  ...     4.272727\n",
              "4        4  ...     5.000000\n",
              "...    ...  ...          ...\n",
              "1674  1705  ...     5.793103\n",
              "1675  1706  ...     5.588235\n",
              "1676  1707  ...     6.190476\n",
              "1677  1708  ...     6.411765\n",
              "1678  1709  ...     6.529412\n",
              "\n",
              "[1679 rows x 10 columns]"
            ]
          },
          "metadata": {
            "tags": []
          },
          "execution_count": 21
        }
      ]
    },
    {
      "cell_type": "code",
      "metadata": {
        "colab": {
          "base_uri": "https://localhost:8080/"
        },
        "id": "oeEhQqN89wdS",
        "outputId": "95443319-5dbb-4973-edd0-e0ae5860f624"
      },
      "source": [
        "pd.set_option('display.max_colwidth', None)\n",
        "df['sent_vector']"
      ],
      "execution_count": null,
      "outputs": [
        {
          "output_type": "execute_result",
          "data": {
            "text/plain": [
              "0       [0, 0, 0, 0, 0, 0, 0, 2, 0, 0, 0, 8, 2, 2, 0, 0, 0, 0, 0, 0, 0, 0, 0, 0, 0, 0, 0, 0, 1]\n",
              "1       [0, 0, 2, 0, 1, 1, 0, 2, 0, 0, 1, 5, 0, 0, 0, 0, 2, 1, 0, 0, 0, 1, 0, 1, 0, 0, 1, 0, 2]\n",
              "2       [0, 0, 1, 0, 1, 1, 0, 0, 0, 0, 1, 4, 0, 0, 0, 0, 1, 1, 0, 0, 0, 0, 0, 0, 0, 0, 0, 0, 2]\n",
              "3       [0, 0, 0, 0, 0, 1, 0, 1, 0, 0, 0, 3, 0, 1, 0, 0, 0, 1, 0, 0, 0, 1, 0, 0, 0, 1, 0, 0, 1]\n",
              "4       [0, 0, 0, 0, 0, 0, 0, 1, 0, 0, 0, 5, 0, 4, 0, 0, 0, 0, 0, 0, 0, 0, 1, 0, 0, 0, 1, 1, 0]\n",
              "                                                 ...                                           \n",
              "1674    [0, 0, 2, 0, 0, 0, 0, 1, 1, 0, 1, 7, 2, 4, 0, 0, 5, 1, 0, 0, 0, 0, 0, 0, 0, 0, 1, 2, 1]\n",
              "1675    [0, 0, 0, 1, 0, 0, 1, 2, 0, 0, 1, 4, 0, 2, 0, 0, 1, 0, 0, 0, 0, 0, 0, 0, 0, 0, 1, 1, 2]\n",
              "1676    [0, 0, 0, 0, 0, 0, 0, 3, 1, 0, 0, 5, 1, 3, 0, 0, 4, 1, 0, 0, 0, 0, 0, 0, 0, 0, 0, 0, 2]\n",
              "1677    [0, 0, 1, 0, 0, 0, 0, 3, 1, 0, 0, 4, 0, 4, 0, 0, 2, 0, 0, 0, 0, 0, 0, 0, 0, 0, 0, 0, 1]\n",
              "1678    [0, 0, 0, 0, 0, 0, 0, 4, 1, 0, 0, 7, 2, 0, 0, 0, 1, 0, 0, 0, 0, 0, 0, 0, 0, 0, 0, 0, 1]\n",
              "Name: sent_vector, Length: 1679, dtype: object"
            ]
          },
          "metadata": {
            "tags": []
          },
          "execution_count": 40
        }
      ]
    },
    {
      "cell_type": "code",
      "metadata": {
        "id": "mk-S7OGx3pIW"
      },
      "source": [
        "from sklearn import metrics\n",
        "from sklearn.model_selection import train_test_split\n",
        "from sklearn.metrics import accuracy_score\n",
        "from numpy import array\n",
        "\n",
        "# pos_counts\n",
        "data=[]\n",
        "for i in df[\"sent_vector\"].values:\n",
        "    temp=[]\n",
        "    for j in i:\n",
        "        temp.append(j)\n",
        "    data.append(temp)\n",
        "data=np.array(data)\n",
        "\n",
        "y=df['Class'].values\n"
      ],
      "execution_count": null,
      "outputs": []
    },
    {
      "cell_type": "code",
      "metadata": {
        "colab": {
          "base_uri": "https://localhost:8080/"
        },
        "id": "36VJ842s371I",
        "outputId": "a7801029-10b1-4203-d860-8f2e0471c301"
      },
      "source": [
        "#RF\n",
        "model = ensemble.RandomForestClassifier()\n",
        "X_train, X_test, Y_train, Y_test = train_test_split(data,y,test_size=0.5, random_state=42)\n",
        "#train_x, valid_x, train_y, valid_y = model.train_test_split(trainDF['Filtered_sentence'], trainDF['Class'])\n",
        "\n",
        "model.fit(X_train, Y_train)\n",
        "\n",
        "predictions = model.predict(X_test)\n",
        "print('RF, pos_counts Accuracy: ', accuracy_score(Y_test.astype(str), predictions.astype(str)))"
      ],
      "execution_count": null,
      "outputs": [
        {
          "output_type": "stream",
          "text": [
            "RF, pos_counts Accuracy:  0.5797619047619048\n"
          ],
          "name": "stdout"
        }
      ]
    },
    {
      "cell_type": "code",
      "metadata": {
        "colab": {
          "base_uri": "https://localhost:8080/"
        },
        "id": "p1Mhxz0YzMfa",
        "outputId": "32421e4d-3bce-49b0-fbae-0fb0b41454e9"
      },
      "source": [
        "#svm\n",
        "model = svm.SVC()\n",
        "X_train, X_test, Y_train, Y_test = train_test_split(data,y,test_size=0.5, random_state=42)\n",
        "#train_x, valid_x, train_y, valid_y = model.train_test_split(trainDF['Filtered_sentence'], trainDF['Class'])\n",
        "\n",
        "model.fit(X_train, Y_train)\n",
        "\n",
        "predictions = model.predict(X_test)\n",
        "print('svm, pos_counts Accuracy: ', accuracy_score(Y_test.astype(str), predictions.astype(str)))"
      ],
      "execution_count": null,
      "outputs": [
        {
          "output_type": "stream",
          "text": [
            "svm, pos_counts Accuracy:  0.5880952380952381\n"
          ],
          "name": "stdout"
        }
      ]
    },
    {
      "cell_type": "code",
      "metadata": {
        "colab": {
          "base_uri": "https://localhost:8080/"
        },
        "id": "_FnHd73IO37x",
        "outputId": "953593a3-e97c-45be-f758-28be9d6a1a57"
      },
      "source": [
        "# LR\n",
        "model = linear_model.LogisticRegression()\n",
        "X_train, X_test, Y_train, Y_test = train_test_split(data,y,test_size=0.5, random_state=42)\n",
        "#train_x, valid_x, train_y, valid_y = model.train_test_split(trainDF['Filtered_sentence'], trainDF['Class'])\n",
        "\n",
        "model.fit(X_train, Y_train)\n",
        "\n",
        "predictions = model.predict(X_test)\n",
        "print('LR, pos_counts Accuracy: ', accuracy_score(Y_test.astype(str), predictions.astype(str)))"
      ],
      "execution_count": null,
      "outputs": [
        {
          "output_type": "stream",
          "text": [
            "LR, pos_counts Accuracy:  0.5630952380952381\n"
          ],
          "name": "stdout"
        },
        {
          "output_type": "stream",
          "text": [
            "/usr/local/lib/python3.7/dist-packages/sklearn/linear_model/_logistic.py:940: ConvergenceWarning: lbfgs failed to converge (status=1):\n",
            "STOP: TOTAL NO. of ITERATIONS REACHED LIMIT.\n",
            "\n",
            "Increase the number of iterations (max_iter) or scale the data as shown in:\n",
            "    https://scikit-learn.org/stable/modules/preprocessing.html\n",
            "Please also refer to the documentation for alternative solver options:\n",
            "    https://scikit-learn.org/stable/modules/linear_model.html#logistic-regression\n",
            "  extra_warning_msg=_LOGISTIC_SOLVER_CONVERGENCE_MSG)\n"
          ],
          "name": "stderr"
        }
      ]
    },
    {
      "cell_type": "code",
      "metadata": {
        "colab": {
          "base_uri": "https://localhost:8080/"
        },
        "id": "Ub4lOf6FO8ay",
        "outputId": "13f9a8e4-898c-459b-c6f6-261de5592d9b"
      },
      "source": [
        "# SGD\n",
        "model = linear_model.SGDClassifier(loss='hinge', penalty='l2',alpha=1e-3, random_state=42, max_iter=5, tol=None)\n",
        "X_train, X_test, Y_train, Y_test = train_test_split(data,y,test_size=0.5, random_state=42)\n",
        "#train_x, valid_x, train_y, valid_y = model.train_test_split(trainDF['Filtered_sentence'], trainDF['Class'])\n",
        "\n",
        "model.fit(X_train, Y_train)\n",
        "\n",
        "predictions = model.predict(X_test)\n",
        "print('SGD, pos_counts Accuracy: ', accuracy_score(Y_test.astype(str), predictions.astype(str)))"
      ],
      "execution_count": null,
      "outputs": [
        {
          "output_type": "stream",
          "text": [
            "SGD, pos_counts Accuracy:  0.5511904761904762\n"
          ],
          "name": "stdout"
        }
      ]
    },
    {
      "cell_type": "code",
      "metadata": {
        "colab": {
          "base_uri": "https://localhost:8080/"
        },
        "id": "9x83TcUsO-CT",
        "outputId": "a1902034-dbf3-49df-e0a9-4977c4ebe676"
      },
      "source": [
        "# NB\n",
        "model = naive_bayes.MultinomialNB()\n",
        "X_train, X_test, Y_train, Y_test = train_test_split(data,y,test_size=0.5, random_state=42)\n",
        "#train_x, valid_x, train_y, valid_y = model.train_test_split(trainDF['Filtered_sentence'], trainDF['Class'])\n",
        "\n",
        "model.fit(X_train, Y_train)\n",
        "\n",
        "predictions = model.predict(X_test)\n",
        "print('NB, pos_counts Accuracy: ', accuracy_score(Y_test.astype(str), predictions.astype(str)))"
      ],
      "execution_count": null,
      "outputs": [
        {
          "output_type": "stream",
          "text": [
            "NB, pos_counts Accuracy:  0.5428571428571428\n"
          ],
          "name": "stdout"
        }
      ]
    },
    {
      "cell_type": "markdown",
      "metadata": {
        "id": "4tRwzV_3IXl6"
      },
      "source": [
        "Checked accuracy with balanced domain data"
      ]
    },
    {
      "cell_type": "code",
      "metadata": {
        "colab": {
          "base_uri": "https://localhost:8080/"
        },
        "id": "HXOT7yaCIO5C",
        "outputId": "a62a5a29-ba97-4b42-cc5f-358f6654313f"
      },
      "source": [
        "#RF\n",
        "model = ensemble.RandomForestClassifier()\n",
        "X_train, X_test, Y_train, Y_test = train_test_split(data,y,test_size=0.5, random_state=42)\n",
        "#train_x, valid_x, train_y, valid_y = model.train_test_split(trainDF['Filtered_sentence'], trainDF['Class'])\n",
        "\n",
        "model.fit(X_train, Y_train)\n",
        "\n",
        "predictions = model.predict(X_test)\n",
        "print('RF, pos_counts Accuracy: ', accuracy_score(Y_test.astype(str), predictions.astype(str)))"
      ],
      "execution_count": null,
      "outputs": [
        {
          "output_type": "stream",
          "text": [
            "RF, pos_counts Accuracy:  0.2953020134228188\n"
          ],
          "name": "stdout"
        }
      ]
    },
    {
      "cell_type": "code",
      "metadata": {
        "colab": {
          "base_uri": "https://localhost:8080/"
        },
        "id": "o59fIJfrIS-u",
        "outputId": "edcd91ca-59cd-49f3-bc1a-40b8b382bbe2"
      },
      "source": [
        "#svm\n",
        "model = svm.SVC()\n",
        "X_train, X_test, Y_train, Y_test = train_test_split(data,y,test_size=0.5, random_state=42)\n",
        "#train_x, valid_x, train_y, valid_y = model.train_test_split(trainDF['Filtered_sentence'], trainDF['Class'])\n",
        "\n",
        "model.fit(X_train, Y_train)\n",
        "\n",
        "predictions = model.predict(X_test)\n",
        "print('svm, pos_counts Accuracy: ', accuracy_score(Y_test.astype(str), predictions.astype(str)))"
      ],
      "execution_count": null,
      "outputs": [
        {
          "output_type": "stream",
          "text": [
            "svm, pos_counts Accuracy:  0.28635346756152125\n"
          ],
          "name": "stdout"
        }
      ]
    },
    {
      "cell_type": "markdown",
      "metadata": {
        "id": "bmYG6owa6a9o"
      },
      "source": [
        "word count"
      ]
    },
    {
      "cell_type": "code",
      "metadata": {
        "colab": {
          "base_uri": "https://localhost:8080/"
        },
        "id": "O4UZmUPocP0D",
        "outputId": "a508898d-8c49-4fb1-9f5e-23c6406dee41"
      },
      "source": [
        "#MultinomialNB\n",
        "#\tword count\n",
        "X=df['word_count'].values\n",
        "y=df['Class'].values\n",
        "\n",
        "X=X.reshape(-1,1)\n",
        "\n",
        "model = naive_bayes.MultinomialNB()\n",
        "X_train, X_test, Y_train, Y_test = train_test_split(X,y,test_size=0.8, random_state=100)\n",
        "#train_x, valid_x, train_y, valid_y = model.train_test_split(trainDF['Filtered_sentence'], trainDF['Class'])\n",
        "\n",
        "model.fit(X_train, Y_train)\n",
        "\n",
        "predictions = model.predict(X_test)\n",
        "print('NB, word_count Accuracy: ', accuracy_score(Y_test.astype(str), predictions.astype(str)) * 100)"
      ],
      "execution_count": null,
      "outputs": [
        {
          "output_type": "stream",
          "text": [
            "NB, word_count Accuracy:  55.87797619047619\n"
          ],
          "name": "stdout"
        }
      ]
    },
    {
      "cell_type": "code",
      "metadata": {
        "colab": {
          "base_uri": "https://localhost:8080/"
        },
        "id": "WTT-d-brTdKb",
        "outputId": "f50ceb48-e735-4cd8-f932-1d90fc8ac8c9"
      },
      "source": [
        "#RF\n",
        "from sklearn.multiclass import OneVsRestClassifier\n",
        "#Random forest\n",
        "n_classes=6\n",
        "\n",
        "#\tword_density\n",
        "X=df['word_density'].values\n",
        "y=df['Class'].values\n",
        "\n",
        "X=X.reshape(-1,1)\n",
        "\n",
        "X_train, X_test, Y_train, Y_test = train_test_split(X,y)\n",
        "\n",
        "RF_clf = OneVsRestClassifier(ensemble.RandomForestClassifier())\n",
        "RF_clf.fit(X_train,Y_train)\n",
        "y_pred = RF_clf.predict(X_test)\n",
        "\n",
        "print(\"Accuracy: \", RF_clf.score(X_test,Y_test))"
      ],
      "execution_count": null,
      "outputs": [
        {
          "output_type": "stream",
          "text": [
            "Accuracy:  0.4642857142857143\n"
          ],
          "name": "stdout"
        }
      ]
    },
    {
      "cell_type": "code",
      "metadata": {
        "id": "GH4TCjGvAqBd"
      },
      "source": [
        "from sklearn.naive_bayes import GaussianNB\n",
        "from sklearn import metrics\n",
        "from sklearn.model_selection import train_test_split\n",
        "from sklearn.metrics import accuracy_score\n",
        "from numpy import array\n",
        "\n",
        "# pos_counts\n",
        "data=[]\n",
        "for i in df[\"sent_vector\"].values:\n",
        "    temp=[]\n",
        "    for j in i:\n",
        "        temp.append(j)\n",
        "    data.append(temp)\n",
        "data=np.array(data)\n",
        "\n",
        "y=df['Class'].values\n",
        "\n",
        "model = ensemble.RandomForestClassifier()\n",
        "X_train, X_test, Y_train, Y_test = train_test_split(data,y,test_size=0.5, random_state=42)\n",
        "#train_x, valid_x, train_y, valid_y = model.train_test_split(trainDF['Filtered_sentence'], trainDF['Class'])\n",
        "\n",
        "model.fit(X_train, Y_train)\n",
        "\n",
        "predictions = model.predict(X_test)\n",
        "print('RF, pos_counts Accuracy: ', accuracy_score(Y_test.astype(str), predictions.astype(str)))"
      ],
      "execution_count": null,
      "outputs": []
    }
  ]
}