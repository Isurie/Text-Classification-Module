{
  "nbformat": 4,
  "nbformat_minor": 0,
  "metadata": {
    "colab": {
      "name": "TextPreprocessing.ipynb",
      "provenance": [],
      "collapsed_sections": [],
      "authorship_tag": "ABX9TyMcWkVTUh9zr7oVwHGIU2Mr",
      "include_colab_link": true
    },
    "kernelspec": {
      "name": "python3",
      "display_name": "Python 3"
    }
  },
  "cells": [
    {
      "cell_type": "markdown",
      "metadata": {
        "id": "view-in-github",
        "colab_type": "text"
      },
      "source": [
        "<a href=\"https://colab.research.google.com/github/Isurie/Text-Classification-Module/blob/master/TextPreprocessing.ipynb\" target=\"_parent\"><img src=\"https://colab.research.google.com/assets/colab-badge.svg\" alt=\"Open In Colab\"/></a>"
      ]
    },
    {
      "cell_type": "code",
      "metadata": {
        "id": "nWIddJtszatL"
      },
      "source": [
        "pip install sinling"
      ],
      "execution_count": null,
      "outputs": []
    },
    {
      "cell_type": "code",
      "metadata": {
        "id": "G3gq4hbgzpbC"
      },
      "source": [
        "pip install advertools"
      ],
      "execution_count": null,
      "outputs": []
    },
    {
      "cell_type": "code",
      "metadata": {
        "id": "MeXSB5FcZy9f"
      },
      "source": [
        "pip install translate"
      ],
      "execution_count": null,
      "outputs": []
    },
    {
      "cell_type": "code",
      "metadata": {
        "id": "f0oYF8Tp-MYk"
      },
      "source": [
        "pip install pyenchant"
      ],
      "execution_count": null,
      "outputs": []
    },
    {
      "cell_type": "code",
      "metadata": {
        "id": "15vfbtvabk4g"
      },
      "source": [
        "from sinling import SinhalaTokenizer as tokenizer,SinhalaStemmer as stemmer, POSTagger,preprocess, word_joiner,word_splitter\n",
        "from nltk.tokenize import sent_tokenize,word_tokenize,TweetTokenizer\n",
        "from nltk.probability import FreqDist\n",
        "import advertools as adv\n",
        "from pathlib import Path\n",
        "import string\n",
        "\n",
        "import numpy as np\n",
        "import pandas as pd\n",
        "\n",
        "import matplotlib.pyplot as plt\n",
        "import seaborn as sns\n",
        "\n",
        "from sklearn.linear_model import LogisticRegression\n",
        "from sklearn.model_selection import train_test_split, GridSearchCV\n",
        "from sklearn.pipeline import Pipeline\n",
        "from sklearn import metrics\n",
        "from sklearn.metrics import accuracy_score, recall_score, precision_score, confusion_matrix\n",
        "\n",
        "from sklearn.feature_extraction.text import TfidfVectorizer,CountVectorizer\n",
        "from sklearn.naive_bayes import MultinomialNB,GaussianNB,BernoulliNB\n",
        "from sklearn import linear_model\n",
        "\n",
        "import codecs\n",
        "import nltk\n",
        "nltk.download('punkt')\n",
        "import re\n",
        "\n",
        "from nltk.corpus import stopwords\n",
        "from collections import Counter\n",
        "\n",
        "from nltk.tokenize.treebank import TreebankWordDetokenizer as Detok\n",
        "from nltk.tokenize.treebank import TreebankWordDetokenizer"
      ],
      "execution_count": null,
      "outputs": []
    },
    {
      "cell_type": "code",
      "metadata": {
        "colab": {
          "resources": {
            "http://localhost:8080/nbextensions/google.colab/files.js": {
              "data": "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",
              "ok": true,
              "headers": [
                [
                  "content-type",
                  "application/javascript"
                ]
              ],
              "status": 200,
              "status_text": ""
            }
          },
          "base_uri": "https://localhost:8080/",
          "height": 73
        },
        "id": "wxTwwxqK1PyD",
        "outputId": "43656576-9483-46cc-b6be-283b78fcccea"
      },
      "source": [
        "from google.colab import files\n",
        "uploaded = files.upload()"
      ],
      "execution_count": null,
      "outputs": [
        {
          "output_type": "display_data",
          "data": {
            "text/html": [
              "\n",
              "     <input type=\"file\" id=\"files-cf3f78bd-280a-45b8-8438-61c79f244cd9\" name=\"files[]\" multiple disabled\n",
              "        style=\"border:none\" />\n",
              "     <output id=\"result-cf3f78bd-280a-45b8-8438-61c79f244cd9\">\n",
              "      Upload widget is only available when the cell has been executed in the\n",
              "      current browser session. Please rerun this cell to enable.\n",
              "      </output>\n",
              "      <script src=\"/nbextensions/google.colab/files.js\"></script> "
            ],
            "text/plain": [
              "<IPython.core.display.HTML object>"
            ]
          },
          "metadata": {
            "tags": []
          }
        },
        {
          "output_type": "stream",
          "text": [
            "Saving DataLabeled.csv to DataLabeled (1).csv\n"
          ],
          "name": "stdout"
        }
      ]
    },
    {
      "cell_type": "code",
      "metadata": {
        "colab": {
          "base_uri": "https://localhost:8080/",
          "height": 482
        },
        "id": "pHiRQMKHdK6e",
        "outputId": "b900d3ff-3438-48bb-e6ca-13b1b2c1440b"
      },
      "source": [
        "# %% read csv file data\n",
        "import matplotlib.pyplot as plt\n",
        "import seaborn as sns\n",
        "\n",
        "CSV_FILE = pd.read_csv('DataLabeled.csv')\n",
        "#pd.read_csv(Path().joinpath('data','traindata2.csv'))\n",
        "print(CSV_FILE['Text'].head(11))\n",
        "plt.rcParams['font.sans-serif']= \"cmr10\"\n",
        "sns.countplot(x='Class',hue='Class',data=CSV_FILE)\n",
        "plt.show()"
      ],
      "execution_count": null,
      "outputs": [
        {
          "output_type": "stream",
          "text": [
            "0     \"RT @IndrajithLk: \"ඝරසරප\" චිත්‍රපටය, පහළ තියෙන...\n",
            "1     \"@NightWingzzz @lishwebber @Nimezzz මොකක් හරි ...\n",
            "2     \"@dead_mans_creed @Wind_Desika කිමද මේ තරම් කො...\n",
            "3     \"@MrThila_ @maalupaan @punchi_kella @anuwa01 @...\n",
            "4     \"විමලයා ගොනෙක් වගෙ stage එකෙ මෑරෙන්න හදනවා.......\n",
            "5     \"RT @SaliyaT_R: @fernandoharin ලැජ්ජයි ස⁣හෝදරය...\n",
            "6     \"@fernandoharin ලැජ්ජයි ස⁣හෝදරයා මේ යන විදිහ ද...\n",
            "7     \"@She_is_Nu @nthathsaranii ඇයි මං තම්බි වගේද ප...\n",
            "8     \"@Sagara_9 ඉටිම් බං උතුර ඉල්ලනසෙට් එකයි නැගෙනහ...\n",
            "9     \"RT @SaliyaT_R: පේනවානේ තම්බි කවදත් ඉන්නේ උන්ට...\n",
            "10    \"RT @ApiWenuwen: ඉතිහාසය ඉදිරියේ මෙවැනි හෙළිදර...\n",
            "Name: Text, dtype: object\n"
          ],
          "name": "stdout"
        },
        {
          "output_type": "display_data",
          "data": {
            "image/png": "[encoded data removed]",
            "text/plain": [
              "<Figure size 432x288 with 1 Axes>"
            ]
          },
          "metadata": {
            "tags": [],
            "needs_background": "light"
          }
        }
      ]
    },
    {
      "cell_type": "code",
      "metadata": {
        "colab": {
          "base_uri": "https://localhost:8080/"
        },
        "id": "7JYol-VeA9pu",
        "outputId": "b9449892-88f2-42aa-893b-b5af6d8e4937"
      },
      "source": [
        "df = pd.read_csv('DataLabeled.csv', error_bad_lines=False)\n",
        "\n",
        "print(df['Text'])"
      ],
      "execution_count": null,
      "outputs": [
        {
          "output_type": "stream",
          "text": [
            "0       \"RT @IndrajithLk: \"ඝරසරප\" චිත්‍රපටය, පහළ තියෙන...\n",
            "1       \"@NightWingzzz @lishwebber @Nimezzz මොකක් හරි ...\n",
            "2       \"@dead_mans_creed @Wind_Desika කිමද මේ තරම් කො...\n",
            "3       \"@MrThila_ @maalupaan @punchi_kella @anuwa01 @...\n",
            "4       \"විමලයා ගොනෙක් වගෙ stage එකෙ මෑරෙන්න හදනවා.......\n",
            "                              ...                        \n",
            "1705    \"පීටීඒ සහ අයිසීසීපීආර් පනත යටතේ වැරදි ලෙස ගොනු...\n",
            "1706    \"අරාබි රටවල් මුස්ලිම් නොවන සඳහා සුපිරි වෙළඳසැල...\n",
            "1707    \"22 හැවිරිදි මුස්ලිම් පිරිමි ළමයෙක් ඉස්ලාම් භී...\n",
            "1708    \"# ශ්‍රී ලංකාවේ මුස්ලිම් ප්‍රජාව වෙත එල්ල කරන ...\n",
            "1709    \"රාජ්‍ය අංශයේ කාන්තා ඇඳුම් පැළඳුම් සංග්‍රහය පි...\n",
            "Name: Text, Length: 1710, dtype: object\n"
          ],
          "name": "stdout"
        }
      ]
    },
    {
      "cell_type": "markdown",
      "metadata": {
        "id": "4kavsg8Of3iu"
      },
      "source": [
        "Detokenioze"
      ]
    },
    {
      "cell_type": "code",
      "metadata": {
        "id": "LOKdSmjbCEMY"
      },
      "source": [
        "stopwords_set = [\"සහ\",\"සමග\",\"සමඟ\",\"අහා\",\"ආහ්\",\"ආ\",\"ඕහෝ\",\"අනේ\",\"අඳෝ\",\"අපොයි\",\"පෝ\",\"අයියෝ\",\"ආයි\",\"ඌයි\",\"චී\",\"චිහ්\",\"චික්\",\"හෝ‍\",\"දෝ\",\n",
        "                 \"දෝහෝ\",\"මෙන්\",\"සේ\",\"වැනි\",\"බඳු\",\"වන්\",\"අයුරු\",\"අයුරින්\",\"ලෙස\",\"වැඩි\",\"ශ්‍රී\",\"හා\",\"ය\",\"නිසා\",\"නිසාවෙන්\",\"බවට\",\"බව\",\"බවෙන්\",\"නම්\",\"වැඩි\",\"සිට\",\n",
        "                 \"දී\",\"මහා\",\"මහ\",\"පමණ\",\"පමණින්\",\"පමන\",\"වන\",\"විට\",\"විටින්\",\"මේ\",\"මෙලෙස\",\"මෙයින්\",\"ඇති\",\"ලෙස\",\"සිදු\",\"වශයෙන්\",\"යන\",\"සඳහා\",\"මගින්\",\"හෝ‍\",\n",
        "                 \"ඉතා\",\"ඒ\",\"එම\",\"ද\",\"අතර\",\"විසින්\",\"සමග\",\"පිළිබඳව\",\"පිළිබඳ\",\"තුළ\",\"බව\",\"වැනි\",\"මහ\",\"මෙම\",\"මෙහි\",\"මේ\",\"වෙත\",\"වෙතින්\",\"වෙතට\",\"වෙනුවෙන්\",\n",
        "                 \"වෙනුවට\",\"වෙන\",\"ගැන\",\"නෑ\",\"අනුව\",\"නව\",\"පිළිබඳ\",\"විශේෂ\",\"දැනට\",\"එහෙන්\",\"මෙහෙන්\",\"එහේ\",\"මෙහේ\",\"ම\",\"තවත්\",\"තව\",\"සහ\",\"දක්වා\",\"ට\",\"ගේ\",\n",
        "                 \"එ\",\"ක\",\"ක්\",\"බවත්\",\"බවද\",\"මත\",\"ඇතුලු\",\"ඇතුළු\",\"මෙසේ\",\"වඩා\",\"වඩාත්ම\",\"නිති\",\"නිතිත්\",\"නිතොර\",\"නිතර\",\"ඉක්බිති\",\"දැන්\",\"යලි\",\"පුන\",\"ඉතින්\",\n",
        "                 \"සිට\",\"සිටන්\",\"පටන්\",\"තෙක්\",\"දක්වා\",\"සා\",\"තාක්\",\"තුවක්\",\"පවා\",\"ද\",\"හෝ‍\",\"වත්\",\"විනා\",\"හැර\",\"මිස\",\"මුත්\",\"කිම\",\"කිම්\",\"ඇයි\",\"මන්ද\",\"හෙවත්\",\n",
        "                 \"නොහොත්\",\"පතා\",\"පාසා\",\"ගානෙ\",\"තව\",\"ඉතා\",\"බොහෝ\",\"වහා\",\"සෙද\",\"සැනින්\",\"හනික\",\"එම්බා\",\"එම්බල\",\"බොල\",\"නම්\",\"වනාහි\",\"කලී\",\"ඉඳුරා\",\n",
        "                 \"අන්න\",\"ඔන්න\",\"මෙන්න\",\"උදෙසා\",\"පිණිස\",\"සඳහා\",\"රබයා\",\"නිසා\",\"එනිසා\",\"එබැවින්\",\"බැවින්\",\"හෙයින්\",\"සේක්\",\"සේක\",\"ගැන\",\"අනුව\",\"පරිදි\",\"විට\",\n",
        "                 \"තෙක්\",\"මෙතෙක්\",\"මේතාක්\",\"තුරු\",\"තුරා\",\"තුරාවට\",\"තුලින්\",\"නමුත්\",\"එනමුත්\",\"වස්\",'මෙන්',\"ලෙස\",\"පරිදි\",\"එහෙත්\"]"
      ],
      "execution_count": null,
      "outputs": []
    },
    {
      "cell_type": "code",
      "metadata": {
        "colab": {
          "base_uri": "https://localhost:8080/"
        },
        "id": "1urDRhm59Z0a",
        "outputId": "96a5b123-c500-4d54-96e2-0b461d6ac3a7"
      },
      "source": [
        "print(stopwords_set)"
      ],
      "execution_count": null,
      "outputs": [
        {
          "output_type": "stream",
          "text": [
            "['සහ', 'සමග', 'සමඟ', 'අහා', 'ආහ්', 'ආ', 'ඕහෝ', 'අනේ', 'අඳෝ', 'අපොයි', 'පෝ', 'අයියෝ', 'ආයි', 'ඌයි', 'චී', 'චිහ්', 'චික්', 'හෝ\\u200d', 'දෝ', 'දෝහෝ', 'මෙන්', 'සේ', 'වැනි', 'බඳු', 'වන්', 'අයුරු', 'අයුරින්', 'ලෙස', 'වැඩි', 'ශ්\\u200dරී', 'හා', 'ය', 'නිසා', 'නිසාවෙන්', 'බවට', 'බව', 'බවෙන්', 'නම්', 'වැඩි', 'සිට', 'දී', 'මහා', 'මහ', 'පමණ', 'පමණින්', 'පමන', 'වන', 'විට', 'විටින්', 'මේ', 'මෙලෙස', 'මෙයින්', 'ඇති', 'ලෙස', 'සිදු', 'වශයෙන්', 'යන', 'සඳහා', 'මගින්', 'හෝ\\u200d', 'ඉතා', 'ඒ', 'එම', 'ද', 'අතර', 'විසින්', 'සමග', 'පිළිබඳව', 'පිළිබඳ', 'තුළ', 'බව', 'වැනි', 'මහ', 'මෙම', 'මෙහි', 'මේ', 'වෙත', 'වෙතින්', 'වෙතට', 'වෙනුවෙන්', 'වෙනුවට', 'වෙන', 'ගැන', 'නෑ', 'අනුව', 'නව', 'පිළිබඳ', 'විශේෂ', 'දැනට', 'එහෙන්', 'මෙහෙන්', 'එහේ', 'මෙහේ', 'ම', 'තවත්', 'තව', 'සහ', 'දක්වා', 'ට', 'ගේ', 'එ', 'ක', 'ක්', 'බවත්', 'බවද', 'මත', 'ඇතුලු', 'ඇතුළු', 'මෙසේ', 'වඩා', 'වඩාත්ම', 'නිති', 'නිතිත්', 'නිතොර', 'නිතර', 'ඉක්බිති', 'දැන්', 'යලි', 'පුන', 'ඉතින්', 'සිට', 'සිටන්', 'පටන්', 'තෙක්', 'දක්වා', 'සා', 'තාක්', 'තුවක්', 'පවා', 'ද', 'හෝ\\u200d', 'වත්', 'විනා', 'හැර', 'මිස', 'මුත්', 'කිම', 'කිම්', 'ඇයි', 'මන්ද', 'හෙවත්', 'නොහොත්', 'පතා', 'පාසා', 'ගානෙ', 'තව', 'ඉතා', 'බොහෝ', 'වහා', 'සෙද', 'සැනින්', 'හනික', 'එම්බා', 'එම්බල', 'බොල', 'නම්', 'වනාහි', 'කලී', 'ඉඳුරා', 'අන්න', 'ඔන්න', 'මෙන්න', 'උදෙසා', 'පිණිස', 'සඳහා', 'රබයා', 'නිසා', 'එනිසා', 'එබැවින්', 'බැවින්', 'හෙයින්', 'සේක්', 'සේක', 'ගැන', 'අනුව', 'පරිදි', 'විට', 'තෙක්', 'මෙතෙක්', 'මේතාක්', 'තුරු', 'තුරා', 'තුරාවට', 'තුලින්', 'නමුත්', 'එනමුත්', 'වස්', 'මෙන්', 'ලෙස', 'පරිදි', 'එහෙත්']\n"
          ],
          "name": "stdout"
        }
      ]
    },
    {
      "cell_type": "code",
      "metadata": {
        "id": "55yESq-Kf-1w"
      },
      "source": [
        "def filter_stop_words(sentences):\n",
        "    filtered_sentences = []\n",
        "    detokenizer = Detok()\n",
        "    for sentence in sentences:\n",
        "        tokenized_sentence = word_tokenize(sentence)\n",
        "        filtered_sentence = [word for word in tokenized_sentence if word not in stopwords_set]\n",
        "        filtered_sentence = [] \n",
        "        for w in tokenized_sentence: \n",
        "            if w not in stopwords_set: \n",
        "                filtered_sentence.append(stem_word(w))\n",
        "        filtered_sentences.append(filtered_sentence)\n",
        "    return filtered_sentences\n",
        "\n",
        "\n",
        "def detokenize(filtered_sentences):\n",
        "    detokenized_sentences = []\n",
        "    for sentence in filtered_sentences:\n",
        "        detokenized_sentences.append(TreebankWordDetokenizer().detokenize(sentence))\n",
        "    return detokenized_sentences\n",
        "\n",
        "\n",
        "filtered_sentences = filter_stop_words(df['Text2'])\n",
        "detokenized_sentences = detokenize(filtered_sentences)\n",
        "\n",
        "df['filtered_sentence'] = detokenized_sentences\n",
        "df['filtered_sentence'] = df['filtered_sentence'].apply(simplify_sinhalese_text).tolist()\n",
        "#df['filtered_sentence'] = df['Text'].apply(remove_english_words).tolist()\n",
        "\n",
        "#df.to_csv('SubjectivityTagged.csv')\n",
        "df"
      ],
      "execution_count": null,
      "outputs": []
    },
    {
      "cell_type": "markdown",
      "metadata": {
        "id": "0Ohx8Co_U1pv"
      },
      "source": [
        "Data Cleaning"
      ]
    },
    {
      "cell_type": "code",
      "metadata": {
        "colab": {
          "base_uri": "https://localhost:8080/"
        },
        "id": "oaKhkWmMq9ed",
        "outputId": "ab4b8a58-f280-4fd0-ba86-a429a9f167d6"
      },
      "source": [
        "#%%data cleaning , tokenizing and POS tagging\n",
        "df = pd.read_csv('SubjectivityTagged.csv')\n",
        "\n",
        "def clean_data(dataframe):\n",
        "    # Drop duplicate rows\n",
        "    dataframe.drop_duplicates(subset='Text', inplace=True)\n",
        "    #replace URL of a text\n",
        "    dataframe['Text_cleaned'] = dataframe['Text'].str.replace('http[s]?://(?:[a-zA-Z]|[0-9]|[$-_@.&+]|[!*\\(\\),]|(?:%[0-9a-fA-F][0-9a-fA-F]))+', '')\n",
        "    #replace mention\n",
        "    dataframe['Text_cleaned'] = dataframe['Text_cleaned'].str.replace('#|@\\w*','')\n",
        "    #remove retweet states in the beginning such as \"RT @sam92ky: \"\n",
        "    dataframe['Text_cleaned'] = dataframe['Text_cleaned'].str.replace('RT : ','')\n",
        "    #remove numbers\n",
        "    dataframe['Text_cleaned'] = dataframe['Text_cleaned'].str.replace('\\d+','')\n",
        "\n",
        "    #punctuation removal \n",
        "    string_text = dataframe['Text_cleaned'].str\n",
        "    dataframe['Text_cleaned'] = string_text.translate(str.maketrans('', '', string.punctuation))\n",
        "    print(string_text)\n",
        "\n",
        "    # coerced entire coloumn to str dtype\n",
        "    dataframe['Text_cleaned'] = dataframe['Text_cleaned'].astype(str)\n",
        "\n",
        "    #translate English to sinhala\n",
        "    df['Text_cleaned'] = df['Text_cleaned'].apply(translate_to_sinhala).tolist()\n",
        "    df['Text_cleaned'] = df['Text_cleaned'].apply(translate_english).tolist()\n",
        "\n",
        "    # simplify sinhala characters\n",
        "    df['Text_cleaned'] = df['Text_cleaned'].apply(simplify_sinhalese_text).tolist()\n",
        "\n",
        "    # pos tagging\n",
        "    #df['Text'] = df['Text'].apply(tagger.predict).tolist()\n",
        "\n",
        "    #print(\"New shape:\", dataframe.shape)\n",
        "    return dataframe.head()\n",
        "\n",
        "clean_data(df)\n",
        "df\n",
        "df.to_csv('SubjectivityTagged.csv')"
      ],
      "execution_count": null,
      "outputs": [
        {
          "output_type": "stream",
          "text": [
            "<pandas.core.strings.StringMethods object at 0x7fe9c14b9ed0>\n"
          ],
          "name": "stdout"
        }
      ]
    },
    {
      "cell_type": "code",
      "metadata": {
        "id": "DToAfWpMb-or",
        "colab": {
          "base_uri": "https://localhost:8080/",
          "height": 434
        },
        "outputId": "2af9b123-6e68-4a09-ac06-c108e4fdf704"
      },
      "source": [
        "#%%data cleaning , tokenizing and POS tagging\n",
        "df = pd.read_csv('DataLabeled.csv')\n",
        "\n",
        "def clean_data(dataframe):\n",
        "    # Drop duplicate rows\n",
        "    #dataframe.drop_duplicates(subset='Text', inplace=True)\n",
        "    #replace URL of a text\n",
        "    dataframe['Text_cleaned'] = dataframe['Text'].str.replace('http[s]?://(?:[a-zA-Z]|[0-9]|[$-_@.&+]|[!*\\(\\),]|(?:%[0-9a-fA-F][0-9a-fA-F]))+', '')\n",
        "    #replace mention\n",
        "    dataframe['Text_cleaned'] = dataframe['Text_cleaned'].str.replace('#|@\\w*','')\n",
        "    #remove retweet states in the beginning such as \"RT @sam92ky: \"\n",
        "    dataframe['Text_cleaned'] = dataframe['Text_cleaned'].str.replace('RT : ','')\n",
        "    #remove numbers\n",
        "    dataframe['Text_cleaned'] = dataframe['Text_cleaned'].str.replace('\\d+','')\n",
        "\n",
        "    #punctuation removal \n",
        "    string_text = dataframe['Text_cleaned'].str\n",
        "    dataframe['Text_cleaned'] = string_text.translate(str.maketrans('', '', string.punctuation))\n",
        "    print(string_text)\n",
        "\n",
        "    # coerced entire coloumn to str dtype\n",
        "    dataframe['Text_cleaned'] = dataframe['Text_cleaned'].astype(str)\n",
        "\n",
        "    #translate English to sinhala\n",
        "    df['Text_cleaned'] = df['Text_cleaned'].apply(translate_to_sinhala).tolist()\n",
        "    df['Text_cleaned'] = df['Text_cleaned'].apply(translate_english).tolist()\n",
        "\n",
        "    # simplify sinhala characters\n",
        "    df['Text_cleaned'] = df['Text_cleaned'].apply(simplify_sinhalese_text).tolist()\n",
        "\n",
        "    # pos tagging\n",
        "    #df['Text'] = df['Text'].apply(tagger.predict).tolist()\n",
        "\n",
        "    #print(\"New shape:\", dataframe.shape)\n",
        "    return dataframe.head()\n",
        "\n",
        "clean_data(df)\n",
        "df\n",
        "#df.to_csv('imotional data (1).csv')"
      ],
      "execution_count": null,
      "outputs": [
        {
          "output_type": "stream",
          "text": [
            "<pandas.core.strings.StringMethods object at 0x7f5341c269d0>\n"
          ],
          "name": "stdout"
        },
        {
          "output_type": "execute_result",
          "data": {
            "text/html": [
              "<div>\n",
              "<style scoped>\n",
              "    .dataframe tbody tr th:only-of-type {\n",
              "        vertical-align: middle;\n",
              "    }\n",
              "\n",
              "    .dataframe tbody tr th {\n",
              "        vertical-align: top;\n",
              "    }\n",
              "\n",
              "    .dataframe thead th {\n",
              "        text-align: right;\n",
              "    }\n",
              "</style>\n",
              "<table border=\"1\" class=\"dataframe\">\n",
              "  <thead>\n",
              "    <tr style=\"text-align: right;\">\n",
              "      <th></th>\n",
              "      <th>Text</th>\n",
              "      <th>Class</th>\n",
              "      <th>Text_cleaned</th>\n",
              "    </tr>\n",
              "  </thead>\n",
              "  <tbody>\n",
              "    <tr>\n",
              "      <th>0</th>\n",
              "      <td>\"RT @IndrajithLk: \"ඝරසරප\" චිත්‍රපටය, පහළ තියෙන...</td>\n",
              "      <td>Neutral</td>\n",
              "      <td>ගරසරප චිත්‍රපටය පහල තියෙන සම්බන්ධකය එකෙන් බාගත...</td>\n",
              "    </tr>\n",
              "    <tr>\n",
              "      <th>1</th>\n",
              "      <td>\"@NightWingzzz @lishwebber @Nimezzz මොකක් හරි ...</td>\n",
              "      <td>Neutral</td>\n",
              "      <td>මොකක් හරි නාට්‍යයක් තියෙන්නත් එපැයි ඉතින්</td>\n",
              "    </tr>\n",
              "    <tr>\n",
              "      <th>2</th>\n",
              "      <td>\"@dead_mans_creed @Wind_Desika කිමද මේ තරම් කො...</td>\n",
              "      <td>Neutral</td>\n",
              "      <td>කිමද මේ තරම් කොහේදෝ ඇති විදපු ගලක් හා උරන මා...</td>\n",
              "    </tr>\n",
              "    <tr>\n",
              "      <th>3</th>\n",
              "      <td>\"@MrThila_ @maalupaan @punchi_kella @anuwa01 @...</td>\n",
              "      <td>Neutral</td>\n",
              "      <td>එහෙම කොහොමද උනේ 😂😂 පරය අපිව අයින් කරල නේ 😂</td>\n",
              "    </tr>\n",
              "    <tr>\n",
              "      <th>4</th>\n",
              "      <td>\"විමලයා ගොනෙක් වගෙ stage එකෙ මෑරෙන්න හදනවා.......</td>\n",
              "      <td>Political</td>\n",
              "      <td>විමලයා ගොනෙක් වගෙ ක්‍රියාවලියක වැදගත් කාලයක් හ...</td>\n",
              "    </tr>\n",
              "    <tr>\n",
              "      <th>...</th>\n",
              "      <td>...</td>\n",
              "      <td>...</td>\n",
              "      <td>...</td>\n",
              "    </tr>\n",
              "    <tr>\n",
              "      <th>1705</th>\n",
              "      <td>\"පීටීඒ සහ අයිසීසීපීආර් පනත යටතේ වැරදි ලෙස ගොනු...</td>\n",
              "      <td>Racist</td>\n",
              "      <td>පීටීඑ සහ අයිසීසීපීඅර් පනත යටතේ වැරදි ලෙස ගොනු ...</td>\n",
              "    </tr>\n",
              "    <tr>\n",
              "      <th>1706</th>\n",
              "      <td>\"අරාබි රටවල් මුස්ලිම් නොවන සඳහා සුපිරි වෙළඳසැල...</td>\n",
              "      <td>Racist</td>\n",
              "      <td>අරාබි රටවල් මුස්ලිම් නොවන සදහා සුපිරි වෙලදසැල්...</td>\n",
              "    </tr>\n",
              "    <tr>\n",
              "      <th>1707</th>\n",
              "      <td>\"22 හැවිරිදි මුස්ලිම් පිරිමි ළමයෙක් ඉස්ලාම් භී...</td>\n",
              "      <td>Racist</td>\n",
              "      <td>හැවිරිදි මුස්ලිම් පිරිමි ලමයෙක් ඉස්ලාම් බීතික...</td>\n",
              "    </tr>\n",
              "    <tr>\n",
              "      <th>1708</th>\n",
              "      <td>\"# ශ්‍රී ලංකාවේ මුස්ලිම් ප්‍රජාව වෙත එල්ල කරන ...</td>\n",
              "      <td>Racist</td>\n",
              "      <td>ෂ්‍රී ලංකාවේ මුස්ලිම් ප්‍රජාව වෙත එල්ල කරන දේ...</td>\n",
              "    </tr>\n",
              "    <tr>\n",
              "      <th>1709</th>\n",
              "      <td>\"රාජ්‍ය අංශයේ කාන්තා ඇඳුම් පැළඳුම් සංග්‍රහය පි...</td>\n",
              "      <td>Racist</td>\n",
              "      <td>රාජ්‍ය අංෂයේ කාන්තා ඇදුම් පැලදුම් සංග්‍රහය පිල...</td>\n",
              "    </tr>\n",
              "  </tbody>\n",
              "</table>\n",
              "<p>1710 rows × 3 columns</p>\n",
              "</div>"
            ],
            "text/plain": [
              "                                                   Text  ...                                       Text_cleaned\n",
              "0     \"RT @IndrajithLk: \"ඝරසරප\" චිත්‍රපටය, පහළ තියෙන...  ...  ගරසරප චිත්‍රපටය පහල තියෙන සම්බන්ධකය එකෙන් බාගත...\n",
              "1     \"@NightWingzzz @lishwebber @Nimezzz මොකක් හරි ...  ...          මොකක් හරි නාට්‍යයක් තියෙන්නත් එපැයි ඉතින්\n",
              "2     \"@dead_mans_creed @Wind_Desika කිමද මේ තරම් කො...  ...    කිමද මේ තරම් කොහේදෝ ඇති විදපු ගලක් හා උරන මා...\n",
              "3     \"@MrThila_ @maalupaan @punchi_kella @anuwa01 @...  ...         එහෙම කොහොමද උනේ 😂😂 පරය අපිව අයින් කරල නේ 😂\n",
              "4     \"විමලයා ගොනෙක් වගෙ stage එකෙ මෑරෙන්න හදනවා.......  ...  විමලයා ගොනෙක් වගෙ ක්‍රියාවලියක වැදගත් කාලයක් හ...\n",
              "...                                                 ...  ...                                                ...\n",
              "1705  \"පීටීඒ සහ අයිසීසීපීආර් පනත යටතේ වැරදි ලෙස ගොනු...  ...  පීටීඑ සහ අයිසීසීපීඅර් පනත යටතේ වැරදි ලෙස ගොනු ...\n",
              "1706  \"අරාබි රටවල් මුස්ලිම් නොවන සඳහා සුපිරි වෙළඳසැල...  ...  අරාබි රටවල් මුස්ලිම් නොවන සදහා සුපිරි වෙලදසැල්...\n",
              "1707  \"22 හැවිරිදි මුස්ලිම් පිරිමි ළමයෙක් ඉස්ලාම් භී...  ...   හැවිරිදි මුස්ලිම් පිරිමි ලමයෙක් ඉස්ලාම් බීතික...\n",
              "1708  \"# ශ්‍රී ලංකාවේ මුස්ලිම් ප්‍රජාව වෙත එල්ල කරන ...  ...   ෂ්‍රී ලංකාවේ මුස්ලිම් ප්‍රජාව වෙත එල්ල කරන දේ...\n",
              "1709  \"රාජ්‍ය අංශයේ කාන්තා ඇඳුම් පැළඳුම් සංග්‍රහය පි...  ...  රාජ්‍ය අංෂයේ කාන්තා ඇදුම් පැලදුම් සංග්‍රහය පිල...\n",
              "\n",
              "[1710 rows x 3 columns]"
            ]
          },
          "metadata": {
            "tags": []
          },
          "execution_count": 33
        }
      ]
    },
    {
      "cell_type": "markdown",
      "metadata": {
        "id": "v_g_cQMAjVX_"
      },
      "source": [
        "Simplify sinhalese text"
      ]
    },
    {
      "cell_type": "code",
      "metadata": {
        "id": "M3mwN73nsOXd",
        "colab": {
          "base_uri": "https://localhost:8080/",
          "height": 35
        },
        "outputId": "1028f1d6-8f25-43ae-fe74-0c105691d730"
      },
      "source": [
        "sinhalese_chars = [\n",
        "    \"අ\", \"ආ\", \"ඇ\", \"ඈ\", \"ඉ\", \"ඊ\",\n",
        "    \"උ\", \"ඌ\", \"ඍ\", \"ඎ\", \"ඏ\", \"ඐ\",\n",
        "    \"එ\", \"ඒ\", \"ඓ\", \"ඔ\", \"ඕ\", \"ඖ\",\n",
        "    \"ං\", \"ඃ\",\n",
        "    \"ක\", \"ඛ\", \"ග\", \"ඝ\", \"ඞ\", \"ඟ\",\n",
        "    \"ච\", \"ඡ\", \"ජ\", \"ඣ\", \"ඤ\", \"ඥ\", \"ඦ\",\n",
        "    \"ට\", \"ඨ\", \"ඩ\", \"ඪ\", \"ණ\", \"ඬ\",\n",
        "    \"ත\", \"ථ\", \"ද\", \"ධ\", \"න\", \"ඳ\",\n",
        "    \"ප\", \"ඵ\", \"බ\", \"භ\", \"ම\", \"ඹ\",\n",
        "    \"ය\", \"ර\", \"ල\", \"ව\",\n",
        "    \"ශ\", \"ෂ\", \"ස\", \"හ\", \"ළ\", \"ෆ\",\n",
        "    \"෴\", \"\\u200d\"\n",
        "]\n",
        "# \"\\u200d\" is used with \"යංශය\" - කාව්‍ය, \"රේඵය\" - වර්‍තමාන, \"Both\" - මහාචාර්‍ය්‍ය, \"රකාරාංශය\" - මුද්‍රණය\n",
        "\n",
        "sinhalese_vowel_signs = [\"්\", \"ා\", \"ැ\", \"ෑ\", \"ි\", \"ී\", \"ු\", \"ූ\", \"ෘ\", \"ෙ\", \"ේ\", \"ෛ\", \"ො\", \"ෝ\",\n",
        "                         \"ෞ\", \"ෟ\", \"ෲ\", \"ෳ\", \"ර්‍\"]\n",
        "\n",
        "# dictionary that maps wrong usage of vowels to correct vowels\n",
        "vowel_sign_fix_dict = {\n",
        "    \"ෑ\": \"ැ\",\n",
        "    \"ෙ\" + \"්\": \"ේ\",\n",
        "    \"්\" + \"ෙ\": \"ේ\",\n",
        "\n",
        "    \"ෙ\" + \"ා\": \"ො\",\n",
        "    \"ා\" + \"ෙ\": \"ො\",\n",
        "\n",
        "    \"ේ\" + \"ා\": \"ෝ\",\n",
        "    \"ො\" + \"්\": \"ෝ\",\n",
        "\n",
        "    \"ෙෙ\": \"ෛ\",\n",
        "    \"ෘෘ\": \"ෲ\",\n",
        "\n",
        "    \"ෙ\" + \"ෟ\": \"ෞ\",\n",
        "    \"ෟ\" + \"ෙ\": \"ෞ\",\n",
        "\n",
        "    \"ි\" + \"ී\": \"ී\",\n",
        "    \"ී\" + \"ි\": \"ී\",\n",
        "\n",
        "    # duplicating same symbol\n",
        "    \"ේ\" + \"්\": \"ේ\",\n",
        "    \"ේ\" + \"ෙ\": \"ේ\",\n",
        "\n",
        "    \"ො\" + \"ා\": \"ො\",\n",
        "    \"ො\" + \"ෙ\": \"ො\",\n",
        "\n",
        "    \"ෝ\" + \"ා\": \"ෝ\",\n",
        "    \"ෝ\" + \"්\": \"ෝ\",\n",
        "    \"ෝ\" + \"ෙ\": \"ෝ\",\n",
        "    \"ෝ\" + \"ේ\": \"ෝ\",\n",
        "    \"ෝ\" + \"ො\": \"ෝ\",\n",
        "\n",
        "    \"ෞ\" + \"ෟ\": \"ෞ\",\n",
        "    \"ෞ\" + \"ෙ\": \"ෞ\",\n",
        "\n",
        "    # special cases - may be typing mistakes\n",
        "    \"ො\" + \"ෟ\": \"ෞ\",\n",
        "    \"ෟ\" + \"ො\": \"ෞ\",\n",
        "}\n",
        "\n",
        "simplify_characters_dict = {\n",
        "    # Consonant\n",
        "    \"ඛ\": \"ක\",\n",
        "    \"ඝ\": \"ග\",\n",
        "    \"ඟ\": \"ග\",\n",
        "    \"ඡ\": \"ච\",\n",
        "    \"ඣ\": \"ජ\",\n",
        "    \"ඦ\": \"ජ\",\n",
        "    \"ඤ\": \"ඥ\",\n",
        "    \"ඨ\": \"ට\",\n",
        "    \"ඪ\": \"ඩ\",\n",
        "    \"ණ\": \"න\",\n",
        "    \"ඳ\": \"ද\",\n",
        "    \"ඵ\": \"ප\",\n",
        "    \"භ\": \"බ\",\n",
        "    \"ඹ\": \"බ\",\n",
        "    \"ශ\": \"ෂ\",\n",
        "    \"ළ\": \"ල\",\n",
        "\n",
        "    # Vowels\n",
        "    \"ආ\": \"අ\",\n",
        "    \"ඈ\": \"ඇ\",\n",
        "    \"ඊ\": \"ඉ\",\n",
        "    \"ඌ\": \"උ\",\n",
        "    \"ඒ\": \"එ\",\n",
        "    \"ඕ\": \"ඔ\",\n",
        "\n",
        "}\n",
        "\n",
        "def is_sinhalese_letter(char: str) -> bool:\n",
        "    return char in sinhalese_chars\n",
        "\n",
        "\n",
        "def is_sinhalese_vowel(char: str) -> bool:\n",
        "    return char in sinhalese_vowel_signs\n",
        "\n",
        "\n",
        "def get_fixed_vowel(vowel: str) -> str:\n",
        "    return vowel_sign_fix_dict[vowel]\n",
        "\n",
        "\n",
        "def get_simplified_character(character: str) -> str:\n",
        "    if len(character) != 1:\n",
        "        raise TypeError(\"character should be a string with length 1\")\n",
        "    try:\n",
        "        return simplify_characters_dict[character]\n",
        "    except KeyError:\n",
        "        return character\n",
        "\n",
        "def simplify_sinhalese_text(text: str) -> str:\n",
        "    \"\"\"\n",
        "    simplify\n",
        "    :param text:\n",
        "    :return:\n",
        "    \"\"\"\n",
        "    modified_text = \"\"\n",
        "    for c in text:\n",
        "        modified_text += get_simplified_character(c)\n",
        "    return modified_text\n",
        "\n",
        "simplify_sinhalese_text(\"ඝරසරප චිත්‍රපටය පහළ තියෙන සම්බන්ධකය එකෙන් බාගත කරගන්න\")"
      ],
      "execution_count": null,
      "outputs": [
        {
          "output_type": "execute_result",
          "data": {
            "application/vnd.google.colaboratory.intrinsic+json": {
              "type": "string"
            },
            "text/plain": [
              "'ගරසරප චිත්\\u200dරපටය පහල තියෙන සම්බන්ධකය එකෙන් බාගත කරගන්න'"
            ]
          },
          "metadata": {
            "tags": []
          },
          "execution_count": 22
        }
      ]
    },
    {
      "cell_type": "code",
      "metadata": {
        "colab": {
          "base_uri": "https://localhost:8080/"
        },
        "id": "SmjdJg3yWcVz",
        "outputId": "02848810-5f48-4d42-91fa-58dc1c2c9b56"
      },
      "source": [
        "class SinhaleseVowelLetterFixer:\n",
        "    \"\"\"\n",
        "    Sinhalese Language Vowel Letter Fixer\n",
        "    \"\"\"\n",
        "\n",
        "    @staticmethod\n",
        "    def get_fixed_text(text: str) -> str:\n",
        "        \"\"\"\n",
        "        Fix wrong usage of vowels\n",
        "        :param text: text to be fixed\n",
        "        :return: fixed text with proper vowels\n",
        "        \"\"\"\n",
        "        fixed_text = \"\"\n",
        "        last_letter = \"\"\n",
        "        last_vowel = \"\"\n",
        "\n",
        "        for letter in text:\n",
        "            if is_sinhalese_letter(letter):\n",
        "                fixed_text += (last_letter + last_vowel)\n",
        "                last_letter = letter\n",
        "                last_vowel = \"\"\n",
        "            elif is_sinhalese_vowel(letter):\n",
        "                if last_letter == \"\":\n",
        "                    print(\"Error : First letter can't be a vowel sign : \" + letter)\n",
        "                if last_vowel == \"\":\n",
        "                    last_vowel = letter\n",
        "                else:\n",
        "                    try:\n",
        "                        last_vowel = get_fixed_vowel(last_vowel + letter)\n",
        "                        print(last_vowel)\n",
        "                    except KeyError:\n",
        "                        # fix error of mistakenly duplicate vowel\n",
        "                        if last_vowel == letter:\n",
        "                            continue\n",
        "                        else:\n",
        "                            print(\"Error : can't fix vowel combination \" + last_vowel + \" + \" + letter)\n",
        "            else:\n",
        "                fixed_text += (last_letter + last_vowel + letter)\n",
        "                last_letter = \"\"\n",
        "                last_vowel = \"\"\n",
        "\n",
        "        fixed_text += last_letter + last_vowel\n",
        "        return fixed_text\n",
        "\n",
        "\n",
        "corrected_text = SinhaleseVowelLetterFixer.get_fixed_text(\"මෑරෙන්න\")\n",
        "#assert correct_text == corrected_text\n",
        "print(corrected_text)\n"
      ],
      "execution_count": null,
      "outputs": [
        {
          "output_type": "stream",
          "text": [
            "මෑරෙන්න\n"
          ],
          "name": "stdout"
        }
      ]
    },
    {
      "cell_type": "markdown",
      "metadata": {
        "id": "oZyHtyH3jHXy"
      },
      "source": [
        "Translate to sinhala"
      ]
    },
    {
      "cell_type": "code",
      "metadata": {
        "id": "sibgKOtOEl8m"
      },
      "source": [
        "# english-sinhala dictionary\n",
        "dictionary = {}\n",
        "df= pd.read_csv('en-sinhala dictionary.csv')\n",
        "dictionary_file = df[\"En,sinhala\"]\n",
        "\n",
        "for line in dictionary_file:\n",
        "    key, value = line.strip().split(\",\")\n",
        "    dictionary[key] = value\n"
      ],
      "execution_count": null,
      "outputs": []
    },
    {
      "cell_type": "code",
      "metadata": {
        "id": "PWfMc94pHEYl"
      },
      "source": [
        "# to check whether the string contains English words(any)\n",
        "def translate_english(x):\n",
        "    for word1 in x.split():\n",
        "        new_word = ''.join(i for i in word1 if not i.isdigit())\n",
        "        x = x.replace(word1, new_word)\n",
        "    for word in x.split():\n",
        "        word2 = \"\".join(l for l in word if l not in string.punctuation)\n",
        "        if re.match('[a-zA-Z]', word2) is not None:\n",
        "            word1 = word2.lower()\n",
        "            translated_word = dictionary.get(word1)\n",
        "            if translated_word is None:\n",
        "                translated_word = ''\n",
        "            x = x.replace(word, translated_word)\n",
        "    return x\n"
      ],
      "execution_count": null,
      "outputs": []
    },
    {
      "cell_type": "code",
      "metadata": {
        "id": "bLl-coSsxvTn"
      },
      "source": [
        "translate_words_dict = {\n",
        "    \"unp\": \"එක්සත් ජාතික පක්ෂය\",\n",
        "    \"muslim\": \"මුස්ලිම්\",\n",
        "    \"srilankanpolitics\": \"ශ්‍රී ලංකන් දේශපාලනය\",\n",
        "    \"council\": \"සභාව\",\n",
        "    \"sinhala\": \"සිංහල\",\n",
        "    \"buddhist\": \"බෞද්ධ\",\n",
        "    \"buddhism\": \"බුද්ධාගම\",\n",
        "    \"srilanka\": \"ශ්‍රී ලංකාව\",\n",
        "    \"racist\": \"ජාතිවාදී\",\n",
        "    \"presidentialfirst\": \"පළමු ජනාධිපති\",\n",
        "    \"feeling\": \"හැඟීම\",\n",
        "    \"feminist\": \"ස්ත්‍රීවාදී\",\n",
        "    \"loved\": \"ආදරය කළා\",\n",
        "    \"team\": \"කණ්ඩායම\",\n",
        "    \"tclsl\":\"ට්විටර් ක්‍රිකට් ලීගය ශ්‍රී ලංකාව\",\n",
        "    \"pongal\": \"පොංගල්\",\n",
        "    \"pongalfestival\": \"පොංගල් උත්සවය\",\n",
        "    \"women\": \"කාන්තා\",\n",
        "    \"nextpresidentinsl\": \"ශ්‍රී ලංකාවේ මීළඟ ජනාධිපති \",\n",
        "    \"seventhexecutivepresident\": \"හත්වන විධායක සභාපති\",\n",
        "    \"hate\": \"වෛරය\",\n",
        "    \"love\": \"ආදරය\",\n",
        "    \"angry\": \"තරහයි\",\n",
        "    \"doctor\": \"ඩොක්ටර්\",\n",
        "    \"ltte\": \"එල්ටීටීඊය\",\n",
        "    \"lka\": \"‍ශ්‍රී ලංකාව\",\n",
        "    \"hurt\": \"රිදෙනවා\",\n",
        "    \"typo\": \"යතුරු ලියනය\",\n",
        "    \"racial\": \"වාර්ගික\",\n",
        "    \"hatred\": \"වෛරය\",\n",
        "    \"halal\": \"හලාල්\",\n",
        "    \"wicket\": \"කඩුල්ල\",\n",
        "    \"taker\": \"ටේකර්\",\n",
        "    \"indoor\": \"ගෘහස්ථ\",\n",
        "    \"attacker\": \"ප්‍රහාරකයා\",\n",
        "    \"attack\": \"ප්රහාරය\",\n",
        "    \"spikers\": \"ස්පිකර්ස්\",\n",
        "    \"training\": \"පුහුණුව\",\n",
        "    \"final\": \"අවසාන\",\n",
        "    \"match\": \"තරගය\",\n",
        "    \"tournament\": \"තරඟාවලිය\",\n",
        "    \"youth\": \"තරුණ\",\n",
        "    \"amen\": \"ආමෙන්\",\n",
        "    \"enough\": \"ඇති\",\n",
        "    \"standagainstracism\": \"ජාතිවාදයට එරෙහිව නැගී සිටින්න\"\n",
        "}\n",
        "\n",
        "\n",
        "def translate_to_sinhala(word: str) -> str:\n",
        "  word = word.lower()\n",
        "  if word in translate_words_dict:\n",
        "        return translate_words_dict[word]\n",
        "  return word\n",
        "\n",
        "#translate_to_sinhala(\"unp\")\n"
      ],
      "execution_count": null,
      "outputs": []
    },
    {
      "cell_type": "code",
      "metadata": {
        "colab": {
          "base_uri": "https://localhost:8080/",
          "height": 35
        },
        "id": "0fhEqKIbHcyI",
        "outputId": "4c2be918-af23-4994-f460-fc749f31a8ae"
      },
      "source": [
        "translate_english(\"දේශපාලන අර්බුදය Match fixing හා වීරයන් ඒ සඳහා කැපකිරීමක් කිරීමට ඉඩ දෙන්නේ නැත.\")"
      ],
      "execution_count": null,
      "outputs": [
        {
          "output_type": "execute_result",
          "data": {
            "application/vnd.google.colaboratory.intrinsic+json": {
              "type": "string"
            },
            "text/plain": [
              "'දේශපාලන අර්බුදය තරඟය කලම්ප හා වීරයන් ඒ සඳහා කැපකිරීමක් කිරීමට ඉඩ දෙන්නේ නැත.'"
            ]
          },
          "metadata": {
            "tags": []
          },
          "execution_count": 27
        }
      ]
    },
    {
      "cell_type": "markdown",
      "metadata": {
        "id": "skw-4f_bje9o"
      },
      "source": [
        "Stem words"
      ]
    },
    {
      "cell_type": "code",
      "metadata": {
        "id": "7DJhfuC7exv7"
      },
      "source": [
        "import os\n",
        "\n",
        "import pygtrie as trie\n",
        "\n",
        "from sinling.config import RESOURCE_PATH\n",
        "from sinling.core import Stemmer\n",
        "\n",
        "__all__ = [\n",
        "    'SinhalaStemmer'\n",
        "]\n",
        "\n",
        "\n",
        "def _load_stem_dictionary():\n",
        "    stem_dict = dict()\n",
        "    with open(os.path.join(RESOURCE_PATH, 'stem_dictionary.txt'), 'r', encoding='utf-8') as fp:\n",
        "        for line in fp.read().split('\\n'):\n",
        "            try:\n",
        "                base, suffix = line.strip().split('\\t')\n",
        "                stem_dict[f'{base}{suffix}'] = (base, suffix)\n",
        "            except ValueError as _:\n",
        "                pass\n",
        "    return stem_dict\n",
        "\n",
        "\n",
        "def _load_suffixes():\n",
        "    suffixes = trie.Trie()\n",
        "    with open(os.path.join(RESOURCE_PATH, 'suffixes_list.txt'), 'r', encoding='utf-8') as fp:\n",
        "        for suffix in fp.read().split('\\n'):\n",
        "            suffixes[suffix[::-1]] = suffix\n",
        "    return suffixes\n",
        "\n",
        "\n",
        "class SinhalaStemmer(Stemmer):\n",
        "    def __init__(self):\n",
        "        super().__init__()\n",
        "        self.stem_dictionary = _load_stem_dictionary()\n",
        "        self.suffixes = _load_suffixes()\n",
        "\n",
        "    def stem(self, word):\n",
        "        if word in self.stem_dictionary:\n",
        "            return self.stem_dictionary[word]\n",
        "        else:\n",
        "            suffix = self.suffixes.longest_prefix(word[::-1]).key\n",
        "            if suffix is not None:\n",
        "                return word[0:-len(suffix)], word[len(word) - len(suffix):]\n",
        "            else:\n",
        "                return word, ''\n"
      ],
      "execution_count": null,
      "outputs": []
    },
    {
      "cell_type": "code",
      "metadata": {
        "id": "T1MBcxIotE2X",
        "colab": {
          "base_uri": "https://localhost:8080/"
        },
        "outputId": "a25f97f2-bbba-420b-848d-b473b58c241e"
      },
      "source": [
        "\n",
        "stemmer = stemmer()\n",
        "\n",
        "def stem_word(word: str) -> str:\n",
        "    word= translate_to_sinhala(word)\n",
        "    \"\"\"\n",
        "    Stemming words\n",
        "    :param word: word\n",
        "    :return: stemmed word\n",
        "    \"\"\"\n",
        "    if len(word) < 4:\n",
        "        return word\n",
        "\n",
        "    # remove 'ට'\n",
        "    if word[-1] == 'ට':\n",
        "        return word[:-1]\n",
        "\n",
        "    # remove 'ම'\n",
        "    if word[-1] == 'ම':\n",
        "        return word[:-1]\n",
        "\n",
        "    # remove 'ද'\n",
        "    if word[-1] == 'ද':\n",
        "        return word[:-1]\n",
        "\n",
        "    # remove 'ටත්'\n",
        "    if word[-3:] == 'ටත්':\n",
        "        return word[:-3]\n",
        "\n",
        "    # remove 'එක්'\n",
        "    if word[-3:] == 'ෙක්':\n",
        "        return word[:-3]\n",
        "\n",
        "    # remove 'යේ'\n",
        "    if word[-2:] == 'යේ':\n",
        "        return word[:-2]\n",
        "\n",
        "    # remove 'ගෙ' (instead of ගේ because this step comes after simplifying text)\n",
        "    if word[-2:] == 'ගෙ':\n",
        "        return word[:-2]\n",
        "\n",
        "    # remove 'එ'\n",
        "    if word[-1:] == 'ෙ':\n",
        "        return word[:-1]\n",
        "\n",
        "    # remove 'ක්'\n",
        "    if word[-2:] == 'ක්':\n",
        "        return word[:-2]\n",
        "\n",
        "    # remove 'වත්'\n",
        "    if word[-3:] == 'වත්':\n",
        "        return word[:-3]\n",
        "\n",
        "    word=stemmer.stem(word)\n",
        "    word=word[0]\n",
        "\n",
        "\n",
        "    # else\n",
        "    return word\n",
        "\n",
        "\n",
        "print(stem_word('ගරසරප'))\n",
        "print(stem_word('චිත්‍රපටය'))\n",
        "print(stem_word('පහල'))\n",
        "print(stem_word('තියෙන'))\n",
        "print(stem_word('සම්බන්ධකය'))\n",
        "print(stem_word('එකෙන්'))\n",
        "print(stem_word('බාගත'))\n",
        "print(stem_word('කරගන්න'))\n",
        "#විපක්ෂයේ,විපක්ෂව,විපක්ෂකම,විපක්ෂය,විපක්ෂයා \n",
        "\n",
        "print(stem_word('ගරසරප චිත්‍රපටය පහල තියෙන සම්බන්ධකය එකෙන් බාගත කරගන්න'))"
      ],
      "execution_count": null,
      "outputs": [
        {
          "output_type": "stream",
          "text": [
            "ගරසරප\n",
            "චිත්‍රපට\n",
            "පහල\n",
            "තියෙ\n",
            "සම්බන්ධක\n",
            "එ\n",
            "බාගත\n",
            "කරග\n",
            "ගරසරප චිත්‍රපටය පහල තියෙන සම්බන්ධකය එකෙන් බාගත කරග\n"
          ],
          "name": "stdout"
        }
      ]
    },
    {
      "cell_type": "markdown",
      "metadata": {
        "id": "jPwq3B5NI4FG"
      },
      "source": [
        "නායකයා නායකයෝ නායකයන් නායකයාට නායකයන්ට නායකයාගෙන් නායකයන්ගෙන් නායකයාගේ නායකයන්ගේ නායකයනි"
      ]
    },
    {
      "cell_type": "code",
      "metadata": {
        "colab": {
          "base_uri": "https://localhost:8080/"
        },
        "id": "HOFXIiv-TQWH",
        "outputId": "0da9d76e-d160-41de-c716-23f73e6e1e46"
      },
      "source": [
        "from sinling import SinhalaTokenizer as tokenizer,SinhalaStemmer as stemmer, POSTagger,preprocess, word_joiner,word_splitter\n",
        "stemmer = stemmer()\n",
        "\n",
        "#words = [\"නායකයා\",\"නායකයෝ\",\"නායකයන්\",\"නායකයාට\",\"නායකයන්ට\",\"නායකයාගෙන්\",\"නායකයන්ගෙන්\",\"නායකයාගේ\",\"නායකයන්ගේ\",\"නායකයනි\"]\n",
        "words = [\"ගරසරප\",\"චිත්‍රපටය\",\"පහල\",\"තියෙන\",\"සම්බන්ධකය\",\"එකෙන්\",\"බාගත\",\"කරගන්න\"]\n",
        "\n",
        "for word in words:\n",
        "  word=stemmer.stem(word)\n",
        "  word=word[0]\n",
        "  print(word)\n"
      ],
      "execution_count": null,
      "outputs": [
        {
          "output_type": "stream",
          "text": [
            "ගරසරප\n",
            "චිත්‍රපට\n",
            "පහ\n",
            "තියෙ\n",
            "සම්බන්ධක\n",
            "එ\n",
            "බාගත\n",
            "කරග\n"
          ],
          "name": "stdout"
        }
      ]
    },
    {
      "cell_type": "markdown",
      "metadata": {
        "id": "Tc-5-4ZriVK9"
      },
      "source": [
        "POS Tagging"
      ]
    },
    {
      "cell_type": "code",
      "metadata": {
        "colab": {
          "base_uri": "https://localhost:8080/"
        },
        "id": "FbsFF84CiVnv",
        "outputId": "00caa58a-7632-4691-9af2-c67e669a6027"
      },
      "source": [
        "import os\n",
        "from typing import List, Text, Tuple\n",
        "\n",
        "import joblib\n",
        "\n",
        "from sinling.sinhala.stemmer import SinhalaStemmer\n",
        "from sinling.config import RESOURCE_PATH\n",
        "\n",
        "from typing import List, Text, Tuple\n",
        "\n",
        "__all__ = ['Tagger']\n",
        "\n",
        "\n",
        "class Tagger:\n",
        "    def predict(self, tokens: List[Text]) -> List[Tuple[Text, Text]]:\n",
        "        raise NotImplementedError\n",
        "\n",
        "\n",
        "__all__ = [\n",
        "    'POSTagger'\n",
        "]\n",
        "\n",
        "\n",
        "class POSTagger(Tagger):\n",
        "    def __init__(self):\n",
        "        self._model = joblib.load(os.path.join(RESOURCE_PATH, 'pos-tagger-crf-sinling.joblib'))\n",
        "        self._stemmer = SinhalaStemmer()\n",
        "\n",
        "    def predict(self, x: List[List[Text]]) -> List[List[Tuple[Text, Text]]]:\n",
        "        features = [[self._word2features(ts, i) for i in range(len(ts))] for ts in x]\n",
        "        pos_tags = self._model.predict(features)\n",
        "        return [list(zip(x[ix], pos_tags[ix])) for ix in range(len(x))]\n",
        "\n",
        "    def _word2features(self, sent, i):\n",
        "        word = sent[i]\n",
        "        stem, suff = self._stemmer.stem(word)\n",
        "        features = {\n",
        "            'bias': 1.0,\n",
        "            word: True,\n",
        "            f'STEM': stem,\n",
        "            f'SUFF': suff,\n",
        "            'len(word)': len(word),\n",
        "            'word.isdigit()': word.isdigit(),\n",
        "        }\n",
        "        if i > 0:\n",
        "            word_prev = sent[i - 1]\n",
        "            features.update({\n",
        "                f'-1:word': word_prev,\n",
        "                '-1:word.isdigit()': word_prev.isdigit(),\n",
        "            })\n",
        "        else:\n",
        "            features['BOS'] = True\n",
        "        if i < len(sent) - 1:\n",
        "            word_next = sent[i + 1]\n",
        "            features.update({\n",
        "                f'+1:word': word_next,\n",
        "                '+1:word.isdigit()': word_next.isdigit(),\n",
        "            })\n",
        "        else:\n",
        "            features['EOS'] = True\n",
        "        return features\n",
        "\n",
        "\n",
        "if __name__ == '__main__':\n",
        "    from sinling import SinhalaTokenizer\n",
        "\n",
        "    tokenizer = SinhalaTokenizer()\n",
        "\n",
        "    document = 'ගරසරප චිත්‍රපට පහල තියෙ සම්බන්ධක එක  බාගත කරග' \\\n",
        "               'ඇතැම් වෛරස් රෝග වලට වැක්සීන හෙවත් එන්නත් ද වෛරස් නාශක ඖෂධ ද තිබුනද සියලූ‍ වෛරස් ' \\\n",
        "               'සම්බන්ධයෙන් ඒ න්‍යාය වැඩ කරන්නේ නැත. වසූරිය වෛරසය මිනිසා විසින් මිහිමතින් තුරන් කර තිබේ.'\n",
        "\n",
        "    tokenized_sentences = [tokenizer.tokenize(f'{ss}.') for ss in tokenizer.split_sentences(document)]\n",
        "    print(tokenized_sentences)\n",
        "    tagger = POSTagger()\n",
        "\n",
        "    pos_tags = tagger.predict(tokenized_sentences)\n",
        "\n",
        "    for sent in pos_tags:\n",
        "        print(sent)\n"
      ],
      "execution_count": null,
      "outputs": [
        {
          "output_type": "stream",
          "text": [
            "[['ගරසරප', 'චිත්\\u200dරපට', 'පහල', 'තියෙ', 'සම්බන්ධක', 'එක', 'බාගත', 'කරග', '.']]\n",
            "[('ගරසරප', 'JJ'), ('චිත්\\u200dරපට', 'NNC'), ('පහල', 'JJ'), ('තියෙ', 'NNC'), ('සම්බන්ධක', 'NNC'), ('එක', 'NUM'), ('බාගත', 'NNC'), ('කරග', 'VFM'), ('.', 'FS')]\n"
          ],
          "name": "stdout"
        }
      ]
    },
    {
      "cell_type": "markdown",
      "metadata": {
        "id": "T_ZTgZxrjzRw"
      },
      "source": [
        "Remove english words"
      ]
    },
    {
      "cell_type": "code",
      "metadata": {
        "colab": {
          "base_uri": "https://localhost:8080/"
        },
        "id": "aB9IHJDCw5Ae",
        "outputId": "778b6347-a185-413d-ba90-a0795eb35322"
      },
      "source": [
        "import nltk\n",
        "nltk.download('words')\n",
        "import string\n",
        "\n",
        "def remove_english_words(sent: str) -> str:\n",
        "  \n",
        "  words = set(nltk.corpus.words.words())\n",
        "  string_text = \"\".join(w for w in sent \\\n",
        "\n",
        "         if not w in words)\n",
        "\n",
        "  string_text = string_text.translate(str.maketrans('', '', string.punctuation))\n",
        "\n",
        "  return string_text\n"
      ],
      "execution_count": null,
      "outputs": [
        {
          "output_type": "stream",
          "text": [
            "[nltk_data] Downloading package words to /root/nltk_data...\n",
            "[nltk_data]   Unzipping corpora/words.zip.\n"
          ],
          "name": "stdout"
        }
      ]
    },
    {
      "cell_type": "markdown",
      "metadata": {
        "id": "bkfPoBBkibat"
      },
      "source": [
        "remove neutral data rows"
      ]
    },
    {
      "cell_type": "code",
      "metadata": {
        "colab": {
          "base_uri": "https://localhost:8080/"
        },
        "id": "ski2H9Xkih-S",
        "outputId": "c5fe1cd0-c3b2-4b14-f9f6-50c1f116f71c"
      },
      "source": [
        "# importing pandas as pd\n",
        "import pandas as pd\n",
        "  \n",
        "# Read the csv file and construct the \n",
        "# dataframe\n",
        "df = pd.read_csv('cleaned data.csv')\n",
        "  \n",
        "# First filter out those rows which\n",
        "# does not contain any data\n",
        "df = df.dropna(how = 'all')\n",
        "  \n",
        "# Filter all rows for which the player's\n",
        "# age is greater than or equal to 25\n",
        "df.drop(df[df['Class'] == 'Neutral'].index, inplace = True)\n",
        "  \n",
        "# Print the modified dataframe\n",
        "print(df.head(15))\n",
        "  \n",
        "# Print the shape of the dataframe\n",
        "print(df.shape)"
      ],
      "execution_count": null,
      "outputs": [
        {
          "output_type": "stream",
          "text": [
            "2021-05-21 11:24:39,463 | INFO | utils.py:157 | _init_num_threads | NumExpr defaulting to 2 threads.\n"
          ],
          "name": "stderr"
        },
        {
          "output_type": "stream",
          "text": [
            "    Id  ...                                  Filtered_sentence\n",
            "0    0  ...  දින එකාබද්ධ විපක්ෂ මාධ්‍ ලේක රේනුක පෙරේර මහත න...\n",
            "1    1  ...  මා එක්සත් ජාතික පක්ෂ එකාබද්ධ විපක්ෂ පවති කිසි ...\n",
            "4    4  ...   විමල ගොන වගෙ  එකෙ මෑරෙ හද පරය රටට වෑඩ කර යකො හොර\n",
            "5    5  ...  ලැජ්ජ ස⁣හෝදර විදිහ දැක්කා ඔබ කුලල්කෑ වාසි ග තම...\n",
            "6    6  ...  ලැජ්ජ ස⁣හෝදර විදිහ දැක්කා ඔබ කුලල්කෑ වාසි ග තම...\n",
            "8    8  ...  ඉටි බං උතුර ඉල්ලනසෙට එක නැගෙනහිරපඉල්ල තම්බි සෙ...\n",
            "9    9  ...  පේනවාන තම්බි කවද ඉ උන් වාසි පැත්ත එහෙ ඉදගෙ උ ෂ...\n",
            "11  12  ...                      ඉස්ලාම ත්‍රස්තවාදී එහි තේරු එ\n",
            "12  13  ...  පල පල තම්බි හු තම වැඩ බලාගෙ හිට අපි අපේ රට බලා...\n",
            "13  14  ...  අඩෝ තම්බි පර කට වහගෙ හිට අල්ලාහ් හොර ගැනි අයේෂ...\n",
            "14  15  ...  කාද යකෝ ඔසදී ඩීප්ෆ්‍රීසර එකෙ හිර කරල තිබ්බ පරය 👹️\n",
            "15  17  ...  එක පැත්ත බැලුවා උඩතලවි තම්බි දන ගැස්ස චරිතය තම...\n",
            "16  18  ...  සිංහලයා සිංහ පක්ෂ නැතිමු දෙමලා ඉලම පක්ෂ ඇත තම්...\n",
            "17  19  ...  මුස්ලි ලෝකයට පිලිලය වු මරක්ක කරන වහබ්වාද ෂ්‍රී...\n",
            "20  22  ...  මුරලිදර ඉන්ටර්වී සීරිස එකේ දෙ එක මයු රහීම්ස ගෙ...\n",
            "\n",
            "[15 rows x 4 columns]\n",
            "(735, 4)\n"
          ],
          "name": "stdout"
        }
      ]
    },
    {
      "cell_type": "code",
      "metadata": {
        "colab": {
          "base_uri": "https://localhost:8080/",
          "height": 279
        },
        "id": "2xtVVLVHjVs4",
        "outputId": "84fea889-bbf1-4282-b259-025b603a0df9"
      },
      "source": [
        "plt.rcParams['font.sans-serif']= \"cmr10\"\n",
        "sns.countplot(x='Class',hue='Class',data=df)\n",
        "plt.show()"
      ],
      "execution_count": null,
      "outputs": [
        {
          "output_type": "display_data",
          "data": {
            "image/png": "[encoded data removed]",
            "text/plain": [
              "<Figure size 432x288 with 1 Axes>"
            ]
          },
          "metadata": {
            "tags": [],
            "needs_background": "light"
          }
        }
      ]
    },
    {
      "cell_type": "code",
      "metadata": {
        "id": "7ASZ7Wbskr2t"
      },
      "source": [
        "df.to_csv('cleaned data.csv')"
      ],
      "execution_count": null,
      "outputs": []
    },
    {
      "cell_type": "markdown",
      "metadata": {
        "id": "2Tg-34cX4dew"
      },
      "source": [
        "balance data-Undersample"
      ]
    },
    {
      "cell_type": "code",
      "metadata": {
        "colab": {
          "base_uri": "https://localhost:8080/",
          "height": 316
        },
        "id": "aqTCu3ed4dK8",
        "outputId": "46f04d42-e215-4e57-ee2b-049dc2b6214e"
      },
      "source": [
        "from imblearn.under_sampling import RandomUnderSampler\n",
        "under_sampler = RandomUnderSampler(random_state=42)\n",
        "X_res, y_res = under_sampler.fit_resample(X_train, y_train)\n",
        "print(f\"Training target statistics: {Counter(y_res)}\")\n",
        "print(f\"Testing target statistics: {Counter(y_test)}\")"
      ],
      "execution_count": null,
      "outputs": [
        {
          "output_type": "stream",
          "text": [
            "/usr/local/lib/python3.7/dist-packages/sklearn/externals/six.py:31: FutureWarning: The module is deprecated in version 0.21 and will be removed in version 0.23 since we've dropped support for Python 2.7. Please rely on the official version of six (https://pypi.org/project/six/).\n",
            "  \"(https://pypi.org/project/six/).\", FutureWarning)\n",
            "/usr/local/lib/python3.7/dist-packages/sklearn/utils/deprecation.py:144: FutureWarning: The sklearn.neighbors.base module is  deprecated in version 0.22 and will be removed in version 0.24. The corresponding classes / functions should instead be imported from sklearn.neighbors. Anything that cannot be imported from sklearn.neighbors is now part of the private API.\n",
            "  warnings.warn(message, FutureWarning)\n"
          ],
          "name": "stderr"
        },
        {
          "output_type": "error",
          "ename": "NameError",
          "evalue": "ignored",
          "traceback": [
            "\u001b[0;31m---------------------------------------------------------------------------\u001b[0m",
            "\u001b[0;31mNameError\u001b[0m                                 Traceback (most recent call last)",
            "\u001b[0;32m<ipython-input-1-e21f554e231d>\u001b[0m in \u001b[0;36m<module>\u001b[0;34m()\u001b[0m\n\u001b[1;32m      1\u001b[0m \u001b[0;32mfrom\u001b[0m \u001b[0mimblearn\u001b[0m\u001b[0;34m.\u001b[0m\u001b[0munder_sampling\u001b[0m \u001b[0;32mimport\u001b[0m \u001b[0mRandomUnderSampler\u001b[0m\u001b[0;34m\u001b[0m\u001b[0;34m\u001b[0m\u001b[0m\n\u001b[1;32m      2\u001b[0m \u001b[0munder_sampler\u001b[0m \u001b[0;34m=\u001b[0m \u001b[0mRandomUnderSampler\u001b[0m\u001b[0;34m(\u001b[0m\u001b[0mrandom_state\u001b[0m\u001b[0;34m=\u001b[0m\u001b[0;36m42\u001b[0m\u001b[0;34m)\u001b[0m\u001b[0;34m\u001b[0m\u001b[0;34m\u001b[0m\u001b[0m\n\u001b[0;32m----> 3\u001b[0;31m \u001b[0mX_res\u001b[0m\u001b[0;34m,\u001b[0m \u001b[0my_res\u001b[0m \u001b[0;34m=\u001b[0m \u001b[0munder_sampler\u001b[0m\u001b[0;34m.\u001b[0m\u001b[0mfit_resample\u001b[0m\u001b[0;34m(\u001b[0m\u001b[0mX_train\u001b[0m\u001b[0;34m,\u001b[0m \u001b[0my_train\u001b[0m\u001b[0;34m)\u001b[0m\u001b[0;34m\u001b[0m\u001b[0;34m\u001b[0m\u001b[0m\n\u001b[0m\u001b[1;32m      4\u001b[0m \u001b[0mprint\u001b[0m\u001b[0;34m(\u001b[0m\u001b[0;34mf\"Training target statistics: {Counter(y_res)}\"\u001b[0m\u001b[0;34m)\u001b[0m\u001b[0;34m\u001b[0m\u001b[0;34m\u001b[0m\u001b[0m\n\u001b[1;32m      5\u001b[0m \u001b[0mprint\u001b[0m\u001b[0;34m(\u001b[0m\u001b[0;34mf\"Testing target statistics: {Counter(y_test)}\"\u001b[0m\u001b[0;34m)\u001b[0m\u001b[0;34m\u001b[0m\u001b[0;34m\u001b[0m\u001b[0m\n",
            "\u001b[0;31mNameError\u001b[0m: name 'X_train' is not defined"
          ]
        }
      ]
    }
  ]
}