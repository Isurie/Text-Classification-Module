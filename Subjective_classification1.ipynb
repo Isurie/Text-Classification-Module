{
  "nbformat": 4,
  "nbformat_minor": 0,
  "metadata": {
    "colab": {
      "name": "Subjective classification1.ipynb",
      "provenance": [],
      "authorship_tag": "ABX9TyMDDz42s0LzALKLUwiXXIA/"
    },
    "kernelspec": {
      "name": "python3",
      "display_name": "Python 3"
    },
    "language_info": {
      "name": "python"
    }
  },
  "cells": [
    {
      "cell_type": "code",
      "metadata": {
        "id": "sNc3XwC0j-dW"
      },
      "source": [
        "pip install flashtext"
      ],
      "execution_count": null,
      "outputs": []
    },
    {
      "cell_type": "code",
      "metadata": {
        "id": "3TaelTWZ1QBf"
      },
      "source": [
        "import pandas as pd\n",
        "import numpy as np\n",
        "from sklearn.feature_extraction.text import TfidfVectorizer\n",
        "from sklearn.model_selection import train_test_split\n",
        "from sklearn.neighbors import KNeighborsClassifier\n",
        "from sklearn.metrics import accuracy_score, precision_score, recall_score, confusion_matrix\n",
        "pd.set_option('display.max_colwidth', -1)\n",
        "\n",
        "from keras.wrappers.scikit_learn import KerasClassifier\n",
        "from tensorflow.keras.layers import Embedding\n",
        "from tensorflow.keras.layers import Dense\n",
        "from tensorflow.keras.layers import Bidirectional\n",
        "from tensorflow.keras.layers import LSTM\n",
        "from tensorflow.keras.layers import SpatialDropout1D\n",
        "from tensorflow.keras.optimizers import Adam\n",
        "from tensorflow.keras.preprocessing.text import Tokenizer\n",
        "from sklearn.model_selection import cross_val_score\n",
        "from nltk.tokenize import word_tokenize\n",
        "from sklearn.utils import shuffle\n",
        "from nltk.tokenize.treebank import TreebankWordDetokenizer as Detok\n",
        "from nltk.tokenize.treebank import TreebankWordDetokenizer\n",
        "from sklearn.naive_bayes import MultinomialNB\n",
        "from sklearn.pipeline import Pipeline\n",
        "from sklearn.feature_extraction.text import TfidfTransformer\n",
        "from sklearn.feature_extraction.text import CountVectorizer\n",
        "from sklearn.metrics import accuracy_score\n",
        "from sklearn.metrics import classification_report, confusion_matrix\n",
        "from sklearn.linear_model import SGDClassifier\n",
        "from tensorflow.keras.preprocessing.sequence import pad_sequences\n",
        "from tensorflow.keras.models import Sequential\n",
        "from tensorflow.keras.callbacks import ModelCheckpoint, EarlyStopping\n",
        "from sklearn.model_selection import KFold\n",
        "import matplotlib.pyplot as plt\n",
        "from tensorflow.keras.regularizers import l2\n",
        "from tensorflow.python.keras.utils.vis_utils import plot_model\n",
        "from imblearn.over_sampling import ADASYN, SMOTE, RandomOverSampler\n",
        "import tensorflow as tf"
      ],
      "execution_count": null,
      "outputs": []
    },
    {
      "cell_type": "code",
      "metadata": {
        "id": "wEKvcR0U7tIt"
      },
      "source": [
        "from sklearn.cluster import KMeans\n",
        "import pandas as pd\n",
        "import numpy as np\n",
        "from sklearn.preprocessing import MinMaxScaler,StandardScaler\n",
        "from sklearn.model_selection import train_test_split\n",
        "from sklearn.neighbors import KNeighborsClassifier\n",
        "from sklearn.metrics import confusion_matrix,f1_score,accuracy_score\n",
        "from matplotlib import pyplot as plt\n",
        "import seaborn as sns"
      ],
      "execution_count": null,
      "outputs": []
    },
    {
      "cell_type": "code",
      "metadata": {
        "colab": {
          "resources": {
            "http://localhost:8080/nbextensions/google.colab/files.js": {
              "data": "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",
              "ok": true,
              "headers": [
                [
                  "content-type",
                  "application/javascript"
                ]
              ],
              "status": 200,
              "status_text": ""
            }
          },
          "base_uri": "https://localhost:8080/",
          "height": 73
        },
        "id": "l-aKbiR11JNQ",
        "outputId": "d806cb22-6d84-4b7c-84bc-91588f328708"
      },
      "source": [
        "from google.colab import files\n",
        "uploaded = files.upload()"
      ],
      "execution_count": null,
      "outputs": [
        {
          "output_type": "display_data",
          "data": {
            "text/html": [
              "\n",
              "     <input type=\"file\" id=\"files-17d0b029-68c4-46b1-8c8b-5b9cb36ed562\" name=\"files[]\" multiple disabled\n",
              "        style=\"border:none\" />\n",
              "     <output id=\"result-17d0b029-68c4-46b1-8c8b-5b9cb36ed562\">\n",
              "      Upload widget is only available when the cell has been executed in the\n",
              "      current browser session. Please rerun this cell to enable.\n",
              "      </output>\n",
              "      <script src=\"/nbextensions/google.colab/files.js\"></script> "
            ],
            "text/plain": [
              "<IPython.core.display.HTML object>"
            ]
          },
          "metadata": {
            "tags": []
          }
        },
        {
          "output_type": "stream",
          "text": [
            "Saving cleaned data.csv to cleaned data.csv\n"
          ],
          "name": "stdout"
        }
      ]
    },
    {
      "cell_type": "code",
      "metadata": {
        "colab": {
          "base_uri": "https://localhost:8080/",
          "height": 519
        },
        "id": "JbaJeveO1XRB",
        "outputId": "dc9b7dd5-e9ba-4f86-b322-6cda70495eb6"
      },
      "source": [
        "dataset=pd.read_csv('cleaned data.csv')\n",
        "dataset.dropna(inplace = True)\n",
        "dataset"
      ],
      "execution_count": null,
      "outputs": [
        {
          "output_type": "execute_result",
          "data": {
            "text/html": [
              "<div>\n",
              "<style scoped>\n",
              "    .dataframe tbody tr th:only-of-type {\n",
              "        vertical-align: middle;\n",
              "    }\n",
              "\n",
              "    .dataframe tbody tr th {\n",
              "        vertical-align: top;\n",
              "    }\n",
              "\n",
              "    .dataframe thead th {\n",
              "        text-align: right;\n",
              "    }\n",
              "</style>\n",
              "<table border=\"1\" class=\"dataframe\">\n",
              "  <thead>\n",
              "    <tr style=\"text-align: right;\">\n",
              "      <th></th>\n",
              "      <th>Id</th>\n",
              "      <th>Text</th>\n",
              "      <th>Class</th>\n",
              "      <th>Filtered_sentence</th>\n",
              "    </tr>\n",
              "  </thead>\n",
              "  <tbody>\n",
              "    <tr>\n",
              "      <th>0</th>\n",
              "      <td>0</td>\n",
              "      <td>දින ඒකාබද්ධ විපක්ෂයේ මාධ්‍ය ලේකම් රේණුක පෙරේරා මහතාගේ නිවේදනයට අදාාලව අමිත් වීරසිංහ කල මාධ්‍ය සාකච්ඡාව…</td>\n",
              "      <td>Political</td>\n",
              "      <td>දින එකාබද්ධ විපක්ෂ මාධ්‍ ලේක රේනුක පෙරේර මහත නිවේදනය අදාාල අමි වීරසිංහ කල මාධ්‍ සාකච්චාව…</td>\n",
              "    </tr>\n",
              "    <tr>\n",
              "      <th>1</th>\n",
              "      <td>1</td>\n",
              "      <td>මා UNP හෝ ඒකාබද්ධ විපක්ෂය මගින් හෝ දැනට පවතින කිසිම පක්ෂයකින් ඡන්දයකට ඉදිරිපත් වෙනවා කියා නැ ඒකාබද්ධ විපක්ෂය වැනි වි…</td>\n",
              "      <td>Political</td>\n",
              "      <td>මා එක්සත් ජාතික පක්ෂ එකාබද්ධ විපක්ෂ පවති කිසි පක්ෂ චන්දයක ඉදිරිප වෙ කි නැ එකාබද්ධ විපක්ෂ වි…</td>\n",
              "    </tr>\n",
              "    <tr>\n",
              "      <th>2</th>\n",
              "      <td>2</td>\n",
              "      <td>කිමද මේ තරම් කොහේදෝ ඇති විදපු ගලක් හා උරන මා මිතුරු පරය</td>\n",
              "      <td>Neutral</td>\n",
              "      <td>කිම තර කොහේද විද ගල උරන මා මිතුර පරය</td>\n",
              "    </tr>\n",
              "    <tr>\n",
              "      <th>3</th>\n",
              "      <td>3</td>\n",
              "      <td>එහෙම කොහොමද උනේ 😂😂 පරය අපිව අයින් කරල නේ 😂</td>\n",
              "      <td>Neutral</td>\n",
              "      <td>එහෙ කොහොම උනේ 😂😂 පරය අපි අය කරල නේ 😂</td>\n",
              "    </tr>\n",
              "    <tr>\n",
              "      <th>4</th>\n",
              "      <td>4</td>\n",
              "      <td>විමලයා ගොනෙක් වගෙ stage එකෙ මෑරෙන්න හදනවා පරය රටට වෑඩක් කරපන් යකො හොරා</td>\n",
              "      <td>Political</td>\n",
              "      <td>විමල ගොන වගෙ  එකෙ මෑරෙ හද පරය රටට වෑඩ කර යකො හොර</td>\n",
              "    </tr>\n",
              "    <tr>\n",
              "      <th>...</th>\n",
              "      <td>...</td>\n",
              "      <td>...</td>\n",
              "      <td>...</td>\n",
              "      <td>...</td>\n",
              "    </tr>\n",
              "    <tr>\n",
              "      <th>1674</th>\n",
              "      <td>1705</td>\n",
              "      <td>පීටීඒ සහ අයිසීසීපීආර් පනත යටතේ වැරදි ලෙස ගොනු කර ඇති විමර්ශන හෝ නඩු ප්‍රමාද වීම පිළිබඳව ඔබ සතුටු නොවන්නේ නම් කරුණාකර මුහීඩ් ජීරාන් මානව හිමිකම් ක්‍රියාකාරික වෙත දන්වන්න</td>\n",
              "      <td>Racist</td>\n",
              "      <td>පීටීඑ අයිසීසීපීඅර පනත යටත වැරදි ගො කර විමර්ෂ නඩු ප්‍රමා වීම ඔබ සතුට නොව කරුනාකර මුහීඩ ජීරා මාන හිමික ක්‍රියාකාරික දන්ව</td>\n",
              "    </tr>\n",
              "    <tr>\n",
              "      <th>1675</th>\n",
              "      <td>1706</td>\n",
              "      <td>අරාබි රටවල් මුස්ලිම් නොවන සඳහා සුපිරි වෙළඳසැල් වල තිබුණු ඌරු මස් අවසර ඇත මනුෂ්‍යත්වයට ගරු කරන්න</td>\n",
              "      <td>Racist</td>\n",
              "      <td>අරාබි රට මුස්ලි නොව සුපිරි වෙලදසැල වල තිබ උරු මස් අවසර ඇත මනුෂ්‍යත්වය ගරු කර</td>\n",
              "    </tr>\n",
              "    <tr>\n",
              "      <th>1676</th>\n",
              "      <td>1707</td>\n",
              "      <td>හැවිරිදි මුස්ලිම් පිරිමි ළමයෙක් ඉස්ලාම් භීතිකාවේ ඉලක්කය බවට පත්වූ අතර ගෝලීය විවෘත රජයේ සමුළු අවස්ථාව සඳහා ඔහුගේ නියෝජනය විනාශ විය</td>\n",
              "      <td>Racist</td>\n",
              "      <td>හැවිරිදි මුස්ලි පිරි ලමය ඉස්ලා බීතික ඉලක්ක පත්ව ගෝල විවෘත රජ සමුල අවස්ථා ඔහු නියෝජන විනාෂ විය</td>\n",
              "    </tr>\n",
              "    <tr>\n",
              "      <th>1677</th>\n",
              "      <td>1708</td>\n",
              "      <td>ශ්‍රී ලංකාවේ මුස්ලිම් ප්‍රජාව වෙත එල්ල කරන දේශපාලන හා ආගමික පීඩනය සම්බන්ධයෙන් යුරෝපා සංගමයේ ඒකාබද්ධ ප්‍රකාශය</td>\n",
              "      <td>Racist</td>\n",
              "      <td>ලංක මුස්ලි ප්‍රජා එල් කරන දේෂපාල අගමික පීඩන සම්බන්ධ යුරෝප සංගම එකාබද්ධ ප්‍රකාෂ</td>\n",
              "    </tr>\n",
              "    <tr>\n",
              "      <th>1678</th>\n",
              "      <td>1709</td>\n",
              "      <td>රාජ්‍ය අංශයේ කාන්තා ඇඳුම් පැළඳුම් සංග්‍රහය පිළිබඳ  දිනැති පබ්අඩ් චක්‍රලේඛ අංක  පාලනය කරන අගමැති කාර්යාලයේ ලිපිය</td>\n",
              "      <td>Racist</td>\n",
              "      <td>රාජ්‍ අංෂ කාන්ත ඇද පැලද සංග්‍රහ දිනැ පබ්අඩ චක්‍රලේක අංක පාලන කරන අගමැ කාර්යාල ලි</td>\n",
              "    </tr>\n",
              "  </tbody>\n",
              "</table>\n",
              "<p>1678 rows × 4 columns</p>\n",
              "</div>"
            ],
            "text/plain": [
              "        Id  ...                                                                                                       Filtered_sentence\n",
              "0     0     ...  දින එකාබද්ධ විපක්ෂ මාධ්‍ ලේක රේනුක පෙරේර මහත නිවේදනය අදාාල අමි වීරසිංහ කල මාධ්‍ සාකච්චාව…                             \n",
              "1     1     ...  මා එක්සත් ජාතික පක්ෂ එකාබද්ධ විපක්ෂ පවති කිසි පක්ෂ චන්දයක ඉදිරිප වෙ කි නැ එකාබද්ධ විපක්ෂ වි…                          \n",
              "2     2     ...  කිම තර කොහේද විද ගල උරන මා මිතුර පරය                                                                                  \n",
              "3     3     ...  එහෙ කොහොම උනේ 😂😂 පරය අපි අය කරල නේ 😂                                                                                  \n",
              "4     4     ...  විමල ගොන වගෙ  එකෙ මෑරෙ හද පරය රටට වෑඩ කර යකො හොර                                                                      \n",
              "...  ..     ...                                               ...                                                                      \n",
              "1674  1705  ...  පීටීඑ අයිසීසීපීඅර පනත යටත වැරදි ගො කර විමර්ෂ නඩු ප්‍රමා වීම ඔබ සතුට නොව කරුනාකර මුහීඩ ජීරා මාන හිමික ක්‍රියාකාරික දන්ව\n",
              "1675  1706  ...  අරාබි රට මුස්ලි නොව සුපිරි වෙලදසැල වල තිබ උරු මස් අවසර ඇත මනුෂ්‍යත්වය ගරු කර                                          \n",
              "1676  1707  ...  හැවිරිදි මුස්ලි පිරි ලමය ඉස්ලා බීතික ඉලක්ක පත්ව ගෝල විවෘත රජ සමුල අවස්ථා ඔහු නියෝජන විනාෂ විය                         \n",
              "1677  1708  ...  ලංක මුස්ලි ප්‍රජා එල් කරන දේෂපාල අගමික පීඩන සම්බන්ධ යුරෝප සංගම එකාබද්ධ ප්‍රකාෂ                                        \n",
              "1678  1709  ...  රාජ්‍ අංෂ කාන්ත ඇද පැලද සංග්‍රහ දිනැ පබ්අඩ චක්‍රලේක අංක පාලන කරන අගමැ කාර්යාල ලි                                      \n",
              "\n",
              "[1678 rows x 4 columns]"
            ]
          },
          "metadata": {
            "tags": []
          },
          "execution_count": 6
        }
      ]
    },
    {
      "cell_type": "markdown",
      "metadata": {
        "id": "638_KN6w67G6"
      },
      "source": [
        "KNN"
      ]
    },
    {
      "cell_type": "code",
      "metadata": {
        "id": "e6dSoNVU8En7"
      },
      "source": [
        "from sklearn.neighbors import KNeighborsClassifier\n",
        "\n",
        "X_train, X_test, y_train, y_test = train_test_split(dataset.Text, dataset.Class, test_size=0.7)\n",
        "\n",
        "vectorizer = TfidfVectorizer()\n",
        "X_train = vectorizer.fit_transform(X_train)\n",
        "X_test = vectorizer.transform(X_test)"
      ],
      "execution_count": null,
      "outputs": []
    },
    {
      "cell_type": "code",
      "metadata": {
        "colab": {
          "base_uri": "https://localhost:8080/"
        },
        "id": "8NkEScIC7VMH",
        "outputId": "002dd4f3-6626-4137-f3d7-0f5e9ad7d6c8"
      },
      "source": [
        "import math\n",
        "math.sqrt(len(y_test))"
      ],
      "execution_count": null,
      "outputs": [
        {
          "output_type": "execute_result",
          "data": {
            "text/plain": [
              "34.27827300200522"
            ]
          },
          "metadata": {
            "tags": []
          },
          "execution_count": 8
        }
      ]
    },
    {
      "cell_type": "code",
      "metadata": {
        "id": "fimJ2LcH7SZQ"
      },
      "source": [
        "#define the model: Init K-NN\n",
        "classifier = KNeighborsClassifier(n_neighbors=33, p=3,metric='euclidean')"
      ],
      "execution_count": null,
      "outputs": []
    },
    {
      "cell_type": "code",
      "metadata": {
        "colab": {
          "base_uri": "https://localhost:8080/"
        },
        "id": "JH2l7V5f7ZxG",
        "outputId": "b453e89c-7683-4e77-e48b-eeaaf9a4e091"
      },
      "source": [
        "classifier.fit(X_train,y_train)\n"
      ],
      "execution_count": null,
      "outputs": [
        {
          "output_type": "execute_result",
          "data": {
            "text/plain": [
              "KNeighborsClassifier(algorithm='auto', leaf_size=30, metric='euclidean',\n",
              "                     metric_params=None, n_jobs=None, n_neighbors=33, p=3,\n",
              "                     weights='uniform')"
            ]
          },
          "metadata": {
            "tags": []
          },
          "execution_count": 10
        }
      ]
    },
    {
      "cell_type": "code",
      "metadata": {
        "colab": {
          "base_uri": "https://localhost:8080/"
        },
        "id": "pAVD3E1c7eht",
        "outputId": "b2152270-41e7-434e-fc2f-e8cc7b81c3f6"
      },
      "source": [
        "y_pred = classifier.predict(X_test)\n",
        "y_pred"
      ],
      "execution_count": null,
      "outputs": [
        {
          "output_type": "execute_result",
          "data": {
            "text/plain": [
              "array(['Neutral', 'Neutral', 'Neutral', ..., 'Neutral', 'Neutral',\n",
              "       'Neutral'], dtype=object)"
            ]
          },
          "metadata": {
            "tags": []
          },
          "execution_count": 11
        }
      ]
    },
    {
      "cell_type": "code",
      "metadata": {
        "colab": {
          "base_uri": "https://localhost:8080/"
        },
        "id": "fQEo8Q7B7hPn",
        "outputId": "14eff061-c040-43d9-ceb6-6df15fed5c3f"
      },
      "source": [
        "#Evaluate Model\n",
        "cm = confusion_matrix(y_test,y_pred)\n",
        "print(cm)"
      ],
      "execution_count": null,
      "outputs": [
        {
          "output_type": "stream",
          "text": [
            "[[653   0   2   0   0   0]\n",
            " [101   2   0   0   0   0]\n",
            " [ 99   0   3   0   1   0]\n",
            " [106   0   0   5   0   0]\n",
            " [107   0   0   0   0   0]\n",
            " [ 95   0   0   0   0   1]]\n"
          ],
          "name": "stdout"
        }
      ]
    },
    {
      "cell_type": "code",
      "metadata": {
        "colab": {
          "base_uri": "https://localhost:8080/",
          "height": 279
        },
        "id": "lzRpbjFzIGsZ",
        "outputId": "f5ddaca7-04ef-4e4e-b27a-54c8eab4dd0f"
      },
      "source": [
        "import seaborn as sn\n",
        "sn.heatmap(cm, annot=True)\n",
        "plt.xlabel('Predicted')\n",
        "plt.ylabel('Actual')\n",
        "plt.show()"
      ],
      "execution_count": null,
      "outputs": [
        {
          "output_type": "display_data",
          "data": {
            "image/png": "[encoded data removed]",
            "text/plain": [
              "<Figure size 432x288 with 2 Axes>"
            ]
          },
          "metadata": {
            "tags": [],
            "needs_background": "light"
          }
        }
      ]
    },
    {
      "cell_type": "code",
      "metadata": {
        "colab": {
          "base_uri": "https://localhost:8080/"
        },
        "id": "ehYRlRkP7jrt",
        "outputId": "4693ecba-b87d-4e6f-9080-f237067626aa"
      },
      "source": [
        "print(f1_score(y_test, y_pred,average='micro'))\n",
        "print(accuracy_score(y_test, y_pred))"
      ],
      "execution_count": null,
      "outputs": [
        {
          "output_type": "stream",
          "text": [
            "0.5676595744680851\n",
            "0.5676595744680851\n"
          ],
          "name": "stdout"
        }
      ]
    },
    {
      "cell_type": "markdown",
      "metadata": {
        "id": "5rLuzcy0Fuxv"
      },
      "source": [
        "MultinomialNB"
      ]
    },
    {
      "cell_type": "code",
      "metadata": {
        "id": "cLHQ2fQFFvxl"
      },
      "source": [
        "X_train, X_test, y_train, y_test = train_test_split(dataset.Filtered_sentence, dataset.Class, test_size=0.35)"
      ],
      "execution_count": null,
      "outputs": []
    },
    {
      "cell_type": "code",
      "metadata": {
        "colab": {
          "base_uri": "https://localhost:8080/"
        },
        "id": "UYCJ7GwyFzct",
        "outputId": "e9d31297-bbe0-426b-8d8c-ff7e7ae97b17"
      },
      "source": [
        "vectorizer = TfidfVectorizer()\n",
        "X_train = vectorizer.fit_transform(X_train)\n",
        "X_test = vectorizer.transform(X_test)\n",
        "\n",
        "model = MultinomialNB()\n",
        "model.fit(X_train, y_train)\n",
        "predictions = model.predict(X_test)\n",
        "print('Accuracy: ', accuracy_score(y_test.astype(str), predictions.astype(str)) * 100)"
      ],
      "execution_count": null,
      "outputs": [
        {
          "output_type": "stream",
          "text": [
            "Accuracy:  51.42857142857142\n"
          ],
          "name": "stdout"
        }
      ]
    },
    {
      "cell_type": "code",
      "metadata": {
        "colab": {
          "base_uri": "https://localhost:8080/"
        },
        "id": "svtk0snHF3Ba",
        "outputId": "77511fda-cb28-40aa-8f01-9e862c879736"
      },
      "source": [
        "print (vectorizer.vocabulary_)"
      ],
      "execution_count": null,
      "outputs": [
        {
          "output_type": "stream",
          "text": [
            "{'උබ': 155, 'දර': 424, 'උන': 146, 'පස': 524, 'බල': 545, 'ඔබ': 217, 'ලල': 711, 'තම': 390, 'වහබ': 765, 'මල': 582, 'ඉර': 124, 'රහ': 682, 'ජන': 329, 'මහත': 591, 'පර': 506, 'ෂන': 773, 'සම': 804, 'පත': 496, 'කර': 262, 'ලවයස': 714, 'ඇස': 106, 'ඉද': 115, 'ඇග': 83, 'මව': 585, 'එල': 197, 'වදද': 733, 'මරද': 578, 'වයස': 745, 'එත': 186, 'ඇයට': 101, 'එක': 168, 'බද': 537, 'පක': 486, 'දනය': 417, 'අද': 21, 'අම': 41, 'රස': 680, 'කල': 279, 'කච': 234, 'හම': 846, 'රන': 659, 'සල': 819, 'පහල': 527, 'අවස': 65, 'නය': 467, 'ටඩ': 346, 'ෂප': 775, 'ඇද': 91, 'ගන': 297, 'කඩ': 241, 'කරන': 269, 'ඉන': 119, 'කද': 247, 'අතල': 19, 'අත': 17, 'වලට': 754, 'ටය': 350, 'ඉස': 133, 'සර': 814, 'අප': 32, 'නව': 476, 'දන': 416, 'මත': 566, 'ලකන': 688, 'කපනවම': 255, 'ෆන': 861, 'පහ': 525, 'සමහර': 811, 'තක': 378, 'එනව': 190, 'වචනයය': 725, 'උර': 161, 'පව': 519, 'කක': 232, 'ගත': 295, 'වග': 722, 'නට': 451, 'රල': 672, 'ගහ': 315, 'ඔන': 214, 'ගලග': 307, 'උත': 143, 'වර': 747, 'ගර': 303, 'නවර': 480, 'රත': 653, 'යටත': 609, 'යන': 613, 'රය': 670, 'ලබ': 704, 'ඉට': 111, 'ඉල': 126, 'ලනස': 702, 'නහ': 484, 'රපඉල': 662, 'අය': 44, 'රප': 661, 'සක': 784, 'සද': 793, 'අතර': 18, 'ගලන': 309, 'නරක': 473, 'යක': 601, 'රට': 650, 'තර': 393, 'ඩද': 365, 'උමත': 159, 'දයක': 422, 'සත': 792, 'පවත': 520, 'චන': 325, 'අර': 50, 'හල': 852, 'ෂර': 779, 'ෂයක': 778, 'ගච': 292, 'අගම': 6, 'හරක': 850, 'වට': 727, 'මර': 576, 'කනග': 250, 'ඉඩ': 112, 'මන': 571, 'ලය': 709, 'එර': 196, 'ජර': 342, 'ගද': 296, 'එහ': 203, 'නවන': 479, 'බන': 538, 'නක': 445, 'උබල': 157, 'පකය': 487, 'ලව': 712, 'ගහග': 316, 'ඔය': 223, 'අව': 58, 'රටට': 651, 'නම': 463, 'ගහන': 319, 'පනත': 499, 'රද': 657, 'නඩ': 452, 'රම': 666, 'හද': 840, 'වල': 752, 'බඩ': 534, 'බම': 540, 'ඇව': 105, 'ඇර': 102, 'ඉවර': 129, 'ඉත': 114, 'කරල': 278, 'උල': 162, 'තරග': 395, 'රෂ': 679, 'කවද': 284, 'කත': 245, 'කට': 237, 'එය': 194, 'ලස': 716, 'බබ': 539, 'වඩ': 730, 'ඉම': 122, 'හර': 849, 'තන': 387, 'ඔහ': 231, 'යය': 622, 'ඔව': 228, 'කන': 249, 'නවත': 478, 'උඩ': 138, 'අක': 0, 'ජව': 343, 'එජ': 181, 'පය': 505, 'වත': 731, 'කය': 260, 'ඔත': 212, 'මහ': 589, 'තය': 392, 'එන': 189, 'අස': 68, 'ධන': 439, 'ඇත': 87, 'අදහ': 25, 'බක': 529, 'කටය': 240, 'ගව': 312, 'බය': 541, 'තත': 386, 'තවයක': 404, 'වහන': 763, 'අන': 28, 'ධය': 441, 'ඉදග': 117, 'සහර': 828, 'අරක': 51, 'ඔක': 204, 'වන': 736, 'ලත': 695, 'ලග': 691, 'එප': 192, 'හලය': 854, 'රව': 673, 'ජනත': 330, 'මග': 559, 'යව': 625, 'නස': 483, 'දල': 427, 'යවන': 626, 'මරල': 581, 'චය': 326, 'බර': 542, 'මම': 572, 'ඔකට': 206, 'ඇබ': 96, 'මට': 562, 'අදර': 22, 'ඔර': 226, 'නල': 475, 'ටර': 352, 'මය': 574, 'ඔල': 227, 'ෆය': 862, 'එකක': 170, 'අඩ': 13, 'ටහ': 357, 'යල': 624, 'එකග': 171, 'සහය': 827, 'පද': 497, 'මවත': 586, 'ජස': 344, 'හදනව': 841, 'මළ': 597, 'පන': 498, 'කරනව': 271, 'ඇම': 97, 'යමප': 620, 'ලන': 700, 'රනව': 660, 'රජග': 647, 'අගමජ': 7, 'තරක': 394, 'අනත': 29, 'ලක': 687, 'රරත': 671, 'හකක': 830, 'වහප': 764, 'දවස': 429, 'ටස': 355, 'චර': 327, 'ඔඩ': 211, 'නග': 447, 'ෂටර': 771, 'වස': 759, 'දම': 419, 'ඔබට': 218, 'අල': 56, 'ගහල': 320, 'පරන': 509, 'ජනපත': 332, 'වරන': 749, 'ජපක': 335, 'ජය': 339, 'ගම': 299, 'මරන': 579, 'දක': 411, 'ඉදක': 116, 'ඇදග': 92, 'දහස': 435, 'රජ': 645, 'ඩන': 366, 'ඩය': 370, 'ලප': 703, 'හතරප': 839, 'එකප': 177, 'පල': 513, 'තවප': 402, 'යවල': 628, 'ඩකය': 360, 'ටමසර': 349, 'කව': 283, 'අහ': 73, 'කප': 254, 'වම': 742, 'අධ': 27, 'පරප': 510, 'එකම': 178, 'එලව': 199, 'එස': 202, 'ගලද': 308, 'උඩට': 139, 'පපර': 501, 'පප': 500, 'තහද': 406, 'දහ': 433, 'ගල': 305, 'හප': 845, 'ෂවර': 781, 'නඉද': 443, 'යප': 617, 'වකද': 719, 'වසර': 760, 'තහනම': 407, 'මහරග': 596, 'ගස': 314, 'සන': 797, 'මමන': 573, 'යස': 630, 'ටප': 348, 'කථ': 246, 'වක': 718, 'මරම': 580, 'අරහ': 55, 'නමස': 465, 'ඔකන': 207, 'හරහ': 851, 'යම': 618, 'ජනය': 333, 'උපර': 153, 'ඩක': 359, 'සප': 799, 'ලවව': 715, 'කරදර': 268, 'නවස': 482, 'එකට': 172, 'අපර': 37, 'යනව': 615, 'ඔම': 222, 'නමහහ': 466, 'නනව': 458, 'එකය': 179, 'ඉවරය': 130, 'වකයන': 721, 'ලද': 696, 'මසය': 588, 'රවන': 674, 'පලය': 516, 'තකට': 379, 'කම': 256, 'අහල': 77, 'දග': 412, 'නයක': 468, 'ඉදන': 118, 'යකඩ': 603, 'හඩ': 834, 'පෂ': 523, 'නන': 457, 'එද': 188, 'රවල': 678, 'ජම': 338, 'බලග': 546, 'හවස': 856, 'ඔබත': 219, 'සබ': 802, 'කමට': 257, 'ඔප': 216, 'රක': 636, 'රගන': 643, 'ඔබන': 220, 'අසව': 72, 'අෂ': 67, 'බලන': 548, 'සරන': 815, 'ලම': 707, 'අදහස': 26, 'උබට': 156, 'ඉවස': 131, 'මචන': 561, 'පවස': 522, 'රජය': 649, 'වගක': 723, 'අයද': 49, 'රගත': 642, 'යත': 611, 'මක': 556, 'අනබ': 31, 'බවනයත': 553, 'මඩ': 564, 'ඇන': 94, 'ලඥය': 694, 'දට': 414, 'ඇතඔව': 89, 'ඇතඔ': 88, 'පමන': 503, 'මහනත': 593, 'රග': 641, 'ගලය': 310, 'උපව': 154, 'යග': 607, 'උග': 135, 'ටල': 353, 'වදප': 734, 'ජනප': 331, 'අබ': 39, 'කරනය': 270, 'මද': 569, 'සමන': 807, 'හතර': 838, 'පමනමය': 504, 'තපමනක': 388, 'තබ': 389, 'ඉය': 123, 'උද': 144, 'ලබමහන': 706, 'රධ': 658, 'මස': 587, 'සව': 820, 'මෆ': 598, 'උස': 165, 'අහවරය': 78, 'කරග': 264, 'ඇහ': 107, 'වද': 732, 'අසය': 70, 'ආද': 80, 'අසම': 69, 'ආධ': 81, 'උපද': 151, 'චත': 324, 'කළ': 290, 'වටහ': 729, 'වමන': 743, 'රජක': 646, 'බට': 532, 'යනවන': 616, 'සය': 812, 'කරකර': 263, 'යනක': 614, 'බරර': 544, 'පඩර': 494, 'එව': 200, 'යවර': 627, 'ඩසටහ': 376, 'සදහ': 796, 'ඇල': 104, 'නද': 455, 'ෆක': 860, 'උබලග': 158, 'වකය': 720, 'චක': 323, 'ඩල': 374, 'අවරන': 63, 'අවසර': 66, 'රබව': 665, 'පහක': 526, 'පකයන': 488, 'ඇමත': 98, 'වහ': 761, 'යහමග': 634, 'කගන': 233, 'එඩ': 184, 'ගය': 302, 'යද': 612, 'අවම': 62, 'සපත': 800, 'හට': 833, 'නප': 459, 'රටම': 652, 'පටල': 492, 'පබ': 502, 'ජයගන': 341, 'යමසමග': 621, 'බහ': 555, 'රවනත': 675, 'රවර': 677, 'බකඩ': 531, 'ෂල': 780, 'පකර': 489, 'වලව': 756, 'සරලව': 816, 'ඇතච': 90, 'නයට': 470, 'ඔට': 210, 'ඔයධර': 224, 'මයඅන': 575, 'ගමනයකරනහ': 301, 'මතක': 567, 'පටන': 491, 'ෂක': 769, 'දගත': 413, 'ගග': 291, 'කරනවල': 274, 'හය': 847, 'ඉක': 109, 'වප': 740, 'ඩනග': 367, 'දරන': 425, 'ථව': 410, 'දය': 420, 'සඳ': 798, 'ඇදල': 93, 'ඇගම': 84, 'ඇය': 100, 'ටයර': 351, 'එඬ': 185, 'කඩද': 242, 'ලච': 693, 'ලවත': 713, 'අපනයන': 36, 'එකල': 180, 'ටක': 345, 'නර': 472, 'තල': 399, 'රථ': 656, 'කයට': 261, 'මරක': 577, 'සරස': 817, 'මධ': 570, 'අරම': 54, 'මහම': 594, 'පට': 490, 'නත': 453, 'සමර': 808, 'වව': 758, 'කදව': 248, 'ඉහල': 134, 'ෂත': 772, 'රමස': 669, 'මලල': 584, 'තරගයක': 397, 'ෂෂ': 782, 'මහන': 592, 'වරද': 748, 'රචන': 644, 'ඩත': 364, 'කමල': 259, 'නරත': 474, 'වය': 744, 'අයට': 47, 'පවර': 521, 'දයට': 423, 'ඩබල': 369, 'රමරත': 668, 'ෂනය': 774, 'අහක': 74, 'ථක': 409, 'බලය': 550, 'අවනත': 60, 'අදරය': 24, 'අදරන': 23, 'සට': 789, 'සගය': 788, 'පරද': 507, 'සහ': 823, 'දරය': 426, 'එතක': 187, 'යකවර': 606, 'ගනනක': 298, 'ධනස': 440, 'සහචරය': 824, 'කරයග': 277, 'සඩන': 791, 'ඩව': 375, 'අහග': 75, 'යර': 623, 'ඇඩ': 86, 'වටය': 728, 'එජන': 182, 'එකත': 173, 'ධර': 442, 'ටන': 347, 'ඔයල': 225, 'ඩයස': 371, 'අකන': 1, 'පලස': 518, 'හලයන': 855, 'කලග': 281, 'මකබ': 558, 'රතන': 654, 'අවබ': 61, 'රබලන': 664, 'උප': 148, 'තකර': 381, 'රසය': 681, 'කහට': 289, 'වලක': 753, 'නගරය': 450, 'ගහද': 318, 'නවල': 481, 'යවස': 629, 'හස': 857, 'වලද': 755, 'ලකයන': 690, 'අපහ': 38, 'ටසහ': 356, 'නඑප': 444, 'ඔච': 209, 'ලමය': 708, 'ඉලක': 127, 'නහය': 485, 'සග': 787, 'ඔනම': 215, 'ගලක': 306, 'තටම': 384, 'රකථ': 638, 'සමල': 809, 'උඩද': 141, 'ෆව': 865, 'කනව': 252, 'යට': 608, 'නගන': 448, 'ජනවන': 334, 'ෂය': 777, 'අපත': 34, 'තරම': 398, 'බස': 554, 'වබ': 741, 'අයග': 46, 'කහ': 288, 'රවය': 676, 'නපත': 460, 'ඉග': 110, 'ජක': 328, 'නයධර': 471, 'රබ': 663, 'උපක': 149, 'වනය': 738, 'පණ': 495, 'තරගය': 396, 'යමකට': 619, 'අපට': 33, 'සරහ': 818, 'ධත': 438, 'මහර': 595, 'ඍජ': 166, 'කෂ': 287, 'උගන': 136, 'රකර': 640, 'සදම': 795, 'අහස': 79, 'අනන': 30, 'ජපස': 337, 'පරදම': 508, 'දයඑල': 421, 'ඉරනමඩ': 125, 'පලකය': 514, 'ඩඩ': 363, 'අගන': 5, 'හඬ': 835, 'ඔතන': 213, 'තට': 383, 'උපන': 152, 'අග': 4, 'අටල': 12, 'අරට': 52, 'උව': 163, 'ලරත': 710, 'ලසන': 717, 'ඉබ': 121, 'සහබ': 826, 'මකද': 557, 'අමතර': 43, 'කරගත': 265, 'නමප': 464, 'ඩරල': 373, 'වචන': 724, 'තමන': 391, 'කමබක': 258, 'කනත': 251, 'අබයන': 40, 'වජ': 726, 'එම': 193, 'අඩව': 15, 'කලක': 280, 'කනස': 253, 'පරම': 512, 'හයක': 848, 'හත': 836, 'නකර': 446, 'නපහ': 461, 'යකත': 604, 'ඇරල': 103, 'ලගම': 692, 'නතර': 454, 'හතම': 837, 'අඩම': 14, 'බරය': 543, 'ලබන': 705, 'කචල': 235, 'රතල': 655, 'නගර': 449, 'සටහ': 790, 'දබද': 418, 'හන': 844, 'පඩ': 493, 'අමත': 42, 'තඅන': 377, 'වදය': 735, 'චඑක': 322, 'සහජ': 825, 'වනදන': 737, 'හක': 829, 'සබරග': 803, 'ලධ': 699, 'බඩතඩ': 535, 'වනව': 739, 'ෂෆ': 783, 'රහස': 684, 'වරය': 751, 'උඩව': 142, 'ගහව': 321, 'ගට': 293, 'රජමහ': 648, 'තවම': 403, 'දවසක': 430, 'එකන': 176, 'යඇන': 600, 'දහයග': 434, 'ලදස': 698, 'අටක': 11, 'දලද': 428, 'කරය': 276, 'යකය': 605, 'රකථන': 639, 'එලක': 198, 'එඋ': 167, 'කරම': 275, 'ෆල': 864, 'ගමන': 300, 'සකල': 786, 'ශන': 768, 'පළ': 528, 'ළඹ': 859, 'ඇඇ': 82, 'කණ': 244, 'සසර': 822, 'උය': 160, 'උපත': 150, 'හහහ': 858, 'අකව': 3, 'ශක': 767, 'වහල': 766, 'හග': 831, 'ගලව': 311, 'තකත': 380, 'කරනවඅන': 272, 'කරද': 267, 'ෆර': 863, 'ලදර': 697, 'සපල': 801, 'උදව': 145, 'පලම': 515, 'සමස': 810, 'බත': 536, 'හදවත': 843, 'හලක': 853, 'අසරන': 71, 'අවධ': 59, 'වලහන': 757, 'සවය': 821, 'තව': 400, 'ඉපද': 120, 'බලද': 547, 'බකට': 530, 'එවර': 201, 'කවදහර': 285, 'දහසක': 436, 'ඇට': 85, 'අගය': 8, 'පලව': 517, 'ගරත': 304, 'දස': 431, 'අගරදග': 9, 'ෂබ': 776, 'එකද': 174, 'තවට': 401, 'උඩතලව': 140, 'ඇමර': 99, 'උෂ': 164, 'ටව': 354, 'ගහගත': 317, 'අවෂ': 64, 'අලව': 57, 'මලග': 583, 'ෆස': 866, 'ඔබවහන': 221, 'එට': 183, 'හච': 832, 'සකම': 785, 'සමග': 805, 'අතව': 20, 'බටහ': 533, 'ගඩ': 294, 'රමය': 667, 'මච': 560, 'වහග': 762, 'වයසක': 746, 'ගවල': 313, 'දසත': 432, 'දද': 415, 'මහඑදන': 590, 'ඔවර': 229, 'අහගන': 76, 'පරබල': 511, 'කරගන': 266, 'වරනය': 750, 'තහ': 405, 'අපතයන': 35, 'ඔස': 230, 'ලඔබ': 686, 'අයතන': 48, 'සමත': 806, 'බලව': 551, 'රකඑප': 637, 'තකහන': 382, 'ඩප': 368, 'ඩඅබයත': 358, 'යහල': 635, 'යකට': 602, 'සදක': 794, 'යහම': 633, 'ඉඩම': 113, 'ඇෆ': 108, 'ඩකරන': 362, 'බලපල': 549, 'ලඅප': 685, 'කවරනයක': 286, 'නවඅම': 477, 'නයග': 469, 'උනන': 147, 'කජ': 236, 'ජයග': 340, 'රහන': 683, 'ලනඅප': 701, 'මටහ': 563, 'ඔකග': 205, 'ඉලම': 128, 'ලකය': 689, 'ධක': 437, 'නබ': 462, 'මතටත': 568, 'තටමත': 385, 'කටන': 238, 'කටප': 239, 'උට': 137, 'යහප': 632, 'යඅග': 599, 'හදලව': 842, 'තහව': 408, 'සයක': 813, 'එයට': 195, 'ජපන': 336, 'කරනවමන': 273, 'අච': 10, 'එකඑ': 169, 'ඔකම': 208, 'නධර': 456, 'එකදවස': 175, 'කඩය': 243, 'අකම': 2, 'ඩර': 372, 'අරන': 53, 'ඇනල': 95, 'එනවල': 191, 'ඉෂ': 132, 'යසඉස': 631, 'අයඅ': 45, 'අඬ': 16, 'ෂකවර': 770, 'මඩකලප': 565, 'කලහ': 282, 'යටලමත': 610, 'ඩකර': 361, 'බව': 552}\n"
          ],
          "name": "stdout"
        }
      ]
    },
    {
      "cell_type": "code",
      "metadata": {
        "colab": {
          "base_uri": "https://localhost:8080/"
        },
        "id": "1bx7bv6TF3r-",
        "outputId": "2a5bcefe-3ce6-4ac8-e506-a1a66263329a"
      },
      "source": [
        "confusion_matrix(y_test,predictions)"
      ],
      "execution_count": null,
      "outputs": [
        {
          "output_type": "execute_result",
          "data": {
            "text/plain": [
              "array([[19,  3,  2,  8, 16,  8],\n",
              "       [ 6, 32,  4,  6,  4,  1],\n",
              "       [ 2,  7, 25,  6, 15,  2],\n",
              "       [ 5,  2,  2, 27,  5,  6],\n",
              "       [ 7,  1,  4, 11, 25,  1],\n",
              "       [ 6,  1,  2,  3,  7, 34]])"
            ]
          },
          "metadata": {
            "tags": []
          },
          "execution_count": 83
        }
      ]
    },
    {
      "cell_type": "code",
      "metadata": {
        "colab": {
          "base_uri": "https://localhost:8080/",
          "height": 279
        },
        "id": "f1X5L6PKF6Uz",
        "outputId": "05cd8f3d-af54-4fdb-d31f-a8649495bd64"
      },
      "source": [
        "\n",
        "import seaborn as sn\n",
        "sn.heatmap(confusion_matrix(y_test,predictions), annot=True)\n",
        "plt.xlabel('Predicted')\n",
        "plt.ylabel('Actual')\n",
        "plt.show()"
      ],
      "execution_count": null,
      "outputs": [
        {
          "output_type": "display_data",
          "data": {
            "image/png": "[encoded data removed]",
            "text/plain": [
              "<Figure size 432x288 with 2 Axes>"
            ]
          },
          "metadata": {
            "tags": [],
            "needs_background": "light"
          }
        }
      ]
    },
    {
      "cell_type": "markdown",
      "metadata": {
        "id": "H7dUGymy687I"
      },
      "source": [
        "Classification based on keywords"
      ]
    },
    {
      "cell_type": "code",
      "metadata": {
        "id": "Dyf2rDJIRq0E"
      },
      "source": [
        "Class_1_opinion_keywords = ['මගේ මතය අනුව', 'මම විශ්වාස කරනවා', 'මගේ මනසේ', 'එය පෙනේ', 'එය තර්ක කළ හැකිය', 'මෙම යෝජනා', 'මෙය සනාථ කරයි', \n",
        "                    'මෙම අදහස සඳහා සහය දක්වයි', 'නමුත්']\n",
        "\n",
        "Class_2_feeling_keywords = ['කාර්යබහුලයි','ආකර්ශනය වුනා','උද්යෝගිමත් කළා','සංවර විය','සතුටුයි','හරවා යවන ලදි','නිරත විය','විනෝදාස්වාදය','සතුටුයි','උනන්දුවක්',\n",
        "                    'සම්බන්ධයි','සතුටුයි','පූර්වගාමී','නියාමනය','වාව්','භාග්‍යවන්තයෙකි','ප්‍රීතිමත්','නොසැලකිලිමත්','සතුටු සිතින්','විශ්වාසයෙන් යුතුව','අන්තර්ගතය',\n",
        "                    'ප්‍රීති ප්‍රමෝදය','උද්දීපනය විය','නැඹුරු','සතුට','බලවත්','ආරක්ෂිතයි','ස්වයං පිළිගැනීම','ශක්තිමත්','තෘප්තියට පත් විය','සතුටු','බියෙන්','දුක',\n",
        "                    'උණුසුම්','විනෝදජනකයි','කම්මැලියි','කනස්සල්ල','විශ්වාසයෙන් යුතුව','සීතල','සැක සහිතයි','පුදුමයි','ආදරණීය','කුතුහලයෙන්','ඊර්ෂ්යා','ඊර්ෂ්යාව',\n",
        "                    'කාලකණ්ණි','ව්‍යාකූලයි','මෝඩ','තරහයි','අසනීප','ලැජ්ජයි','ඉවත් කර ඇත','උදාසීන','සමාවන්න','තීරණය කර ඇත','පිස්සු','බෂ්ෆුල්',\n",
        "                    'මානසික අවපීඩනය','කෝපයට පත් විය','බියට පත් විය','උනන්දුවක්','බලාපොරොත්තුව','කනගාටුයි','බයයි','මුරණ්ඩු','පිපාසය','වරදකාරිත්වය',\n",
        "                    'ලැජ්ජාවට පත්වේ','පිළිකුල','ආඩම්බරයි','තනිකම','කලකිරීමට පත් විය','රිදෙනවා','කුසගින්න','වෙහෙසට පත්ව ඇත','කල්පනාකාරී',\n",
        "                    'වේදනාකාරී','සුභවාදී','සහනයක්','ප්‍රහේලිකාවක්','කම්පනයට පත් විය','ප්රීතිමත්','නිදිමත','කලබලයි','සැකයි','නරක','කනස්සල්ලට පත්ව සිටී']\n",
        "\n",
        "Class_3_keywords_concept = []\n",
        "\n",
        "Class_4_keywords_criticism = []\n",
        "\n",
        "keywords=Class_1_opinion_keywords + Class_2_feeling_keywords"
      ],
      "execution_count": null,
      "outputs": []
    },
    {
      "cell_type": "code",
      "metadata": {
        "id": "VdAxMiHeR2Ii"
      },
      "source": [
        "from flashtext.keyword import KeywordProcessor\n",
        "kp0=KeywordProcessor()\n",
        "for word in keywords:\n",
        "    kp0.add_keyword(word)\n",
        "kp1=KeywordProcessor()\n",
        "for word in Class_1_opinion_keywords:\n",
        "    kp1.add_keyword(word)\n",
        "kp2=KeywordProcessor()\n",
        "for word in Class_2_feeling_keywords:\n",
        "    kp2.add_keyword(word)\n"
      ],
      "execution_count": null,
      "outputs": []
    },
    {
      "cell_type": "code",
      "metadata": {
        "id": "SY0fTf68k44T"
      },
      "source": [
        "def percentage1(dum0,dumx):\n",
        "    try:\n",
        "        ans=float(dumx)/float(dum0)\n",
        "        ans=ans*100\n",
        "    except:\n",
        "        return 0\n",
        "    else:\n",
        "        return ans"
      ],
      "execution_count": null,
      "outputs": []
    },
    {
      "cell_type": "code",
      "metadata": {
        "id": "UDrea4Npk9JV"
      },
      "source": [
        "def find_class(x):\n",
        "    y0 = len(kp0.extract_keywords(x))\n",
        "    y1 = len(kp1.extract_keywords(x))\n",
        "    y2 = len(kp2.extract_keywords(x))\n",
        "    \n",
        "    Total_matches=y0   \n",
        "    per1 = float(percentage1(y0,y1))\n",
        "    per2 = float(percentage1(y0,y2))\n",
        "    \n",
        "    if y0==0:\n",
        "        Category='None'\n",
        "    else:\n",
        "        if per1!=0 and per2!=0:\n",
        "            Category='opinion with feelings'\n",
        "        elif per1!=0:\n",
        "            Category='opinion'\n",
        "        elif per2!=0:\n",
        "            Category='feeling'\n",
        "       \n",
        "    return Category"
      ],
      "execution_count": null,
      "outputs": []
    },
    {
      "cell_type": "code",
      "metadata": {
        "colab": {
          "base_uri": "https://localhost:8080/"
        },
        "id": "3F-8NFJLmLIf",
        "outputId": "09a56c14-79c6-4c55-9600-889c46b94c41"
      },
      "source": [
        "print(find_class(\"මගේ මතය අනුව කම්පනයට පත් විය ප්රීතිමත්\"))"
      ],
      "execution_count": null,
      "outputs": [
        {
          "output_type": "stream",
          "text": [
            "opinion with feelings\n"
          ],
          "name": "stdout"
        }
      ]
    },
    {
      "cell_type": "markdown",
      "metadata": {
        "id": "gdCv0WCFhs63"
      },
      "source": [
        "polarity and subjectivity detection"
      ]
    },
    {
      "cell_type": "code",
      "metadata": {
        "id": "d6XhJUq1hxED"
      },
      "source": [
        "import numpy as np\n",
        "import pandas as pd\n",
        "import matplotlib.pyplot as plt\n",
        "%matplotlib inline\n",
        "from textblob import TextBlob\n",
        "\n",
        "import seaborn as sns"
      ],
      "execution_count": null,
      "outputs": []
    },
    {
      "cell_type": "code",
      "metadata": {
        "id": "uTOObLJfjGVe"
      },
      "source": [
        "polarity =[]\n",
        "subjectivity =[]\n",
        "for i in dataset['Text'].values:\n",
        "  try:\n",
        "    analysis =TextBlob(i)\n",
        "    porlarity.apppend(analysis.sentiment.polarity)\n",
        "    subjectivity.apppend(analysis.sentiment.subjectivity)\n",
        "\n",
        "  except:\n",
        "      polarity.append(0)\n",
        "      subjectivity.append(0)\n",
        "\n",
        "dataset['polarity'] = polarity\n",
        "dataset['subjectivity'] = subjectivity"
      ],
      "execution_count": null,
      "outputs": []
    },
    {
      "cell_type": "code",
      "metadata": {
        "colab": {
          "base_uri": "https://localhost:8080/",
          "height": 553
        },
        "id": "0AJyKFS6losr",
        "outputId": "e80f1711-9d0f-49bf-8b64-210271fbca6a"
      },
      "source": [
        "dataset"
      ],
      "execution_count": null,
      "outputs": [
        {
          "output_type": "execute_result",
          "data": {
            "text/html": [
              "<div>\n",
              "<style scoped>\n",
              "    .dataframe tbody tr th:only-of-type {\n",
              "        vertical-align: middle;\n",
              "    }\n",
              "\n",
              "    .dataframe tbody tr th {\n",
              "        vertical-align: top;\n",
              "    }\n",
              "\n",
              "    .dataframe thead th {\n",
              "        text-align: right;\n",
              "    }\n",
              "</style>\n",
              "<table border=\"1\" class=\"dataframe\">\n",
              "  <thead>\n",
              "    <tr style=\"text-align: right;\">\n",
              "      <th></th>\n",
              "      <th>Id</th>\n",
              "      <th>Text</th>\n",
              "      <th>Class</th>\n",
              "      <th>Filtered_sentence</th>\n",
              "      <th>polarity</th>\n",
              "      <th>subjectivity</th>\n",
              "    </tr>\n",
              "  </thead>\n",
              "  <tbody>\n",
              "    <tr>\n",
              "      <th>0</th>\n",
              "      <td>0</td>\n",
              "      <td>දින ඒකාබද්ධ විපක්ෂයේ මාධ්‍ය ලේකම් රේණුක පෙරේරා මහතාගේ නිවේදනයට අදාාලව අමිත් වීරසිංහ කල මාධ්‍ය සාකච්ඡාව…</td>\n",
              "      <td>Political</td>\n",
              "      <td>දින එකාබද්ධ විපක්ෂ මාධ්‍ ලේක රේනුක පෙරේර මහත නිවේදනය අදාාල අමි වීරසිංහ කල මාධ්‍ සාකච්චාව…</td>\n",
              "      <td>0</td>\n",
              "      <td>0</td>\n",
              "    </tr>\n",
              "    <tr>\n",
              "      <th>1</th>\n",
              "      <td>1</td>\n",
              "      <td>මා UNP හෝ ඒකාබද්ධ විපක්ෂය මගින් හෝ දැනට පවතින කිසිම පක්ෂයකින් ඡන්දයකට ඉදිරිපත් වෙනවා කියා නැ ඒකාබද්ධ විපක්ෂය වැනි වි…</td>\n",
              "      <td>Political</td>\n",
              "      <td>මා එක්සත් ජාතික පක්ෂ එකාබද්ධ විපක්ෂ පවති කිසි පක්ෂ චන්දයක ඉදිරිප වෙ කි නැ එකාබද්ධ විපක්ෂ වි…</td>\n",
              "      <td>0</td>\n",
              "      <td>0</td>\n",
              "    </tr>\n",
              "    <tr>\n",
              "      <th>2</th>\n",
              "      <td>2</td>\n",
              "      <td>කිමද මේ තරම් කොහේදෝ ඇති විදපු ගලක් හා උරන මා මිතුරු පරය</td>\n",
              "      <td>Neutral</td>\n",
              "      <td>කිම තර කොහේද විද ගල උරන මා මිතුර පරය</td>\n",
              "      <td>0</td>\n",
              "      <td>0</td>\n",
              "    </tr>\n",
              "    <tr>\n",
              "      <th>3</th>\n",
              "      <td>3</td>\n",
              "      <td>එහෙම කොහොමද උනේ 😂😂 පරය අපිව අයින් කරල නේ 😂</td>\n",
              "      <td>Neutral</td>\n",
              "      <td>එහෙ කොහොම උනේ 😂😂 පරය අපි අය කරල නේ 😂</td>\n",
              "      <td>0</td>\n",
              "      <td>0</td>\n",
              "    </tr>\n",
              "    <tr>\n",
              "      <th>4</th>\n",
              "      <td>4</td>\n",
              "      <td>විමලයා ගොනෙක් වගෙ stage එකෙ මෑරෙන්න හදනවා පරය රටට වෑඩක් කරපන් යකො හොරා</td>\n",
              "      <td>Political</td>\n",
              "      <td>විමල ගොන වගෙ  එකෙ මෑරෙ හද පරය රටට වෑඩ කර යකො හොර</td>\n",
              "      <td>0</td>\n",
              "      <td>0</td>\n",
              "    </tr>\n",
              "    <tr>\n",
              "      <th>...</th>\n",
              "      <td>...</td>\n",
              "      <td>...</td>\n",
              "      <td>...</td>\n",
              "      <td>...</td>\n",
              "      <td>...</td>\n",
              "      <td>...</td>\n",
              "    </tr>\n",
              "    <tr>\n",
              "      <th>1674</th>\n",
              "      <td>1705</td>\n",
              "      <td>පීටීඒ සහ අයිසීසීපීආර් පනත යටතේ වැරදි ලෙස ගොනු කර ඇති විමර්ශන හෝ නඩු ප්‍රමාද වීම පිළිබඳව ඔබ සතුටු නොවන්නේ නම් කරුණාකර මුහීඩ් ජීරාන් මානව හිමිකම් ක්‍රියාකාරික වෙත දන්වන්න</td>\n",
              "      <td>Racist</td>\n",
              "      <td>පීටීඑ අයිසීසීපීඅර පනත යටත වැරදි ගො කර විමර්ෂ නඩු ප්‍රමා වීම ඔබ සතුට නොව කරුනාකර මුහීඩ ජීරා මාන හිමික ක්‍රියාකාරික දන්ව</td>\n",
              "      <td>0</td>\n",
              "      <td>0</td>\n",
              "    </tr>\n",
              "    <tr>\n",
              "      <th>1675</th>\n",
              "      <td>1706</td>\n",
              "      <td>අරාබි රටවල් මුස්ලිම් නොවන සඳහා සුපිරි වෙළඳසැල් වල තිබුණු ඌරු මස් අවසර ඇත මනුෂ්‍යත්වයට ගරු කරන්න</td>\n",
              "      <td>Racist</td>\n",
              "      <td>අරාබි රට මුස්ලි නොව සුපිරි වෙලදසැල වල තිබ උරු මස් අවසර ඇත මනුෂ්‍යත්වය ගරු කර</td>\n",
              "      <td>0</td>\n",
              "      <td>0</td>\n",
              "    </tr>\n",
              "    <tr>\n",
              "      <th>1676</th>\n",
              "      <td>1707</td>\n",
              "      <td>හැවිරිදි මුස්ලිම් පිරිමි ළමයෙක් ඉස්ලාම් භීතිකාවේ ඉලක්කය බවට පත්වූ අතර ගෝලීය විවෘත රජයේ සමුළු අවස්ථාව සඳහා ඔහුගේ නියෝජනය විනාශ විය</td>\n",
              "      <td>Racist</td>\n",
              "      <td>හැවිරිදි මුස්ලි පිරි ලමය ඉස්ලා බීතික ඉලක්ක පත්ව ගෝල විවෘත රජ සමුල අවස්ථා ඔහු නියෝජන විනාෂ විය</td>\n",
              "      <td>0</td>\n",
              "      <td>0</td>\n",
              "    </tr>\n",
              "    <tr>\n",
              "      <th>1677</th>\n",
              "      <td>1708</td>\n",
              "      <td>ශ්‍රී ලංකාවේ මුස්ලිම් ප්‍රජාව වෙත එල්ල කරන දේශපාලන හා ආගමික පීඩනය සම්බන්ධයෙන් යුරෝපා සංගමයේ ඒකාබද්ධ ප්‍රකාශය</td>\n",
              "      <td>Racist</td>\n",
              "      <td>ලංක මුස්ලි ප්‍රජා එල් කරන දේෂපාල අගමික පීඩන සම්බන්ධ යුරෝප සංගම එකාබද්ධ ප්‍රකාෂ</td>\n",
              "      <td>0</td>\n",
              "      <td>0</td>\n",
              "    </tr>\n",
              "    <tr>\n",
              "      <th>1678</th>\n",
              "      <td>1709</td>\n",
              "      <td>රාජ්‍ය අංශයේ කාන්තා ඇඳුම් පැළඳුම් සංග්‍රහය පිළිබඳ  දිනැති පබ්අඩ් චක්‍රලේඛ අංක  පාලනය කරන අගමැති කාර්යාලයේ ලිපිය</td>\n",
              "      <td>Racist</td>\n",
              "      <td>රාජ්‍ අංෂ කාන්ත ඇද පැලද සංග්‍රහ දිනැ පබ්අඩ චක්‍රලේක අංක පාලන කරන අගමැ කාර්යාල ලි</td>\n",
              "      <td>0</td>\n",
              "      <td>0</td>\n",
              "    </tr>\n",
              "  </tbody>\n",
              "</table>\n",
              "<p>1678 rows × 6 columns</p>\n",
              "</div>"
            ],
            "text/plain": [
              "        Id  ... subjectivity\n",
              "0     0     ...  0          \n",
              "1     1     ...  0          \n",
              "2     2     ...  0          \n",
              "3     3     ...  0          \n",
              "4     4     ...  0          \n",
              "...  ..     ... ..          \n",
              "1674  1705  ...  0          \n",
              "1675  1706  ...  0          \n",
              "1676  1707  ...  0          \n",
              "1677  1708  ...  0          \n",
              "1678  1709  ...  0          \n",
              "\n",
              "[1678 rows x 6 columns]"
            ]
          },
          "metadata": {
            "tags": []
          },
          "execution_count": 13
        }
      ]
    }
  ]
}