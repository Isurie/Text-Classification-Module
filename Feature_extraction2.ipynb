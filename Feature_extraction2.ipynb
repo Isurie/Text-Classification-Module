{
  "nbformat": 4,
  "nbformat_minor": 0,
  "metadata": {
    "colab": {
      "name": "Copy of feature extraction2.ipynb",
      "provenance": [],
      "collapsed_sections": [],
      "authorship_tag": "ABX9TyOFES0VCIMMrmNhztQTRGRX",
      "include_colab_link": true
    },
    "kernelspec": {
      "display_name": "Python 3",
      "name": "python3"
    },
    "language_info": {
      "name": "python"
    }
  },
  "cells": [
    {
      "cell_type": "markdown",
      "metadata": {
        "id": "view-in-github",
        "colab_type": "text"
      },
      "source": [
        "<a href=\"https://colab.research.google.com/github/Isurie/Text-Classification-Module/blob/master/Feature_extraction2.ipynb\" target=\"_parent\"><img src=\"https://colab.research.google.com/assets/colab-badge.svg\" alt=\"Open In Colab\"/></a>"
      ]
    },
    {
      "cell_type": "code",
      "metadata": {
        "id": "5aWWx6MaOY4B"
      },
      "source": [
        "pip install sinling"
      ],
      "execution_count": null,
      "outputs": []
    },
    {
      "cell_type": "code",
      "metadata": {
        "id": "ePq8Lmd3QJJY"
      },
      "source": [
        "from sklearn import model_selection, preprocessing, linear_model, naive_bayes, metrics, svm\n",
        "from sklearn.feature_extraction.text import TfidfVectorizer, CountVectorizer\n",
        "from sklearn import decomposition, ensemble\n",
        "\n",
        "import pandas, xgboost, numpy, textblob, string\n",
        "from keras.preprocessing import text, sequence\n",
        "from keras import layers, models, optimizers\n",
        "\n",
        "import nltk\n",
        "nltk.download('punkt')\n",
        "nltk.download('averaged_perceptron_tagger')"
      ],
      "execution_count": null,
      "outputs": []
    },
    {
      "cell_type": "code",
      "metadata": {
        "id": "2AA0ea6X7RkC"
      },
      "source": [
        "import pandas as pd\n",
        "import numpy as np\n",
        "import torch\n",
        "import re\n",
        "import tqdm\n",
        "from matplotlib._path import (affine_transform, count_bboxes_overlapping_bbox,\n",
        "     update_path_extents)\n",
        "\n",
        "from gensim.models import Word2Vec\n",
        "from nltk import word_tokenize, pos_tag, pos_tag_sents\n",
        "\n",
        "from sklearn.model_selection import train_test_split\n",
        "\n",
        "import matplotlib.pyplot as plt\n",
        "from sklearn.neighbors import KNeighborsClassifier"
      ],
      "execution_count": null,
      "outputs": []
    },
    {
      "cell_type": "code",
      "metadata": {
        "colab": {
          "resources": {
            "http://localhost:8080/nbextensions/google.colab/files.js": {
              "data": "Ly8gQ29weXJpZ2h0IDIwMTcgR29vZ2xlIExMQwovLwovLyBMaWNlbnNlZCB1bmRlciB0aGUgQXBhY2hlIExpY2Vuc2UsIFZlcnNpb24gMi4wICh0aGUgIkxpY2Vuc2UiKTsKLy8geW91IG1heSBub3QgdXNlIHRoaXMgZmlsZSBleGNlcHQgaW4gY29tcGxpYW5jZSB3aXRoIHRoZSBMaWNlbnNlLgovLyBZb3UgbWF5IG9idGFpbiBhIGNvcHkgb2YgdGhlIExpY2Vuc2UgYXQKLy8KLy8gICAgICBodHRwOi8vd3d3LmFwYWNoZS5vcmcvbGljZW5zZXMvTElDRU5TRS0yLjAKLy8KLy8gVW5sZXNzIHJlcXVpcmVkIGJ5IGFwcGxpY2FibGUgbGF3IG9yIGFncmVlZCB0byBpbiB3cml0aW5nLCBzb2Z0d2FyZQovLyBkaXN0cmlidXRlZCB1bmRlciB0aGUgTGljZW5zZSBpcyBkaXN0cmlidXRlZCBvbiBhbiAiQVMgSVMiIEJBU0lTLAovLyBXSVRIT1VUIFdBUlJBTlRJRVMgT1IgQ09ORElUSU9OUyBPRiBBTlkgS0lORCwgZWl0aGVyIGV4cHJlc3Mgb3IgaW1wbGllZC4KLy8gU2VlIHRoZSBMaWNlbnNlIGZvciB0aGUgc3BlY2lmaWMgbGFuZ3VhZ2UgZ292ZXJuaW5nIHBlcm1pc3Npb25zIGFuZAovLyBsaW1pdGF0aW9ucyB1bmRlciB0aGUgTGljZW5zZS4KCi8qKgogKiBAZmlsZW92ZXJ2aWV3IEhlbHBlcnMgZm9yIGdvb2dsZS5jb2xhYiBQeXRob24gbW9kdWxlLgogKi8KKGZ1bmN0aW9uKHNjb3BlKSB7CmZ1bmN0aW9uIHNwYW4odGV4dCwgc3R5bGVBdHRyaWJ1dGVzID0ge30pIHsKICBjb25zdCBlbGVtZW50ID0gZG9jdW1lbnQuY3JlYXRlRWxlbWVudCgnc3BhbicpOwogIGVsZW1lbnQudGV4dENvbnRlbnQgPSB0ZXh0OwogIGZvciAoY29uc3Qga2V5IG9mIE9iamVjdC5rZXlzKHN0eWxlQXR0cmlidXRlcykpIHsKICAgIGVsZW1lbnQuc3R5bGVba2V5XSA9IHN0eWxlQXR0cmlidXRlc1trZXldOwogIH0KICByZXR1cm4gZWxlbWVudDsKfQoKLy8gTWF4IG51bWJlciBvZiBieXRlcyB3aGljaCB3aWxsIGJlIHVwbG9hZGVkIGF0IGEgdGltZS4KY29uc3QgTUFYX1BBWUxPQURfU0laRSA9IDEwMCAqIDEwMjQ7CgpmdW5jdGlvbiBfdXBsb2FkRmlsZXMoaW5wdXRJZCwgb3V0cHV0SWQpIHsKICBjb25zdCBzdGVwcyA9IHVwbG9hZEZpbGVzU3RlcChpbnB1dElkLCBvdXRwdXRJZCk7CiAgY29uc3Qgb3V0cHV0RWxlbWVudCA9IGRvY3VtZW50LmdldEVsZW1lbnRCeUlkKG91dHB1dElkKTsKICAvLyBDYWNoZSBzdGVwcyBvbiB0aGUgb3V0cHV0RWxlbWVudCB0byBtYWtlIGl0IGF2YWlsYWJsZSBmb3IgdGhlIG5leHQgY2FsbAogIC8vIHRvIHVwbG9hZEZpbGVzQ29udGludWUgZnJvbSBQeXRob24uCiAgb3V0cHV0RWxlbWVudC5zdGVwcyA9IHN0ZXBzOwoKICByZXR1cm4gX3VwbG9hZEZpbGVzQ29udGludWUob3V0cHV0SWQpOwp9CgovLyBUaGlzIGlzIHJvdWdobHkgYW4gYXN5bmMgZ2VuZXJhdG9yIChub3Qgc3VwcG9ydGVkIGluIHRoZSBicm93c2VyIHlldCksCi8vIHdoZXJlIHRoZXJlIGFyZSBtdWx0aXBsZSBhc3luY2hyb25vdXMgc3RlcHMgYW5kIHRoZSBQeXRob24gc2lkZSBpcyBnb2luZwovLyB0byBwb2xsIGZvciBjb21wbGV0aW9uIG9mIGVhY2ggc3RlcC4KLy8gVGhpcyB1c2VzIGEgUHJvbWlzZSB0byBibG9jayB0aGUgcHl0aG9uIHNpZGUgb24gY29tcGxldGlvbiBvZiBlYWNoIHN0ZXAsCi8vIHRoZW4gcGFzc2VzIHRoZSByZXN1bHQgb2YgdGhlIHByZXZpb3VzIHN0ZXAgYXMgdGhlIGlucHV0IHRvIHRoZSBuZXh0IHN0ZXAuCmZ1bmN0aW9uIF91cGxvYWRGaWxlc0NvbnRpbnVlKG91dHB1dElkKSB7CiAgY29uc3Qgb3V0cHV0RWxlbWVudCA9IGRvY3VtZW50LmdldEVsZW1lbnRCeUlkKG91dHB1dElkKTsKICBjb25zdCBzdGVwcyA9IG91dHB1dEVsZW1lbnQuc3RlcHM7CgogIGNvbnN0IG5leHQgPSBzdGVwcy5uZXh0KG91dHB1dEVsZW1lbnQubGFzdFByb21pc2VWYWx1ZSk7CiAgcmV0dXJuIFByb21pc2UucmVzb2x2ZShuZXh0LnZhbHVlLnByb21pc2UpLnRoZW4oKHZhbHVlKSA9PiB7CiAgICAvLyBDYWNoZSB0aGUgbGFzdCBwcm9taXNlIHZhbHVlIHRvIG1ha2UgaXQgYXZhaWxhYmxlIHRvIHRoZSBuZXh0CiAgICAvLyBzdGVwIG9mIHRoZSBnZW5lcmF0b3IuCiAgICBvdXRwdXRFbGVtZW50Lmxhc3RQcm9taXNlVmFsdWUgPSB2YWx1ZTsKICAgIHJldHVybiBuZXh0LnZhbHVlLnJlc3BvbnNlOwogIH0pOwp9CgovKioKICogR2VuZXJhdG9yIGZ1bmN0aW9uIHdoaWNoIGlzIGNhbGxlZCBiZXR3ZWVuIGVhY2ggYXN5bmMgc3RlcCBvZiB0aGUgdXBsb2FkCiAqIHByb2Nlc3MuCiAqIEBwYXJhbSB7c3RyaW5nfSBpbnB1dElkIEVsZW1lbnQgSUQgb2YgdGhlIGlucHV0IGZpbGUgcGlja2VyIGVsZW1lbnQuCiAqIEBwYXJhbSB7c3RyaW5nfSBvdXRwdXRJZCBFbGVtZW50IElEIG9mIHRoZSBvdXRwdXQgZGlzcGxheS4KICogQHJldHVybiB7IUl0ZXJhYmxlPCFPYmplY3Q+fSBJdGVyYWJsZSBvZiBuZXh0IHN0ZXBzLgogKi8KZnVuY3Rpb24qIHVwbG9hZEZpbGVzU3RlcChpbnB1dElkLCBvdXRwdXRJZCkgewogIGNvbnN0IGlucHV0RWxlbWVudCA9IGRvY3VtZW50LmdldEVsZW1lbnRCeUlkKGlucHV0SWQpOwogIGlucHV0RWxlbWVudC5kaXNhYmxlZCA9IGZhbHNlOwoKICBjb25zdCBvdXRwdXRFbGVtZW50ID0gZG9jdW1lbnQuZ2V0RWxlbWVudEJ5SWQob3V0cHV0SWQpOwogIG91dHB1dEVsZW1lbnQuaW5uZXJIVE1MID0gJyc7CgogIGNvbnN0IHBpY2tlZFByb21pc2UgPSBuZXcgUHJvbWlzZSgocmVzb2x2ZSkgPT4gewogICAgaW5wdXRFbGVtZW50LmFkZEV2ZW50TGlzdGVuZXIoJ2NoYW5nZScsIChlKSA9PiB7CiAgICAgIHJlc29sdmUoZS50YXJnZXQuZmlsZXMpOwogICAgfSk7CiAgfSk7CgogIGNvbnN0IGNhbmNlbCA9IGRvY3VtZW50LmNyZWF0ZUVsZW1lbnQoJ2J1dHRvbicpOwogIGlucHV0RWxlbWVudC5wYXJlbnRFbGVtZW50LmFwcGVuZENoaWxkKGNhbmNlbCk7CiAgY2FuY2VsLnRleHRDb250ZW50ID0gJ0NhbmNlbCB1cGxvYWQnOwogIGNvbnN0IGNhbmNlbFByb21pc2UgPSBuZXcgUHJvbWlzZSgocmVzb2x2ZSkgPT4gewogICAgY2FuY2VsLm9uY2xpY2sgPSAoKSA9PiB7CiAgICAgIHJlc29sdmUobnVsbCk7CiAgICB9OwogIH0pOwoKICAvLyBXYWl0IGZvciB0aGUgdXNlciB0byBwaWNrIHRoZSBmaWxlcy4KICBjb25zdCBmaWxlcyA9IHlpZWxkIHsKICAgIHByb21pc2U6IFByb21pc2UucmFjZShbcGlja2VkUHJvbWlzZSwgY2FuY2VsUHJvbWlzZV0pLAogICAgcmVzcG9uc2U6IHsKICAgICAgYWN0aW9uOiAnc3RhcnRpbmcnLAogICAgfQogIH07CgogIGNhbmNlbC5yZW1vdmUoKTsKCiAgLy8gRGlzYWJsZSB0aGUgaW5wdXQgZWxlbWVudCBzaW5jZSBmdXJ0aGVyIHBpY2tzIGFyZSBub3QgYWxsb3dlZC4KICBpbnB1dEVsZW1lbnQuZGlzYWJsZWQgPSB0cnVlOwoKICBpZiAoIWZpbGVzKSB7CiAgICByZXR1cm4gewogICAgICByZXNwb25zZTogewogICAgICAgIGFjdGlvbjogJ2NvbXBsZXRlJywKICAgICAgfQogICAgfTsKICB9CgogIGZvciAoY29uc3QgZmlsZSBvZiBmaWxlcykgewogICAgY29uc3QgbGkgPSBkb2N1bWVudC5jcmVhdGVFbGVtZW50KCdsaScpOwogICAgbGkuYXBwZW5kKHNwYW4oZmlsZS5uYW1lLCB7Zm9udFdlaWdodDogJ2JvbGQnfSkpOwogICAgbGkuYXBwZW5kKHNwYW4oCiAgICAgICAgYCgke2ZpbGUudHlwZSB8fCAnbi9hJ30pIC0gJHtmaWxlLnNpemV9IGJ5dGVzLCBgICsKICAgICAgICBgbGFzdCBtb2RpZmllZDogJHsKICAgICAgICAgICAgZmlsZS5sYXN0TW9kaWZpZWREYXRlID8gZmlsZS5sYXN0TW9kaWZpZWREYXRlLnRvTG9jYWxlRGF0ZVN0cmluZygpIDoKICAgICAgICAgICAgICAgICAgICAgICAgICAgICAgICAgICAgJ24vYSd9IC0gYCkpOwogICAgY29uc3QgcGVyY2VudCA9IHNwYW4oJzAlIGRvbmUnKTsKICAgIGxpLmFwcGVuZENoaWxkKHBlcmNlbnQpOwoKICAgIG91dHB1dEVsZW1lbnQuYXBwZW5kQ2hpbGQobGkpOwoKICAgIGNvbnN0IGZpbGVEYXRhUHJvbWlzZSA9IG5ldyBQcm9taXNlKChyZXNvbHZlKSA9PiB7CiAgICAgIGNvbnN0IHJlYWRlciA9IG5ldyBGaWxlUmVhZGVyKCk7CiAgICAgIHJlYWRlci5vbmxvYWQgPSAoZSkgPT4gewogICAgICAgIHJlc29sdmUoZS50YXJnZXQucmVzdWx0KTsKICAgICAgfTsKICAgICAgcmVhZGVyLnJlYWRBc0FycmF5QnVmZmVyKGZpbGUpOwogICAgfSk7CiAgICAvLyBXYWl0IGZvciB0aGUgZGF0YSB0byBiZSByZWFkeS4KICAgIGxldCBmaWxlRGF0YSA9IHlpZWxkIHsKICAgICAgcHJvbWlzZTogZmlsZURhdGFQcm9taXNlLAogICAgICByZXNwb25zZTogewogICAgICAgIGFjdGlvbjogJ2NvbnRpbnVlJywKICAgICAgfQogICAgfTsKCiAgICAvLyBVc2UgYSBjaHVua2VkIHNlbmRpbmcgdG8gYXZvaWQgbWVzc2FnZSBzaXplIGxpbWl0cy4gU2VlIGIvNjIxMTU2NjAuCiAgICBsZXQgcG9zaXRpb24gPSAwOwogICAgZG8gewogICAgICBjb25zdCBsZW5ndGggPSBNYXRoLm1pbihmaWxlRGF0YS5ieXRlTGVuZ3RoIC0gcG9zaXRpb24sIE1BWF9QQVlMT0FEX1NJWkUpOwogICAgICBjb25zdCBjaHVuayA9IG5ldyBVaW50OEFycmF5KGZpbGVEYXRhLCBwb3NpdGlvbiwgbGVuZ3RoKTsKICAgICAgcG9zaXRpb24gKz0gbGVuZ3RoOwoKICAgICAgY29uc3QgYmFzZTY0ID0gYnRvYShTdHJpbmcuZnJvbUNoYXJDb2RlLmFwcGx5KG51bGwsIGNodW5rKSk7CiAgICAgIHlpZWxkIHsKICAgICAgICByZXNwb25zZTogewogICAgICAgICAgYWN0aW9uOiAnYXBwZW5kJywKICAgICAgICAgIGZpbGU6IGZpbGUubmFtZSwKICAgICAgICAgIGRhdGE6IGJhc2U2NCwKICAgICAgICB9LAogICAgICB9OwoKICAgICAgbGV0IHBlcmNlbnREb25lID0gZmlsZURhdGEuYnl0ZUxlbmd0aCA9PT0gMCA/CiAgICAgICAgICAxMDAgOgogICAgICAgICAgTWF0aC5yb3VuZCgocG9zaXRpb24gLyBmaWxlRGF0YS5ieXRlTGVuZ3RoKSAqIDEwMCk7CiAgICAgIHBlcmNlbnQudGV4dENvbnRlbnQgPSBgJHtwZXJjZW50RG9uZX0lIGRvbmVgOwoKICAgIH0gd2hpbGUgKHBvc2l0aW9uIDwgZmlsZURhdGEuYnl0ZUxlbmd0aCk7CiAgfQoKICAvLyBBbGwgZG9uZS4KICB5aWVsZCB7CiAgICByZXNwb25zZTogewogICAgICBhY3Rpb246ICdjb21wbGV0ZScsCiAgICB9CiAgfTsKfQoKc2NvcGUuZ29vZ2xlID0gc2NvcGUuZ29vZ2xlIHx8IHt9OwpzY29wZS5nb29nbGUuY29sYWIgPSBzY29wZS5nb29nbGUuY29sYWIgfHwge307CnNjb3BlLmdvb2dsZS5jb2xhYi5fZmlsZXMgPSB7CiAgX3VwbG9hZEZpbGVzLAogIF91cGxvYWRGaWxlc0NvbnRpbnVlLAp9Owp9KShzZWxmKTsK",
              "ok": true,
              "headers": [
                [
                  "content-type",
                  "application/javascript"
                ]
              ],
              "status": 200,
              "status_text": ""
            }
          },
          "base_uri": "https://localhost:8080/",
          "height": 73
        },
        "id": "fzrZPvChRUVe",
        "outputId": "2a7bf47e-8501-4ff2-dbe8-099c9f2eed7e"
      },
      "source": [
        "from google.colab import files\n",
        "uploaded = files.upload()"
      ],
      "execution_count": null,
      "outputs": [
        {
          "output_type": "display_data",
          "data": {
            "text/html": [
              "\n",
              "     <input type=\"file\" id=\"files-0a5a66af-264b-4c79-ba4e-74a22e4ca671\" name=\"files[]\" multiple disabled\n",
              "        style=\"border:none\" />\n",
              "     <output id=\"result-0a5a66af-264b-4c79-ba4e-74a22e4ca671\">\n",
              "      Upload widget is only available when the cell has been executed in the\n",
              "      current browser session. Please rerun this cell to enable.\n",
              "      </output>\n",
              "      <script src=\"/nbextensions/google.colab/files.js\"></script> "
            ],
            "text/plain": [
              "<IPython.core.display.HTML object>"
            ]
          },
          "metadata": {
            "tags": []
          }
        },
        {
          "output_type": "stream",
          "text": [
            "Saving cleaned data-2.csv to cleaned data-2.csv\n"
          ],
          "name": "stdout"
        }
      ]
    },
    {
      "cell_type": "code",
      "metadata": {
        "colab": {
          "base_uri": "https://localhost:8080/"
        },
        "id": "SvkshPtJENru",
        "outputId": "daea7096-6701-4f28-baf4-48d66fd9d1ec"
      },
      "source": [
        "df = pandas.read_csv('testdata-domains-balanced.csv')\n",
        "print(df.head(11))"
      ],
      "execution_count": null,
      "outputs": [
        {
          "output_type": "stream",
          "text": [
            "                                                                                                                                                                                                            Text  ...                                                                                                                     Filtered_sentence\n",
            "0                                                                                          SriLankanPolitics පෙනි පෙනී සිදුවන විකිණිම සහ මිලට ගැනීම හමුවේ හුරේ දාන මොඩ ඡන්ද දායකයන් දුටුවිට  අහෝ අප සිරබත් කෑවේ…  ...                                     ෂ්‍රී ලංකන් දේෂපාලන පෙ පෙන සිදුව විකිනි මිල ගැනී හම හුර දාන මොඩ චන් දායක දුටුවි අහෝ අප සිරබ කෑවේ…\n",
            "1                                                                                                              lanka C news  රනිල් අගමැති කරන්න යෝජනාවක් පාර්ලිමේන්තුවට  වැනිදා ඡන්ද විමසීමක් දෙමල සන්ධානයත් පක   ...                                                                      රනිල අගමැ කර යෝජනාව පාර්ලිමේන්තුව වැනිද චන් විමසීම දෙම සන්ධාන පක\n",
            "2                                                                                                                                             Jvp එක උගුරට හොරා බෙහෙත් බොනවjvp කරන්න ඕන ඒව රන්ජන් තනියම ගේම ගහනව  ...                                                                                      එක උගුර හොර බෙහෙ බොනව කර ඔන එව රන්ජ තනිය ගේම ගහන\n",
            "3                                                                                Gotabaya Rajapaksa ජනාධිපතිතුමණි ඔබතුමා රටක් පාලනය කරන්න තියා ගමේ මරණාධාර සමිතියේ සභාපතිකමටවත් සුදුසු නෑ කියලා ඔප්පු කරලා ඉවරයි  ...                                                    ජනාධිපතිතුමනි ඔබතුම රට පාලන කර ති ගමේ මරනාධාර සමිති සබාපතිකමට සුදුස කිය ඔප් කර ඉවර\n",
            "4   Gayani Manjula Wedage දන්න තරමින් අක්කා දේශපාලකයන්ට කඩේ යන එක එකාගේ හොර අඹුවක් නෙවෙයි මෙහෙම පේජ් කරන මිනිස්සුන්ට අපහාස කරන අය වෙනුවෙන් ගන්න පුළුවන් හොදම පියවර ගන්න අක්කේ මොකද මේක පුංචි අපහාසයක් නම් නෙවෙයි  ...     ද තර අක් දේෂපාලකයන් කඩේ එක එක හොර අබුව නෙවෙ මෙහෙ පේජ කරන මිනිස්සුන් අපහාස කරන අය ග පුලු හොද පියවර ග අක් මොක මේක පුංචි අපහාසය නෙවෙ\n",
            "5                                                                                                                                                                       😂 වැඩකොලනඅපේවිලුවා 😂මව්බිමටහෙමින්කෙලිනා😂  ...                                                                                                 😂 වැඩකොලනඅපේවිල 😂මව්බිමටහෙමින්කෙලිනා😂\n",
            "6                                                                                                                      BBC News සිංහල  ශ්‍රී ලංකාවේ දේශපාලන අර්බුදය සති හයක් ඉක්මවා ගිය අර්බුදයේ සුවිශේෂ අවස්ථා   ...                                                                           සිංහ ලංක දේෂපාල අර්බුද සති හය ඉක්ම ගිය අර්බුද සුවිෂේෂ අවස්ථ\n",
            "7                                                                                                                   BBC News සිංහල  ශ්‍රී ලංකාවේ දේශපාලන අර්බුදය විසඳීමට ජනපති දුන් සහතික කාලය තව දිනකින් අවසන්   ...                                                                                 සිංහ ලංක දේෂපාල අර්බුද විසදීම ජනප ද සහතික කාල දින අවස\n",
            "8                                                                                     BBC News සිංහල  ශ්‍රී ලංකාවේ දේශපාලන අර්බුදය ජනපති මෛත්‍රීපාල සිරිසේනගේ මානසික සෞඛ්‍යය ගැන අභියාචනාධිකරණයට පෙත්සමක් https…  ...                                                    සිංහ ලංක දේෂපාල අර්බුද ජනප මෛත්‍රීපා සිරිසේන මානසික සෞක්‍ය අබියාචනාධිකරනය පෙත්සම …\n",
            "9                                                                                           BBC News සිංහල  ශ්‍රී ලංකාවේ දේශපාලන අර්බුදය ජනපති මෛත්‍රීපාල සිරිසේනගේ මානසික සෞඛ්‍යය ගැන අභියාචනාධිකරණයට පෙත්සමක්   ...                                                      සිංහ ලංක දේෂපාල අර්බුද ජනප මෛත්‍රීපා සිරිසේන මානසික සෞක්‍ය අබියාචනාධිකරනය පෙත්සම\n",
            "10                                                                                                                සහරානුත් සැහැල්ලු ගුවන් යානාවලින් අත්හදා බැලීම් කළා 🤣🤣🤣 ආරක්ෂාව කියන දේ බලන්න ඕන ඔක්කොටම කලින්  ...                                                                සහරානු සැහැල්ල ගු යානා අත්හද බැල කලා 🤣🤣🤣 අරක්ෂා කිය දේ බල ඔන ඔක්කොට කල\n",
            "\n",
            "[11 rows x 3 columns]\n"
          ],
          "name": "stdout"
        }
      ]
    },
    {
      "cell_type": "code",
      "metadata": {
        "colab": {
          "base_uri": "https://localhost:8080/"
        },
        "id": "ElKdJT0wEWCB",
        "outputId": "86bd3a34-590e-4375-b7bd-48a744a9ed31"
      },
      "source": [
        "df.groupby('Class')['Text'].nunique()"
      ],
      "execution_count": null,
      "outputs": [
        {
          "output_type": "execute_result",
          "data": {
            "text/plain": [
              "Class\n",
              "Neutral      150\n",
              "Political    146\n",
              "Racist       149\n",
              "Religion     150\n",
              "Sexism       149\n",
              "sports       150\n",
              "Name: Text, dtype: int64"
            ]
          },
          "metadata": {
            "tags": []
          },
          "execution_count": 61
        }
      ]
    },
    {
      "cell_type": "code",
      "metadata": {
        "id": "WlE8tAggGCVF"
      },
      "source": [
        "def clean_data(dataframe):\n",
        "    # Drop duplicate rows\n",
        "    dataframe.drop_duplicates(subset='Text', inplace=True)\n",
        "\n",
        "clean_data(df)\n",
        "df.to_csv('testdata-domains.csv')"
      ],
      "execution_count": null,
      "outputs": []
    },
    {
      "cell_type": "markdown",
      "metadata": {
        "id": "7bwaNV3QSkre"
      },
      "source": [
        "**1. Dataset preparation**"
      ]
    },
    {
      "cell_type": "code",
      "metadata": {
        "colab": {
          "base_uri": "https://localhost:8080/"
        },
        "id": "b_jOr0lg9p8G",
        "outputId": "eb141c85-8b4f-432e-e827-6ac0cd0d8829"
      },
      "source": [
        "df = pandas.read_csv('cleaned data-2.csv')\n",
        "print(df.head(11))\n"
      ],
      "execution_count": null,
      "outputs": [
        {
          "output_type": "stream",
          "text": [
            "    Id  ...                                  Filtered_sentence\n",
            "0    0  ...  දින එකාබද්ධ විපක්ෂ මාධ්‍ ලේක රේනුක පෙරේර මහත න...\n",
            "1    1  ...  මා එක්සත් ජාතික පක්ෂ එකාබද්ධ විපක්ෂ පවති කිසි ...\n",
            "2    2  ...               කිම තර කොහේද විද ගල උරන මා මිතුර පරය\n",
            "3    3  ...               එහෙ කොහොම උනේ 😂😂 පරය අපි අය කරල නේ 😂\n",
            "4    4  ...   විමල ගොන වගෙ  එකෙ මෑරෙ හද පරය රටට වෑඩ කර යකො හොර\n",
            "5    5  ...  ලැජ්ජ ස⁣හෝදර විදිහ දැක්කා ඔබ කුලල්කෑ වාසි ග තම...\n",
            "6    6  ...  ලැජ්ජ ස⁣හෝදර විදිහ දැක්කා ඔබ කුලල්කෑ වාසි ග තම...\n",
            "7    7  ...  මං තම්බි වගේ පෙන්නෙ😏 මං බ්‍රහස්පතින්ද ගෙදර එන්...\n",
            "8    8  ...  ඉටි බං උතුර ඉල්ලනසෙට එක නැගෙනහිරපඉල්ල තම්බි සෙ...\n",
            "9    9  ...  පේනවාන තම්බි කවද ඉ උන් වාසි පැත්ත එහෙ ඉදගෙ උ ෂ...\n",
            "10  10  ...  ඉතිහාස ඉදිරි මෙ හෙලිදරවුව කිරීම අවකාෂ ද අප ප්‍...\n",
            "\n",
            "[11 rows x 4 columns]\n"
          ],
          "name": "stdout"
        }
      ]
    },
    {
      "cell_type": "code",
      "metadata": {
        "colab": {
          "base_uri": "https://localhost:8080/"
        },
        "id": "tM5GwNreSDTM",
        "outputId": "f07aae78-c679-47ca-c26a-51a89515596c"
      },
      "source": [
        "trainDF = pandas.read_csv('cleaned data-2.csv')\n",
        "print(trainDF['Filtered_sentence'].head(11))\n",
        "trainDF['Filtered_sentence']=trainDF['Filtered_sentence'].values.astype('U')\n",
        "\n",
        "# split the dataset into training and validation datasets \n",
        "train_x, valid_x, train_y, valid_y = model_selection.train_test_split(trainDF['Filtered_sentence'], trainDF['Class'])\n",
        "\n",
        "# label encode the target variable \n",
        "encoder = preprocessing.LabelEncoder()\n",
        "train_y = encoder.fit_transform(train_y)\n",
        "valid_y = encoder.fit_transform(valid_y)"
      ],
      "execution_count": null,
      "outputs": [
        {
          "output_type": "stream",
          "text": [
            "0     දින එකාබද්ධ විපක්ෂ මාධ්‍ ලේක රේනුක පෙරේර මහත න...\n",
            "1     මා එක්සත් ජාතික පක්ෂ එකාබද්ධ විපක්ෂ පවති කිසි ...\n",
            "2                  කිම තර කොහේද විද ගල උරන මා මිතුර පරය\n",
            "3                  එහෙ කොහොම උනේ 😂😂 පරය අපි අය කරල නේ 😂\n",
            "4      විමල ගොන වගෙ  එකෙ මෑරෙ හද පරය රටට වෑඩ කර යකො හොර\n",
            "5     ලැජ්ජ ස⁣හෝදර විදිහ දැක්කා ඔබ කුලල්කෑ වාසි ග තම...\n",
            "6     ලැජ්ජ ස⁣හෝදර විදිහ දැක්කා ඔබ කුලල්කෑ වාසි ග තම...\n",
            "7     මං තම්බි වගේ පෙන්නෙ😏 මං බ්‍රහස්පතින්ද ගෙදර එන්...\n",
            "8     ඉටි බං උතුර ඉල්ලනසෙට එක නැගෙනහිරපඉල්ල තම්බි සෙ...\n",
            "9     පේනවාන තම්බි කවද ඉ උන් වාසි පැත්ත එහෙ ඉදගෙ උ ෂ...\n",
            "10    ඉතිහාස ඉදිරි මෙ හෙලිදරවුව කිරීම අවකාෂ ද අප ප්‍...\n",
            "Name: Filtered_sentence, dtype: object\n"
          ],
          "name": "stdout"
        }
      ]
    },
    {
      "cell_type": "code",
      "metadata": {
        "colab": {
          "base_uri": "https://localhost:8080/"
        },
        "id": "Rcra9xn2nJn4",
        "outputId": "a316ce74-694b-4da1-f16a-134ae7ee39cf"
      },
      "source": [
        "train_x.nunique()"
      ],
      "execution_count": null,
      "outputs": [
        {
          "output_type": "execute_result",
          "data": {
            "text/plain": [
              "1242"
            ]
          },
          "metadata": {
            "tags": []
          },
          "execution_count": 12
        }
      ]
    },
    {
      "cell_type": "markdown",
      "metadata": {
        "id": "jwj4xWScSZG7"
      },
      "source": [
        "**2. Feature Engineering**"
      ]
    },
    {
      "cell_type": "markdown",
      "metadata": {
        "id": "z2GKBdOeSsA2"
      },
      "source": [
        "2.1 Count Vectors as features"
      ]
    },
    {
      "cell_type": "code",
      "metadata": {
        "id": "xyC7cbVXSoX5"
      },
      "source": [
        "# create a count vectorizer object \n",
        "count_vect = CountVectorizer(analyzer='word', token_pattern=r'\\w{1,}')\n",
        "count_vect.fit(trainDF['Filtered_sentence'])\n",
        "\n",
        "# transform the training and validation data using count vectorizer object\n",
        "xtrain_count =  count_vect.transform(train_x)\n",
        "xvalid_count =  count_vect.transform(valid_x)"
      ],
      "execution_count": null,
      "outputs": []
    },
    {
      "cell_type": "code",
      "metadata": {
        "id": "jcJlGm1gPTGW"
      },
      "source": [
        "# Printing the identified Unique words along with their indices\n",
        "print(\"Vocabulary: \", count_vect.vocabulary_)\n",
        "  \n",
        "# Encode the Document\n",
        "vector = count_vect.transform(trainDF['Filtered_sentence'])\n"
      ],
      "execution_count": null,
      "outputs": []
    },
    {
      "cell_type": "markdown",
      "metadata": {
        "id": "mjEW7NwbSyB7"
      },
      "source": [
        "2.2 TF-IDF Vectors as features"
      ]
    },
    {
      "cell_type": "code",
      "metadata": {
        "colab": {
          "base_uri": "https://localhost:8080/"
        },
        "id": "M3smMvTRSzAC",
        "outputId": "97d2af5c-26d1-48a8-ab9a-3496c1121567"
      },
      "source": [
        "# word level tf-idf\n",
        "tfidf_vect = TfidfVectorizer(analyzer='word', token_pattern=r'\\w{1,}', max_features=5000)\n",
        "tfidf_vect.fit(trainDF['Filtered_sentence'])\n",
        "xtrain_tfidf =  tfidf_vect.transform(train_x)\n",
        "xvalid_tfidf =  tfidf_vect.transform(valid_x)\n",
        "\n",
        "# ngram level tf-idf \n",
        "tfidf_vect_ngram = TfidfVectorizer(analyzer='word', token_pattern=r'\\w{1,}', ngram_range=(2,3), max_features=5000)\n",
        "tfidf_vect_ngram.fit(trainDF['Filtered_sentence'])\n",
        "xtrain_tfidf_ngram =  tfidf_vect_ngram.transform(train_x)\n",
        "xvalid_tfidf_ngram =  tfidf_vect_ngram.transform(valid_x)\n",
        "\n",
        "# characters level tf-idf\n",
        "tfidf_vect_ngram_chars = TfidfVectorizer(analyzer='char', token_pattern=r'\\w{1,}', ngram_range=(2,3), max_features=5000)\n",
        "tfidf_vect_ngram_chars.fit(trainDF['Filtered_sentence'])\n",
        "xtrain_tfidf_ngram_chars =  tfidf_vect_ngram_chars.transform(train_x) \n",
        "xvalid_tfidf_ngram_chars =  tfidf_vect_ngram_chars.transform(valid_x) "
      ],
      "execution_count": null,
      "outputs": [
        {
          "output_type": "stream",
          "text": [
            "/usr/local/lib/python3.7/dist-packages/sklearn/feature_extraction/text.py:524: UserWarning: The parameter 'token_pattern' will not be used since 'analyzer' != 'word'\n",
            "  warnings.warn(\"The parameter 'token_pattern' will not be used\"\n"
          ],
          "name": "stderr"
        }
      ]
    },
    {
      "cell_type": "code",
      "metadata": {
        "id": "yZehbIp4c04G"
      },
      "source": [
        "print(\"word level tf-idf_Vocabulary: \", tfidf_vect.vocabulary_)\n",
        "print(\"ngram level tf-idf_Vocabulary: \", tfidf_vect_ngram.vocabulary_)\n",
        "print(\"characters level tf-idf_Vocabulary: \", tfidf_vect_ngram_chars.vocabulary_)"
      ],
      "execution_count": null,
      "outputs": []
    },
    {
      "cell_type": "code",
      "metadata": {
        "id": "Coee7NE4fUwv"
      },
      "source": [
        "print(xvalid_tfidf_ngram)"
      ],
      "execution_count": null,
      "outputs": []
    },
    {
      "cell_type": "markdown",
      "metadata": {
        "id": "5kE3NvLSsNBk"
      },
      "source": [
        "**3. Model Building**"
      ]
    },
    {
      "cell_type": "code",
      "metadata": {
        "id": "3M1278Lgt9MI"
      },
      "source": [
        "def train_model(classifier, feature_vector_train, label, feature_vector_valid, is_neural_net=False):\n",
        "    # fit the training dataset on the classifier\n",
        "    classifier.fit(feature_vector_train, label)\n",
        "    \n",
        "    # predict the labels on validation dataset\n",
        "    predictions = classifier.predict(feature_vector_valid)\n",
        "    \n",
        "    if is_neural_net:\n",
        "        predictions = predictions.argmax(axis=-1)\n",
        "    \n",
        "    return metrics.accuracy_score(predictions, valid_y)"
      ],
      "execution_count": null,
      "outputs": []
    },
    {
      "cell_type": "markdown",
      "metadata": {
        "id": "elUVtXp5sPMy"
      },
      "source": [
        "3.1 Multinominal Naive Bayes"
      ]
    },
    {
      "cell_type": "code",
      "metadata": {
        "colab": {
          "base_uri": "https://localhost:8080/"
        },
        "id": "EnfBcOgbsHkl",
        "outputId": "d52b8b10-299c-4383-d4a2-6b37c1727137"
      },
      "source": [
        "# Naive Bayes on Count Vectors\n",
        "accuracy = train_model(naive_bayes.MultinomialNB(), xtrain_count, train_y, xvalid_count)\n",
        "print(\"NB, Count Vectors: \", accuracy)\n",
        "\n",
        "# Naive Bayes on Word Level TF IDF Vectors\n",
        "accuracy = train_model(naive_bayes.MultinomialNB(), xtrain_tfidf, train_y, xvalid_tfidf)\n",
        "print (\"NB, WordLevel TF-IDF: \", accuracy)\n",
        "\n",
        "# Naive Bayes on Ngram Level TF IDF Vectors\n",
        "accuracy = train_model(naive_bayes.MultinomialNB(), xtrain_tfidf_ngram, train_y, xvalid_tfidf_ngram)\n",
        "print (\"NB, N-Gram Vectors: \", accuracy)\n",
        "\n",
        "# Naive Bayes on Character Level TF IDF Vectors\n",
        "accuracy = train_model(naive_bayes.MultinomialNB(), xtrain_tfidf_ngram_chars, train_y, xvalid_tfidf_ngram_chars)\n",
        "print (\"NB, CharLevel Vectors: \", accuracy)"
      ],
      "execution_count": null,
      "outputs": [
        {
          "output_type": "stream",
          "text": [
            "NB, Count Vectors:  0.7813333333333333\n",
            "NB, WordLevel TF-IDF:  0.792\n",
            "NB, N-Gram Vectors:  0.92\n",
            "NB, CharLevel Vectors:  0.88\n"
          ],
          "name": "stdout"
        }
      ]
    },
    {
      "cell_type": "markdown",
      "metadata": {
        "id": "m5gjaRYkSlxn"
      },
      "source": [
        ""
      ]
    },
    {
      "cell_type": "code",
      "metadata": {
        "colab": {
          "base_uri": "https://localhost:8080/"
        },
        "id": "_ddH2xbuSlXy",
        "outputId": "10e5ba37-fcd3-4c46-ec90-0b47f2c083b8"
      },
      "source": [
        "# Bernoulli Naive Bayes on Count Vectors\n",
        "accuracy = train_model(naive_bayes.BernoulliNB(), xtrain_count, train_y, xvalid_count)\n",
        "print(\"BernoulliNB, Count Vectors: \", accuracy)\n",
        "\n",
        "# Bernoulli Naive Bayes on Word Level TF IDF Vectors\n",
        "accuracy = train_model(naive_bayes.BernoulliNB(), xtrain_tfidf, train_y, xvalid_tfidf)\n",
        "print (\"BernoulliNB, WordLevel TF-IDF: \", accuracy)\n",
        "\n",
        "# Bernoulli Naive Bayes on Ngram Level TF IDF Vectors\n",
        "accuracy = train_model(naive_bayes.BernoulliNB(), xtrain_tfidf_ngram, train_y, xvalid_tfidf_ngram)\n",
        "print (\"BernoulliNB, N-Gram Vectors: \", accuracy)\n",
        "\n",
        "# Bernoulli Naive Bayes on Character Level TF IDF Vectors\n",
        "accuracy = train_model(naive_bayes.BernoulliNB(), xtrain_tfidf_ngram_chars, train_y, xvalid_tfidf_ngram_chars)\n",
        "print (\"BernoulliNB, CharLevel Vectors: \", accuracy)"
      ],
      "execution_count": null,
      "outputs": [
        {
          "output_type": "stream",
          "text": [
            "BernoulliNB, Count Vectors:  0.7413333333333333\n",
            "BernoulliNB, WordLevel TF-IDF:  0.7413333333333333\n",
            "BernoulliNB, N-Gram Vectors:  0.8186666666666667\n",
            "BernoulliNB, CharLevel Vectors:  0.848\n"
          ],
          "name": "stdout"
        }
      ]
    },
    {
      "cell_type": "markdown",
      "metadata": {
        "id": "xSj3lubIsV5i"
      },
      "source": [
        "### 3.2 Logistic Regression-Linear Classifier"
      ]
    },
    {
      "cell_type": "code",
      "metadata": {
        "colab": {
          "base_uri": "https://localhost:8080/"
        },
        "id": "bymgRgHosaCJ",
        "outputId": "367f95c5-c53f-4b72-b5ac-d4bcd1f556a9"
      },
      "source": [
        "# Linear Classifier on Count Vectors\n",
        "accuracy = train_model(linear_model.LogisticRegression(), xtrain_count, train_y, xvalid_count)\n",
        "print (\"LR, Count Vectors: \", accuracy)\n",
        "\n",
        "# Linear Classifier on Word Level TF IDF Vectors\n",
        "accuracy = train_model(linear_model.LogisticRegression(), xtrain_tfidf, train_y, xvalid_tfidf)\n",
        "print (\"LR, WordLevel TF-IDF: \", accuracy)\n",
        "\n",
        "# Linear Classifier on Ngram Level TF IDF Vectors\n",
        "accuracy = train_model(linear_model.LogisticRegression(), xtrain_tfidf_ngram, train_y, xvalid_tfidf_ngram)\n",
        "print (\"LR, N-Gram Vectors: \", accuracy)\n",
        "\n",
        "# Linear Classifier on Character Level TF IDF Vectors\n",
        "accuracy = train_model(linear_model.LogisticRegression(), xtrain_tfidf_ngram_chars, train_y, xvalid_tfidf_ngram_chars)\n",
        "print (\"LR, CharLevel Vectors: \", accuracy)"
      ],
      "execution_count": null,
      "outputs": [
        {
          "output_type": "stream",
          "text": [
            "/usr/local/lib/python3.7/dist-packages/sklearn/linear_model/_logistic.py:940: ConvergenceWarning: lbfgs failed to converge (status=1):\n",
            "STOP: TOTAL NO. of ITERATIONS REACHED LIMIT.\n",
            "\n",
            "Increase the number of iterations (max_iter) or scale the data as shown in:\n",
            "    https://scikit-learn.org/stable/modules/preprocessing.html\n",
            "Please also refer to the documentation for alternative solver options:\n",
            "    https://scikit-learn.org/stable/modules/linear_model.html#logistic-regression\n",
            "  extra_warning_msg=_LOGISTIC_SOLVER_CONVERGENCE_MSG)\n"
          ],
          "name": "stderr"
        },
        {
          "output_type": "stream",
          "text": [
            "LR, Count Vectors:  0.9013333333333333\n",
            "LR, WordLevel TF-IDF:  0.8213333333333334\n",
            "LR, N-Gram Vectors:  0.9573333333333334\n",
            "LR, CharLevel Vectors:  0.9306666666666666\n"
          ],
          "name": "stdout"
        }
      ]
    },
    {
      "cell_type": "markdown",
      "metadata": {
        "id": "4eEj0KlYsgnC"
      },
      "source": [
        "### 3.3 Support Vector Machine"
      ]
    },
    {
      "cell_type": "code",
      "metadata": {
        "colab": {
          "base_uri": "https://localhost:8080/"
        },
        "id": "mOrM8nVMsgIr",
        "outputId": "6ce834be-6f7a-4774-9da9-95218d451ad6"
      },
      "source": [
        "# SVM on Count Vectors\n",
        "accuracy = train_model(svm.SVC(), xtrain_count, train_y, xvalid_count)\n",
        "print (\"SVM, Count Vectors: \", accuracy)\n",
        "\n",
        "# SVM on Ngram Level TF IDF Vectors\n",
        "accuracy = train_model(svm.SVC(), xtrain_tfidf_ngram, train_y, xvalid_tfidf_ngram)\n",
        "print (\"SVM, Ngram Level TF IDF Vectors: \", accuracy)\n",
        "\n",
        "# SVM on Word Level TF IDF Vectors\n",
        "accuracy = train_model(svm.SVC(), xtrain_tfidf, train_y, xvalid_tfidf)\n",
        "print (\"SVM, Word Level TF IDF Vectors: \", accuracy)\n",
        "\n",
        "# SVM on Character Level TF IDF Vectors\n",
        "accuracy = train_model(svm.SVC(), xtrain_tfidf_ngram_chars, train_y, xvalid_tfidf_ngram_chars)\n",
        "print (\"SVM, Character Level TF IDF Vectors: \", accuracy)"
      ],
      "execution_count": null,
      "outputs": [
        {
          "output_type": "stream",
          "text": [
            "SVM, Count Vectors:  0.7413333333333333\n",
            "SVM, Ngram Level TF IDF Vectors:  0.968\n",
            "SVM, Word Level TF IDF Vectors:  0.9146666666666666\n",
            "SVM, Character Level TF IDF Vectors:  0.9653333333333334\n"
          ],
          "name": "stdout"
        }
      ]
    },
    {
      "cell_type": "markdown",
      "metadata": {
        "id": "dhErOdT_snQM"
      },
      "source": [
        "### 3.4 Random Forest - Bagging Model"
      ]
    },
    {
      "cell_type": "code",
      "metadata": {
        "colab": {
          "base_uri": "https://localhost:8080/"
        },
        "id": "lxAUA19Vslvi",
        "outputId": "28260dc9-6343-466a-f1fd-8d30c2734d4d"
      },
      "source": [
        "# RF on Count Vectors\n",
        "accuracy = train_model(ensemble.RandomForestClassifier(), xtrain_count, train_y, xvalid_count)\n",
        "print (\"RF, Count Vectors: \", accuracy)\n",
        "\n",
        "# RF on Word Level TF IDF Vectors\n",
        "accuracy = train_model(ensemble.RandomForestClassifier(), xtrain_tfidf, train_y, xvalid_tfidf)\n",
        "print (\"RF, WordLevel TF-IDF: \", accuracy)\n",
        "\n",
        "# RF on Ngram Level TF IDF Vectors\n",
        "accuracy = train_model(ensemble.RandomForestClassifier(), xtrain_tfidf_ngram, train_y, xvalid_tfidf_ngram)\n",
        "print (\"RF, gram Level TF-IDF: \", accuracy)\n",
        "\n",
        "# RF on Character Level TF IDF Vectors\n",
        "accuracy = train_model(ensemble.RandomForestClassifier(), xtrain_tfidf_ngram_chars, train_y, xvalid_tfidf_ngram_chars)\n",
        "print (\"RF, Character Level TF IDF: \", accuracy)"
      ],
      "execution_count": null,
      "outputs": [
        {
          "output_type": "stream",
          "text": [
            "RF, Count Vectors:  0.9466666666666667\n",
            "RF, WordLevel TF-IDF:  0.9466666666666667\n",
            "RF, gram Level TF-IDF:  0.9573333333333334\n",
            "RF, Character Level TF IDF:  0.9626666666666667\n"
          ],
          "name": "stdout"
        }
      ]
    },
    {
      "cell_type": "markdown",
      "metadata": {
        "id": "eeowin9Ajq0a"
      },
      "source": [
        "KNN"
      ]
    },
    {
      "cell_type": "code",
      "metadata": {
        "colab": {
          "base_uri": "https://localhost:8080/"
        },
        "id": "p2hITPfkjdUQ",
        "outputId": "41d9093b-6728-45f6-dda7-52e9ac043797"
      },
      "source": [
        "from sklearn.neighbors import KNeighborsClassifier\n",
        "# KNN on Count Vectors\n",
        "accuracy = train_model(KNeighborsClassifier(n_neighbors=17, p=5,metric='euclidean'), xtrain_count, train_y, xvalid_count)\n",
        "print (\"KNN, Count Vectors: \", accuracy)\n",
        "\n",
        "# KNN on Word Level TF IDF Vectors\n",
        "accuracy = train_model(KNeighborsClassifier(n_neighbors=17, p=5,metric='euclidean'), xtrain_tfidf, train_y, xvalid_tfidf)\n",
        "print (\"KNN, WordLevel TF-IDF: \", accuracy)\n",
        "\n",
        "# KNN on Ngram Level TF IDF Vectors\n",
        "accuracy = train_model(KNeighborsClassifier(n_neighbors=200, p=5,metric='euclidean'), xtrain_tfidf_ngram, train_y, xvalid_tfidf_ngram)\n",
        "print (\"KNN, Ngram Level TF-IDF: \", accuracy)\n",
        "\n",
        "# KNN on Character Level TF IDF Vectors\n",
        "accuracy = train_model(KNeighborsClassifier(n_neighbors=12, p=5,metric='euclidean'), xtrain_tfidf_ngram_chars, train_y, xvalid_tfidf_ngram_chars)\n",
        "print (\"KNN, Character Level TF IDF: \", accuracy)"
      ],
      "execution_count": null,
      "outputs": [
        {
          "output_type": "stream",
          "text": [
            "KNN, Count Vectors:  0.4746666666666667\n",
            "KNN, WordLevel TF-IDF:  0.624\n",
            "KNN, Ngram Level TF-IDF:  0.6506666666666666\n",
            "KNN, Character Level TF IDF:  0.7946666666666666\n"
          ],
          "name": "stdout"
        }
      ]
    },
    {
      "cell_type": "code",
      "metadata": {
        "id": "bG-txkF2M_3Q"
      },
      "source": [
        "def train_model(classifier, feature_vector_train, label, feature_vector_valid, is_neural_net=False):\n",
        "    # fit the training dataset on the classifier\n",
        "    classifier.fit(feature_vector_train, label)\n",
        "    \n",
        "    # predict the labels on validation dataset\n",
        "    predictions = classifier.predict(feature_vector_valid)\n",
        "    \n",
        "    if is_neural_net:\n",
        "        predictions = predictions.argmax(axis=-1)\n",
        "    \n",
        "    return metrics.accuracy_score(predictions, valid_y)"
      ],
      "execution_count": null,
      "outputs": []
    },
    {
      "cell_type": "code",
      "metadata": {
        "colab": {
          "base_uri": "https://localhost:8080/",
          "height": 350
        },
        "id": "9UhDrGZUi1xz",
        "outputId": "932bf22d-a8e0-48f4-8c53-b2868bc6e5ae"
      },
      "source": [
        "plt.rcParams[\"figure.figsize\"] = (6,5)\n",
        "\n",
        "knn = KNeighborsClassifier(n_neighbors=7)  \n",
        "knn = KNeighborsClassifier(n_neighbors=6)\n",
        "knn.fit(xtrain_count,train_y)\n",
        "\n",
        "no_neighbors = np.arange(1, 100)\n",
        "train_accuracy = np.empty(len(no_neighbors))\n",
        "test_accuracy = np.empty(len(no_neighbors))\n",
        "\n",
        "for i, k in enumerate(no_neighbors):\n",
        "    # We instantiate the classifier\n",
        "    knn = KNeighborsClassifier(n_neighbors=k)\n",
        "    # Fit the classifier to the training data\n",
        "    knn.fit(xtrain_count,train_y)\n",
        "    \n",
        "    # Compute accuracy on the training set\n",
        "    train_accuracy[i] = knn.score(xtrain_count,train_y)\n",
        "\n",
        "    # Compute accuracy on the testing set\n",
        "    test_accuracy[i] = knn.score(xtrain_count,train_y)\n",
        "\n",
        "plt.title('k-NN: Varying Number of Neighbors')\n",
        "plt.plot(no_neighbors, test_accuracy, label = 'Testing Accuracy')\n",
        "plt.plot(no_neighbors, train_accuracy, label = 'Training Accuracy')\n",
        "plt.legend()\n",
        "plt.xlabel('Number of Neighbors')\n",
        "plt.ylabel('Accuracy')\n",
        "plt.show()"
      ],
      "execution_count": null,
      "outputs": [
        {
          "output_type": "display_data",
          "data": {
            "image/png": "[encoded data removed]",
            "text/plain": [
              "<Figure size 432x360 with 1 Axes>"
            ]
          },
          "metadata": {
            "tags": [],
            "needs_background": "light"
          }
        }
      ]
    },
    {
      "cell_type": "code",
      "metadata": {
        "id": "OOdiE4bvyBke"
      },
      "source": [
        ""
      ],
      "execution_count": null,
      "outputs": []
    },
    {
      "cell_type": "markdown",
      "metadata": {
        "id": "ymRXeFbnS_1W"
      },
      "source": [
        "2.3 Text / NLP based features"
      ]
    },
    {
      "cell_type": "code",
      "metadata": {
        "id": "A3Tc93nwB3kX"
      },
      "source": [
        "# tokenization\n",
        "from sinling import SinhalaTokenizer as tokenizer,SinhalaStemmer as stemmer, POSTagger,preprocess, word_joiner,word_splitter\n",
        "from collections import Counter\n",
        "from itertools import chain\n",
        "df = pandas.read_csv('testdata-domains-balanced.csv')\n",
        "df['Text'] = df['Text'].apply(word_tokenize).tolist()\n",
        "\n",
        "# POS tagging\n",
        "tagger = POSTagger()\n",
        "df['Text'] = tagger.predict(df['Text'].tolist())\n",
        "df['Text'] = pd.Series(df['Text'].tolist())\n",
        "\n",
        "# Use collections.Counter and itertools.chain to flatten the list of list-> get the POS vocabulary\n",
        "tokens, tags = zip(*chain(*df['Text'].tolist()))\n",
        "possible_tags = sorted(set(tags))\n",
        "possible_tags_counter = Counter({p:0 for p in possible_tags})\n",
        "\n",
        "# Iterate through each tagged sentence and get the counts of POS\n",
        "df['Text'].apply(lambda x: Counter(list(zip(*x))[1]))\n",
        "df['pos_counts'] = df['Text'].apply(lambda x: Counter(list(zip(*x))[1]))\n",
        "df['pos_counts']\n",
        "\n",
        "# Add in the POS that don't appears in the sentence with 0 counts\n",
        "def add_pos_with_zero_counts(counter, keys_to_add):\n",
        "        for k in keys_to_add:\n",
        "            counter[k] = counter.get(k, 0)\n",
        "        return counter\n",
        "\n",
        "# Flatten the values into the list\n",
        "df['pos_counts'].apply(lambda x: add_pos_with_zero_counts(x, possible_tags))\n",
        "df['pos_counts_with_zero'] = df['pos_counts'].apply(lambda x: add_pos_with_zero_counts(x, possible_tags))\n",
        "\n",
        "df['pos_counts_with_zero'].apply(lambda x: [count for tag, count in sorted(x.most_common())])\n",
        "\n",
        "# Get the pos count vector \n",
        "df['sent_vector'] = df['pos_counts_with_zero'].apply(lambda x: [count for tag, count in sorted(x.most_common())])\n",
        "\n"
      ],
      "execution_count": null,
      "outputs": []
    },
    {
      "cell_type": "code",
      "metadata": {
        "id": "nmpxJdeVTBHT"
      },
      "source": [
        "df['char_count'] = trainDF['Text'].apply(len)\n",
        "df['word_count'] = trainDF['Text'].str.split().str.len()\n",
        "df['word_density'] = df['char_count'] / (df['word_count']+1)\n",
        "#trainDF['punctuation_count'] = trainDF['Filtered_sentence'].apply(lambda x: len(\"\".join(_ for _ in x if _ in string.punctuation))) \n",
        "#trainDF['title_word_count'] = trainDF['Filtered_sentence'].apply(lambda x: len([wrd for wrd in x.split() if wrd.istitle()]))\n",
        "#trainDF['upper_case_word_count'] = trainDF['Filtered_sentence'].apply(lambda x: len([wrd for wrd in x.split() if wrd.isupper()]))"
      ],
      "execution_count": null,
      "outputs": []
    },
    {
      "cell_type": "code",
      "metadata": {
        "colab": {
          "base_uri": "https://localhost:8080/",
          "height": 1000
        },
        "id": "gyM8AfSX9kGV",
        "outputId": "84efc73a-660d-4d6f-a34e-9c221e4a94b0"
      },
      "source": [
        "pd.set_option('display.max_colwidth', None)\n",
        "df"
      ],
      "execution_count": null,
      "outputs": [
        {
          "output_type": "execute_result",
          "data": {
            "text/html": [
              "<div>\n",
              "<style scoped>\n",
              "    .dataframe tbody tr th:only-of-type {\n",
              "        vertical-align: middle;\n",
              "    }\n",
              "\n",
              "    .dataframe tbody tr th {\n",
              "        vertical-align: top;\n",
              "    }\n",
              "\n",
              "    .dataframe thead th {\n",
              "        text-align: right;\n",
              "    }\n",
              "</style>\n",
              "<table border=\"1\" class=\"dataframe\">\n",
              "  <thead>\n",
              "    <tr style=\"text-align: right;\">\n",
              "      <th></th>\n",
              "      <th>Id</th>\n",
              "      <th>Text</th>\n",
              "      <th>Class</th>\n",
              "      <th>Filtered_sentence</th>\n",
              "      <th>pos_counts</th>\n",
              "      <th>pos_counts_with_zero</th>\n",
              "      <th>sent_vector</th>\n",
              "      <th>char_count</th>\n",
              "      <th>word_count</th>\n",
              "      <th>word_density</th>\n",
              "    </tr>\n",
              "  </thead>\n",
              "  <tbody>\n",
              "    <tr>\n",
              "      <th>0</th>\n",
              "      <td>0</td>\n",
              "      <td>[(දින, NNC), (ඒකාබද්ධ, JJ), (විපක්ෂයේ, NNC), (මාධ්‍ය, NNJ), (ලේකම්, NNC), (රේණුක, NNP), (පෙරේරා, NNP), (මහතාගේ, NNC), (නිවේදනයට, NNC), (අදාාලව, NNC), (අමිත්, JJ), (වීරසිංහ, NNC), (කල, VP), (මාධ්‍ය, NNJ), (සාකච්ඡාව…, NNC)]</td>\n",
              "      <td>Political</td>\n",
              "      <td>දින එකාබද්ධ විපක්ෂ මාධ්‍ ලේක රේනුක පෙරේර මහත නිවේදනය අදාාල අමි වීරසිංහ කල මාධ්‍ සාකච්චාව…</td>\n",
              "      <td>{'NNC': 8, 'JJ': 2, 'NNJ': 2, 'NNP': 2, 'VP': 1, 'ABB': 0, 'AUX': 0, 'CC': 0, 'CM': 0, 'DET': 0, 'FS': 0, 'JCV': 0, 'NCV': 0, 'NDT': 0, 'NIP': 0, 'NUM': 0, 'NVB': 0, 'POST': 0, 'PRP': 0, 'PUNC': 0, 'QBE': 0, 'QUE': 0, 'RB': 0, 'RP': 0, 'RRPCV': 0, 'UNK': 0, 'VFM': 0, 'VNF': 0, 'VNN': 0}</td>\n",
              "      <td>{'NNC': 8, 'JJ': 2, 'NNJ': 2, 'NNP': 2, 'VP': 1, 'ABB': 0, 'AUX': 0, 'CC': 0, 'CM': 0, 'DET': 0, 'FS': 0, 'JCV': 0, 'NCV': 0, 'NDT': 0, 'NIP': 0, 'NUM': 0, 'NVB': 0, 'POST': 0, 'PRP': 0, 'PUNC': 0, 'QBE': 0, 'QUE': 0, 'RB': 0, 'RP': 0, 'RRPCV': 0, 'UNK': 0, 'VFM': 0, 'VNF': 0, 'VNN': 0}</td>\n",
              "      <td>[0, 0, 0, 0, 0, 0, 0, 2, 0, 0, 0, 8, 2, 2, 0, 0, 0, 0, 0, 0, 0, 0, 0, 0, 0, 0, 0, 0, 1]</td>\n",
              "      <td>104</td>\n",
              "      <td>15</td>\n",
              "      <td>6.500000</td>\n",
              "    </tr>\n",
              "    <tr>\n",
              "      <th>1</th>\n",
              "      <td>1</td>\n",
              "      <td>[(මා, PRP), (UNP, NNC), (හෝ, CC), (ඒකාබද්ධ, JJ), (විපක්ෂය, NNC), (මගින්, POST), (හෝ, CC), (දැනට, RB), (පවතින, VP), (කිසිම, DET), (පක්ෂයකින්, NNC), (ඡන්දයකට, NNC), (ඉදිරිපත්, RRPCV), (වෙනවා, VP), (කියා, VNF), (නැ, NIP), (ඒකාබද්ධ, JJ), (විපක්ෂය, NNC), (වැනි, POST), (වි…, FS)]</td>\n",
              "      <td>Political</td>\n",
              "      <td>මා එක්සත් ජාතික පක්ෂ එකාබද්ධ විපක්ෂ පවති කිසි පක්ෂ චන්දයක ඉදිරිප වෙ කි නැ එකාබද්ධ විපක්ෂ වි…</td>\n",
              "      <td>{'PRP': 1, 'NNC': 5, 'CC': 2, 'JJ': 2, 'POST': 2, 'RB': 1, 'VP': 2, 'DET': 1, 'RRPCV': 1, 'VNF': 1, 'NIP': 1, 'FS': 1, 'ABB': 0, 'AUX': 0, 'CM': 0, 'JCV': 0, 'NCV': 0, 'NDT': 0, 'NNJ': 0, 'NNP': 0, 'NUM': 0, 'NVB': 0, 'PUNC': 0, 'QBE': 0, 'QUE': 0, 'RP': 0, 'UNK': 0, 'VFM': 0, 'VNN': 0}</td>\n",
              "      <td>{'PRP': 1, 'NNC': 5, 'CC': 2, 'JJ': 2, 'POST': 2, 'RB': 1, 'VP': 2, 'DET': 1, 'RRPCV': 1, 'VNF': 1, 'NIP': 1, 'FS': 1, 'ABB': 0, 'AUX': 0, 'CM': 0, 'JCV': 0, 'NCV': 0, 'NDT': 0, 'NNJ': 0, 'NNP': 0, 'NUM': 0, 'NVB': 0, 'PUNC': 0, 'QBE': 0, 'QUE': 0, 'RP': 0, 'UNK': 0, 'VFM': 0, 'VNN': 0}</td>\n",
              "      <td>[0, 0, 2, 0, 1, 1, 0, 2, 0, 0, 1, 5, 0, 0, 0, 0, 2, 1, 0, 0, 0, 1, 0, 1, 0, 0, 1, 0, 2]</td>\n",
              "      <td>117</td>\n",
              "      <td>20</td>\n",
              "      <td>5.571429</td>\n",
              "    </tr>\n",
              "    <tr>\n",
              "      <th>2</th>\n",
              "      <td>2</td>\n",
              "      <td>[(කිමද, NNC), (මේ, DET), (තරම්, POST), (කොහේදෝ, NNC), (ඇති, NIP), (විදපු, VP), (ගලක්, NNC), (හා, CC), (උරන, VP), (මා, PRP), (මිතුරු, NNC), (පරය, FS)]</td>\n",
              "      <td>Neutral</td>\n",
              "      <td>කිම තර කොහේද විද ගල උරන මා මිතුර පරය</td>\n",
              "      <td>{'NNC': 4, 'DET': 1, 'POST': 1, 'NIP': 1, 'VP': 2, 'CC': 1, 'PRP': 1, 'FS': 1, 'ABB': 0, 'AUX': 0, 'CM': 0, 'JCV': 0, 'JJ': 0, 'NCV': 0, 'NDT': 0, 'NNJ': 0, 'NNP': 0, 'NUM': 0, 'NVB': 0, 'PUNC': 0, 'QBE': 0, 'QUE': 0, 'RB': 0, 'RP': 0, 'RRPCV': 0, 'UNK': 0, 'VFM': 0, 'VNF': 0, 'VNN': 0}</td>\n",
              "      <td>{'NNC': 4, 'DET': 1, 'POST': 1, 'NIP': 1, 'VP': 2, 'CC': 1, 'PRP': 1, 'FS': 1, 'ABB': 0, 'AUX': 0, 'CM': 0, 'JCV': 0, 'JJ': 0, 'NCV': 0, 'NDT': 0, 'NNJ': 0, 'NNP': 0, 'NUM': 0, 'NVB': 0, 'PUNC': 0, 'QBE': 0, 'QUE': 0, 'RB': 0, 'RP': 0, 'RRPCV': 0, 'UNK': 0, 'VFM': 0, 'VNF': 0, 'VNN': 0}</td>\n",
              "      <td>[0, 0, 1, 0, 1, 1, 0, 0, 0, 0, 1, 4, 0, 0, 0, 0, 1, 1, 0, 0, 0, 0, 0, 0, 0, 0, 0, 0, 2]</td>\n",
              "      <td>57</td>\n",
              "      <td>12</td>\n",
              "      <td>4.384615</td>\n",
              "    </tr>\n",
              "    <tr>\n",
              "      <th>3</th>\n",
              "      <td>3</td>\n",
              "      <td>[(එහෙම, RB), (කොහොමද, NNC), (උනේ, VP), (😂😂, JJ), (පරය, NNC), (අපිව, PRP), (අයින්, NNP), (කරල, NNC), (නේ, VFM), (😂, FS)]</td>\n",
              "      <td>Neutral</td>\n",
              "      <td>එහෙ කොහොම උනේ 😂😂 පරය අපි අය කරල නේ 😂</td>\n",
              "      <td>{'RB': 1, 'NNC': 3, 'VP': 1, 'JJ': 1, 'PRP': 1, 'NNP': 1, 'VFM': 1, 'FS': 1, 'ABB': 0, 'AUX': 0, 'CC': 0, 'CM': 0, 'DET': 0, 'JCV': 0, 'NCV': 0, 'NDT': 0, 'NIP': 0, 'NNJ': 0, 'NUM': 0, 'NVB': 0, 'POST': 0, 'PUNC': 0, 'QBE': 0, 'QUE': 0, 'RP': 0, 'RRPCV': 0, 'UNK': 0, 'VNF': 0, 'VNN': 0}</td>\n",
              "      <td>{'RB': 1, 'NNC': 3, 'VP': 1, 'JJ': 1, 'PRP': 1, 'NNP': 1, 'VFM': 1, 'FS': 1, 'ABB': 0, 'AUX': 0, 'CC': 0, 'CM': 0, 'DET': 0, 'JCV': 0, 'NCV': 0, 'NDT': 0, 'NIP': 0, 'NNJ': 0, 'NUM': 0, 'NVB': 0, 'POST': 0, 'PUNC': 0, 'QBE': 0, 'QUE': 0, 'RP': 0, 'RRPCV': 0, 'UNK': 0, 'VNF': 0, 'VNN': 0}</td>\n",
              "      <td>[0, 0, 0, 0, 0, 1, 0, 1, 0, 0, 0, 3, 0, 1, 0, 0, 0, 1, 0, 0, 0, 1, 0, 0, 0, 1, 0, 0, 1]</td>\n",
              "      <td>47</td>\n",
              "      <td>10</td>\n",
              "      <td>4.272727</td>\n",
              "    </tr>\n",
              "    <tr>\n",
              "      <th>4</th>\n",
              "      <td>4</td>\n",
              "      <td>[(විමලයා, NNP), (ගොනෙක්, NNC), (වගෙ, RP), (stage, JJ), (එකෙ, NNC), (මෑරෙන්න, VNN), (හදනවා, VNF), (පරය, NNC), (රටට, NNC), (වෑඩක්, NNP), (කරපන්, NNP), (යකො, NNP), (හොරා, NNC)]</td>\n",
              "      <td>Political</td>\n",
              "      <td>විමල ගොන වගෙ  එකෙ මෑරෙ හද පරය රටට වෑඩ කර යකො හොර</td>\n",
              "      <td>{'NNP': 4, 'NNC': 5, 'RP': 1, 'JJ': 1, 'VNN': 1, 'VNF': 1, 'ABB': 0, 'AUX': 0, 'CC': 0, 'CM': 0, 'DET': 0, 'FS': 0, 'JCV': 0, 'NCV': 0, 'NDT': 0, 'NIP': 0, 'NNJ': 0, 'NUM': 0, 'NVB': 0, 'POST': 0, 'PRP': 0, 'PUNC': 0, 'QBE': 0, 'QUE': 0, 'RB': 0, 'RRPCV': 0, 'UNK': 0, 'VFM': 0, 'VP': 0}</td>\n",
              "      <td>{'NNP': 4, 'NNC': 5, 'RP': 1, 'JJ': 1, 'VNN': 1, 'VNF': 1, 'ABB': 0, 'AUX': 0, 'CC': 0, 'CM': 0, 'DET': 0, 'FS': 0, 'JCV': 0, 'NCV': 0, 'NDT': 0, 'NIP': 0, 'NNJ': 0, 'NUM': 0, 'NVB': 0, 'POST': 0, 'PRP': 0, 'PUNC': 0, 'QBE': 0, 'QUE': 0, 'RB': 0, 'RRPCV': 0, 'UNK': 0, 'VFM': 0, 'VP': 0}</td>\n",
              "      <td>[0, 0, 0, 0, 0, 0, 0, 1, 0, 0, 0, 5, 0, 4, 0, 0, 0, 0, 0, 0, 0, 0, 1, 0, 0, 0, 1, 1, 0]</td>\n",
              "      <td>70</td>\n",
              "      <td>13</td>\n",
              "      <td>5.000000</td>\n",
              "    </tr>\n",
              "    <tr>\n",
              "      <th>...</th>\n",
              "      <td>...</td>\n",
              "      <td>...</td>\n",
              "      <td>...</td>\n",
              "      <td>...</td>\n",
              "      <td>...</td>\n",
              "      <td>...</td>\n",
              "      <td>...</td>\n",
              "      <td>...</td>\n",
              "      <td>...</td>\n",
              "      <td>...</td>\n",
              "    </tr>\n",
              "    <tr>\n",
              "      <th>1674</th>\n",
              "      <td>1705</td>\n",
              "      <td>[(පීටීඒ, NNP), (සහ, CC), (අයිසීසීපීආර්, NNP), (පනත, NNC), (යටතේ, POST), (වැරදි, NNC), (ලෙස, POST), (ගොනු, NCV), (කර, VNF), (ඇති, NIP), (විමර්ශන, NNC), (හෝ, CC), (නඩු, NNJ), (ප්‍රමාද, NNC), (වීම, VNN), (පිළිබඳව, POST), (ඔබ, PRP), (සතුටු, NNC), (නොවන්නේ, VP), (නම්, POST), (කරුණාකර, NNC), (මුහීඩ්, NNP), (ජීරාන්, NNP), (මානව, JJ), (හිමිකම්, NNJ), (ක්‍රියාකාරික, NNC), (වෙත, POST), (දන්වන්න, VNN)]</td>\n",
              "      <td>Racist</td>\n",
              "      <td>පීටීඑ අයිසීසීපීඅර පනත යටත වැරදි ගො කර විමර්ෂ නඩු ප්‍රමා වීම ඔබ සතුට නොව කරුනාකර මුහීඩ ජීරා මාන හිමික ක්‍රියාකාරික දන්ව</td>\n",
              "      <td>{'NNP': 4, 'CC': 2, 'NNC': 7, 'POST': 5, 'NCV': 1, 'VNF': 1, 'NIP': 1, 'NNJ': 2, 'VNN': 2, 'PRP': 1, 'VP': 1, 'JJ': 1, 'ABB': 0, 'AUX': 0, 'CM': 0, 'DET': 0, 'FS': 0, 'JCV': 0, 'NDT': 0, 'NUM': 0, 'NVB': 0, 'PUNC': 0, 'QBE': 0, 'QUE': 0, 'RB': 0, 'RP': 0, 'RRPCV': 0, 'UNK': 0, 'VFM': 0}</td>\n",
              "      <td>{'NNP': 4, 'CC': 2, 'NNC': 7, 'POST': 5, 'NCV': 1, 'VNF': 1, 'NIP': 1, 'NNJ': 2, 'VNN': 2, 'PRP': 1, 'VP': 1, 'JJ': 1, 'ABB': 0, 'AUX': 0, 'CM': 0, 'DET': 0, 'FS': 0, 'JCV': 0, 'NDT': 0, 'NUM': 0, 'NVB': 0, 'PUNC': 0, 'QBE': 0, 'QUE': 0, 'RB': 0, 'RP': 0, 'RRPCV': 0, 'UNK': 0, 'VFM': 0}</td>\n",
              "      <td>[0, 0, 2, 0, 0, 0, 0, 1, 1, 0, 1, 7, 2, 4, 0, 0, 5, 1, 0, 0, 0, 0, 0, 0, 0, 0, 1, 2, 1]</td>\n",
              "      <td>168</td>\n",
              "      <td>28</td>\n",
              "      <td>5.793103</td>\n",
              "    </tr>\n",
              "    <tr>\n",
              "      <th>1675</th>\n",
              "      <td>1706</td>\n",
              "      <td>[(අරාබි, NNP), (රටවල්, NNC), (මුස්ලිම්, NNP), (නොවන, VP), (සඳහා, POST), (සුපිරි, JJ), (වෙළඳසැල්, NNC), (වල, CM), (තිබුණු, VP), (ඌරු, JJ), (මස්, NNC), (අවසර, VNF), (ඇත, NIP), (මනුෂ්‍යත්වයට, NNC), (ගරු, JCV), (කරන්න, VNN)]</td>\n",
              "      <td>Racist</td>\n",
              "      <td>අරාබි රට මුස්ලි නොව සුපිරි වෙලදසැල වල තිබ උරු මස් අවසර ඇත මනුෂ්‍යත්වය ගරු කර</td>\n",
              "      <td>{'NNP': 2, 'NNC': 4, 'VP': 2, 'POST': 1, 'JJ': 2, 'CM': 1, 'VNF': 1, 'NIP': 1, 'JCV': 1, 'VNN': 1, 'ABB': 0, 'AUX': 0, 'CC': 0, 'DET': 0, 'FS': 0, 'NCV': 0, 'NDT': 0, 'NNJ': 0, 'NUM': 0, 'NVB': 0, 'PRP': 0, 'PUNC': 0, 'QBE': 0, 'QUE': 0, 'RB': 0, 'RP': 0, 'RRPCV': 0, 'UNK': 0, 'VFM': 0}</td>\n",
              "      <td>{'NNP': 2, 'NNC': 4, 'VP': 2, 'POST': 1, 'JJ': 2, 'CM': 1, 'VNF': 1, 'NIP': 1, 'JCV': 1, 'VNN': 1, 'ABB': 0, 'AUX': 0, 'CC': 0, 'DET': 0, 'FS': 0, 'NCV': 0, 'NDT': 0, 'NNJ': 0, 'NUM': 0, 'NVB': 0, 'PRP': 0, 'PUNC': 0, 'QBE': 0, 'QUE': 0, 'RB': 0, 'RP': 0, 'RRPCV': 0, 'UNK': 0, 'VFM': 0}</td>\n",
              "      <td>[0, 0, 0, 1, 0, 0, 1, 2, 0, 0, 1, 4, 0, 2, 0, 0, 1, 0, 0, 0, 0, 0, 0, 0, 0, 0, 1, 1, 2]</td>\n",
              "      <td>95</td>\n",
              "      <td>16</td>\n",
              "      <td>5.588235</td>\n",
              "    </tr>\n",
              "    <tr>\n",
              "      <th>1676</th>\n",
              "      <td>1707</td>\n",
              "      <td>[(හැවිරිදි, POST), (මුස්ලිම්, NNP), (පිරිමි, JJ), (ළමයෙක්, NNC), (ඉස්ලාම්, NNP), (භීතිකාවේ, NNP), (ඉලක්කය, NNC), (බවට, POST), (පත්වූ, VP), (අතර, POST), (ගෝලීය, JJ), (විවෘත, JJ), (රජයේ, NNC), (සමුළු, NNJ), (අවස්ථාව, NNC), (සඳහා, POST), (ඔහුගේ, PRP), (නියෝජනය, NNC), (විනාශ, NCV), (විය, VP)]</td>\n",
              "      <td>Racist</td>\n",
              "      <td>හැවිරිදි මුස්ලි පිරි ලමය ඉස්ලා බීතික ඉලක්ක පත්ව ගෝල විවෘත රජ සමුල අවස්ථා ඔහු නියෝජන විනාෂ විය</td>\n",
              "      <td>{'POST': 4, 'NNP': 3, 'JJ': 3, 'NNC': 5, 'VP': 2, 'NNJ': 1, 'PRP': 1, 'NCV': 1, 'ABB': 0, 'AUX': 0, 'CC': 0, 'CM': 0, 'DET': 0, 'FS': 0, 'JCV': 0, 'NDT': 0, 'NIP': 0, 'NUM': 0, 'NVB': 0, 'PUNC': 0, 'QBE': 0, 'QUE': 0, 'RB': 0, 'RP': 0, 'RRPCV': 0, 'UNK': 0, 'VFM': 0, 'VNF': 0, 'VNN': 0}</td>\n",
              "      <td>{'POST': 4, 'NNP': 3, 'JJ': 3, 'NNC': 5, 'VP': 2, 'NNJ': 1, 'PRP': 1, 'NCV': 1, 'ABB': 0, 'AUX': 0, 'CC': 0, 'CM': 0, 'DET': 0, 'FS': 0, 'JCV': 0, 'NDT': 0, 'NIP': 0, 'NUM': 0, 'NVB': 0, 'PUNC': 0, 'QBE': 0, 'QUE': 0, 'RB': 0, 'RP': 0, 'RRPCV': 0, 'UNK': 0, 'VFM': 0, 'VNF': 0, 'VNN': 0}</td>\n",
              "      <td>[0, 0, 0, 0, 0, 0, 0, 3, 1, 0, 0, 5, 1, 3, 0, 0, 4, 1, 0, 0, 0, 0, 0, 0, 0, 0, 0, 0, 2]</td>\n",
              "      <td>130</td>\n",
              "      <td>20</td>\n",
              "      <td>6.190476</td>\n",
              "    </tr>\n",
              "    <tr>\n",
              "      <th>1677</th>\n",
              "      <td>1708</td>\n",
              "      <td>[(ශ්‍රී, NNP), (ලංකාවේ, NNP), (මුස්ලිම්, NNP), (ප්‍රජාව, NNC), (වෙත, POST), (එල්ල, NCV), (කරන, VP), (දේශපාලන, JJ), (හා, CC), (ආගමික, JJ), (පීඩනය, NNC), (සම්බන්ධයෙන්, POST), (යුරෝපා, NNP), (සංගමයේ, NNC), (ඒකාබද්ධ, JJ), (ප්‍රකාශය, NNC)]</td>\n",
              "      <td>Racist</td>\n",
              "      <td>ලංක මුස්ලි ප්‍රජා එල් කරන දේෂපාල අගමික පීඩන සම්බන්ධ යුරෝප සංගම එකාබද්ධ ප්‍රකාෂ</td>\n",
              "      <td>{'NNP': 4, 'NNC': 4, 'POST': 2, 'NCV': 1, 'VP': 1, 'JJ': 3, 'CC': 1, 'ABB': 0, 'AUX': 0, 'CM': 0, 'DET': 0, 'FS': 0, 'JCV': 0, 'NDT': 0, 'NIP': 0, 'NNJ': 0, 'NUM': 0, 'NVB': 0, 'PRP': 0, 'PUNC': 0, 'QBE': 0, 'QUE': 0, 'RB': 0, 'RP': 0, 'RRPCV': 0, 'UNK': 0, 'VFM': 0, 'VNF': 0, 'VNN': 0}</td>\n",
              "      <td>{'NNP': 4, 'NNC': 4, 'POST': 2, 'NCV': 1, 'VP': 1, 'JJ': 3, 'CC': 1, 'ABB': 0, 'AUX': 0, 'CM': 0, 'DET': 0, 'FS': 0, 'JCV': 0, 'NDT': 0, 'NIP': 0, 'NNJ': 0, 'NUM': 0, 'NVB': 0, 'PRP': 0, 'PUNC': 0, 'QBE': 0, 'QUE': 0, 'RB': 0, 'RP': 0, 'RRPCV': 0, 'UNK': 0, 'VFM': 0, 'VNF': 0, 'VNN': 0}</td>\n",
              "      <td>[0, 0, 1, 0, 0, 0, 0, 3, 1, 0, 0, 4, 0, 4, 0, 0, 2, 0, 0, 0, 0, 0, 0, 0, 0, 0, 0, 0, 1]</td>\n",
              "      <td>109</td>\n",
              "      <td>16</td>\n",
              "      <td>6.411765</td>\n",
              "    </tr>\n",
              "    <tr>\n",
              "      <th>1678</th>\n",
              "      <td>1709</td>\n",
              "      <td>[(රාජ්‍ය, JJ), (අංශයේ, NNC), (කාන්තා, JJ), (ඇඳුම්, NNC), (පැළඳුම්, NNJ), (සංග්‍රහය, NNC), (පිළිබඳ, POST), (දිනැති, JJ), (පබ්අඩ්, JJ), (චක්‍රලේඛ, NNC), (අංක, NNC), (පාලනය, NCV), (කරන, VP), (අගමැති, NNJ), (කාර්යාලයේ, NNC), (ලිපිය, NNC)]</td>\n",
              "      <td>Racist</td>\n",
              "      <td>රාජ්‍ අංෂ කාන්ත ඇද පැලද සංග්‍රහ දිනැ පබ්අඩ චක්‍රලේක අංක පාලන කරන අගමැ කාර්යාල ලි</td>\n",
              "      <td>{'JJ': 4, 'NNC': 7, 'NNJ': 2, 'POST': 1, 'NCV': 1, 'VP': 1, 'ABB': 0, 'AUX': 0, 'CC': 0, 'CM': 0, 'DET': 0, 'FS': 0, 'JCV': 0, 'NDT': 0, 'NIP': 0, 'NNP': 0, 'NUM': 0, 'NVB': 0, 'PRP': 0, 'PUNC': 0, 'QBE': 0, 'QUE': 0, 'RB': 0, 'RP': 0, 'RRPCV': 0, 'UNK': 0, 'VFM': 0, 'VNF': 0, 'VNN': 0}</td>\n",
              "      <td>{'JJ': 4, 'NNC': 7, 'NNJ': 2, 'POST': 1, 'NCV': 1, 'VP': 1, 'ABB': 0, 'AUX': 0, 'CC': 0, 'CM': 0, 'DET': 0, 'FS': 0, 'JCV': 0, 'NDT': 0, 'NIP': 0, 'NNP': 0, 'NUM': 0, 'NVB': 0, 'PRP': 0, 'PUNC': 0, 'QBE': 0, 'QUE': 0, 'RB': 0, 'RP': 0, 'RRPCV': 0, 'UNK': 0, 'VFM': 0, 'VNF': 0, 'VNN': 0}</td>\n",
              "      <td>[0, 0, 0, 0, 0, 0, 0, 4, 1, 0, 0, 7, 2, 0, 0, 0, 1, 0, 0, 0, 0, 0, 0, 0, 0, 0, 0, 0, 1]</td>\n",
              "      <td>111</td>\n",
              "      <td>16</td>\n",
              "      <td>6.529412</td>\n",
              "    </tr>\n",
              "  </tbody>\n",
              "</table>\n",
              "<p>1679 rows × 10 columns</p>\n",
              "</div>"
            ],
            "text/plain": [
              "        Id  ... word_density\n",
              "0        0  ...     6.500000\n",
              "1        1  ...     5.571429\n",
              "2        2  ...     4.384615\n",
              "3        3  ...     4.272727\n",
              "4        4  ...     5.000000\n",
              "...    ...  ...          ...\n",
              "1674  1705  ...     5.793103\n",
              "1675  1706  ...     5.588235\n",
              "1676  1707  ...     6.190476\n",
              "1677  1708  ...     6.411765\n",
              "1678  1709  ...     6.529412\n",
              "\n",
              "[1679 rows x 10 columns]"
            ]
          },
          "metadata": {
            "tags": []
          },
          "execution_count": 21
        }
      ]
    },
    {
      "cell_type": "code",
      "metadata": {
        "colab": {
          "base_uri": "https://localhost:8080/"
        },
        "id": "oeEhQqN89wdS",
        "outputId": "95443319-5dbb-4973-edd0-e0ae5860f624"
      },
      "source": [
        "pd.set_option('display.max_colwidth', None)\n",
        "df['sent_vector']"
      ],
      "execution_count": null,
      "outputs": [
        {
          "output_type": "execute_result",
          "data": {
            "text/plain": [
              "0       [0, 0, 0, 0, 0, 0, 0, 2, 0, 0, 0, 8, 2, 2, 0, 0, 0, 0, 0, 0, 0, 0, 0, 0, 0, 0, 0, 0, 1]\n",
              "1       [0, 0, 2, 0, 1, 1, 0, 2, 0, 0, 1, 5, 0, 0, 0, 0, 2, 1, 0, 0, 0, 1, 0, 1, 0, 0, 1, 0, 2]\n",
              "2       [0, 0, 1, 0, 1, 1, 0, 0, 0, 0, 1, 4, 0, 0, 0, 0, 1, 1, 0, 0, 0, 0, 0, 0, 0, 0, 0, 0, 2]\n",
              "3       [0, 0, 0, 0, 0, 1, 0, 1, 0, 0, 0, 3, 0, 1, 0, 0, 0, 1, 0, 0, 0, 1, 0, 0, 0, 1, 0, 0, 1]\n",
              "4       [0, 0, 0, 0, 0, 0, 0, 1, 0, 0, 0, 5, 0, 4, 0, 0, 0, 0, 0, 0, 0, 0, 1, 0, 0, 0, 1, 1, 0]\n",
              "                                                 ...                                           \n",
              "1674    [0, 0, 2, 0, 0, 0, 0, 1, 1, 0, 1, 7, 2, 4, 0, 0, 5, 1, 0, 0, 0, 0, 0, 0, 0, 0, 1, 2, 1]\n",
              "1675    [0, 0, 0, 1, 0, 0, 1, 2, 0, 0, 1, 4, 0, 2, 0, 0, 1, 0, 0, 0, 0, 0, 0, 0, 0, 0, 1, 1, 2]\n",
              "1676    [0, 0, 0, 0, 0, 0, 0, 3, 1, 0, 0, 5, 1, 3, 0, 0, 4, 1, 0, 0, 0, 0, 0, 0, 0, 0, 0, 0, 2]\n",
              "1677    [0, 0, 1, 0, 0, 0, 0, 3, 1, 0, 0, 4, 0, 4, 0, 0, 2, 0, 0, 0, 0, 0, 0, 0, 0, 0, 0, 0, 1]\n",
              "1678    [0, 0, 0, 0, 0, 0, 0, 4, 1, 0, 0, 7, 2, 0, 0, 0, 1, 0, 0, 0, 0, 0, 0, 0, 0, 0, 0, 0, 1]\n",
              "Name: sent_vector, Length: 1679, dtype: object"
            ]
          },
          "metadata": {
            "tags": []
          },
          "execution_count": 40
        }
      ]
    },
    {
      "cell_type": "code",
      "metadata": {
        "id": "mk-S7OGx3pIW"
      },
      "source": [
        "from sklearn import metrics\n",
        "from sklearn.model_selection import train_test_split\n",
        "from sklearn.metrics import accuracy_score\n",
        "from numpy import array\n",
        "\n",
        "# pos_counts\n",
        "data=[]\n",
        "for i in df[\"sent_vector\"].values:\n",
        "    temp=[]\n",
        "    for j in i:\n",
        "        temp.append(j)\n",
        "    data.append(temp)\n",
        "data=np.array(data)\n",
        "\n",
        "y=df['Class'].values\n"
      ],
      "execution_count": null,
      "outputs": []
    },
    {
      "cell_type": "code",
      "metadata": {
        "colab": {
          "base_uri": "https://localhost:8080/"
        },
        "id": "36VJ842s371I",
        "outputId": "a7801029-10b1-4203-d860-8f2e0471c301"
      },
      "source": [
        "#RF\n",
        "model = ensemble.RandomForestClassifier()\n",
        "X_train, X_test, Y_train, Y_test = train_test_split(data,y,test_size=0.5, random_state=42)\n",
        "#train_x, valid_x, train_y, valid_y = model.train_test_split(trainDF['Filtered_sentence'], trainDF['Class'])\n",
        "\n",
        "model.fit(X_train, Y_train)\n",
        "\n",
        "predictions = model.predict(X_test)\n",
        "print('RF, pos_counts Accuracy: ', accuracy_score(Y_test.astype(str), predictions.astype(str)))"
      ],
      "execution_count": null,
      "outputs": [
        {
          "output_type": "stream",
          "text": [
            "RF, pos_counts Accuracy:  0.5797619047619048\n"
          ],
          "name": "stdout"
        }
      ]
    },
    {
      "cell_type": "code",
      "metadata": {
        "colab": {
          "base_uri": "https://localhost:8080/"
        },
        "id": "p1Mhxz0YzMfa",
        "outputId": "32421e4d-3bce-49b0-fbae-0fb0b41454e9"
      },
      "source": [
        "#svm\n",
        "model = svm.SVC()\n",
        "X_train, X_test, Y_train, Y_test = train_test_split(data,y,test_size=0.5, random_state=42)\n",
        "#train_x, valid_x, train_y, valid_y = model.train_test_split(trainDF['Filtered_sentence'], trainDF['Class'])\n",
        "\n",
        "model.fit(X_train, Y_train)\n",
        "\n",
        "predictions = model.predict(X_test)\n",
        "print('svm, pos_counts Accuracy: ', accuracy_score(Y_test.astype(str), predictions.astype(str)))"
      ],
      "execution_count": null,
      "outputs": [
        {
          "output_type": "stream",
          "text": [
            "svm, pos_counts Accuracy:  0.5880952380952381\n"
          ],
          "name": "stdout"
        }
      ]
    },
    {
      "cell_type": "code",
      "metadata": {
        "colab": {
          "base_uri": "https://localhost:8080/"
        },
        "id": "_FnHd73IO37x",
        "outputId": "953593a3-e97c-45be-f758-28be9d6a1a57"
      },
      "source": [
        "# LR\n",
        "model = linear_model.LogisticRegression()\n",
        "X_train, X_test, Y_train, Y_test = train_test_split(data,y,test_size=0.5, random_state=42)\n",
        "#train_x, valid_x, train_y, valid_y = model.train_test_split(trainDF['Filtered_sentence'], trainDF['Class'])\n",
        "\n",
        "model.fit(X_train, Y_train)\n",
        "\n",
        "predictions = model.predict(X_test)\n",
        "print('LR, pos_counts Accuracy: ', accuracy_score(Y_test.astype(str), predictions.astype(str)))"
      ],
      "execution_count": null,
      "outputs": [
        {
          "output_type": "stream",
          "text": [
            "LR, pos_counts Accuracy:  0.5630952380952381\n"
          ],
          "name": "stdout"
        },
        {
          "output_type": "stream",
          "text": [
            "/usr/local/lib/python3.7/dist-packages/sklearn/linear_model/_logistic.py:940: ConvergenceWarning: lbfgs failed to converge (status=1):\n",
            "STOP: TOTAL NO. of ITERATIONS REACHED LIMIT.\n",
            "\n",
            "Increase the number of iterations (max_iter) or scale the data as shown in:\n",
            "    https://scikit-learn.org/stable/modules/preprocessing.html\n",
            "Please also refer to the documentation for alternative solver options:\n",
            "    https://scikit-learn.org/stable/modules/linear_model.html#logistic-regression\n",
            "  extra_warning_msg=_LOGISTIC_SOLVER_CONVERGENCE_MSG)\n"
          ],
          "name": "stderr"
        }
      ]
    },
    {
      "cell_type": "code",
      "metadata": {
        "colab": {
          "base_uri": "https://localhost:8080/"
        },
        "id": "Ub4lOf6FO8ay",
        "outputId": "13f9a8e4-898c-459b-c6f6-261de5592d9b"
      },
      "source": [
        "# SGD\n",
        "model = linear_model.SGDClassifier(loss='hinge', penalty='l2',alpha=1e-3, random_state=42, max_iter=5, tol=None)\n",
        "X_train, X_test, Y_train, Y_test = train_test_split(data,y,test_size=0.5, random_state=42)\n",
        "#train_x, valid_x, train_y, valid_y = model.train_test_split(trainDF['Filtered_sentence'], trainDF['Class'])\n",
        "\n",
        "model.fit(X_train, Y_train)\n",
        "\n",
        "predictions = model.predict(X_test)\n",
        "print('SGD, pos_counts Accuracy: ', accuracy_score(Y_test.astype(str), predictions.astype(str)))"
      ],
      "execution_count": null,
      "outputs": [
        {
          "output_type": "stream",
          "text": [
            "SGD, pos_counts Accuracy:  0.5511904761904762\n"
          ],
          "name": "stdout"
        }
      ]
    },
    {
      "cell_type": "code",
      "metadata": {
        "colab": {
          "base_uri": "https://localhost:8080/"
        },
        "id": "9x83TcUsO-CT",
        "outputId": "a1902034-dbf3-49df-e0a9-4977c4ebe676"
      },
      "source": [
        "# NB\n",
        "model = naive_bayes.MultinomialNB()\n",
        "X_train, X_test, Y_train, Y_test = train_test_split(data,y,test_size=0.5, random_state=42)\n",
        "#train_x, valid_x, train_y, valid_y = model.train_test_split(trainDF['Filtered_sentence'], trainDF['Class'])\n",
        "\n",
        "model.fit(X_train, Y_train)\n",
        "\n",
        "predictions = model.predict(X_test)\n",
        "print('NB, pos_counts Accuracy: ', accuracy_score(Y_test.astype(str), predictions.astype(str)))"
      ],
      "execution_count": null,
      "outputs": [
        {
          "output_type": "stream",
          "text": [
            "NB, pos_counts Accuracy:  0.5428571428571428\n"
          ],
          "name": "stdout"
        }
      ]
    },
    {
      "cell_type": "markdown",
      "metadata": {
        "id": "4tRwzV_3IXl6"
      },
      "source": [
        "Checked accuracy with balanced domain data"
      ]
    },
    {
      "cell_type": "code",
      "metadata": {
        "colab": {
          "base_uri": "https://localhost:8080/"
        },
        "id": "HXOT7yaCIO5C",
        "outputId": "a62a5a29-ba97-4b42-cc5f-358f6654313f"
      },
      "source": [
        "#RF\n",
        "model = ensemble.RandomForestClassifier()\n",
        "X_train, X_test, Y_train, Y_test = train_test_split(data,y,test_size=0.5, random_state=42)\n",
        "#train_x, valid_x, train_y, valid_y = model.train_test_split(trainDF['Filtered_sentence'], trainDF['Class'])\n",
        "\n",
        "model.fit(X_train, Y_train)\n",
        "\n",
        "predictions = model.predict(X_test)\n",
        "print('RF, pos_counts Accuracy: ', accuracy_score(Y_test.astype(str), predictions.astype(str)))"
      ],
      "execution_count": null,
      "outputs": [
        {
          "output_type": "stream",
          "text": [
            "RF, pos_counts Accuracy:  0.2953020134228188\n"
          ],
          "name": "stdout"
        }
      ]
    },
    {
      "cell_type": "code",
      "metadata": {
        "colab": {
          "base_uri": "https://localhost:8080/"
        },
        "id": "o59fIJfrIS-u",
        "outputId": "edcd91ca-59cd-49f3-bc1a-40b8b382bbe2"
      },
      "source": [
        "#svm\n",
        "model = svm.SVC()\n",
        "X_train, X_test, Y_train, Y_test = train_test_split(data,y,test_size=0.5, random_state=42)\n",
        "#train_x, valid_x, train_y, valid_y = model.train_test_split(trainDF['Filtered_sentence'], trainDF['Class'])\n",
        "\n",
        "model.fit(X_train, Y_train)\n",
        "\n",
        "predictions = model.predict(X_test)\n",
        "print('svm, pos_counts Accuracy: ', accuracy_score(Y_test.astype(str), predictions.astype(str)))"
      ],
      "execution_count": null,
      "outputs": [
        {
          "output_type": "stream",
          "text": [
            "svm, pos_counts Accuracy:  0.28635346756152125\n"
          ],
          "name": "stdout"
        }
      ]
    },
    {
      "cell_type": "markdown",
      "metadata": {
        "id": "bmYG6owa6a9o"
      },
      "source": [
        "word count"
      ]
    },
    {
      "cell_type": "code",
      "metadata": {
        "colab": {
          "base_uri": "https://localhost:8080/"
        },
        "id": "O4UZmUPocP0D",
        "outputId": "a508898d-8c49-4fb1-9f5e-23c6406dee41"
      },
      "source": [
        "#MultinomialNB\n",
        "#\tword count\n",
        "X=df['word_count'].values\n",
        "y=df['Class'].values\n",
        "\n",
        "X=X.reshape(-1,1)\n",
        "\n",
        "model = naive_bayes.MultinomialNB()\n",
        "X_train, X_test, Y_train, Y_test = train_test_split(X,y,test_size=0.8, random_state=100)\n",
        "#train_x, valid_x, train_y, valid_y = model.train_test_split(trainDF['Filtered_sentence'], trainDF['Class'])\n",
        "\n",
        "model.fit(X_train, Y_train)\n",
        "\n",
        "predictions = model.predict(X_test)\n",
        "print('NB, word_count Accuracy: ', accuracy_score(Y_test.astype(str), predictions.astype(str)) * 100)"
      ],
      "execution_count": null,
      "outputs": [
        {
          "output_type": "stream",
          "text": [
            "NB, word_count Accuracy:  55.87797619047619\n"
          ],
          "name": "stdout"
        }
      ]
    },
    {
      "cell_type": "code",
      "metadata": {
        "colab": {
          "base_uri": "https://localhost:8080/"
        },
        "id": "WTT-d-brTdKb",
        "outputId": "f50ceb48-e735-4cd8-f932-1d90fc8ac8c9"
      },
      "source": [
        "#RF\n",
        "from sklearn.multiclass import OneVsRestClassifier\n",
        "#Random forest\n",
        "n_classes=6\n",
        "\n",
        "#\tword_density\n",
        "X=df['word_density'].values\n",
        "y=df['Class'].values\n",
        "\n",
        "X=X.reshape(-1,1)\n",
        "\n",
        "X_train, X_test, Y_train, Y_test = train_test_split(X,y)\n",
        "\n",
        "RF_clf = OneVsRestClassifier(ensemble.RandomForestClassifier())\n",
        "RF_clf.fit(X_train,Y_train)\n",
        "y_pred = RF_clf.predict(X_test)\n",
        "\n",
        "print(\"Accuracy: \", RF_clf.score(X_test,Y_test))"
      ],
      "execution_count": null,
      "outputs": [
        {
          "output_type": "stream",
          "text": [
            "Accuracy:  0.4642857142857143\n"
          ],
          "name": "stdout"
        }
      ]
    },
    {
      "cell_type": "code",
      "metadata": {
        "id": "GH4TCjGvAqBd"
      },
      "source": [
        "from sklearn.naive_bayes import GaussianNB\n",
        "from sklearn import metrics\n",
        "from sklearn.model_selection import train_test_split\n",
        "from sklearn.metrics import accuracy_score\n",
        "from numpy import array\n",
        "\n",
        "# pos_counts\n",
        "data=[]\n",
        "for i in df[\"sent_vector\"].values:\n",
        "    temp=[]\n",
        "    for j in i:\n",
        "        temp.append(j)\n",
        "    data.append(temp)\n",
        "data=np.array(data)\n",
        "\n",
        "y=df['Class'].values\n",
        "\n",
        "model = ensemble.RandomForestClassifier()\n",
        "X_train, X_test, Y_train, Y_test = train_test_split(data,y,test_size=0.5, random_state=42)\n",
        "#train_x, valid_x, train_y, valid_y = model.train_test_split(trainDF['Filtered_sentence'], trainDF['Class'])\n",
        "\n",
        "model.fit(X_train, Y_train)\n",
        "\n",
        "predictions = model.predict(X_test)\n",
        "print('RF, pos_counts Accuracy: ', accuracy_score(Y_test.astype(str), predictions.astype(str)))"
      ],
      "execution_count": null,
      "outputs": []
    }
  ]
}