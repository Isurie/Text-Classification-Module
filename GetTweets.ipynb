{
  "nbformat": 4,
  "nbformat_minor": 0,
  "metadata": {
    "colab": {
      "name": "GetTweets.ipynb",
      "provenance": [],
      "authorship_tag": "ABX9TyP+R8T65AXE2n2eFbHjeUfm",
      "include_colab_link": true
    },
    "kernelspec": {
      "name": "python3",
      "display_name": "Python 3"
    }
  },
  "cells": [
    {
      "cell_type": "markdown",
      "metadata": {
        "id": "view-in-github",
        "colab_type": "text"
      },
      "source": [
        "<a href=\"https://colab.research.google.com/github/Isurie/Text-Classification-Module/blob/master/GetTweets.ipynb\" target=\"_parent\"><img src=\"https://colab.research.google.com/assets/colab-badge.svg\" alt=\"Open In Colab\"/></a>"
      ]
    },
    {
      "cell_type": "code",
      "metadata": {
        "colab": {
          "base_uri": "https://localhost:8080/"
        },
        "id": "Zvs10_mJtGU_",
        "outputId": "7fde5114-e45b-410a-9990-a10879716d01"
      },
      "source": [
        "pip install tweepy"
      ],
      "execution_count": null,
      "outputs": [
        {
          "output_type": "stream",
          "text": [
            "Requirement already satisfied: tweepy in /usr/local/lib/python3.7/dist-packages (3.10.0)\n",
            "Requirement already satisfied: six>=1.10.0 in /usr/local/lib/python3.7/dist-packages (from tweepy) (1.15.0)\n",
            "Requirement already satisfied: requests-oauthlib>=0.7.0 in /usr/local/lib/python3.7/dist-packages (from tweepy) (1.3.0)\n",
            "Requirement already satisfied: requests[socks]>=2.11.1 in /usr/local/lib/python3.7/dist-packages (from tweepy) (2.23.0)\n",
            "Requirement already satisfied: oauthlib>=3.0.0 in /usr/local/lib/python3.7/dist-packages (from requests-oauthlib>=0.7.0->tweepy) (3.1.1)\n",
            "Requirement already satisfied: urllib3!=1.25.0,!=1.25.1,<1.26,>=1.21.1 in /usr/local/lib/python3.7/dist-packages (from requests[socks]>=2.11.1->tweepy) (1.24.3)\n",
            "Requirement already satisfied: idna<3,>=2.5 in /usr/local/lib/python3.7/dist-packages (from requests[socks]>=2.11.1->tweepy) (2.10)\n",
            "Requirement already satisfied: certifi>=2017.4.17 in /usr/local/lib/python3.7/dist-packages (from requests[socks]>=2.11.1->tweepy) (2021.5.30)\n",
            "Requirement already satisfied: chardet<4,>=3.0.2 in /usr/local/lib/python3.7/dist-packages (from requests[socks]>=2.11.1->tweepy) (3.0.4)\n",
            "Requirement already satisfied: PySocks!=1.5.7,>=1.5.6; extra == \"socks\" in /usr/local/lib/python3.7/dist-packages (from requests[socks]>=2.11.1->tweepy) (1.7.1)\n"
          ],
          "name": "stdout"
        }
      ]
    },
    {
      "cell_type": "code",
      "metadata": {
        "id": "RLIM2xXEtMCr"
      },
      "source": [
        "import os\n",
        "import tweepy as tw\n",
        "import pandas as pd"
      ],
      "execution_count": null,
      "outputs": []
    },
    {
      "cell_type": "code",
      "metadata": {
        "colab": {
          "resources": {
            "http://localhost:8080/nbextensions/google.colab/files.js": {
              "data": "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",
              "ok": true,
              "headers": [
                [
                  "content-type",
                  "application/javascript"
                ]
              ],
              "status": 200,
              "status_text": ""
            }
          },
          "base_uri": "https://localhost:8080/",
          "height": 73
        },
        "id": "e6oueqpRm-la",
        "outputId": "cab2ca76-ee87-47d0-c1d6-8c42096b9fc8"
      },
      "source": [
        "from google.colab import files\n",
        "uploaded = files.upload()"
      ],
      "execution_count": null,
      "outputs": [
        {
          "output_type": "display_data",
          "data": {
            "text/html": [
              "\n",
              "     <input type=\"file\" id=\"files-195e73b3-0aa3-4910-b39b-82ea762df38c\" name=\"files[]\" multiple disabled\n",
              "        style=\"border:none\" />\n",
              "     <output id=\"result-195e73b3-0aa3-4910-b39b-82ea762df38c\">\n",
              "      Upload widget is only available when the cell has been executed in the\n",
              "      current browser session. Please rerun this cell to enable.\n",
              "      </output>\n",
              "      <script src=\"/nbextensions/google.colab/files.js\"></script> "
            ],
            "text/plain": [
              "<IPython.core.display.HTML object>"
            ]
          },
          "metadata": {
            "tags": []
          }
        },
        {
          "output_type": "stream",
          "text": [
            "Saving final-data-set.csv to final-data-set.csv\n"
          ],
          "name": "stdout"
        }
      ]
    },
    {
      "cell_type": "code",
      "metadata": {
        "colab": {
          "base_uri": "https://localhost:8080/",
          "height": 417
        },
        "id": "OKexyt_XmvSE",
        "outputId": "5ee2765f-7f4f-4f51-d262-296d8c9a1f53"
      },
      "source": [
        "df = pd.read_csv('final-data-set.csv', error_bad_lines=False)\n",
        "df"
      ],
      "execution_count": null,
      "outputs": [
        {
          "output_type": "execute_result",
          "data": {
            "text/html": [
              "<div>\n",
              "<style scoped>\n",
              "    .dataframe tbody tr th:only-of-type {\n",
              "        vertical-align: middle;\n",
              "    }\n",
              "\n",
              "    .dataframe tbody tr th {\n",
              "        vertical-align: top;\n",
              "    }\n",
              "\n",
              "    .dataframe thead th {\n",
              "        text-align: right;\n",
              "    }\n",
              "</style>\n",
              "<table border=\"1\" class=\"dataframe\">\n",
              "  <thead>\n",
              "    <tr style=\"text-align: right;\">\n",
              "      <th></th>\n",
              "      <th>instance_id</th>\n",
              "      <th>id</th>\n",
              "      <th>user.id</th>\n",
              "      <th>created_at</th>\n",
              "      <th>text</th>\n",
              "      <th>class</th>\n",
              "    </tr>\n",
              "  </thead>\n",
              "  <tbody>\n",
              "    <tr>\n",
              "      <th>0</th>\n",
              "      <td>5</td>\n",
              "      <td>1.070000e+18</td>\n",
              "      <td>1.509420e+08</td>\n",
              "      <td>Thu Nov 29 04:46:25 +0000 2018</td>\n",
              "      <td>\"@dead_mans_creed @Wind_Desika කිමද මේ තරම් කො...</td>\n",
              "      <td>Neutral</td>\n",
              "    </tr>\n",
              "    <tr>\n",
              "      <th>1</th>\n",
              "      <td>12</td>\n",
              "      <td>1.070000e+18</td>\n",
              "      <td>9.270654e+08</td>\n",
              "      <td>Wed Nov 21 13:41:45 +0000 2018</td>\n",
              "      <td>\"RT @SaliyaT_R: @fernandoharin ලැජ්ජයි ස⁣හෝදරය...</td>\n",
              "      <td>Racist</td>\n",
              "    </tr>\n",
              "    <tr>\n",
              "      <th>2</th>\n",
              "      <td>14</td>\n",
              "      <td>1.060000e+18</td>\n",
              "      <td>3.089536e+09</td>\n",
              "      <td>Tue Nov 20 08:54:00 +0000 2018</td>\n",
              "      <td>\"@She_is_Nu @nthathsaranii ඇයි මං තම්බි වගේද ප...</td>\n",
              "      <td>Neutral</td>\n",
              "    </tr>\n",
              "    <tr>\n",
              "      <th>3</th>\n",
              "      <td>15</td>\n",
              "      <td>1.060000e+18</td>\n",
              "      <td>1.060000e+18</td>\n",
              "      <td>Sat Nov 17 19:11:08 +0000 2018</td>\n",
              "      <td>\"@Sagara_9 ඉටිම් බං උතුර ඉල්ලනසෙට් එකයි නැගෙනහ...</td>\n",
              "      <td>Racist</td>\n",
              "    </tr>\n",
              "    <tr>\n",
              "      <th>4</th>\n",
              "      <td>16</td>\n",
              "      <td>1.060000e+18</td>\n",
              "      <td>2.876667e+09</td>\n",
              "      <td>Sat Nov 17 17:39:06 +0000 2018</td>\n",
              "      <td>\"RT @SaliyaT_R: පේනවානේ තම්බි කවදත් ඉන්නේ උන්ට...</td>\n",
              "      <td>Racist</td>\n",
              "    </tr>\n",
              "    <tr>\n",
              "      <th>...</th>\n",
              "      <td>...</td>\n",
              "      <td>...</td>\n",
              "      <td>...</td>\n",
              "      <td>...</td>\n",
              "      <td>...</td>\n",
              "      <td>...</td>\n",
              "    </tr>\n",
              "    <tr>\n",
              "      <th>1397</th>\n",
              "      <td>316</td>\n",
              "      <td>1.050000e+18</td>\n",
              "      <td>7.190000e+17</td>\n",
              "      <td>Mon Oct 08 17:33:22 +0000 2018</td>\n",
              "      <td>\"'ඩ්රන්කන් ලෑඩි කිල්ලින්ග් පොලිස්මන් විතොට් ජං...</td>\n",
              "      <td>Neutral</td>\n",
              "    </tr>\n",
              "    <tr>\n",
              "      <th>1398</th>\n",
              "      <td>317</td>\n",
              "      <td>1.050000e+18</td>\n",
              "      <td>3.073414e+09</td>\n",
              "      <td>Fri Oct 19 17:12:51 +0000 2018</td>\n",
              "      <td>\"ඩිම්බයක සහ ශුක්රානුවක සංයෝගයෙන් චිරාත් කාලයකට...</td>\n",
              "      <td>Neutral</td>\n",
              "    </tr>\n",
              "    <tr>\n",
              "      <th>1399</th>\n",
              "      <td>319</td>\n",
              "      <td>1.050000e+18</td>\n",
              "      <td>3.593660e+08</td>\n",
              "      <td>Sat Oct 20 13:55:36 +0000 2018</td>\n",
              "      <td>\"දඹදෙණියෙ මාහාරගම හන්දියෙ තම්බි පල්ලියට කෝචොක්...</td>\n",
              "      <td>Racist</td>\n",
              "    </tr>\n",
              "    <tr>\n",
              "      <th>1400</th>\n",
              "      <td>320</td>\n",
              "      <td>1.050000e+18</td>\n",
              "      <td>8.480000e+17</td>\n",
              "      <td>Tue Oct 23 16:55:38 +0000 2018</td>\n",
              "      <td>\"@raviyasas @chamindarr ඔවා දැන් පැකට් කරන්නෙ ...</td>\n",
              "      <td>Racist</td>\n",
              "    </tr>\n",
              "    <tr>\n",
              "      <th>1401</th>\n",
              "      <td>321</td>\n",
              "      <td>1.060000e+18</td>\n",
              "      <td>3.189787e+09</td>\n",
              "      <td>Sat Oct 27 16:24:36 +0000 2018</td>\n",
              "      <td>\"@HarshadeSilvaMP @RW_UNP @officialunp #muslim...</td>\n",
              "      <td>Racist</td>\n",
              "    </tr>\n",
              "  </tbody>\n",
              "</table>\n",
              "<p>1402 rows × 6 columns</p>\n",
              "</div>"
            ],
            "text/plain": [
              "      instance_id  ...    class\n",
              "0               5  ...  Neutral\n",
              "1              12  ...   Racist\n",
              "2              14  ...  Neutral\n",
              "3              15  ...   Racist\n",
              "4              16  ...   Racist\n",
              "...           ...  ...      ...\n",
              "1397          316  ...  Neutral\n",
              "1398          317  ...  Neutral\n",
              "1399          319  ...   Racist\n",
              "1400          320  ...   Racist\n",
              "1401          321  ...   Racist\n",
              "\n",
              "[1402 rows x 6 columns]"
            ]
          },
          "metadata": {
            "tags": []
          },
          "execution_count": 5
        }
      ]
    },
    {
      "cell_type": "code",
      "metadata": {
        "id": "E_wzl0pEtPBu"
      },
      "source": [
        "consumer_key= 'eCcOHT9FzWkINeH78O2tN5Mr7'\n",
        "consumer_secret= 'qlsSKiJtgTbLwC5YMEHzGvN4P2Lvygxm7EgsTSdVwTJBTLLRpL'\n",
        "access_token= '715007031556448256-V9UNiZR80oypXR7D1G8ofAQObYDkOUj'\n",
        "access_token_secret= '2hekp24EvWAl6khZCaxyTfVtbz2XVG4dcFO4DP8jp96Je'"
      ],
      "execution_count": null,
      "outputs": []
    },
    {
      "cell_type": "code",
      "metadata": {
        "id": "2ZcxqQA9tSTy"
      },
      "source": [
        "auth = tw.OAuthHandler(consumer_key, consumer_secret)\n",
        "auth.set_access_token(access_token, access_token_secret)\n",
        "api = tw.API(auth, wait_on_rate_limit=True)"
      ],
      "execution_count": null,
      "outputs": []
    },
    {
      "cell_type": "code",
      "metadata": {
        "id": "VBb4k4r0tV6e"
      },
      "source": [
        "# Define the search term and the date_since date as variables\n",
        "search_words = \"මුස්ලිම්\"\n",
        "date_since = \"2019-11-16\""
      ],
      "execution_count": null,
      "outputs": []
    },
    {
      "cell_type": "code",
      "metadata": {
        "id": "rXVVPIJKtYTZ"
      },
      "source": [
        "# Collect tweets by keyword\n",
        "tweets = tw.Cursor(api.search,\n",
        "              q=search_words,\n",
        "              lang=\"si\",\n",
        "              since=date_since).items(20)"
      ],
      "execution_count": null,
      "outputs": []
    },
    {
      "cell_type": "code",
      "metadata": {
        "id": "EQTXd1u1ta9c",
        "colab": {
          "base_uri": "https://localhost:8080/",
          "height": 753
        },
        "outputId": "cbcedf29-5d2f-4033-f701-4bdcf8860e93"
      },
      "source": [
        "L  = []\n",
        "for tweet in tweets:\n",
        "    L.append(tweet)\n",
        "    df = pd.DataFrame(L, columns=['tweets'])\n",
        "    #print(tweet.text)\n",
        "\n",
        "df\n",
        "\n"
      ],
      "execution_count": null,
      "outputs": [
        {
          "output_type": "execute_result",
          "data": {
            "text/html": [
              "<div>\n",
              "<style scoped>\n",
              "    .dataframe tbody tr th:only-of-type {\n",
              "        vertical-align: middle;\n",
              "    }\n",
              "\n",
              "    .dataframe tbody tr th {\n",
              "        vertical-align: top;\n",
              "    }\n",
              "\n",
              "    .dataframe thead th {\n",
              "        text-align: right;\n",
              "    }\n",
              "</style>\n",
              "<table border=\"1\" class=\"dataframe\">\n",
              "  <thead>\n",
              "    <tr style=\"text-align: right;\">\n",
              "      <th></th>\n",
              "      <th>instance_id</th>\n",
              "      <th>id</th>\n",
              "      <th>user.id</th>\n",
              "      <th>created_at</th>\n",
              "      <th>text</th>\n",
              "      <th>class</th>\n",
              "    </tr>\n",
              "  </thead>\n",
              "  <tbody>\n",
              "    <tr>\n",
              "      <th>0</th>\n",
              "      <td>5</td>\n",
              "      <td>1.070000e+18</td>\n",
              "      <td>150942005</td>\n",
              "      <td>Thu Nov 29 04:46:25 +0000 2018</td>\n",
              "      <td>\"@dead_mans_creed @Wind_Desika කිමද මේ තරම් කොහේදෝ ඇති විදපු ගලක් හා උරන මා මිතුරු පරය?\"</td>\n",
              "      <td>Neutral</td>\n",
              "    </tr>\n",
              "    <tr>\n",
              "      <th>1</th>\n",
              "      <td>12</td>\n",
              "      <td>1.070000e+18</td>\n",
              "      <td>927065408</td>\n",
              "      <td>Wed Nov 21 13:41:45 +0000 2018</td>\n",
              "      <td>\"RT @SaliyaT_R: @fernandoharin ලැජ්ජයි ස⁣හෝදරයා මේ යන විදිහ දැක්කාම. ඔබලාගේ මේ කුලල්කෑම නිසා වාසි ගන්නේ තම්බි වහබ්වාදීන් සහ දෙමළ බෙදුම්වාදීන්\"</td>\n",
              "      <td>Racist</td>\n",
              "    </tr>\n",
              "    <tr>\n",
              "      <th>2</th>\n",
              "      <td>14</td>\n",
              "      <td>1.060000e+18</td>\n",
              "      <td>3089536357</td>\n",
              "      <td>Tue Nov 20 08:54:00 +0000 2018</td>\n",
              "      <td>\"@She_is_Nu @nthathsaranii ඇයි මං තම්බි වගේද පෙන්නෙ😏 මං බ්‍රහස්පතින්දා ගෙදර එන්නෙ..එතකොට සිකුරාදට හොද අඩව්වක් අල්ලන්න තිබ්බා ආවනම්😅\"</td>\n",
              "      <td>Neutral</td>\n",
              "    </tr>\n",
              "    <tr>\n",
              "      <th>3</th>\n",
              "      <td>15</td>\n",
              "      <td>1.060000e+18</td>\n",
              "      <td>1.06E+18</td>\n",
              "      <td>Sat Nov 17 19:11:08 +0000 2018</td>\n",
              "      <td>\"@Sagara_9 ඉටිම් බං උතුර ඉල්ලනසෙට් එකයි නැගෙනහිරපඉල්ලන තම්බි සෙට් එකයි අයිං කොරපා බැලුවොත් බං රනිල් පරාදයි නෙහ්\"</td>\n",
              "      <td>Racist</td>\n",
              "    </tr>\n",
              "    <tr>\n",
              "      <th>4</th>\n",
              "      <td>16</td>\n",
              "      <td>1.060000e+18</td>\n",
              "      <td>2876666923</td>\n",
              "      <td>Sat Nov 17 17:39:06 +0000 2018</td>\n",
              "      <td>\"RT @SaliyaT_R: පේනවානේ තම්බි කවදත් ඉන්නේ උන්ට වාසි පැත්තේ. එහෙම ඉදගෙන උන්ගේ ශරියාව සහ උන්ගේ බෝවීම ස්ථාවර කරගන්නවා. උන්ගේ ටාගට් එක රටේ බහුතර…\"</td>\n",
              "      <td>Racist</td>\n",
              "    </tr>\n",
              "    <tr>\n",
              "      <th>...</th>\n",
              "      <td>...</td>\n",
              "      <td>...</td>\n",
              "      <td>...</td>\n",
              "      <td>...</td>\n",
              "      <td>...</td>\n",
              "      <td>...</td>\n",
              "    </tr>\n",
              "    <tr>\n",
              "      <th>1693</th>\n",
              "      <td>60</td>\n",
              "      <td>1.402119e+18</td>\n",
              "      <td>යහපාලනය යුගයේ අපේ රටේ උපන් අපේම දෙමළ මුස්ලිම් සංහිඳියාව වෙනුවෙන් වැඩියෙන් විරුද්ධව කතා කරපු පක්ෂය මොකක්ද? https://t.co/b94inv5E5c</td>\n",
              "      <td>2021-06-08 04:23:53</td>\n",
              "      <td>NaN</td>\n",
              "      <td>NaN</td>\n",
              "    </tr>\n",
              "    <tr>\n",
              "      <th>1694</th>\n",
              "      <td>61</td>\n",
              "      <td>1.402091e+18</td>\n",
              "      <td>මුස්ලිම් වරයෙකු වන්නේ කෙ‍සේද ? - සිංහල https://t.co/rMo7D7SMgD</td>\n",
              "      <td>2021-06-08 02:32:43</td>\n",
              "      <td>NaN</td>\n",
              "      <td>NaN</td>\n",
              "    </tr>\n",
              "    <tr>\n",
              "      <th>1695</th>\n",
              "      <td>62</td>\n",
              "      <td>1.401962e+18</td>\n",
              "      <td>@ChamuSOnline සහ @hirunews දැන් ජනප්‍රිය වෙගෙන එන අතරේ, ලාංකික මුස්ලිම් ජනතාව ප්‍රවේසම් විය යුතුය.  මොකද, දැන් rating වැඩි කර ගන්න,  @chaturaalwis සහ @adaderana ජරා වැඩ කරන්න උත්සාහ ගනී මුස්ලිම්වරුන් දඩමීමා කරගෙන ජාතිවාදය අවුස්සලා.ඒක උන්ට පුරුදු බිස්නස් එකනේ.</td>\n",
              "      <td>2021-06-07 18:00:48</td>\n",
              "      <td>NaN</td>\n",
              "      <td>NaN</td>\n",
              "    </tr>\n",
              "    <tr>\n",
              "      <th>1696</th>\n",
              "      <td>63</td>\n",
              "      <td>1.401954e+18</td>\n",
              "      <td>@HapugodaP @GeranylGeranyl_ මහමෙව්නා අසපු මුස්ලිම් ආගමේත් තියෙනවද ?</td>\n",
              "      <td>2021-06-07 17:27:14</td>\n",
              "      <td>NaN</td>\n",
              "      <td>NaN</td>\n",
              "    </tr>\n",
              "    <tr>\n",
              "      <th>1697</th>\n",
              "      <td>64</td>\n",
              "      <td>1.401928e+18</td>\n",
              "      <td>@mr_thilina ඇත්ත කියපන් උඹ මුස්ලිම් නේද ? 😁</td>\n",
              "      <td>2021-06-07 15:45:40</td>\n",
              "      <td>NaN</td>\n",
              "      <td>NaN</td>\n",
              "    </tr>\n",
              "  </tbody>\n",
              "</table>\n",
              "<p>1698 rows × 6 columns</p>\n",
              "</div>"
            ],
            "text/plain": [
              "      instance_id  ...    class\n",
              "0               5  ...  Neutral\n",
              "1              12  ...   Racist\n",
              "2              14  ...  Neutral\n",
              "3              15  ...   Racist\n",
              "4              16  ...   Racist\n",
              "...           ...  ...      ...\n",
              "1693           60  ...      NaN\n",
              "1694           61  ...      NaN\n",
              "1695           62  ...      NaN\n",
              "1696           63  ...      NaN\n",
              "1697           64  ...      NaN\n",
              "\n",
              "[1698 rows x 6 columns]"
            ]
          },
          "metadata": {
            "tags": []
          },
          "execution_count": 156
        }
      ]
    },
    {
      "cell_type": "code",
      "metadata": {
        "colab": {
          "base_uri": "https://localhost:8080/"
        },
        "id": "rUo92KygtdBM",
        "outputId": "b412b535-2685-4a83-d9ed-a8e1bd3df1ed"
      },
      "source": [
        "# Collect tweets by User\n",
        "status = api.user_timeline(\"LankadeepaNews\")\n",
        "\n",
        "L  = []\n",
        "for s in status:\n",
        "    tweets = s.text\n",
        "    L.append(tweets)\n",
        "    df = pd.DataFrame(L, columns=['tweets'])\n",
        "\n",
        "pd.set_option('display.max_colwidth', None)    \n",
        "print (df)\n"
      ],
      "execution_count": null,
      "outputs": [
        {
          "output_type": "stream",
          "text": [
            "                                                                                                                                             tweets\n",
            "0      ඔන්ලයින් ක්‍රමය යටතේ මත්පැන් ලබා දෙන්නේ නම් ඒ සඳහා මුදල් අමාත්‍යංශයේ  අනුමැතිය මත සිදු කරන බවත් මේතාක් ඒ සඳහා අනුමැ… https://t.co/iaydimDg6q\n",
            "1                                                                                           ලංකාදීප අද දින පුවත් විමසුම:\\n\\nhttps://t.co/lZKV611JsW\n",
            "2   ඇසුරුම් යන්ත්‍රය පරණ යකඩ කඩයට වික්ක ප්‍රා.මන්ත්‍රිවරුන් අත්අඩංගුවට\\n#SLnews #SriLanka \\n\\nhttps://t.co/qsnjFSQx0Wඇසුරු… https://t.co/MHfYhRQOKt\n",
            "3                  වව්නියාව නගරා සභා සභාපති අත්අංඩංගුවට\\n#SLnews #SriLanka \\n\\nhttps://t.co/qsnjFSQx0Wවව්නියාව-නගරා-සභා-සභාපති-අත්අංඩංගුවට/1-592602\n",
            "4        මහනුවර තැපැල් සේවකයෝ බෙහෙත් බෙදීමෙන් ඉවතට\\n#SLnews #SriLanka \\n\\nhttps://t.co/qsnjFSQx0Wමහනුවර-තැපැල්-සේවකයෝ-බෙහෙත්-බෙදීමෙන්-ඉවතට/1-592603\n",
            "5                                                                ත්‍රිකුණාමලයදී ධීවර දැලකට හසු වූ තල්මසා\\n#SLnews #SriLanka https://t.co/RqsDObXh1Z\n",
            "6         \"මට හැගෙන විදියට ජනාධිපති තුමන්ගේ ක්‍රියාපිළිවෙල ධාර්මිෂ්ඨ නොවන නිසා තමයි රටට විපත් ඇතිවන්නේ\" - දිලිප් වෙදආරච්චි… https://t.co/m32BuKal0G\n",
            "7                                 ඇස්ට්‍රාසෙනිකා දෙවනි මාත්‍රාව ලෙස ෆයිසර් ලබාදෙන්නේද යන තීරණය නුදුරේදීම\\n#SLnews #SriLanka https://t.co/XNpN3Tolec\n",
            "8                                 ඇස්ට්‍රාසෙනිකා දෙවනි මාත්‍රාව ලෙස ෆයිසර් ලබාදෙන්නේද යන තීරණය නුදුරේදීම\\n#SLnews #SriLanka https://t.co/dq2GnKzbwg\n",
            "9                        වැඩිදුර විස්තර සදහා ලංකාදීප Online වෙත පිවිසෙන්න: https://t.co/sPzFV60XQw\\n\\n#Lankadeepa #SriLanka https://t.co/fzFbPSmK80\n",
            "10                       වැඩිදුර විස්තර සදහා ලංකාදීප Online වෙත පිවිසෙන්න: https://t.co/sPzFV60XQw\\n\\n#Lankadeepa #SriLanka https://t.co/yGK3aV2V1z\n",
            "11                       වැඩිදුර විස්තර සදහා ලංකාදීප Online වෙත පිවිසෙන්න: https://t.co/sPzFV60XQw\\n\\n#Lankadeepa #SriLanka https://t.co/zD8xLeiyJI\n",
            "12                       වැඩිදුර විස්තර සදහා ලංකාදීප Online වෙත පිවිසෙන්න: https://t.co/sPzFV60XQw\\n\\n#Lankadeepa #SriLanka https://t.co/KL8B7Lu8Bu\n",
            "13                       වැඩිදුර විස්තර සදහා ලංකාදීප Online වෙත පිවිසෙන්න: https://t.co/sPzFV60XQw\\n\\n#Lankadeepa #SriLanka https://t.co/9kliNhxEj1\n",
            "14   ‘මන්ත්‍රීවරුන්ට වාහන ගෙන්වන්න අපි අනුමැතිය දුන්නේ නැහැ‘\\n#SLnews #SriLanka \\n\\nhttps://t.co/UQqQqaEkdU‘මන්ත්%E2%80%8D… https://t.co/GIF6NpUGig\n",
            "15   අලි, මිනිස් ගැටුමෙන් මිනිස් ජීවිත 55ක් අහිමිවේ\\n#SLnews #SriLanka \\n\\nhttps://t.co/UQqQqaEkdUඅලි--මිනිස්-ගැටුමෙන්--මි… https://t.co/xzWKX9Mrqf\n",
            "16               මාර්තුවේ සිට පී.සී.ආර් ලක්ෂ 38 කරලා\\n#SLnews #SriLanka \\n\\nhttps://t.co/UQqQqaEkdUමාර්තුවේ--සිට--පී-සී-ආර්-ලක්ෂ-38-කරලා/101-592584\n",
            "17  ‘‘වැලිගමදී ඇල්ලූ කුඩු කිලෝ 220 හරක් කටාගේ‘‘\\n#SLnews #SriLanka \\n\\nhttps://t.co/UQqQqaEkdU‘‘වැලිගමදී-ඇල්ලූ-කුඩු-කිලෝ-2… https://t.co/PeODyGs8gp\n",
            "18                 තැබෑරුම් වැසීමෙන් පාඩුව කෝටි 1500ක්\\n#SLnews #SriLanka \\n\\nhttps://t.co/UQqQqaEkdUතැබෑරුම්-වැසීමෙන්-පාඩුව-කෝටි-1500ක්/101-592582\n",
            "19                                                                                 මාළු කන්න බයවෙන්න එපා\\n#SLnews #SriLanka https://t.co/exugq2MxSz\n"
          ],
          "name": "stdout"
        }
      ]
    },
    {
      "cell_type": "markdown",
      "metadata": {
        "id": "1boNNfFZ1WMA"
      },
      "source": [
        "Tweet extraction using keywords"
      ]
    },
    {
      "cell_type": "code",
      "metadata": {
        "id": "PBkExfII2b4_"
      },
      "source": [
        "import tweepy\n",
        "import pandas as pd\n",
        "import csv\n",
        "\n",
        "consumer_key= 'eCcOHT9FzWkINeH78O2tN5Mr7'\n",
        "consumer_secret= 'qlsSKiJtgTbLwC5YMEHzGvN4P2Lvygxm7EgsTSdVwTJBTLLRpL'\n",
        "access_token= '715007031556448256-V9UNiZR80oypXR7D1G8ofAQObYDkOUj'\n",
        "access_token_secret= '2hekp24EvWAl6khZCaxyTfVtbz2XVG4dcFO4DP8jp96Je'\n",
        "tweetsIds = []  # the list containing the tweet ids\n",
        "tweets = []  # the list containing the tweets\n",
        "\n",
        "# load twitter id coloumn\n",
        "csvfile = open('final-data-set.csv', encoding=\"utf-8\")\n",
        "\n",
        "# add twitter ids to a list\n",
        "readCSV = csv.reader(csvfile, delimiter=',')\n",
        "for row in readCSV:\n",
        "    #chech whether it's an empty row\n",
        "    if (row and row[1] != ''):\n",
        "        tweetsIds.append(row[1])\n",
        "\n",
        "        #print(tweetsIds)\n",
        "\n",
        "#Search new tweets through twitter API\n",
        "auth = tweepy.OAuthHandler(consumer_key, consumer_secret)\n",
        "auth.set_access_token(access_token, access_token_secret)\n",
        "api = tweepy.API(auth)\n",
        "\n",
        "# create a dataframe  to append tweets information\n",
        "tweets_df = pd.DataFrame(columns=['Id', 'Text', 'Date&Time'])\n",
        "\n",
        "for tweet in tweepy.Cursor(api.search,q='මුස්ලිම්',lang=\"si\", tweet_mode='extended').items():\n",
        "  \n",
        "    #check whether ID isn't an existing one\n",
        "    if (tweet.id_str not in tweetsIds):\n",
        "        # create a dataframe from the existing information\n",
        "        df = pd.DataFrame([[ tweet.id_str, tweet.full_text, tweet.created_at]],columns=['Id', 'Text', 'Date&Time'])\n",
        "\n",
        "        # append it to the tweets_df\n",
        "        tweets_df =  tweets_df.append(df , ignore_index=True)\n",
        "\n",
        "\n",
        "#print ( tweets_df)\n",
        "with open('final-data-set.csv', 'a', encoding=\"utf-8\") as f:\n",
        "    tweets_df.to_csv(f, header=f.tell() == 0)"
      ],
      "execution_count": null,
      "outputs": []
    },
    {
      "cell_type": "code",
      "metadata": {
        "colab": {
          "base_uri": "https://localhost:8080/",
          "height": 585
        },
        "id": "bYY2uh96C_my",
        "outputId": "54a9f22b-bc11-4785-a5db-eb28def199fb"
      },
      "source": [
        "tweets_df"
      ],
      "execution_count": null,
      "outputs": [
        {
          "output_type": "execute_result",
          "data": {
            "text/html": [
              "<div>\n",
              "<style scoped>\n",
              "    .dataframe tbody tr th:only-of-type {\n",
              "        vertical-align: middle;\n",
              "    }\n",
              "\n",
              "    .dataframe tbody tr th {\n",
              "        vertical-align: top;\n",
              "    }\n",
              "\n",
              "    .dataframe thead th {\n",
              "        text-align: right;\n",
              "    }\n",
              "</style>\n",
              "<table border=\"1\" class=\"dataframe\">\n",
              "  <thead>\n",
              "    <tr style=\"text-align: right;\">\n",
              "      <th></th>\n",
              "      <th>Id</th>\n",
              "      <th>Text</th>\n",
              "      <th>Date&amp;Time</th>\n",
              "    </tr>\n",
              "  </thead>\n",
              "  <tbody>\n",
              "    <tr>\n",
              "      <th>0</th>\n",
              "      <td>1405415510234132483</td>\n",
              "      <td>RT @DarNayanajith: පාකිස්ථාන් - අැෆ්ගන් මුස්ලි...</td>\n",
              "      <td>2021-06-17 06:42:23</td>\n",
              "    </tr>\n",
              "    <tr>\n",
              "      <th>1</th>\n",
              "      <td>1405405069965631491</td>\n",
              "      <td>පාකිස්ථානයේ අධික අාගමික අන්ධභාවය නිසා පෝලියෝ ර...</td>\n",
              "      <td>2021-06-17 06:00:54</td>\n",
              "    </tr>\n",
              "    <tr>\n",
              "      <th>2</th>\n",
              "      <td>1405391742141038594</td>\n",
              "      <td>RT @DarNayanajith: පාකිස්ථාන් - අැෆ්ගන් මුස්ලි...</td>\n",
              "      <td>2021-06-17 05:07:56</td>\n",
              "    </tr>\n",
              "    <tr>\n",
              "      <th>3</th>\n",
              "      <td>1405373879892123649</td>\n",
              "      <td>RT @DarNayanajith: පාකිස්ථාන් - අැෆ්ගන් මුස්ලි...</td>\n",
              "      <td>2021-06-17 03:56:58</td>\n",
              "    </tr>\n",
              "    <tr>\n",
              "      <th>4</th>\n",
              "      <td>1405356758382481416</td>\n",
              "      <td>RT @Wazigar1: අපේ රටේ උන්  අනුන්ට බැන බැන ඉන්න...</td>\n",
              "      <td>2021-06-17 02:48:56</td>\n",
              "    </tr>\n",
              "    <tr>\n",
              "      <th>...</th>\n",
              "      <td>...</td>\n",
              "      <td>...</td>\n",
              "      <td>...</td>\n",
              "    </tr>\n",
              "    <tr>\n",
              "      <th>90</th>\n",
              "      <td>1402988530855337991</td>\n",
              "      <td>@SKathriarachc නංගී ටිකක් චෙක් කරලා බලන්න එයා ...</td>\n",
              "      <td>2021-06-10 13:58:26</td>\n",
              "    </tr>\n",
              "    <tr>\n",
              "      <th>91</th>\n",
              "      <td>1402861262233604096</td>\n",
              "      <td>මුස්ලිම් පල්ලිවල ශබ්ද විකාශන යන්ත‍්‍රවල හඩ අඩු...</td>\n",
              "      <td>2021-06-10 05:32:43</td>\n",
              "    </tr>\n",
              "    <tr>\n",
              "      <th>92</th>\n",
              "      <td>1402819369705500672</td>\n",
              "      <td>@BizColombo 71කැරැල්ල,77පසුව අන්තර් විශ්ව විද්...</td>\n",
              "      <td>2021-06-10 02:46:15</td>\n",
              "    </tr>\n",
              "    <tr>\n",
              "      <th>93</th>\n",
              "      <td>1402641803694821385</td>\n",
              "      <td>RT @dadbad770: ලංකාවේ බිරියානි කිව්වම මොකක්ද ම...</td>\n",
              "      <td>2021-06-09 15:00:40</td>\n",
              "    </tr>\n",
              "    <tr>\n",
              "      <th>94</th>\n",
              "      <td>1402633932559028227</td>\n",
              "      <td>ලංකාවේ බිරියානි කිව්වම මොකක්ද මතක්වෙන්නෙ? මුස්...</td>\n",
              "      <td>2021-06-09 14:29:23</td>\n",
              "    </tr>\n",
              "  </tbody>\n",
              "</table>\n",
              "<p>95 rows × 3 columns</p>\n",
              "</div>"
            ],
            "text/plain": [
              "                     Id  ...           Date&Time\n",
              "0   1405415510234132483  ... 2021-06-17 06:42:23\n",
              "1   1405405069965631491  ... 2021-06-17 06:00:54\n",
              "2   1405391742141038594  ... 2021-06-17 05:07:56\n",
              "3   1405373879892123649  ... 2021-06-17 03:56:58\n",
              "4   1405356758382481416  ... 2021-06-17 02:48:56\n",
              "..                  ...  ...                 ...\n",
              "90  1402988530855337991  ... 2021-06-10 13:58:26\n",
              "91  1402861262233604096  ... 2021-06-10 05:32:43\n",
              "92  1402819369705500672  ... 2021-06-10 02:46:15\n",
              "93  1402641803694821385  ... 2021-06-09 15:00:40\n",
              "94  1402633932559028227  ... 2021-06-09 14:29:23\n",
              "\n",
              "[95 rows x 3 columns]"
            ]
          },
          "metadata": {
            "tags": []
          },
          "execution_count": 7
        }
      ]
    }
  ]
}