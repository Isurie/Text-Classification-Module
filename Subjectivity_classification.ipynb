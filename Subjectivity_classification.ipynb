{
  "nbformat": 4,
  "nbformat_minor": 0,
  "metadata": {
    "colab": {
      "name": "Subjectivity_classification.ipynb",
      "provenance": [],
      "authorship_tag": "ABX9TyOupu79SOHFrIB3lm8waZbn"
    },
    "kernelspec": {
      "name": "python3",
      "display_name": "Python 3"
    },
    "language_info": {
      "name": "python"
    }
  },
  "cells": [
    {
      "cell_type": "code",
      "metadata": {
        "id": "l6QWlpHwLE-N"
      },
      "source": [
        "pip install sinling"
      ],
      "execution_count": null,
      "outputs": []
    },
    {
      "cell_type": "code",
      "metadata": {
        "id": "UKSi4ie-iu2E"
      },
      "source": [
        "from sklearn.cluster import KMeans\n",
        "import pandas as pd\n",
        "import numpy as np\n",
        "from sklearn.preprocessing import MinMaxScaler,StandardScaler\n",
        "from sklearn.model_selection import train_test_split\n",
        "from sklearn.neighbors import KNeighborsClassifier\n",
        "from sklearn.metrics import confusion_matrix,f1_score,accuracy_score\n",
        "from matplotlib import pyplot as plt\n",
        "import seaborn as sns\n",
        "\n",
        "from sklearn import model_selection, preprocessing, linear_model, naive_bayes, metrics, svm\n",
        "from sklearn.feature_extraction.text import TfidfVectorizer, CountVectorizer\n",
        "from sklearn import decomposition, ensemble\n",
        "\n",
        "import pandas, xgboost, numpy, textblob, string\n",
        "from keras.preprocessing import text, sequence\n",
        "from keras import layers, models, optimizers\n",
        "\n",
        "import nltk\n",
        "nltk.download('punkt')\n",
        "nltk.download('averaged_perceptron_tagger')"
      ],
      "execution_count": null,
      "outputs": []
    },
    {
      "cell_type": "code",
      "metadata": {
        "colab": {
          "resources": {
            "http://localhost:8080/nbextensions/google.colab/files.js": {
              "data": "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",
              "ok": true,
              "headers": [
                [
                  "content-type",
                  "application/javascript"
                ]
              ],
              "status": 200,
              "status_text": ""
            }
          },
          "base_uri": "https://localhost:8080/",
          "height": 73
        },
        "id": "H7tisqFlh0zZ",
        "outputId": "a0823a7e-0f0e-4933-ebe9-50d625c289b2"
      },
      "source": [
        "from google.colab import files\n",
        "uploaded = files.upload()"
      ],
      "execution_count": null,
      "outputs": [
        {
          "output_type": "display_data",
          "data": {
            "text/html": [
              "\n",
              "     <input type=\"file\" id=\"files-cb8fcd36-b13a-4962-bc58-660f8f845b36\" name=\"files[]\" multiple disabled\n",
              "        style=\"border:none\" />\n",
              "     <output id=\"result-cb8fcd36-b13a-4962-bc58-660f8f845b36\">\n",
              "      Upload widget is only available when the cell has been executed in the\n",
              "      current browser session. Please rerun this cell to enable.\n",
              "      </output>\n",
              "      <script src=\"/nbextensions/google.colab/files.js\"></script> "
            ],
            "text/plain": [
              "<IPython.core.display.HTML object>"
            ]
          },
          "metadata": {
            "tags": []
          }
        },
        {
          "output_type": "stream",
          "text": [
            "Saving sentiment_tagged.csv to sentiment_tagged.csv\n"
          ],
          "name": "stdout"
        }
      ]
    },
    {
      "cell_type": "code",
      "metadata": {
        "id": "gpDJsFCro8Gp"
      },
      "source": [
        "dataframe = pd.read_csv('SubjectivityTagged.csv', error_bad_lines=False)\n",
        "#dataframe.dropna(inplace = True)\n",
        "#dataframe\n",
        "\n",
        "def clean_data(dataframe):\n",
        "      dataframe['Text'] = dataframe['docid;comment;label']\n",
        "      #dataframe['Text'] = dataframe.Text.apply(lambda x: pd.Series(str(x).split(\";\")))\n",
        "      \n",
        "      dataframe[['docid','Text','label']] = dataframe.Text.apply(lambda x: pd.Series(str(x).split(\";\")))\n",
        "      return dataframe.head()\n",
        "\n",
        "clean_data(dataframe)\n",
        "#print(df['Text'].head(12));\n",
        "#dataframe.to_csv('Subjectivity_tagged.csv')\n",
        "dataframe\n",
        "\n",
        "dataframe.drop(['docid;comment;label'], axis = 1)\n",
        "#dataframe.to_csv('SubjectivityDataset (1).csv')"
      ],
      "execution_count": null,
      "outputs": []
    },
    {
      "cell_type": "code",
      "metadata": {
        "colab": {
          "base_uri": "https://localhost:8080/",
          "height": 417
        },
        "id": "2B0pCm2_aL7Z",
        "outputId": "cd6e41f1-c8c5-4b79-e876-2353dc4c7dbb"
      },
      "source": [
        "dataframe = pd.read_csv('SubjectivityTagged.csv', error_bad_lines=False)\n",
        "dataframe"
      ],
      "execution_count": null,
      "outputs": [
        {
          "output_type": "execute_result",
          "data": {
            "text/html": [
              "<div>\n",
              "<style scoped>\n",
              "    .dataframe tbody tr th:only-of-type {\n",
              "        vertical-align: middle;\n",
              "    }\n",
              "\n",
              "    .dataframe tbody tr th {\n",
              "        vertical-align: top;\n",
              "    }\n",
              "\n",
              "    .dataframe thead th {\n",
              "        text-align: right;\n",
              "    }\n",
              "</style>\n",
              "<table border=\"1\" class=\"dataframe\">\n",
              "  <thead>\n",
              "    <tr style=\"text-align: right;\">\n",
              "      <th></th>\n",
              "      <th>Unnamed: 0</th>\n",
              "      <th>Id</th>\n",
              "      <th>Text</th>\n",
              "      <th>Post_category</th>\n",
              "      <th>Text_cleaned</th>\n",
              "    </tr>\n",
              "  </thead>\n",
              "  <tbody>\n",
              "    <tr>\n",
              "      <th>0</th>\n",
              "      <td>0</td>\n",
              "      <td>0.0</td>\n",
              "      <td>\"ලොරි,ටැක්ටර්  පමන යොදාගනිමින් සෝමාවතී රක්ෂිතය...</td>\n",
              "      <td>News</td>\n",
              "      <td>ලොරිටැක්ටර්  පමන යොදාගනිමින් සෝමාවතී රක්ෂිතයත්...</td>\n",
              "    </tr>\n",
              "    <tr>\n",
              "      <th>1</th>\n",
              "      <td>1</td>\n",
              "      <td>1.0</td>\n",
              "      <td>\"ගිනි ගන්නා ඉන්ධන නෞකාවේ කාර්ය මණ්ඩලය මුදා ගැන...</td>\n",
              "      <td>News</td>\n",
              "      <td>ගිනි ගන්නා ඉන්ධන නෞකාවේ කාර්ය මන්ඩලය මුදා ගැනී...</td>\n",
              "    </tr>\n",
              "    <tr>\n",
              "      <th>2</th>\n",
              "      <td>2</td>\n",
              "      <td>2.0</td>\n",
              "      <td>\"තිලක් මාරපනගේ සොහොයුරා ආණ්ඩුක්‍රම ව්‍යවස්ථාව ...</td>\n",
              "      <td>News</td>\n",
              "      <td>තිලක් මාරපනගේ සොහොයුරා අන්ඩුක්‍රම ව්‍යවස්ථාව හ...</td>\n",
              "    </tr>\n",
              "    <tr>\n",
              "      <th>3</th>\n",
              "      <td>3</td>\n",
              "      <td>3.0</td>\n",
              "      <td>ඉන්දීය අගමැතිගේ ට්විටර් ගිණුමට සයිබර් ප්‍රහාරය...</td>\n",
              "      <td>News</td>\n",
              "      <td>ඉන්දීය අගමැතිගේ ට්විටර් ගිනුමට සයිබර් ප්‍රහාරය...</td>\n",
              "    </tr>\n",
              "    <tr>\n",
              "      <th>4</th>\n",
              "      <td>4</td>\n",
              "      <td>4.0</td>\n",
              "      <td>\"පුවතක්. මොරවැව කැළේ ගල්සියබලා කැඩූ  කට නඩු. අ...</td>\n",
              "      <td>News</td>\n",
              "      <td>පුවතක් මොරවැව කැලේ ගල්සියබලා කැඩූ  කට නඩු අවුර...</td>\n",
              "    </tr>\n",
              "    <tr>\n",
              "      <th>...</th>\n",
              "      <td>...</td>\n",
              "      <td>...</td>\n",
              "      <td>...</td>\n",
              "      <td>...</td>\n",
              "      <td>...</td>\n",
              "    </tr>\n",
              "    <tr>\n",
              "      <th>612</th>\n",
              "      <td>612</td>\n",
              "      <td>NaN</td>\n",
              "      <td>ලෝක අටවන පුදුමය මනරම් සීගිරිය දැවැන්ත පර්වතය ක...</td>\n",
              "      <td>Emotion</td>\n",
              "      <td>ලෝක අටවන පුදුමය මනරම් සීගිරිය දැවැන්ත පර්වතය ක...</td>\n",
              "    </tr>\n",
              "    <tr>\n",
              "      <th>613</th>\n",
              "      <td>613</td>\n",
              "      <td>NaN</td>\n",
              "      <td>ලෝක නවවන පුදුමය හිමාෂ නැවතත් පොඩිවෙයි …</td>\n",
              "      <td>Emotion</td>\n",
              "      <td>ලෝක නවවන පුදුමය හිමාෂ නැවතත් පොඩිවෙයි …</td>\n",
              "    </tr>\n",
              "    <tr>\n",
              "      <th>614</th>\n",
              "      <td>614</td>\n",
              "      <td>NaN</td>\n",
              "      <td>විවාහ දෙක කරගත් මියගිය ඉන්දිකගේ ජීවිත ජූලි මාස...</td>\n",
              "      <td>Emotion</td>\n",
              "      <td>විවාහ දෙක කරගත් මියගිය ඉන්දිකගේ ජීවිත ජූලි මාස...</td>\n",
              "    </tr>\n",
              "    <tr>\n",
              "      <th>615</th>\n",
              "      <td>615</td>\n",
              "      <td>NaN</td>\n",
              "      <td>විවාහ දෙක කරගත් මියගිය ඉන්දිකගේ ජීවිත ජූලි මාස...</td>\n",
              "      <td>Emotion</td>\n",
              "      <td>විවාහ දෙක කරගත් මියගිය ඉන්දිකගේ ජීවිත ජූලි මාස...</td>\n",
              "    </tr>\n",
              "    <tr>\n",
              "      <th>616</th>\n",
              "      <td>616</td>\n",
              "      <td>NaN</td>\n",
              "      <td>ස් නිළධාරිය බිලියනමහජන සියවසේ කුමන සමහර පවසනු ...</td>\n",
              "      <td>Emotion</td>\n",
              "      <td>ස් නිලධාරිය බිලියනමහජන සියවසේ කුමන සමහර පවසනු ...</td>\n",
              "    </tr>\n",
              "  </tbody>\n",
              "</table>\n",
              "<p>617 rows × 5 columns</p>\n",
              "</div>"
            ],
            "text/plain": [
              "     Unnamed: 0  ...                                       Text_cleaned\n",
              "0             0  ...  ලොරිටැක්ටර්  පමන යොදාගනිමින් සෝමාවතී රක්ෂිතයත්...\n",
              "1             1  ...  ගිනි ගන්නා ඉන්ධන නෞකාවේ කාර්ය මන්ඩලය මුදා ගැනී...\n",
              "2             2  ...  තිලක් මාරපනගේ සොහොයුරා අන්ඩුක්‍රම ව්‍යවස්ථාව හ...\n",
              "3             3  ...  ඉන්දීය අගමැතිගේ ට්විටර් ගිනුමට සයිබර් ප්‍රහාරය...\n",
              "4             4  ...  පුවතක් මොරවැව කැලේ ගල්සියබලා කැඩූ  කට නඩු අවුර...\n",
              "..          ...  ...                                                ...\n",
              "612         612  ...  ලෝක අටවන පුදුමය මනරම් සීගිරිය දැවැන්ත පර්වතය ක...\n",
              "613         613  ...            ලෝක නවවන පුදුමය හිමාෂ නැවතත් පොඩිවෙයි …\n",
              "614         614  ...  විවාහ දෙක කරගත් මියගිය ඉන්දිකගේ ජීවිත ජූලි මාස...\n",
              "615         615  ...  විවාහ දෙක කරගත් මියගිය ඉන්දිකගේ ජීවිත ජූලි මාස...\n",
              "616         616  ...  ස් නිලධාරිය බිලියනමහජන සියවසේ කුමන සමහර පවසනු ...\n",
              "\n",
              "[617 rows x 5 columns]"
            ]
          },
          "metadata": {
            "tags": []
          },
          "execution_count": 5
        }
      ]
    },
    {
      "cell_type": "code",
      "metadata": {
        "colab": {
          "base_uri": "https://localhost:8080/",
          "height": 296
        },
        "id": "z_8Tv65a1tnw",
        "outputId": "de12cee6-4f21-458c-c348-28eef8c01b15"
      },
      "source": [
        "%matplotlib inline\n",
        "dataframe['Post_category'].value_counts().plot(kind=\"bar\")\n",
        "\n",
        "def plot_history(history):\n",
        "    plt.title('Data-Set')\n",
        "    plt.plot(history.history['loss'], label='train')\n",
        "    plt.plot(history.history['val_loss'], label='test')\n",
        "    plt.legend()\n",
        "    plt.show()"
      ],
      "execution_count": null,
      "outputs": [
        {
          "output_type": "display_data",
          "data": {
            "image/png": "[encoded data removed]",
            "text/plain": [
              "<Figure size 432x288 with 1 Axes>"
            ]
          },
          "metadata": {
            "tags": [],
            "needs_background": "light"
          }
        }
      ]
    },
    {
      "cell_type": "code",
      "metadata": {
        "colab": {
          "base_uri": "https://localhost:8080/"
        },
        "id": "LPv7Q7fh2wIU",
        "outputId": "cb9d9253-491b-427c-ef4a-d7c28c5689e6"
      },
      "source": [
        "print(\"number of tweets belonging to positive and negative opinion\")\n",
        "dataframe.groupby('Post_category')['Text'].nunique()"
      ],
      "execution_count": null,
      "outputs": [
        {
          "output_type": "stream",
          "text": [
            "number of tweets belonging to positive and negative opinion\n"
          ],
          "name": "stdout"
        },
        {
          "output_type": "execute_result",
          "data": {
            "text/plain": [
              "Post_category\n",
              "Emotion    205\n",
              "News       200\n",
              "Opinion    202\n",
              "Name: Text, dtype: int64"
            ]
          },
          "metadata": {
            "tags": []
          },
          "execution_count": 6
        }
      ]
    },
    {
      "cell_type": "code",
      "metadata": {
        "colab": {
          "base_uri": "https://localhost:8080/",
          "height": 417
        },
        "id": "MoWdh8YevBZC",
        "outputId": "9813c09f-de5a-42ef-8ebb-74f15591fbdd"
      },
      "source": [
        "class_to_num = {\"Post_category\": {'Emotion': 2,\n",
        "                'Opinion': 1,\n",
        "                'News': 0\n",
        "                }}\n",
        "dataframe = dataframe.replace(class_to_num)\n",
        "dataframe"
      ],
      "execution_count": null,
      "outputs": [
        {
          "output_type": "execute_result",
          "data": {
            "text/html": [
              "<div>\n",
              "<style scoped>\n",
              "    .dataframe tbody tr th:only-of-type {\n",
              "        vertical-align: middle;\n",
              "    }\n",
              "\n",
              "    .dataframe tbody tr th {\n",
              "        vertical-align: top;\n",
              "    }\n",
              "\n",
              "    .dataframe thead th {\n",
              "        text-align: right;\n",
              "    }\n",
              "</style>\n",
              "<table border=\"1\" class=\"dataframe\">\n",
              "  <thead>\n",
              "    <tr style=\"text-align: right;\">\n",
              "      <th></th>\n",
              "      <th>Unnamed: 0</th>\n",
              "      <th>Id</th>\n",
              "      <th>Text</th>\n",
              "      <th>Post_category</th>\n",
              "      <th>Text_cleaned</th>\n",
              "    </tr>\n",
              "  </thead>\n",
              "  <tbody>\n",
              "    <tr>\n",
              "      <th>0</th>\n",
              "      <td>0</td>\n",
              "      <td>0.0</td>\n",
              "      <td>\"ලොරි,ටැක්ටර්  පමන යොදාගනිමින් සෝමාවතී රක්ෂිතය...</td>\n",
              "      <td>0</td>\n",
              "      <td>ලොරිටැක්ටර්  පමන යොදාගනිමින් සෝමාවතී රක්ෂිතයත්...</td>\n",
              "    </tr>\n",
              "    <tr>\n",
              "      <th>1</th>\n",
              "      <td>1</td>\n",
              "      <td>1.0</td>\n",
              "      <td>\"ගිනි ගන්නා ඉන්ධන නෞකාවේ කාර්ය මණ්ඩලය මුදා ගැන...</td>\n",
              "      <td>0</td>\n",
              "      <td>ගිනි ගන්නා ඉන්ධන නෞකාවේ කාර්ය මන්ඩලය මුදා ගැනී...</td>\n",
              "    </tr>\n",
              "    <tr>\n",
              "      <th>2</th>\n",
              "      <td>2</td>\n",
              "      <td>2.0</td>\n",
              "      <td>\"තිලක් මාරපනගේ සොහොයුරා ආණ්ඩුක්‍රම ව්‍යවස්ථාව ...</td>\n",
              "      <td>0</td>\n",
              "      <td>තිලක් මාරපනගේ සොහොයුරා අන්ඩුක්‍රම ව්‍යවස්ථාව හ...</td>\n",
              "    </tr>\n",
              "    <tr>\n",
              "      <th>3</th>\n",
              "      <td>3</td>\n",
              "      <td>3.0</td>\n",
              "      <td>ඉන්දීය අගමැතිගේ ට්විටර් ගිණුමට සයිබර් ප්‍රහාරය...</td>\n",
              "      <td>0</td>\n",
              "      <td>ඉන්දීය අගමැතිගේ ට්විටර් ගිනුමට සයිබර් ප්‍රහාරය...</td>\n",
              "    </tr>\n",
              "    <tr>\n",
              "      <th>4</th>\n",
              "      <td>4</td>\n",
              "      <td>4.0</td>\n",
              "      <td>\"පුවතක්. මොරවැව කැළේ ගල්සියබලා කැඩූ  කට නඩු. අ...</td>\n",
              "      <td>0</td>\n",
              "      <td>පුවතක් මොරවැව කැලේ ගල්සියබලා කැඩූ  කට නඩු අවුර...</td>\n",
              "    </tr>\n",
              "    <tr>\n",
              "      <th>...</th>\n",
              "      <td>...</td>\n",
              "      <td>...</td>\n",
              "      <td>...</td>\n",
              "      <td>...</td>\n",
              "      <td>...</td>\n",
              "    </tr>\n",
              "    <tr>\n",
              "      <th>612</th>\n",
              "      <td>612</td>\n",
              "      <td>NaN</td>\n",
              "      <td>ලෝක අටවන පුදුමය මනරම් සීගිරිය දැවැන්ත පර්වතය ක...</td>\n",
              "      <td>2</td>\n",
              "      <td>ලෝක අටවන පුදුමය මනරම් සීගිරිය දැවැන්ත පර්වතය ක...</td>\n",
              "    </tr>\n",
              "    <tr>\n",
              "      <th>613</th>\n",
              "      <td>613</td>\n",
              "      <td>NaN</td>\n",
              "      <td>ලෝක නවවන පුදුමය හිමාෂ නැවතත් පොඩිවෙයි …</td>\n",
              "      <td>2</td>\n",
              "      <td>ලෝක නවවන පුදුමය හිමාෂ නැවතත් පොඩිවෙයි …</td>\n",
              "    </tr>\n",
              "    <tr>\n",
              "      <th>614</th>\n",
              "      <td>614</td>\n",
              "      <td>NaN</td>\n",
              "      <td>විවාහ දෙක කරගත් මියගිය ඉන්දිකගේ ජීවිත ජූලි මාස...</td>\n",
              "      <td>2</td>\n",
              "      <td>විවාහ දෙක කරගත් මියගිය ඉන්දිකගේ ජීවිත ජූලි මාස...</td>\n",
              "    </tr>\n",
              "    <tr>\n",
              "      <th>615</th>\n",
              "      <td>615</td>\n",
              "      <td>NaN</td>\n",
              "      <td>විවාහ දෙක කරගත් මියගිය ඉන්දිකගේ ජීවිත ජූලි මාස...</td>\n",
              "      <td>2</td>\n",
              "      <td>විවාහ දෙක කරගත් මියගිය ඉන්දිකගේ ජීවිත ජූලි මාස...</td>\n",
              "    </tr>\n",
              "    <tr>\n",
              "      <th>616</th>\n",
              "      <td>616</td>\n",
              "      <td>NaN</td>\n",
              "      <td>ස් නිළධාරිය බිලියනමහජන සියවසේ කුමන සමහර පවසනු ...</td>\n",
              "      <td>2</td>\n",
              "      <td>ස් නිලධාරිය බිලියනමහජන සියවසේ කුමන සමහර පවසනු ...</td>\n",
              "    </tr>\n",
              "  </tbody>\n",
              "</table>\n",
              "<p>617 rows × 5 columns</p>\n",
              "</div>"
            ],
            "text/plain": [
              "     Unnamed: 0  ...                                       Text_cleaned\n",
              "0             0  ...  ලොරිටැක්ටර්  පමන යොදාගනිමින් සෝමාවතී රක්ෂිතයත්...\n",
              "1             1  ...  ගිනි ගන්නා ඉන්ධන නෞකාවේ කාර්ය මන්ඩලය මුදා ගැනී...\n",
              "2             2  ...  තිලක් මාරපනගේ සොහොයුරා අන්ඩුක්‍රම ව්‍යවස්ථාව හ...\n",
              "3             3  ...  ඉන්දීය අගමැතිගේ ට්විටර් ගිනුමට සයිබර් ප්‍රහාරය...\n",
              "4             4  ...  පුවතක් මොරවැව කැලේ ගල්සියබලා කැඩූ  කට නඩු අවුර...\n",
              "..          ...  ...                                                ...\n",
              "612         612  ...  ලෝක අටවන පුදුමය මනරම් සීගිරිය දැවැන්ත පර්වතය ක...\n",
              "613         613  ...            ලෝක නවවන පුදුමය හිමාෂ නැවතත් පොඩිවෙයි …\n",
              "614         614  ...  විවාහ දෙක කරගත් මියගිය ඉන්දිකගේ ජීවිත ජූලි මාස...\n",
              "615         615  ...  විවාහ දෙක කරගත් මියගිය ඉන්දිකගේ ජීවිත ජූලි මාස...\n",
              "616         616  ...  ස් නිලධාරිය බිලියනමහජන සියවසේ කුමන සමහර පවසනු ...\n",
              "\n",
              "[617 rows x 5 columns]"
            ]
          },
          "metadata": {
            "tags": []
          },
          "execution_count": 7
        }
      ]
    },
    {
      "cell_type": "code",
      "metadata": {
        "id": "PBV-8AmBzV1T"
      },
      "source": [
        "# split the dataset into training and validation datasets \n",
        "train_x, valid_x, train_y, valid_y = model_selection.train_test_split(dataframe['Text_cleaned'], dataframe['Post_category'])\n",
        "\n",
        "# label encode the target variable \n",
        "encoder = preprocessing.LabelEncoder()\n",
        "train_y = encoder.fit_transform(train_y)\n",
        "valid_y = encoder.fit_transform(valid_y)"
      ],
      "execution_count": null,
      "outputs": []
    },
    {
      "cell_type": "markdown",
      "metadata": {
        "id": "iSLsV6of0h5P"
      },
      "source": [
        "Count Vectors as features"
      ]
    },
    {
      "cell_type": "code",
      "metadata": {
        "id": "VFoeKAep0XTl"
      },
      "source": [
        "# create a count vectorizer object \n",
        "count_vect = CountVectorizer(analyzer='word', token_pattern=r'\\w{1,}')\n",
        "count_vect.fit(dataframe['Text'])\n",
        "\n",
        "# transform the training and validation data using count vectorizer object\n",
        "xtrain_count =  count_vect.transform(train_x)\n",
        "xvalid_count =  count_vect.transform(valid_x)"
      ],
      "execution_count": null,
      "outputs": []
    },
    {
      "cell_type": "markdown",
      "metadata": {
        "id": "SeTNREEAzlT6"
      },
      "source": [
        "TF-TDF as features"
      ]
    },
    {
      "cell_type": "code",
      "metadata": {
        "colab": {
          "base_uri": "https://localhost:8080/"
        },
        "id": "KnDKP8H00mnW",
        "outputId": "81317328-f618-4926-f08f-b98ad9a73779"
      },
      "source": [
        "# word level tf-idf\n",
        "tfidf_vect = TfidfVectorizer(analyzer='word', token_pattern=r'\\w{1,}', max_features=5000)\n",
        "tfidf_vect.fit(dataframe['Text'])\n",
        "xtrain_tfidf =  tfidf_vect.transform(train_x)\n",
        "xvalid_tfidf =  tfidf_vect.transform(valid_x)\n",
        "\n",
        "# ngram level tf-idf \n",
        "tfidf_vect_ngram = TfidfVectorizer(analyzer='word', token_pattern=r'\\w{1,}', ngram_range=(2,3), max_features=5000)\n",
        "tfidf_vect_ngram.fit(dataframe['Text'])\n",
        "xtrain_tfidf_ngram =  tfidf_vect_ngram.transform(train_x)\n",
        "xvalid_tfidf_ngram =  tfidf_vect_ngram.transform(valid_x)\n",
        "\n",
        "# characters level tf-idf\n",
        "tfidf_vect_ngram_chars = TfidfVectorizer(analyzer='char', token_pattern=r'\\w{1,}', ngram_range=(2,3), max_features=5000)\n",
        "tfidf_vect_ngram_chars.fit(dataframe['Text'])\n",
        "xtrain_tfidf_ngram_chars =  tfidf_vect_ngram_chars.transform(train_x) \n",
        "xvalid_tfidf_ngram_chars =  tfidf_vect_ngram_chars.transform(valid_x) "
      ],
      "execution_count": null,
      "outputs": [
        {
          "output_type": "stream",
          "text": [
            "/usr/local/lib/python3.7/dist-packages/sklearn/feature_extraction/text.py:524: UserWarning: The parameter 'token_pattern' will not be used since 'analyzer' != 'word'\n",
            "  warnings.warn(\"The parameter 'token_pattern' will not be used\"\n"
          ],
          "name": "stderr"
        }
      ]
    },
    {
      "cell_type": "markdown",
      "metadata": {
        "id": "Dfj_SysEMDEk"
      },
      "source": [
        "Text / NLP based features"
      ]
    },
    {
      "cell_type": "code",
      "metadata": {
        "id": "AEOCr4fTKo_K"
      },
      "source": [
        "# tokenization\n",
        "from sinling import SinhalaTokenizer as tokenizer,SinhalaStemmer as stemmer, POSTagger,preprocess, word_joiner,word_splitter\n",
        "from collections import Counter\n",
        "from itertools import chain\n",
        "from nltk import word_tokenize, pos_tag, pos_tag_sents\n",
        "df = pandas.read_csv('SubjectivityTagged (1).csv')\n",
        "df['Text'] = df['Text'].apply(word_tokenize).tolist()\n",
        "\n",
        "# POS tagging\n",
        "tagger = POSTagger()\n",
        "df['Text'] = tagger.predict(df['Text'].tolist())\n",
        "df['Text'] = pd.Series(df['Text'].tolist())\n",
        "\n",
        "tokens, tags = zip(*chain(*df['Text'].tolist()))\n",
        "possible_tags = sorted(set(tags))\n",
        "possible_tags_counter = Counter({p:0 for p in possible_tags})\n",
        "\n",
        "df['Text'].apply(lambda x: Counter(list(zip(*x))[1]))\n",
        "df['pos_counts'] = df['Text'].apply(lambda x: Counter(list(zip(*x))[1]))\n",
        "df['pos_counts']\n",
        "\n",
        "def add_pos_with_zero_counts(counter, keys_to_add):\n",
        "        for k in keys_to_add:\n",
        "            counter[k] = counter.get(k, 0)\n",
        "        return counter\n",
        "\n",
        "df['pos_counts'].apply(lambda x: add_pos_with_zero_counts(x, possible_tags))\n",
        "df['pos_counts_with_zero'] = df['pos_counts'].apply(lambda x: add_pos_with_zero_counts(x, possible_tags))\n",
        "\n",
        "df['pos_counts_with_zero'].apply(lambda x: [count for tag, count in sorted(x.most_common())])\n",
        "\n",
        "df['sent_vector'] = df['pos_counts_with_zero'].apply(lambda x: [count for tag, count in sorted(x.most_common())])\n",
        "\n"
      ],
      "execution_count": null,
      "outputs": []
    },
    {
      "cell_type": "code",
      "metadata": {
        "colab": {
          "base_uri": "https://localhost:8080/",
          "height": 1000
        },
        "id": "dGOlxO1ULWUB",
        "outputId": "ba1e0721-7c22-4f45-d2c4-c2427f29515d"
      },
      "source": [
        "df"
      ],
      "execution_count": null,
      "outputs": [
        {
          "output_type": "execute_result",
          "data": {
            "text/html": [
              "<div>\n",
              "<style scoped>\n",
              "    .dataframe tbody tr th:only-of-type {\n",
              "        vertical-align: middle;\n",
              "    }\n",
              "\n",
              "    .dataframe tbody tr th {\n",
              "        vertical-align: top;\n",
              "    }\n",
              "\n",
              "    .dataframe thead th {\n",
              "        text-align: right;\n",
              "    }\n",
              "</style>\n",
              "<table border=\"1\" class=\"dataframe\">\n",
              "  <thead>\n",
              "    <tr style=\"text-align: right;\">\n",
              "      <th></th>\n",
              "      <th>Unnamed: 0</th>\n",
              "      <th>Id</th>\n",
              "      <th>Text</th>\n",
              "      <th>Post_category</th>\n",
              "      <th>Text_cleaned</th>\n",
              "      <th>pos_counts</th>\n",
              "      <th>pos_counts_with_zero</th>\n",
              "      <th>sent_vector</th>\n",
              "    </tr>\n",
              "  </thead>\n",
              "  <tbody>\n",
              "    <tr>\n",
              "      <th>0</th>\n",
              "      <td>0</td>\n",
              "      <td>0.0</td>\n",
              "      <td>[(ලොරිටැක්ටර්, NNP), (පමන, VP), (යොදාගනිමින්, VNN), (සෝමාවතී, JJ), (රක්ෂිතයත්, NNC), (ඩෝසර්, JCV), (කරමින්, VNF), (පවතී, VNF)]</td>\n",
              "      <td>News</td>\n",
              "      <td>ලොරිටැක්ටර්  පමන යොදාගනිමින් සෝමාවතී රක්ෂිතයත් ඩෝසර් කරමින් පවතී</td>\n",
              "      <td>{'NNP': 1, 'VP': 1, 'VNN': 1, 'JJ': 1, 'NNC': 1, 'JCV': 1, 'VNF': 2, 'ABB': 0, 'AUX': 0, 'CC': 0, 'CM': 0, 'DET': 0, 'FS': 0, 'NCV': 0, 'NDT': 0, 'NIP': 0, 'NNJ': 0, 'NUM': 0, 'NVB': 0, 'POST': 0, 'PRP': 0, 'PUNC': 0, 'QBE': 0, 'QUE': 0, 'RB': 0, 'RP': 0, 'RRPCV': 0, 'UNK': 0, 'VFM': 0}</td>\n",
              "      <td>{'NNP': 1, 'VP': 1, 'VNN': 1, 'JJ': 1, 'NNC': 1, 'JCV': 1, 'VNF': 2, 'ABB': 0, 'AUX': 0, 'CC': 0, 'CM': 0, 'DET': 0, 'FS': 0, 'NCV': 0, 'NDT': 0, 'NIP': 0, 'NNJ': 0, 'NUM': 0, 'NVB': 0, 'POST': 0, 'PRP': 0, 'PUNC': 0, 'QBE': 0, 'QUE': 0, 'RB': 0, 'RP': 0, 'RRPCV': 0, 'UNK': 0, 'VFM': 0}</td>\n",
              "      <td>[0, 0, 0, 0, 0, 0, 1, 1, 0, 0, 0, 1, 0, 1, 0, 0, 0, 0, 0, 0, 0, 0, 0, 0, 0, 0, 2, 1, 1]</td>\n",
              "    </tr>\n",
              "    <tr>\n",
              "      <th>1</th>\n",
              "      <td>1</td>\n",
              "      <td>1.0</td>\n",
              "      <td>[(ගිනි, NNC), (ගන්නා, VP), (ඉන්ධන, JJ), (නෞකාවේ, NNC), (කාර්ය, NNJ), (මන්ඩලය, NNC), (මුදා, VNF), (ගැනීමට, VNN), (නාවික, JJ), (සහ, CC), (ගුවන්, JJ), (හමුදා, NNJ), (මෙහෙයුමක්ගිනි, NNC), (ගන්නා, VP), (ඉන්ධන, JJ), (නෞකාවේ, NNC), (කාර්ය, NNJ), (මන්ඩලය, NNC), (මුදා, VNF), (ගැනීමට, VNN), (නාවික, JJ), (සහ, CC), (ගුවන්, JJ), (හමුදා, NNJ), (මෙහෙයුමක්, NNC)]</td>\n",
              "      <td>News</td>\n",
              "      <td>ගිනි ගන්නා ඉන්ධන නෞකාවේ කාර්ය මන්ඩලය මුදා ගැනීමට නාවික සහ ගුවන් හමුදා මෙහෙයුමක්ගිනි ගන්නා ඉන්ධන නෞකාවේ කාර්ය මන්ඩලය මුදා ගැනීමට නාවික සහ ගුවන් හමුදා මෙහෙයුමක්</td>\n",
              "      <td>{'NNC': 7, 'VP': 2, 'JJ': 6, 'NNJ': 4, 'VNF': 2, 'VNN': 2, 'CC': 2, 'ABB': 0, 'AUX': 0, 'CM': 0, 'DET': 0, 'FS': 0, 'JCV': 0, 'NCV': 0, 'NDT': 0, 'NIP': 0, 'NNP': 0, 'NUM': 0, 'NVB': 0, 'POST': 0, 'PRP': 0, 'PUNC': 0, 'QBE': 0, 'QUE': 0, 'RB': 0, 'RP': 0, 'RRPCV': 0, 'UNK': 0, 'VFM': 0}</td>\n",
              "      <td>{'NNC': 7, 'VP': 2, 'JJ': 6, 'NNJ': 4, 'VNF': 2, 'VNN': 2, 'CC': 2, 'ABB': 0, 'AUX': 0, 'CM': 0, 'DET': 0, 'FS': 0, 'JCV': 0, 'NCV': 0, 'NDT': 0, 'NIP': 0, 'NNP': 0, 'NUM': 0, 'NVB': 0, 'POST': 0, 'PRP': 0, 'PUNC': 0, 'QBE': 0, 'QUE': 0, 'RB': 0, 'RP': 0, 'RRPCV': 0, 'UNK': 0, 'VFM': 0}</td>\n",
              "      <td>[0, 0, 2, 0, 0, 0, 0, 6, 0, 0, 0, 7, 4, 0, 0, 0, 0, 0, 0, 0, 0, 0, 0, 0, 0, 0, 2, 2, 2]</td>\n",
              "    </tr>\n",
              "    <tr>\n",
              "      <th>2</th>\n",
              "      <td>2</td>\n",
              "      <td>2.0</td>\n",
              "      <td>[(තිලක්, NNP), (මාරපනගේ, NNP), (සොහොයුරා, NNC), (අන්ඩුක්‍රම, NNC), (ව්‍යවස්ථාව, NNC), (හදන, VP), (කමිටුවේතිලක්, NNP), (මාරපනගේ, NNP), (සොහොයුරා, NNC), (අන්ඩුක්‍රම, NNC), (ව්‍යවස්ථාව, NNC), (හදන, VP), (කමිටුවේ, NNC)]</td>\n",
              "      <td>News</td>\n",
              "      <td>තිලක් මාරපනගේ සොහොයුරා අන්ඩුක්‍රම ව්‍යවස්ථාව හදන කමිටුවේතිලක් මාරපනගේ සොහොයුරා අන්ඩුක්‍රම ව්‍යවස්ථාව හදන කමිටුවේ</td>\n",
              "      <td>{'NNP': 4, 'NNC': 7, 'VP': 2, 'ABB': 0, 'AUX': 0, 'CC': 0, 'CM': 0, 'DET': 0, 'FS': 0, 'JCV': 0, 'JJ': 0, 'NCV': 0, 'NDT': 0, 'NIP': 0, 'NNJ': 0, 'NUM': 0, 'NVB': 0, 'POST': 0, 'PRP': 0, 'PUNC': 0, 'QBE': 0, 'QUE': 0, 'RB': 0, 'RP': 0, 'RRPCV': 0, 'UNK': 0, 'VFM': 0, 'VNF': 0, 'VNN': 0}</td>\n",
              "      <td>{'NNP': 4, 'NNC': 7, 'VP': 2, 'ABB': 0, 'AUX': 0, 'CC': 0, 'CM': 0, 'DET': 0, 'FS': 0, 'JCV': 0, 'JJ': 0, 'NCV': 0, 'NDT': 0, 'NIP': 0, 'NNJ': 0, 'NUM': 0, 'NVB': 0, 'POST': 0, 'PRP': 0, 'PUNC': 0, 'QBE': 0, 'QUE': 0, 'RB': 0, 'RP': 0, 'RRPCV': 0, 'UNK': 0, 'VFM': 0, 'VNF': 0, 'VNN': 0}</td>\n",
              "      <td>[0, 0, 0, 0, 0, 0, 0, 0, 0, 0, 0, 7, 0, 4, 0, 0, 0, 0, 0, 0, 0, 0, 0, 0, 0, 0, 0, 0, 2]</td>\n",
              "    </tr>\n",
              "    <tr>\n",
              "      <th>3</th>\n",
              "      <td>3</td>\n",
              "      <td>3.0</td>\n",
              "      <td>[(ඉන්දීය, NNP), (අගමැතිගේ, NNC), (ට්විටර්, NNP), (ගිනුමට, NNP), (සයිබර්, NNP), (ප්‍රහාරයක්ඉන්දීය, NNP), (අගමැතිගේ, NNP), (ට්විටර්, NNP), (ගිනුමට, NNP), (සයිබර්, NNP), (ප්‍රහාරයක්, NNC)]</td>\n",
              "      <td>News</td>\n",
              "      <td>ඉන්දීය අගමැතිගේ ට්විටර් ගිනුමට සයිබර් ප්‍රහාරයක්ඉන්දීය අගමැතිගේ ට්විටර් ගිනුමට සයිබර් ප්‍රහාරයක්</td>\n",
              "      <td>{'NNP': 9, 'NNC': 2, 'ABB': 0, 'AUX': 0, 'CC': 0, 'CM': 0, 'DET': 0, 'FS': 0, 'JCV': 0, 'JJ': 0, 'NCV': 0, 'NDT': 0, 'NIP': 0, 'NNJ': 0, 'NUM': 0, 'NVB': 0, 'POST': 0, 'PRP': 0, 'PUNC': 0, 'QBE': 0, 'QUE': 0, 'RB': 0, 'RP': 0, 'RRPCV': 0, 'UNK': 0, 'VFM': 0, 'VNF': 0, 'VNN': 0, 'VP': 0}</td>\n",
              "      <td>{'NNP': 9, 'NNC': 2, 'ABB': 0, 'AUX': 0, 'CC': 0, 'CM': 0, 'DET': 0, 'FS': 0, 'JCV': 0, 'JJ': 0, 'NCV': 0, 'NDT': 0, 'NIP': 0, 'NNJ': 0, 'NUM': 0, 'NVB': 0, 'POST': 0, 'PRP': 0, 'PUNC': 0, 'QBE': 0, 'QUE': 0, 'RB': 0, 'RP': 0, 'RRPCV': 0, 'UNK': 0, 'VFM': 0, 'VNF': 0, 'VNN': 0, 'VP': 0}</td>\n",
              "      <td>[0, 0, 0, 0, 0, 0, 0, 0, 0, 0, 0, 2, 0, 9, 0, 0, 0, 0, 0, 0, 0, 0, 0, 0, 0, 0, 0, 0, 0]</td>\n",
              "    </tr>\n",
              "    <tr>\n",
              "      <th>4</th>\n",
              "      <td>4</td>\n",
              "      <td>4.0</td>\n",
              "      <td>[(පුවතක්, NNC), (මොරවැව, NNC), (කැලේ, NNC), (ගල්සියබලා, VNF), (කැඩූ, VP), (කට, CM), (නඩු, NNJ), (අවුරුදු, NNC), (කටවත්, NUM), (හිරේ, NNC), (යවන්න, VNN), (ඔනසර්, NNP), (මුන්ව, NNC), (කැලේ, NNC), (වගේද, POST), (ගල්සියබලා😄😁😃😄, NNC)]</td>\n",
              "      <td>News</td>\n",
              "      <td>පුවතක් මොරවැව කැලේ ගල්සියබලා කැඩූ  කට නඩු අවුරුදු  කටවත්  හිරේ යවන්න ඔනසර් මුන්ව  කැලේ වගේද ගල්සියබලා😄😁😃😄</td>\n",
              "      <td>{'NNC': 8, 'VNF': 1, 'VP': 1, 'CM': 1, 'NNJ': 1, 'NUM': 1, 'VNN': 1, 'NNP': 1, 'POST': 1, 'ABB': 0, 'AUX': 0, 'CC': 0, 'DET': 0, 'FS': 0, 'JCV': 0, 'JJ': 0, 'NCV': 0, 'NDT': 0, 'NIP': 0, 'NVB': 0, 'PRP': 0, 'PUNC': 0, 'QBE': 0, 'QUE': 0, 'RB': 0, 'RP': 0, 'RRPCV': 0, 'UNK': 0, 'VFM': 0}</td>\n",
              "      <td>{'NNC': 8, 'VNF': 1, 'VP': 1, 'CM': 1, 'NNJ': 1, 'NUM': 1, 'VNN': 1, 'NNP': 1, 'POST': 1, 'ABB': 0, 'AUX': 0, 'CC': 0, 'DET': 0, 'FS': 0, 'JCV': 0, 'JJ': 0, 'NCV': 0, 'NDT': 0, 'NIP': 0, 'NVB': 0, 'PRP': 0, 'PUNC': 0, 'QBE': 0, 'QUE': 0, 'RB': 0, 'RP': 0, 'RRPCV': 0, 'UNK': 0, 'VFM': 0}</td>\n",
              "      <td>[0, 0, 0, 1, 0, 0, 0, 0, 0, 0, 0, 8, 1, 1, 1, 0, 1, 0, 0, 0, 0, 0, 0, 0, 0, 0, 1, 1, 1]</td>\n",
              "    </tr>\n",
              "    <tr>\n",
              "      <th>...</th>\n",
              "      <td>...</td>\n",
              "      <td>...</td>\n",
              "      <td>...</td>\n",
              "      <td>...</td>\n",
              "      <td>...</td>\n",
              "      <td>...</td>\n",
              "      <td>...</td>\n",
              "      <td>...</td>\n",
              "    </tr>\n",
              "    <tr>\n",
              "      <th>612</th>\n",
              "      <td>612</td>\n",
              "      <td>NaN</td>\n",
              "      <td>[(ලෝක, NNJ), (අටවන, NNJ), (පුදුමය, NNC), (මනරම්, NNJ), (සීගිරිය, NNC), (දැවැන්ත, JJ), (පර්වතය, NNC), (කේන්ද්‍ර, NCV), (කොටගනිමින්, VNF), (නිර්මානය, NNC), (වූ, VP), (සීගිරිය, NNC), (කතා, NNC), (ප්‍රවෘ, NNC)]</td>\n",
              "      <td>Emotion</td>\n",
              "      <td>ලෝක අටවන පුදුමය මනරම් සීගිරිය දැවැන්ත පර්වතය කේන්ද්‍ර කොටගනිමින් නිර්මානය වූ සීගිරිය කතා ප්‍රවෘ</td>\n",
              "      <td>{'NNJ': 3, 'NNC': 7, 'JJ': 1, 'NCV': 1, 'VNF': 1, 'VP': 1, 'ABB': 0, 'AUX': 0, 'CC': 0, 'CM': 0, 'DET': 0, 'FS': 0, 'JCV': 0, 'NDT': 0, 'NIP': 0, 'NNP': 0, 'NUM': 0, 'NVB': 0, 'POST': 0, 'PRP': 0, 'PUNC': 0, 'QBE': 0, 'QUE': 0, 'RB': 0, 'RP': 0, 'RRPCV': 0, 'UNK': 0, 'VFM': 0, 'VNN': 0}</td>\n",
              "      <td>{'NNJ': 3, 'NNC': 7, 'JJ': 1, 'NCV': 1, 'VNF': 1, 'VP': 1, 'ABB': 0, 'AUX': 0, 'CC': 0, 'CM': 0, 'DET': 0, 'FS': 0, 'JCV': 0, 'NDT': 0, 'NIP': 0, 'NNP': 0, 'NUM': 0, 'NVB': 0, 'POST': 0, 'PRP': 0, 'PUNC': 0, 'QBE': 0, 'QUE': 0, 'RB': 0, 'RP': 0, 'RRPCV': 0, 'UNK': 0, 'VFM': 0, 'VNN': 0}</td>\n",
              "      <td>[0, 0, 0, 0, 0, 0, 0, 1, 1, 0, 0, 7, 3, 0, 0, 0, 0, 0, 0, 0, 0, 0, 0, 0, 0, 0, 1, 0, 1]</td>\n",
              "    </tr>\n",
              "    <tr>\n",
              "      <th>613</th>\n",
              "      <td>613</td>\n",
              "      <td>NaN</td>\n",
              "      <td>[(ලෝක, NNJ), (නවවන, NNJ), (පුදුමය, NNC), (හිමාෂ, NNC), (නැවතත්, RB), (පොඩිවෙයි, NNC), (…, FS)]</td>\n",
              "      <td>Emotion</td>\n",
              "      <td>ලෝක නවවන පුදුමය හිමාෂ නැවතත් පොඩිවෙයි …</td>\n",
              "      <td>{'NNJ': 2, 'NNC': 3, 'RB': 1, 'FS': 1, 'ABB': 0, 'AUX': 0, 'CC': 0, 'CM': 0, 'DET': 0, 'JCV': 0, 'JJ': 0, 'NCV': 0, 'NDT': 0, 'NIP': 0, 'NNP': 0, 'NUM': 0, 'NVB': 0, 'POST': 0, 'PRP': 0, 'PUNC': 0, 'QBE': 0, 'QUE': 0, 'RP': 0, 'RRPCV': 0, 'UNK': 0, 'VFM': 0, 'VNF': 0, 'VNN': 0, 'VP': 0}</td>\n",
              "      <td>{'NNJ': 2, 'NNC': 3, 'RB': 1, 'FS': 1, 'ABB': 0, 'AUX': 0, 'CC': 0, 'CM': 0, 'DET': 0, 'JCV': 0, 'JJ': 0, 'NCV': 0, 'NDT': 0, 'NIP': 0, 'NNP': 0, 'NUM': 0, 'NVB': 0, 'POST': 0, 'PRP': 0, 'PUNC': 0, 'QBE': 0, 'QUE': 0, 'RP': 0, 'RRPCV': 0, 'UNK': 0, 'VFM': 0, 'VNF': 0, 'VNN': 0, 'VP': 0}</td>\n",
              "      <td>[0, 0, 0, 0, 0, 1, 0, 0, 0, 0, 0, 3, 2, 0, 0, 0, 0, 0, 0, 0, 0, 1, 0, 0, 0, 0, 0, 0, 0]</td>\n",
              "    </tr>\n",
              "    <tr>\n",
              "      <th>614</th>\n",
              "      <td>614</td>\n",
              "      <td>NaN</td>\n",
              "      <td>[(විවාහ, NNJ), (දෙක, NUM), (කරගත්, VNF), (මියගිය, VP), (ඉන්දිකගේ, NNP), (ජීවිත, NNP), (ජූලි, NNP), (මාසවලදී, NNC), (සිදුවුන, VP), (පුදුමය, NNC)]</td>\n",
              "      <td>Emotion</td>\n",
              "      <td>විවාහ දෙක කරගත් මියගිය ඉන්දිකගේ ජීවිත ජූලි මාසවලදී සිදුවුන පුදුමය</td>\n",
              "      <td>{'NNJ': 1, 'NUM': 1, 'VNF': 1, 'VP': 2, 'NNP': 3, 'NNC': 2, 'ABB': 0, 'AUX': 0, 'CC': 0, 'CM': 0, 'DET': 0, 'FS': 0, 'JCV': 0, 'JJ': 0, 'NCV': 0, 'NDT': 0, 'NIP': 0, 'NVB': 0, 'POST': 0, 'PRP': 0, 'PUNC': 0, 'QBE': 0, 'QUE': 0, 'RB': 0, 'RP': 0, 'RRPCV': 0, 'UNK': 0, 'VFM': 0, 'VNN': 0}</td>\n",
              "      <td>{'NNJ': 1, 'NUM': 1, 'VNF': 1, 'VP': 2, 'NNP': 3, 'NNC': 2, 'ABB': 0, 'AUX': 0, 'CC': 0, 'CM': 0, 'DET': 0, 'FS': 0, 'JCV': 0, 'JJ': 0, 'NCV': 0, 'NDT': 0, 'NIP': 0, 'NVB': 0, 'POST': 0, 'PRP': 0, 'PUNC': 0, 'QBE': 0, 'QUE': 0, 'RB': 0, 'RP': 0, 'RRPCV': 0, 'UNK': 0, 'VFM': 0, 'VNN': 0}</td>\n",
              "      <td>[0, 0, 0, 0, 0, 0, 0, 0, 0, 0, 0, 2, 1, 3, 1, 0, 0, 0, 0, 0, 0, 0, 0, 0, 0, 0, 1, 0, 2]</td>\n",
              "    </tr>\n",
              "    <tr>\n",
              "      <th>615</th>\n",
              "      <td>615</td>\n",
              "      <td>NaN</td>\n",
              "      <td>[(විවාහ, NNJ), (දෙක, NUM), (කරගත්, VNF), (මියගිය, VP), (ඉන්දිකගේ, NNP), (ජීවිත, NNP), (ජූලි, NNP), (මාසවලදී, NNC), (සිදුවුන, VP), (පුදුමය, NNC)]</td>\n",
              "      <td>Emotion</td>\n",
              "      <td>විවාහ දෙක කරගත් මියගිය ඉන්දිකගේ ජීවිත ජූලි මාසවලදී සිදුවුන පුදුමය</td>\n",
              "      <td>{'NNJ': 1, 'NUM': 1, 'VNF': 1, 'VP': 2, 'NNP': 3, 'NNC': 2, 'ABB': 0, 'AUX': 0, 'CC': 0, 'CM': 0, 'DET': 0, 'FS': 0, 'JCV': 0, 'JJ': 0, 'NCV': 0, 'NDT': 0, 'NIP': 0, 'NVB': 0, 'POST': 0, 'PRP': 0, 'PUNC': 0, 'QBE': 0, 'QUE': 0, 'RB': 0, 'RP': 0, 'RRPCV': 0, 'UNK': 0, 'VFM': 0, 'VNN': 0}</td>\n",
              "      <td>{'NNJ': 1, 'NUM': 1, 'VNF': 1, 'VP': 2, 'NNP': 3, 'NNC': 2, 'ABB': 0, 'AUX': 0, 'CC': 0, 'CM': 0, 'DET': 0, 'FS': 0, 'JCV': 0, 'JJ': 0, 'NCV': 0, 'NDT': 0, 'NIP': 0, 'NVB': 0, 'POST': 0, 'PRP': 0, 'PUNC': 0, 'QBE': 0, 'QUE': 0, 'RB': 0, 'RP': 0, 'RRPCV': 0, 'UNK': 0, 'VFM': 0, 'VNN': 0}</td>\n",
              "      <td>[0, 0, 0, 0, 0, 0, 0, 0, 0, 0, 0, 2, 1, 3, 1, 0, 0, 0, 0, 0, 0, 0, 0, 0, 0, 0, 1, 0, 2]</td>\n",
              "    </tr>\n",
              "    <tr>\n",
              "      <th>616</th>\n",
              "      <td>616</td>\n",
              "      <td>NaN</td>\n",
              "      <td>[(ස්, ABB), (නිලධාරිය, NNC), (බිලියනමහජන, VP), (සියවසේ, NNC), (කුමන, QBE), (සමහර, NDT), (පවසනු, VP), (ඉලග, JJ), (වසරේ, NNC), (ට්රම්ප්ගේ, NNP), (පරිපාලන, JJ), (වෙනස්, JJ), (පුදුමය, NNC), (යුතු, AUX)]</td>\n",
              "      <td>Emotion</td>\n",
              "      <td>ස් නිලධාරිය බිලියනමහජන සියවසේ කුමන සමහර පවසනු ඉලග වසරේ ට්රම්ප්ගේ පරිපාලන වෙනස් පුදුමය යුතු</td>\n",
              "      <td>{'ABB': 1, 'NNC': 4, 'VP': 2, 'QBE': 1, 'NDT': 1, 'JJ': 3, 'NNP': 1, 'AUX': 1, 'CC': 0, 'CM': 0, 'DET': 0, 'FS': 0, 'JCV': 0, 'NCV': 0, 'NIP': 0, 'NNJ': 0, 'NUM': 0, 'NVB': 0, 'POST': 0, 'PRP': 0, 'PUNC': 0, 'QUE': 0, 'RB': 0, 'RP': 0, 'RRPCV': 0, 'UNK': 0, 'VFM': 0, 'VNF': 0, 'VNN': 0}</td>\n",
              "      <td>{'ABB': 1, 'NNC': 4, 'VP': 2, 'QBE': 1, 'NDT': 1, 'JJ': 3, 'NNP': 1, 'AUX': 1, 'CC': 0, 'CM': 0, 'DET': 0, 'FS': 0, 'JCV': 0, 'NCV': 0, 'NIP': 0, 'NNJ': 0, 'NUM': 0, 'NVB': 0, 'POST': 0, 'PRP': 0, 'PUNC': 0, 'QUE': 0, 'RB': 0, 'RP': 0, 'RRPCV': 0, 'UNK': 0, 'VFM': 0, 'VNF': 0, 'VNN': 0}</td>\n",
              "      <td>[1, 1, 0, 0, 0, 0, 0, 3, 0, 1, 0, 4, 0, 1, 0, 0, 0, 0, 0, 1, 0, 0, 0, 0, 0, 0, 0, 0, 2]</td>\n",
              "    </tr>\n",
              "  </tbody>\n",
              "</table>\n",
              "<p>617 rows × 8 columns</p>\n",
              "</div>"
            ],
            "text/plain": [
              "     Unnamed: 0  ...                                                                              sent_vector\n",
              "0             0  ...  [0, 0, 0, 0, 0, 0, 1, 1, 0, 0, 0, 1, 0, 1, 0, 0, 0, 0, 0, 0, 0, 0, 0, 0, 0, 0, 2, 1, 1]\n",
              "1             1  ...  [0, 0, 2, 0, 0, 0, 0, 6, 0, 0, 0, 7, 4, 0, 0, 0, 0, 0, 0, 0, 0, 0, 0, 0, 0, 0, 2, 2, 2]\n",
              "2             2  ...  [0, 0, 0, 0, 0, 0, 0, 0, 0, 0, 0, 7, 0, 4, 0, 0, 0, 0, 0, 0, 0, 0, 0, 0, 0, 0, 0, 0, 2]\n",
              "3             3  ...  [0, 0, 0, 0, 0, 0, 0, 0, 0, 0, 0, 2, 0, 9, 0, 0, 0, 0, 0, 0, 0, 0, 0, 0, 0, 0, 0, 0, 0]\n",
              "4             4  ...  [0, 0, 0, 1, 0, 0, 0, 0, 0, 0, 0, 8, 1, 1, 1, 0, 1, 0, 0, 0, 0, 0, 0, 0, 0, 0, 1, 1, 1]\n",
              "..          ...  ...                                                                                      ...\n",
              "612         612  ...  [0, 0, 0, 0, 0, 0, 0, 1, 1, 0, 0, 7, 3, 0, 0, 0, 0, 0, 0, 0, 0, 0, 0, 0, 0, 0, 1, 0, 1]\n",
              "613         613  ...  [0, 0, 0, 0, 0, 1, 0, 0, 0, 0, 0, 3, 2, 0, 0, 0, 0, 0, 0, 0, 0, 1, 0, 0, 0, 0, 0, 0, 0]\n",
              "614         614  ...  [0, 0, 0, 0, 0, 0, 0, 0, 0, 0, 0, 2, 1, 3, 1, 0, 0, 0, 0, 0, 0, 0, 0, 0, 0, 0, 1, 0, 2]\n",
              "615         615  ...  [0, 0, 0, 0, 0, 0, 0, 0, 0, 0, 0, 2, 1, 3, 1, 0, 0, 0, 0, 0, 0, 0, 0, 0, 0, 0, 1, 0, 2]\n",
              "616         616  ...  [1, 1, 0, 0, 0, 0, 0, 3, 0, 1, 0, 4, 0, 1, 0, 0, 0, 0, 0, 1, 0, 0, 0, 0, 0, 0, 0, 0, 2]\n",
              "\n",
              "[617 rows x 8 columns]"
            ]
          },
          "metadata": {
            "tags": []
          },
          "execution_count": 47
        }
      ]
    },
    {
      "cell_type": "code",
      "metadata": {
        "colab": {
          "base_uri": "https://localhost:8080/"
        },
        "id": "ZGhrOnTtXgES",
        "outputId": "9e44abb4-595d-494d-97b7-da45b1b75f10"
      },
      "source": [
        "pd.set_option('display.max_colwidth', None)\n",
        "df['sent_vector']"
      ],
      "execution_count": null,
      "outputs": [
        {
          "output_type": "execute_result",
          "data": {
            "text/plain": [
              "0      [0, 0, 0, 0, 0, 1, 1, 1, 0, 0, 0, 1, 0, 3, 0, 0, 0, 0, 1, 0, 0, 0, 0, 0, 0, 1, 1, 1, 1]\n",
              "1      [0, 0, 2, 0, 0, 1, 0, 8, 0, 0, 0, 8, 4, 0, 0, 0, 0, 0, 0, 0, 0, 0, 0, 0, 0, 1, 2, 2, 2]\n",
              "2      [0, 0, 0, 0, 0, 1, 0, 1, 0, 0, 0, 8, 0, 3, 0, 0, 0, 0, 0, 0, 0, 0, 0, 0, 0, 0, 0, 0, 2]\n",
              "3      [0, 0, 0, 0, 0, 1, 0, 0, 0, 0, 0, 4, 0, 8, 0, 0, 0, 0, 0, 0, 0, 0, 0, 0, 0, 0, 1, 0, 0]\n",
              "4      [1, 0, 0, 1, 0, 1, 0, 1, 0, 0, 1, 4, 0, 6, 1, 0, 1, 0, 4, 0, 0, 0, 0, 0, 0, 0, 0, 1, 1]\n",
              "                                                ...                                           \n",
              "612    [0, 0, 0, 0, 0, 0, 0, 1, 2, 0, 0, 6, 3, 0, 0, 0, 0, 0, 0, 0, 0, 0, 0, 0, 0, 0, 1, 0, 1]\n",
              "613    [0, 0, 0, 0, 0, 1, 0, 0, 0, 0, 0, 3, 2, 0, 0, 0, 0, 0, 0, 0, 0, 1, 0, 0, 0, 0, 0, 0, 0]\n",
              "614    [0, 0, 0, 0, 0, 0, 0, 0, 0, 0, 0, 2, 1, 3, 1, 0, 0, 0, 0, 0, 0, 0, 0, 0, 0, 0, 1, 0, 2]\n",
              "615    [0, 0, 0, 0, 0, 0, 0, 0, 0, 0, 0, 2, 1, 3, 1, 0, 0, 0, 0, 0, 0, 0, 0, 0, 0, 0, 1, 0, 2]\n",
              "616    [1, 1, 0, 0, 0, 0, 0, 3, 0, 1, 0, 4, 0, 1, 0, 0, 0, 0, 0, 1, 0, 0, 0, 0, 0, 0, 0, 0, 2]\n",
              "Name: sent_vector, Length: 617, dtype: object"
            ]
          },
          "metadata": {
            "tags": []
          },
          "execution_count": 69
        }
      ]
    },
    {
      "cell_type": "code",
      "metadata": {
        "id": "IqeNnetC4aDn"
      },
      "source": [
        "from sklearn.naive_bayes import GaussianNB\n",
        "from sklearn import metrics\n",
        "from sklearn.model_selection import train_test_split\n",
        "from sklearn.metrics import accuracy_score\n",
        "from numpy import array\n",
        "\n",
        "# pos_counts\n",
        "data=[]\n",
        "for i in df[\"sent_vector\"].values:\n",
        "    temp=[]\n",
        "    for j in i:\n",
        "        temp.append(j)\n",
        "    data.append(temp)\n",
        "data=np.array(data)\n",
        "\n",
        "y=df['Post_category'].values"
      ],
      "execution_count": null,
      "outputs": []
    },
    {
      "cell_type": "code",
      "metadata": {
        "colab": {
          "base_uri": "https://localhost:8080/"
        },
        "id": "qHZ2LtsHlJry",
        "outputId": "0b02f4f8-4b6f-4b60-8c76-461e9f970f2f"
      },
      "source": [
        "#RF\n",
        "model = ensemble.RandomForestClassifier()\n",
        "X_train, X_test, Y_train, Y_test = train_test_split(data,y,test_size=0.5, random_state=42)\n",
        "#train_x, valid_x, train_y, valid_y = model.train_test_split(trainDF['Filtered_sentence'], trainDF['Class'])\n",
        "\n",
        "model.fit(X_train, Y_train)\n",
        "\n",
        "predictions = model.predict(X_test)\n",
        "print('RF, pos_counts Accuracy: ', accuracy_score(Y_test.astype(str), predictions.astype(str)))"
      ],
      "execution_count": null,
      "outputs": [
        {
          "output_type": "stream",
          "text": [
            "RF, pos_counts Accuracy:  0.7411003236245954\n"
          ],
          "name": "stdout"
        }
      ]
    },
    {
      "cell_type": "code",
      "metadata": {
        "colab": {
          "base_uri": "https://localhost:8080/"
        },
        "id": "kA_PKJvoLtg3",
        "outputId": "19b3a01e-054f-4640-cab2-4b4181828f04"
      },
      "source": [
        "# svm\n",
        "model = svm.SVC()\n",
        "X_train, X_test, Y_train, Y_test = train_test_split(data,y,test_size=0.5, random_state=42)\n",
        "#train_x, valid_x, train_y, valid_y = model.train_test_split(trainDF['Filtered_sentence'], trainDF['Class'])\n",
        "\n",
        "model.fit(X_train, Y_train)\n",
        "\n",
        "predictions = model.predict(X_test)\n",
        "print('svm, pos_counts Accuracy: ', accuracy_score(Y_test.astype(str), predictions.astype(str)))"
      ],
      "execution_count": null,
      "outputs": [
        {
          "output_type": "stream",
          "text": [
            "svm, pos_counts Accuracy:  0.7313915857605178\n"
          ],
          "name": "stdout"
        }
      ]
    },
    {
      "cell_type": "code",
      "metadata": {
        "colab": {
          "base_uri": "https://localhost:8080/"
        },
        "id": "_FnHd73IO37x",
        "outputId": "0ce22870-dd69-43e2-f823-cec28d0540b3"
      },
      "source": [
        "# LR\n",
        "model = linear_model.LogisticRegression()\n",
        "X_train, X_test, Y_train, Y_test = train_test_split(data,y,test_size=0.5, random_state=42)\n",
        "#train_x, valid_x, train_y, valid_y = model.train_test_split(trainDF['Filtered_sentence'], trainDF['Class'])\n",
        "\n",
        "model.fit(X_train, Y_train)\n",
        "\n",
        "predictions = model.predict(X_test)\n",
        "print('LR, pos_counts Accuracy: ', accuracy_score(Y_test.astype(str), predictions.astype(str)))"
      ],
      "execution_count": null,
      "outputs": [
        {
          "output_type": "stream",
          "text": [
            "LR, pos_counts Accuracy:  0.6990291262135923\n"
          ],
          "name": "stdout"
        }
      ]
    },
    {
      "cell_type": "code",
      "metadata": {
        "colab": {
          "base_uri": "https://localhost:8080/"
        },
        "id": "Ub4lOf6FO8ay",
        "outputId": "b12b9bff-6a79-4cbb-df7a-4136caa65471"
      },
      "source": [
        "# SGD\n",
        "model = linear_model.SGDClassifier(loss='hinge', penalty='l2',alpha=1e-3, random_state=42, max_iter=5, tol=None)\n",
        "X_train, X_test, Y_train, Y_test = train_test_split(data,y,test_size=0.5, random_state=42)\n",
        "#train_x, valid_x, train_y, valid_y = model.train_test_split(trainDF['Filtered_sentence'], trainDF['Class'])\n",
        "\n",
        "model.fit(X_train, Y_train)\n",
        "\n",
        "predictions = model.predict(X_test)\n",
        "print('SGD, pos_counts Accuracy: ', accuracy_score(Y_test.astype(str), predictions.astype(str)))"
      ],
      "execution_count": null,
      "outputs": [
        {
          "output_type": "stream",
          "text": [
            "SGD, pos_counts Accuracy:  0.5825242718446602\n"
          ],
          "name": "stdout"
        }
      ]
    },
    {
      "cell_type": "code",
      "metadata": {
        "colab": {
          "base_uri": "https://localhost:8080/"
        },
        "id": "9x83TcUsO-CT",
        "outputId": "bcd614b9-a4c2-45fa-d17d-2b7672504dd4"
      },
      "source": [
        "# NB\n",
        "model = naive_bayes.MultinomialNB()\n",
        "X_train, X_test, Y_train, Y_test = train_test_split(data,y,test_size=0.5, random_state=42)\n",
        "#train_x, valid_x, train_y, valid_y = model.train_test_split(trainDF['Filtered_sentence'], trainDF['Class'])\n",
        "\n",
        "model.fit(X_train, Y_train)\n",
        "\n",
        "predictions = model.predict(X_test)\n",
        "print('NB, pos_counts Accuracy: ', accuracy_score(Y_test.astype(str), predictions.astype(str)))"
      ],
      "execution_count": null,
      "outputs": [
        {
          "output_type": "stream",
          "text": [
            "NB, pos_counts Accuracy:  0.6245954692556634\n"
          ],
          "name": "stdout"
        }
      ]
    },
    {
      "cell_type": "code",
      "metadata": {
        "id": "aobF5AQuoNbO"
      },
      "source": [
        "from sklearn.preprocessing import label_binarize\n",
        "\n",
        "Y = label_binarize(df[\"Post_category\"].values, classes=[0, 1, 2])\n",
        "n_classes = Y.shape[1]\n",
        "X_train, X_test, Y_train, Y_test = train_test_split(data, Y, test_size=0.2, random_state=42)"
      ],
      "execution_count": null,
      "outputs": []
    },
    {
      "cell_type": "markdown",
      "metadata": {
        "id": "5de_Q58ZtYUv"
      },
      "source": [
        "Model build"
      ]
    },
    {
      "cell_type": "code",
      "metadata": {
        "id": "6YWuKB1E0ym1"
      },
      "source": [
        "def train_model(classifier, feature_vector_train, label, feature_vector_valid, is_neural_net=False):\n",
        "    # fit the training dataset on the classifier\n",
        "    classifier.fit(feature_vector_train, label)\n",
        "    \n",
        "    # predict the labels on validation dataset\n",
        "    predictions = classifier.predict(feature_vector_valid)\n",
        "    \n",
        "    if is_neural_net:\n",
        "        predictions = predictions.argmax(axis=-1)\n",
        "    \n",
        "    return metrics.accuracy_score(predictions, valid_y)"
      ],
      "execution_count": null,
      "outputs": []
    },
    {
      "cell_type": "code",
      "metadata": {
        "colab": {
          "base_uri": "https://localhost:8080/"
        },
        "id": "p7YwGpDu1D3c",
        "outputId": "072a66ea-eb8b-42cc-daf4-6c4a80f4b199"
      },
      "source": [
        "# RF on Count Vectors\n",
        "accuracy = train_model(ensemble.RandomForestClassifier(), xtrain_count, train_y, xvalid_count)\n",
        "print (\"RF, Count Vectors: \", accuracy)\n",
        "\n",
        "# RF on Word Level TF IDF Vectors\n",
        "accuracy = train_model(ensemble.RandomForestClassifier(), xtrain_tfidf, train_y, xvalid_tfidf)\n",
        "print (\"RF, WordLevel TF-IDF: \", accuracy)\n",
        "\n",
        "# RF on Ngram Level TF IDF Vectors\n",
        "accuracy = train_model(ensemble.RandomForestClassifier(), xtrain_tfidf_ngram, train_y, xvalid_tfidf_ngram)\n",
        "print (\"RF, gram Level TF-IDF: \", accuracy)\n",
        "\n",
        "# RF on Character Level TF IDF Vectors\n",
        "accuracy = train_model(ensemble.RandomForestClassifier(), xtrain_tfidf_ngram_chars, train_y, xvalid_tfidf_ngram_chars)\n",
        "print (\"RF, Character Level TF IDF: \", accuracy)"
      ],
      "execution_count": null,
      "outputs": [
        {
          "output_type": "stream",
          "text": [
            "RF, Count Vectors:  0.8064516129032258\n",
            "RF, WordLevel TF-IDF:  0.8193548387096774\n",
            "RF, gram Level TF-IDF:  0.8516129032258064\n",
            "RF, Character Level TF IDF:  0.8838709677419355\n"
          ],
          "name": "stdout"
        }
      ]
    },
    {
      "cell_type": "code",
      "metadata": {
        "colab": {
          "base_uri": "https://localhost:8080/"
        },
        "id": "En2F0tktfGPB",
        "outputId": "fee3db25-c906-46a5-d7a0-7382a27291d8"
      },
      "source": [
        "# SGD on Count Vectors\n",
        "accuracy = train_model(SGDClassifier(loss='hinge', penalty='l2',alpha=1e-3, random_state=42, max_iter=5, tol=None), xtrain_count, train_y, xvalid_count)\n",
        "print (\"SGD, Count Vectors: \", accuracy)\n",
        "\n",
        "# SGD on Word Level TF IDF Vectors\n",
        "accuracy = train_model(SGDClassifier(loss='hinge', penalty='l2',alpha=1e-3, random_state=42, max_iter=5, tol=None), xtrain_tfidf, train_y, xvalid_tfidf)\n",
        "print (\"SGD, WordLevel TF-IDF: \", accuracy)\n",
        "\n",
        "# SGD on Ngram Level TF IDF Vectors\n",
        "accuracy = train_model(SGDClassifier(loss='hinge', penalty='l2',alpha=1e-3, random_state=42, max_iter=5, tol=None), xtrain_tfidf_ngram, train_y, xvalid_tfidf_ngram)\n",
        "print (\"SGD, gram Level TF-IDF: \", accuracy)\n",
        "\n",
        "# SGD on Character Level TF IDF Vectors\n",
        "accuracy = train_model(SGDClassifier(loss='hinge', penalty='l2',alpha=1e-3, random_state=42, max_iter=5, tol=None), xtrain_tfidf_ngram_chars, train_y, xvalid_tfidf_ngram_chars)\n",
        "print (\"SGD, Character Level TF IDF: \", accuracy)"
      ],
      "execution_count": null,
      "outputs": [
        {
          "output_type": "stream",
          "text": [
            "SGD, Count Vectors:  0.8129032258064516\n",
            "SGD, WordLevel TF-IDF:  0.9032258064516129\n",
            "SGD, gram Level TF-IDF:  0.9290322580645162\n",
            "SGD, Character Level TF IDF:  0.9870967741935484\n"
          ],
          "name": "stdout"
        }
      ]
    },
    {
      "cell_type": "code",
      "metadata": {
        "colab": {
          "base_uri": "https://localhost:8080/"
        },
        "id": "R1C4nWlaI82V",
        "outputId": "c0225090-e78c-41f8-b21d-f1213dfa203b"
      },
      "source": [
        "# Naive Bayes on Count Vectors\n",
        "accuracy = train_model(naive_bayes.MultinomialNB(), xtrain_count, train_y, xvalid_count)\n",
        "print(\"NB, Count Vectors: \", accuracy)\n",
        "\n",
        "# Naive Bayes on Word Level TF IDF Vectors\n",
        "accuracy = train_model(naive_bayes.MultinomialNB(), xtrain_tfidf, train_y, xvalid_tfidf)\n",
        "print (\"NB, WordLevel TF-IDF: \", accuracy)\n",
        "\n",
        "# Naive Bayes on Ngram Level TF IDF Vectors\n",
        "accuracy = train_model(naive_bayes.MultinomialNB(), xtrain_tfidf_ngram, train_y, xvalid_tfidf_ngram)\n",
        "print (\"NB, N-Gram Vectors: \", accuracy)\n",
        "\n",
        "# Naive Bayes on Character Level TF IDF Vectors\n",
        "accuracy = train_model(naive_bayes.MultinomialNB(), xtrain_tfidf_ngram_chars, train_y, xvalid_tfidf_ngram_chars)\n",
        "print (\"NB, CharLevel Vectors: \", accuracy)"
      ],
      "execution_count": null,
      "outputs": [
        {
          "output_type": "stream",
          "text": [
            "NB, Count Vectors:  0.7612903225806451\n",
            "NB, WordLevel TF-IDF:  0.7032258064516129\n",
            "NB, N-Gram Vectors:  0.8903225806451613\n",
            "NB, CharLevel Vectors:  0.8580645161290322\n"
          ],
          "name": "stdout"
        }
      ]
    },
    {
      "cell_type": "code",
      "metadata": {
        "colab": {
          "base_uri": "https://localhost:8080/"
        },
        "id": "rUdqcmSbJaHa",
        "outputId": "1c76f537-90b1-4ba8-98f5-793f28d2caad"
      },
      "source": [
        "# Linear Classifier on Count Vectors\n",
        "accuracy = train_model(linear_model.LogisticRegression(), xtrain_count, train_y, xvalid_count)\n",
        "print (\"LR, Count Vectors: \", accuracy)\n",
        "\n",
        "# Linear Classifier on Word Level TF IDF Vectors\n",
        "accuracy = train_model(linear_model.LogisticRegression(), xtrain_tfidf, train_y, xvalid_tfidf)\n",
        "print (\"LR, WordLevel TF-IDF: \", accuracy)\n",
        "\n",
        "# Linear Classifier on Ngram Level TF IDF Vectors\n",
        "accuracy = train_model(linear_model.LogisticRegression(), xtrain_tfidf_ngram, train_y, xvalid_tfidf_ngram)\n",
        "print (\"LR, N-Gram Vectors: \", accuracy)\n",
        "\n",
        "# Linear Classifier on Character Level TF IDF Vectors\n",
        "accuracy = train_model(linear_model.LogisticRegression(), xtrain_tfidf_ngram_chars, train_y, xvalid_tfidf_ngram_chars)\n",
        "print (\"LR, CharLevel Vectors: \", accuracy)"
      ],
      "execution_count": null,
      "outputs": [
        {
          "output_type": "stream",
          "text": [
            "/usr/local/lib/python3.7/dist-packages/sklearn/linear_model/_logistic.py:940: ConvergenceWarning: lbfgs failed to converge (status=1):\n",
            "STOP: TOTAL NO. of ITERATIONS REACHED LIMIT.\n",
            "\n",
            "Increase the number of iterations (max_iter) or scale the data as shown in:\n",
            "    https://scikit-learn.org/stable/modules/preprocessing.html\n",
            "Please also refer to the documentation for alternative solver options:\n",
            "    https://scikit-learn.org/stable/modules/linear_model.html#logistic-regression\n",
            "  extra_warning_msg=_LOGISTIC_SOLVER_CONVERGENCE_MSG)\n"
          ],
          "name": "stderr"
        },
        {
          "output_type": "stream",
          "text": [
            "LR, Count Vectors:  0.8193548387096774\n",
            "LR, WordLevel TF-IDF:  0.7870967741935484\n",
            "LR, N-Gram Vectors:  0.9225806451612903\n",
            "LR, CharLevel Vectors:  0.9483870967741935\n"
          ],
          "name": "stdout"
        }
      ]
    },
    {
      "cell_type": "code",
      "metadata": {
        "colab": {
          "base_uri": "https://localhost:8080/"
        },
        "id": "aTEKD64eJgrx",
        "outputId": "f5ecb0b2-a08c-40cb-dbfa-8058e01f3088"
      },
      "source": [
        "# SVM on Count Vectors\n",
        "accuracy = train_model(svm.SVC(), xtrain_count, train_y, xvalid_count)\n",
        "print (\"SVM, Count Vectors: \", accuracy)\n",
        "\n",
        "# SVM on Ngram Level TF IDF Vectors\n",
        "accuracy = train_model(svm.SVC(), xtrain_tfidf_ngram, train_y, xvalid_tfidf_ngram)\n",
        "print (\"SVM, Ngram Level TF IDF Vectors: \", accuracy)\n",
        "\n",
        "# SVM on Word Level TF IDF Vectors\n",
        "accuracy = train_model(svm.SVC(), xtrain_tfidf, train_y, xvalid_tfidf)\n",
        "print (\"SVM, Word Level TF IDF Vectors: \", accuracy)\n",
        "\n",
        "# SVM on Character Level TF IDF Vectors\n",
        "accuracy = train_model(svm.SVC(), xtrain_tfidf_ngram_chars, train_y, xvalid_tfidf_ngram_chars)\n",
        "print (\"SVM, Character Level TF IDF Vectors: \", accuracy)"
      ],
      "execution_count": null,
      "outputs": [
        {
          "output_type": "stream",
          "text": [
            "SVM, Count Vectors:  0.6645161290322581\n",
            "SVM, Ngram Level TF IDF Vectors:  0.9419354838709677\n",
            "SVM, Word Level TF IDF Vectors:  0.7741935483870968\n",
            "SVM, Character Level TF IDF Vectors:  0.9548387096774194\n"
          ],
          "name": "stdout"
        }
      ]
    },
    {
      "cell_type": "code",
      "metadata": {
        "colab": {
          "base_uri": "https://localhost:8080/"
        },
        "id": "GE4S8AQQ12yU",
        "outputId": "1a212ecc-b386-45f5-934d-8191fa2cb618"
      },
      "source": [
        "from sklearn.pipeline import Pipeline\n",
        "from sklearn.feature_extraction.text import TfidfTransformer\n",
        "from sklearn.linear_model import SGDClassifier\n",
        "\n",
        "sgd = Pipeline([('vect', CountVectorizer()),\n",
        "                ('tfidf', TfidfTransformer()),\n",
        "                ('clf', SGDClassifier(loss='hinge', penalty='l2',alpha=1e-3, random_state=42, max_iter=5, tol=None)),\n",
        "               ])\n",
        "sgd.fit(train_x, train_y)"
      ],
      "execution_count": null,
      "outputs": [
        {
          "output_type": "execute_result",
          "data": {
            "text/plain": [
              "Pipeline(memory=None,\n",
              "         steps=[('vect',\n",
              "                 CountVectorizer(analyzer='word', binary=False,\n",
              "                                 decode_error='strict',\n",
              "                                 dtype=<class 'numpy.int64'>, encoding='utf-8',\n",
              "                                 input='content', lowercase=True, max_df=1.0,\n",
              "                                 max_features=None, min_df=1,\n",
              "                                 ngram_range=(1, 1), preprocessor=None,\n",
              "                                 stop_words=None, strip_accents=None,\n",
              "                                 token_pattern='(?u)\\\\b\\\\w\\\\w+\\\\b',\n",
              "                                 tokenizer=None, vocabulary=Non...\n",
              "                ('clf',\n",
              "                 SGDClassifier(alpha=0.001, average=False, class_weight=None,\n",
              "                               early_stopping=False, epsilon=0.1, eta0=0.0,\n",
              "                               fit_intercept=True, l1_ratio=0.15,\n",
              "                               learning_rate='optimal', loss='hinge',\n",
              "                               max_iter=5, n_iter_no_change=5, n_jobs=None,\n",
              "                               penalty='l2', power_t=0.5, random_state=42,\n",
              "                               shuffle=True, tol=None, validation_fraction=0.1,\n",
              "                               verbose=0, warm_start=False))],\n",
              "         verbose=False)"
            ]
          },
          "metadata": {
            "tags": []
          },
          "execution_count": 159
        }
      ]
    },
    {
      "cell_type": "code",
      "metadata": {
        "colab": {
          "base_uri": "https://localhost:8080/"
        },
        "id": "cbNlhoYg2fkV",
        "outputId": "5e71f616-e5a9-485a-db28-b02dc5696b7a"
      },
      "source": [
        "sgd.predict(valid_x)"
      ],
      "execution_count": null,
      "outputs": [
        {
          "output_type": "execute_result",
          "data": {
            "text/plain": [
              "array([1, 2, 2, 0, 1, 2, 0, 2, 1, 1, 2, 1, 2, 1, 2, 2, 0, 1, 0, 2, 0, 0,\n",
              "       0, 1, 2, 0, 1, 0, 2, 1, 2, 0, 2, 2, 0, 2, 1, 2, 1, 2, 0, 1, 1, 0,\n",
              "       1, 0, 1, 0, 2, 0, 2, 0, 1, 1, 2, 1, 0, 1, 1, 1, 0, 2, 2, 0, 1, 2,\n",
              "       0, 0, 0, 0, 1, 0, 2, 2, 2, 1, 2, 0, 1, 1, 1, 1, 0, 0, 0, 0, 0, 2,\n",
              "       0, 2, 1, 2, 2, 0, 1, 1, 2, 2, 0, 0, 2, 1, 1, 2, 0, 0, 0, 1, 0, 1,\n",
              "       1, 2, 1, 1, 0, 1, 0, 2, 0, 2, 1, 0, 1, 0, 0, 2, 0, 0, 0, 2, 0, 0,\n",
              "       0, 0, 2, 0, 1, 0, 0, 2, 1, 1, 0, 2, 0, 0, 2, 0, 0, 2, 0, 2, 2, 0,\n",
              "       0])"
            ]
          },
          "metadata": {
            "tags": []
          },
          "execution_count": 160
        }
      ]
    },
    {
      "cell_type": "code",
      "metadata": {
        "id": "tqXIJUSt3HBP"
      },
      "source": [
        "from pickle import load, dump\n",
        "dump(sgd, open(\"model.pkl\", \"wb\"))\n",
        "model = load(open(\"model.pkl\", \"rb\"))"
      ],
      "execution_count": null,
      "outputs": []
    },
    {
      "cell_type": "code",
      "metadata": {
        "colab": {
          "base_uri": "https://localhost:8080/"
        },
        "id": "K3GKPCcismuS",
        "outputId": "4e2d3c54-1155-4ff6-c514-fc99f12230ce"
      },
      "source": [
        "from sklearn.metrics import classification_report\n",
        "y_pred = model.predict(valid_x)\n",
        "tags = ['Opinion','Emotion','News']\n",
        "print('Accuracy %s' % accuracy_score(y_pred, valid_y))\n",
        "\n",
        "print(classification_report(valid_y, y_pred,target_names=tags))"
      ],
      "execution_count": null,
      "outputs": [
        {
          "output_type": "stream",
          "text": [
            "Accuracy 0.8193548387096774\n",
            "              precision    recall  f1-score   support\n",
            "\n",
            "     Opinion       0.75      0.89      0.81        44\n",
            "     Emotion       0.83      0.76      0.80        51\n",
            "        News       0.88      0.82      0.84        60\n",
            "\n",
            "    accuracy                           0.82       155\n",
            "   macro avg       0.82      0.82      0.82       155\n",
            "weighted avg       0.82      0.82      0.82       155\n",
            "\n"
          ],
          "name": "stdout"
        }
      ]
    },
    {
      "cell_type": "code",
      "metadata": {
        "colab": {
          "base_uri": "https://localhost:8080/"
        },
        "id": "ybGmaY7YG4Xf",
        "outputId": "9e49b019-d481-4dc1-d308-53a423774dbe"
      },
      "source": [
        "text = \"නියම සිංහල මහත්මයෙක්\"\n",
        "\n",
        "pred = model.predict([text])\n",
        "print(tags[pred[0]-1])"
      ],
      "execution_count": null,
      "outputs": [
        {
          "output_type": "stream",
          "text": [
            "Opinion\n"
          ],
          "name": "stdout"
        }
      ]
    },
    {
      "cell_type": "code",
      "metadata": {
        "colab": {
          "base_uri": "https://localhost:8080/",
          "height": 265
        },
        "id": "bowpzbD6vx53",
        "outputId": "efd924f3-8a69-4e2b-b2e8-c436b0168476"
      },
      "source": [
        "g=plt.plot(valid_y - y_pred,marker='o',linestyle='')"
      ],
      "execution_count": null,
      "outputs": [
        {
          "output_type": "display_data",
          "data": {
            "image/png": "[encoded data removed]",
            "text/plain": [
              "<Figure size 432x288 with 1 Axes>"
            ]
          },
          "metadata": {
            "tags": [],
            "needs_background": "light"
          }
        }
      ]
    },
    {
      "cell_type": "code",
      "metadata": {
        "colab": {
          "base_uri": "https://localhost:8080/",
          "height": 279
        },
        "id": "e78VIhp5xxCZ",
        "outputId": "d1d1a02e-e66c-42c7-f2bc-c2356cbbf471"
      },
      "source": [
        "import seaborn as sn\n",
        "sn.heatmap(confusion_matrix(y_pred, valid_y), annot=True)\n",
        "plt.xlabel('Predicted')\n",
        "plt.ylabel('Actual')\n",
        "plt.show()"
      ],
      "execution_count": null,
      "outputs": [
        {
          "output_type": "display_data",
          "data": {
            "image/png": "[encoded data removed]",
            "text/plain": [
              "<Figure size 432x288 with 2 Axes>"
            ]
          },
          "metadata": {
            "tags": [],
            "needs_background": "light"
          }
        }
      ]
    },
    {
      "cell_type": "markdown",
      "metadata": {
        "id": "1osuvGrlTPsG"
      },
      "source": [
        "Sentiment Analysis on opinion sentences"
      ]
    },
    {
      "cell_type": "code",
      "metadata": {
        "colab": {
          "base_uri": "https://localhost:8080/"
        },
        "id": "JFMkV4DNIsy2",
        "outputId": "1d0383b4-8fe7-4327-8ba1-fc24a89ffa6a"
      },
      "source": [
        "# importing pandas as pd\n",
        "import pandas as pd\n",
        "  \n",
        "# Read the csv file and construct the \n",
        "# dataframe\n",
        "df = pd.read_csv('SubjectivityTagged.csv')\n",
        "  \n",
        "# First filter out those rows which\n",
        "# does not contain any data\n",
        "df = df.dropna(how = 'all')\n",
        "  \n",
        "# Filter all rows for which the player's\n",
        "# age is greater than or equal to 25\n",
        "df.drop(df[df['Post_category'] == 'News'].index, inplace = True)\n",
        "df.drop(df[df['Post_category'] == 'Emotion'].index, inplace = True)\n",
        "  \n",
        "# Print the modified dataframe\n",
        "print(df.head(15))\n",
        "  \n",
        "# Print the shape of the dataframe\n",
        "print(df.shape)\n",
        "df.to_csv('SubjectivityTagged.csv')"
      ],
      "execution_count": null,
      "outputs": [
        {
          "output_type": "stream",
          "text": [
            "     Unnamed: 0  ...                                       Text_cleaned\n",
            "200         200  ...                               නියම සිංහල මහත්මයෙක්\n",
            "201         201  ...                                      අන්න මිනිස්සු\n",
            "202         202  ...                                        අයියෝ සල්ලි\n",
            "203         203  ...  අනේ මටත් හිතෙනවා එ හරියෙන් ම ගෙයක් හදාගන්න දෙන...\n",
            "204         204  ...  එක හොද ක්‍රියාවක් වුනත් සොරකමට අනුබල දීමක් නිස...\n",
            "205         205  ...  දීය යුතු දඩුවම ලබු ගෙඩියේ අයිතිකරු විසින් ලබා ...\n",
            "206         206  ...                         මටත් අසයි ලබු කිරිබත් කන්න\n",
            "207         207  ...  ලබු කිරිබත් වලට වඩා රසයි ලබු කොලෙන් හදන එක්තරා...\n",
            "208         208  ...  ලබු ඔනෑවට වඩා කෑමෙන් ෂරීරයේ ඇට මෙලෙක් වෙනවා බො...\n",
            "209         209  ...  එ මනුෂ්‍යයා හොද කෙනෙක් හරිදේ එකයි පින්වැඩි කමට...\n",
            "210         210  ...                                  හිතහොද මනුස්සයෙක්\n",
            "211         211  ...                                 හොරු බෝ කරන කෙනෙක්\n",
            "212         212  ...  නිමල් වගේ අය තමයි පොල් ගෙඩියටත් උසාවි යන්නේ මි...\n",
            "213         213  ...  නෑ නිමල් මහත්තයා එයා අයිත් හොරකම් කරන එකක් නැ ...\n",
            "214         214  ...                           කාටත් හොද වටිනා අදර්ෂයක්\n",
            "\n",
            "[15 rows x 5 columns]\n",
            "(202, 5)\n"
          ],
          "name": "stdout"
        }
      ]
    },
    {
      "cell_type": "code",
      "metadata": {
        "colab": {
          "base_uri": "https://localhost:8080/"
        },
        "id": "iu4fbCDwKJ10",
        "outputId": "7cf57a6a-bb32-404e-ad4b-0a8e7571db67"
      },
      "source": [
        "print(\"number of tweets belonging to Post_category opinion\")\n",
        "df.groupby('Post_category')['Text'].nunique()"
      ],
      "execution_count": null,
      "outputs": [
        {
          "output_type": "stream",
          "text": [
            "number of tweets belonging to Post_category opinion\n"
          ],
          "name": "stdout"
        },
        {
          "output_type": "execute_result",
          "data": {
            "text/plain": [
              "Post_category\n",
              "Opinion    202\n",
              "Name: Text, dtype: int64"
            ]
          },
          "metadata": {
            "tags": []
          },
          "execution_count": 135
        }
      ]
    },
    {
      "cell_type": "code",
      "metadata": {
        "colab": {
          "base_uri": "https://localhost:8080/",
          "height": 417
        },
        "id": "ykONaYrZTZ4t",
        "outputId": "1da6879a-66d4-4327-cc7c-eac8c1b439bb"
      },
      "source": [
        "dataframe2 = pd.read_csv('SubjectivityTagged.csv', error_bad_lines=False)\n",
        "dataframe2"
      ],
      "execution_count": null,
      "outputs": [
        {
          "output_type": "execute_result",
          "data": {
            "text/html": [
              "<div>\n",
              "<style scoped>\n",
              "    .dataframe tbody tr th:only-of-type {\n",
              "        vertical-align: middle;\n",
              "    }\n",
              "\n",
              "    .dataframe tbody tr th {\n",
              "        vertical-align: top;\n",
              "    }\n",
              "\n",
              "    .dataframe thead th {\n",
              "        text-align: right;\n",
              "    }\n",
              "</style>\n",
              "<table border=\"1\" class=\"dataframe\">\n",
              "  <thead>\n",
              "    <tr style=\"text-align: right;\">\n",
              "      <th></th>\n",
              "      <th>Unnamed: 0</th>\n",
              "      <th>Unnamed: 0.1</th>\n",
              "      <th>Id</th>\n",
              "      <th>Text</th>\n",
              "      <th>Post_category</th>\n",
              "      <th>Text_cleaned</th>\n",
              "    </tr>\n",
              "  </thead>\n",
              "  <tbody>\n",
              "    <tr>\n",
              "      <th>0</th>\n",
              "      <td>200</td>\n",
              "      <td>200</td>\n",
              "      <td>200.0</td>\n",
              "      <td>නියම සිංහල මහත්මයෙක්.</td>\n",
              "      <td>Opinion</td>\n",
              "      <td>නියම සිංහල මහත්මයෙක්</td>\n",
              "    </tr>\n",
              "    <tr>\n",
              "      <th>1</th>\n",
              "      <td>201</td>\n",
              "      <td>201</td>\n",
              "      <td>201.0</td>\n",
              "      <td>අන්න මිනිස්සු...</td>\n",
              "      <td>Opinion</td>\n",
              "      <td>අන්න මිනිස්සු</td>\n",
              "    </tr>\n",
              "    <tr>\n",
              "      <th>2</th>\n",
              "      <td>202</td>\n",
              "      <td>202</td>\n",
              "      <td>202.0</td>\n",
              "      <td>අයියෝ සල්ලි</td>\n",
              "      <td>Opinion</td>\n",
              "      <td>අයියෝ සල්ලි</td>\n",
              "    </tr>\n",
              "    <tr>\n",
              "      <th>3</th>\n",
              "      <td>203</td>\n",
              "      <td>203</td>\n",
              "      <td>203.0</td>\n",
              "      <td>අනේ මටත් හිතෙනවා ඒ හරියෙන් ම ගෙයක් හදාගන්න.. ද...</td>\n",
              "      <td>Opinion</td>\n",
              "      <td>අනේ මටත් හිතෙනවා එ හරියෙන් ම ගෙයක් හදාගන්න දෙන...</td>\n",
              "    </tr>\n",
              "    <tr>\n",
              "      <th>4</th>\n",
              "      <td>204</td>\n",
              "      <td>204</td>\n",
              "      <td>204.0</td>\n",
              "      <td>ඒක හොද ක්‍රියාවක් වුණත් සොරකමට අනුබල දීමක් නිස...</td>\n",
              "      <td>Opinion</td>\n",
              "      <td>එක හොද ක්‍රියාවක් වුනත් සොරකමට අනුබල දීමක් නිස...</td>\n",
              "    </tr>\n",
              "    <tr>\n",
              "      <th>...</th>\n",
              "      <td>...</td>\n",
              "      <td>...</td>\n",
              "      <td>...</td>\n",
              "      <td>...</td>\n",
              "      <td>...</td>\n",
              "      <td>...</td>\n",
              "    </tr>\n",
              "    <tr>\n",
              "      <th>197</th>\n",
              "      <td>397</td>\n",
              "      <td>397</td>\n",
              "      <td>397.0</td>\n",
              "      <td>හරිම ආඩම්බරයි. ජර්මනියේ සාමාන්‍ය ගෙවල් වල ඉන්න...</td>\n",
              "      <td>Opinion</td>\n",
              "      <td>හරිම අඩම්බරයි ජර්මනියේ සාමාන්‍ය ගෙවල් වල ඉන්න ...</td>\n",
              "    </tr>\n",
              "    <tr>\n",
              "      <th>198</th>\n",
              "      <td>398</td>\n",
              "      <td>398</td>\n",
              "      <td>398.0</td>\n",
              "      <td>ගොඩක් ලස්සනයි.හොදට පුහුණු කරවලා.පුහුණු කරවපු ක...</td>\n",
              "      <td>Opinion</td>\n",
              "      <td>ගොඩක් ලස්සනයිහොදට පුහුනු කරවලාපුහුනු කරවපු කට්...</td>\n",
              "    </tr>\n",
              "    <tr>\n",
              "      <th>199</th>\n",
              "      <td>399</td>\n",
              "      <td>399</td>\n",
              "      <td>399.0</td>\n",
              "      <td>හොදයි</td>\n",
              "      <td>Opinion</td>\n",
              "      <td>හොදයි</td>\n",
              "    </tr>\n",
              "    <tr>\n",
              "      <th>200</th>\n",
              "      <td>400</td>\n",
              "      <td>400</td>\n",
              "      <td>400.0</td>\n",
              "      <td>හරිම සුන්දරයි</td>\n",
              "      <td>Opinion</td>\n",
              "      <td>හරිම සුන්දරයි</td>\n",
              "    </tr>\n",
              "    <tr>\n",
              "      <th>201</th>\n",
              "      <td>401</td>\n",
              "      <td>401</td>\n",
              "      <td>401.0</td>\n",
              "      <td>ඇස වසා තරාදිය දුන්නා නම් නීතියට යුක්තියට කිරයි...</td>\n",
              "      <td>Opinion</td>\n",
              "      <td>ඇස වසා තරාදිය දුන්නා නම් නීතියට යුක්තියට කිරයි...</td>\n",
              "    </tr>\n",
              "  </tbody>\n",
              "</table>\n",
              "<p>202 rows × 6 columns</p>\n",
              "</div>"
            ],
            "text/plain": [
              "     Unnamed: 0  ...                                       Text_cleaned\n",
              "0           200  ...                               නියම සිංහල මහත්මයෙක්\n",
              "1           201  ...                                      අන්න මිනිස්සු\n",
              "2           202  ...                                        අයියෝ සල්ලි\n",
              "3           203  ...  අනේ මටත් හිතෙනවා එ හරියෙන් ම ගෙයක් හදාගන්න දෙන...\n",
              "4           204  ...  එක හොද ක්‍රියාවක් වුනත් සොරකමට අනුබල දීමක් නිස...\n",
              "..          ...  ...                                                ...\n",
              "197         397  ...  හරිම අඩම්බරයි ජර්මනියේ සාමාන්‍ය ගෙවල් වල ඉන්න ...\n",
              "198         398  ...  ගොඩක් ලස්සනයිහොදට පුහුනු කරවලාපුහුනු කරවපු කට්...\n",
              "199         399  ...                                              හොදයි\n",
              "200         400  ...                                      හරිම සුන්දරයි\n",
              "201         401  ...  ඇස වසා තරාදිය දුන්නා නම් නීතියට යුක්තියට කිරයි...\n",
              "\n",
              "[202 rows x 6 columns]"
            ]
          },
          "metadata": {
            "tags": []
          },
          "execution_count": 136
        }
      ]
    },
    {
      "cell_type": "code",
      "metadata": {
        "colab": {
          "base_uri": "https://localhost:8080/",
          "height": 417
        },
        "id": "FosEst8qMIZH",
        "outputId": "40f5832e-6866-4271-fc4e-e621df1efca0"
      },
      "source": [
        "dataframe = pd.read_csv('sentiment_tagged.csv', error_bad_lines=False)\n",
        "dataframe"
      ],
      "execution_count": null,
      "outputs": [
        {
          "output_type": "execute_result",
          "data": {
            "text/html": [
              "<div>\n",
              "<style scoped>\n",
              "    .dataframe tbody tr th:only-of-type {\n",
              "        vertical-align: middle;\n",
              "    }\n",
              "\n",
              "    .dataframe tbody tr th {\n",
              "        vertical-align: top;\n",
              "    }\n",
              "\n",
              "    .dataframe thead th {\n",
              "        text-align: right;\n",
              "    }\n",
              "</style>\n",
              "<table border=\"1\" class=\"dataframe\">\n",
              "  <thead>\n",
              "    <tr style=\"text-align: right;\">\n",
              "      <th></th>\n",
              "      <th>Unnamed: 0</th>\n",
              "      <th>Text</th>\n",
              "      <th>label</th>\n",
              "    </tr>\n",
              "  </thead>\n",
              "  <tbody>\n",
              "    <tr>\n",
              "      <th>0</th>\n",
              "      <td>0</td>\n",
              "      <td>නියම සිංහල මහත්මයෙක්.</td>\n",
              "      <td>POSITIVE</td>\n",
              "    </tr>\n",
              "    <tr>\n",
              "      <th>1</th>\n",
              "      <td>1</td>\n",
              "      <td>අන්න මිනිස්සු...</td>\n",
              "      <td>POSITIVE</td>\n",
              "    </tr>\n",
              "    <tr>\n",
              "      <th>2</th>\n",
              "      <td>2</td>\n",
              "      <td>අයියෝ සල්ලි</td>\n",
              "      <td>NEGATIVE</td>\n",
              "    </tr>\n",
              "    <tr>\n",
              "      <th>3</th>\n",
              "      <td>3</td>\n",
              "      <td>අනේ මටත් හිතෙනවා ඒ හරියෙන් ම ගෙයක් හදාගන්න.. ද...</td>\n",
              "      <td>POSITIVE</td>\n",
              "    </tr>\n",
              "    <tr>\n",
              "      <th>4</th>\n",
              "      <td>4</td>\n",
              "      <td>ඒක හොද ක්‍රියාවක් වුණත් සොරකමට අනුබල දීමක් නිස...</td>\n",
              "      <td>NEGATIVE</td>\n",
              "    </tr>\n",
              "    <tr>\n",
              "      <th>...</th>\n",
              "      <td>...</td>\n",
              "      <td>...</td>\n",
              "      <td>...</td>\n",
              "    </tr>\n",
              "    <tr>\n",
              "      <th>4117</th>\n",
              "      <td>4117</td>\n",
              "      <td>මිනිස්සු කැමති මිනිසුන්ට වැඩකරන දේශපාලකයන්ට න...</td>\n",
              "      <td>NEGATIVE</td>\n",
              "    </tr>\n",
              "    <tr>\n",
              "      <th>4118</th>\n",
              "      <td>4118</td>\n",
              "      <td>මේවා දේශපාලන පළිගැනීම් නොවේද?</td>\n",
              "      <td>NEGATIVE</td>\n",
              "    </tr>\n",
              "    <tr>\n",
              "      <th>4119</th>\n",
              "      <td>4119</td>\n",
              "      <td>දූෂණ වංචා සම්බන්ධයෙන් චෝදනා ලැබූ පසුගිය ආණ්‌ඩු...</td>\n",
              "      <td>NEGATIVE</td>\n",
              "    </tr>\n",
              "    <tr>\n",
              "      <th>4120</th>\n",
              "      <td>4120</td>\n",
              "      <td>වැරදිකාරයන්ට දඬුවම් කරන්න ඕනෑ</td>\n",
              "      <td>NEGATIVE</td>\n",
              "    </tr>\n",
              "    <tr>\n",
              "      <th>4121</th>\n",
              "      <td>4121</td>\n",
              "      <td>රාජපක්ෂවරුන් අැමෙරිකාවෙි පුරවැසියන් ඹවුන්ට මෙහ...</td>\n",
              "      <td>NEGATIVE</td>\n",
              "    </tr>\n",
              "  </tbody>\n",
              "</table>\n",
              "<p>4122 rows × 3 columns</p>\n",
              "</div>"
            ],
            "text/plain": [
              "      Unnamed: 0                                               Text     label\n",
              "0              0                              නියම සිංහල මහත්මයෙක්.  POSITIVE\n",
              "1              1                                   අන්න මිනිස්සු...  POSITIVE\n",
              "2              2                                        අයියෝ සල්ලි  NEGATIVE\n",
              "3              3  අනේ මටත් හිතෙනවා ඒ හරියෙන් ම ගෙයක් හදාගන්න.. ද...  POSITIVE\n",
              "4              4  ඒක හොද ක්‍රියාවක් වුණත් සොරකමට අනුබල දීමක් නිස...  NEGATIVE\n",
              "...          ...                                                ...       ...\n",
              "4117        4117  මිනිස්සු කැමති මිනිසුන්ට වැඩකරන දේශපාලකයන්ට න...  NEGATIVE\n",
              "4118        4118                      මේවා දේශපාලන පළිගැනීම් නොවේද?  NEGATIVE\n",
              "4119        4119  දූෂණ වංචා සම්බන්ධයෙන් චෝදනා ලැබූ පසුගිය ආණ්‌ඩු...  NEGATIVE\n",
              "4120        4120                      වැරදිකාරයන්ට දඬුවම් කරන්න ඕනෑ  NEGATIVE\n",
              "4121        4121  රාජපක්ෂවරුන් අැමෙරිකාවෙි පුරවැසියන් ඹවුන්ට මෙහ...  NEGATIVE\n",
              "\n",
              "[4122 rows x 3 columns]"
            ]
          },
          "metadata": {
            "tags": []
          },
          "execution_count": 137
        }
      ]
    },
    {
      "cell_type": "code",
      "metadata": {
        "colab": {
          "base_uri": "https://localhost:8080/",
          "height": 305
        },
        "id": "zDys69wQTyeU",
        "outputId": "7981b9ca-28a0-41e8-8fce-865eba127c70"
      },
      "source": [
        "%matplotlib inline\n",
        "dataframe['label'].value_counts().plot(kind=\"bar\")\n",
        "\n",
        "def plot_history(history):\n",
        "    plt.title('Data-Set')\n",
        "    plt.plot(history.history['loss'], label='train')\n",
        "    plt.plot(history.history['val_loss'], label='test')\n",
        "    plt.legend()\n",
        "    plt.show()"
      ],
      "execution_count": null,
      "outputs": [
        {
          "output_type": "display_data",
          "data": {
            "image/png": "[encoded data removed]",
            "text/plain": [
              "<Figure size 432x288 with 1 Axes>"
            ]
          },
          "metadata": {
            "tags": [],
            "needs_background": "light"
          }
        }
      ]
    },
    {
      "cell_type": "code",
      "metadata": {
        "colab": {
          "base_uri": "https://localhost:8080/"
        },
        "id": "axigX4dgT7Uc",
        "outputId": "83eea09d-dc9e-409f-ea08-10207b40dc09"
      },
      "source": [
        "print(\"number of tweets belonging to positive and negative opinion\")\n",
        "dataframe.groupby('label')['Text'].nunique()"
      ],
      "execution_count": null,
      "outputs": [
        {
          "output_type": "stream",
          "text": [
            "number of tweets belonging to positive and negative opinion\n"
          ],
          "name": "stdout"
        },
        {
          "output_type": "execute_result",
          "data": {
            "text/plain": [
              "label\n",
              "NEGATIVE    1985\n",
              "POSITIVE    2060\n",
              "Name: Text, dtype: int64"
            ]
          },
          "metadata": {
            "tags": []
          },
          "execution_count": 138
        }
      ]
    },
    {
      "cell_type": "code",
      "metadata": {
        "id": "2537dHbbUctE"
      },
      "source": [
        "# split the dataset into training and validation datasets \n",
        "train_x, valid_x, train_y, valid_y = model_selection.train_test_split(dataframe['Text'], dataframe['label'])\n",
        "\n",
        "# label encode the target variable \n",
        "encoder = preprocessing.LabelEncoder()\n",
        "train_y = encoder.fit_transform(train_y)\n",
        "valid_y = encoder.fit_transform(valid_y)"
      ],
      "execution_count": null,
      "outputs": []
    },
    {
      "cell_type": "code",
      "metadata": {
        "colab": {
          "base_uri": "https://localhost:8080/"
        },
        "id": "fDm2cJ_dUdoV",
        "outputId": "76ad59b6-f397-4de1-e63b-2ff2ea501ccd"
      },
      "source": [
        "# create a count vectorizer object \n",
        "count_vect = CountVectorizer(analyzer='word', token_pattern=r'\\w{1,}')\n",
        "count_vect.fit(dataframe['Text'])\n",
        "\n",
        "# transform the training and validation data using count vectorizer object\n",
        "xtrain_count =  count_vect.transform(train_x)\n",
        "xvalid_count =  count_vect.transform(valid_x)\n",
        "\n",
        "# word level tf-idf\n",
        "tfidf_vect = TfidfVectorizer(analyzer='word', token_pattern=r'\\w{1,}', max_features=5000)\n",
        "tfidf_vect.fit(dataframe['Text'])\n",
        "xtrain_tfidf =  tfidf_vect.transform(train_x)\n",
        "xvalid_tfidf =  tfidf_vect.transform(valid_x)\n",
        "\n",
        "# ngram level tf-idf \n",
        "tfidf_vect_ngram = TfidfVectorizer(analyzer='word', token_pattern=r'\\w{1,}', ngram_range=(2,3), max_features=5000)\n",
        "tfidf_vect_ngram.fit(dataframe['Text'])\n",
        "xtrain_tfidf_ngram =  tfidf_vect_ngram.transform(train_x)\n",
        "xvalid_tfidf_ngram =  tfidf_vect_ngram.transform(valid_x)\n",
        "\n",
        "# characters level tf-idf\n",
        "tfidf_vect_ngram_chars = TfidfVectorizer(analyzer='char', token_pattern=r'\\w{1,}', ngram_range=(2,3), max_features=5000)\n",
        "tfidf_vect_ngram_chars.fit(dataframe['Text'])\n",
        "xtrain_tfidf_ngram_chars =  tfidf_vect_ngram_chars.transform(train_x) \n",
        "xvalid_tfidf_ngram_chars =  tfidf_vect_ngram_chars.transform(valid_x) "
      ],
      "execution_count": null,
      "outputs": [
        {
          "output_type": "stream",
          "text": [
            "/usr/local/lib/python3.7/dist-packages/sklearn/feature_extraction/text.py:524: UserWarning: The parameter 'token_pattern' will not be used since 'analyzer' != 'word'\n",
            "  warnings.warn(\"The parameter 'token_pattern' will not be used\"\n"
          ],
          "name": "stderr"
        }
      ]
    },
    {
      "cell_type": "code",
      "metadata": {
        "id": "7gaERUuDUzUa"
      },
      "source": [
        "def train_model(classifier, feature_vector_train, label, feature_vector_valid, is_neural_net=False):\n",
        "    # fit the training dataset on the classifier\n",
        "    classifier.fit(feature_vector_train, label)\n",
        "    \n",
        "    # predict the labels on validation dataset\n",
        "    predictions = classifier.predict(feature_vector_valid)\n",
        "    \n",
        "    if is_neural_net:\n",
        "        predictions = predictions.argmax(axis=-1)\n",
        "    \n",
        "    return metrics.accuracy_score(predictions, valid_y)\n",
        "\n"
      ],
      "execution_count": null,
      "outputs": []
    },
    {
      "cell_type": "code",
      "metadata": {
        "colab": {
          "base_uri": "https://localhost:8080/"
        },
        "id": "MScJO3G-Se65",
        "outputId": "a26f6067-8c96-4535-ff84-c1d0bd329f95"
      },
      "source": [
        "# Linear Classifier on Count Vectors\n",
        "accuracy = train_model(linear_model.LogisticRegression(), xtrain_count, train_y, xvalid_count)\n",
        "print (\"LR, Count Vectors: \", accuracy)\n",
        "\n",
        "# Linear Classifier on Word Level TF IDF Vectors\n",
        "accuracy = train_model(linear_model.LogisticRegression(), xtrain_tfidf, train_y, xvalid_tfidf)\n",
        "print (\"LR, WordLevel TF-IDF: \", accuracy)\n",
        "\n",
        "# Linear Classifier on Ngram Level TF IDF Vectors\n",
        "accuracy = train_model(linear_model.LogisticRegression(), xtrain_tfidf_ngram, train_y, xvalid_tfidf_ngram)\n",
        "print (\"LR, N-Gram Vectors: \", accuracy)\n",
        "\n",
        "# Linear Classifier on Character Level TF IDF Vectors\n",
        "accuracy = train_model(linear_model.LogisticRegression(), xtrain_tfidf_ngram_chars, train_y, xvalid_tfidf_ngram_chars)\n",
        "print (\"LR, CharLevel Vectors: \", accuracy)"
      ],
      "execution_count": null,
      "outputs": [
        {
          "output_type": "stream",
          "text": [
            "/usr/local/lib/python3.7/dist-packages/sklearn/linear_model/_logistic.py:940: ConvergenceWarning: lbfgs failed to converge (status=1):\n",
            "STOP: TOTAL NO. of ITERATIONS REACHED LIMIT.\n",
            "\n",
            "Increase the number of iterations (max_iter) or scale the data as shown in:\n",
            "    https://scikit-learn.org/stable/modules/preprocessing.html\n",
            "Please also refer to the documentation for alternative solver options:\n",
            "    https://scikit-learn.org/stable/modules/linear_model.html#logistic-regression\n",
            "  extra_warning_msg=_LOGISTIC_SOLVER_CONVERGENCE_MSG)\n"
          ],
          "name": "stderr"
        },
        {
          "output_type": "stream",
          "text": [
            "LR, Count Vectors:  0.7798254122211445\n",
            "LR, WordLevel TF-IDF:  0.7904946653734238\n",
            "LR, N-Gram Vectors:  0.8360814742967992\n",
            "LR, CharLevel Vectors:  0.8428709990300679\n"
          ],
          "name": "stdout"
        }
      ]
    },
    {
      "cell_type": "code",
      "metadata": {
        "colab": {
          "base_uri": "https://localhost:8080/"
        },
        "id": "9sgzEztNVPxK",
        "outputId": "0e31519c-b82e-40d3-f102-c29020c484db"
      },
      "source": [
        "# RF on Count Vectors\n",
        "accuracy = train_model(ensemble.RandomForestClassifier(), xtrain_count, train_y, xvalid_count)\n",
        "print (\"RF, Count Vectors: \", accuracy)\n",
        "\n",
        "# RF on Word Level TF IDF Vectors\n",
        "accuracy = train_model(ensemble.RandomForestClassifier(), xtrain_tfidf, train_y, xvalid_tfidf)\n",
        "print (\"RF, WordLevel TF-IDF: \", accuracy)\n",
        "\n",
        "# RF on Ngram Level TF IDF Vectors\n",
        "accuracy = train_model(ensemble.RandomForestClassifier(), xtrain_tfidf_ngram, train_y, xvalid_tfidf_ngram)\n",
        "print (\"RF, gram Level TF-IDF: \", accuracy)\n",
        "\n",
        "# RF on Character Level TF IDF Vectors\n",
        "accuracy = train_model(ensemble.RandomForestClassifier(), xtrain_tfidf_ngram_chars, train_y, xvalid_tfidf_ngram_chars)\n",
        "print (\"RF, Character Level TF IDF: \", accuracy)"
      ],
      "execution_count": null,
      "outputs": [
        {
          "output_type": "stream",
          "text": [
            "RF, Count Vectors:  0.7837051406401552\n",
            "RF, WordLevel TF-IDF:  0.7730358874878759\n",
            "RF, gram Level TF-IDF:  0.8021338506304558\n",
            "RF, Character Level TF IDF:  0.8370514064015518\n"
          ],
          "name": "stdout"
        }
      ]
    },
    {
      "cell_type": "code",
      "metadata": {
        "colab": {
          "base_uri": "https://localhost:8080/"
        },
        "id": "Ewise58qiY9b",
        "outputId": "69c3fdad-7dce-4b26-f260-8f636dce9fcb"
      },
      "source": [
        "from sklearn.linear_model import SGDClassifier\n",
        "# SGD on Count Vectors\n",
        "accuracy = train_model(SGDClassifier(loss='hinge', penalty='l2',alpha=1e-3, random_state=42, max_iter=5, tol=None), xtrain_count, train_y, xvalid_count)\n",
        "print (\"SGD, Count Vectors: \", accuracy)\n",
        "\n",
        "# SGD on Word Level TF IDF Vectors\n",
        "accuracy = train_model(SGDClassifier(loss='hinge', penalty='l2',alpha=1e-3, random_state=42, max_iter=5, tol=None), xtrain_tfidf, train_y, xvalid_tfidf)\n",
        "print (\"SGD, WordLevel TF-IDF: \", accuracy)\n",
        "\n",
        "# SGD on Ngram Level TF IDF Vectors\n",
        "accuracy = train_model(SGDClassifier(loss='hinge', penalty='l2',alpha=1e-3, random_state=42, max_iter=5, tol=None), xtrain_tfidf_ngram, train_y, xvalid_tfidf_ngram)\n",
        "print (\"SGD, gram Level TF-IDF: \", accuracy)\n",
        "\n",
        "# SGD on Character Level TF IDF Vectors\n",
        "accuracy = train_model(SGDClassifier(loss='hinge', penalty='l2',alpha=1e-3, random_state=42, max_iter=5, tol=None), xtrain_tfidf_ngram_chars, train_y, xvalid_tfidf_ngram_chars)\n",
        "print (\"SGD, Character Level TF IDF: \", accuracy)"
      ],
      "execution_count": null,
      "outputs": [
        {
          "output_type": "stream",
          "text": [
            "SGD, Count Vectors:  0.7371483996120272\n",
            "SGD, WordLevel TF-IDF:  0.8021338506304558\n",
            "SGD, gram Level TF-IDF:  0.8040737148399612\n",
            "SGD, Character Level TF IDF:  0.8554801163918526\n"
          ],
          "name": "stdout"
        }
      ]
    },
    {
      "cell_type": "code",
      "metadata": {
        "id": "CCzR3tUEQkYk",
        "colab": {
          "base_uri": "https://localhost:8080/"
        },
        "outputId": "275199f4-595d-465c-9b23-bde333d4ec52"
      },
      "source": [
        "from sklearn.pipeline import Pipeline\n",
        "from sklearn.feature_extraction.text import TfidfTransformer\n",
        "from sklearn.linear_model import SGDClassifier\n",
        "\n",
        "sgd = Pipeline([('vect', CountVectorizer()),\n",
        "                ('tfidf', TfidfTransformer()),\n",
        "                ('clf', linear_model.LogisticRegression()),\n",
        "               ])\n",
        "sgd.fit(train_x, train_y)\n",
        "\n",
        "sgd.predict(valid_x)\n",
        "\n",
        "from pickle import load, dump\n",
        "dump(sgd, open(\"model.pkl\", \"wb\"))\n",
        "model = load(open(\"model.pkl\", \"rb\"))\n",
        "\n",
        "from sklearn.metrics import classification_report\n",
        "y_pred = model.predict(valid_x)\n",
        "tags = ['POSITIVE','NEGATIVE']\n",
        "print('Accuracy %s' % accuracy_score(y_pred, valid_y))\n",
        "\n",
        "print(classification_report(valid_y, y_pred,target_names=tags))"
      ],
      "execution_count": null,
      "outputs": [
        {
          "output_type": "stream",
          "text": [
            "Accuracy 0.7662463627546072\n",
            "              precision    recall  f1-score   support\n",
            "\n",
            "    POSITIVE       0.78      0.76      0.77       529\n",
            "    NEGATIVE       0.75      0.77      0.76       502\n",
            "\n",
            "    accuracy                           0.77      1031\n",
            "   macro avg       0.77      0.77      0.77      1031\n",
            "weighted avg       0.77      0.77      0.77      1031\n",
            "\n"
          ],
          "name": "stdout"
        }
      ]
    },
    {
      "cell_type": "code",
      "metadata": {
        "colab": {
          "base_uri": "https://localhost:8080/"
        },
        "id": "u7Kxy4_yiQKO",
        "outputId": "9b287213-2586-4105-a264-d28683908485"
      },
      "source": [
        "from sklearn.pipeline import Pipeline\n",
        "from sklearn.feature_extraction.text import TfidfTransformer\n",
        "from sklearn.linear_model import SGDClassifier\n",
        "\n",
        "sgd = Pipeline([('vect', CountVectorizer()),\n",
        "                ('tfidf', TfidfTransformer()),\n",
        "                ('clf', linear_model.LogisticRegression()),\n",
        "               ])\n",
        "sgd.fit(train_x, train_y)\n",
        "\n",
        "sgd.predict(valid_x)\n",
        "\n",
        "from pickle import load, dump\n",
        "dump(sgd, open(\"model.pkl\", \"wb\"))\n",
        "model2 = load(open(\"model.pkl\", \"rb\"))\n",
        "\n",
        "from sklearn.metrics import classification_report\n",
        "y_pred = model2.predict(valid_x)\n",
        "tags = ['POSITIVE','NEGATIVE']\n",
        "print('Accuracy %s' % accuracy_score(y_pred, valid_y))\n",
        "\n",
        "print(classification_report(valid_y, y_pred,target_names=tags))\n"
      ],
      "execution_count": null,
      "outputs": [
        {
          "output_type": "stream",
          "text": [
            "Accuracy 0.7837051406401552\n",
            "              precision    recall  f1-score   support\n",
            "\n",
            "    POSITIVE       0.77      0.80      0.79       510\n",
            "    NEGATIVE       0.80      0.77      0.78       521\n",
            "\n",
            "    accuracy                           0.78      1031\n",
            "   macro avg       0.78      0.78      0.78      1031\n",
            "weighted avg       0.78      0.78      0.78      1031\n",
            "\n"
          ],
          "name": "stdout"
        }
      ]
    },
    {
      "cell_type": "code",
      "metadata": {
        "colab": {
          "base_uri": "https://localhost:8080/"
        },
        "id": "gZMO-7ZdV0us",
        "outputId": "2e98574f-5479-4360-b2db-20ab259d7999"
      },
      "source": [
        "text = \"නියම සිංහල මහත්මයෙක්\t\"\n",
        "\n",
        "pred = model2.predict([text])\n",
        "print(tags[pred[0]-1])"
      ],
      "execution_count": null,
      "outputs": [
        {
          "output_type": "stream",
          "text": [
            "POSITIVE\n"
          ],
          "name": "stdout"
        }
      ]
    },
    {
      "cell_type": "markdown",
      "metadata": {
        "id": "gN_y00am5BXX"
      },
      "source": [
        "Sentiment analysis Opinionated sentences"
      ]
    },
    {
      "cell_type": "code",
      "metadata": {
        "id": "joLbYiTg5CBr"
      },
      "source": [
        "data1=pd.read_csv('SubjectivityTagged.csv')\n",
        "sentences = data1['Text_cleaned'].values.astype('U')\n",
        "y_hats2 = model2.predict(sentences)\n",
        "\n",
        "df['Predictions'] = y_hats2"
      ],
      "execution_count": null,
      "outputs": []
    },
    {
      "cell_type": "code",
      "metadata": {
        "colab": {
          "base_uri": "https://localhost:8080/",
          "height": 417
        },
        "id": "CPFhQYcB8RDk",
        "outputId": "d5ad355c-eeb6-4ca1-e9d0-72ae7c3272bc"
      },
      "source": [
        "class_to_num = {\"Predictions\": {1: 'POSITIVE',\n",
        "                0: 'NEGATIVE'\n",
        "                }}\n",
        "                \n",
        "df = df.replace(class_to_num)\n",
        "df\n"
      ],
      "execution_count": null,
      "outputs": [
        {
          "output_type": "execute_result",
          "data": {
            "text/html": [
              "<div>\n",
              "<style scoped>\n",
              "    .dataframe tbody tr th:only-of-type {\n",
              "        vertical-align: middle;\n",
              "    }\n",
              "\n",
              "    .dataframe tbody tr th {\n",
              "        vertical-align: top;\n",
              "    }\n",
              "\n",
              "    .dataframe thead th {\n",
              "        text-align: right;\n",
              "    }\n",
              "</style>\n",
              "<table border=\"1\" class=\"dataframe\">\n",
              "  <thead>\n",
              "    <tr style=\"text-align: right;\">\n",
              "      <th></th>\n",
              "      <th>Unnamed: 0</th>\n",
              "      <th>Id</th>\n",
              "      <th>Text</th>\n",
              "      <th>Post_category</th>\n",
              "      <th>Text_cleaned</th>\n",
              "      <th>Predictions</th>\n",
              "    </tr>\n",
              "  </thead>\n",
              "  <tbody>\n",
              "    <tr>\n",
              "      <th>200</th>\n",
              "      <td>200</td>\n",
              "      <td>200.0</td>\n",
              "      <td>නියම සිංහල මහත්මයෙක්.</td>\n",
              "      <td>Opinion</td>\n",
              "      <td>නියම සිංහල මහත්මයෙක්</td>\n",
              "      <td>POSITIVE</td>\n",
              "    </tr>\n",
              "    <tr>\n",
              "      <th>201</th>\n",
              "      <td>201</td>\n",
              "      <td>201.0</td>\n",
              "      <td>අන්න මිනිස්සු...</td>\n",
              "      <td>Opinion</td>\n",
              "      <td>අන්න මිනිස්සු</td>\n",
              "      <td>NEGATIVE</td>\n",
              "    </tr>\n",
              "    <tr>\n",
              "      <th>202</th>\n",
              "      <td>202</td>\n",
              "      <td>202.0</td>\n",
              "      <td>අයියෝ සල්ලි</td>\n",
              "      <td>Opinion</td>\n",
              "      <td>අයියෝ සල්ලි</td>\n",
              "      <td>NEGATIVE</td>\n",
              "    </tr>\n",
              "    <tr>\n",
              "      <th>203</th>\n",
              "      <td>203</td>\n",
              "      <td>203.0</td>\n",
              "      <td>අනේ මටත් හිතෙනවා ඒ හරියෙන් ම ගෙයක් හදාගන්න.. ද...</td>\n",
              "      <td>Opinion</td>\n",
              "      <td>අනේ මටත් හිතෙනවා එ හරියෙන් ම ගෙයක් හදාගන්න දෙන...</td>\n",
              "      <td>POSITIVE</td>\n",
              "    </tr>\n",
              "    <tr>\n",
              "      <th>204</th>\n",
              "      <td>204</td>\n",
              "      <td>204.0</td>\n",
              "      <td>ඒක හොද ක්‍රියාවක් වුණත් සොරකමට අනුබල දීමක් නිස...</td>\n",
              "      <td>Opinion</td>\n",
              "      <td>එක හොද ක්‍රියාවක් වුනත් සොරකමට අනුබල දීමක් නිස...</td>\n",
              "      <td>NEGATIVE</td>\n",
              "    </tr>\n",
              "    <tr>\n",
              "      <th>...</th>\n",
              "      <td>...</td>\n",
              "      <td>...</td>\n",
              "      <td>...</td>\n",
              "      <td>...</td>\n",
              "      <td>...</td>\n",
              "      <td>...</td>\n",
              "    </tr>\n",
              "    <tr>\n",
              "      <th>397</th>\n",
              "      <td>397</td>\n",
              "      <td>397.0</td>\n",
              "      <td>හරිම ආඩම්බරයි. ජර්මනියේ සාමාන්‍ය ගෙවල් වල ඉන්න...</td>\n",
              "      <td>Opinion</td>\n",
              "      <td>හරිම අඩම්බරයි ජර්මනියේ සාමාන්‍ය ගෙවල් වල ඉන්න ...</td>\n",
              "      <td>NEGATIVE</td>\n",
              "    </tr>\n",
              "    <tr>\n",
              "      <th>398</th>\n",
              "      <td>398</td>\n",
              "      <td>398.0</td>\n",
              "      <td>ගොඩක් ලස්සනයි.හොදට පුහුණු කරවලා.පුහුණු කරවපු ක...</td>\n",
              "      <td>Opinion</td>\n",
              "      <td>ගොඩක් ලස්සනයිහොදට පුහුනු කරවලාපුහුනු කරවපු කට්...</td>\n",
              "      <td>POSITIVE</td>\n",
              "    </tr>\n",
              "    <tr>\n",
              "      <th>399</th>\n",
              "      <td>399</td>\n",
              "      <td>399.0</td>\n",
              "      <td>හොදයි</td>\n",
              "      <td>Opinion</td>\n",
              "      <td>හොදයි</td>\n",
              "      <td>POSITIVE</td>\n",
              "    </tr>\n",
              "    <tr>\n",
              "      <th>400</th>\n",
              "      <td>400</td>\n",
              "      <td>400.0</td>\n",
              "      <td>හරිම සුන්දරයි</td>\n",
              "      <td>Opinion</td>\n",
              "      <td>හරිම සුන්දරයි</td>\n",
              "      <td>POSITIVE</td>\n",
              "    </tr>\n",
              "    <tr>\n",
              "      <th>401</th>\n",
              "      <td>401</td>\n",
              "      <td>401.0</td>\n",
              "      <td>ඇස වසා තරාදිය දුන්නා නම් නීතියට යුක්තියට කිරයි...</td>\n",
              "      <td>Opinion</td>\n",
              "      <td>ඇස වසා තරාදිය දුන්නා නම් නීතියට යුක්තියට කිරයි...</td>\n",
              "      <td>NEGATIVE</td>\n",
              "    </tr>\n",
              "  </tbody>\n",
              "</table>\n",
              "<p>202 rows × 6 columns</p>\n",
              "</div>"
            ],
            "text/plain": [
              "     Unnamed: 0  ...  Predictions\n",
              "200         200  ...     POSITIVE\n",
              "201         201  ...     NEGATIVE\n",
              "202         202  ...     NEGATIVE\n",
              "203         203  ...     POSITIVE\n",
              "204         204  ...     NEGATIVE\n",
              "..          ...  ...          ...\n",
              "397         397  ...     NEGATIVE\n",
              "398         398  ...     POSITIVE\n",
              "399         399  ...     POSITIVE\n",
              "400         400  ...     POSITIVE\n",
              "401         401  ...     NEGATIVE\n",
              "\n",
              "[202 rows x 6 columns]"
            ]
          },
          "metadata": {
            "tags": []
          },
          "execution_count": 150
        }
      ]
    },
    {
      "cell_type": "code",
      "metadata": {
        "id": "mUfqPDi965kL"
      },
      "source": [
        ""
      ],
      "execution_count": null,
      "outputs": []
    },
    {
      "cell_type": "code",
      "metadata": {
        "id": "YKD_s4PqvDIO"
      },
      "source": [
        "data1=pd.read_csv('SubjectivityTagged.csv')"
      ],
      "execution_count": null,
      "outputs": []
    },
    {
      "cell_type": "code",
      "metadata": {
        "id": "bvWSaml_0yV7"
      },
      "source": [
        "sentences = data1['Text_cleaned'].values.astype('U')\n",
        "y = df['Post_category']\n",
        "X_train, X_test, y_train, y_test = train_test_split(sentences, y)\n",
        "\n",
        "tags = ['0','1']"
      ],
      "execution_count": null,
      "outputs": []
    },
    {
      "cell_type": "code",
      "metadata": {
        "colab": {
          "base_uri": "https://localhost:8080/"
        },
        "id": "UrEoEF0AyFz5",
        "outputId": "5672cac0-1681-46ad-f89b-c2fdfc78f749"
      },
      "source": [
        "model.predict(X_test)"
      ],
      "execution_count": null,
      "outputs": [
        {
          "output_type": "execute_result",
          "data": {
            "text/plain": [
              "array([0, 0, 1, 1, 1, 1, 1, 1, 1, 0, 0, 1, 0, 0, 1, 0, 0, 0, 1, 0, 0, 0,\n",
              "       1, 1, 0, 1, 1, 1, 0, 1, 1, 0, 0, 0, 0, 1, 1, 1, 1, 1, 0, 1, 1, 0,\n",
              "       0, 1, 0, 1, 1, 0, 0])"
            ]
          },
          "metadata": {
            "tags": []
          },
          "execution_count": 59
        }
      ]
    },
    {
      "cell_type": "code",
      "metadata": {
        "id": "8pwmBKmCzAPX"
      },
      "source": [
        "from pickle import load, dump\n",
        "dump(model, open(\"model.pkl\", \"wb\"))\n",
        "model = load(open(\"model.pkl\", \"rb\"))"
      ],
      "execution_count": null,
      "outputs": []
    },
    {
      "cell_type": "code",
      "metadata": {
        "id": "Y8v-rr930GSM"
      },
      "source": [
        "y_pred = model.predict(X_test)"
      ],
      "execution_count": null,
      "outputs": []
    },
    {
      "cell_type": "code",
      "metadata": {
        "colab": {
          "base_uri": "https://localhost:8080/",
          "height": 265
        },
        "id": "Lw9r84h0RLar",
        "outputId": "329e26c6-37f7-46ad-ac31-21a07c3937e7"
      },
      "source": [
        "g=plt.plot(valid_y - y_pred,marker='o',linestyle='')"
      ],
      "execution_count": null,
      "outputs": [
        {
          "output_type": "display_data",
          "data": {
            "image/png": "[encoded data removed]",
            "text/plain": [
              "<Figure size 432x288 with 1 Axes>"
            ]
          },
          "metadata": {
            "tags": [],
            "needs_background": "light"
          }
        }
      ]
    },
    {
      "cell_type": "code",
      "metadata": {
        "colab": {
          "base_uri": "https://localhost:8080/",
          "height": 279
        },
        "id": "h7zGbYQ3Rgs5",
        "outputId": "c62aeb08-f436-4d7b-bd41-cc998b332602"
      },
      "source": [
        "import seaborn as sn\n",
        "sn.heatmap(confusion_matrix(y_pred, valid_y), annot=True)\n",
        "plt.xlabel('Predicted')\n",
        "plt.ylabel('Actual')\n",
        "plt.show()"
      ],
      "execution_count": null,
      "outputs": [
        {
          "output_type": "display_data",
          "data": {
            "image/png": "[encoded data removed]",
            "text/plain": [
              "<Figure size 432x288 with 2 Axes>"
            ]
          },
          "metadata": {
            "tags": [],
            "needs_background": "light"
          }
        }
      ]
    }
  ]
}