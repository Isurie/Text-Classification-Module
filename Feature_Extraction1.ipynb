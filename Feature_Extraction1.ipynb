{
  "nbformat": 4,
  "nbformat_minor": 0,
  "metadata": {
    "colab": {
      "name": "Feature Extraction1.ipynb",
      "provenance": [],
      "collapsed_sections": [],
      "authorship_tag": "ABX9TyMvUeb+I7YKXMO+iJ9PBTfx"
    },
    "kernelspec": {
      "name": "python3",
      "display_name": "Python 3"
    },
    "language_info": {
      "name": "python"
    }
  },
  "cells": [
    {
      "cell_type": "code",
      "metadata": {
        "id": "mnaOVOSPiycW"
      },
      "source": [
        "from sklearn.neighbors import KNeighborsClassifier\n",
        "from sklearn.metrics import accuracy_score, precision_score, recall_score, confusion_matrix\n",
        "pd.set_option('display.max_colwidth', -1)\n",
        "\n",
        "\n",
        "import pandas as pd\n",
        "import numpy as np\n",
        "from keras.wrappers.scikit_learn import KerasClassifier\n",
        "from tensorflow.keras.layers import Embedding\n",
        "from tensorflow.keras.layers import Dense\n",
        "from tensorflow.keras.layers import Bidirectional\n",
        "from tensorflow.keras.layers import LSTM\n",
        "from tensorflow.keras.layers import SpatialDropout1D\n",
        "from tensorflow.keras.optimizers import Adam\n",
        "from tensorflow.keras.preprocessing.text import Tokenizer\n",
        "from sklearn.model_selection import train_test_split\n",
        "from sklearn.model_selection import cross_val_score\n",
        "from nltk.tokenize import word_tokenize\n",
        "from sklearn.utils import shuffle\n",
        "from nltk.tokenize.treebank import TreebankWordDetokenizer as Detok\n",
        "from nltk.tokenize.treebank import TreebankWordDetokenizer\n",
        "from sklearn.naive_bayes import MultinomialNB\n",
        "from sklearn.pipeline import Pipeline\n",
        "from sklearn.feature_extraction.text import TfidfTransformer\n",
        "from sklearn.feature_extraction.text import CountVectorizer\n",
        "from sklearn.metrics import accuracy_score\n",
        "from sklearn.metrics import classification_report, confusion_matrix\n",
        "from sklearn.linear_model import SGDClassifier\n",
        "from tensorflow.keras.preprocessing.sequence import pad_sequences\n",
        "from tensorflow.keras.models import Sequential\n",
        "from tensorflow.keras.callbacks import ModelCheckpoint, EarlyStopping\n",
        "from sklearn.model_selection import KFold\n",
        "import matplotlib.pyplot as plt\n",
        "from tensorflow.keras.regularizers import l2\n",
        "from tensorflow.python.keras.utils.vis_utils import plot_model\n",
        "from imblearn.over_sampling import ADASYN, SMOTE, RandomOverSampler\n",
        "import tensorflow as tf\n",
        "from sklearn.feature_extraction.text import TfidfVectorizer,CountVectorizer\n",
        "\n",
        "import torch\n",
        "import re\n",
        "import tqdm\n",
        "from matplotlib._path import (affine_transform, count_bboxes_overlapping_bbox,\n",
        "     update_path_extents)\n",
        "from gensim.models import Word2Vec"
      ],
      "execution_count": null,
      "outputs": []
    },
    {
      "cell_type": "code",
      "metadata": {
        "colab": {
          "resources": {
            "http://localhost:8080/nbextensions/google.colab/files.js": {
              "data": "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",
              "ok": true,
              "headers": [
                [
                  "content-type",
                  "application/javascript"
                ]
              ],
              "status": 200,
              "status_text": ""
            }
          },
          "base_uri": "https://localhost:8080/",
          "height": 73
        },
        "id": "8KUY1aPImssY",
        "outputId": "78cf20d9-ecee-475f-f886-ce00cbbb498e"
      },
      "source": [
        "from google.colab import files\n",
        "uploaded = files.upload()"
      ],
      "execution_count": null,
      "outputs": [
        {
          "output_type": "display_data",
          "data": {
            "text/html": [
              "\n",
              "     <input type=\"file\" id=\"files-f6b5327d-9973-4f38-ae7a-9d9e6cd855cf\" name=\"files[]\" multiple disabled\n",
              "        style=\"border:none\" />\n",
              "     <output id=\"result-f6b5327d-9973-4f38-ae7a-9d9e6cd855cf\">\n",
              "      Upload widget is only available when the cell has been executed in the\n",
              "      current browser session. Please rerun this cell to enable.\n",
              "      </output>\n",
              "      <script src=\"/nbextensions/google.colab/files.js\"></script> "
            ],
            "text/plain": [
              "<IPython.core.display.HTML object>"
            ]
          },
          "metadata": {
            "tags": []
          }
        },
        {
          "output_type": "stream",
          "text": [
            "Saving cleaned data-2.csv to cleaned data-2.csv\n"
          ],
          "name": "stdout"
        }
      ]
    },
    {
      "cell_type": "code",
      "metadata": {
        "colab": {
          "base_uri": "https://localhost:8080/",
          "height": 534
        },
        "id": "QJZ-o_7KmlVk",
        "outputId": "df5a2e1a-520e-4100-d7ab-9f54313dfecc"
      },
      "source": [
        "dataset=pd.read_csv('cleaned data-2.csv')\n",
        "dataset.dropna(inplace = True)\n",
        "dataset"
      ],
      "execution_count": null,
      "outputs": [
        {
          "output_type": "execute_result",
          "data": {
            "text/html": [
              "<div>\n",
              "<style scoped>\n",
              "    .dataframe tbody tr th:only-of-type {\n",
              "        vertical-align: middle;\n",
              "    }\n",
              "\n",
              "    .dataframe tbody tr th {\n",
              "        vertical-align: top;\n",
              "    }\n",
              "\n",
              "    .dataframe thead th {\n",
              "        text-align: right;\n",
              "    }\n",
              "</style>\n",
              "<table border=\"1\" class=\"dataframe\">\n",
              "  <thead>\n",
              "    <tr style=\"text-align: right;\">\n",
              "      <th></th>\n",
              "      <th>Id</th>\n",
              "      <th>Text</th>\n",
              "      <th>Class</th>\n",
              "      <th>Filtered_sentence</th>\n",
              "    </tr>\n",
              "  </thead>\n",
              "  <tbody>\n",
              "    <tr>\n",
              "      <th>0</th>\n",
              "      <td>0</td>\n",
              "      <td>දින ඒකාබද්ධ විපක්ෂයේ මාධ්‍ය ලේකම් රේණුක පෙරේරා මහතාගේ නිවේදනයට අදාාලව අමිත් වීරසිංහ කල මාධ්‍ය සාකච්ඡාව…</td>\n",
              "      <td>Political</td>\n",
              "      <td>දින එකාබද්ධ විපක්ෂ මාධ්‍ ලේක රේනුක පෙරේර මහත නිවේදනය අදාාල අමි වීරසිංහ කල මාධ්‍ සාකච්චාව…</td>\n",
              "    </tr>\n",
              "    <tr>\n",
              "      <th>1</th>\n",
              "      <td>1</td>\n",
              "      <td>මා UNP හෝ ඒකාබද්ධ විපක්ෂය මගින් හෝ දැනට පවතින කිසිම පක්ෂයකින් ඡන්දයකට ඉදිරිපත් වෙනවා කියා නැ ඒකාබද්ධ විපක්ෂය වැනි වි…</td>\n",
              "      <td>Political</td>\n",
              "      <td>මා එක්සත් ජාතික පක්ෂ එකාබද්ධ විපක්ෂ පවති කිසි පක්ෂ චන්දයක ඉදිරිප වෙ කි නැ එකාබද්ධ විපක්ෂ වි…</td>\n",
              "    </tr>\n",
              "    <tr>\n",
              "      <th>2</th>\n",
              "      <td>2</td>\n",
              "      <td>කිමද මේ තරම් කොහේදෝ ඇති විදපු ගලක් හා උරන මා මිතුරු පරය</td>\n",
              "      <td>Neutral</td>\n",
              "      <td>කිම තර කොහේද විද ගල උරන මා මිතුර පරය</td>\n",
              "    </tr>\n",
              "    <tr>\n",
              "      <th>3</th>\n",
              "      <td>3</td>\n",
              "      <td>එහෙම කොහොමද උනේ 😂😂 පරය අපිව අයින් කරල නේ 😂</td>\n",
              "      <td>Neutral</td>\n",
              "      <td>එහෙ කොහොම උනේ 😂😂 පරය අපි අය කරල නේ 😂</td>\n",
              "    </tr>\n",
              "    <tr>\n",
              "      <th>4</th>\n",
              "      <td>4</td>\n",
              "      <td>විමලයා ගොනෙක් වගෙ stage එකෙ මෑරෙන්න හදනවා පරය රටට වෑඩක් කරපන් යකො හොරා</td>\n",
              "      <td>Political</td>\n",
              "      <td>විමල ගොන වගෙ  එකෙ මෑරෙ හද පරය රටට වෑඩ කර යකො හොර</td>\n",
              "    </tr>\n",
              "    <tr>\n",
              "      <th>...</th>\n",
              "      <td>...</td>\n",
              "      <td>...</td>\n",
              "      <td>...</td>\n",
              "      <td>...</td>\n",
              "    </tr>\n",
              "    <tr>\n",
              "      <th>1674</th>\n",
              "      <td>1705</td>\n",
              "      <td>පීටීඒ සහ අයිසීසීපීආර් පනත යටතේ වැරදි ලෙස ගොනු කර ඇති විමර්ශන හෝ නඩු ප්‍රමාද වීම පිළිබඳව ඔබ සතුටු නොවන්නේ නම් කරුණාකර මුහීඩ් ජීරාන් මානව හිමිකම් ක්‍රියාකාරික වෙත දන්වන්න</td>\n",
              "      <td>Racist</td>\n",
              "      <td>පීටීඑ අයිසීසීපීඅර පනත යටත වැරදි ගො කර විමර්ෂ නඩු ප්‍රමා වීම ඔබ සතුට නොව කරුනාකර මුහීඩ ජීරා මාන හිමික ක්‍රියාකාරික දන්ව</td>\n",
              "    </tr>\n",
              "    <tr>\n",
              "      <th>1675</th>\n",
              "      <td>1706</td>\n",
              "      <td>අරාබි රටවල් මුස්ලිම් නොවන සඳහා සුපිරි වෙළඳසැල් වල තිබුණු ඌරු මස් අවසර ඇත මනුෂ්‍යත්වයට ගරු කරන්න</td>\n",
              "      <td>Racist</td>\n",
              "      <td>අරාබි රට මුස්ලි නොව සුපිරි වෙලදසැල වල තිබ උරු මස් අවසර ඇත මනුෂ්‍යත්වය ගරු කර</td>\n",
              "    </tr>\n",
              "    <tr>\n",
              "      <th>1676</th>\n",
              "      <td>1707</td>\n",
              "      <td>හැවිරිදි මුස්ලිම් පිරිමි ළමයෙක් ඉස්ලාම් භීතිකාවේ ඉලක්කය බවට පත්වූ අතර ගෝලීය විවෘත රජයේ සමුළු අවස්ථාව සඳහා ඔහුගේ නියෝජනය විනාශ විය</td>\n",
              "      <td>Racist</td>\n",
              "      <td>හැවිරිදි මුස්ලි පිරි ලමය ඉස්ලා බීතික ඉලක්ක පත්ව ගෝල විවෘත රජ සමුල අවස්ථා ඔහු නියෝජන විනාෂ විය</td>\n",
              "    </tr>\n",
              "    <tr>\n",
              "      <th>1677</th>\n",
              "      <td>1708</td>\n",
              "      <td>ශ්‍රී ලංකාවේ මුස්ලිම් ප්‍රජාව වෙත එල්ල කරන දේශපාලන හා ආගමික පීඩනය සම්බන්ධයෙන් යුරෝපා සංගමයේ ඒකාබද්ධ ප්‍රකාශය</td>\n",
              "      <td>Racist</td>\n",
              "      <td>ලංක මුස්ලි ප්‍රජා එල් කරන දේෂපාල අගමික පීඩන සම්බන්ධ යුරෝප සංගම එකාබද්ධ ප්‍රකාෂ</td>\n",
              "    </tr>\n",
              "    <tr>\n",
              "      <th>1678</th>\n",
              "      <td>1709</td>\n",
              "      <td>රාජ්‍ය අංශයේ කාන්තා ඇඳුම් පැළඳුම් සංග්‍රහය පිළිබඳ  දිනැති පබ්අඩ් චක්‍රලේඛ අංක  පාලනය කරන අගමැති කාර්යාලයේ ලිපිය</td>\n",
              "      <td>Racist</td>\n",
              "      <td>රාජ්‍ අංෂ කාන්ත ඇද පැලද සංග්‍රහ දිනැ පබ්අඩ චක්‍රලේක අංක පාලන කරන අගමැ කාර්යාල ලි</td>\n",
              "    </tr>\n",
              "  </tbody>\n",
              "</table>\n",
              "<p>1678 rows × 4 columns</p>\n",
              "</div>"
            ],
            "text/plain": [
              "        Id  ...                                                                                                       Filtered_sentence\n",
              "0     0     ...  දින එකාබද්ධ විපක්ෂ මාධ්‍ ලේක රේනුක පෙරේර මහත නිවේදනය අදාාල අමි වීරසිංහ කල මාධ්‍ සාකච්චාව…                             \n",
              "1     1     ...  මා එක්සත් ජාතික පක්ෂ එකාබද්ධ විපක්ෂ පවති කිසි පක්ෂ චන්දයක ඉදිරිප වෙ කි නැ එකාබද්ධ විපක්ෂ වි…                          \n",
              "2     2     ...  කිම තර කොහේද විද ගල උරන මා මිතුර පරය                                                                                  \n",
              "3     3     ...  එහෙ කොහොම උනේ 😂😂 පරය අපි අය කරල නේ 😂                                                                                  \n",
              "4     4     ...  විමල ගොන වගෙ  එකෙ මෑරෙ හද පරය රටට වෑඩ කර යකො හොර                                                                      \n",
              "...  ..     ...                                               ...                                                                      \n",
              "1674  1705  ...  පීටීඑ අයිසීසීපීඅර පනත යටත වැරදි ගො කර විමර්ෂ නඩු ප්‍රමා වීම ඔබ සතුට නොව කරුනාකර මුහීඩ ජීරා මාන හිමික ක්‍රියාකාරික දන්ව\n",
              "1675  1706  ...  අරාබි රට මුස්ලි නොව සුපිරි වෙලදසැල වල තිබ උරු මස් අවසර ඇත මනුෂ්‍යත්වය ගරු කර                                          \n",
              "1676  1707  ...  හැවිරිදි මුස්ලි පිරි ලමය ඉස්ලා බීතික ඉලක්ක පත්ව ගෝල විවෘත රජ සමුල අවස්ථා ඔහු නියෝජන විනාෂ විය                         \n",
              "1677  1708  ...  ලංක මුස්ලි ප්‍රජා එල් කරන දේෂපාල අගමික පීඩන සම්බන්ධ යුරෝප සංගම එකාබද්ධ ප්‍රකාෂ                                        \n",
              "1678  1709  ...  රාජ්‍ අංෂ කාන්ත ඇද පැලද සංග්‍රහ දිනැ පබ්අඩ චක්‍රලේක අංක පාලන කරන අගමැ කාර්යාල ලි                                      \n",
              "\n",
              "[1678 rows x 4 columns]"
            ]
          },
          "metadata": {
            "tags": []
          },
          "execution_count": 55
        }
      ]
    },
    {
      "cell_type": "code",
      "metadata": {
        "id": "h67E3FtwnvG0"
      },
      "source": [
        "class_to_num = {\"Class\": {'Religion': 5,\n",
        "                'Racist': 4,\n",
        "                'Political': 3,\n",
        "                'sports':2,\n",
        "                'Sexism': 1,\n",
        "                'Neutral': 0\n",
        "                }}\n",
        "\n",
        "dataset = dataset.replace(class_to_num)"
      ],
      "execution_count": null,
      "outputs": []
    },
    {
      "cell_type": "code",
      "metadata": {
        "colab": {
          "base_uri": "https://localhost:8080/"
        },
        "id": "R4ThKTmbm466",
        "outputId": "f24d71f6-e325-405c-a25d-e5bb513b59e8"
      },
      "source": [
        "print(\"number of tweets belonging to classes 0,1,2,3,4, and 5\")\n",
        "dataset.groupby('Class')['Id'].nunique()"
      ],
      "execution_count": null,
      "outputs": [
        {
          "output_type": "stream",
          "text": [
            "number of tweets belonging to classes 0,1,2,3,4, and 5\n"
          ],
          "name": "stdout"
        },
        {
          "output_type": "execute_result",
          "data": {
            "text/plain": [
              "Class\n",
              "0    943\n",
              "1    146\n",
              "2    146\n",
              "3    148\n",
              "4    146\n",
              "5    149\n",
              "Name: Id, dtype: int64"
            ]
          },
          "metadata": {
            "tags": []
          },
          "execution_count": 57
        }
      ]
    },
    {
      "cell_type": "code",
      "metadata": {
        "colab": {
          "base_uri": "https://localhost:8080/",
          "height": 309
        },
        "id": "Z0bJu42Hnc7e",
        "outputId": "646a626c-2905-427e-dc34-636e2d01c398"
      },
      "source": [
        "dataset.groupby('Class')['Text'].nunique().plot(kind='bar',title='Plot of number of tweets belonging to a particular class')"
      ],
      "execution_count": null,
      "outputs": [
        {
          "output_type": "execute_result",
          "data": {
            "text/plain": [
              "<matplotlib.axes._subplots.AxesSubplot at 0x7fc8f31ca310>"
            ]
          },
          "metadata": {
            "tags": []
          },
          "execution_count": 58
        },
        {
          "output_type": "display_data",
          "data": {
            "image/png": "[encoded data removed]",
            "text/plain": [
              "<Figure size 432x288 with 1 Axes>"
            ]
          },
          "metadata": {
            "tags": [],
            "needs_background": "light"
          }
        }
      ]
    },
    {
      "cell_type": "markdown",
      "metadata": {
        "id": "SO3AdExQpsNZ"
      },
      "source": [
        "\n",
        "Word2Vec model to get the word embedings"
      ]
    },
    {
      "cell_type": "code",
      "metadata": {
        "id": "zdKndzWqoits"
      },
      "source": [
        "model = Word2Vec(dataset[\"Filtered_sentence\"].values, size=50, window=5, min_count=1, workers=4)"
      ],
      "execution_count": null,
      "outputs": []
    },
    {
      "cell_type": "code",
      "metadata": {
        "id": "_kTkLb3Uo-39"
      },
      "source": [
        "def get_features(tweet):\n",
        "    features=[]\n",
        "    for word in tweet:\n",
        "        features.append(model.wv[word])\n",
        "    return np.mean(features,0)"
      ],
      "execution_count": null,
      "outputs": []
    },
    {
      "cell_type": "code",
      "metadata": {
        "id": "bErLa3i5pEFh"
      },
      "source": [
        "dataset[\"features\"]=dataset[\"Filtered_sentence\"].apply(get_features)"
      ],
      "execution_count": null,
      "outputs": []
    },
    {
      "cell_type": "code",
      "metadata": {
        "id": "Xqtdmx09pKzh"
      },
      "source": [
        "data=[]\n",
        "for i in dataset[\"features\"].values:\n",
        "    temp=[]\n",
        "    for j in i:\n",
        "        temp.append(j)\n",
        "    data.append(temp)\n",
        "data=np.array(data)"
      ],
      "execution_count": null,
      "outputs": []
    },
    {
      "cell_type": "code",
      "metadata": {
        "id": "EAbyDBH7pMui"
      },
      "source": [
        "from sklearn.preprocessing import label_binarize\n",
        "\n",
        "Y = label_binarize(dataset[\"Class\"].values, classes=[0, 1, 2, 3, 4, 5])\n",
        "n_classes = Y.shape[1]\n",
        "X_train, X_test, y_train, y_test = train_test_split(data, Y, test_size=0.2, random_state=42)"
      ],
      "execution_count": null,
      "outputs": []
    },
    {
      "cell_type": "code",
      "metadata": {
        "colab": {
          "base_uri": "https://localhost:8080/"
        },
        "id": "HER7feWMpeaw",
        "outputId": "396e8bcd-405e-4d80-f0a2-2942f1163834"
      },
      "source": [
        "print(X_train)\n",
        "print(y_train)"
      ],
      "execution_count": null,
      "outputs": [
        {
          "output_type": "stream",
          "text": [
            "[[-0.48038784  0.00603433  0.07503639 ...  0.5618351  -0.04633687\n",
            "   0.29580027]\n",
            " [-0.45782697  0.02173215  0.13203649 ...  0.6336125  -0.03365313\n",
            "   0.30353114]\n",
            " [-0.4495161   0.0431888   0.15639696 ...  0.65891653 -0.0252911\n",
            "   0.3071924 ]\n",
            " ...\n",
            " [-0.4866788   0.0334675   0.12906308 ...  0.597431   -0.03538546\n",
            "   0.3244484 ]\n",
            " [-0.45314974  0.02265581  0.13145736 ...  0.6290299  -0.03559886\n",
            "   0.30098012]\n",
            " [-0.44710338  0.03000933  0.16143365 ...  0.6611732  -0.02890483\n",
            "   0.30125555]]\n",
            "[[1 0 0 0 0 0]\n",
            " [1 0 0 0 0 0]\n",
            " [0 0 0 0 1 0]\n",
            " ...\n",
            " [1 0 0 0 0 0]\n",
            " [0 0 0 0 0 1]\n",
            " [1 0 0 0 0 0]]\n"
          ],
          "name": "stdout"
        }
      ]
    },
    {
      "cell_type": "markdown",
      "metadata": {
        "id": "LCjjwoD1pl-D"
      },
      "source": [
        "LOGISTIC REGRESSION MODEL"
      ]
    },
    {
      "cell_type": "code",
      "metadata": {
        "id": "UQw-sB9eplpN"
      },
      "source": [
        "from sklearn.linear_model import LogisticRegression\n",
        "from sklearn.multiclass import OneVsRestClassifier\n",
        "from sklearn import svm\n",
        "from sklearn.metrics import f1_score\n",
        "from sklearn.metrics import recall_score\n",
        "from sklearn.metrics import precision_score\n",
        "from sklearn.metrics import precision_recall_curve\n",
        "import matplotlib.pyplot as plt\n",
        "import warnings\n",
        "warnings.filterwarnings('ignore')"
      ],
      "execution_count": null,
      "outputs": []
    },
    {
      "cell_type": "code",
      "metadata": {
        "colab": {
          "base_uri": "https://localhost:8080/",
          "height": 362
        },
        "id": "jj0vGd1QBvCc",
        "outputId": "5336f4de-b140-40d5-9fbd-b5b4defbd931"
      },
      "source": [
        "lr_clf = OneVsRestClassifier(LogisticRegression(random_state=0, solver='lbfgs',multi_class='multinomial'))\n",
        "lr_clf.fit(X_train,y_train)\n",
        "y_pred = lr_clf.predict(X_test)\n",
        "f = f1_score(y_test, y_pred, average='micro')\n",
        "print(\"F1 Score: \", f)\n",
        "p = precision_score(y_test, y_pred, average='micro')\n",
        "print(\"Precision Score: \", p)\n",
        "r = recall_score(y_test, y_pred, average='micro')\n",
        "print(\"Recall Score: \", r)\n",
        "print(\"Accuracy: \", lr_clf.score(X_test,y_test))\n",
        "\n",
        "y_score = lr_clf.predict_proba(X_test)\n",
        "precision = dict()\n",
        "recall = dict()\n",
        "for i in range(n_classes):\n",
        "    precision[i], recall[i], _ = precision_recall_curve(y_test[:, i],\n",
        "                                                        y_score[:, i])\n",
        "    plt.plot(recall[i], precision[i], lw=2, label='class {}'.format(i))\n",
        "\n",
        "plt.xlabel(\"Recall\")\n",
        "plt.ylabel(\"Precision\")\n",
        "plt.legend(loc = \"best\")\n",
        "plt.title(\"Precision vs. Recall curve - LogisticRegression\")\n",
        "plt.show()"
      ],
      "execution_count": null,
      "outputs": [
        {
          "output_type": "stream",
          "text": [
            "F1 Score:  0.5530434782608696\n",
            "Precision Score:  0.6652719665271967\n",
            "Recall Score:  0.4732142857142857\n",
            "Accuracy:  0.4732142857142857\n"
          ],
          "name": "stdout"
        },
        {
          "output_type": "display_data",
          "data": {
            "image/png": "[encoded data removed]",
            "text/plain": [
              "<Figure size 432x288 with 1 Axes>"
            ]
          },
          "metadata": {
            "tags": [],
            "needs_background": "light"
          }
        }
      ]
    },
    {
      "cell_type": "markdown",
      "metadata": {
        "id": "2wfWbtV-CJ4T"
      },
      "source": [
        "SVM MODEL"
      ]
    },
    {
      "cell_type": "code",
      "metadata": {
        "colab": {
          "base_uri": "https://localhost:8080/",
          "height": 362
        },
        "id": "uPn0u0kpCLU7",
        "outputId": "ae3455b8-9ce8-4aaf-c1c3-aae4f914f93e"
      },
      "source": [
        "svm_clf = OneVsRestClassifier(svm.SVC(gamma='scale', probability=True))\n",
        "svm_clf.fit(X_train,y_train)\n",
        "y_pred = svm_clf.predict(X_test)\n",
        "f = f1_score(y_test, y_pred, average='micro')\n",
        "print(\"F1 Score: \", f)\n",
        "p = precision_score(y_test, y_pred, average='micro')\n",
        "print(\"Precision Score: \", p)\n",
        "r = recall_score(y_test, y_pred, average='micro')\n",
        "print(\"Recall Score: \", r)\n",
        "print(\"Accuracy: \", svm_clf.score(X_test,y_test))\n",
        "\n",
        "y_score = svm_clf.predict_proba(X_test)\n",
        "precision = dict()\n",
        "recall = dict()\n",
        "for i in range(n_classes):\n",
        "    precision[i], recall[i], _ = precision_recall_curve(y_test[:, i],\n",
        "                                                        y_score[:, i])\n",
        "    plt.plot(recall[i], precision[i], lw=2, label='class {}'.format(i))\n",
        "\n",
        "plt.xlabel(\"Recall\")\n",
        "plt.ylabel(\"Precision\")\n",
        "plt.legend(loc = \"center right\")\n",
        "plt.title(\"Precision vs. Recall curve - SVM\")\n",
        "plt.show()"
      ],
      "execution_count": null,
      "outputs": [
        {
          "output_type": "stream",
          "text": [
            "F1 Score:  0.5606837606837607\n",
            "Precision Score:  0.6586345381526104\n",
            "Recall Score:  0.4880952380952381\n",
            "Accuracy:  0.4880952380952381\n"
          ],
          "name": "stdout"
        },
        {
          "output_type": "display_data",
          "data": {
            "image/png": "[encoded data removed]",
            "text/plain": [
              "<Figure size 432x288 with 1 Axes>"
            ]
          },
          "metadata": {
            "tags": [],
            "needs_background": "light"
          }
        }
      ]
    },
    {
      "cell_type": "markdown",
      "metadata": {
        "id": "pvJoN2DgF8CF"
      },
      "source": [
        "Random Forest"
      ]
    },
    {
      "cell_type": "code",
      "metadata": {
        "id": "BwUxFd31HoTi"
      },
      "source": [
        "from sklearn import model_selection, preprocessing, linear_model, naive_bayes, metrics, svm\n",
        "from sklearn.feature_extraction.text import TfidfVectorizer, CountVectorizer\n",
        "from sklearn import decomposition, ensemble\n",
        "\n",
        "import pandas, xgboost, numpy, textblob, string\n",
        "from keras.preprocessing import text, sequence\n",
        "from keras import layers, models, optimizers\n"
      ],
      "execution_count": null,
      "outputs": []
    },
    {
      "cell_type": "code",
      "metadata": {
        "colab": {
          "base_uri": "https://localhost:8080/",
          "height": 362
        },
        "id": "lJG-NqIQF_DE",
        "outputId": "711298a6-4ba4-45ad-ddeb-5606e2cf5e05"
      },
      "source": [
        "RF_clf = OneVsRestClassifier(ensemble.RandomForestClassifier())\n",
        "RF_clf.fit(X_train,y_train)\n",
        "y_pred = RF_clf.predict(X_test)\n",
        "f = f1_score(y_test, y_pred, average='micro')\n",
        "print(\"F1 Score: \", f)\n",
        "p = precision_score(y_test, y_pred, average='micro')\n",
        "print(\"Precision Score: \", p)\n",
        "r = recall_score(y_test, y_pred, average='micro')\n",
        "print(\"Recall Score: \", r)\n",
        "print(\"Accuracy: \", RF_clf.score(X_test,y_test))\n",
        "\n",
        "y_score = RF_clf.predict_proba(X_test)\n",
        "precision = dict()\n",
        "recall = dict()\n",
        "for i in range(n_classes):\n",
        "    precision[i], recall[i], _ = precision_recall_curve(y_test[:, i],\n",
        "                                                        y_score[:, i])\n",
        "    plt.plot(recall[i], precision[i], lw=2, label='class {}'.format(i))\n",
        "\n",
        "plt.xlabel(\"Recall\")\n",
        "plt.ylabel(\"Precision\")\n",
        "plt.legend(loc = \"center right\")\n",
        "plt.title(\"Precision vs. Recall curve - Random Forest\")\n",
        "plt.show()"
      ],
      "execution_count": null,
      "outputs": [
        {
          "output_type": "stream",
          "text": [
            "F1 Score:  0.5683836589698046\n",
            "Precision Score:  0.7048458149779736\n",
            "Recall Score:  0.47619047619047616\n",
            "Accuracy:  0.47619047619047616\n"
          ],
          "name": "stdout"
        },
        {
          "output_type": "display_data",
          "data": {
            "image/png": "[encoded data removed]",
            "text/plain": [
              "<Figure size 432x288 with 1 Axes>"
            ]
          },
          "metadata": {
            "tags": [],
            "needs_background": "light"
          }
        }
      ]
    },
    {
      "cell_type": "markdown",
      "metadata": {
        "id": "kHwx1P3HZIyE"
      },
      "source": [
        "KNN"
      ]
    },
    {
      "cell_type": "code",
      "metadata": {
        "colab": {
          "base_uri": "https://localhost:8080/",
          "height": 362
        },
        "id": "s6UGmAXZZIN1",
        "outputId": "8b93e97f-383b-4952-c525-1ab10690833e"
      },
      "source": [
        "KNN_clf = OneVsRestClassifier(KNeighborsClassifier(n_neighbors=25, p=6,metric='euclidean'))\n",
        "KNN_clf.fit(X_train,y_train)\n",
        "y_pred = KNN_clf.predict(X_test)\n",
        "f = f1_score(y_test, y_pred, average='micro')\n",
        "print(\"F1 Score: \", f)\n",
        "p = precision_score(y_test, y_pred, average='micro')\n",
        "print(\"Precision Score: \", p)\n",
        "r = recall_score(y_test, y_pred, average='micro')\n",
        "print(\"Recall Score: \", r)\n",
        "print(\"Accuracy: \", KNN_clf.score(X_test,y_test))\n",
        "\n",
        "y_score = KNN_clf.predict_proba(X_test)\n",
        "precision = dict()\n",
        "recall = dict()\n",
        "for i in range(n_classes):\n",
        "    precision[i], recall[i], _ = precision_recall_curve(y_test[:, i],\n",
        "                                                        y_score[:, i])\n",
        "    plt.plot(recall[i], precision[i], lw=2, label='class {}'.format(i))\n",
        "\n",
        "plt.xlabel(\"Recall\")\n",
        "plt.ylabel(\"Precision\")\n",
        "plt.legend(loc = \"center right\")\n",
        "plt.title(\"Precision vs. Recall curve - K-NN\")\n",
        "plt.show()"
      ],
      "execution_count": null,
      "outputs": [
        {
          "output_type": "stream",
          "text": [
            "F1 Score:  0.552584670231729\n",
            "Precision Score:  0.6888888888888889\n",
            "Recall Score:  0.46130952380952384\n",
            "Accuracy:  0.46130952380952384\n"
          ],
          "name": "stdout"
        },
        {
          "output_type": "display_data",
          "data": {
            "image/png": "[encoded data removed]",
            "text/plain": [
              "<Figure size 432x288 with 1 Axes>"
            ]
          },
          "metadata": {
            "tags": [],
            "needs_background": "light"
          }
        }
      ]
    },
    {
      "cell_type": "markdown",
      "metadata": {
        "id": "A0h4OlSEeoIA"
      },
      "source": [
        "Tfidf, Multinominal -feature extraction"
      ]
    },
    {
      "cell_type": "code",
      "metadata": {
        "id": "ZLIs3N3seo-s"
      },
      "source": [
        "X_train, X_test, y_train, y_test = train_test_split(dataset.Filtered_sentence, dataset.Class, test_size=0.3)"
      ],
      "execution_count": null,
      "outputs": []
    },
    {
      "cell_type": "code",
      "metadata": {
        "id": "q9QezNxEcrdX"
      },
      "source": [
        "from sklearn.preprocessing import label_binarize\n",
        "\n",
        "Y = label_binarize(dataset[\"Class\"].values, classes=[0, 1, 2, 3, 4, 5])\n",
        "n_classes = Y.shape[1]\n"
      ],
      "execution_count": null,
      "outputs": []
    },
    {
      "cell_type": "code",
      "metadata": {
        "colab": {
          "base_uri": "https://localhost:8080/"
        },
        "id": "mrexDNcdfYlf",
        "outputId": "1c72e492-fd51-4043-f334-86327f1de0b7"
      },
      "source": [
        "vectorizer = TfidfVectorizer()\n",
        "X_train = vectorizer.fit_transform(X_train)\n",
        "X_test = vectorizer.transform(X_test)\n",
        "\n",
        "model = MultinomialNB()\n",
        "model.fit(X_train, y_train)\n",
        "predictions = model.predict(X_test)\n",
        "print('Accuracy: ', accuracy_score(y_test.astype(str), predictions.astype(str)) * 100)"
      ],
      "execution_count": null,
      "outputs": [
        {
          "output_type": "stream",
          "text": [
            "Accuracy:  56.74603174603175\n"
          ],
          "name": "stdout"
        }
      ]
    },
    {
      "cell_type": "code",
      "metadata": {
        "colab": {
          "base_uri": "https://localhost:8080/"
        },
        "id": "Jq3tR5Z8j5WY",
        "outputId": "2d917d26-b130-4f80-d25d-a21209d64ab1"
      },
      "source": [
        "print (vectorizer.vocabulary_)"
      ],
      "execution_count": null,
      "outputs": [
        {
          "output_type": "stream",
          "text": [
            "{'එඩ': 188, 'පස': 539, 'ගව': 318, 'එන': 193, 'අප': 38, 'එනවල': 195, 'අය': 50, 'කර': 265, 'යම': 639, 'අද': 25, 'වක': 736, 'සද': 817, 'තන': 395, 'රන': 681, 'සල': 842, 'පහල': 544, 'අවස': 71, 'නය': 480, 'ටඩ': 355, 'ෂප': 797, 'සමහර': 833, 'උන': 149, 'ගහන': 326, 'තර': 401, 'ඩක': 368, 'ඇෆ': 110, 'ගන': 304, 'දවස': 441, 'තරග': 403, 'මහ': 609, 'ජපක': 344, 'නකර': 459, 'ඉඩ': 114, 'බන': 558, 'කට': 244, 'එක': 171, 'එකක': 174, 'සප': 823, 'රට': 672, 'යල': 646, 'කරදර': 271, 'අරක': 56, 'දම': 431, 'අස': 75, 'එකම': 182, 'එකට': 176, 'නත': 466, 'සම': 827, 'දන': 427, 'වහන': 784, 'ඔබ': 224, 'ගලවන': 317, 'කප': 258, 'පක': 500, 'ජව': 353, 'කය': 264, 'කම': 260, 'පලව': 534, 'පය': 522, 'අහ': 79, 'ජන': 337, 'තය': 400, 'හන': 868, 'පත': 509, 'මස': 607, 'තබ': 397, 'මහත': 613, 'ඇත': 91, 'දයට': 435, 'එර': 201, 'නක': 458, 'ඇද': 95, 'අත': 18, 'හතර': 861, 'ගහග': 322, 'වන': 754, 'ඉද': 117, 'ලබන': 724, 'පන': 512, 'ඩය': 377, 'ලස': 735, 'වර': 765, 'එල': 202, 'වල': 771, 'ඔබව': 228, 'කල': 283, 'කන': 255, 'කරග': 267, 'කටකත': 245, 'තම': 398, 'ඔබට': 225, 'ඉල': 128, 'නල': 489, 'රය': 690, 'දස': 443, 'වසර': 780, 'සමර': 831, 'අගරදග': 9, 'උත': 146, 'එම': 198, 'එද': 191, 'දර': 436, 'ඇව': 107, 'ඇන': 98, 'ජර': 352, 'මල': 604, 'ඇස': 108, 'එස': 209, 'බල': 565, 'මන': 595, 'වයස': 763, 'හම': 871, 'අවද': 66, 'යව': 648, 'ඔම': 230, 'නම': 475, 'නමහහ': 479, 'එකය': 183, 'එප': 196, 'ඉවරය': 133, 'ගහ': 321, 'නස': 497, 'මඩ': 589, 'නව': 490, 'යක': 621, 'ඔක': 211, 'අව': 64, 'රද': 679, 'එව': 206, 'රස': 701, 'තමන': 399, 'අගම': 6, 'වට': 745, 'කමබක': 262, 'අන': 33, 'ඉස': 136, 'සර': 837, 'කරන': 272, 'අම': 45, 'ෆය': 885, 'ගල': 311, 'කණ': 249, 'පල': 530, 'ඉර': 126, 'පව': 536, 'උනන': 150, 'කක': 239, 'පර': 523, 'ඉන': 121, 'එහ': 210, 'ෆල': 887, 'යනව': 636, 'රගත': 666, 'අඩ': 14, 'ඇම': 101, 'යමප': 642, 'ලන': 719, 'රනව': 682, 'රජග': 670, 'වනව': 757, 'අරම': 61, 'මක': 579, 'ගලද': 313, 'උඩට': 142, 'නමට': 476, 'පමන': 519, 'අපට': 39, 'යය': 644, 'පහක': 541, 'දල': 438, 'කඩ': 247, 'උබල': 159, 'යන': 633, 'කරගත': 268, 'ඉත': 116, 'හර': 873, 'නරක': 486, 'වචන': 742, 'ගලන': 314, 'සදහ': 820, 'උපද': 154, 'ශක': 787, 'බද': 557, 'දනය': 428, 'කච': 241, 'නග': 460, 'කද': 253, 'ෂටර': 792, 'වස': 779, 'ලව': 732, 'රජ': 668, 'ඔව': 233, 'නමස': 478, 'මර': 598, 'ඔය': 231, 'මම': 596, 'අහක': 80, 'බඩ': 552, 'කවද': 289, 'ථක': 418, 'අර': 55, 'පනත': 513, 'යටත': 629, 'නඩ': 464, 'රම': 687, 'සත': 816, 'රෂ': 700, 'ටල': 362, 'මත': 591, 'අමතර': 49, 'සට': 813, 'අක': 1, 'ඉම': 124, 'උපන': 155, 'නහ': 498, 'අදර': 27, 'රත': 676, 'මද': 594, 'ජනත': 338, 'ලඥය': 714, 'දට': 423, 'ඇතඔව': 93, 'ඇතඔ': 92, 'මහනත': 615, 'කත': 250, 'වග': 740, 'සක': 806, 'මඩකලප': 590, 'අධ': 32, 'චන': 332, 'රක': 660, 'අවසර': 72, 'ධය': 455, 'කලහ': 287, 'මට': 585, 'අසව': 78, 'ලග': 713, 'රවය': 697, 'සයජ': 836, 'සහ': 846, 'දරය': 437, 'අයතන': 53, 'වලද': 775, 'එය': 199, 'අවහ': 73, 'ටය': 360, 'දහස': 448, 'එත': 189, 'හද': 863, 'ෂය': 798, 'ජනපද': 341, 'ලක': 708, 'යප': 638, 'ජෂ': 354, 'සන': 821, 'ඩහ': 386, 'සහභ': 851, 'ටත': 356, 'පලස': 535, 'හලයන': 878, 'කලග': 284, 'මතක': 592, 'මකබ': 581, 'වම': 760, 'අපර': 42, 'කමල': 263, 'ෂක': 790, 'රධ': 680, 'තව': 409, 'දය': 432, 'අදහස': 31, 'උස': 167, 'නන': 470, 'වකයන': 739, 'වද': 750, 'අෂ': 74, 'ලය': 729, 'තහද': 414, 'දහ': 445, 'මචන': 584, 'උඩද': 144, 'ඇහ': 109, 'ෆව': 888, 'යත': 631, 'අගය': 8, 'රටට': 674, 'අදයම': 26, 'ධන': 453, 'අදහ': 30, 'බක': 546, 'කටය': 246, 'බය': 561, 'තත': 393, 'තවයක': 412, 'ඔන': 220, 'කරපන': 279, 'උබ': 157, 'සරහ': 841, 'ලබ': 723, 'නගර': 462, 'රජය': 671, 'යවර': 651, 'නවර': 494, 'ගත': 301, 'ඔහ': 237, 'අනත': 34, 'යහම': 657, 'ඉඩම': 115, 'ඔකට': 213, 'ඇබ': 100, 'උඩ': 141, 'උබට': 158, 'වකට': 737, 'වලට': 773, 'මග': 582, 'වලටත': 774, 'අග': 4, 'ෂයක': 799, 'රව': 694, 'හක': 854, 'පවස': 538, 'එතක': 190, 'චර': 334, 'වරන': 768, 'උඩව': 145, 'ගම': 306, 'දග': 421, 'ගහව': 328, 'යද': 632, 'වටලප': 747, 'සමන': 830, 'නවන': 493, 'ඉට': 113, 'රබ': 685, 'උද': 147, 'තකට': 389, 'තක': 388, 'ගර': 310, 'වසරක': 781, 'වරට': 766, 'අල': 63, 'ලද': 716, 'ලත': 715, 'ෂන': 795, 'සය': 834, 'රල': 693, 'හත': 860, 'සබ': 826, 'වඩ': 748, 'හකක': 855, 'බකට': 547, 'වත': 749, 'මරන': 601, 'දඬ': 425, 'ගතව': 302, 'අවෂ': 70, 'අබ': 44, 'ලනස': 721, 'රපඉල': 684, 'රප': 683, 'නප': 472, 'තහන': 415, 'නබ': 474, 'දව': 440, 'නර': 485, 'වනය': 756, 'හල': 876, 'සකල': 808, 'ඔච': 216, 'බම': 560, 'ඇර': 105, 'ඉවර': 132, 'කරල': 282, 'නනව': 471, 'අතල': 22, 'පරප': 526, 'එලව': 204, 'සකම': 807, 'වහ': 783, 'පනප': 514, 'අතට': 20, 'ජයග': 349, 'රහන': 704, 'යකත': 623, 'අතහ': 24, 'බලන': 569, 'තහ': 413, 'ෂල': 803, 'යට': 628, 'සසර': 845, 'බස': 577, 'ජය': 348, 'ජයස': 351, 'පඩය': 507, 'කඑක': 238, 'ඉබල': 123, 'ඉදග': 119, 'ෂර': 802, 'කරගන': 269, 'ගට': 299, 'බහ': 578, 'රමස': 689, 'වලක': 772, 'ඉය': 125, 'කවරනයක': 293, 'නවඅම': 491, 'නයග': 482, 'මරක': 599, 'නවත': 492, 'රහ': 703, 'හය': 872, 'ඇට': 89, 'ගහද': 325, 'යහල': 659, 'තට': 391, 'වය': 762, 'අසරන': 77, 'ගලය': 315, 'සමග': 828, 'ඔල': 232, 'උල': 164, 'දගත': 422, 'වමන': 761, 'කව': 288, 'අකන': 2, 'කජ': 243, 'ජනප': 339, 'දද': 426, 'බර': 562, 'ඇල': 106, 'යටලමත': 630, 'ලධ': 718, 'එදන': 192, 'ලමක': 727, 'ඔප': 223, 'සඩන': 815, 'එච': 184, 'කහ': 296, 'අගමජ': 7, 'තරක': 402, 'නතර': 467, 'ලමය': 728, 'ෂනය': 796, 'උග': 138, 'එජ': 185, 'ඔත': 218, 'ඉබ': 122, 'සව': 844, 'යහමග': 658, 'කගන': 240, 'ගය': 308, 'යවස': 652, 'හස': 880, 'කථ': 251, 'දක': 420, 'අයඅ': 51, 'බලග': 566, 'සහත': 849, 'අවබ': 68, 'පමනක': 520, 'ඉලක': 129, 'වරනය': 769, 'එකත': 177, 'ඩට': 371, 'රවස': 699, 'පරය': 529, 'දහසය': 450, 'බලය': 572, 'අවනත': 67, 'සරන': 838, 'එකග': 175, 'කලය': 286, 'ෂෆ': 805, 'රහස': 705, 'වරය': 770, 'සමත': 829, 'බලව': 573, 'රකඑප': 661, 'තකහන': 390, 'මහන': 614, 'ඩප': 375, 'ඩඅබයත': 367, 'දලද': 439, 'පබ': 517, 'චක': 330, 'අනබ': 36, 'බවනයත': 576, 'වජ': 744, 'රග': 665, 'සටහ': 814, 'එලවල': 205, 'ගප': 305, 'මහග': 611, 'බඩප': 555, 'ගයක': 309, 'බව': 575, 'බඩග': 553, 'රටක': 673, 'එකප': 181, 'පඩර': 508, 'තරගය': 404, 'යමකට': 641, 'ඉදක': 118, 'ඇදග': 96, 'ලඔබ': 707, 'අදරය': 29, 'අදරන': 28, 'සගය': 811, 'පරද': 524, 'ටන': 357, 'ඔබවහන': 229, 'උගන': 139, 'යවන': 649, 'රකථ': 662, 'දයක': 434, 'රබලන': 686, 'උප': 151, 'උපර': 156, 'යනක': 634, 'යහප': 656, 'කරනය': 273, 'බලප': 570, 'ලකර': 712, 'සකස': 809, 'කරනව': 274, 'මච': 583, 'ගස': 320, 'හඩ': 859, 'ඔකම': 215, 'ඉක': 111, 'වප': 758, 'රගන': 667, 'අමතකන': 48, 'අපහ': 43, 'සහර': 853, 'හලය': 877, 'අමත': 46, 'නට': 463, 'යකර': 625, 'මය': 597, 'සරලව': 840, 'ඇතච': 94, 'නයට': 483, 'අපතයන': 41, 'ඩර': 381, 'හච': 857, 'රතන': 677, 'තල': 408, 'ජපන': 345, 'ඇමර': 103, 'ලවයස': 733, 'ඇග': 88, 'මව': 606, 'වදද': 751, 'මරද': 600, 'ඇයට': 104, 'තවම': 411, 'උර': 163, 'මලල': 605, 'ලරත': 730, 'යඔහ': 620, 'බකඩ': 548, 'පකර': 502, 'එවර': 208, 'පද': 511, 'ලකන': 709, 'මරල': 603, 'චය': 333, 'ශනවලද': 789, 'පළ': 545, 'පටන': 504, 'ටර': 361, 'ෆන': 884, 'ගමන': 307, 'ජනවන': 343, 'ජයගන': 350, 'යමසමග': 643, 'බබ': 559, 'ජම': 347, 'රයන': 691, 'උබලග': 160, 'කරප': 278, 'පරම': 528, 'බකර': 549, 'තරය': 406, 'එකඑක': 173, 'යමක': 640, 'සදග': 818, 'ඩකර': 370, 'සරයල': 839, 'කනග': 256, 'ගද': 303, 'ශන': 788, 'ළඹ': 883, 'අටල': 13, 'අඬ': 17, 'ෂකවර': 791, 'ටහ': 366, 'කරනවමන': 276, 'ඔසද': 236, 'ඩකය': 369, 'සහබ': 850, 'අටක': 12, 'පවත': 537, 'සහය': 852, 'කථන': 252, 'ඉහල': 137, 'නපත': 473, 'ඉග': 112, 'ජක': 335, 'නයධර': 484, 'උපක': 152, 'නද': 468, 'හතරපහ': 862, 'එවන': 207, 'නමප': 477, 'ළමය': 882, 'එට': 187, 'කරය': 281, 'සග': 810, 'රවට': 695, 'අඅඅ': 0, 'ඔවර': 234, 'ඩසටහ': 384, 'ෂෂ': 804, 'මරම': 602, 'අනන': 35, 'පලම': 532, 'සමස': 832, 'බත': 556, 'මකද': 580, 'ඉරනමඩ': 127, 'පලකය': 531, 'ඩඩ': 372, 'එකන': 180, 'හවස': 879, 'ගහත': 324, 'ඉෂ': 135, 'යසඉස': 654, 'පමනමය': 521, 'තපමනක': 396, 'නගන': 461, 'ඔකග': 212, 'දහම': 446, 'ලල': 731, 'වහබ': 785, 'කමට': 261, 'අහවරය': 85, 'යඋබ': 619, 'ඇදල': 97, 'ටප': 358, 'යවනක': 650, 'හප': 870, 'ගහල': 327, 'පරන': 525, 'ටමසර': 359, 'ඔනබ': 221, 'අතගග': 19, 'යස': 653, 'ඩන': 374, 'ඇපල': 99, 'අරග': 57, 'ඔබත': 226, 'අපත': 40, 'ලම': 726, 'හග': 856, 'ගලව': 316, 'තද': 394, 'ධත': 452, 'ඩබල': 376, 'නවල': 495, 'බඩතඩ': 554, 'ගග': 297, 'හඳ': 869, 'සහගත': 847, 'රකර': 664, 'අහග': 81, 'අඩර': 15, 'පහතර': 542, 'වසල': 782, 'වලව': 777, 'යහ': 655, 'ඩයන': 378, 'වයසක': 764, 'ලබමහන': 725, 'උය': 162, 'ටස': 364, 'පහ': 540, 'එනව': 194, 'වචනයය': 743, 'උට': 140, 'කස': 295, 'වදය': 753, 'හරක': 874, 'යග': 627, 'ඉලම': 131, 'අගන': 5, 'නවස': 496, 'කරනවඅන': 275, 'එඋ': 169, 'කරම': 280, 'ෂද': 794, 'ෂයකට': 800, 'ෂයට': 801, 'නරබ': 488, 'දනව': 429, 'එකද': 178, 'වකද': 738, 'ධක': 451, 'චත': 331, 'හදනව': 865, 'නඩත': 465, 'බලහත': 574, 'පලය': 533, 'වව': 778, 'කදව': 254, 'කවර': 292, 'අයතනය': 54, 'ඩසටහන': 385, 'අඩව': 16, 'හරහ': 875, 'දබද': 430, 'පඩ': 506, 'උෂ': 166, 'ෂත': 793, 'සපල': 825, 'හදල': 867, 'පබය': 518, 'රජක': 669, 'බට': 550, 'යනවන': 637, 'කරකර': 266, 'බරර': 564, 'ඩයස': 380, 'අතව': 23, 'බටහ': 551, 'ගඩ': 300, 'රමය': 688, 'දටම': 424, 'මටස': 587, 'සදම': 819, 'අහස': 86, 'ධම': 454, 'මටන': 586, 'ඇක': 87, 'එලක': 203, 'ඔස': 235, 'රෆ': 706, 'මහජ': 612, 'අනයන': 37, 'රවල': 698, 'පපර': 516, 'පප': 515, 'ඉලග': 130, 'ජනව': 342, 'දයඑල': 433, 'කවමද': 291, 'තවත': 410, 'අරගත': 58, 'යඇන': 618, 'ඔබන': 227, 'තරගයක': 405, 'කනව': 257, 'ථය': 419, 'සනත': 822, 'වලල': 776, 'ලදස': 717, 'තහව': 417, 'සයක': 835, 'ලකය': 710, 'එයට': 200, 'තහනම': 416, 'වහල': 786, 'අයට': 52, 'එඑ': 170, 'ලප': 722, 'වබ': 759, 'ධර': 456, 'කරද': 270, 'ෆර': 886, 'අච': 10, 'එකඑ': 172, 'උදව': 148, 'නහය': 499, 'ඔනම': 222, 'ගලක': 312, 'තටම': 392, 'පකය': 501, 'ගච': 298, 'ඉවස': 134, 'ජනපත': 340, 'අමතක': 47, 'අරහ': 62, 'පට': 503, 'හදනවන': 866, 'වගක': 741, 'අහගන': 82, 'පරබල': 527, 'ගහගත': 323, 'අරට': 59, 'උව': 165, 'ඩව': 383, 'යර': 645, 'ඇඩ': 90, 'වටය': 746, 'එජන': 186, 'අවම': 69, 'සපත': 824, 'ඇමත': 102, 'හට': 858, 'රටම': 675, 'පටල': 505, 'ඔතන': 219, 'ලකයන': 711, 'ඩයම': 379, 'මසය': 608, 'රවන': 696, 'ලනඅප': 720, 'මටහ': 588, 'සලස': 843, 'යකවර': 626, 'ඔකන': 214, 'අරන': 60, 'කඩය': 248, 'නයක': 481, 'ඉදන': 120, 'යකඩ': 622, 'මහර': 617, 'ඍජ': 168, 'කෂ': 294, 'නධර': 469, 'කවදහර': 290, 'දහසක': 449, 'බලද': 568, 'අහල': 84, 'අජ': 11, 'කබ': 259, 'ජධ': 336, 'ඩරල': 382, 'ජපස': 346, 'සජ': 812, 'අහන': 83, 'මතය': 593, 'හදන': 864, 'කලබ': 285, 'තරහ': 407, 'ටව': 363, 'අවට': 65, 'රසට': 702, 'පහරද': 543, 'යනද': 635, 'වදප': 752, 'ඔට': 217, 'එබ': 197, 'හහහ': 881, 'අකව': 3, 'පථය': 510, 'උඩතලව': 143, 'එකදවස': 179, 'රරත': 692, 'නරත': 487, 'බලපල': 571, 'ටසහ': 365, 'නඑප': 457, 'දවසක': 442, 'ගවල': 319, 'උපත': 153, 'දසත': 444, 'මහම': 616, 'ලවව': 734, 'යකය': 624, 'කචල': 242, 'රතල': 678, 'යලල': 647, 'අතර': 21, 'ඩද': 373, 'උමත': 161, 'අසය': 76, 'තඅන': 387, 'චඑක': 329, 'සහජ': 848, 'වනදන': 755, 'දහයග': 447, 'මහඑදන': 610, 'රකථන': 663, 'බලත': 567, 'කරනස': 277, 'බරපත': 563, 'වරද': 767}\n"
          ],
          "name": "stdout"
        }
      ]
    },
    {
      "cell_type": "code",
      "metadata": {
        "colab": {
          "base_uri": "https://localhost:8080/"
        },
        "id": "GVeRhRXQj7TG",
        "outputId": "1ca27791-f809-415c-d725-e93d01a612ce"
      },
      "source": [
        "confusion_matrix(y_test,predictions)"
      ],
      "execution_count": null,
      "outputs": [
        {
          "output_type": "execute_result",
          "data": {
            "text/plain": [
              "array([[23,  7,  2,  1,  3,  4],\n",
              "       [16, 12, 12,  2,  3,  3],\n",
              "       [ 6,  5, 25,  1,  2,  3],\n",
              "       [ 5,  3,  3, 28,  5,  3],\n",
              "       [ 6,  2,  3,  7, 27,  2],\n",
              "       [11,  2,  2,  2,  4, 25]])"
            ]
          },
          "metadata": {
            "tags": []
          },
          "execution_count": 197
        }
      ]
    },
    {
      "cell_type": "code",
      "metadata": {
        "colab": {
          "base_uri": "https://localhost:8080/",
          "height": 279
        },
        "id": "ONImQQXqcTt2",
        "outputId": "72b603ea-bf47-433d-b797-4d07a414cfce"
      },
      "source": [
        "import seaborn as sn\n",
        "sn.heatmap(confusion_matrix(y_test,predictions), annot=True)\n",
        "plt.xlabel('Predicted')\n",
        "plt.ylabel('Actual')\n",
        "plt.show()"
      ],
      "execution_count": null,
      "outputs": [
        {
          "output_type": "display_data",
          "data": {
            "image/png": "[encoded data removed]",
            "text/plain": [
              "<Figure size 432x288 with 2 Axes>"
            ]
          },
          "metadata": {
            "tags": [],
            "needs_background": "light"
          }
        }
      ]
    },
    {
      "cell_type": "markdown",
      "metadata": {
        "id": "7-vmIZ5WGLq4"
      },
      "source": [
        "KNN"
      ]
    },
    {
      "cell_type": "code",
      "metadata": {
        "colab": {
          "base_uri": "https://localhost:8080/"
        },
        "id": "_PmIyDyrj_34",
        "outputId": "3797a5ae-0c0e-4268-8e17-66153bf08195"
      },
      "source": [
        "classifier = KNeighborsClassifier(n_neighbors=25, p=6,metric='euclidean')\n",
        "\n",
        "classifier.fit(X_train,y_train)\n",
        "\n",
        "y_pred = classifier.predict(X_test)\n",
        "y_pred\n",
        "\n",
        "#Evaluate Model\n",
        "cm = confusion_matrix(y_test,y_pred)\n",
        "print(cm)"
      ],
      "execution_count": null,
      "outputs": [
        {
          "output_type": "stream",
          "text": [
            "[[294   0   0   0   0   0]\n",
            " [ 38   0   0   0   0   0]\n",
            " [ 44   0   0   0   0   0]\n",
            " [ 51   0   0   0   0   0]\n",
            " [ 43   0   0   0   0   0]\n",
            " [ 34   0   0   0   0   0]]\n"
          ],
          "name": "stdout"
        }
      ]
    },
    {
      "cell_type": "code",
      "metadata": {
        "colab": {
          "base_uri": "https://localhost:8080/",
          "height": 279
        },
        "id": "okriv9EtZlLN",
        "outputId": "814c9a9c-3629-49d6-bd5c-d514fcdeef67"
      },
      "source": [
        "import seaborn as sn\n",
        "sn.heatmap(cm, annot=True)\n",
        "plt.xlabel('Predicted')\n",
        "plt.ylabel('Actual')\n",
        "plt.show()"
      ],
      "execution_count": null,
      "outputs": [
        {
          "output_type": "display_data",
          "data": {
            "image/png": "[encoded data removed]",
            "text/plain": [
              "<Figure size 432x288 with 2 Axes>"
            ]
          },
          "metadata": {
            "tags": [],
            "needs_background": "light"
          }
        }
      ]
    },
    {
      "cell_type": "code",
      "metadata": {
        "id": "lYXJ_c1ctEqR",
        "colab": {
          "base_uri": "https://localhost:8080/"
        },
        "outputId": "4a3f64b1-5b47-4b87-e9f8-c416298e679a"
      },
      "source": [
        "print(f1_score(y_test, y_pred,average='micro'))\n",
        "print(accuracy_score(y_test, y_pred))"
      ],
      "execution_count": null,
      "outputs": [
        {
          "output_type": "stream",
          "text": [
            "0.5833333333333334\n",
            "0.5833333333333334\n"
          ],
          "name": "stdout"
        }
      ]
    },
    {
      "cell_type": "markdown",
      "metadata": {
        "id": "IEuCo1DWZMXW"
      },
      "source": [
        "Accuracy and loss"
      ]
    },
    {
      "cell_type": "code",
      "metadata": {
        "id": "B9P7753jYLWq"
      },
      "source": [
        "import numpy as np\n",
        "import pandas as pd\n",
        "import matplotlib.pyplot as plt\n",
        "\n",
        "import tensorflow as tf\n",
        "import keras\n",
        "from keras import models\n",
        "from keras import layers\n",
        "from keras.utils import np_utils\n",
        "\n",
        "dataset = pd.read_csv('testdata.csv')\n",
        "\n",
        "#print(dataset)\n",
        "\n",
        "X_train, X_test, y_train, y_test = train_test_split(data, Y, test_size=0.2, random_state=42)\n",
        "\n",
        "\n",
        "def build_model():\n",
        "    \n",
        "     \n",
        "    model =models.Sequential()\n",
        "\n",
        "    model.add(LogisticRegression.layers[0]\n",
        "    \n",
        "    model.add(layers.Dense(64, input_dim=X_train.shape[1], activation='relu'))\n",
        "    \n",
        "    model.add(layers.Dense(64,activation='relu'))\n",
        "    \n",
        "    model.add(layers.Dense(1))\n",
        "\n",
        "    model.compile(optimizer='adam', loss='binary_crossentropy', metrics=['accuracy'])\n",
        "    return model\n",
        "\n",
        "model = build_model()\n",
        "model.fit(X_train, y_train, epochs=300, batch_size=10, verbose=0)\n",
        "test_mse_score, test_mae_score = model.evaluate(X_test, y_test)"
      ],
      "execution_count": null,
      "outputs": []
    },
    {
      "cell_type": "code",
      "metadata": {
        "colab": {
          "base_uri": "https://localhost:8080/"
        },
        "id": "XA60zMC4b1Eo",
        "outputId": "7e61d97b-06c7-42c1-d875-1d38844fd607"
      },
      "source": [
        "#Train the model\n",
        "history = model.fit(\n",
        "   X_train, y_train, \n",
        "   batch_size = 128, \n",
        "   epochs = 100, \n",
        "   verbose = 1, \n",
        "   validation_data = (X_test, y_test)\n",
        ")"
      ],
      "execution_count": null,
      "outputs": [
        {
          "output_type": "stream",
          "text": [
            "Epoch 1/100\n",
            "11/11 [==============================] - 0s 11ms/step - loss: 2.5708 - accuracy: 0.8333 - val_loss: 2.5708 - val_accuracy: 0.8333\n",
            "Epoch 2/100\n",
            "11/11 [==============================] - 0s 6ms/step - loss: 2.5708 - accuracy: 0.8333 - val_loss: 2.5708 - val_accuracy: 0.8333\n",
            "Epoch 3/100\n",
            "11/11 [==============================] - 0s 6ms/step - loss: 2.5708 - accuracy: 0.8333 - val_loss: 2.5708 - val_accuracy: 0.8333\n",
            "Epoch 4/100\n",
            "11/11 [==============================] - 0s 6ms/step - loss: 2.5708 - accuracy: 0.8333 - val_loss: 2.5708 - val_accuracy: 0.8333\n",
            "Epoch 5/100\n",
            "11/11 [==============================] - 0s 7ms/step - loss: 2.5708 - accuracy: 0.8333 - val_loss: 2.5708 - val_accuracy: 0.8333\n",
            "Epoch 6/100\n",
            "11/11 [==============================] - 0s 7ms/step - loss: 2.5708 - accuracy: 0.8333 - val_loss: 2.5708 - val_accuracy: 0.8333\n",
            "Epoch 7/100\n",
            "11/11 [==============================] - 0s 7ms/step - loss: 2.5708 - accuracy: 0.8333 - val_loss: 2.5708 - val_accuracy: 0.8333\n",
            "Epoch 8/100\n",
            "11/11 [==============================] - 0s 9ms/step - loss: 2.5708 - accuracy: 0.8333 - val_loss: 2.5708 - val_accuracy: 0.8333\n",
            "Epoch 9/100\n",
            "11/11 [==============================] - 0s 7ms/step - loss: 2.5708 - accuracy: 0.8333 - val_loss: 2.5708 - val_accuracy: 0.8333\n",
            "Epoch 10/100\n",
            "11/11 [==============================] - 0s 7ms/step - loss: 2.5708 - accuracy: 0.8333 - val_loss: 2.5708 - val_accuracy: 0.8333\n",
            "Epoch 11/100\n",
            "11/11 [==============================] - 0s 7ms/step - loss: 2.5708 - accuracy: 0.8333 - val_loss: 2.5708 - val_accuracy: 0.8333\n",
            "Epoch 12/100\n",
            "11/11 [==============================] - 0s 7ms/step - loss: 2.5708 - accuracy: 0.8333 - val_loss: 2.5708 - val_accuracy: 0.8333\n",
            "Epoch 13/100\n",
            "11/11 [==============================] - 0s 6ms/step - loss: 2.5708 - accuracy: 0.8333 - val_loss: 2.5708 - val_accuracy: 0.8333\n",
            "Epoch 14/100\n",
            "11/11 [==============================] - 0s 6ms/step - loss: 2.5708 - accuracy: 0.8333 - val_loss: 2.5708 - val_accuracy: 0.8333\n",
            "Epoch 15/100\n",
            "11/11 [==============================] - 0s 6ms/step - loss: 2.5708 - accuracy: 0.8333 - val_loss: 2.5708 - val_accuracy: 0.8333\n",
            "Epoch 16/100\n",
            "11/11 [==============================] - 0s 6ms/step - loss: 2.5708 - accuracy: 0.8333 - val_loss: 2.5708 - val_accuracy: 0.8333\n",
            "Epoch 17/100\n",
            "11/11 [==============================] - 0s 6ms/step - loss: 2.5708 - accuracy: 0.8333 - val_loss: 2.5708 - val_accuracy: 0.8333\n",
            "Epoch 18/100\n",
            "11/11 [==============================] - 0s 7ms/step - loss: 2.5708 - accuracy: 0.8333 - val_loss: 2.5708 - val_accuracy: 0.8333\n",
            "Epoch 19/100\n",
            "11/11 [==============================] - 0s 6ms/step - loss: 2.5708 - accuracy: 0.8333 - val_loss: 2.5708 - val_accuracy: 0.8333\n",
            "Epoch 20/100\n",
            "11/11 [==============================] - 0s 7ms/step - loss: 2.5708 - accuracy: 0.8333 - val_loss: 2.5708 - val_accuracy: 0.8333\n",
            "Epoch 21/100\n",
            "11/11 [==============================] - 0s 6ms/step - loss: 2.5708 - accuracy: 0.8333 - val_loss: 2.5708 - val_accuracy: 0.8333\n",
            "Epoch 22/100\n",
            "11/11 [==============================] - 0s 6ms/step - loss: 2.5708 - accuracy: 0.8333 - val_loss: 2.5708 - val_accuracy: 0.8333\n",
            "Epoch 23/100\n",
            "11/11 [==============================] - 0s 7ms/step - loss: 2.5708 - accuracy: 0.8333 - val_loss: 2.5708 - val_accuracy: 0.8333\n",
            "Epoch 24/100\n",
            "11/11 [==============================] - 0s 7ms/step - loss: 2.5708 - accuracy: 0.8333 - val_loss: 2.5708 - val_accuracy: 0.8333\n",
            "Epoch 25/100\n",
            "11/11 [==============================] - 0s 7ms/step - loss: 2.5708 - accuracy: 0.8333 - val_loss: 2.5708 - val_accuracy: 0.8333\n",
            "Epoch 26/100\n",
            "11/11 [==============================] - 0s 7ms/step - loss: 2.5708 - accuracy: 0.8333 - val_loss: 2.5708 - val_accuracy: 0.8333\n",
            "Epoch 27/100\n",
            "11/11 [==============================] - 0s 7ms/step - loss: 2.5708 - accuracy: 0.8333 - val_loss: 2.5708 - val_accuracy: 0.8333\n",
            "Epoch 28/100\n",
            "11/11 [==============================] - 0s 7ms/step - loss: 2.5708 - accuracy: 0.8333 - val_loss: 2.5708 - val_accuracy: 0.8333\n",
            "Epoch 29/100\n",
            "11/11 [==============================] - 0s 7ms/step - loss: 2.5708 - accuracy: 0.8333 - val_loss: 2.5708 - val_accuracy: 0.8333\n",
            "Epoch 30/100\n",
            "11/11 [==============================] - 0s 6ms/step - loss: 2.5708 - accuracy: 0.8333 - val_loss: 2.5708 - val_accuracy: 0.8333\n",
            "Epoch 31/100\n",
            "11/11 [==============================] - 0s 8ms/step - loss: 2.5708 - accuracy: 0.8333 - val_loss: 2.5708 - val_accuracy: 0.8333\n",
            "Epoch 32/100\n",
            "11/11 [==============================] - 0s 6ms/step - loss: 2.5708 - accuracy: 0.8333 - val_loss: 2.5708 - val_accuracy: 0.8333\n",
            "Epoch 33/100\n",
            "11/11 [==============================] - 0s 7ms/step - loss: 2.5708 - accuracy: 0.8333 - val_loss: 2.5708 - val_accuracy: 0.8333\n",
            "Epoch 34/100\n",
            "11/11 [==============================] - 0s 8ms/step - loss: 2.5708 - accuracy: 0.8333 - val_loss: 2.5708 - val_accuracy: 0.8333\n",
            "Epoch 35/100\n",
            "11/11 [==============================] - 0s 8ms/step - loss: 2.5708 - accuracy: 0.8333 - val_loss: 2.5708 - val_accuracy: 0.8333\n",
            "Epoch 36/100\n",
            "11/11 [==============================] - 0s 7ms/step - loss: 2.5708 - accuracy: 0.8333 - val_loss: 2.5708 - val_accuracy: 0.8333\n",
            "Epoch 37/100\n",
            "11/11 [==============================] - 0s 7ms/step - loss: 2.5708 - accuracy: 0.8333 - val_loss: 2.5708 - val_accuracy: 0.8333\n",
            "Epoch 38/100\n",
            "11/11 [==============================] - 0s 8ms/step - loss: 2.5708 - accuracy: 0.8333 - val_loss: 2.5708 - val_accuracy: 0.8333\n",
            "Epoch 39/100\n",
            "11/11 [==============================] - 0s 7ms/step - loss: 2.5708 - accuracy: 0.8333 - val_loss: 2.5708 - val_accuracy: 0.8333\n",
            "Epoch 40/100\n",
            "11/11 [==============================] - 0s 6ms/step - loss: 2.5708 - accuracy: 0.8333 - val_loss: 2.5708 - val_accuracy: 0.8333\n",
            "Epoch 41/100\n",
            "11/11 [==============================] - 0s 6ms/step - loss: 2.5708 - accuracy: 0.8333 - val_loss: 2.5708 - val_accuracy: 0.8333\n",
            "Epoch 42/100\n",
            "11/11 [==============================] - 0s 7ms/step - loss: 2.5708 - accuracy: 0.8333 - val_loss: 2.5708 - val_accuracy: 0.8333\n",
            "Epoch 43/100\n",
            "11/11 [==============================] - 0s 8ms/step - loss: 2.5708 - accuracy: 0.8333 - val_loss: 2.5708 - val_accuracy: 0.8333\n",
            "Epoch 44/100\n",
            "11/11 [==============================] - 0s 8ms/step - loss: 2.5708 - accuracy: 0.8333 - val_loss: 2.5708 - val_accuracy: 0.8333\n",
            "Epoch 45/100\n",
            "11/11 [==============================] - 0s 8ms/step - loss: 2.5708 - accuracy: 0.8333 - val_loss: 2.5708 - val_accuracy: 0.8333\n",
            "Epoch 46/100\n",
            "11/11 [==============================] - 0s 7ms/step - loss: 2.5708 - accuracy: 0.8333 - val_loss: 2.5708 - val_accuracy: 0.8333\n",
            "Epoch 47/100\n",
            "11/11 [==============================] - 0s 7ms/step - loss: 2.5708 - accuracy: 0.8333 - val_loss: 2.5708 - val_accuracy: 0.8333\n",
            "Epoch 48/100\n",
            "11/11 [==============================] - 0s 6ms/step - loss: 2.5708 - accuracy: 0.8333 - val_loss: 2.5708 - val_accuracy: 0.8333\n",
            "Epoch 49/100\n",
            "11/11 [==============================] - 0s 7ms/step - loss: 2.5708 - accuracy: 0.8333 - val_loss: 2.5708 - val_accuracy: 0.8333\n",
            "Epoch 50/100\n",
            "11/11 [==============================] - 0s 7ms/step - loss: 2.5708 - accuracy: 0.8333 - val_loss: 2.5708 - val_accuracy: 0.8333\n",
            "Epoch 51/100\n",
            "11/11 [==============================] - 0s 6ms/step - loss: 2.5708 - accuracy: 0.8333 - val_loss: 2.5708 - val_accuracy: 0.8333\n",
            "Epoch 52/100\n",
            "11/11 [==============================] - 0s 6ms/step - loss: 2.5708 - accuracy: 0.8333 - val_loss: 2.5708 - val_accuracy: 0.8333\n",
            "Epoch 53/100\n",
            "11/11 [==============================] - 0s 7ms/step - loss: 2.5708 - accuracy: 0.8333 - val_loss: 2.5708 - val_accuracy: 0.8333\n",
            "Epoch 54/100\n",
            "11/11 [==============================] - 0s 7ms/step - loss: 2.5708 - accuracy: 0.8333 - val_loss: 2.5708 - val_accuracy: 0.8333\n",
            "Epoch 55/100\n",
            "11/11 [==============================] - 0s 7ms/step - loss: 2.5708 - accuracy: 0.8333 - val_loss: 2.5708 - val_accuracy: 0.8333\n",
            "Epoch 56/100\n",
            "11/11 [==============================] - 0s 8ms/step - loss: 2.5708 - accuracy: 0.8333 - val_loss: 2.5708 - val_accuracy: 0.8333\n",
            "Epoch 57/100\n",
            "11/11 [==============================] - 0s 7ms/step - loss: 2.5708 - accuracy: 0.8333 - val_loss: 2.5708 - val_accuracy: 0.8333\n",
            "Epoch 58/100\n",
            "11/11 [==============================] - 0s 7ms/step - loss: 2.5708 - accuracy: 0.8333 - val_loss: 2.5708 - val_accuracy: 0.8333\n",
            "Epoch 59/100\n",
            "11/11 [==============================] - 0s 7ms/step - loss: 2.5708 - accuracy: 0.8333 - val_loss: 2.5708 - val_accuracy: 0.8333\n",
            "Epoch 60/100\n",
            "11/11 [==============================] - 0s 6ms/step - loss: 2.5708 - accuracy: 0.8333 - val_loss: 2.5708 - val_accuracy: 0.8333\n",
            "Epoch 61/100\n",
            "11/11 [==============================] - 0s 8ms/step - loss: 2.5708 - accuracy: 0.8333 - val_loss: 2.5708 - val_accuracy: 0.8333\n",
            "Epoch 62/100\n",
            "11/11 [==============================] - 0s 8ms/step - loss: 2.5708 - accuracy: 0.8333 - val_loss: 2.5708 - val_accuracy: 0.8333\n",
            "Epoch 63/100\n",
            "11/11 [==============================] - 0s 8ms/step - loss: 2.5708 - accuracy: 0.8333 - val_loss: 2.5708 - val_accuracy: 0.8333\n",
            "Epoch 64/100\n",
            "11/11 [==============================] - 0s 7ms/step - loss: 2.5708 - accuracy: 0.8333 - val_loss: 2.5708 - val_accuracy: 0.8333\n",
            "Epoch 65/100\n",
            "11/11 [==============================] - 0s 7ms/step - loss: 2.5708 - accuracy: 0.8333 - val_loss: 2.5708 - val_accuracy: 0.8333\n",
            "Epoch 66/100\n",
            "11/11 [==============================] - 0s 7ms/step - loss: 2.5708 - accuracy: 0.8333 - val_loss: 2.5708 - val_accuracy: 0.8333\n",
            "Epoch 67/100\n",
            "11/11 [==============================] - 0s 7ms/step - loss: 2.5708 - accuracy: 0.8333 - val_loss: 2.5708 - val_accuracy: 0.8333\n",
            "Epoch 68/100\n",
            "11/11 [==============================] - 0s 7ms/step - loss: 2.5708 - accuracy: 0.8333 - val_loss: 2.5708 - val_accuracy: 0.8333\n",
            "Epoch 69/100\n",
            "11/11 [==============================] - 0s 8ms/step - loss: 2.5708 - accuracy: 0.8333 - val_loss: 2.5708 - val_accuracy: 0.8333\n",
            "Epoch 70/100\n",
            "11/11 [==============================] - 0s 8ms/step - loss: 2.5708 - accuracy: 0.8333 - val_loss: 2.5708 - val_accuracy: 0.8333\n",
            "Epoch 71/100\n",
            "11/11 [==============================] - 0s 7ms/step - loss: 2.5708 - accuracy: 0.8333 - val_loss: 2.5708 - val_accuracy: 0.8333\n",
            "Epoch 72/100\n",
            "11/11 [==============================] - 0s 7ms/step - loss: 2.5708 - accuracy: 0.8333 - val_loss: 2.5708 - val_accuracy: 0.8333\n",
            "Epoch 73/100\n",
            "11/11 [==============================] - 0s 7ms/step - loss: 2.5708 - accuracy: 0.8333 - val_loss: 2.5708 - val_accuracy: 0.8333\n",
            "Epoch 74/100\n",
            "11/11 [==============================] - 0s 7ms/step - loss: 2.5708 - accuracy: 0.8333 - val_loss: 2.5708 - val_accuracy: 0.8333\n",
            "Epoch 75/100\n",
            "11/11 [==============================] - 0s 7ms/step - loss: 2.5708 - accuracy: 0.8333 - val_loss: 2.5708 - val_accuracy: 0.8333\n",
            "Epoch 76/100\n",
            "11/11 [==============================] - 0s 6ms/step - loss: 2.5708 - accuracy: 0.8333 - val_loss: 2.5708 - val_accuracy: 0.8333\n",
            "Epoch 77/100\n",
            "11/11 [==============================] - 0s 7ms/step - loss: 2.5708 - accuracy: 0.8333 - val_loss: 2.5708 - val_accuracy: 0.8333\n",
            "Epoch 78/100\n",
            "11/11 [==============================] - 0s 7ms/step - loss: 2.5708 - accuracy: 0.8333 - val_loss: 2.5708 - val_accuracy: 0.8333\n",
            "Epoch 79/100\n",
            "11/11 [==============================] - 0s 7ms/step - loss: 2.5708 - accuracy: 0.8333 - val_loss: 2.5708 - val_accuracy: 0.8333\n",
            "Epoch 80/100\n",
            "11/11 [==============================] - 0s 7ms/step - loss: 2.5708 - accuracy: 0.8333 - val_loss: 2.5708 - val_accuracy: 0.8333\n",
            "Epoch 81/100\n",
            "11/11 [==============================] - 0s 8ms/step - loss: 2.5708 - accuracy: 0.8333 - val_loss: 2.5708 - val_accuracy: 0.8333\n",
            "Epoch 82/100\n",
            "11/11 [==============================] - 0s 7ms/step - loss: 2.5708 - accuracy: 0.8333 - val_loss: 2.5708 - val_accuracy: 0.8333\n",
            "Epoch 83/100\n",
            "11/11 [==============================] - 0s 7ms/step - loss: 2.5708 - accuracy: 0.8333 - val_loss: 2.5708 - val_accuracy: 0.8333\n",
            "Epoch 84/100\n",
            "11/11 [==============================] - 0s 7ms/step - loss: 2.5708 - accuracy: 0.8333 - val_loss: 2.5708 - val_accuracy: 0.8333\n",
            "Epoch 85/100\n",
            "11/11 [==============================] - 0s 7ms/step - loss: 2.5708 - accuracy: 0.8333 - val_loss: 2.5708 - val_accuracy: 0.8333\n",
            "Epoch 86/100\n",
            "11/11 [==============================] - 0s 6ms/step - loss: 2.5708 - accuracy: 0.8333 - val_loss: 2.5708 - val_accuracy: 0.8333\n",
            "Epoch 87/100\n",
            "11/11 [==============================] - 0s 7ms/step - loss: 2.5708 - accuracy: 0.8333 - val_loss: 2.5708 - val_accuracy: 0.8333\n",
            "Epoch 88/100\n",
            "11/11 [==============================] - 0s 9ms/step - loss: 2.5708 - accuracy: 0.8333 - val_loss: 2.5708 - val_accuracy: 0.8333\n",
            "Epoch 89/100\n",
            "11/11 [==============================] - 0s 7ms/step - loss: 2.5708 - accuracy: 0.8333 - val_loss: 2.5708 - val_accuracy: 0.8333\n",
            "Epoch 90/100\n",
            "11/11 [==============================] - 0s 8ms/step - loss: 2.5708 - accuracy: 0.8333 - val_loss: 2.5708 - val_accuracy: 0.8333\n",
            "Epoch 91/100\n",
            "11/11 [==============================] - 0s 8ms/step - loss: 2.5708 - accuracy: 0.8333 - val_loss: 2.5708 - val_accuracy: 0.8333\n",
            "Epoch 92/100\n",
            "11/11 [==============================] - 0s 7ms/step - loss: 2.5708 - accuracy: 0.8333 - val_loss: 2.5708 - val_accuracy: 0.8333\n",
            "Epoch 93/100\n",
            "11/11 [==============================] - 0s 8ms/step - loss: 2.5708 - accuracy: 0.8333 - val_loss: 2.5708 - val_accuracy: 0.8333\n",
            "Epoch 94/100\n",
            "11/11 [==============================] - 0s 7ms/step - loss: 2.5708 - accuracy: 0.8333 - val_loss: 2.5708 - val_accuracy: 0.8333\n",
            "Epoch 95/100\n",
            "11/11 [==============================] - 0s 7ms/step - loss: 2.5708 - accuracy: 0.8333 - val_loss: 2.5708 - val_accuracy: 0.8333\n",
            "Epoch 96/100\n",
            "11/11 [==============================] - 0s 7ms/step - loss: 2.5708 - accuracy: 0.8333 - val_loss: 2.5708 - val_accuracy: 0.8333\n",
            "Epoch 97/100\n",
            "11/11 [==============================] - 0s 7ms/step - loss: 2.5708 - accuracy: 0.8333 - val_loss: 2.5708 - val_accuracy: 0.8333\n",
            "Epoch 98/100\n",
            "11/11 [==============================] - 0s 8ms/step - loss: 2.5708 - accuracy: 0.8333 - val_loss: 2.5708 - val_accuracy: 0.8333\n",
            "Epoch 99/100\n",
            "11/11 [==============================] - 0s 8ms/step - loss: 2.5708 - accuracy: 0.8333 - val_loss: 2.5708 - val_accuracy: 0.8333\n",
            "Epoch 100/100\n",
            "11/11 [==============================] - 0s 7ms/step - loss: 2.5708 - accuracy: 0.8333 - val_loss: 2.5708 - val_accuracy: 0.8333\n"
          ],
          "name": "stdout"
        }
      ]
    },
    {
      "cell_type": "code",
      "metadata": {
        "colab": {
          "base_uri": "https://localhost:8080/"
        },
        "id": "2pw2U4GAfURj",
        "outputId": "a4828409-099a-48a4-bd3f-06abdd8a0210"
      },
      "source": [
        "print(history.history.keys()) "
      ],
      "execution_count": null,
      "outputs": [
        {
          "output_type": "stream",
          "text": [
            "dict_keys(['loss', 'accuracy', 'val_loss', 'val_accuracy'])\n"
          ],
          "name": "stdout"
        }
      ]
    }
  ]
}